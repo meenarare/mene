{
 "cells": [
  {
   "cell_type": "markdown",
   "metadata": {},
   "source": [
    "# Analysis twitter"
   ]
  },
  {
   "cell_type": "code",
   "execution_count": 1,
   "metadata": {},
   "outputs": [
    {
     "output_type": "display_data",
     "data": {
      "text/html": "        <script type=\"text/javascript\">\n        window.PlotlyConfig = {MathJaxConfig: 'local'};\n        if (window.MathJax) {MathJax.Hub.Config({SVG: {font: \"STIX-Web\"}});}\n        if (typeof require !== 'undefined') {\n        require.undef(\"plotly\");\n        requirejs.config({\n            paths: {\n                'plotly': ['https://cdn.plot.ly/plotly-latest.min']\n            }\n        });\n        require(['plotly'], function(Plotly) {\n            window._Plotly = Plotly;\n        });\n        }\n        </script>\n        "
     },
     "metadata": {}
    }
   ],
   "source": [
    "import pandas as pd \n",
    "import numpy as np \n",
    "\n",
    "# plotting packages\n",
    "import matplotlib.pyplot as plt\n",
    "import seaborn as sns\n",
    "import matplotlib as mpl\n",
    "%matplotlib inline\n",
    "plt.rcParams['font.family'] = 'tahoma'\n",
    "\n",
    "from plotly import tools\n",
    "import plotly.offline as py\n",
    "import plotly.figure_factory as ff\n",
    "py.init_notebook_mode(connected=True)\n",
    "import plotly.graph_objs as go\n"
   ]
  },
  {
   "cell_type": "code",
   "execution_count": 2,
   "metadata": {},
   "outputs": [],
   "source": [
    "df = pd.read_excel('/Users/admin/Downloads/0101/data_tw_topic.xlsx')"
   ]
  },
  {
   "cell_type": "code",
   "execution_count": 3,
   "metadata": {},
   "outputs": [
    {
     "output_type": "execute_result",
     "data": {
      "text/plain": [
       "           Username            Datetime  Retweet count  Favorite count  \\\n",
       "0       FWPthailand 2019-03-23 09:16:13           2032            2742   \n",
       "1       FWPthailand 2019-03-22 17:09:15           3365            2937   \n",
       "2       FWPthailand 2019-03-22 15:21:36           8662            4627   \n",
       "3       FWPthailand 2019-03-22 14:59:13              0               0   \n",
       "4       FWPthailand 2019-03-22 14:39:17            727             757   \n",
       "...             ...                 ...            ...             ...   \n",
       "1124       paritw92 2019-02-04 05:18:59            296             383   \n",
       "1125       paritw92 2019-02-01 08:41:50            463             320   \n",
       "1126  RangsimanRome 2019-02-11 11:25:45             86              94   \n",
       "1127  RangsimanRome 2019-02-08 11:01:23             46              27   \n",
       "1128  RangsimanRome 2019-02-08 11:00:23            196              52   \n",
       "\n",
       "                                                   Text         Party  \\\n",
       "0     เลือก #อนาคตใหม่ อย่าให้ประเทศไทย กลับไปเหมือน...     อนาคตใหม่   \n",
       "1     ขอขอบคุณทุกท่าน...อย่าลืม 24 มีนากาอนาคตใหม่ อ...     อนาคตใหม่   \n",
       "2     \"เราคือคนที่ไม่ยอมอยู่ในสังคมที่ไม่เป็นธรรมแบบ...     อนาคตใหม่   \n",
       "3     เราจะเอาการเลือกตั้ง 24 มีนา เป็นเครื่องมือในก...     อนาคตใหม่   \n",
       "4     ธนาธร จึงรุ่งเรืองกิจ หัวหน้าพรรคอนาคตใหม่ ขึ้...     อนาคตใหม่   \n",
       "...                                                 ...           ...   \n",
       "1124  เบอร์ 8 นะครับ!\\n\\n(มีผู้สมัครเอกสารไม่ครบ เบอ...  ประชาธิปัตย์   \n",
       "1125  ตั้งใจทำการเมืองอย่างสร้างสรรค์ วันแรกก็โดนซะแ...  ประชาธิปัตย์   \n",
       "1126  เมื่อ 2 วันก่อน ผมมีโอกาสไปช่วยผู้สมัครลงพื้นท...     อนาคตใหม่   \n",
       "1127  #อนาคตใหม่ ไม่เคยเจรจาต่อรองใดๆกับคุณประยุทธ จ...     อนาคตใหม่   \n",
       "1128  #อนาคตใหม่ อย่ามากังวลเลยว่าพรรคอนาคตใหม่จะไปร...     อนาคตใหม่   \n",
       "\n",
       "                                                  tweet  \\\n",
       "0              เลือก อย่าให้ประเทศไทย กลับไปเหมือนเดิม    \n",
       "1     ขอขอบคุณทุกท่าน อย่าลืม  มีนากาอนาคตใหม่ อย่าใ...   \n",
       "2      เราคือคนที่ไม่ยอมอยู่ในสังคมที่ไม่เป็นธรรมแบบ...   \n",
       "3     เราจะเอาการเลือกตั้ง  มีนา เป็นเครื่องมือในการ...   \n",
       "4     ธนาธร จึงรุ่งเรืองกิจ หัวหน้าพรรคอนาคตใหม่ ขึ้...   \n",
       "...                                                 ...   \n",
       "1124  เบอร์  นะครับ มีผู้สมัครเอกสารไม่ครบ เบอร์เลยเ...   \n",
       "1125  ตั้งใจทำการเมืองอย่างสร้างสรรค์ วันแรกก็โดนซะแ...   \n",
       "1126  เมื่อ  วันก่อน ผมมีโอกาสไปช่วยผู้สมัครลงพื้นที...   \n",
       "1127   ไม่เคยเจรจาต่อรองใดๆกับคุณประยุทธ จันทร์โอชา ...   \n",
       "1128   อย่ามากังวลเลยว่าพรรคอนาคตใหม่จะไปร่วมงานกับพ...   \n",
       "\n",
       "                                     topic  Engagement  \n",
       "0                                ขาย ธนาธร        4774  \n",
       "1                  นโยบายเศรษฐกิจและภาคใต้        6302  \n",
       "2            บันทึกการเดินทางของลูกทีมพรรค       13289  \n",
       "3            บันทึกการเดินทางของลูกทีมพรรค           0  \n",
       "4            บันทึกการเดินทางของลูกทีมพรรค        1484  \n",
       "...                                    ...         ...  \n",
       "1124                หาเสียง น่าจะ กรณ์ พูด         679  \n",
       "1125  ปราศรัยหาเสียง ปัญหาที่เจอตอนหาเสียง         783  \n",
       "1126             แนะนำแกนนำ และดาราของพรรค         180  \n",
       "1127         บันทึกการเดินทางของลูกทีมพรรค          73  \n",
       "1128                         ขายฝันของพรรค         248  \n",
       "\n",
       "[1129 rows x 9 columns]"
      ],
      "text/html": "<div>\n<style scoped>\n    .dataframe tbody tr th:only-of-type {\n        vertical-align: middle;\n    }\n\n    .dataframe tbody tr th {\n        vertical-align: top;\n    }\n\n    .dataframe thead th {\n        text-align: right;\n    }\n</style>\n<table border=\"1\" class=\"dataframe\">\n  <thead>\n    <tr style=\"text-align: right;\">\n      <th></th>\n      <th>Username</th>\n      <th>Datetime</th>\n      <th>Retweet count</th>\n      <th>Favorite count</th>\n      <th>Text</th>\n      <th>Party</th>\n      <th>tweet</th>\n      <th>topic</th>\n      <th>Engagement</th>\n    </tr>\n  </thead>\n  <tbody>\n    <tr>\n      <th>0</th>\n      <td>FWPthailand</td>\n      <td>2019-03-23 09:16:13</td>\n      <td>2032</td>\n      <td>2742</td>\n      <td>เลือก #อนาคตใหม่ อย่าให้ประเทศไทย กลับไปเหมือน...</td>\n      <td>อนาคตใหม่</td>\n      <td>เลือก อย่าให้ประเทศไทย กลับไปเหมือนเดิม</td>\n      <td>ขาย ธนาธร</td>\n      <td>4774</td>\n    </tr>\n    <tr>\n      <th>1</th>\n      <td>FWPthailand</td>\n      <td>2019-03-22 17:09:15</td>\n      <td>3365</td>\n      <td>2937</td>\n      <td>ขอขอบคุณทุกท่าน...อย่าลืม 24 มีนากาอนาคตใหม่ อ...</td>\n      <td>อนาคตใหม่</td>\n      <td>ขอขอบคุณทุกท่าน อย่าลืม  มีนากาอนาคตใหม่ อย่าใ...</td>\n      <td>นโยบายเศรษฐกิจและภาคใต้</td>\n      <td>6302</td>\n    </tr>\n    <tr>\n      <th>2</th>\n      <td>FWPthailand</td>\n      <td>2019-03-22 15:21:36</td>\n      <td>8662</td>\n      <td>4627</td>\n      <td>\"เราคือคนที่ไม่ยอมอยู่ในสังคมที่ไม่เป็นธรรมแบบ...</td>\n      <td>อนาคตใหม่</td>\n      <td>เราคือคนที่ไม่ยอมอยู่ในสังคมที่ไม่เป็นธรรมแบบ...</td>\n      <td>บันทึกการเดินทางของลูกทีมพรรค</td>\n      <td>13289</td>\n    </tr>\n    <tr>\n      <th>3</th>\n      <td>FWPthailand</td>\n      <td>2019-03-22 14:59:13</td>\n      <td>0</td>\n      <td>0</td>\n      <td>เราจะเอาการเลือกตั้ง 24 มีนา เป็นเครื่องมือในก...</td>\n      <td>อนาคตใหม่</td>\n      <td>เราจะเอาการเลือกตั้ง  มีนา เป็นเครื่องมือในการ...</td>\n      <td>บันทึกการเดินทางของลูกทีมพรรค</td>\n      <td>0</td>\n    </tr>\n    <tr>\n      <th>4</th>\n      <td>FWPthailand</td>\n      <td>2019-03-22 14:39:17</td>\n      <td>727</td>\n      <td>757</td>\n      <td>ธนาธร จึงรุ่งเรืองกิจ หัวหน้าพรรคอนาคตใหม่ ขึ้...</td>\n      <td>อนาคตใหม่</td>\n      <td>ธนาธร จึงรุ่งเรืองกิจ หัวหน้าพรรคอนาคตใหม่ ขึ้...</td>\n      <td>บันทึกการเดินทางของลูกทีมพรรค</td>\n      <td>1484</td>\n    </tr>\n    <tr>\n      <th>...</th>\n      <td>...</td>\n      <td>...</td>\n      <td>...</td>\n      <td>...</td>\n      <td>...</td>\n      <td>...</td>\n      <td>...</td>\n      <td>...</td>\n      <td>...</td>\n    </tr>\n    <tr>\n      <th>1124</th>\n      <td>paritw92</td>\n      <td>2019-02-04 05:18:59</td>\n      <td>296</td>\n      <td>383</td>\n      <td>เบอร์ 8 นะครับ!\\n\\n(มีผู้สมัครเอกสารไม่ครบ เบอ...</td>\n      <td>ประชาธิปัตย์</td>\n      <td>เบอร์  นะครับ มีผู้สมัครเอกสารไม่ครบ เบอร์เลยเ...</td>\n      <td>หาเสียง น่าจะ กรณ์ พูด</td>\n      <td>679</td>\n    </tr>\n    <tr>\n      <th>1125</th>\n      <td>paritw92</td>\n      <td>2019-02-01 08:41:50</td>\n      <td>463</td>\n      <td>320</td>\n      <td>ตั้งใจทำการเมืองอย่างสร้างสรรค์ วันแรกก็โดนซะแ...</td>\n      <td>ประชาธิปัตย์</td>\n      <td>ตั้งใจทำการเมืองอย่างสร้างสรรค์ วันแรกก็โดนซะแ...</td>\n      <td>ปราศรัยหาเสียง ปัญหาที่เจอตอนหาเสียง</td>\n      <td>783</td>\n    </tr>\n    <tr>\n      <th>1126</th>\n      <td>RangsimanRome</td>\n      <td>2019-02-11 11:25:45</td>\n      <td>86</td>\n      <td>94</td>\n      <td>เมื่อ 2 วันก่อน ผมมีโอกาสไปช่วยผู้สมัครลงพื้นท...</td>\n      <td>อนาคตใหม่</td>\n      <td>เมื่อ  วันก่อน ผมมีโอกาสไปช่วยผู้สมัครลงพื้นที...</td>\n      <td>แนะนำแกนนำ และดาราของพรรค</td>\n      <td>180</td>\n    </tr>\n    <tr>\n      <th>1127</th>\n      <td>RangsimanRome</td>\n      <td>2019-02-08 11:01:23</td>\n      <td>46</td>\n      <td>27</td>\n      <td>#อนาคตใหม่ ไม่เคยเจรจาต่อรองใดๆกับคุณประยุทธ จ...</td>\n      <td>อนาคตใหม่</td>\n      <td>ไม่เคยเจรจาต่อรองใดๆกับคุณประยุทธ จันทร์โอชา ...</td>\n      <td>บันทึกการเดินทางของลูกทีมพรรค</td>\n      <td>73</td>\n    </tr>\n    <tr>\n      <th>1128</th>\n      <td>RangsimanRome</td>\n      <td>2019-02-08 11:00:23</td>\n      <td>196</td>\n      <td>52</td>\n      <td>#อนาคตใหม่ อย่ามากังวลเลยว่าพรรคอนาคตใหม่จะไปร...</td>\n      <td>อนาคตใหม่</td>\n      <td>อย่ามากังวลเลยว่าพรรคอนาคตใหม่จะไปร่วมงานกับพ...</td>\n      <td>ขายฝันของพรรค</td>\n      <td>248</td>\n    </tr>\n  </tbody>\n</table>\n<p>1129 rows × 9 columns</p>\n</div>"
     },
     "metadata": {},
     "execution_count": 3
    }
   ],
   "source": [
    "df = df.drop(columns='Unnamed: 0')\n",
    "df['Engagement'] = df['Retweet count'] + df['Favorite count']\n",
    "df"
   ]
  },
  {
   "cell_type": "code",
   "execution_count": 4,
   "metadata": {},
   "outputs": [
    {
     "output_type": "display_data",
     "data": {
      "application/vnd.plotly.v1+json": {
       "config": {
        "linkText": "Export to plot.ly",
        "plotlyServerURL": "https://plot.ly",
        "showLink": false
       },
       "data": [
        {
         "marker": {
          "color": "rgba(200, 74, 55, 0.5)",
          "line": {
           "color": "rgb(0,0,0)",
           "width": 1.5
          }
         },
         "name": "Number of tweet in dataset",
         "type": "bar",
         "x": [
          "เศรษฐกิจใหม่",
          "อนาคตใหม่",
          "พลังประชารัฐ",
          "ประชาธิปัตย์",
          "เพื่อไทย",
          "ชาติไทยพัฒนา",
          "รวมพลังประชาชาติไทย"
         ],
         "y": [
          268,
          258,
          228,
          161,
          157,
          29,
          28
         ]
        }
       ],
       "layout": {
        "barmode": "group",
        "template": {
         "data": {
          "bar": [
           {
            "error_x": {
             "color": "#2a3f5f"
            },
            "error_y": {
             "color": "#2a3f5f"
            },
            "marker": {
             "line": {
              "color": "#E5ECF6",
              "width": 0.5
             }
            },
            "type": "bar"
           }
          ],
          "barpolar": [
           {
            "marker": {
             "line": {
              "color": "#E5ECF6",
              "width": 0.5
             }
            },
            "type": "barpolar"
           }
          ],
          "carpet": [
           {
            "aaxis": {
             "endlinecolor": "#2a3f5f",
             "gridcolor": "white",
             "linecolor": "white",
             "minorgridcolor": "white",
             "startlinecolor": "#2a3f5f"
            },
            "baxis": {
             "endlinecolor": "#2a3f5f",
             "gridcolor": "white",
             "linecolor": "white",
             "minorgridcolor": "white",
             "startlinecolor": "#2a3f5f"
            },
            "type": "carpet"
           }
          ],
          "choropleth": [
           {
            "colorbar": {
             "outlinewidth": 0,
             "ticks": ""
            },
            "type": "choropleth"
           }
          ],
          "contour": [
           {
            "colorbar": {
             "outlinewidth": 0,
             "ticks": ""
            },
            "colorscale": [
             [
              0,
              "#0d0887"
             ],
             [
              0.1111111111111111,
              "#46039f"
             ],
             [
              0.2222222222222222,
              "#7201a8"
             ],
             [
              0.3333333333333333,
              "#9c179e"
             ],
             [
              0.4444444444444444,
              "#bd3786"
             ],
             [
              0.5555555555555556,
              "#d8576b"
             ],
             [
              0.6666666666666666,
              "#ed7953"
             ],
             [
              0.7777777777777778,
              "#fb9f3a"
             ],
             [
              0.8888888888888888,
              "#fdca26"
             ],
             [
              1,
              "#f0f921"
             ]
            ],
            "type": "contour"
           }
          ],
          "contourcarpet": [
           {
            "colorbar": {
             "outlinewidth": 0,
             "ticks": ""
            },
            "type": "contourcarpet"
           }
          ],
          "heatmap": [
           {
            "colorbar": {
             "outlinewidth": 0,
             "ticks": ""
            },
            "colorscale": [
             [
              0,
              "#0d0887"
             ],
             [
              0.1111111111111111,
              "#46039f"
             ],
             [
              0.2222222222222222,
              "#7201a8"
             ],
             [
              0.3333333333333333,
              "#9c179e"
             ],
             [
              0.4444444444444444,
              "#bd3786"
             ],
             [
              0.5555555555555556,
              "#d8576b"
             ],
             [
              0.6666666666666666,
              "#ed7953"
             ],
             [
              0.7777777777777778,
              "#fb9f3a"
             ],
             [
              0.8888888888888888,
              "#fdca26"
             ],
             [
              1,
              "#f0f921"
             ]
            ],
            "type": "heatmap"
           }
          ],
          "heatmapgl": [
           {
            "colorbar": {
             "outlinewidth": 0,
             "ticks": ""
            },
            "colorscale": [
             [
              0,
              "#0d0887"
             ],
             [
              0.1111111111111111,
              "#46039f"
             ],
             [
              0.2222222222222222,
              "#7201a8"
             ],
             [
              0.3333333333333333,
              "#9c179e"
             ],
             [
              0.4444444444444444,
              "#bd3786"
             ],
             [
              0.5555555555555556,
              "#d8576b"
             ],
             [
              0.6666666666666666,
              "#ed7953"
             ],
             [
              0.7777777777777778,
              "#fb9f3a"
             ],
             [
              0.8888888888888888,
              "#fdca26"
             ],
             [
              1,
              "#f0f921"
             ]
            ],
            "type": "heatmapgl"
           }
          ],
          "histogram": [
           {
            "marker": {
             "colorbar": {
              "outlinewidth": 0,
              "ticks": ""
             }
            },
            "type": "histogram"
           }
          ],
          "histogram2d": [
           {
            "colorbar": {
             "outlinewidth": 0,
             "ticks": ""
            },
            "colorscale": [
             [
              0,
              "#0d0887"
             ],
             [
              0.1111111111111111,
              "#46039f"
             ],
             [
              0.2222222222222222,
              "#7201a8"
             ],
             [
              0.3333333333333333,
              "#9c179e"
             ],
             [
              0.4444444444444444,
              "#bd3786"
             ],
             [
              0.5555555555555556,
              "#d8576b"
             ],
             [
              0.6666666666666666,
              "#ed7953"
             ],
             [
              0.7777777777777778,
              "#fb9f3a"
             ],
             [
              0.8888888888888888,
              "#fdca26"
             ],
             [
              1,
              "#f0f921"
             ]
            ],
            "type": "histogram2d"
           }
          ],
          "histogram2dcontour": [
           {
            "colorbar": {
             "outlinewidth": 0,
             "ticks": ""
            },
            "colorscale": [
             [
              0,
              "#0d0887"
             ],
             [
              0.1111111111111111,
              "#46039f"
             ],
             [
              0.2222222222222222,
              "#7201a8"
             ],
             [
              0.3333333333333333,
              "#9c179e"
             ],
             [
              0.4444444444444444,
              "#bd3786"
             ],
             [
              0.5555555555555556,
              "#d8576b"
             ],
             [
              0.6666666666666666,
              "#ed7953"
             ],
             [
              0.7777777777777778,
              "#fb9f3a"
             ],
             [
              0.8888888888888888,
              "#fdca26"
             ],
             [
              1,
              "#f0f921"
             ]
            ],
            "type": "histogram2dcontour"
           }
          ],
          "mesh3d": [
           {
            "colorbar": {
             "outlinewidth": 0,
             "ticks": ""
            },
            "type": "mesh3d"
           }
          ],
          "parcoords": [
           {
            "line": {
             "colorbar": {
              "outlinewidth": 0,
              "ticks": ""
             }
            },
            "type": "parcoords"
           }
          ],
          "pie": [
           {
            "automargin": true,
            "type": "pie"
           }
          ],
          "scatter": [
           {
            "marker": {
             "colorbar": {
              "outlinewidth": 0,
              "ticks": ""
             }
            },
            "type": "scatter"
           }
          ],
          "scatter3d": [
           {
            "line": {
             "colorbar": {
              "outlinewidth": 0,
              "ticks": ""
             }
            },
            "marker": {
             "colorbar": {
              "outlinewidth": 0,
              "ticks": ""
             }
            },
            "type": "scatter3d"
           }
          ],
          "scattercarpet": [
           {
            "marker": {
             "colorbar": {
              "outlinewidth": 0,
              "ticks": ""
             }
            },
            "type": "scattercarpet"
           }
          ],
          "scattergeo": [
           {
            "marker": {
             "colorbar": {
              "outlinewidth": 0,
              "ticks": ""
             }
            },
            "type": "scattergeo"
           }
          ],
          "scattergl": [
           {
            "marker": {
             "colorbar": {
              "outlinewidth": 0,
              "ticks": ""
             }
            },
            "type": "scattergl"
           }
          ],
          "scattermapbox": [
           {
            "marker": {
             "colorbar": {
              "outlinewidth": 0,
              "ticks": ""
             }
            },
            "type": "scattermapbox"
           }
          ],
          "scatterpolar": [
           {
            "marker": {
             "colorbar": {
              "outlinewidth": 0,
              "ticks": ""
             }
            },
            "type": "scatterpolar"
           }
          ],
          "scatterpolargl": [
           {
            "marker": {
             "colorbar": {
              "outlinewidth": 0,
              "ticks": ""
             }
            },
            "type": "scatterpolargl"
           }
          ],
          "scatterternary": [
           {
            "marker": {
             "colorbar": {
              "outlinewidth": 0,
              "ticks": ""
             }
            },
            "type": "scatterternary"
           }
          ],
          "surface": [
           {
            "colorbar": {
             "outlinewidth": 0,
             "ticks": ""
            },
            "colorscale": [
             [
              0,
              "#0d0887"
             ],
             [
              0.1111111111111111,
              "#46039f"
             ],
             [
              0.2222222222222222,
              "#7201a8"
             ],
             [
              0.3333333333333333,
              "#9c179e"
             ],
             [
              0.4444444444444444,
              "#bd3786"
             ],
             [
              0.5555555555555556,
              "#d8576b"
             ],
             [
              0.6666666666666666,
              "#ed7953"
             ],
             [
              0.7777777777777778,
              "#fb9f3a"
             ],
             [
              0.8888888888888888,
              "#fdca26"
             ],
             [
              1,
              "#f0f921"
             ]
            ],
            "type": "surface"
           }
          ],
          "table": [
           {
            "cells": {
             "fill": {
              "color": "#EBF0F8"
             },
             "line": {
              "color": "white"
             }
            },
            "header": {
             "fill": {
              "color": "#C8D4E3"
             },
             "line": {
              "color": "white"
             }
            },
            "type": "table"
           }
          ]
         },
         "layout": {
          "annotationdefaults": {
           "arrowcolor": "#2a3f5f",
           "arrowhead": 0,
           "arrowwidth": 1
          },
          "coloraxis": {
           "colorbar": {
            "outlinewidth": 0,
            "ticks": ""
           }
          },
          "colorscale": {
           "diverging": [
            [
             0,
             "#8e0152"
            ],
            [
             0.1,
             "#c51b7d"
            ],
            [
             0.2,
             "#de77ae"
            ],
            [
             0.3,
             "#f1b6da"
            ],
            [
             0.4,
             "#fde0ef"
            ],
            [
             0.5,
             "#f7f7f7"
            ],
            [
             0.6,
             "#e6f5d0"
            ],
            [
             0.7,
             "#b8e186"
            ],
            [
             0.8,
             "#7fbc41"
            ],
            [
             0.9,
             "#4d9221"
            ],
            [
             1,
             "#276419"
            ]
           ],
           "sequential": [
            [
             0,
             "#0d0887"
            ],
            [
             0.1111111111111111,
             "#46039f"
            ],
            [
             0.2222222222222222,
             "#7201a8"
            ],
            [
             0.3333333333333333,
             "#9c179e"
            ],
            [
             0.4444444444444444,
             "#bd3786"
            ],
            [
             0.5555555555555556,
             "#d8576b"
            ],
            [
             0.6666666666666666,
             "#ed7953"
            ],
            [
             0.7777777777777778,
             "#fb9f3a"
            ],
            [
             0.8888888888888888,
             "#fdca26"
            ],
            [
             1,
             "#f0f921"
            ]
           ],
           "sequentialminus": [
            [
             0,
             "#0d0887"
            ],
            [
             0.1111111111111111,
             "#46039f"
            ],
            [
             0.2222222222222222,
             "#7201a8"
            ],
            [
             0.3333333333333333,
             "#9c179e"
            ],
            [
             0.4444444444444444,
             "#bd3786"
            ],
            [
             0.5555555555555556,
             "#d8576b"
            ],
            [
             0.6666666666666666,
             "#ed7953"
            ],
            [
             0.7777777777777778,
             "#fb9f3a"
            ],
            [
             0.8888888888888888,
             "#fdca26"
            ],
            [
             1,
             "#f0f921"
            ]
           ]
          },
          "colorway": [
           "#636efa",
           "#EF553B",
           "#00cc96",
           "#ab63fa",
           "#FFA15A",
           "#19d3f3",
           "#FF6692",
           "#B6E880",
           "#FF97FF",
           "#FECB52"
          ],
          "font": {
           "color": "#2a3f5f"
          },
          "geo": {
           "bgcolor": "white",
           "lakecolor": "white",
           "landcolor": "#E5ECF6",
           "showlakes": true,
           "showland": true,
           "subunitcolor": "white"
          },
          "hoverlabel": {
           "align": "left"
          },
          "hovermode": "closest",
          "mapbox": {
           "style": "light"
          },
          "paper_bgcolor": "white",
          "plot_bgcolor": "#E5ECF6",
          "polar": {
           "angularaxis": {
            "gridcolor": "white",
            "linecolor": "white",
            "ticks": ""
           },
           "bgcolor": "#E5ECF6",
           "radialaxis": {
            "gridcolor": "white",
            "linecolor": "white",
            "ticks": ""
           }
          },
          "scene": {
           "xaxis": {
            "backgroundcolor": "#E5ECF6",
            "gridcolor": "white",
            "gridwidth": 2,
            "linecolor": "white",
            "showbackground": true,
            "ticks": "",
            "zerolinecolor": "white"
           },
           "yaxis": {
            "backgroundcolor": "#E5ECF6",
            "gridcolor": "white",
            "gridwidth": 2,
            "linecolor": "white",
            "showbackground": true,
            "ticks": "",
            "zerolinecolor": "white"
           },
           "zaxis": {
            "backgroundcolor": "#E5ECF6",
            "gridcolor": "white",
            "gridwidth": 2,
            "linecolor": "white",
            "showbackground": true,
            "ticks": "",
            "zerolinecolor": "white"
           }
          },
          "shapedefaults": {
           "line": {
            "color": "#2a3f5f"
           }
          },
          "ternary": {
           "aaxis": {
            "gridcolor": "white",
            "linecolor": "white",
            "ticks": ""
           },
           "baxis": {
            "gridcolor": "white",
            "linecolor": "white",
            "ticks": ""
           },
           "bgcolor": "#E5ECF6",
           "caxis": {
            "gridcolor": "white",
            "linecolor": "white",
            "ticks": ""
           }
          },
          "title": {
           "x": 0.05
          },
          "xaxis": {
           "automargin": true,
           "gridcolor": "white",
           "linecolor": "white",
           "ticks": "",
           "title": {
            "standoff": 15
           },
           "zerolinecolor": "white",
           "zerolinewidth": 2
          },
          "yaxis": {
           "automargin": true,
           "gridcolor": "white",
           "linecolor": "white",
           "ticks": "",
           "title": {
            "standoff": 15
           },
           "zerolinecolor": "white",
           "zerolinewidth": 2
          }
         }
        },
        "title": {
         "text": "Number of tweet in dataset according to Party"
        }
       }
      },
      "text/html": "<div>                            <div id=\"918041e0-be2c-48ed-8efd-98507e4b249d\" class=\"plotly-graph-div\" style=\"height:525px; width:100%;\"></div>            <script type=\"text/javascript\">                require([\"plotly\"], function(Plotly) {                    window.PLOTLYENV=window.PLOTLYENV || {};                                    if (document.getElementById(\"918041e0-be2c-48ed-8efd-98507e4b249d\")) {                    Plotly.newPlot(                        \"918041e0-be2c-48ed-8efd-98507e4b249d\",                        [{\"marker\": {\"color\": \"rgba(200, 74, 55, 0.5)\", \"line\": {\"color\": \"rgb(0,0,0)\", \"width\": 1.5}}, \"name\": \"Number of tweet in dataset\", \"type\": \"bar\", \"x\": [\"\\u0e40\\u0e28\\u0e23\\u0e29\\u0e10\\u0e01\\u0e34\\u0e08\\u0e43\\u0e2b\\u0e21\\u0e48\", \"\\u0e2d\\u0e19\\u0e32\\u0e04\\u0e15\\u0e43\\u0e2b\\u0e21\\u0e48\", \"\\u0e1e\\u0e25\\u0e31\\u0e07\\u0e1b\\u0e23\\u0e30\\u0e0a\\u0e32\\u0e23\\u0e31\\u0e10\", \"\\u0e1b\\u0e23\\u0e30\\u0e0a\\u0e32\\u0e18\\u0e34\\u0e1b\\u0e31\\u0e15\\u0e22\\u0e4c\", \"\\u0e40\\u0e1e\\u0e37\\u0e48\\u0e2d\\u0e44\\u0e17\\u0e22\", \"\\u0e0a\\u0e32\\u0e15\\u0e34\\u0e44\\u0e17\\u0e22\\u0e1e\\u0e31\\u0e12\\u0e19\\u0e32\", \"\\u0e23\\u0e27\\u0e21\\u0e1e\\u0e25\\u0e31\\u0e07\\u0e1b\\u0e23\\u0e30\\u0e0a\\u0e32\\u0e0a\\u0e32\\u0e15\\u0e34\\u0e44\\u0e17\\u0e22\"], \"y\": [268, 258, 228, 161, 157, 29, 28]}],                        {\"barmode\": \"group\", \"template\": {\"data\": {\"bar\": [{\"error_x\": {\"color\": \"#2a3f5f\"}, \"error_y\": {\"color\": \"#2a3f5f\"}, \"marker\": {\"line\": {\"color\": \"#E5ECF6\", \"width\": 0.5}}, \"type\": \"bar\"}], \"barpolar\": [{\"marker\": {\"line\": {\"color\": \"#E5ECF6\", \"width\": 0.5}}, \"type\": \"barpolar\"}], \"carpet\": [{\"aaxis\": {\"endlinecolor\": \"#2a3f5f\", \"gridcolor\": \"white\", \"linecolor\": \"white\", \"minorgridcolor\": \"white\", \"startlinecolor\": \"#2a3f5f\"}, \"baxis\": {\"endlinecolor\": \"#2a3f5f\", \"gridcolor\": \"white\", \"linecolor\": \"white\", \"minorgridcolor\": \"white\", \"startlinecolor\": \"#2a3f5f\"}, \"type\": \"carpet\"}], \"choropleth\": [{\"colorbar\": {\"outlinewidth\": 0, \"ticks\": \"\"}, \"type\": \"choropleth\"}], \"contour\": [{\"colorbar\": {\"outlinewidth\": 0, \"ticks\": \"\"}, \"colorscale\": [[0.0, \"#0d0887\"], [0.1111111111111111, \"#46039f\"], [0.2222222222222222, \"#7201a8\"], [0.3333333333333333, \"#9c179e\"], [0.4444444444444444, \"#bd3786\"], [0.5555555555555556, \"#d8576b\"], [0.6666666666666666, \"#ed7953\"], [0.7777777777777778, \"#fb9f3a\"], [0.8888888888888888, \"#fdca26\"], [1.0, \"#f0f921\"]], \"type\": \"contour\"}], \"contourcarpet\": [{\"colorbar\": {\"outlinewidth\": 0, \"ticks\": \"\"}, \"type\": \"contourcarpet\"}], \"heatmap\": [{\"colorbar\": {\"outlinewidth\": 0, \"ticks\": \"\"}, \"colorscale\": [[0.0, \"#0d0887\"], [0.1111111111111111, \"#46039f\"], [0.2222222222222222, \"#7201a8\"], [0.3333333333333333, \"#9c179e\"], [0.4444444444444444, \"#bd3786\"], [0.5555555555555556, \"#d8576b\"], [0.6666666666666666, \"#ed7953\"], [0.7777777777777778, \"#fb9f3a\"], [0.8888888888888888, \"#fdca26\"], [1.0, \"#f0f921\"]], \"type\": \"heatmap\"}], \"heatmapgl\": [{\"colorbar\": {\"outlinewidth\": 0, \"ticks\": \"\"}, \"colorscale\": [[0.0, \"#0d0887\"], [0.1111111111111111, \"#46039f\"], [0.2222222222222222, \"#7201a8\"], [0.3333333333333333, \"#9c179e\"], [0.4444444444444444, \"#bd3786\"], [0.5555555555555556, \"#d8576b\"], [0.6666666666666666, \"#ed7953\"], [0.7777777777777778, \"#fb9f3a\"], [0.8888888888888888, \"#fdca26\"], [1.0, \"#f0f921\"]], \"type\": \"heatmapgl\"}], \"histogram\": [{\"marker\": {\"colorbar\": {\"outlinewidth\": 0, \"ticks\": \"\"}}, \"type\": \"histogram\"}], \"histogram2d\": [{\"colorbar\": {\"outlinewidth\": 0, \"ticks\": \"\"}, \"colorscale\": [[0.0, \"#0d0887\"], [0.1111111111111111, \"#46039f\"], [0.2222222222222222, \"#7201a8\"], [0.3333333333333333, \"#9c179e\"], [0.4444444444444444, \"#bd3786\"], [0.5555555555555556, \"#d8576b\"], [0.6666666666666666, \"#ed7953\"], [0.7777777777777778, \"#fb9f3a\"], [0.8888888888888888, \"#fdca26\"], [1.0, \"#f0f921\"]], \"type\": \"histogram2d\"}], \"histogram2dcontour\": [{\"colorbar\": {\"outlinewidth\": 0, \"ticks\": \"\"}, \"colorscale\": [[0.0, \"#0d0887\"], [0.1111111111111111, \"#46039f\"], [0.2222222222222222, \"#7201a8\"], [0.3333333333333333, \"#9c179e\"], [0.4444444444444444, \"#bd3786\"], [0.5555555555555556, \"#d8576b\"], [0.6666666666666666, \"#ed7953\"], [0.7777777777777778, \"#fb9f3a\"], [0.8888888888888888, \"#fdca26\"], [1.0, \"#f0f921\"]], \"type\": \"histogram2dcontour\"}], \"mesh3d\": [{\"colorbar\": {\"outlinewidth\": 0, \"ticks\": \"\"}, \"type\": \"mesh3d\"}], \"parcoords\": [{\"line\": {\"colorbar\": {\"outlinewidth\": 0, \"ticks\": \"\"}}, \"type\": \"parcoords\"}], \"pie\": [{\"automargin\": true, \"type\": \"pie\"}], \"scatter\": [{\"marker\": {\"colorbar\": {\"outlinewidth\": 0, \"ticks\": \"\"}}, \"type\": \"scatter\"}], \"scatter3d\": [{\"line\": {\"colorbar\": {\"outlinewidth\": 0, \"ticks\": \"\"}}, \"marker\": {\"colorbar\": {\"outlinewidth\": 0, \"ticks\": \"\"}}, \"type\": \"scatter3d\"}], \"scattercarpet\": [{\"marker\": {\"colorbar\": {\"outlinewidth\": 0, \"ticks\": \"\"}}, \"type\": \"scattercarpet\"}], \"scattergeo\": [{\"marker\": {\"colorbar\": {\"outlinewidth\": 0, \"ticks\": \"\"}}, \"type\": \"scattergeo\"}], \"scattergl\": [{\"marker\": {\"colorbar\": {\"outlinewidth\": 0, \"ticks\": \"\"}}, \"type\": \"scattergl\"}], \"scattermapbox\": [{\"marker\": {\"colorbar\": {\"outlinewidth\": 0, \"ticks\": \"\"}}, \"type\": \"scattermapbox\"}], \"scatterpolar\": [{\"marker\": {\"colorbar\": {\"outlinewidth\": 0, \"ticks\": \"\"}}, \"type\": \"scatterpolar\"}], \"scatterpolargl\": [{\"marker\": {\"colorbar\": {\"outlinewidth\": 0, \"ticks\": \"\"}}, \"type\": \"scatterpolargl\"}], \"scatterternary\": [{\"marker\": {\"colorbar\": {\"outlinewidth\": 0, \"ticks\": \"\"}}, \"type\": \"scatterternary\"}], \"surface\": [{\"colorbar\": {\"outlinewidth\": 0, \"ticks\": \"\"}, \"colorscale\": [[0.0, \"#0d0887\"], [0.1111111111111111, \"#46039f\"], [0.2222222222222222, \"#7201a8\"], [0.3333333333333333, \"#9c179e\"], [0.4444444444444444, \"#bd3786\"], [0.5555555555555556, \"#d8576b\"], [0.6666666666666666, \"#ed7953\"], [0.7777777777777778, \"#fb9f3a\"], [0.8888888888888888, \"#fdca26\"], [1.0, \"#f0f921\"]], \"type\": \"surface\"}], \"table\": [{\"cells\": {\"fill\": {\"color\": \"#EBF0F8\"}, \"line\": {\"color\": \"white\"}}, \"header\": {\"fill\": {\"color\": \"#C8D4E3\"}, \"line\": {\"color\": \"white\"}}, \"type\": \"table\"}]}, \"layout\": {\"annotationdefaults\": {\"arrowcolor\": \"#2a3f5f\", \"arrowhead\": 0, \"arrowwidth\": 1}, \"coloraxis\": {\"colorbar\": {\"outlinewidth\": 0, \"ticks\": \"\"}}, \"colorscale\": {\"diverging\": [[0, \"#8e0152\"], [0.1, \"#c51b7d\"], [0.2, \"#de77ae\"], [0.3, \"#f1b6da\"], [0.4, \"#fde0ef\"], [0.5, \"#f7f7f7\"], [0.6, \"#e6f5d0\"], [0.7, \"#b8e186\"], [0.8, \"#7fbc41\"], [0.9, \"#4d9221\"], [1, \"#276419\"]], \"sequential\": [[0.0, \"#0d0887\"], [0.1111111111111111, \"#46039f\"], [0.2222222222222222, \"#7201a8\"], [0.3333333333333333, \"#9c179e\"], [0.4444444444444444, \"#bd3786\"], [0.5555555555555556, \"#d8576b\"], [0.6666666666666666, \"#ed7953\"], [0.7777777777777778, \"#fb9f3a\"], [0.8888888888888888, \"#fdca26\"], [1.0, \"#f0f921\"]], \"sequentialminus\": [[0.0, \"#0d0887\"], [0.1111111111111111, \"#46039f\"], [0.2222222222222222, \"#7201a8\"], [0.3333333333333333, \"#9c179e\"], [0.4444444444444444, \"#bd3786\"], [0.5555555555555556, \"#d8576b\"], [0.6666666666666666, \"#ed7953\"], [0.7777777777777778, \"#fb9f3a\"], [0.8888888888888888, \"#fdca26\"], [1.0, \"#f0f921\"]]}, \"colorway\": [\"#636efa\", \"#EF553B\", \"#00cc96\", \"#ab63fa\", \"#FFA15A\", \"#19d3f3\", \"#FF6692\", \"#B6E880\", \"#FF97FF\", \"#FECB52\"], \"font\": {\"color\": \"#2a3f5f\"}, \"geo\": {\"bgcolor\": \"white\", \"lakecolor\": \"white\", \"landcolor\": \"#E5ECF6\", \"showlakes\": true, \"showland\": true, \"subunitcolor\": \"white\"}, \"hoverlabel\": {\"align\": \"left\"}, \"hovermode\": \"closest\", \"mapbox\": {\"style\": \"light\"}, \"paper_bgcolor\": \"white\", \"plot_bgcolor\": \"#E5ECF6\", \"polar\": {\"angularaxis\": {\"gridcolor\": \"white\", \"linecolor\": \"white\", \"ticks\": \"\"}, \"bgcolor\": \"#E5ECF6\", \"radialaxis\": {\"gridcolor\": \"white\", \"linecolor\": \"white\", \"ticks\": \"\"}}, \"scene\": {\"xaxis\": {\"backgroundcolor\": \"#E5ECF6\", \"gridcolor\": \"white\", \"gridwidth\": 2, \"linecolor\": \"white\", \"showbackground\": true, \"ticks\": \"\", \"zerolinecolor\": \"white\"}, \"yaxis\": {\"backgroundcolor\": \"#E5ECF6\", \"gridcolor\": \"white\", \"gridwidth\": 2, \"linecolor\": \"white\", \"showbackground\": true, \"ticks\": \"\", \"zerolinecolor\": \"white\"}, \"zaxis\": {\"backgroundcolor\": \"#E5ECF6\", \"gridcolor\": \"white\", \"gridwidth\": 2, \"linecolor\": \"white\", \"showbackground\": true, \"ticks\": \"\", \"zerolinecolor\": \"white\"}}, \"shapedefaults\": {\"line\": {\"color\": \"#2a3f5f\"}}, \"ternary\": {\"aaxis\": {\"gridcolor\": \"white\", \"linecolor\": \"white\", \"ticks\": \"\"}, \"baxis\": {\"gridcolor\": \"white\", \"linecolor\": \"white\", \"ticks\": \"\"}, \"bgcolor\": \"#E5ECF6\", \"caxis\": {\"gridcolor\": \"white\", \"linecolor\": \"white\", \"ticks\": \"\"}}, \"title\": {\"x\": 0.05}, \"xaxis\": {\"automargin\": true, \"gridcolor\": \"white\", \"linecolor\": \"white\", \"ticks\": \"\", \"title\": {\"standoff\": 15}, \"zerolinecolor\": \"white\", \"zerolinewidth\": 2}, \"yaxis\": {\"automargin\": true, \"gridcolor\": \"white\", \"linecolor\": \"white\", \"ticks\": \"\", \"title\": {\"standoff\": 15}, \"zerolinecolor\": \"white\", \"zerolinewidth\": 2}}}, \"title\": {\"text\": \"Number of tweet in dataset according to Party\"}},                        {\"responsive\": true}                    ).then(function(){\n                            \nvar gd = document.getElementById('918041e0-be2c-48ed-8efd-98507e4b249d');\nvar x = new MutationObserver(function (mutations, observer) {{\n        var display = window.getComputedStyle(gd).display;\n        if (!display || display === 'none') {{\n            console.log([gd, 'removed!']);\n            Plotly.purge(gd);\n            observer.disconnect();\n        }}\n}});\n\n// Listen for the removal of the full notebook cells\nvar notebookContainer = gd.closest('#notebook-container');\nif (notebookContainer) {{\n    x.observe(notebookContainer, {childList: true});\n}}\n\n// Listen for the clearing of the current output cell\nvar outputEl = gd.closest('.output');\nif (outputEl) {{\n    x.observe(outputEl, {childList: true});\n}}\n\n                        })                };                });            </script>        </div>"
     },
     "metadata": {}
    }
   ],
   "source": [
    "cnt_ = df['Party'].value_counts()\n",
    "cnt_.reset_index()\n",
    "\n",
    "trace1 = go.Bar(\n",
    "                x = cnt_.index,\n",
    "                y = cnt_.values,\n",
    "                name = \"Number of tweet in dataset\",\n",
    "                marker = dict(color = 'rgba(200, 74, 55, 0.5)',\n",
    "                             line=dict(color='rgb(0,0,0)',width=1.5)),\n",
    "                )\n",
    "\n",
    "data = [trace1]\n",
    "layout = go.Layout(barmode = \"group\",title = 'Number of tweet in dataset according to Party')\n",
    "fig = go.Figure(data = data, layout = layout)\n",
    "py.iplot(fig)"
   ]
  },
  {
   "cell_type": "code",
   "execution_count": 5,
   "metadata": {},
   "outputs": [
    {
     "output_type": "execute_result",
     "data": {
      "text/plain": [
       "เศรษฐกิจใหม่           268\n",
       "อนาคตใหม่              258\n",
       "พลังประชารัฐ           228\n",
       "ประชาธิปัตย์           161\n",
       "เพื่อไทย               157\n",
       "ชาติไทยพัฒนา            29\n",
       "รวมพลังประชาชาติไทย     28\n",
       "Name: Party, dtype: int64"
      ]
     },
     "metadata": {},
     "execution_count": 5
    }
   ],
   "source": [
    "df['Party'].value_counts()"
   ]
  },
  {
   "cell_type": "code",
   "execution_count": 6,
   "metadata": {},
   "outputs": [
    {
     "output_type": "execute_result",
     "data": {
      "text/plain": [
       "NewEconomicsTH      268\n",
       "pprpthailand        206\n",
       "paritw92            148\n",
       "FWPthailand         130\n",
       "Thanathorn_FWP       87\n",
       "sudaratofficiall     79\n",
       "PheuThaiParty        68\n",
       "SPiyabutr            38\n",
       "ChartthaiPT          29\n",
       "actpartyorg          28\n",
       "prayutofficial       22\n",
       "democratTH           12\n",
       "ThaksinLive          10\n",
       "RangsimanRome         3\n",
       "KornGoThailand        1\n",
       "Name: Username, dtype: int64"
      ]
     },
     "metadata": {},
     "execution_count": 6
    }
   ],
   "source": [
    "df['Username'].value_counts()"
   ]
  },
  {
   "cell_type": "code",
   "execution_count": 7,
   "metadata": {},
   "outputs": [
    {
     "output_type": "display_data",
     "data": {
      "application/vnd.plotly.v1+json": {
       "config": {
        "linkText": "Export to plot.ly",
        "plotlyServerURL": "https://plot.ly",
        "showLink": false
       },
       "data": [
        {
         "marker": {
          "color": "rgba(200, 74, 55, 0.5)",
          "line": {
           "color": "rgb(0,0,0)",
           "width": 1.5
          }
         },
         "name": "Number of tweet in dataset",
         "type": "bar",
         "x": [
          "NewEconomicsTH",
          "pprpthailand",
          "paritw92",
          "FWPthailand",
          "Thanathorn_FWP",
          "sudaratofficiall",
          "PheuThaiParty",
          "SPiyabutr",
          "ChartthaiPT",
          "actpartyorg",
          "prayutofficial",
          "democratTH",
          "ThaksinLive",
          "RangsimanRome",
          "KornGoThailand"
         ],
         "y": [
          268,
          206,
          148,
          130,
          87,
          79,
          68,
          38,
          29,
          28,
          22,
          12,
          10,
          3,
          1
         ]
        }
       ],
       "layout": {
        "barmode": "group",
        "template": {
         "data": {
          "bar": [
           {
            "error_x": {
             "color": "#2a3f5f"
            },
            "error_y": {
             "color": "#2a3f5f"
            },
            "marker": {
             "line": {
              "color": "#E5ECF6",
              "width": 0.5
             }
            },
            "type": "bar"
           }
          ],
          "barpolar": [
           {
            "marker": {
             "line": {
              "color": "#E5ECF6",
              "width": 0.5
             }
            },
            "type": "barpolar"
           }
          ],
          "carpet": [
           {
            "aaxis": {
             "endlinecolor": "#2a3f5f",
             "gridcolor": "white",
             "linecolor": "white",
             "minorgridcolor": "white",
             "startlinecolor": "#2a3f5f"
            },
            "baxis": {
             "endlinecolor": "#2a3f5f",
             "gridcolor": "white",
             "linecolor": "white",
             "minorgridcolor": "white",
             "startlinecolor": "#2a3f5f"
            },
            "type": "carpet"
           }
          ],
          "choropleth": [
           {
            "colorbar": {
             "outlinewidth": 0,
             "ticks": ""
            },
            "type": "choropleth"
           }
          ],
          "contour": [
           {
            "colorbar": {
             "outlinewidth": 0,
             "ticks": ""
            },
            "colorscale": [
             [
              0,
              "#0d0887"
             ],
             [
              0.1111111111111111,
              "#46039f"
             ],
             [
              0.2222222222222222,
              "#7201a8"
             ],
             [
              0.3333333333333333,
              "#9c179e"
             ],
             [
              0.4444444444444444,
              "#bd3786"
             ],
             [
              0.5555555555555556,
              "#d8576b"
             ],
             [
              0.6666666666666666,
              "#ed7953"
             ],
             [
              0.7777777777777778,
              "#fb9f3a"
             ],
             [
              0.8888888888888888,
              "#fdca26"
             ],
             [
              1,
              "#f0f921"
             ]
            ],
            "type": "contour"
           }
          ],
          "contourcarpet": [
           {
            "colorbar": {
             "outlinewidth": 0,
             "ticks": ""
            },
            "type": "contourcarpet"
           }
          ],
          "heatmap": [
           {
            "colorbar": {
             "outlinewidth": 0,
             "ticks": ""
            },
            "colorscale": [
             [
              0,
              "#0d0887"
             ],
             [
              0.1111111111111111,
              "#46039f"
             ],
             [
              0.2222222222222222,
              "#7201a8"
             ],
             [
              0.3333333333333333,
              "#9c179e"
             ],
             [
              0.4444444444444444,
              "#bd3786"
             ],
             [
              0.5555555555555556,
              "#d8576b"
             ],
             [
              0.6666666666666666,
              "#ed7953"
             ],
             [
              0.7777777777777778,
              "#fb9f3a"
             ],
             [
              0.8888888888888888,
              "#fdca26"
             ],
             [
              1,
              "#f0f921"
             ]
            ],
            "type": "heatmap"
           }
          ],
          "heatmapgl": [
           {
            "colorbar": {
             "outlinewidth": 0,
             "ticks": ""
            },
            "colorscale": [
             [
              0,
              "#0d0887"
             ],
             [
              0.1111111111111111,
              "#46039f"
             ],
             [
              0.2222222222222222,
              "#7201a8"
             ],
             [
              0.3333333333333333,
              "#9c179e"
             ],
             [
              0.4444444444444444,
              "#bd3786"
             ],
             [
              0.5555555555555556,
              "#d8576b"
             ],
             [
              0.6666666666666666,
              "#ed7953"
             ],
             [
              0.7777777777777778,
              "#fb9f3a"
             ],
             [
              0.8888888888888888,
              "#fdca26"
             ],
             [
              1,
              "#f0f921"
             ]
            ],
            "type": "heatmapgl"
           }
          ],
          "histogram": [
           {
            "marker": {
             "colorbar": {
              "outlinewidth": 0,
              "ticks": ""
             }
            },
            "type": "histogram"
           }
          ],
          "histogram2d": [
           {
            "colorbar": {
             "outlinewidth": 0,
             "ticks": ""
            },
            "colorscale": [
             [
              0,
              "#0d0887"
             ],
             [
              0.1111111111111111,
              "#46039f"
             ],
             [
              0.2222222222222222,
              "#7201a8"
             ],
             [
              0.3333333333333333,
              "#9c179e"
             ],
             [
              0.4444444444444444,
              "#bd3786"
             ],
             [
              0.5555555555555556,
              "#d8576b"
             ],
             [
              0.6666666666666666,
              "#ed7953"
             ],
             [
              0.7777777777777778,
              "#fb9f3a"
             ],
             [
              0.8888888888888888,
              "#fdca26"
             ],
             [
              1,
              "#f0f921"
             ]
            ],
            "type": "histogram2d"
           }
          ],
          "histogram2dcontour": [
           {
            "colorbar": {
             "outlinewidth": 0,
             "ticks": ""
            },
            "colorscale": [
             [
              0,
              "#0d0887"
             ],
             [
              0.1111111111111111,
              "#46039f"
             ],
             [
              0.2222222222222222,
              "#7201a8"
             ],
             [
              0.3333333333333333,
              "#9c179e"
             ],
             [
              0.4444444444444444,
              "#bd3786"
             ],
             [
              0.5555555555555556,
              "#d8576b"
             ],
             [
              0.6666666666666666,
              "#ed7953"
             ],
             [
              0.7777777777777778,
              "#fb9f3a"
             ],
             [
              0.8888888888888888,
              "#fdca26"
             ],
             [
              1,
              "#f0f921"
             ]
            ],
            "type": "histogram2dcontour"
           }
          ],
          "mesh3d": [
           {
            "colorbar": {
             "outlinewidth": 0,
             "ticks": ""
            },
            "type": "mesh3d"
           }
          ],
          "parcoords": [
           {
            "line": {
             "colorbar": {
              "outlinewidth": 0,
              "ticks": ""
             }
            },
            "type": "parcoords"
           }
          ],
          "pie": [
           {
            "automargin": true,
            "type": "pie"
           }
          ],
          "scatter": [
           {
            "marker": {
             "colorbar": {
              "outlinewidth": 0,
              "ticks": ""
             }
            },
            "type": "scatter"
           }
          ],
          "scatter3d": [
           {
            "line": {
             "colorbar": {
              "outlinewidth": 0,
              "ticks": ""
             }
            },
            "marker": {
             "colorbar": {
              "outlinewidth": 0,
              "ticks": ""
             }
            },
            "type": "scatter3d"
           }
          ],
          "scattercarpet": [
           {
            "marker": {
             "colorbar": {
              "outlinewidth": 0,
              "ticks": ""
             }
            },
            "type": "scattercarpet"
           }
          ],
          "scattergeo": [
           {
            "marker": {
             "colorbar": {
              "outlinewidth": 0,
              "ticks": ""
             }
            },
            "type": "scattergeo"
           }
          ],
          "scattergl": [
           {
            "marker": {
             "colorbar": {
              "outlinewidth": 0,
              "ticks": ""
             }
            },
            "type": "scattergl"
           }
          ],
          "scattermapbox": [
           {
            "marker": {
             "colorbar": {
              "outlinewidth": 0,
              "ticks": ""
             }
            },
            "type": "scattermapbox"
           }
          ],
          "scatterpolar": [
           {
            "marker": {
             "colorbar": {
              "outlinewidth": 0,
              "ticks": ""
             }
            },
            "type": "scatterpolar"
           }
          ],
          "scatterpolargl": [
           {
            "marker": {
             "colorbar": {
              "outlinewidth": 0,
              "ticks": ""
             }
            },
            "type": "scatterpolargl"
           }
          ],
          "scatterternary": [
           {
            "marker": {
             "colorbar": {
              "outlinewidth": 0,
              "ticks": ""
             }
            },
            "type": "scatterternary"
           }
          ],
          "surface": [
           {
            "colorbar": {
             "outlinewidth": 0,
             "ticks": ""
            },
            "colorscale": [
             [
              0,
              "#0d0887"
             ],
             [
              0.1111111111111111,
              "#46039f"
             ],
             [
              0.2222222222222222,
              "#7201a8"
             ],
             [
              0.3333333333333333,
              "#9c179e"
             ],
             [
              0.4444444444444444,
              "#bd3786"
             ],
             [
              0.5555555555555556,
              "#d8576b"
             ],
             [
              0.6666666666666666,
              "#ed7953"
             ],
             [
              0.7777777777777778,
              "#fb9f3a"
             ],
             [
              0.8888888888888888,
              "#fdca26"
             ],
             [
              1,
              "#f0f921"
             ]
            ],
            "type": "surface"
           }
          ],
          "table": [
           {
            "cells": {
             "fill": {
              "color": "#EBF0F8"
             },
             "line": {
              "color": "white"
             }
            },
            "header": {
             "fill": {
              "color": "#C8D4E3"
             },
             "line": {
              "color": "white"
             }
            },
            "type": "table"
           }
          ]
         },
         "layout": {
          "annotationdefaults": {
           "arrowcolor": "#2a3f5f",
           "arrowhead": 0,
           "arrowwidth": 1
          },
          "coloraxis": {
           "colorbar": {
            "outlinewidth": 0,
            "ticks": ""
           }
          },
          "colorscale": {
           "diverging": [
            [
             0,
             "#8e0152"
            ],
            [
             0.1,
             "#c51b7d"
            ],
            [
             0.2,
             "#de77ae"
            ],
            [
             0.3,
             "#f1b6da"
            ],
            [
             0.4,
             "#fde0ef"
            ],
            [
             0.5,
             "#f7f7f7"
            ],
            [
             0.6,
             "#e6f5d0"
            ],
            [
             0.7,
             "#b8e186"
            ],
            [
             0.8,
             "#7fbc41"
            ],
            [
             0.9,
             "#4d9221"
            ],
            [
             1,
             "#276419"
            ]
           ],
           "sequential": [
            [
             0,
             "#0d0887"
            ],
            [
             0.1111111111111111,
             "#46039f"
            ],
            [
             0.2222222222222222,
             "#7201a8"
            ],
            [
             0.3333333333333333,
             "#9c179e"
            ],
            [
             0.4444444444444444,
             "#bd3786"
            ],
            [
             0.5555555555555556,
             "#d8576b"
            ],
            [
             0.6666666666666666,
             "#ed7953"
            ],
            [
             0.7777777777777778,
             "#fb9f3a"
            ],
            [
             0.8888888888888888,
             "#fdca26"
            ],
            [
             1,
             "#f0f921"
            ]
           ],
           "sequentialminus": [
            [
             0,
             "#0d0887"
            ],
            [
             0.1111111111111111,
             "#46039f"
            ],
            [
             0.2222222222222222,
             "#7201a8"
            ],
            [
             0.3333333333333333,
             "#9c179e"
            ],
            [
             0.4444444444444444,
             "#bd3786"
            ],
            [
             0.5555555555555556,
             "#d8576b"
            ],
            [
             0.6666666666666666,
             "#ed7953"
            ],
            [
             0.7777777777777778,
             "#fb9f3a"
            ],
            [
             0.8888888888888888,
             "#fdca26"
            ],
            [
             1,
             "#f0f921"
            ]
           ]
          },
          "colorway": [
           "#636efa",
           "#EF553B",
           "#00cc96",
           "#ab63fa",
           "#FFA15A",
           "#19d3f3",
           "#FF6692",
           "#B6E880",
           "#FF97FF",
           "#FECB52"
          ],
          "font": {
           "color": "#2a3f5f"
          },
          "geo": {
           "bgcolor": "white",
           "lakecolor": "white",
           "landcolor": "#E5ECF6",
           "showlakes": true,
           "showland": true,
           "subunitcolor": "white"
          },
          "hoverlabel": {
           "align": "left"
          },
          "hovermode": "closest",
          "mapbox": {
           "style": "light"
          },
          "paper_bgcolor": "white",
          "plot_bgcolor": "#E5ECF6",
          "polar": {
           "angularaxis": {
            "gridcolor": "white",
            "linecolor": "white",
            "ticks": ""
           },
           "bgcolor": "#E5ECF6",
           "radialaxis": {
            "gridcolor": "white",
            "linecolor": "white",
            "ticks": ""
           }
          },
          "scene": {
           "xaxis": {
            "backgroundcolor": "#E5ECF6",
            "gridcolor": "white",
            "gridwidth": 2,
            "linecolor": "white",
            "showbackground": true,
            "ticks": "",
            "zerolinecolor": "white"
           },
           "yaxis": {
            "backgroundcolor": "#E5ECF6",
            "gridcolor": "white",
            "gridwidth": 2,
            "linecolor": "white",
            "showbackground": true,
            "ticks": "",
            "zerolinecolor": "white"
           },
           "zaxis": {
            "backgroundcolor": "#E5ECF6",
            "gridcolor": "white",
            "gridwidth": 2,
            "linecolor": "white",
            "showbackground": true,
            "ticks": "",
            "zerolinecolor": "white"
           }
          },
          "shapedefaults": {
           "line": {
            "color": "#2a3f5f"
           }
          },
          "ternary": {
           "aaxis": {
            "gridcolor": "white",
            "linecolor": "white",
            "ticks": ""
           },
           "baxis": {
            "gridcolor": "white",
            "linecolor": "white",
            "ticks": ""
           },
           "bgcolor": "#E5ECF6",
           "caxis": {
            "gridcolor": "white",
            "linecolor": "white",
            "ticks": ""
           }
          },
          "title": {
           "x": 0.05
          },
          "xaxis": {
           "automargin": true,
           "gridcolor": "white",
           "linecolor": "white",
           "ticks": "",
           "title": {
            "standoff": 15
           },
           "zerolinecolor": "white",
           "zerolinewidth": 2
          },
          "yaxis": {
           "automargin": true,
           "gridcolor": "white",
           "linecolor": "white",
           "ticks": "",
           "title": {
            "standoff": 15
           },
           "zerolinecolor": "white",
           "zerolinewidth": 2
          }
         }
        },
        "title": {
         "text": "Number of tweet in dataset according to Username"
        }
       }
      },
      "text/html": "<div>                            <div id=\"d7e50010-5710-4acc-9245-9c7985aa1ac7\" class=\"plotly-graph-div\" style=\"height:525px; width:100%;\"></div>            <script type=\"text/javascript\">                require([\"plotly\"], function(Plotly) {                    window.PLOTLYENV=window.PLOTLYENV || {};                                    if (document.getElementById(\"d7e50010-5710-4acc-9245-9c7985aa1ac7\")) {                    Plotly.newPlot(                        \"d7e50010-5710-4acc-9245-9c7985aa1ac7\",                        [{\"marker\": {\"color\": \"rgba(200, 74, 55, 0.5)\", \"line\": {\"color\": \"rgb(0,0,0)\", \"width\": 1.5}}, \"name\": \"Number of tweet in dataset\", \"type\": \"bar\", \"x\": [\"NewEconomicsTH\", \"pprpthailand\", \"paritw92\", \"FWPthailand\", \"Thanathorn_FWP\", \"sudaratofficiall\", \"PheuThaiParty\", \"SPiyabutr\", \"ChartthaiPT\", \"actpartyorg\", \"prayutofficial\", \"democratTH\", \"ThaksinLive\", \"RangsimanRome\", \"KornGoThailand\"], \"y\": [268, 206, 148, 130, 87, 79, 68, 38, 29, 28, 22, 12, 10, 3, 1]}],                        {\"barmode\": \"group\", \"template\": {\"data\": {\"bar\": [{\"error_x\": {\"color\": \"#2a3f5f\"}, \"error_y\": {\"color\": \"#2a3f5f\"}, \"marker\": {\"line\": {\"color\": \"#E5ECF6\", \"width\": 0.5}}, \"type\": \"bar\"}], \"barpolar\": [{\"marker\": {\"line\": {\"color\": \"#E5ECF6\", \"width\": 0.5}}, \"type\": \"barpolar\"}], \"carpet\": [{\"aaxis\": {\"endlinecolor\": \"#2a3f5f\", \"gridcolor\": \"white\", \"linecolor\": \"white\", \"minorgridcolor\": \"white\", \"startlinecolor\": \"#2a3f5f\"}, \"baxis\": {\"endlinecolor\": \"#2a3f5f\", \"gridcolor\": \"white\", \"linecolor\": \"white\", \"minorgridcolor\": \"white\", \"startlinecolor\": \"#2a3f5f\"}, \"type\": \"carpet\"}], \"choropleth\": [{\"colorbar\": {\"outlinewidth\": 0, \"ticks\": \"\"}, \"type\": \"choropleth\"}], \"contour\": [{\"colorbar\": {\"outlinewidth\": 0, \"ticks\": \"\"}, \"colorscale\": [[0.0, \"#0d0887\"], [0.1111111111111111, \"#46039f\"], [0.2222222222222222, \"#7201a8\"], [0.3333333333333333, \"#9c179e\"], [0.4444444444444444, \"#bd3786\"], [0.5555555555555556, \"#d8576b\"], [0.6666666666666666, \"#ed7953\"], [0.7777777777777778, \"#fb9f3a\"], [0.8888888888888888, \"#fdca26\"], [1.0, \"#f0f921\"]], \"type\": \"contour\"}], \"contourcarpet\": [{\"colorbar\": {\"outlinewidth\": 0, \"ticks\": \"\"}, \"type\": \"contourcarpet\"}], \"heatmap\": [{\"colorbar\": {\"outlinewidth\": 0, \"ticks\": \"\"}, \"colorscale\": [[0.0, \"#0d0887\"], [0.1111111111111111, \"#46039f\"], [0.2222222222222222, \"#7201a8\"], [0.3333333333333333, \"#9c179e\"], [0.4444444444444444, \"#bd3786\"], [0.5555555555555556, \"#d8576b\"], [0.6666666666666666, \"#ed7953\"], [0.7777777777777778, \"#fb9f3a\"], [0.8888888888888888, \"#fdca26\"], [1.0, \"#f0f921\"]], \"type\": \"heatmap\"}], \"heatmapgl\": [{\"colorbar\": {\"outlinewidth\": 0, \"ticks\": \"\"}, \"colorscale\": [[0.0, \"#0d0887\"], [0.1111111111111111, \"#46039f\"], [0.2222222222222222, \"#7201a8\"], [0.3333333333333333, \"#9c179e\"], [0.4444444444444444, \"#bd3786\"], [0.5555555555555556, \"#d8576b\"], [0.6666666666666666, \"#ed7953\"], [0.7777777777777778, \"#fb9f3a\"], [0.8888888888888888, \"#fdca26\"], [1.0, \"#f0f921\"]], \"type\": \"heatmapgl\"}], \"histogram\": [{\"marker\": {\"colorbar\": {\"outlinewidth\": 0, \"ticks\": \"\"}}, \"type\": \"histogram\"}], \"histogram2d\": [{\"colorbar\": {\"outlinewidth\": 0, \"ticks\": \"\"}, \"colorscale\": [[0.0, \"#0d0887\"], [0.1111111111111111, \"#46039f\"], [0.2222222222222222, \"#7201a8\"], [0.3333333333333333, \"#9c179e\"], [0.4444444444444444, \"#bd3786\"], [0.5555555555555556, \"#d8576b\"], [0.6666666666666666, \"#ed7953\"], [0.7777777777777778, \"#fb9f3a\"], [0.8888888888888888, \"#fdca26\"], [1.0, \"#f0f921\"]], \"type\": \"histogram2d\"}], \"histogram2dcontour\": [{\"colorbar\": {\"outlinewidth\": 0, \"ticks\": \"\"}, \"colorscale\": [[0.0, \"#0d0887\"], [0.1111111111111111, \"#46039f\"], [0.2222222222222222, \"#7201a8\"], [0.3333333333333333, \"#9c179e\"], [0.4444444444444444, \"#bd3786\"], [0.5555555555555556, \"#d8576b\"], [0.6666666666666666, \"#ed7953\"], [0.7777777777777778, \"#fb9f3a\"], [0.8888888888888888, \"#fdca26\"], [1.0, \"#f0f921\"]], \"type\": \"histogram2dcontour\"}], \"mesh3d\": [{\"colorbar\": {\"outlinewidth\": 0, \"ticks\": \"\"}, \"type\": \"mesh3d\"}], \"parcoords\": [{\"line\": {\"colorbar\": {\"outlinewidth\": 0, \"ticks\": \"\"}}, \"type\": \"parcoords\"}], \"pie\": [{\"automargin\": true, \"type\": \"pie\"}], \"scatter\": [{\"marker\": {\"colorbar\": {\"outlinewidth\": 0, \"ticks\": \"\"}}, \"type\": \"scatter\"}], \"scatter3d\": [{\"line\": {\"colorbar\": {\"outlinewidth\": 0, \"ticks\": \"\"}}, \"marker\": {\"colorbar\": {\"outlinewidth\": 0, \"ticks\": \"\"}}, \"type\": \"scatter3d\"}], \"scattercarpet\": [{\"marker\": {\"colorbar\": {\"outlinewidth\": 0, \"ticks\": \"\"}}, \"type\": \"scattercarpet\"}], \"scattergeo\": [{\"marker\": {\"colorbar\": {\"outlinewidth\": 0, \"ticks\": \"\"}}, \"type\": \"scattergeo\"}], \"scattergl\": [{\"marker\": {\"colorbar\": {\"outlinewidth\": 0, \"ticks\": \"\"}}, \"type\": \"scattergl\"}], \"scattermapbox\": [{\"marker\": {\"colorbar\": {\"outlinewidth\": 0, \"ticks\": \"\"}}, \"type\": \"scattermapbox\"}], \"scatterpolar\": [{\"marker\": {\"colorbar\": {\"outlinewidth\": 0, \"ticks\": \"\"}}, \"type\": \"scatterpolar\"}], \"scatterpolargl\": [{\"marker\": {\"colorbar\": {\"outlinewidth\": 0, \"ticks\": \"\"}}, \"type\": \"scatterpolargl\"}], \"scatterternary\": [{\"marker\": {\"colorbar\": {\"outlinewidth\": 0, \"ticks\": \"\"}}, \"type\": \"scatterternary\"}], \"surface\": [{\"colorbar\": {\"outlinewidth\": 0, \"ticks\": \"\"}, \"colorscale\": [[0.0, \"#0d0887\"], [0.1111111111111111, \"#46039f\"], [0.2222222222222222, \"#7201a8\"], [0.3333333333333333, \"#9c179e\"], [0.4444444444444444, \"#bd3786\"], [0.5555555555555556, \"#d8576b\"], [0.6666666666666666, \"#ed7953\"], [0.7777777777777778, \"#fb9f3a\"], [0.8888888888888888, \"#fdca26\"], [1.0, \"#f0f921\"]], \"type\": \"surface\"}], \"table\": [{\"cells\": {\"fill\": {\"color\": \"#EBF0F8\"}, \"line\": {\"color\": \"white\"}}, \"header\": {\"fill\": {\"color\": \"#C8D4E3\"}, \"line\": {\"color\": \"white\"}}, \"type\": \"table\"}]}, \"layout\": {\"annotationdefaults\": {\"arrowcolor\": \"#2a3f5f\", \"arrowhead\": 0, \"arrowwidth\": 1}, \"coloraxis\": {\"colorbar\": {\"outlinewidth\": 0, \"ticks\": \"\"}}, \"colorscale\": {\"diverging\": [[0, \"#8e0152\"], [0.1, \"#c51b7d\"], [0.2, \"#de77ae\"], [0.3, \"#f1b6da\"], [0.4, \"#fde0ef\"], [0.5, \"#f7f7f7\"], [0.6, \"#e6f5d0\"], [0.7, \"#b8e186\"], [0.8, \"#7fbc41\"], [0.9, \"#4d9221\"], [1, \"#276419\"]], \"sequential\": [[0.0, \"#0d0887\"], [0.1111111111111111, \"#46039f\"], [0.2222222222222222, \"#7201a8\"], [0.3333333333333333, \"#9c179e\"], [0.4444444444444444, \"#bd3786\"], [0.5555555555555556, \"#d8576b\"], [0.6666666666666666, \"#ed7953\"], [0.7777777777777778, \"#fb9f3a\"], [0.8888888888888888, \"#fdca26\"], [1.0, \"#f0f921\"]], \"sequentialminus\": [[0.0, \"#0d0887\"], [0.1111111111111111, \"#46039f\"], [0.2222222222222222, \"#7201a8\"], [0.3333333333333333, \"#9c179e\"], [0.4444444444444444, \"#bd3786\"], [0.5555555555555556, \"#d8576b\"], [0.6666666666666666, \"#ed7953\"], [0.7777777777777778, \"#fb9f3a\"], [0.8888888888888888, \"#fdca26\"], [1.0, \"#f0f921\"]]}, \"colorway\": [\"#636efa\", \"#EF553B\", \"#00cc96\", \"#ab63fa\", \"#FFA15A\", \"#19d3f3\", \"#FF6692\", \"#B6E880\", \"#FF97FF\", \"#FECB52\"], \"font\": {\"color\": \"#2a3f5f\"}, \"geo\": {\"bgcolor\": \"white\", \"lakecolor\": \"white\", \"landcolor\": \"#E5ECF6\", \"showlakes\": true, \"showland\": true, \"subunitcolor\": \"white\"}, \"hoverlabel\": {\"align\": \"left\"}, \"hovermode\": \"closest\", \"mapbox\": {\"style\": \"light\"}, \"paper_bgcolor\": \"white\", \"plot_bgcolor\": \"#E5ECF6\", \"polar\": {\"angularaxis\": {\"gridcolor\": \"white\", \"linecolor\": \"white\", \"ticks\": \"\"}, \"bgcolor\": \"#E5ECF6\", \"radialaxis\": {\"gridcolor\": \"white\", \"linecolor\": \"white\", \"ticks\": \"\"}}, \"scene\": {\"xaxis\": {\"backgroundcolor\": \"#E5ECF6\", \"gridcolor\": \"white\", \"gridwidth\": 2, \"linecolor\": \"white\", \"showbackground\": true, \"ticks\": \"\", \"zerolinecolor\": \"white\"}, \"yaxis\": {\"backgroundcolor\": \"#E5ECF6\", \"gridcolor\": \"white\", \"gridwidth\": 2, \"linecolor\": \"white\", \"showbackground\": true, \"ticks\": \"\", \"zerolinecolor\": \"white\"}, \"zaxis\": {\"backgroundcolor\": \"#E5ECF6\", \"gridcolor\": \"white\", \"gridwidth\": 2, \"linecolor\": \"white\", \"showbackground\": true, \"ticks\": \"\", \"zerolinecolor\": \"white\"}}, \"shapedefaults\": {\"line\": {\"color\": \"#2a3f5f\"}}, \"ternary\": {\"aaxis\": {\"gridcolor\": \"white\", \"linecolor\": \"white\", \"ticks\": \"\"}, \"baxis\": {\"gridcolor\": \"white\", \"linecolor\": \"white\", \"ticks\": \"\"}, \"bgcolor\": \"#E5ECF6\", \"caxis\": {\"gridcolor\": \"white\", \"linecolor\": \"white\", \"ticks\": \"\"}}, \"title\": {\"x\": 0.05}, \"xaxis\": {\"automargin\": true, \"gridcolor\": \"white\", \"linecolor\": \"white\", \"ticks\": \"\", \"title\": {\"standoff\": 15}, \"zerolinecolor\": \"white\", \"zerolinewidth\": 2}, \"yaxis\": {\"automargin\": true, \"gridcolor\": \"white\", \"linecolor\": \"white\", \"ticks\": \"\", \"title\": {\"standoff\": 15}, \"zerolinecolor\": \"white\", \"zerolinewidth\": 2}}}, \"title\": {\"text\": \"Number of tweet in dataset according to Username\"}},                        {\"responsive\": true}                    ).then(function(){\n                            \nvar gd = document.getElementById('d7e50010-5710-4acc-9245-9c7985aa1ac7');\nvar x = new MutationObserver(function (mutations, observer) {{\n        var display = window.getComputedStyle(gd).display;\n        if (!display || display === 'none') {{\n            console.log([gd, 'removed!']);\n            Plotly.purge(gd);\n            observer.disconnect();\n        }}\n}});\n\n// Listen for the removal of the full notebook cells\nvar notebookContainer = gd.closest('#notebook-container');\nif (notebookContainer) {{\n    x.observe(notebookContainer, {childList: true});\n}}\n\n// Listen for the clearing of the current output cell\nvar outputEl = gd.closest('.output');\nif (outputEl) {{\n    x.observe(outputEl, {childList: true});\n}}\n\n                        })                };                });            </script>        </div>"
     },
     "metadata": {}
    }
   ],
   "source": [
    "cnt_ = df['Username'].value_counts()\n",
    "cnt_.reset_index()\n",
    "\n",
    "trace1 = go.Bar(\n",
    "                x = cnt_.index,\n",
    "                y = cnt_.values,\n",
    "                name = \"Number of tweet in dataset\",\n",
    "                marker = dict(color = 'rgba(200, 74, 55, 0.5)',\n",
    "                             line=dict(color='rgb(0,0,0)',width=1.5)),\n",
    "                )\n",
    "\n",
    "data = [trace1]\n",
    "layout = go.Layout(barmode = \"group\",title = 'Number of tweet in dataset according to Username')\n",
    "fig = go.Figure(data = data, layout = layout)\n",
    "py.iplot(fig)"
   ]
  },
  {
   "cell_type": "code",
   "execution_count": 8,
   "metadata": {},
   "outputs": [],
   "source": [
    "aa = df.groupby(['Party','Username']).agg(count=('Engagement','count'),\n",
    "                                          eng_sum=('Engagement','sum'),\n",
    "                                          eng_mean=('Engagement','mean'),\n",
    "                                          eng_max=('Engagement','max'))\\\n",
    "        .sort_values(by='eng_sum',ascending=False)\\\n",
    "        .reset_index()\n"
   ]
  },
  {
   "cell_type": "code",
   "execution_count": 9,
   "metadata": {},
   "outputs": [
    {
     "output_type": "execute_result",
     "data": {
      "text/plain": [
       "                  Party          Username  count  eng_sum      eng_mean  \\\n",
       "0             อนาคตใหม่    Thanathorn_FWP     87  1304833  14998.080460   \n",
       "1              เพื่อไทย  sudaratofficiall     79   195416   2473.620253   \n",
       "2             อนาคตใหม่       FWPthailand    130   163298   1256.138462   \n",
       "3              เพื่อไทย       ThaksinLive     10    35060   3506.000000   \n",
       "4          ประชาธิปัตย์          paritw92    148    19879    134.317568   \n",
       "5          พลังประชารัฐ    prayutofficial     22    17958    816.272727   \n",
       "6             อนาคตใหม่         SPiyabutr     38    17608    463.368421   \n",
       "7          เศรษฐกิจใหม่    NewEconomicsTH    268    12300     45.895522   \n",
       "8              เพื่อไทย     PheuThaiParty     68     7741    113.838235   \n",
       "9          พลังประชารัฐ      pprpthailand    206     5443     26.422330   \n",
       "10         ประชาธิปัตย์        democratTH     12     1346    112.166667   \n",
       "11  รวมพลังประชาชาติไทย       actpartyorg     28      532     19.000000   \n",
       "12            อนาคตใหม่     RangsimanRome      3      501    167.000000   \n",
       "13         ประชาธิปัตย์    KornGoThailand      1      115    115.000000   \n",
       "14         ชาติไทยพัฒนา       ChartthaiPT     29       41      1.413793   \n",
       "\n",
       "    eng_max  \n",
       "0    142135  \n",
       "1     31749  \n",
       "2     21359  \n",
       "3      6123  \n",
       "4      2103  \n",
       "5      2250  \n",
       "6      5146  \n",
       "7      1813  \n",
       "8       927  \n",
       "9       888  \n",
       "10      757  \n",
       "11       49  \n",
       "12      248  \n",
       "13      115  \n",
       "14        5  "
      ],
      "text/html": "<div>\n<style scoped>\n    .dataframe tbody tr th:only-of-type {\n        vertical-align: middle;\n    }\n\n    .dataframe tbody tr th {\n        vertical-align: top;\n    }\n\n    .dataframe thead th {\n        text-align: right;\n    }\n</style>\n<table border=\"1\" class=\"dataframe\">\n  <thead>\n    <tr style=\"text-align: right;\">\n      <th></th>\n      <th>Party</th>\n      <th>Username</th>\n      <th>count</th>\n      <th>eng_sum</th>\n      <th>eng_mean</th>\n      <th>eng_max</th>\n    </tr>\n  </thead>\n  <tbody>\n    <tr>\n      <th>0</th>\n      <td>อนาคตใหม่</td>\n      <td>Thanathorn_FWP</td>\n      <td>87</td>\n      <td>1304833</td>\n      <td>14998.080460</td>\n      <td>142135</td>\n    </tr>\n    <tr>\n      <th>1</th>\n      <td>เพื่อไทย</td>\n      <td>sudaratofficiall</td>\n      <td>79</td>\n      <td>195416</td>\n      <td>2473.620253</td>\n      <td>31749</td>\n    </tr>\n    <tr>\n      <th>2</th>\n      <td>อนาคตใหม่</td>\n      <td>FWPthailand</td>\n      <td>130</td>\n      <td>163298</td>\n      <td>1256.138462</td>\n      <td>21359</td>\n    </tr>\n    <tr>\n      <th>3</th>\n      <td>เพื่อไทย</td>\n      <td>ThaksinLive</td>\n      <td>10</td>\n      <td>35060</td>\n      <td>3506.000000</td>\n      <td>6123</td>\n    </tr>\n    <tr>\n      <th>4</th>\n      <td>ประชาธิปัตย์</td>\n      <td>paritw92</td>\n      <td>148</td>\n      <td>19879</td>\n      <td>134.317568</td>\n      <td>2103</td>\n    </tr>\n    <tr>\n      <th>5</th>\n      <td>พลังประชารัฐ</td>\n      <td>prayutofficial</td>\n      <td>22</td>\n      <td>17958</td>\n      <td>816.272727</td>\n      <td>2250</td>\n    </tr>\n    <tr>\n      <th>6</th>\n      <td>อนาคตใหม่</td>\n      <td>SPiyabutr</td>\n      <td>38</td>\n      <td>17608</td>\n      <td>463.368421</td>\n      <td>5146</td>\n    </tr>\n    <tr>\n      <th>7</th>\n      <td>เศรษฐกิจใหม่</td>\n      <td>NewEconomicsTH</td>\n      <td>268</td>\n      <td>12300</td>\n      <td>45.895522</td>\n      <td>1813</td>\n    </tr>\n    <tr>\n      <th>8</th>\n      <td>เพื่อไทย</td>\n      <td>PheuThaiParty</td>\n      <td>68</td>\n      <td>7741</td>\n      <td>113.838235</td>\n      <td>927</td>\n    </tr>\n    <tr>\n      <th>9</th>\n      <td>พลังประชารัฐ</td>\n      <td>pprpthailand</td>\n      <td>206</td>\n      <td>5443</td>\n      <td>26.422330</td>\n      <td>888</td>\n    </tr>\n    <tr>\n      <th>10</th>\n      <td>ประชาธิปัตย์</td>\n      <td>democratTH</td>\n      <td>12</td>\n      <td>1346</td>\n      <td>112.166667</td>\n      <td>757</td>\n    </tr>\n    <tr>\n      <th>11</th>\n      <td>รวมพลังประชาชาติไทย</td>\n      <td>actpartyorg</td>\n      <td>28</td>\n      <td>532</td>\n      <td>19.000000</td>\n      <td>49</td>\n    </tr>\n    <tr>\n      <th>12</th>\n      <td>อนาคตใหม่</td>\n      <td>RangsimanRome</td>\n      <td>3</td>\n      <td>501</td>\n      <td>167.000000</td>\n      <td>248</td>\n    </tr>\n    <tr>\n      <th>13</th>\n      <td>ประชาธิปัตย์</td>\n      <td>KornGoThailand</td>\n      <td>1</td>\n      <td>115</td>\n      <td>115.000000</td>\n      <td>115</td>\n    </tr>\n    <tr>\n      <th>14</th>\n      <td>ชาติไทยพัฒนา</td>\n      <td>ChartthaiPT</td>\n      <td>29</td>\n      <td>41</td>\n      <td>1.413793</td>\n      <td>5</td>\n    </tr>\n  </tbody>\n</table>\n</div>"
     },
     "metadata": {},
     "execution_count": 9
    }
   ],
   "source": [
    "aa.sort_values(by='eng_sum',ascending=False)"
   ]
  },
  {
   "cell_type": "code",
   "execution_count": 10,
   "metadata": {},
   "outputs": [
    {
     "output_type": "execute_result",
     "data": {
      "text/plain": [
       "                     eng_sum\n",
       "Party                       \n",
       "อนาคตใหม่            1486240\n",
       "เพื่อไทย              238217\n",
       "พลังประชารัฐ           23401\n",
       "ประชาธิปัตย์           21340\n",
       "เศรษฐกิจใหม่           12300\n",
       "รวมพลังประชาชาติไทย      532\n",
       "ชาติไทยพัฒนา              41"
      ],
      "text/html": "<div>\n<style scoped>\n    .dataframe tbody tr th:only-of-type {\n        vertical-align: middle;\n    }\n\n    .dataframe tbody tr th {\n        vertical-align: top;\n    }\n\n    .dataframe thead th {\n        text-align: right;\n    }\n</style>\n<table border=\"1\" class=\"dataframe\">\n  <thead>\n    <tr style=\"text-align: right;\">\n      <th></th>\n      <th>eng_sum</th>\n    </tr>\n    <tr>\n      <th>Party</th>\n      <th></th>\n    </tr>\n  </thead>\n  <tbody>\n    <tr>\n      <th>อนาคตใหม่</th>\n      <td>1486240</td>\n    </tr>\n    <tr>\n      <th>เพื่อไทย</th>\n      <td>238217</td>\n    </tr>\n    <tr>\n      <th>พลังประชารัฐ</th>\n      <td>23401</td>\n    </tr>\n    <tr>\n      <th>ประชาธิปัตย์</th>\n      <td>21340</td>\n    </tr>\n    <tr>\n      <th>เศรษฐกิจใหม่</th>\n      <td>12300</td>\n    </tr>\n    <tr>\n      <th>รวมพลังประชาชาติไทย</th>\n      <td>532</td>\n    </tr>\n    <tr>\n      <th>ชาติไทยพัฒนา</th>\n      <td>41</td>\n    </tr>\n  </tbody>\n</table>\n</div>"
     },
     "metadata": {},
     "execution_count": 10
    }
   ],
   "source": [
    "aa.groupby('Party').agg({'eng_sum':'sum'}).sort_values(by='eng_sum',ascending=False)"
   ]
  },
  {
   "cell_type": "code",
   "execution_count": 11,
   "metadata": {},
   "outputs": [
    {
     "output_type": "execute_result",
     "data": {
      "text/plain": [
       "eng_sum\n",
       "1486240    1\n",
       "238217     1\n",
       "23401      1\n",
       "21340      1\n",
       "12300      1\n",
       "532        1\n",
       "41         1\n",
       "dtype: int64"
      ]
     },
     "metadata": {},
     "execution_count": 11
    }
   ],
   "source": [
    "aa.groupby('Party').agg({'eng_sum':'sum'}).sort_values(by='eng_sum',ascending=False).value_counts()"
   ]
  },
  {
   "cell_type": "code",
   "execution_count": 12,
   "metadata": {},
   "outputs": [
    {
     "output_type": "execute_result",
     "data": {
      "text/plain": [
       "Index(['NewEconomicsTH', 'pprpthailand', 'paritw92', 'FWPthailand',\n",
       "       'Thanathorn_FWP', 'sudaratofficiall', 'PheuThaiParty', 'SPiyabutr',\n",
       "       'ChartthaiPT', 'actpartyorg', 'prayutofficial', 'democratTH',\n",
       "       'ThaksinLive', 'RangsimanRome', 'KornGoThailand'],\n",
       "      dtype='object')"
      ]
     },
     "metadata": {},
     "execution_count": 12
    }
   ],
   "source": [
    "cnt_.index"
   ]
  },
  {
   "cell_type": "code",
   "execution_count": 13,
   "metadata": {},
   "outputs": [
    {
     "output_type": "display_data",
     "data": {
      "application/vnd.plotly.v1+json": {
       "config": {
        "linkText": "Export to plot.ly",
        "plotlyServerURL": "https://plot.ly",
        "showLink": false
       },
       "data": [
        {
         "marker": {
          "color": "rgba(200, 74, 55, 0.5)",
          "line": {
           "color": "rgb(0,0,0)",
           "width": 1.5
          }
         },
         "name": "Number of tweet in dataset",
         "type": "bar",
         "x": [
          "อนาคตใหม่",
          "เพื่อไทย",
          "พลังประชารัฐ",
          "ประชาธิปัตย์",
          "เศรษฐกิจใหม่",
          "รวมพลังประชาชาติไทย",
          "ชาติไทยพัฒนา"
         ],
         "y": [
          1486240,
          238217,
          23401,
          21340,
          12300,
          532,
          41
         ]
        }
       ],
       "layout": {
        "barmode": "group",
        "template": {
         "data": {
          "bar": [
           {
            "error_x": {
             "color": "#2a3f5f"
            },
            "error_y": {
             "color": "#2a3f5f"
            },
            "marker": {
             "line": {
              "color": "#E5ECF6",
              "width": 0.5
             }
            },
            "type": "bar"
           }
          ],
          "barpolar": [
           {
            "marker": {
             "line": {
              "color": "#E5ECF6",
              "width": 0.5
             }
            },
            "type": "barpolar"
           }
          ],
          "carpet": [
           {
            "aaxis": {
             "endlinecolor": "#2a3f5f",
             "gridcolor": "white",
             "linecolor": "white",
             "minorgridcolor": "white",
             "startlinecolor": "#2a3f5f"
            },
            "baxis": {
             "endlinecolor": "#2a3f5f",
             "gridcolor": "white",
             "linecolor": "white",
             "minorgridcolor": "white",
             "startlinecolor": "#2a3f5f"
            },
            "type": "carpet"
           }
          ],
          "choropleth": [
           {
            "colorbar": {
             "outlinewidth": 0,
             "ticks": ""
            },
            "type": "choropleth"
           }
          ],
          "contour": [
           {
            "colorbar": {
             "outlinewidth": 0,
             "ticks": ""
            },
            "colorscale": [
             [
              0,
              "#0d0887"
             ],
             [
              0.1111111111111111,
              "#46039f"
             ],
             [
              0.2222222222222222,
              "#7201a8"
             ],
             [
              0.3333333333333333,
              "#9c179e"
             ],
             [
              0.4444444444444444,
              "#bd3786"
             ],
             [
              0.5555555555555556,
              "#d8576b"
             ],
             [
              0.6666666666666666,
              "#ed7953"
             ],
             [
              0.7777777777777778,
              "#fb9f3a"
             ],
             [
              0.8888888888888888,
              "#fdca26"
             ],
             [
              1,
              "#f0f921"
             ]
            ],
            "type": "contour"
           }
          ],
          "contourcarpet": [
           {
            "colorbar": {
             "outlinewidth": 0,
             "ticks": ""
            },
            "type": "contourcarpet"
           }
          ],
          "heatmap": [
           {
            "colorbar": {
             "outlinewidth": 0,
             "ticks": ""
            },
            "colorscale": [
             [
              0,
              "#0d0887"
             ],
             [
              0.1111111111111111,
              "#46039f"
             ],
             [
              0.2222222222222222,
              "#7201a8"
             ],
             [
              0.3333333333333333,
              "#9c179e"
             ],
             [
              0.4444444444444444,
              "#bd3786"
             ],
             [
              0.5555555555555556,
              "#d8576b"
             ],
             [
              0.6666666666666666,
              "#ed7953"
             ],
             [
              0.7777777777777778,
              "#fb9f3a"
             ],
             [
              0.8888888888888888,
              "#fdca26"
             ],
             [
              1,
              "#f0f921"
             ]
            ],
            "type": "heatmap"
           }
          ],
          "heatmapgl": [
           {
            "colorbar": {
             "outlinewidth": 0,
             "ticks": ""
            },
            "colorscale": [
             [
              0,
              "#0d0887"
             ],
             [
              0.1111111111111111,
              "#46039f"
             ],
             [
              0.2222222222222222,
              "#7201a8"
             ],
             [
              0.3333333333333333,
              "#9c179e"
             ],
             [
              0.4444444444444444,
              "#bd3786"
             ],
             [
              0.5555555555555556,
              "#d8576b"
             ],
             [
              0.6666666666666666,
              "#ed7953"
             ],
             [
              0.7777777777777778,
              "#fb9f3a"
             ],
             [
              0.8888888888888888,
              "#fdca26"
             ],
             [
              1,
              "#f0f921"
             ]
            ],
            "type": "heatmapgl"
           }
          ],
          "histogram": [
           {
            "marker": {
             "colorbar": {
              "outlinewidth": 0,
              "ticks": ""
             }
            },
            "type": "histogram"
           }
          ],
          "histogram2d": [
           {
            "colorbar": {
             "outlinewidth": 0,
             "ticks": ""
            },
            "colorscale": [
             [
              0,
              "#0d0887"
             ],
             [
              0.1111111111111111,
              "#46039f"
             ],
             [
              0.2222222222222222,
              "#7201a8"
             ],
             [
              0.3333333333333333,
              "#9c179e"
             ],
             [
              0.4444444444444444,
              "#bd3786"
             ],
             [
              0.5555555555555556,
              "#d8576b"
             ],
             [
              0.6666666666666666,
              "#ed7953"
             ],
             [
              0.7777777777777778,
              "#fb9f3a"
             ],
             [
              0.8888888888888888,
              "#fdca26"
             ],
             [
              1,
              "#f0f921"
             ]
            ],
            "type": "histogram2d"
           }
          ],
          "histogram2dcontour": [
           {
            "colorbar": {
             "outlinewidth": 0,
             "ticks": ""
            },
            "colorscale": [
             [
              0,
              "#0d0887"
             ],
             [
              0.1111111111111111,
              "#46039f"
             ],
             [
              0.2222222222222222,
              "#7201a8"
             ],
             [
              0.3333333333333333,
              "#9c179e"
             ],
             [
              0.4444444444444444,
              "#bd3786"
             ],
             [
              0.5555555555555556,
              "#d8576b"
             ],
             [
              0.6666666666666666,
              "#ed7953"
             ],
             [
              0.7777777777777778,
              "#fb9f3a"
             ],
             [
              0.8888888888888888,
              "#fdca26"
             ],
             [
              1,
              "#f0f921"
             ]
            ],
            "type": "histogram2dcontour"
           }
          ],
          "mesh3d": [
           {
            "colorbar": {
             "outlinewidth": 0,
             "ticks": ""
            },
            "type": "mesh3d"
           }
          ],
          "parcoords": [
           {
            "line": {
             "colorbar": {
              "outlinewidth": 0,
              "ticks": ""
             }
            },
            "type": "parcoords"
           }
          ],
          "pie": [
           {
            "automargin": true,
            "type": "pie"
           }
          ],
          "scatter": [
           {
            "marker": {
             "colorbar": {
              "outlinewidth": 0,
              "ticks": ""
             }
            },
            "type": "scatter"
           }
          ],
          "scatter3d": [
           {
            "line": {
             "colorbar": {
              "outlinewidth": 0,
              "ticks": ""
             }
            },
            "marker": {
             "colorbar": {
              "outlinewidth": 0,
              "ticks": ""
             }
            },
            "type": "scatter3d"
           }
          ],
          "scattercarpet": [
           {
            "marker": {
             "colorbar": {
              "outlinewidth": 0,
              "ticks": ""
             }
            },
            "type": "scattercarpet"
           }
          ],
          "scattergeo": [
           {
            "marker": {
             "colorbar": {
              "outlinewidth": 0,
              "ticks": ""
             }
            },
            "type": "scattergeo"
           }
          ],
          "scattergl": [
           {
            "marker": {
             "colorbar": {
              "outlinewidth": 0,
              "ticks": ""
             }
            },
            "type": "scattergl"
           }
          ],
          "scattermapbox": [
           {
            "marker": {
             "colorbar": {
              "outlinewidth": 0,
              "ticks": ""
             }
            },
            "type": "scattermapbox"
           }
          ],
          "scatterpolar": [
           {
            "marker": {
             "colorbar": {
              "outlinewidth": 0,
              "ticks": ""
             }
            },
            "type": "scatterpolar"
           }
          ],
          "scatterpolargl": [
           {
            "marker": {
             "colorbar": {
              "outlinewidth": 0,
              "ticks": ""
             }
            },
            "type": "scatterpolargl"
           }
          ],
          "scatterternary": [
           {
            "marker": {
             "colorbar": {
              "outlinewidth": 0,
              "ticks": ""
             }
            },
            "type": "scatterternary"
           }
          ],
          "surface": [
           {
            "colorbar": {
             "outlinewidth": 0,
             "ticks": ""
            },
            "colorscale": [
             [
              0,
              "#0d0887"
             ],
             [
              0.1111111111111111,
              "#46039f"
             ],
             [
              0.2222222222222222,
              "#7201a8"
             ],
             [
              0.3333333333333333,
              "#9c179e"
             ],
             [
              0.4444444444444444,
              "#bd3786"
             ],
             [
              0.5555555555555556,
              "#d8576b"
             ],
             [
              0.6666666666666666,
              "#ed7953"
             ],
             [
              0.7777777777777778,
              "#fb9f3a"
             ],
             [
              0.8888888888888888,
              "#fdca26"
             ],
             [
              1,
              "#f0f921"
             ]
            ],
            "type": "surface"
           }
          ],
          "table": [
           {
            "cells": {
             "fill": {
              "color": "#EBF0F8"
             },
             "line": {
              "color": "white"
             }
            },
            "header": {
             "fill": {
              "color": "#C8D4E3"
             },
             "line": {
              "color": "white"
             }
            },
            "type": "table"
           }
          ]
         },
         "layout": {
          "annotationdefaults": {
           "arrowcolor": "#2a3f5f",
           "arrowhead": 0,
           "arrowwidth": 1
          },
          "coloraxis": {
           "colorbar": {
            "outlinewidth": 0,
            "ticks": ""
           }
          },
          "colorscale": {
           "diverging": [
            [
             0,
             "#8e0152"
            ],
            [
             0.1,
             "#c51b7d"
            ],
            [
             0.2,
             "#de77ae"
            ],
            [
             0.3,
             "#f1b6da"
            ],
            [
             0.4,
             "#fde0ef"
            ],
            [
             0.5,
             "#f7f7f7"
            ],
            [
             0.6,
             "#e6f5d0"
            ],
            [
             0.7,
             "#b8e186"
            ],
            [
             0.8,
             "#7fbc41"
            ],
            [
             0.9,
             "#4d9221"
            ],
            [
             1,
             "#276419"
            ]
           ],
           "sequential": [
            [
             0,
             "#0d0887"
            ],
            [
             0.1111111111111111,
             "#46039f"
            ],
            [
             0.2222222222222222,
             "#7201a8"
            ],
            [
             0.3333333333333333,
             "#9c179e"
            ],
            [
             0.4444444444444444,
             "#bd3786"
            ],
            [
             0.5555555555555556,
             "#d8576b"
            ],
            [
             0.6666666666666666,
             "#ed7953"
            ],
            [
             0.7777777777777778,
             "#fb9f3a"
            ],
            [
             0.8888888888888888,
             "#fdca26"
            ],
            [
             1,
             "#f0f921"
            ]
           ],
           "sequentialminus": [
            [
             0,
             "#0d0887"
            ],
            [
             0.1111111111111111,
             "#46039f"
            ],
            [
             0.2222222222222222,
             "#7201a8"
            ],
            [
             0.3333333333333333,
             "#9c179e"
            ],
            [
             0.4444444444444444,
             "#bd3786"
            ],
            [
             0.5555555555555556,
             "#d8576b"
            ],
            [
             0.6666666666666666,
             "#ed7953"
            ],
            [
             0.7777777777777778,
             "#fb9f3a"
            ],
            [
             0.8888888888888888,
             "#fdca26"
            ],
            [
             1,
             "#f0f921"
            ]
           ]
          },
          "colorway": [
           "#636efa",
           "#EF553B",
           "#00cc96",
           "#ab63fa",
           "#FFA15A",
           "#19d3f3",
           "#FF6692",
           "#B6E880",
           "#FF97FF",
           "#FECB52"
          ],
          "font": {
           "color": "#2a3f5f"
          },
          "geo": {
           "bgcolor": "white",
           "lakecolor": "white",
           "landcolor": "#E5ECF6",
           "showlakes": true,
           "showland": true,
           "subunitcolor": "white"
          },
          "hoverlabel": {
           "align": "left"
          },
          "hovermode": "closest",
          "mapbox": {
           "style": "light"
          },
          "paper_bgcolor": "white",
          "plot_bgcolor": "#E5ECF6",
          "polar": {
           "angularaxis": {
            "gridcolor": "white",
            "linecolor": "white",
            "ticks": ""
           },
           "bgcolor": "#E5ECF6",
           "radialaxis": {
            "gridcolor": "white",
            "linecolor": "white",
            "ticks": ""
           }
          },
          "scene": {
           "xaxis": {
            "backgroundcolor": "#E5ECF6",
            "gridcolor": "white",
            "gridwidth": 2,
            "linecolor": "white",
            "showbackground": true,
            "ticks": "",
            "zerolinecolor": "white"
           },
           "yaxis": {
            "backgroundcolor": "#E5ECF6",
            "gridcolor": "white",
            "gridwidth": 2,
            "linecolor": "white",
            "showbackground": true,
            "ticks": "",
            "zerolinecolor": "white"
           },
           "zaxis": {
            "backgroundcolor": "#E5ECF6",
            "gridcolor": "white",
            "gridwidth": 2,
            "linecolor": "white",
            "showbackground": true,
            "ticks": "",
            "zerolinecolor": "white"
           }
          },
          "shapedefaults": {
           "line": {
            "color": "#2a3f5f"
           }
          },
          "ternary": {
           "aaxis": {
            "gridcolor": "white",
            "linecolor": "white",
            "ticks": ""
           },
           "baxis": {
            "gridcolor": "white",
            "linecolor": "white",
            "ticks": ""
           },
           "bgcolor": "#E5ECF6",
           "caxis": {
            "gridcolor": "white",
            "linecolor": "white",
            "ticks": ""
           }
          },
          "title": {
           "x": 0.05
          },
          "xaxis": {
           "automargin": true,
           "gridcolor": "white",
           "linecolor": "white",
           "ticks": "",
           "title": {
            "standoff": 15
           },
           "zerolinecolor": "white",
           "zerolinewidth": 2
          },
          "yaxis": {
           "automargin": true,
           "gridcolor": "white",
           "linecolor": "white",
           "ticks": "",
           "title": {
            "standoff": 15
           },
           "zerolinecolor": "white",
           "zerolinewidth": 2
          }
         }
        },
        "title": {
         "text": "Number of engagement in dataset according to Party"
        }
       }
      },
      "text/html": "<div>                            <div id=\"373094cb-41e8-4ce3-8961-aa21f4bffee2\" class=\"plotly-graph-div\" style=\"height:525px; width:100%;\"></div>            <script type=\"text/javascript\">                require([\"plotly\"], function(Plotly) {                    window.PLOTLYENV=window.PLOTLYENV || {};                                    if (document.getElementById(\"373094cb-41e8-4ce3-8961-aa21f4bffee2\")) {                    Plotly.newPlot(                        \"373094cb-41e8-4ce3-8961-aa21f4bffee2\",                        [{\"marker\": {\"color\": \"rgba(200, 74, 55, 0.5)\", \"line\": {\"color\": \"rgb(0,0,0)\", \"width\": 1.5}}, \"name\": \"Number of tweet in dataset\", \"type\": \"bar\", \"x\": [\"\\u0e2d\\u0e19\\u0e32\\u0e04\\u0e15\\u0e43\\u0e2b\\u0e21\\u0e48\", \"\\u0e40\\u0e1e\\u0e37\\u0e48\\u0e2d\\u0e44\\u0e17\\u0e22\", \"\\u0e1e\\u0e25\\u0e31\\u0e07\\u0e1b\\u0e23\\u0e30\\u0e0a\\u0e32\\u0e23\\u0e31\\u0e10\", \"\\u0e1b\\u0e23\\u0e30\\u0e0a\\u0e32\\u0e18\\u0e34\\u0e1b\\u0e31\\u0e15\\u0e22\\u0e4c\", \"\\u0e40\\u0e28\\u0e23\\u0e29\\u0e10\\u0e01\\u0e34\\u0e08\\u0e43\\u0e2b\\u0e21\\u0e48\", \"\\u0e23\\u0e27\\u0e21\\u0e1e\\u0e25\\u0e31\\u0e07\\u0e1b\\u0e23\\u0e30\\u0e0a\\u0e32\\u0e0a\\u0e32\\u0e15\\u0e34\\u0e44\\u0e17\\u0e22\", \"\\u0e0a\\u0e32\\u0e15\\u0e34\\u0e44\\u0e17\\u0e22\\u0e1e\\u0e31\\u0e12\\u0e19\\u0e32\"], \"y\": [1486240, 238217, 23401, 21340, 12300, 532, 41]}],                        {\"barmode\": \"group\", \"template\": {\"data\": {\"bar\": [{\"error_x\": {\"color\": \"#2a3f5f\"}, \"error_y\": {\"color\": \"#2a3f5f\"}, \"marker\": {\"line\": {\"color\": \"#E5ECF6\", \"width\": 0.5}}, \"type\": \"bar\"}], \"barpolar\": [{\"marker\": {\"line\": {\"color\": \"#E5ECF6\", \"width\": 0.5}}, \"type\": \"barpolar\"}], \"carpet\": [{\"aaxis\": {\"endlinecolor\": \"#2a3f5f\", \"gridcolor\": \"white\", \"linecolor\": \"white\", \"minorgridcolor\": \"white\", \"startlinecolor\": \"#2a3f5f\"}, \"baxis\": {\"endlinecolor\": \"#2a3f5f\", \"gridcolor\": \"white\", \"linecolor\": \"white\", \"minorgridcolor\": \"white\", \"startlinecolor\": \"#2a3f5f\"}, \"type\": \"carpet\"}], \"choropleth\": [{\"colorbar\": {\"outlinewidth\": 0, \"ticks\": \"\"}, \"type\": \"choropleth\"}], \"contour\": [{\"colorbar\": {\"outlinewidth\": 0, \"ticks\": \"\"}, \"colorscale\": [[0.0, \"#0d0887\"], [0.1111111111111111, \"#46039f\"], [0.2222222222222222, \"#7201a8\"], [0.3333333333333333, \"#9c179e\"], [0.4444444444444444, \"#bd3786\"], [0.5555555555555556, \"#d8576b\"], [0.6666666666666666, \"#ed7953\"], [0.7777777777777778, \"#fb9f3a\"], [0.8888888888888888, \"#fdca26\"], [1.0, \"#f0f921\"]], \"type\": \"contour\"}], \"contourcarpet\": [{\"colorbar\": {\"outlinewidth\": 0, \"ticks\": \"\"}, \"type\": \"contourcarpet\"}], \"heatmap\": [{\"colorbar\": {\"outlinewidth\": 0, \"ticks\": \"\"}, \"colorscale\": [[0.0, \"#0d0887\"], [0.1111111111111111, \"#46039f\"], [0.2222222222222222, \"#7201a8\"], [0.3333333333333333, \"#9c179e\"], [0.4444444444444444, \"#bd3786\"], [0.5555555555555556, \"#d8576b\"], [0.6666666666666666, \"#ed7953\"], [0.7777777777777778, \"#fb9f3a\"], [0.8888888888888888, \"#fdca26\"], [1.0, \"#f0f921\"]], \"type\": \"heatmap\"}], \"heatmapgl\": [{\"colorbar\": {\"outlinewidth\": 0, \"ticks\": \"\"}, \"colorscale\": [[0.0, \"#0d0887\"], [0.1111111111111111, \"#46039f\"], [0.2222222222222222, \"#7201a8\"], [0.3333333333333333, \"#9c179e\"], [0.4444444444444444, \"#bd3786\"], [0.5555555555555556, \"#d8576b\"], [0.6666666666666666, \"#ed7953\"], [0.7777777777777778, \"#fb9f3a\"], [0.8888888888888888, \"#fdca26\"], [1.0, \"#f0f921\"]], \"type\": \"heatmapgl\"}], \"histogram\": [{\"marker\": {\"colorbar\": {\"outlinewidth\": 0, \"ticks\": \"\"}}, \"type\": \"histogram\"}], \"histogram2d\": [{\"colorbar\": {\"outlinewidth\": 0, \"ticks\": \"\"}, \"colorscale\": [[0.0, \"#0d0887\"], [0.1111111111111111, \"#46039f\"], [0.2222222222222222, \"#7201a8\"], [0.3333333333333333, \"#9c179e\"], [0.4444444444444444, \"#bd3786\"], [0.5555555555555556, \"#d8576b\"], [0.6666666666666666, \"#ed7953\"], [0.7777777777777778, \"#fb9f3a\"], [0.8888888888888888, \"#fdca26\"], [1.0, \"#f0f921\"]], \"type\": \"histogram2d\"}], \"histogram2dcontour\": [{\"colorbar\": {\"outlinewidth\": 0, \"ticks\": \"\"}, \"colorscale\": [[0.0, \"#0d0887\"], [0.1111111111111111, \"#46039f\"], [0.2222222222222222, \"#7201a8\"], [0.3333333333333333, \"#9c179e\"], [0.4444444444444444, \"#bd3786\"], [0.5555555555555556, \"#d8576b\"], [0.6666666666666666, \"#ed7953\"], [0.7777777777777778, \"#fb9f3a\"], [0.8888888888888888, \"#fdca26\"], [1.0, \"#f0f921\"]], \"type\": \"histogram2dcontour\"}], \"mesh3d\": [{\"colorbar\": {\"outlinewidth\": 0, \"ticks\": \"\"}, \"type\": \"mesh3d\"}], \"parcoords\": [{\"line\": {\"colorbar\": {\"outlinewidth\": 0, \"ticks\": \"\"}}, \"type\": \"parcoords\"}], \"pie\": [{\"automargin\": true, \"type\": \"pie\"}], \"scatter\": [{\"marker\": {\"colorbar\": {\"outlinewidth\": 0, \"ticks\": \"\"}}, \"type\": \"scatter\"}], \"scatter3d\": [{\"line\": {\"colorbar\": {\"outlinewidth\": 0, \"ticks\": \"\"}}, \"marker\": {\"colorbar\": {\"outlinewidth\": 0, \"ticks\": \"\"}}, \"type\": \"scatter3d\"}], \"scattercarpet\": [{\"marker\": {\"colorbar\": {\"outlinewidth\": 0, \"ticks\": \"\"}}, \"type\": \"scattercarpet\"}], \"scattergeo\": [{\"marker\": {\"colorbar\": {\"outlinewidth\": 0, \"ticks\": \"\"}}, \"type\": \"scattergeo\"}], \"scattergl\": [{\"marker\": {\"colorbar\": {\"outlinewidth\": 0, \"ticks\": \"\"}}, \"type\": \"scattergl\"}], \"scattermapbox\": [{\"marker\": {\"colorbar\": {\"outlinewidth\": 0, \"ticks\": \"\"}}, \"type\": \"scattermapbox\"}], \"scatterpolar\": [{\"marker\": {\"colorbar\": {\"outlinewidth\": 0, \"ticks\": \"\"}}, \"type\": \"scatterpolar\"}], \"scatterpolargl\": [{\"marker\": {\"colorbar\": {\"outlinewidth\": 0, \"ticks\": \"\"}}, \"type\": \"scatterpolargl\"}], \"scatterternary\": [{\"marker\": {\"colorbar\": {\"outlinewidth\": 0, \"ticks\": \"\"}}, \"type\": \"scatterternary\"}], \"surface\": [{\"colorbar\": {\"outlinewidth\": 0, \"ticks\": \"\"}, \"colorscale\": [[0.0, \"#0d0887\"], [0.1111111111111111, \"#46039f\"], [0.2222222222222222, \"#7201a8\"], [0.3333333333333333, \"#9c179e\"], [0.4444444444444444, \"#bd3786\"], [0.5555555555555556, \"#d8576b\"], [0.6666666666666666, \"#ed7953\"], [0.7777777777777778, \"#fb9f3a\"], [0.8888888888888888, \"#fdca26\"], [1.0, \"#f0f921\"]], \"type\": \"surface\"}], \"table\": [{\"cells\": {\"fill\": {\"color\": \"#EBF0F8\"}, \"line\": {\"color\": \"white\"}}, \"header\": {\"fill\": {\"color\": \"#C8D4E3\"}, \"line\": {\"color\": \"white\"}}, \"type\": \"table\"}]}, \"layout\": {\"annotationdefaults\": {\"arrowcolor\": \"#2a3f5f\", \"arrowhead\": 0, \"arrowwidth\": 1}, \"coloraxis\": {\"colorbar\": {\"outlinewidth\": 0, \"ticks\": \"\"}}, \"colorscale\": {\"diverging\": [[0, \"#8e0152\"], [0.1, \"#c51b7d\"], [0.2, \"#de77ae\"], [0.3, \"#f1b6da\"], [0.4, \"#fde0ef\"], [0.5, \"#f7f7f7\"], [0.6, \"#e6f5d0\"], [0.7, \"#b8e186\"], [0.8, \"#7fbc41\"], [0.9, \"#4d9221\"], [1, \"#276419\"]], \"sequential\": [[0.0, \"#0d0887\"], [0.1111111111111111, \"#46039f\"], [0.2222222222222222, \"#7201a8\"], [0.3333333333333333, \"#9c179e\"], [0.4444444444444444, \"#bd3786\"], [0.5555555555555556, \"#d8576b\"], [0.6666666666666666, \"#ed7953\"], [0.7777777777777778, \"#fb9f3a\"], [0.8888888888888888, \"#fdca26\"], [1.0, \"#f0f921\"]], \"sequentialminus\": [[0.0, \"#0d0887\"], [0.1111111111111111, \"#46039f\"], [0.2222222222222222, \"#7201a8\"], [0.3333333333333333, \"#9c179e\"], [0.4444444444444444, \"#bd3786\"], [0.5555555555555556, \"#d8576b\"], [0.6666666666666666, \"#ed7953\"], [0.7777777777777778, \"#fb9f3a\"], [0.8888888888888888, \"#fdca26\"], [1.0, \"#f0f921\"]]}, \"colorway\": [\"#636efa\", \"#EF553B\", \"#00cc96\", \"#ab63fa\", \"#FFA15A\", \"#19d3f3\", \"#FF6692\", \"#B6E880\", \"#FF97FF\", \"#FECB52\"], \"font\": {\"color\": \"#2a3f5f\"}, \"geo\": {\"bgcolor\": \"white\", \"lakecolor\": \"white\", \"landcolor\": \"#E5ECF6\", \"showlakes\": true, \"showland\": true, \"subunitcolor\": \"white\"}, \"hoverlabel\": {\"align\": \"left\"}, \"hovermode\": \"closest\", \"mapbox\": {\"style\": \"light\"}, \"paper_bgcolor\": \"white\", \"plot_bgcolor\": \"#E5ECF6\", \"polar\": {\"angularaxis\": {\"gridcolor\": \"white\", \"linecolor\": \"white\", \"ticks\": \"\"}, \"bgcolor\": \"#E5ECF6\", \"radialaxis\": {\"gridcolor\": \"white\", \"linecolor\": \"white\", \"ticks\": \"\"}}, \"scene\": {\"xaxis\": {\"backgroundcolor\": \"#E5ECF6\", \"gridcolor\": \"white\", \"gridwidth\": 2, \"linecolor\": \"white\", \"showbackground\": true, \"ticks\": \"\", \"zerolinecolor\": \"white\"}, \"yaxis\": {\"backgroundcolor\": \"#E5ECF6\", \"gridcolor\": \"white\", \"gridwidth\": 2, \"linecolor\": \"white\", \"showbackground\": true, \"ticks\": \"\", \"zerolinecolor\": \"white\"}, \"zaxis\": {\"backgroundcolor\": \"#E5ECF6\", \"gridcolor\": \"white\", \"gridwidth\": 2, \"linecolor\": \"white\", \"showbackground\": true, \"ticks\": \"\", \"zerolinecolor\": \"white\"}}, \"shapedefaults\": {\"line\": {\"color\": \"#2a3f5f\"}}, \"ternary\": {\"aaxis\": {\"gridcolor\": \"white\", \"linecolor\": \"white\", \"ticks\": \"\"}, \"baxis\": {\"gridcolor\": \"white\", \"linecolor\": \"white\", \"ticks\": \"\"}, \"bgcolor\": \"#E5ECF6\", \"caxis\": {\"gridcolor\": \"white\", \"linecolor\": \"white\", \"ticks\": \"\"}}, \"title\": {\"x\": 0.05}, \"xaxis\": {\"automargin\": true, \"gridcolor\": \"white\", \"linecolor\": \"white\", \"ticks\": \"\", \"title\": {\"standoff\": 15}, \"zerolinecolor\": \"white\", \"zerolinewidth\": 2}, \"yaxis\": {\"automargin\": true, \"gridcolor\": \"white\", \"linecolor\": \"white\", \"ticks\": \"\", \"title\": {\"standoff\": 15}, \"zerolinecolor\": \"white\", \"zerolinewidth\": 2}}}, \"title\": {\"text\": \"Number of engagement in dataset according to Party\"}},                        {\"responsive\": true}                    ).then(function(){\n                            \nvar gd = document.getElementById('373094cb-41e8-4ce3-8961-aa21f4bffee2');\nvar x = new MutationObserver(function (mutations, observer) {{\n        var display = window.getComputedStyle(gd).display;\n        if (!display || display === 'none') {{\n            console.log([gd, 'removed!']);\n            Plotly.purge(gd);\n            observer.disconnect();\n        }}\n}});\n\n// Listen for the removal of the full notebook cells\nvar notebookContainer = gd.closest('#notebook-container');\nif (notebookContainer) {{\n    x.observe(notebookContainer, {childList: true});\n}}\n\n// Listen for the clearing of the current output cell\nvar outputEl = gd.closest('.output');\nif (outputEl) {{\n    x.observe(outputEl, {childList: true});\n}}\n\n                        })                };                });            </script>        </div>"
     },
     "metadata": {}
    }
   ],
   "source": [
    "cnt_ = aa.groupby('Party').agg({'eng_sum':'sum'}).sort_values(by='eng_sum',ascending=False)\n",
    "\n",
    "trace1 = go.Bar(\n",
    "                x = cnt_.index,\n",
    "                y = cnt_['eng_sum'],\n",
    "                name = \"Number of tweet in dataset\",\n",
    "                marker = dict(color = 'rgba(200, 74, 55, 0.5)',\n",
    "                             line=dict(color='rgb(0,0,0)',width=1.5)),\n",
    "                )\n",
    "\n",
    "data = [trace1]\n",
    "layout = go.Layout(barmode = \"group\",title = 'Number of engagement in dataset according to Party')\n",
    "fig = go.Figure(data = data, layout = layout)\n",
    "py.iplot(fig)"
   ]
  },
  {
   "cell_type": "code",
   "execution_count": 14,
   "metadata": {},
   "outputs": [
    {
     "output_type": "display_data",
     "data": {
      "application/vnd.plotly.v1+json": {
       "config": {
        "linkText": "Export to plot.ly",
        "plotlyServerURL": "https://plot.ly",
        "showLink": false
       },
       "data": [
        {
         "marker": {
          "color": "rgba(200, 74, 55, 0.5)",
          "line": {
           "color": "rgb(0,0,0)",
           "width": 1.5
          }
         },
         "name": "Number of tweets in dataset according ",
         "type": "bar",
         "x": [
          "อนาคตใหม่",
          "เพื่อไทย",
          "อนาคตใหม่",
          "เพื่อไทย",
          "ประชาธิปัตย์",
          "พลังประชารัฐ",
          "อนาคตใหม่",
          "เศรษฐกิจใหม่",
          "เพื่อไทย",
          "พลังประชารัฐ",
          "ประชาธิปัตย์",
          "รวมพลังประชาชาติไทย",
          "อนาคตใหม่",
          "ประชาธิปัตย์",
          "ชาติไทยพัฒนา"
         ],
         "y": [
          1304833,
          195416,
          163298,
          35060,
          19879,
          17958,
          17608,
          12300,
          7741,
          5443,
          1346,
          532,
          501,
          115,
          41
         ]
        }
       ],
       "layout": {
        "barmode": "group",
        "template": {
         "data": {
          "bar": [
           {
            "error_x": {
             "color": "#2a3f5f"
            },
            "error_y": {
             "color": "#2a3f5f"
            },
            "marker": {
             "line": {
              "color": "#E5ECF6",
              "width": 0.5
             }
            },
            "type": "bar"
           }
          ],
          "barpolar": [
           {
            "marker": {
             "line": {
              "color": "#E5ECF6",
              "width": 0.5
             }
            },
            "type": "barpolar"
           }
          ],
          "carpet": [
           {
            "aaxis": {
             "endlinecolor": "#2a3f5f",
             "gridcolor": "white",
             "linecolor": "white",
             "minorgridcolor": "white",
             "startlinecolor": "#2a3f5f"
            },
            "baxis": {
             "endlinecolor": "#2a3f5f",
             "gridcolor": "white",
             "linecolor": "white",
             "minorgridcolor": "white",
             "startlinecolor": "#2a3f5f"
            },
            "type": "carpet"
           }
          ],
          "choropleth": [
           {
            "colorbar": {
             "outlinewidth": 0,
             "ticks": ""
            },
            "type": "choropleth"
           }
          ],
          "contour": [
           {
            "colorbar": {
             "outlinewidth": 0,
             "ticks": ""
            },
            "colorscale": [
             [
              0,
              "#0d0887"
             ],
             [
              0.1111111111111111,
              "#46039f"
             ],
             [
              0.2222222222222222,
              "#7201a8"
             ],
             [
              0.3333333333333333,
              "#9c179e"
             ],
             [
              0.4444444444444444,
              "#bd3786"
             ],
             [
              0.5555555555555556,
              "#d8576b"
             ],
             [
              0.6666666666666666,
              "#ed7953"
             ],
             [
              0.7777777777777778,
              "#fb9f3a"
             ],
             [
              0.8888888888888888,
              "#fdca26"
             ],
             [
              1,
              "#f0f921"
             ]
            ],
            "type": "contour"
           }
          ],
          "contourcarpet": [
           {
            "colorbar": {
             "outlinewidth": 0,
             "ticks": ""
            },
            "type": "contourcarpet"
           }
          ],
          "heatmap": [
           {
            "colorbar": {
             "outlinewidth": 0,
             "ticks": ""
            },
            "colorscale": [
             [
              0,
              "#0d0887"
             ],
             [
              0.1111111111111111,
              "#46039f"
             ],
             [
              0.2222222222222222,
              "#7201a8"
             ],
             [
              0.3333333333333333,
              "#9c179e"
             ],
             [
              0.4444444444444444,
              "#bd3786"
             ],
             [
              0.5555555555555556,
              "#d8576b"
             ],
             [
              0.6666666666666666,
              "#ed7953"
             ],
             [
              0.7777777777777778,
              "#fb9f3a"
             ],
             [
              0.8888888888888888,
              "#fdca26"
             ],
             [
              1,
              "#f0f921"
             ]
            ],
            "type": "heatmap"
           }
          ],
          "heatmapgl": [
           {
            "colorbar": {
             "outlinewidth": 0,
             "ticks": ""
            },
            "colorscale": [
             [
              0,
              "#0d0887"
             ],
             [
              0.1111111111111111,
              "#46039f"
             ],
             [
              0.2222222222222222,
              "#7201a8"
             ],
             [
              0.3333333333333333,
              "#9c179e"
             ],
             [
              0.4444444444444444,
              "#bd3786"
             ],
             [
              0.5555555555555556,
              "#d8576b"
             ],
             [
              0.6666666666666666,
              "#ed7953"
             ],
             [
              0.7777777777777778,
              "#fb9f3a"
             ],
             [
              0.8888888888888888,
              "#fdca26"
             ],
             [
              1,
              "#f0f921"
             ]
            ],
            "type": "heatmapgl"
           }
          ],
          "histogram": [
           {
            "marker": {
             "colorbar": {
              "outlinewidth": 0,
              "ticks": ""
             }
            },
            "type": "histogram"
           }
          ],
          "histogram2d": [
           {
            "colorbar": {
             "outlinewidth": 0,
             "ticks": ""
            },
            "colorscale": [
             [
              0,
              "#0d0887"
             ],
             [
              0.1111111111111111,
              "#46039f"
             ],
             [
              0.2222222222222222,
              "#7201a8"
             ],
             [
              0.3333333333333333,
              "#9c179e"
             ],
             [
              0.4444444444444444,
              "#bd3786"
             ],
             [
              0.5555555555555556,
              "#d8576b"
             ],
             [
              0.6666666666666666,
              "#ed7953"
             ],
             [
              0.7777777777777778,
              "#fb9f3a"
             ],
             [
              0.8888888888888888,
              "#fdca26"
             ],
             [
              1,
              "#f0f921"
             ]
            ],
            "type": "histogram2d"
           }
          ],
          "histogram2dcontour": [
           {
            "colorbar": {
             "outlinewidth": 0,
             "ticks": ""
            },
            "colorscale": [
             [
              0,
              "#0d0887"
             ],
             [
              0.1111111111111111,
              "#46039f"
             ],
             [
              0.2222222222222222,
              "#7201a8"
             ],
             [
              0.3333333333333333,
              "#9c179e"
             ],
             [
              0.4444444444444444,
              "#bd3786"
             ],
             [
              0.5555555555555556,
              "#d8576b"
             ],
             [
              0.6666666666666666,
              "#ed7953"
             ],
             [
              0.7777777777777778,
              "#fb9f3a"
             ],
             [
              0.8888888888888888,
              "#fdca26"
             ],
             [
              1,
              "#f0f921"
             ]
            ],
            "type": "histogram2dcontour"
           }
          ],
          "mesh3d": [
           {
            "colorbar": {
             "outlinewidth": 0,
             "ticks": ""
            },
            "type": "mesh3d"
           }
          ],
          "parcoords": [
           {
            "line": {
             "colorbar": {
              "outlinewidth": 0,
              "ticks": ""
             }
            },
            "type": "parcoords"
           }
          ],
          "pie": [
           {
            "automargin": true,
            "type": "pie"
           }
          ],
          "scatter": [
           {
            "marker": {
             "colorbar": {
              "outlinewidth": 0,
              "ticks": ""
             }
            },
            "type": "scatter"
           }
          ],
          "scatter3d": [
           {
            "line": {
             "colorbar": {
              "outlinewidth": 0,
              "ticks": ""
             }
            },
            "marker": {
             "colorbar": {
              "outlinewidth": 0,
              "ticks": ""
             }
            },
            "type": "scatter3d"
           }
          ],
          "scattercarpet": [
           {
            "marker": {
             "colorbar": {
              "outlinewidth": 0,
              "ticks": ""
             }
            },
            "type": "scattercarpet"
           }
          ],
          "scattergeo": [
           {
            "marker": {
             "colorbar": {
              "outlinewidth": 0,
              "ticks": ""
             }
            },
            "type": "scattergeo"
           }
          ],
          "scattergl": [
           {
            "marker": {
             "colorbar": {
              "outlinewidth": 0,
              "ticks": ""
             }
            },
            "type": "scattergl"
           }
          ],
          "scattermapbox": [
           {
            "marker": {
             "colorbar": {
              "outlinewidth": 0,
              "ticks": ""
             }
            },
            "type": "scattermapbox"
           }
          ],
          "scatterpolar": [
           {
            "marker": {
             "colorbar": {
              "outlinewidth": 0,
              "ticks": ""
             }
            },
            "type": "scatterpolar"
           }
          ],
          "scatterpolargl": [
           {
            "marker": {
             "colorbar": {
              "outlinewidth": 0,
              "ticks": ""
             }
            },
            "type": "scatterpolargl"
           }
          ],
          "scatterternary": [
           {
            "marker": {
             "colorbar": {
              "outlinewidth": 0,
              "ticks": ""
             }
            },
            "type": "scatterternary"
           }
          ],
          "surface": [
           {
            "colorbar": {
             "outlinewidth": 0,
             "ticks": ""
            },
            "colorscale": [
             [
              0,
              "#0d0887"
             ],
             [
              0.1111111111111111,
              "#46039f"
             ],
             [
              0.2222222222222222,
              "#7201a8"
             ],
             [
              0.3333333333333333,
              "#9c179e"
             ],
             [
              0.4444444444444444,
              "#bd3786"
             ],
             [
              0.5555555555555556,
              "#d8576b"
             ],
             [
              0.6666666666666666,
              "#ed7953"
             ],
             [
              0.7777777777777778,
              "#fb9f3a"
             ],
             [
              0.8888888888888888,
              "#fdca26"
             ],
             [
              1,
              "#f0f921"
             ]
            ],
            "type": "surface"
           }
          ],
          "table": [
           {
            "cells": {
             "fill": {
              "color": "#EBF0F8"
             },
             "line": {
              "color": "white"
             }
            },
            "header": {
             "fill": {
              "color": "#C8D4E3"
             },
             "line": {
              "color": "white"
             }
            },
            "type": "table"
           }
          ]
         },
         "layout": {
          "annotationdefaults": {
           "arrowcolor": "#2a3f5f",
           "arrowhead": 0,
           "arrowwidth": 1
          },
          "coloraxis": {
           "colorbar": {
            "outlinewidth": 0,
            "ticks": ""
           }
          },
          "colorscale": {
           "diverging": [
            [
             0,
             "#8e0152"
            ],
            [
             0.1,
             "#c51b7d"
            ],
            [
             0.2,
             "#de77ae"
            ],
            [
             0.3,
             "#f1b6da"
            ],
            [
             0.4,
             "#fde0ef"
            ],
            [
             0.5,
             "#f7f7f7"
            ],
            [
             0.6,
             "#e6f5d0"
            ],
            [
             0.7,
             "#b8e186"
            ],
            [
             0.8,
             "#7fbc41"
            ],
            [
             0.9,
             "#4d9221"
            ],
            [
             1,
             "#276419"
            ]
           ],
           "sequential": [
            [
             0,
             "#0d0887"
            ],
            [
             0.1111111111111111,
             "#46039f"
            ],
            [
             0.2222222222222222,
             "#7201a8"
            ],
            [
             0.3333333333333333,
             "#9c179e"
            ],
            [
             0.4444444444444444,
             "#bd3786"
            ],
            [
             0.5555555555555556,
             "#d8576b"
            ],
            [
             0.6666666666666666,
             "#ed7953"
            ],
            [
             0.7777777777777778,
             "#fb9f3a"
            ],
            [
             0.8888888888888888,
             "#fdca26"
            ],
            [
             1,
             "#f0f921"
            ]
           ],
           "sequentialminus": [
            [
             0,
             "#0d0887"
            ],
            [
             0.1111111111111111,
             "#46039f"
            ],
            [
             0.2222222222222222,
             "#7201a8"
            ],
            [
             0.3333333333333333,
             "#9c179e"
            ],
            [
             0.4444444444444444,
             "#bd3786"
            ],
            [
             0.5555555555555556,
             "#d8576b"
            ],
            [
             0.6666666666666666,
             "#ed7953"
            ],
            [
             0.7777777777777778,
             "#fb9f3a"
            ],
            [
             0.8888888888888888,
             "#fdca26"
            ],
            [
             1,
             "#f0f921"
            ]
           ]
          },
          "colorway": [
           "#636efa",
           "#EF553B",
           "#00cc96",
           "#ab63fa",
           "#FFA15A",
           "#19d3f3",
           "#FF6692",
           "#B6E880",
           "#FF97FF",
           "#FECB52"
          ],
          "font": {
           "color": "#2a3f5f"
          },
          "geo": {
           "bgcolor": "white",
           "lakecolor": "white",
           "landcolor": "#E5ECF6",
           "showlakes": true,
           "showland": true,
           "subunitcolor": "white"
          },
          "hoverlabel": {
           "align": "left"
          },
          "hovermode": "closest",
          "mapbox": {
           "style": "light"
          },
          "paper_bgcolor": "white",
          "plot_bgcolor": "#E5ECF6",
          "polar": {
           "angularaxis": {
            "gridcolor": "white",
            "linecolor": "white",
            "ticks": ""
           },
           "bgcolor": "#E5ECF6",
           "radialaxis": {
            "gridcolor": "white",
            "linecolor": "white",
            "ticks": ""
           }
          },
          "scene": {
           "xaxis": {
            "backgroundcolor": "#E5ECF6",
            "gridcolor": "white",
            "gridwidth": 2,
            "linecolor": "white",
            "showbackground": true,
            "ticks": "",
            "zerolinecolor": "white"
           },
           "yaxis": {
            "backgroundcolor": "#E5ECF6",
            "gridcolor": "white",
            "gridwidth": 2,
            "linecolor": "white",
            "showbackground": true,
            "ticks": "",
            "zerolinecolor": "white"
           },
           "zaxis": {
            "backgroundcolor": "#E5ECF6",
            "gridcolor": "white",
            "gridwidth": 2,
            "linecolor": "white",
            "showbackground": true,
            "ticks": "",
            "zerolinecolor": "white"
           }
          },
          "shapedefaults": {
           "line": {
            "color": "#2a3f5f"
           }
          },
          "ternary": {
           "aaxis": {
            "gridcolor": "white",
            "linecolor": "white",
            "ticks": ""
           },
           "baxis": {
            "gridcolor": "white",
            "linecolor": "white",
            "ticks": ""
           },
           "bgcolor": "#E5ECF6",
           "caxis": {
            "gridcolor": "white",
            "linecolor": "white",
            "ticks": ""
           }
          },
          "title": {
           "x": 0.05
          },
          "xaxis": {
           "automargin": true,
           "gridcolor": "white",
           "linecolor": "white",
           "ticks": "",
           "title": {
            "standoff": 15
           },
           "zerolinecolor": "white",
           "zerolinewidth": 2
          },
          "yaxis": {
           "automargin": true,
           "gridcolor": "white",
           "linecolor": "white",
           "ticks": "",
           "title": {
            "standoff": 15
           },
           "zerolinecolor": "white",
           "zerolinewidth": 2
          }
         }
        },
        "title": {
         "text": "Number of engagement in dataset according to Party"
        }
       }
      },
      "text/html": "<div>                            <div id=\"c5dd15c6-b5db-461f-89cc-d70869390ba6\" class=\"plotly-graph-div\" style=\"height:525px; width:100%;\"></div>            <script type=\"text/javascript\">                require([\"plotly\"], function(Plotly) {                    window.PLOTLYENV=window.PLOTLYENV || {};                                    if (document.getElementById(\"c5dd15c6-b5db-461f-89cc-d70869390ba6\")) {                    Plotly.newPlot(                        \"c5dd15c6-b5db-461f-89cc-d70869390ba6\",                        [{\"marker\": {\"color\": \"rgba(200, 74, 55, 0.5)\", \"line\": {\"color\": \"rgb(0,0,0)\", \"width\": 1.5}}, \"name\": \"Number of tweets in dataset according \", \"type\": \"bar\", \"x\": [\"\\u0e2d\\u0e19\\u0e32\\u0e04\\u0e15\\u0e43\\u0e2b\\u0e21\\u0e48\", \"\\u0e40\\u0e1e\\u0e37\\u0e48\\u0e2d\\u0e44\\u0e17\\u0e22\", \"\\u0e2d\\u0e19\\u0e32\\u0e04\\u0e15\\u0e43\\u0e2b\\u0e21\\u0e48\", \"\\u0e40\\u0e1e\\u0e37\\u0e48\\u0e2d\\u0e44\\u0e17\\u0e22\", \"\\u0e1b\\u0e23\\u0e30\\u0e0a\\u0e32\\u0e18\\u0e34\\u0e1b\\u0e31\\u0e15\\u0e22\\u0e4c\", \"\\u0e1e\\u0e25\\u0e31\\u0e07\\u0e1b\\u0e23\\u0e30\\u0e0a\\u0e32\\u0e23\\u0e31\\u0e10\", \"\\u0e2d\\u0e19\\u0e32\\u0e04\\u0e15\\u0e43\\u0e2b\\u0e21\\u0e48\", \"\\u0e40\\u0e28\\u0e23\\u0e29\\u0e10\\u0e01\\u0e34\\u0e08\\u0e43\\u0e2b\\u0e21\\u0e48\", \"\\u0e40\\u0e1e\\u0e37\\u0e48\\u0e2d\\u0e44\\u0e17\\u0e22\", \"\\u0e1e\\u0e25\\u0e31\\u0e07\\u0e1b\\u0e23\\u0e30\\u0e0a\\u0e32\\u0e23\\u0e31\\u0e10\", \"\\u0e1b\\u0e23\\u0e30\\u0e0a\\u0e32\\u0e18\\u0e34\\u0e1b\\u0e31\\u0e15\\u0e22\\u0e4c\", \"\\u0e23\\u0e27\\u0e21\\u0e1e\\u0e25\\u0e31\\u0e07\\u0e1b\\u0e23\\u0e30\\u0e0a\\u0e32\\u0e0a\\u0e32\\u0e15\\u0e34\\u0e44\\u0e17\\u0e22\", \"\\u0e2d\\u0e19\\u0e32\\u0e04\\u0e15\\u0e43\\u0e2b\\u0e21\\u0e48\", \"\\u0e1b\\u0e23\\u0e30\\u0e0a\\u0e32\\u0e18\\u0e34\\u0e1b\\u0e31\\u0e15\\u0e22\\u0e4c\", \"\\u0e0a\\u0e32\\u0e15\\u0e34\\u0e44\\u0e17\\u0e22\\u0e1e\\u0e31\\u0e12\\u0e19\\u0e32\"], \"y\": [1304833, 195416, 163298, 35060, 19879, 17958, 17608, 12300, 7741, 5443, 1346, 532, 501, 115, 41]}],                        {\"barmode\": \"group\", \"template\": {\"data\": {\"bar\": [{\"error_x\": {\"color\": \"#2a3f5f\"}, \"error_y\": {\"color\": \"#2a3f5f\"}, \"marker\": {\"line\": {\"color\": \"#E5ECF6\", \"width\": 0.5}}, \"type\": \"bar\"}], \"barpolar\": [{\"marker\": {\"line\": {\"color\": \"#E5ECF6\", \"width\": 0.5}}, \"type\": \"barpolar\"}], \"carpet\": [{\"aaxis\": {\"endlinecolor\": \"#2a3f5f\", \"gridcolor\": \"white\", \"linecolor\": \"white\", \"minorgridcolor\": \"white\", \"startlinecolor\": \"#2a3f5f\"}, \"baxis\": {\"endlinecolor\": \"#2a3f5f\", \"gridcolor\": \"white\", \"linecolor\": \"white\", \"minorgridcolor\": \"white\", \"startlinecolor\": \"#2a3f5f\"}, \"type\": \"carpet\"}], \"choropleth\": [{\"colorbar\": {\"outlinewidth\": 0, \"ticks\": \"\"}, \"type\": \"choropleth\"}], \"contour\": [{\"colorbar\": {\"outlinewidth\": 0, \"ticks\": \"\"}, \"colorscale\": [[0.0, \"#0d0887\"], [0.1111111111111111, \"#46039f\"], [0.2222222222222222, \"#7201a8\"], [0.3333333333333333, \"#9c179e\"], [0.4444444444444444, \"#bd3786\"], [0.5555555555555556, \"#d8576b\"], [0.6666666666666666, \"#ed7953\"], [0.7777777777777778, \"#fb9f3a\"], [0.8888888888888888, \"#fdca26\"], [1.0, \"#f0f921\"]], \"type\": \"contour\"}], \"contourcarpet\": [{\"colorbar\": {\"outlinewidth\": 0, \"ticks\": \"\"}, \"type\": \"contourcarpet\"}], \"heatmap\": [{\"colorbar\": {\"outlinewidth\": 0, \"ticks\": \"\"}, \"colorscale\": [[0.0, \"#0d0887\"], [0.1111111111111111, \"#46039f\"], [0.2222222222222222, \"#7201a8\"], [0.3333333333333333, \"#9c179e\"], [0.4444444444444444, \"#bd3786\"], [0.5555555555555556, \"#d8576b\"], [0.6666666666666666, \"#ed7953\"], [0.7777777777777778, \"#fb9f3a\"], [0.8888888888888888, \"#fdca26\"], [1.0, \"#f0f921\"]], \"type\": \"heatmap\"}], \"heatmapgl\": [{\"colorbar\": {\"outlinewidth\": 0, \"ticks\": \"\"}, \"colorscale\": [[0.0, \"#0d0887\"], [0.1111111111111111, \"#46039f\"], [0.2222222222222222, \"#7201a8\"], [0.3333333333333333, \"#9c179e\"], [0.4444444444444444, \"#bd3786\"], [0.5555555555555556, \"#d8576b\"], [0.6666666666666666, \"#ed7953\"], [0.7777777777777778, \"#fb9f3a\"], [0.8888888888888888, \"#fdca26\"], [1.0, \"#f0f921\"]], \"type\": \"heatmapgl\"}], \"histogram\": [{\"marker\": {\"colorbar\": {\"outlinewidth\": 0, \"ticks\": \"\"}}, \"type\": \"histogram\"}], \"histogram2d\": [{\"colorbar\": {\"outlinewidth\": 0, \"ticks\": \"\"}, \"colorscale\": [[0.0, \"#0d0887\"], [0.1111111111111111, \"#46039f\"], [0.2222222222222222, \"#7201a8\"], [0.3333333333333333, \"#9c179e\"], [0.4444444444444444, \"#bd3786\"], [0.5555555555555556, \"#d8576b\"], [0.6666666666666666, \"#ed7953\"], [0.7777777777777778, \"#fb9f3a\"], [0.8888888888888888, \"#fdca26\"], [1.0, \"#f0f921\"]], \"type\": \"histogram2d\"}], \"histogram2dcontour\": [{\"colorbar\": {\"outlinewidth\": 0, \"ticks\": \"\"}, \"colorscale\": [[0.0, \"#0d0887\"], [0.1111111111111111, \"#46039f\"], [0.2222222222222222, \"#7201a8\"], [0.3333333333333333, \"#9c179e\"], [0.4444444444444444, \"#bd3786\"], [0.5555555555555556, \"#d8576b\"], [0.6666666666666666, \"#ed7953\"], [0.7777777777777778, \"#fb9f3a\"], [0.8888888888888888, \"#fdca26\"], [1.0, \"#f0f921\"]], \"type\": \"histogram2dcontour\"}], \"mesh3d\": [{\"colorbar\": {\"outlinewidth\": 0, \"ticks\": \"\"}, \"type\": \"mesh3d\"}], \"parcoords\": [{\"line\": {\"colorbar\": {\"outlinewidth\": 0, \"ticks\": \"\"}}, \"type\": \"parcoords\"}], \"pie\": [{\"automargin\": true, \"type\": \"pie\"}], \"scatter\": [{\"marker\": {\"colorbar\": {\"outlinewidth\": 0, \"ticks\": \"\"}}, \"type\": \"scatter\"}], \"scatter3d\": [{\"line\": {\"colorbar\": {\"outlinewidth\": 0, \"ticks\": \"\"}}, \"marker\": {\"colorbar\": {\"outlinewidth\": 0, \"ticks\": \"\"}}, \"type\": \"scatter3d\"}], \"scattercarpet\": [{\"marker\": {\"colorbar\": {\"outlinewidth\": 0, \"ticks\": \"\"}}, \"type\": \"scattercarpet\"}], \"scattergeo\": [{\"marker\": {\"colorbar\": {\"outlinewidth\": 0, \"ticks\": \"\"}}, \"type\": \"scattergeo\"}], \"scattergl\": [{\"marker\": {\"colorbar\": {\"outlinewidth\": 0, \"ticks\": \"\"}}, \"type\": \"scattergl\"}], \"scattermapbox\": [{\"marker\": {\"colorbar\": {\"outlinewidth\": 0, \"ticks\": \"\"}}, \"type\": \"scattermapbox\"}], \"scatterpolar\": [{\"marker\": {\"colorbar\": {\"outlinewidth\": 0, \"ticks\": \"\"}}, \"type\": \"scatterpolar\"}], \"scatterpolargl\": [{\"marker\": {\"colorbar\": {\"outlinewidth\": 0, \"ticks\": \"\"}}, \"type\": \"scatterpolargl\"}], \"scatterternary\": [{\"marker\": {\"colorbar\": {\"outlinewidth\": 0, \"ticks\": \"\"}}, \"type\": \"scatterternary\"}], \"surface\": [{\"colorbar\": {\"outlinewidth\": 0, \"ticks\": \"\"}, \"colorscale\": [[0.0, \"#0d0887\"], [0.1111111111111111, \"#46039f\"], [0.2222222222222222, \"#7201a8\"], [0.3333333333333333, \"#9c179e\"], [0.4444444444444444, \"#bd3786\"], [0.5555555555555556, \"#d8576b\"], [0.6666666666666666, \"#ed7953\"], [0.7777777777777778, \"#fb9f3a\"], [0.8888888888888888, \"#fdca26\"], [1.0, \"#f0f921\"]], \"type\": \"surface\"}], \"table\": [{\"cells\": {\"fill\": {\"color\": \"#EBF0F8\"}, \"line\": {\"color\": \"white\"}}, \"header\": {\"fill\": {\"color\": \"#C8D4E3\"}, \"line\": {\"color\": \"white\"}}, \"type\": \"table\"}]}, \"layout\": {\"annotationdefaults\": {\"arrowcolor\": \"#2a3f5f\", \"arrowhead\": 0, \"arrowwidth\": 1}, \"coloraxis\": {\"colorbar\": {\"outlinewidth\": 0, \"ticks\": \"\"}}, \"colorscale\": {\"diverging\": [[0, \"#8e0152\"], [0.1, \"#c51b7d\"], [0.2, \"#de77ae\"], [0.3, \"#f1b6da\"], [0.4, \"#fde0ef\"], [0.5, \"#f7f7f7\"], [0.6, \"#e6f5d0\"], [0.7, \"#b8e186\"], [0.8, \"#7fbc41\"], [0.9, \"#4d9221\"], [1, \"#276419\"]], \"sequential\": [[0.0, \"#0d0887\"], [0.1111111111111111, \"#46039f\"], [0.2222222222222222, \"#7201a8\"], [0.3333333333333333, \"#9c179e\"], [0.4444444444444444, \"#bd3786\"], [0.5555555555555556, \"#d8576b\"], [0.6666666666666666, \"#ed7953\"], [0.7777777777777778, \"#fb9f3a\"], [0.8888888888888888, \"#fdca26\"], [1.0, \"#f0f921\"]], \"sequentialminus\": [[0.0, \"#0d0887\"], [0.1111111111111111, \"#46039f\"], [0.2222222222222222, \"#7201a8\"], [0.3333333333333333, \"#9c179e\"], [0.4444444444444444, \"#bd3786\"], [0.5555555555555556, \"#d8576b\"], [0.6666666666666666, \"#ed7953\"], [0.7777777777777778, \"#fb9f3a\"], [0.8888888888888888, \"#fdca26\"], [1.0, \"#f0f921\"]]}, \"colorway\": [\"#636efa\", \"#EF553B\", \"#00cc96\", \"#ab63fa\", \"#FFA15A\", \"#19d3f3\", \"#FF6692\", \"#B6E880\", \"#FF97FF\", \"#FECB52\"], \"font\": {\"color\": \"#2a3f5f\"}, \"geo\": {\"bgcolor\": \"white\", \"lakecolor\": \"white\", \"landcolor\": \"#E5ECF6\", \"showlakes\": true, \"showland\": true, \"subunitcolor\": \"white\"}, \"hoverlabel\": {\"align\": \"left\"}, \"hovermode\": \"closest\", \"mapbox\": {\"style\": \"light\"}, \"paper_bgcolor\": \"white\", \"plot_bgcolor\": \"#E5ECF6\", \"polar\": {\"angularaxis\": {\"gridcolor\": \"white\", \"linecolor\": \"white\", \"ticks\": \"\"}, \"bgcolor\": \"#E5ECF6\", \"radialaxis\": {\"gridcolor\": \"white\", \"linecolor\": \"white\", \"ticks\": \"\"}}, \"scene\": {\"xaxis\": {\"backgroundcolor\": \"#E5ECF6\", \"gridcolor\": \"white\", \"gridwidth\": 2, \"linecolor\": \"white\", \"showbackground\": true, \"ticks\": \"\", \"zerolinecolor\": \"white\"}, \"yaxis\": {\"backgroundcolor\": \"#E5ECF6\", \"gridcolor\": \"white\", \"gridwidth\": 2, \"linecolor\": \"white\", \"showbackground\": true, \"ticks\": \"\", \"zerolinecolor\": \"white\"}, \"zaxis\": {\"backgroundcolor\": \"#E5ECF6\", \"gridcolor\": \"white\", \"gridwidth\": 2, \"linecolor\": \"white\", \"showbackground\": true, \"ticks\": \"\", \"zerolinecolor\": \"white\"}}, \"shapedefaults\": {\"line\": {\"color\": \"#2a3f5f\"}}, \"ternary\": {\"aaxis\": {\"gridcolor\": \"white\", \"linecolor\": \"white\", \"ticks\": \"\"}, \"baxis\": {\"gridcolor\": \"white\", \"linecolor\": \"white\", \"ticks\": \"\"}, \"bgcolor\": \"#E5ECF6\", \"caxis\": {\"gridcolor\": \"white\", \"linecolor\": \"white\", \"ticks\": \"\"}}, \"title\": {\"x\": 0.05}, \"xaxis\": {\"automargin\": true, \"gridcolor\": \"white\", \"linecolor\": \"white\", \"ticks\": \"\", \"title\": {\"standoff\": 15}, \"zerolinecolor\": \"white\", \"zerolinewidth\": 2}, \"yaxis\": {\"automargin\": true, \"gridcolor\": \"white\", \"linecolor\": \"white\", \"ticks\": \"\", \"title\": {\"standoff\": 15}, \"zerolinecolor\": \"white\", \"zerolinewidth\": 2}}}, \"title\": {\"text\": \"Number of engagement in dataset according to Party\"}},                        {\"responsive\": true}                    ).then(function(){\n                            \nvar gd = document.getElementById('c5dd15c6-b5db-461f-89cc-d70869390ba6');\nvar x = new MutationObserver(function (mutations, observer) {{\n        var display = window.getComputedStyle(gd).display;\n        if (!display || display === 'none') {{\n            console.log([gd, 'removed!']);\n            Plotly.purge(gd);\n            observer.disconnect();\n        }}\n}});\n\n// Listen for the removal of the full notebook cells\nvar notebookContainer = gd.closest('#notebook-container');\nif (notebookContainer) {{\n    x.observe(notebookContainer, {childList: true});\n}}\n\n// Listen for the clearing of the current output cell\nvar outputEl = gd.closest('.output');\nif (outputEl) {{\n    x.observe(outputEl, {childList: true});\n}}\n\n                        })                };                });            </script>        </div>"
     },
     "metadata": {}
    }
   ],
   "source": [
    "trace1 = go.Bar(\n",
    "                x = aa['Party'],\n",
    "                y = aa['eng_sum'],\n",
    "                name = \"Number of tweets in dataset according \",\n",
    "                marker = dict(color = 'rgba(200, 74, 55, 0.5)',\n",
    "                             line=dict(color='rgb(0,0,0)',width=1.5)),\n",
    "                )\n",
    "\n",
    "data = [trace1]\n",
    "layout = go.Layout(barmode = \"group\",title = 'Number of engagement in dataset according to Party')\n",
    "fig = go.Figure(data = data, layout = layout)\n",
    "py.iplot(fig)"
   ]
  },
  {
   "cell_type": "code",
   "execution_count": 15,
   "metadata": {},
   "outputs": [
    {
     "output_type": "display_data",
     "data": {
      "application/vnd.plotly.v1+json": {
       "config": {
        "linkText": "Export to plot.ly",
        "plotlyServerURL": "https://plot.ly",
        "showLink": false
       },
       "data": [
        {
         "marker": {
          "color": "rgba(200, 74, 55, 0.5)",
          "line": {
           "color": "rgb(0,0,0)",
           "width": 1.5
          }
         },
         "name": "Number of tweets in dataset according ",
         "type": "bar",
         "x": [
          "เพื่อไทย",
          "เพื่อไทย",
          "ประชาธิปัตย์",
          "พลังประชารัฐ",
          "เศรษฐกิจใหม่",
          "เพื่อไทย",
          "พลังประชารัฐ",
          "ประชาธิปัตย์",
          "รวมพลังประชาชาติไทย",
          "ประชาธิปัตย์",
          "ชาติไทยพัฒนา"
         ],
         "y": [
          195416,
          35060,
          19879,
          17958,
          12300,
          7741,
          5443,
          1346,
          532,
          115,
          41
         ]
        }
       ],
       "layout": {
        "barmode": "group",
        "template": {
         "data": {
          "bar": [
           {
            "error_x": {
             "color": "#2a3f5f"
            },
            "error_y": {
             "color": "#2a3f5f"
            },
            "marker": {
             "line": {
              "color": "#E5ECF6",
              "width": 0.5
             }
            },
            "type": "bar"
           }
          ],
          "barpolar": [
           {
            "marker": {
             "line": {
              "color": "#E5ECF6",
              "width": 0.5
             }
            },
            "type": "barpolar"
           }
          ],
          "carpet": [
           {
            "aaxis": {
             "endlinecolor": "#2a3f5f",
             "gridcolor": "white",
             "linecolor": "white",
             "minorgridcolor": "white",
             "startlinecolor": "#2a3f5f"
            },
            "baxis": {
             "endlinecolor": "#2a3f5f",
             "gridcolor": "white",
             "linecolor": "white",
             "minorgridcolor": "white",
             "startlinecolor": "#2a3f5f"
            },
            "type": "carpet"
           }
          ],
          "choropleth": [
           {
            "colorbar": {
             "outlinewidth": 0,
             "ticks": ""
            },
            "type": "choropleth"
           }
          ],
          "contour": [
           {
            "colorbar": {
             "outlinewidth": 0,
             "ticks": ""
            },
            "colorscale": [
             [
              0,
              "#0d0887"
             ],
             [
              0.1111111111111111,
              "#46039f"
             ],
             [
              0.2222222222222222,
              "#7201a8"
             ],
             [
              0.3333333333333333,
              "#9c179e"
             ],
             [
              0.4444444444444444,
              "#bd3786"
             ],
             [
              0.5555555555555556,
              "#d8576b"
             ],
             [
              0.6666666666666666,
              "#ed7953"
             ],
             [
              0.7777777777777778,
              "#fb9f3a"
             ],
             [
              0.8888888888888888,
              "#fdca26"
             ],
             [
              1,
              "#f0f921"
             ]
            ],
            "type": "contour"
           }
          ],
          "contourcarpet": [
           {
            "colorbar": {
             "outlinewidth": 0,
             "ticks": ""
            },
            "type": "contourcarpet"
           }
          ],
          "heatmap": [
           {
            "colorbar": {
             "outlinewidth": 0,
             "ticks": ""
            },
            "colorscale": [
             [
              0,
              "#0d0887"
             ],
             [
              0.1111111111111111,
              "#46039f"
             ],
             [
              0.2222222222222222,
              "#7201a8"
             ],
             [
              0.3333333333333333,
              "#9c179e"
             ],
             [
              0.4444444444444444,
              "#bd3786"
             ],
             [
              0.5555555555555556,
              "#d8576b"
             ],
             [
              0.6666666666666666,
              "#ed7953"
             ],
             [
              0.7777777777777778,
              "#fb9f3a"
             ],
             [
              0.8888888888888888,
              "#fdca26"
             ],
             [
              1,
              "#f0f921"
             ]
            ],
            "type": "heatmap"
           }
          ],
          "heatmapgl": [
           {
            "colorbar": {
             "outlinewidth": 0,
             "ticks": ""
            },
            "colorscale": [
             [
              0,
              "#0d0887"
             ],
             [
              0.1111111111111111,
              "#46039f"
             ],
             [
              0.2222222222222222,
              "#7201a8"
             ],
             [
              0.3333333333333333,
              "#9c179e"
             ],
             [
              0.4444444444444444,
              "#bd3786"
             ],
             [
              0.5555555555555556,
              "#d8576b"
             ],
             [
              0.6666666666666666,
              "#ed7953"
             ],
             [
              0.7777777777777778,
              "#fb9f3a"
             ],
             [
              0.8888888888888888,
              "#fdca26"
             ],
             [
              1,
              "#f0f921"
             ]
            ],
            "type": "heatmapgl"
           }
          ],
          "histogram": [
           {
            "marker": {
             "colorbar": {
              "outlinewidth": 0,
              "ticks": ""
             }
            },
            "type": "histogram"
           }
          ],
          "histogram2d": [
           {
            "colorbar": {
             "outlinewidth": 0,
             "ticks": ""
            },
            "colorscale": [
             [
              0,
              "#0d0887"
             ],
             [
              0.1111111111111111,
              "#46039f"
             ],
             [
              0.2222222222222222,
              "#7201a8"
             ],
             [
              0.3333333333333333,
              "#9c179e"
             ],
             [
              0.4444444444444444,
              "#bd3786"
             ],
             [
              0.5555555555555556,
              "#d8576b"
             ],
             [
              0.6666666666666666,
              "#ed7953"
             ],
             [
              0.7777777777777778,
              "#fb9f3a"
             ],
             [
              0.8888888888888888,
              "#fdca26"
             ],
             [
              1,
              "#f0f921"
             ]
            ],
            "type": "histogram2d"
           }
          ],
          "histogram2dcontour": [
           {
            "colorbar": {
             "outlinewidth": 0,
             "ticks": ""
            },
            "colorscale": [
             [
              0,
              "#0d0887"
             ],
             [
              0.1111111111111111,
              "#46039f"
             ],
             [
              0.2222222222222222,
              "#7201a8"
             ],
             [
              0.3333333333333333,
              "#9c179e"
             ],
             [
              0.4444444444444444,
              "#bd3786"
             ],
             [
              0.5555555555555556,
              "#d8576b"
             ],
             [
              0.6666666666666666,
              "#ed7953"
             ],
             [
              0.7777777777777778,
              "#fb9f3a"
             ],
             [
              0.8888888888888888,
              "#fdca26"
             ],
             [
              1,
              "#f0f921"
             ]
            ],
            "type": "histogram2dcontour"
           }
          ],
          "mesh3d": [
           {
            "colorbar": {
             "outlinewidth": 0,
             "ticks": ""
            },
            "type": "mesh3d"
           }
          ],
          "parcoords": [
           {
            "line": {
             "colorbar": {
              "outlinewidth": 0,
              "ticks": ""
             }
            },
            "type": "parcoords"
           }
          ],
          "pie": [
           {
            "automargin": true,
            "type": "pie"
           }
          ],
          "scatter": [
           {
            "marker": {
             "colorbar": {
              "outlinewidth": 0,
              "ticks": ""
             }
            },
            "type": "scatter"
           }
          ],
          "scatter3d": [
           {
            "line": {
             "colorbar": {
              "outlinewidth": 0,
              "ticks": ""
             }
            },
            "marker": {
             "colorbar": {
              "outlinewidth": 0,
              "ticks": ""
             }
            },
            "type": "scatter3d"
           }
          ],
          "scattercarpet": [
           {
            "marker": {
             "colorbar": {
              "outlinewidth": 0,
              "ticks": ""
             }
            },
            "type": "scattercarpet"
           }
          ],
          "scattergeo": [
           {
            "marker": {
             "colorbar": {
              "outlinewidth": 0,
              "ticks": ""
             }
            },
            "type": "scattergeo"
           }
          ],
          "scattergl": [
           {
            "marker": {
             "colorbar": {
              "outlinewidth": 0,
              "ticks": ""
             }
            },
            "type": "scattergl"
           }
          ],
          "scattermapbox": [
           {
            "marker": {
             "colorbar": {
              "outlinewidth": 0,
              "ticks": ""
             }
            },
            "type": "scattermapbox"
           }
          ],
          "scatterpolar": [
           {
            "marker": {
             "colorbar": {
              "outlinewidth": 0,
              "ticks": ""
             }
            },
            "type": "scatterpolar"
           }
          ],
          "scatterpolargl": [
           {
            "marker": {
             "colorbar": {
              "outlinewidth": 0,
              "ticks": ""
             }
            },
            "type": "scatterpolargl"
           }
          ],
          "scatterternary": [
           {
            "marker": {
             "colorbar": {
              "outlinewidth": 0,
              "ticks": ""
             }
            },
            "type": "scatterternary"
           }
          ],
          "surface": [
           {
            "colorbar": {
             "outlinewidth": 0,
             "ticks": ""
            },
            "colorscale": [
             [
              0,
              "#0d0887"
             ],
             [
              0.1111111111111111,
              "#46039f"
             ],
             [
              0.2222222222222222,
              "#7201a8"
             ],
             [
              0.3333333333333333,
              "#9c179e"
             ],
             [
              0.4444444444444444,
              "#bd3786"
             ],
             [
              0.5555555555555556,
              "#d8576b"
             ],
             [
              0.6666666666666666,
              "#ed7953"
             ],
             [
              0.7777777777777778,
              "#fb9f3a"
             ],
             [
              0.8888888888888888,
              "#fdca26"
             ],
             [
              1,
              "#f0f921"
             ]
            ],
            "type": "surface"
           }
          ],
          "table": [
           {
            "cells": {
             "fill": {
              "color": "#EBF0F8"
             },
             "line": {
              "color": "white"
             }
            },
            "header": {
             "fill": {
              "color": "#C8D4E3"
             },
             "line": {
              "color": "white"
             }
            },
            "type": "table"
           }
          ]
         },
         "layout": {
          "annotationdefaults": {
           "arrowcolor": "#2a3f5f",
           "arrowhead": 0,
           "arrowwidth": 1
          },
          "coloraxis": {
           "colorbar": {
            "outlinewidth": 0,
            "ticks": ""
           }
          },
          "colorscale": {
           "diverging": [
            [
             0,
             "#8e0152"
            ],
            [
             0.1,
             "#c51b7d"
            ],
            [
             0.2,
             "#de77ae"
            ],
            [
             0.3,
             "#f1b6da"
            ],
            [
             0.4,
             "#fde0ef"
            ],
            [
             0.5,
             "#f7f7f7"
            ],
            [
             0.6,
             "#e6f5d0"
            ],
            [
             0.7,
             "#b8e186"
            ],
            [
             0.8,
             "#7fbc41"
            ],
            [
             0.9,
             "#4d9221"
            ],
            [
             1,
             "#276419"
            ]
           ],
           "sequential": [
            [
             0,
             "#0d0887"
            ],
            [
             0.1111111111111111,
             "#46039f"
            ],
            [
             0.2222222222222222,
             "#7201a8"
            ],
            [
             0.3333333333333333,
             "#9c179e"
            ],
            [
             0.4444444444444444,
             "#bd3786"
            ],
            [
             0.5555555555555556,
             "#d8576b"
            ],
            [
             0.6666666666666666,
             "#ed7953"
            ],
            [
             0.7777777777777778,
             "#fb9f3a"
            ],
            [
             0.8888888888888888,
             "#fdca26"
            ],
            [
             1,
             "#f0f921"
            ]
           ],
           "sequentialminus": [
            [
             0,
             "#0d0887"
            ],
            [
             0.1111111111111111,
             "#46039f"
            ],
            [
             0.2222222222222222,
             "#7201a8"
            ],
            [
             0.3333333333333333,
             "#9c179e"
            ],
            [
             0.4444444444444444,
             "#bd3786"
            ],
            [
             0.5555555555555556,
             "#d8576b"
            ],
            [
             0.6666666666666666,
             "#ed7953"
            ],
            [
             0.7777777777777778,
             "#fb9f3a"
            ],
            [
             0.8888888888888888,
             "#fdca26"
            ],
            [
             1,
             "#f0f921"
            ]
           ]
          },
          "colorway": [
           "#636efa",
           "#EF553B",
           "#00cc96",
           "#ab63fa",
           "#FFA15A",
           "#19d3f3",
           "#FF6692",
           "#B6E880",
           "#FF97FF",
           "#FECB52"
          ],
          "font": {
           "color": "#2a3f5f"
          },
          "geo": {
           "bgcolor": "white",
           "lakecolor": "white",
           "landcolor": "#E5ECF6",
           "showlakes": true,
           "showland": true,
           "subunitcolor": "white"
          },
          "hoverlabel": {
           "align": "left"
          },
          "hovermode": "closest",
          "mapbox": {
           "style": "light"
          },
          "paper_bgcolor": "white",
          "plot_bgcolor": "#E5ECF6",
          "polar": {
           "angularaxis": {
            "gridcolor": "white",
            "linecolor": "white",
            "ticks": ""
           },
           "bgcolor": "#E5ECF6",
           "radialaxis": {
            "gridcolor": "white",
            "linecolor": "white",
            "ticks": ""
           }
          },
          "scene": {
           "xaxis": {
            "backgroundcolor": "#E5ECF6",
            "gridcolor": "white",
            "gridwidth": 2,
            "linecolor": "white",
            "showbackground": true,
            "ticks": "",
            "zerolinecolor": "white"
           },
           "yaxis": {
            "backgroundcolor": "#E5ECF6",
            "gridcolor": "white",
            "gridwidth": 2,
            "linecolor": "white",
            "showbackground": true,
            "ticks": "",
            "zerolinecolor": "white"
           },
           "zaxis": {
            "backgroundcolor": "#E5ECF6",
            "gridcolor": "white",
            "gridwidth": 2,
            "linecolor": "white",
            "showbackground": true,
            "ticks": "",
            "zerolinecolor": "white"
           }
          },
          "shapedefaults": {
           "line": {
            "color": "#2a3f5f"
           }
          },
          "ternary": {
           "aaxis": {
            "gridcolor": "white",
            "linecolor": "white",
            "ticks": ""
           },
           "baxis": {
            "gridcolor": "white",
            "linecolor": "white",
            "ticks": ""
           },
           "bgcolor": "#E5ECF6",
           "caxis": {
            "gridcolor": "white",
            "linecolor": "white",
            "ticks": ""
           }
          },
          "title": {
           "x": 0.05
          },
          "xaxis": {
           "automargin": true,
           "gridcolor": "white",
           "linecolor": "white",
           "ticks": "",
           "title": {
            "standoff": 15
           },
           "zerolinecolor": "white",
           "zerolinewidth": 2
          },
          "yaxis": {
           "automargin": true,
           "gridcolor": "white",
           "linecolor": "white",
           "ticks": "",
           "title": {
            "standoff": 15
           },
           "zerolinecolor": "white",
           "zerolinewidth": 2
          }
         }
        },
        "title": {
         "text": "Number of tweet in dataset according to Username"
        }
       }
      },
      "text/html": "<div>                            <div id=\"84a4aab2-5e66-4c20-98f6-da393cb6c4b9\" class=\"plotly-graph-div\" style=\"height:525px; width:100%;\"></div>            <script type=\"text/javascript\">                require([\"plotly\"], function(Plotly) {                    window.PLOTLYENV=window.PLOTLYENV || {};                                    if (document.getElementById(\"84a4aab2-5e66-4c20-98f6-da393cb6c4b9\")) {                    Plotly.newPlot(                        \"84a4aab2-5e66-4c20-98f6-da393cb6c4b9\",                        [{\"marker\": {\"color\": \"rgba(200, 74, 55, 0.5)\", \"line\": {\"color\": \"rgb(0,0,0)\", \"width\": 1.5}}, \"name\": \"Number of tweets in dataset according \", \"type\": \"bar\", \"x\": [\"\\u0e40\\u0e1e\\u0e37\\u0e48\\u0e2d\\u0e44\\u0e17\\u0e22\", \"\\u0e40\\u0e1e\\u0e37\\u0e48\\u0e2d\\u0e44\\u0e17\\u0e22\", \"\\u0e1b\\u0e23\\u0e30\\u0e0a\\u0e32\\u0e18\\u0e34\\u0e1b\\u0e31\\u0e15\\u0e22\\u0e4c\", \"\\u0e1e\\u0e25\\u0e31\\u0e07\\u0e1b\\u0e23\\u0e30\\u0e0a\\u0e32\\u0e23\\u0e31\\u0e10\", \"\\u0e40\\u0e28\\u0e23\\u0e29\\u0e10\\u0e01\\u0e34\\u0e08\\u0e43\\u0e2b\\u0e21\\u0e48\", \"\\u0e40\\u0e1e\\u0e37\\u0e48\\u0e2d\\u0e44\\u0e17\\u0e22\", \"\\u0e1e\\u0e25\\u0e31\\u0e07\\u0e1b\\u0e23\\u0e30\\u0e0a\\u0e32\\u0e23\\u0e31\\u0e10\", \"\\u0e1b\\u0e23\\u0e30\\u0e0a\\u0e32\\u0e18\\u0e34\\u0e1b\\u0e31\\u0e15\\u0e22\\u0e4c\", \"\\u0e23\\u0e27\\u0e21\\u0e1e\\u0e25\\u0e31\\u0e07\\u0e1b\\u0e23\\u0e30\\u0e0a\\u0e32\\u0e0a\\u0e32\\u0e15\\u0e34\\u0e44\\u0e17\\u0e22\", \"\\u0e1b\\u0e23\\u0e30\\u0e0a\\u0e32\\u0e18\\u0e34\\u0e1b\\u0e31\\u0e15\\u0e22\\u0e4c\", \"\\u0e0a\\u0e32\\u0e15\\u0e34\\u0e44\\u0e17\\u0e22\\u0e1e\\u0e31\\u0e12\\u0e19\\u0e32\"], \"y\": [195416, 35060, 19879, 17958, 12300, 7741, 5443, 1346, 532, 115, 41]}],                        {\"barmode\": \"group\", \"template\": {\"data\": {\"bar\": [{\"error_x\": {\"color\": \"#2a3f5f\"}, \"error_y\": {\"color\": \"#2a3f5f\"}, \"marker\": {\"line\": {\"color\": \"#E5ECF6\", \"width\": 0.5}}, \"type\": \"bar\"}], \"barpolar\": [{\"marker\": {\"line\": {\"color\": \"#E5ECF6\", \"width\": 0.5}}, \"type\": \"barpolar\"}], \"carpet\": [{\"aaxis\": {\"endlinecolor\": \"#2a3f5f\", \"gridcolor\": \"white\", \"linecolor\": \"white\", \"minorgridcolor\": \"white\", \"startlinecolor\": \"#2a3f5f\"}, \"baxis\": {\"endlinecolor\": \"#2a3f5f\", \"gridcolor\": \"white\", \"linecolor\": \"white\", \"minorgridcolor\": \"white\", \"startlinecolor\": \"#2a3f5f\"}, \"type\": \"carpet\"}], \"choropleth\": [{\"colorbar\": {\"outlinewidth\": 0, \"ticks\": \"\"}, \"type\": \"choropleth\"}], \"contour\": [{\"colorbar\": {\"outlinewidth\": 0, \"ticks\": \"\"}, \"colorscale\": [[0.0, \"#0d0887\"], [0.1111111111111111, \"#46039f\"], [0.2222222222222222, \"#7201a8\"], [0.3333333333333333, \"#9c179e\"], [0.4444444444444444, \"#bd3786\"], [0.5555555555555556, \"#d8576b\"], [0.6666666666666666, \"#ed7953\"], [0.7777777777777778, \"#fb9f3a\"], [0.8888888888888888, \"#fdca26\"], [1.0, \"#f0f921\"]], \"type\": \"contour\"}], \"contourcarpet\": [{\"colorbar\": {\"outlinewidth\": 0, \"ticks\": \"\"}, \"type\": \"contourcarpet\"}], \"heatmap\": [{\"colorbar\": {\"outlinewidth\": 0, \"ticks\": \"\"}, \"colorscale\": [[0.0, \"#0d0887\"], [0.1111111111111111, \"#46039f\"], [0.2222222222222222, \"#7201a8\"], [0.3333333333333333, \"#9c179e\"], [0.4444444444444444, \"#bd3786\"], [0.5555555555555556, \"#d8576b\"], [0.6666666666666666, \"#ed7953\"], [0.7777777777777778, \"#fb9f3a\"], [0.8888888888888888, \"#fdca26\"], [1.0, \"#f0f921\"]], \"type\": \"heatmap\"}], \"heatmapgl\": [{\"colorbar\": {\"outlinewidth\": 0, \"ticks\": \"\"}, \"colorscale\": [[0.0, \"#0d0887\"], [0.1111111111111111, \"#46039f\"], [0.2222222222222222, \"#7201a8\"], [0.3333333333333333, \"#9c179e\"], [0.4444444444444444, \"#bd3786\"], [0.5555555555555556, \"#d8576b\"], [0.6666666666666666, \"#ed7953\"], [0.7777777777777778, \"#fb9f3a\"], [0.8888888888888888, \"#fdca26\"], [1.0, \"#f0f921\"]], \"type\": \"heatmapgl\"}], \"histogram\": [{\"marker\": {\"colorbar\": {\"outlinewidth\": 0, \"ticks\": \"\"}}, \"type\": \"histogram\"}], \"histogram2d\": [{\"colorbar\": {\"outlinewidth\": 0, \"ticks\": \"\"}, \"colorscale\": [[0.0, \"#0d0887\"], [0.1111111111111111, \"#46039f\"], [0.2222222222222222, \"#7201a8\"], [0.3333333333333333, \"#9c179e\"], [0.4444444444444444, \"#bd3786\"], [0.5555555555555556, \"#d8576b\"], [0.6666666666666666, \"#ed7953\"], [0.7777777777777778, \"#fb9f3a\"], [0.8888888888888888, \"#fdca26\"], [1.0, \"#f0f921\"]], \"type\": \"histogram2d\"}], \"histogram2dcontour\": [{\"colorbar\": {\"outlinewidth\": 0, \"ticks\": \"\"}, \"colorscale\": [[0.0, \"#0d0887\"], [0.1111111111111111, \"#46039f\"], [0.2222222222222222, \"#7201a8\"], [0.3333333333333333, \"#9c179e\"], [0.4444444444444444, \"#bd3786\"], [0.5555555555555556, \"#d8576b\"], [0.6666666666666666, \"#ed7953\"], [0.7777777777777778, \"#fb9f3a\"], [0.8888888888888888, \"#fdca26\"], [1.0, \"#f0f921\"]], \"type\": \"histogram2dcontour\"}], \"mesh3d\": [{\"colorbar\": {\"outlinewidth\": 0, \"ticks\": \"\"}, \"type\": \"mesh3d\"}], \"parcoords\": [{\"line\": {\"colorbar\": {\"outlinewidth\": 0, \"ticks\": \"\"}}, \"type\": \"parcoords\"}], \"pie\": [{\"automargin\": true, \"type\": \"pie\"}], \"scatter\": [{\"marker\": {\"colorbar\": {\"outlinewidth\": 0, \"ticks\": \"\"}}, \"type\": \"scatter\"}], \"scatter3d\": [{\"line\": {\"colorbar\": {\"outlinewidth\": 0, \"ticks\": \"\"}}, \"marker\": {\"colorbar\": {\"outlinewidth\": 0, \"ticks\": \"\"}}, \"type\": \"scatter3d\"}], \"scattercarpet\": [{\"marker\": {\"colorbar\": {\"outlinewidth\": 0, \"ticks\": \"\"}}, \"type\": \"scattercarpet\"}], \"scattergeo\": [{\"marker\": {\"colorbar\": {\"outlinewidth\": 0, \"ticks\": \"\"}}, \"type\": \"scattergeo\"}], \"scattergl\": [{\"marker\": {\"colorbar\": {\"outlinewidth\": 0, \"ticks\": \"\"}}, \"type\": \"scattergl\"}], \"scattermapbox\": [{\"marker\": {\"colorbar\": {\"outlinewidth\": 0, \"ticks\": \"\"}}, \"type\": \"scattermapbox\"}], \"scatterpolar\": [{\"marker\": {\"colorbar\": {\"outlinewidth\": 0, \"ticks\": \"\"}}, \"type\": \"scatterpolar\"}], \"scatterpolargl\": [{\"marker\": {\"colorbar\": {\"outlinewidth\": 0, \"ticks\": \"\"}}, \"type\": \"scatterpolargl\"}], \"scatterternary\": [{\"marker\": {\"colorbar\": {\"outlinewidth\": 0, \"ticks\": \"\"}}, \"type\": \"scatterternary\"}], \"surface\": [{\"colorbar\": {\"outlinewidth\": 0, \"ticks\": \"\"}, \"colorscale\": [[0.0, \"#0d0887\"], [0.1111111111111111, \"#46039f\"], [0.2222222222222222, \"#7201a8\"], [0.3333333333333333, \"#9c179e\"], [0.4444444444444444, \"#bd3786\"], [0.5555555555555556, \"#d8576b\"], [0.6666666666666666, \"#ed7953\"], [0.7777777777777778, \"#fb9f3a\"], [0.8888888888888888, \"#fdca26\"], [1.0, \"#f0f921\"]], \"type\": \"surface\"}], \"table\": [{\"cells\": {\"fill\": {\"color\": \"#EBF0F8\"}, \"line\": {\"color\": \"white\"}}, \"header\": {\"fill\": {\"color\": \"#C8D4E3\"}, \"line\": {\"color\": \"white\"}}, \"type\": \"table\"}]}, \"layout\": {\"annotationdefaults\": {\"arrowcolor\": \"#2a3f5f\", \"arrowhead\": 0, \"arrowwidth\": 1}, \"coloraxis\": {\"colorbar\": {\"outlinewidth\": 0, \"ticks\": \"\"}}, \"colorscale\": {\"diverging\": [[0, \"#8e0152\"], [0.1, \"#c51b7d\"], [0.2, \"#de77ae\"], [0.3, \"#f1b6da\"], [0.4, \"#fde0ef\"], [0.5, \"#f7f7f7\"], [0.6, \"#e6f5d0\"], [0.7, \"#b8e186\"], [0.8, \"#7fbc41\"], [0.9, \"#4d9221\"], [1, \"#276419\"]], \"sequential\": [[0.0, \"#0d0887\"], [0.1111111111111111, \"#46039f\"], [0.2222222222222222, \"#7201a8\"], [0.3333333333333333, \"#9c179e\"], [0.4444444444444444, \"#bd3786\"], [0.5555555555555556, \"#d8576b\"], [0.6666666666666666, \"#ed7953\"], [0.7777777777777778, \"#fb9f3a\"], [0.8888888888888888, \"#fdca26\"], [1.0, \"#f0f921\"]], \"sequentialminus\": [[0.0, \"#0d0887\"], [0.1111111111111111, \"#46039f\"], [0.2222222222222222, \"#7201a8\"], [0.3333333333333333, \"#9c179e\"], [0.4444444444444444, \"#bd3786\"], [0.5555555555555556, \"#d8576b\"], [0.6666666666666666, \"#ed7953\"], [0.7777777777777778, \"#fb9f3a\"], [0.8888888888888888, \"#fdca26\"], [1.0, \"#f0f921\"]]}, \"colorway\": [\"#636efa\", \"#EF553B\", \"#00cc96\", \"#ab63fa\", \"#FFA15A\", \"#19d3f3\", \"#FF6692\", \"#B6E880\", \"#FF97FF\", \"#FECB52\"], \"font\": {\"color\": \"#2a3f5f\"}, \"geo\": {\"bgcolor\": \"white\", \"lakecolor\": \"white\", \"landcolor\": \"#E5ECF6\", \"showlakes\": true, \"showland\": true, \"subunitcolor\": \"white\"}, \"hoverlabel\": {\"align\": \"left\"}, \"hovermode\": \"closest\", \"mapbox\": {\"style\": \"light\"}, \"paper_bgcolor\": \"white\", \"plot_bgcolor\": \"#E5ECF6\", \"polar\": {\"angularaxis\": {\"gridcolor\": \"white\", \"linecolor\": \"white\", \"ticks\": \"\"}, \"bgcolor\": \"#E5ECF6\", \"radialaxis\": {\"gridcolor\": \"white\", \"linecolor\": \"white\", \"ticks\": \"\"}}, \"scene\": {\"xaxis\": {\"backgroundcolor\": \"#E5ECF6\", \"gridcolor\": \"white\", \"gridwidth\": 2, \"linecolor\": \"white\", \"showbackground\": true, \"ticks\": \"\", \"zerolinecolor\": \"white\"}, \"yaxis\": {\"backgroundcolor\": \"#E5ECF6\", \"gridcolor\": \"white\", \"gridwidth\": 2, \"linecolor\": \"white\", \"showbackground\": true, \"ticks\": \"\", \"zerolinecolor\": \"white\"}, \"zaxis\": {\"backgroundcolor\": \"#E5ECF6\", \"gridcolor\": \"white\", \"gridwidth\": 2, \"linecolor\": \"white\", \"showbackground\": true, \"ticks\": \"\", \"zerolinecolor\": \"white\"}}, \"shapedefaults\": {\"line\": {\"color\": \"#2a3f5f\"}}, \"ternary\": {\"aaxis\": {\"gridcolor\": \"white\", \"linecolor\": \"white\", \"ticks\": \"\"}, \"baxis\": {\"gridcolor\": \"white\", \"linecolor\": \"white\", \"ticks\": \"\"}, \"bgcolor\": \"#E5ECF6\", \"caxis\": {\"gridcolor\": \"white\", \"linecolor\": \"white\", \"ticks\": \"\"}}, \"title\": {\"x\": 0.05}, \"xaxis\": {\"automargin\": true, \"gridcolor\": \"white\", \"linecolor\": \"white\", \"ticks\": \"\", \"title\": {\"standoff\": 15}, \"zerolinecolor\": \"white\", \"zerolinewidth\": 2}, \"yaxis\": {\"automargin\": true, \"gridcolor\": \"white\", \"linecolor\": \"white\", \"ticks\": \"\", \"title\": {\"standoff\": 15}, \"zerolinecolor\": \"white\", \"zerolinewidth\": 2}}}, \"title\": {\"text\": \"Number of tweet in dataset according to Username\"}},                        {\"responsive\": true}                    ).then(function(){\n                            \nvar gd = document.getElementById('84a4aab2-5e66-4c20-98f6-da393cb6c4b9');\nvar x = new MutationObserver(function (mutations, observer) {{\n        var display = window.getComputedStyle(gd).display;\n        if (!display || display === 'none') {{\n            console.log([gd, 'removed!']);\n            Plotly.purge(gd);\n            observer.disconnect();\n        }}\n}});\n\n// Listen for the removal of the full notebook cells\nvar notebookContainer = gd.closest('#notebook-container');\nif (notebookContainer) {{\n    x.observe(notebookContainer, {childList: true});\n}}\n\n// Listen for the clearing of the current output cell\nvar outputEl = gd.closest('.output');\nif (outputEl) {{\n    x.observe(outputEl, {childList: true});\n}}\n\n                        })                };                });            </script>        </div>"
     },
     "metadata": {}
    }
   ],
   "source": [
    "trace1 = go.Bar(\n",
    "                x = aa['Party'][aa['Party']!='อนาคตใหม่'],\n",
    "                y = aa['eng_sum'][aa['Party']!='อนาคตใหม่'],\n",
    "                name = \"Number of tweets in dataset according \",\n",
    "                marker = dict(color = 'rgba(200, 74, 55, 0.5)',\n",
    "                             line=dict(color='rgb(0,0,0)',width=1.5)),\n",
    "                )\n",
    "\n",
    "data = [trace1]\n",
    "layout = go.Layout(barmode = \"group\",title = 'Number of tweet in dataset according to Username')\n",
    "fig = go.Figure(data = data, layout = layout)\n",
    "py.iplot(fig)"
   ]
  },
  {
   "cell_type": "markdown",
   "metadata": {},
   "source": [
    "## ***Topic***"
   ]
  },
  {
   "cell_type": "code",
   "execution_count": 16,
   "metadata": {},
   "outputs": [],
   "source": [
    "df_act = df[df['Party'] == 'รวมพลังประชาชาติไทย']\n",
    "df_chartthai = df[df['Party'] == 'ชาติไทยพัฒนา']\n",
    "df_democrat = df[df['Party'] == 'ประชาธิปัตย์']\n",
    "df_fwp = df[df['Party'] == 'อนาคตใหม่']\n",
    "df_neweco = df[df['Party'] == 'เศรษฐกิจใหม่']\n",
    "df_pt = df[df['Party'] == 'เพื่อไทย']\n",
    "df_pprp = df[df['Party'] == 'พลังประชารัฐ']\n",
    "df_pch = df[df['Party'] == 'เพื่อชาติ']\n",
    "df_sr = df[df['Party'] == 'เสรีรวมไทย']"
   ]
  },
  {
   "cell_type": "code",
   "execution_count": 17,
   "metadata": {},
   "outputs": [
    {
     "output_type": "execute_result",
     "data": {
      "text/plain": [
       "                                                topic                Party  \\\n",
       "0                                       ขายฝันของพรรค            อนาคตใหม่   \n",
       "1                       บันทึกการเดินทางของลูกทีมพรรค            อนาคตใหม่   \n",
       "2                             นโยบายเศรษฐกิจและภาคใต้            อนาคตใหม่   \n",
       "3                                           ขาย ธนาธร            อนาคตใหม่   \n",
       "4                           แนะนำแกนนำ และดาราของพรรค            อนาคตใหม่   \n",
       "5                           ทักษิณละนโยบายสำหรับอนาคต             เพื่อไทย   \n",
       "6                       ความเป็นมืออาชีพในการแก้ปัญหา             เพื่อไทย   \n",
       "7             article ภาษาอังกฤษ นโยบายเศรษฐกิจ สังคม             เพื่อไทย   \n",
       "8                         ประชาสัมพันธ์สถานที่ปราศรัย             เพื่อไทย   \n",
       "9                         บรรยากาศการปราศรัย + นโยบาย             เพื่อไทย   \n",
       "10                           คืนความสุข + สื่อ online         พลังประชารัฐ   \n",
       "11                             หาเสียง น่าจะ กรณ์ พูด         ประชาธิปัตย์   \n",
       "12                        หาเสียง น่าจะ อภิสิทธิ์ พูด         ประชาธิปัตย์   \n",
       "13                                  นโยบายด้านการเงิน         เศรษฐกิจใหม่   \n",
       "14                                         นโยบาย พม.         พลังประชารัฐ   \n",
       "15                                ขายความสงบ ความนิยม         พลังประชารัฐ   \n",
       "16                   ลุงมิ่ง สร้างภาพความนิยมลุงมิ่ง          เศรษฐกิจใหม่   \n",
       "17                                   เน้นเลือกความสงบ         พลังประชารัฐ   \n",
       "18                                       บัญชีรายชื่อ         ประชาธิปัตย์   \n",
       "19               ปราศรัยหาเสียง ปัญหาที่เจอตอนหาเสียง         ประชาธิปัตย์   \n",
       "20  ผู้สมัคร การนัดแนะและบรรยากาศหาเสียง (น่าจะพูด...         พลังประชารัฐ   \n",
       "21                                 นโยบายด้านเศรษฐกิจ         เศรษฐกิจใหม่   \n",
       "22                                     นโยบายเศรษฐกิจ         ประชาธิปัตย์   \n",
       "23                                         ขายลุงมิ่ง         เศรษฐกิจใหม่   \n",
       "24                               ลุงมิ่งในสื่อ online         เศรษฐกิจใหม่   \n",
       "25                     Campaign เดินคารวะแผ่นดิน กลาง  รวมพลังประชาชาติไทย   \n",
       "26         การหาเสียงใต้ อีสาน ปัญหาระหว่างการหาเสียง  รวมพลังประชาชาติไทย   \n",
       "27                          ลุงกำนัน และการต้อนรับลุง  รวมพลังประชาชาติไทย   \n",
       "28             Campaign เดินคารวะแผ่นดิน เหนือตอนล่าง  รวมพลังประชาชาติไทย   \n",
       "29                                      จำนวนผู้สมัคร  รวมพลังประชาชาติไทย   \n",
       "30                                 ขายตระกูล ศิลปอาชา         ชาติไทยพัฒนา   \n",
       "31                                การออกสื่อ + debate         ชาติไทยพัฒนา   \n",
       "32                                การปราศรัย + นโยบาย         ชาติไทยพัฒนา   \n",
       "33                           update ความนิยมผู้นำพรรค         ชาติไทยพัฒนา   \n",
       "34                       update ความเคลื่อนไหวของพรรค         ชาติไทยพัฒนา   \n",
       "\n",
       "    count  eng_sum     eng_mean  eng_max  \n",
       "0      53   404825  7638.207547    87239  \n",
       "1      69   318727  4619.231884   117723  \n",
       "2      49   260983  5326.183673    61705  \n",
       "3      45   251830  5596.222222   142135  \n",
       "4      42   249875  5949.404762    85480  \n",
       "5      28    66902  2389.357143    31749  \n",
       "6      19    53711  2826.894737    10960  \n",
       "7      29    52793  1820.448276    17854  \n",
       "8      54    37219   689.240741    21184  \n",
       "9      27    27592  1021.925926     6123  \n",
       "10     52     8011   154.057692     2250  \n",
       "11     77     6853    89.000000      761  \n",
       "12     24     6847   285.291667     2103  \n",
       "13     31     5039   162.548387     1813  \n",
       "14     35     4881   139.457143     1807  \n",
       "15     39     4338   111.230769     1266  \n",
       "16     38     4006   105.421053     1578  \n",
       "17     52     3580    68.846154      945  \n",
       "18     27     3399   125.888889      710  \n",
       "19     18     3048   169.333333      783  \n",
       "20     50     2591    51.820000      823  \n",
       "21     65     1938    29.815385      803  \n",
       "22     15     1193    79.533333      244  \n",
       "23     97      669     6.896907      300  \n",
       "24     37      648    17.513514      182  \n",
       "25      6      192    32.000000       49  \n",
       "26      8      136    17.000000       42  \n",
       "27      8      103    12.875000       35  \n",
       "28      4       54    13.500000       32  \n",
       "29      2       47    23.500000       24  \n",
       "30     10       13     1.300000        3  \n",
       "31      4        9     2.250000        5  \n",
       "32      5        9     1.800000        4  \n",
       "33      5        8     1.600000        5  \n",
       "34      5        2     0.400000        1  "
      ],
      "text/html": "<div>\n<style scoped>\n    .dataframe tbody tr th:only-of-type {\n        vertical-align: middle;\n    }\n\n    .dataframe tbody tr th {\n        vertical-align: top;\n    }\n\n    .dataframe thead th {\n        text-align: right;\n    }\n</style>\n<table border=\"1\" class=\"dataframe\">\n  <thead>\n    <tr style=\"text-align: right;\">\n      <th></th>\n      <th>topic</th>\n      <th>Party</th>\n      <th>count</th>\n      <th>eng_sum</th>\n      <th>eng_mean</th>\n      <th>eng_max</th>\n    </tr>\n  </thead>\n  <tbody>\n    <tr>\n      <th>0</th>\n      <td>ขายฝันของพรรค</td>\n      <td>อนาคตใหม่</td>\n      <td>53</td>\n      <td>404825</td>\n      <td>7638.207547</td>\n      <td>87239</td>\n    </tr>\n    <tr>\n      <th>1</th>\n      <td>บันทึกการเดินทางของลูกทีมพรรค</td>\n      <td>อนาคตใหม่</td>\n      <td>69</td>\n      <td>318727</td>\n      <td>4619.231884</td>\n      <td>117723</td>\n    </tr>\n    <tr>\n      <th>2</th>\n      <td>นโยบายเศรษฐกิจและภาคใต้</td>\n      <td>อนาคตใหม่</td>\n      <td>49</td>\n      <td>260983</td>\n      <td>5326.183673</td>\n      <td>61705</td>\n    </tr>\n    <tr>\n      <th>3</th>\n      <td>ขาย ธนาธร</td>\n      <td>อนาคตใหม่</td>\n      <td>45</td>\n      <td>251830</td>\n      <td>5596.222222</td>\n      <td>142135</td>\n    </tr>\n    <tr>\n      <th>4</th>\n      <td>แนะนำแกนนำ และดาราของพรรค</td>\n      <td>อนาคตใหม่</td>\n      <td>42</td>\n      <td>249875</td>\n      <td>5949.404762</td>\n      <td>85480</td>\n    </tr>\n    <tr>\n      <th>5</th>\n      <td>ทักษิณละนโยบายสำหรับอนาคต</td>\n      <td>เพื่อไทย</td>\n      <td>28</td>\n      <td>66902</td>\n      <td>2389.357143</td>\n      <td>31749</td>\n    </tr>\n    <tr>\n      <th>6</th>\n      <td>ความเป็นมืออาชีพในการแก้ปัญหา</td>\n      <td>เพื่อไทย</td>\n      <td>19</td>\n      <td>53711</td>\n      <td>2826.894737</td>\n      <td>10960</td>\n    </tr>\n    <tr>\n      <th>7</th>\n      <td>article ภาษาอังกฤษ นโยบายเศรษฐกิจ สังคม</td>\n      <td>เพื่อไทย</td>\n      <td>29</td>\n      <td>52793</td>\n      <td>1820.448276</td>\n      <td>17854</td>\n    </tr>\n    <tr>\n      <th>8</th>\n      <td>ประชาสัมพันธ์สถานที่ปราศรัย</td>\n      <td>เพื่อไทย</td>\n      <td>54</td>\n      <td>37219</td>\n      <td>689.240741</td>\n      <td>21184</td>\n    </tr>\n    <tr>\n      <th>9</th>\n      <td>บรรยากาศการปราศรัย + นโยบาย</td>\n      <td>เพื่อไทย</td>\n      <td>27</td>\n      <td>27592</td>\n      <td>1021.925926</td>\n      <td>6123</td>\n    </tr>\n    <tr>\n      <th>10</th>\n      <td>คืนความสุข + สื่อ online</td>\n      <td>พลังประชารัฐ</td>\n      <td>52</td>\n      <td>8011</td>\n      <td>154.057692</td>\n      <td>2250</td>\n    </tr>\n    <tr>\n      <th>11</th>\n      <td>หาเสียง น่าจะ กรณ์ พูด</td>\n      <td>ประชาธิปัตย์</td>\n      <td>77</td>\n      <td>6853</td>\n      <td>89.000000</td>\n      <td>761</td>\n    </tr>\n    <tr>\n      <th>12</th>\n      <td>หาเสียง น่าจะ อภิสิทธิ์ พูด</td>\n      <td>ประชาธิปัตย์</td>\n      <td>24</td>\n      <td>6847</td>\n      <td>285.291667</td>\n      <td>2103</td>\n    </tr>\n    <tr>\n      <th>13</th>\n      <td>นโยบายด้านการเงิน</td>\n      <td>เศรษฐกิจใหม่</td>\n      <td>31</td>\n      <td>5039</td>\n      <td>162.548387</td>\n      <td>1813</td>\n    </tr>\n    <tr>\n      <th>14</th>\n      <td>นโยบาย พม.</td>\n      <td>พลังประชารัฐ</td>\n      <td>35</td>\n      <td>4881</td>\n      <td>139.457143</td>\n      <td>1807</td>\n    </tr>\n    <tr>\n      <th>15</th>\n      <td>ขายความสงบ ความนิยม</td>\n      <td>พลังประชารัฐ</td>\n      <td>39</td>\n      <td>4338</td>\n      <td>111.230769</td>\n      <td>1266</td>\n    </tr>\n    <tr>\n      <th>16</th>\n      <td>ลุงมิ่ง สร้างภาพความนิยมลุงมิ่ง</td>\n      <td>เศรษฐกิจใหม่</td>\n      <td>38</td>\n      <td>4006</td>\n      <td>105.421053</td>\n      <td>1578</td>\n    </tr>\n    <tr>\n      <th>17</th>\n      <td>เน้นเลือกความสงบ</td>\n      <td>พลังประชารัฐ</td>\n      <td>52</td>\n      <td>3580</td>\n      <td>68.846154</td>\n      <td>945</td>\n    </tr>\n    <tr>\n      <th>18</th>\n      <td>บัญชีรายชื่อ</td>\n      <td>ประชาธิปัตย์</td>\n      <td>27</td>\n      <td>3399</td>\n      <td>125.888889</td>\n      <td>710</td>\n    </tr>\n    <tr>\n      <th>19</th>\n      <td>ปราศรัยหาเสียง ปัญหาที่เจอตอนหาเสียง</td>\n      <td>ประชาธิปัตย์</td>\n      <td>18</td>\n      <td>3048</td>\n      <td>169.333333</td>\n      <td>783</td>\n    </tr>\n    <tr>\n      <th>20</th>\n      <td>ผู้สมัคร การนัดแนะและบรรยากาศหาเสียง (น่าจะพูด...</td>\n      <td>พลังประชารัฐ</td>\n      <td>50</td>\n      <td>2591</td>\n      <td>51.820000</td>\n      <td>823</td>\n    </tr>\n    <tr>\n      <th>21</th>\n      <td>นโยบายด้านเศรษฐกิจ</td>\n      <td>เศรษฐกิจใหม่</td>\n      <td>65</td>\n      <td>1938</td>\n      <td>29.815385</td>\n      <td>803</td>\n    </tr>\n    <tr>\n      <th>22</th>\n      <td>นโยบายเศรษฐกิจ</td>\n      <td>ประชาธิปัตย์</td>\n      <td>15</td>\n      <td>1193</td>\n      <td>79.533333</td>\n      <td>244</td>\n    </tr>\n    <tr>\n      <th>23</th>\n      <td>ขายลุงมิ่ง</td>\n      <td>เศรษฐกิจใหม่</td>\n      <td>97</td>\n      <td>669</td>\n      <td>6.896907</td>\n      <td>300</td>\n    </tr>\n    <tr>\n      <th>24</th>\n      <td>ลุงมิ่งในสื่อ online</td>\n      <td>เศรษฐกิจใหม่</td>\n      <td>37</td>\n      <td>648</td>\n      <td>17.513514</td>\n      <td>182</td>\n    </tr>\n    <tr>\n      <th>25</th>\n      <td>Campaign เดินคารวะแผ่นดิน กลาง</td>\n      <td>รวมพลังประชาชาติไทย</td>\n      <td>6</td>\n      <td>192</td>\n      <td>32.000000</td>\n      <td>49</td>\n    </tr>\n    <tr>\n      <th>26</th>\n      <td>การหาเสียงใต้ อีสาน ปัญหาระหว่างการหาเสียง</td>\n      <td>รวมพลังประชาชาติไทย</td>\n      <td>8</td>\n      <td>136</td>\n      <td>17.000000</td>\n      <td>42</td>\n    </tr>\n    <tr>\n      <th>27</th>\n      <td>ลุงกำนัน และการต้อนรับลุง</td>\n      <td>รวมพลังประชาชาติไทย</td>\n      <td>8</td>\n      <td>103</td>\n      <td>12.875000</td>\n      <td>35</td>\n    </tr>\n    <tr>\n      <th>28</th>\n      <td>Campaign เดินคารวะแผ่นดิน เหนือตอนล่าง</td>\n      <td>รวมพลังประชาชาติไทย</td>\n      <td>4</td>\n      <td>54</td>\n      <td>13.500000</td>\n      <td>32</td>\n    </tr>\n    <tr>\n      <th>29</th>\n      <td>จำนวนผู้สมัคร</td>\n      <td>รวมพลังประชาชาติไทย</td>\n      <td>2</td>\n      <td>47</td>\n      <td>23.500000</td>\n      <td>24</td>\n    </tr>\n    <tr>\n      <th>30</th>\n      <td>ขายตระกูล ศิลปอาชา</td>\n      <td>ชาติไทยพัฒนา</td>\n      <td>10</td>\n      <td>13</td>\n      <td>1.300000</td>\n      <td>3</td>\n    </tr>\n    <tr>\n      <th>31</th>\n      <td>การออกสื่อ + debate</td>\n      <td>ชาติไทยพัฒนา</td>\n      <td>4</td>\n      <td>9</td>\n      <td>2.250000</td>\n      <td>5</td>\n    </tr>\n    <tr>\n      <th>32</th>\n      <td>การปราศรัย + นโยบาย</td>\n      <td>ชาติไทยพัฒนา</td>\n      <td>5</td>\n      <td>9</td>\n      <td>1.800000</td>\n      <td>4</td>\n    </tr>\n    <tr>\n      <th>33</th>\n      <td>update ความนิยมผู้นำพรรค</td>\n      <td>ชาติไทยพัฒนา</td>\n      <td>5</td>\n      <td>8</td>\n      <td>1.600000</td>\n      <td>5</td>\n    </tr>\n    <tr>\n      <th>34</th>\n      <td>update ความเคลื่อนไหวของพรรค</td>\n      <td>ชาติไทยพัฒนา</td>\n      <td>5</td>\n      <td>2</td>\n      <td>0.400000</td>\n      <td>1</td>\n    </tr>\n  </tbody>\n</table>\n</div>"
     },
     "metadata": {},
     "execution_count": 17
    }
   ],
   "source": [
    "q = df.groupby(['topic','Party']).agg(count=('Engagement','count'),\n",
    "                                          eng_sum=('Engagement','sum'),\n",
    "                                          eng_mean=('Engagement','mean'),\n",
    "                                          eng_max=('Engagement','max'))\\\n",
    "        .sort_values(by='eng_sum',ascending=False)\\\n",
    "        .reset_index()\n",
    "q"
   ]
  },
  {
   "cell_type": "code",
   "execution_count": 18,
   "metadata": {},
   "outputs": [
    {
     "output_type": "execute_result",
     "data": {
      "text/plain": [
       "<AxesSubplot:xlabel='topic'>"
      ]
     },
     "metadata": {},
     "execution_count": 18
    },
    {
     "output_type": "display_data",
     "data": {
      "text/plain": "<Figure size 432x288 with 1 Axes>",
      "image/svg+xml": "<?xml version=\"1.0\" encoding=\"utf-8\" standalone=\"no\"?>\n<!DOCTYPE svg PUBLIC \"-//W3C//DTD SVG 1.1//EN\"\n  \"http://www.w3.org/Graphics/SVG/1.1/DTD/svg11.dtd\">\n<!-- Created with matplotlib (https://matplotlib.org/) -->\n<svg height=\"543.585312pt\" version=\"1.1\" viewBox=\"0 0 389.205424 543.585312\" width=\"389.205424pt\" xmlns=\"http://www.w3.org/2000/svg\" xmlns:xlink=\"http://www.w3.org/1999/xlink\">\n <metadata>\n  <rdf:RDF xmlns:cc=\"http://creativecommons.org/ns#\" xmlns:dc=\"http://purl.org/dc/elements/1.1/\" xmlns:rdf=\"http://www.w3.org/1999/02/22-rdf-syntax-ns#\">\n   <cc:Work>\n    <dc:type rdf:resource=\"http://purl.org/dc/dcmitype/StillImage\"/>\n    <dc:date>2021-07-08T02:14:42.084333</dc:date>\n    <dc:format>image/svg+xml</dc:format>\n    <dc:creator>\n     <cc:Agent>\n      <dc:title>Matplotlib v3.3.3, https://matplotlib.org/</dc:title>\n     </cc:Agent>\n    </dc:creator>\n   </cc:Work>\n  </rdf:RDF>\n </metadata>\n <defs>\n  <style type=\"text/css\">*{stroke-linecap:butt;stroke-linejoin:round;}</style>\n </defs>\n <g id=\"figure_1\">\n  <g id=\"patch_1\">\n   <path d=\"M -0 543.585312 \nL 389.205424 543.585312 \nL 389.205424 0 \nL -0 0 \nz\n\" style=\"fill:none;\"/>\n  </g>\n  <g id=\"axes_1\">\n   <g id=\"patch_2\">\n    <path d=\"M 46.95625 224.64 \nL 381.75625 224.64 \nL 381.75625 7.2 \nL 46.95625 7.2 \nz\n\" style=\"fill:#ffffff;\"/>\n   </g>\n   <g id=\"patch_3\">\n    <path clip-path=\"url(#pf20b8f04f7)\" d=\"M 49.347679 224.64 \nL 50.941964 224.64 \nL 50.941964 17.554286 \nL 49.347679 17.554286 \nz\n\" style=\"fill:#1f77b4;\"/>\n   </g>\n   <g id=\"patch_4\">\n    <path clip-path=\"url(#pf20b8f04f7)\" d=\"M 58.913393 224.64 \nL 60.507679 224.64 \nL 60.507679 61.597183 \nL 58.913393 61.597183 \nz\n\" style=\"fill:#1f77b4;\"/>\n   </g>\n   <g id=\"patch_5\">\n    <path clip-path=\"url(#pf20b8f04f7)\" d=\"M 68.479107 224.64 \nL 70.073393 224.64 \nL 70.073393 91.135767 \nL 68.479107 91.135767 \nz\n\" style=\"fill:#1f77b4;\"/>\n   </g>\n   <g id=\"patch_6\">\n    <path clip-path=\"url(#pf20b8f04f7)\" d=\"M 78.044821 224.64 \nL 79.639107 224.64 \nL 79.639107 95.817928 \nL 78.044821 95.817928 \nz\n\" style=\"fill:#1f77b4;\"/>\n   </g>\n   <g id=\"patch_7\">\n    <path clip-path=\"url(#pf20b8f04f7)\" d=\"M 87.610536 224.64 \nL 89.204821 224.64 \nL 89.204821 96.817996 \nL 87.610536 96.817996 \nz\n\" style=\"fill:#1f77b4;\"/>\n   </g>\n   <g id=\"patch_8\">\n    <path clip-path=\"url(#pf20b8f04f7)\" d=\"M 97.17625 224.64 \nL 98.770536 224.64 \nL 98.770536 190.416697 \nL 97.17625 190.416697 \nz\n\" style=\"fill:#1f77b4;\"/>\n   </g>\n   <g id=\"patch_9\">\n    <path clip-path=\"url(#pf20b8f04f7)\" d=\"M 106.741964 224.64 \nL 108.33625 224.64 \nL 108.33625 197.164472 \nL 106.741964 197.164472 \nz\n\" style=\"fill:#1f77b4;\"/>\n   </g>\n   <g id=\"patch_10\">\n    <path clip-path=\"url(#pf20b8f04f7)\" d=\"M 116.307679 224.64 \nL 117.901964 224.64 \nL 117.901964 197.634069 \nL 116.307679 197.634069 \nz\n\" style=\"fill:#1f77b4;\"/>\n   </g>\n   <g id=\"patch_11\">\n    <path clip-path=\"url(#pf20b8f04f7)\" d=\"M 125.873393 224.64 \nL 127.467679 224.64 \nL 127.467679 205.600852 \nL 125.873393 205.600852 \nz\n\" style=\"fill:#1f77b4;\"/>\n   </g>\n   <g id=\"patch_12\">\n    <path clip-path=\"url(#pf20b8f04f7)\" d=\"M 135.439107 224.64 \nL 137.033393 224.64 \nL 137.033393 210.525484 \nL 135.439107 210.525484 \nz\n\" style=\"fill:#1f77b4;\"/>\n   </g>\n   <g id=\"patch_13\">\n    <path clip-path=\"url(#pf20b8f04f7)\" d=\"M 145.004821 224.64 \nL 146.599107 224.64 \nL 146.599107 220.542023 \nL 145.004821 220.542023 \nz\n\" style=\"fill:#1f77b4;\"/>\n   </g>\n   <g id=\"patch_14\">\n    <path clip-path=\"url(#pf20b8f04f7)\" d=\"M 154.570536 224.64 \nL 156.164821 224.64 \nL 156.164821 221.13439 \nL 154.570536 221.13439 \nz\n\" style=\"fill:#1f77b4;\"/>\n   </g>\n   <g id=\"patch_15\">\n    <path clip-path=\"url(#pf20b8f04f7)\" d=\"M 164.13625 224.64 \nL 165.730536 224.64 \nL 165.730536 221.13746 \nL 164.13625 221.13746 \nz\n\" style=\"fill:#1f77b4;\"/>\n   </g>\n   <g id=\"patch_16\">\n    <path clip-path=\"url(#pf20b8f04f7)\" d=\"M 173.701964 224.64 \nL 175.29625 224.64 \nL 175.29625 222.062331 \nL 173.701964 222.062331 \nz\n\" style=\"fill:#1f77b4;\"/>\n   </g>\n   <g id=\"patch_17\">\n    <path clip-path=\"url(#pf20b8f04f7)\" d=\"M 183.267679 224.64 \nL 184.861964 224.64 \nL 184.861964 222.143155 \nL 183.267679 222.143155 \nz\n\" style=\"fill:#1f77b4;\"/>\n   </g>\n   <g id=\"patch_18\">\n    <path clip-path=\"url(#pf20b8f04f7)\" d=\"M 192.833393 224.64 \nL 194.427679 224.64 \nL 194.427679 222.420923 \nL 192.833393 222.420923 \nz\n\" style=\"fill:#1f77b4;\"/>\n   </g>\n   <g id=\"patch_19\">\n    <path clip-path=\"url(#pf20b8f04f7)\" d=\"M 202.399107 224.64 \nL 203.993393 224.64 \nL 203.993393 222.590756 \nL 202.399107 222.590756 \nz\n\" style=\"fill:#1f77b4;\"/>\n   </g>\n   <g id=\"patch_20\">\n    <path clip-path=\"url(#pf20b8f04f7)\" d=\"M 211.964821 224.64 \nL 213.559107 224.64 \nL 213.559107 222.808673 \nL 211.964821 222.808673 \nz\n\" style=\"fill:#1f77b4;\"/>\n   </g>\n   <g id=\"patch_21\">\n    <path clip-path=\"url(#pf20b8f04f7)\" d=\"M 221.530536 224.64 \nL 223.124821 224.64 \nL 223.124821 222.901263 \nL 221.530536 222.901263 \nz\n\" style=\"fill:#1f77b4;\"/>\n   </g>\n   <g id=\"patch_22\">\n    <path clip-path=\"url(#pf20b8f04f7)\" d=\"M 231.09625 224.64 \nL 232.690536 224.64 \nL 232.690536 223.080815 \nL 231.09625 223.080815 \nz\n\" style=\"fill:#1f77b4;\"/>\n   </g>\n   <g id=\"patch_23\">\n    <path clip-path=\"url(#pf20b8f04f7)\" d=\"M 240.661964 224.64 \nL 242.25625 224.64 \nL 242.25625 223.31459 \nL 240.661964 223.31459 \nz\n\" style=\"fill:#1f77b4;\"/>\n   </g>\n   <g id=\"patch_24\">\n    <path clip-path=\"url(#pf20b8f04f7)\" d=\"M 250.227679 224.64 \nL 251.821964 224.64 \nL 251.821964 223.648628 \nL 250.227679 223.648628 \nz\n\" style=\"fill:#1f77b4;\"/>\n   </g>\n   <g id=\"patch_25\">\n    <path clip-path=\"url(#pf20b8f04f7)\" d=\"M 259.793393 224.64 \nL 261.387679 224.64 \nL 261.387679 224.029728 \nL 259.793393 224.029728 \nz\n\" style=\"fill:#1f77b4;\"/>\n   </g>\n   <g id=\"patch_26\">\n    <path clip-path=\"url(#pf20b8f04f7)\" d=\"M 269.359107 224.64 \nL 270.953393 224.64 \nL 270.953393 224.297777 \nL 269.359107 224.297777 \nz\n\" style=\"fill:#1f77b4;\"/>\n   </g>\n   <g id=\"patch_27\">\n    <path clip-path=\"url(#pf20b8f04f7)\" d=\"M 278.924821 224.64 \nL 280.519107 224.64 \nL 280.519107 224.30852 \nL 278.924821 224.30852 \nz\n\" style=\"fill:#1f77b4;\"/>\n   </g>\n   <g id=\"patch_28\">\n    <path clip-path=\"url(#pf20b8f04f7)\" d=\"M 288.490536 224.64 \nL 290.084821 224.64 \nL 290.084821 224.541784 \nL 288.490536 224.541784 \nz\n\" style=\"fill:#1f77b4;\"/>\n   </g>\n   <g id=\"patch_29\">\n    <path clip-path=\"url(#pf20b8f04f7)\" d=\"M 298.05625 224.64 \nL 299.650536 224.64 \nL 299.650536 224.57043 \nL 298.05625 224.57043 \nz\n\" style=\"fill:#1f77b4;\"/>\n   </g>\n   <g id=\"patch_30\">\n    <path clip-path=\"url(#pf20b8f04f7)\" d=\"M 307.621964 224.64 \nL 309.21625 224.64 \nL 309.21625 224.587311 \nL 307.621964 224.587311 \nz\n\" style=\"fill:#1f77b4;\"/>\n   </g>\n   <g id=\"patch_31\">\n    <path clip-path=\"url(#pf20b8f04f7)\" d=\"M 317.187679 224.64 \nL 318.781964 224.64 \nL 318.781964 224.612377 \nL 317.187679 224.612377 \nz\n\" style=\"fill:#1f77b4;\"/>\n   </g>\n   <g id=\"patch_32\">\n    <path clip-path=\"url(#pf20b8f04f7)\" d=\"M 326.753393 224.64 \nL 328.347679 224.64 \nL 328.347679 224.615957 \nL 326.753393 224.615957 \nz\n\" style=\"fill:#1f77b4;\"/>\n   </g>\n   <g id=\"patch_33\">\n    <path clip-path=\"url(#pf20b8f04f7)\" d=\"M 336.319107 224.64 \nL 337.913393 224.64 \nL 337.913393 224.63335 \nL 336.319107 224.63335 \nz\n\" style=\"fill:#1f77b4;\"/>\n   </g>\n   <g id=\"patch_34\">\n    <path clip-path=\"url(#pf20b8f04f7)\" d=\"M 345.884821 224.64 \nL 347.479107 224.64 \nL 347.479107 224.635396 \nL 345.884821 224.635396 \nz\n\" style=\"fill:#1f77b4;\"/>\n   </g>\n   <g id=\"patch_35\">\n    <path clip-path=\"url(#pf20b8f04f7)\" d=\"M 355.450536 224.64 \nL 357.044821 224.64 \nL 357.044821 224.635396 \nL 355.450536 224.635396 \nz\n\" style=\"fill:#1f77b4;\"/>\n   </g>\n   <g id=\"patch_36\">\n    <path clip-path=\"url(#pf20b8f04f7)\" d=\"M 365.01625 224.64 \nL 366.610536 224.64 \nL 366.610536 224.635908 \nL 365.01625 224.635908 \nz\n\" style=\"fill:#1f77b4;\"/>\n   </g>\n   <g id=\"patch_37\">\n    <path clip-path=\"url(#pf20b8f04f7)\" d=\"M 374.581964 224.64 \nL 376.17625 224.64 \nL 376.17625 224.638977 \nL 374.581964 224.638977 \nz\n\" style=\"fill:#1f77b4;\"/>\n   </g>\n   <g id=\"patch_38\">\n    <path clip-path=\"url(#pf20b8f04f7)\" d=\"M 50.941964 224.64 \nL 52.53625 224.64 \nL 52.53625 180.013431 \nL 50.941964 180.013431 \nz\n\" style=\"fill:#ff7f0e;\"/>\n   </g>\n   <g id=\"patch_39\">\n    <path clip-path=\"url(#pf20b8f04f7)\" d=\"M 60.507679 224.64 \nL 62.101964 224.64 \nL 62.101964 164.419531 \nL 60.507679 164.419531 \nz\n\" style=\"fill:#ff7f0e;\"/>\n   </g>\n   <g id=\"patch_40\">\n    <path clip-path=\"url(#pf20b8f04f7)\" d=\"M 70.073393 224.64 \nL 71.667679 224.64 \nL 71.667679 193.075191 \nL 70.073393 193.075191 \nz\n\" style=\"fill:#ff7f0e;\"/>\n   </g>\n   <g id=\"patch_41\">\n    <path clip-path=\"url(#pf20b8f04f7)\" d=\"M 79.639107 224.64 \nL 81.233393 224.64 \nL 81.233393 151.931724 \nL 79.639107 151.931724 \nz\n\" style=\"fill:#ff7f0e;\"/>\n   </g>\n   <g id=\"patch_42\">\n    <path clip-path=\"url(#pf20b8f04f7)\" d=\"M 89.204821 224.64 \nL 90.799107 224.64 \nL 90.799107 180.913237 \nL 89.204821 180.913237 \nz\n\" style=\"fill:#ff7f0e;\"/>\n   </g>\n   <g id=\"patch_43\">\n    <path clip-path=\"url(#pf20b8f04f7)\" d=\"M 98.770536 224.64 \nL 100.364821 224.64 \nL 100.364821 208.398996 \nL 98.770536 208.398996 \nz\n\" style=\"fill:#ff7f0e;\"/>\n   </g>\n   <g id=\"patch_44\">\n    <path clip-path=\"url(#pf20b8f04f7)\" d=\"M 108.33625 224.64 \nL 109.930536 224.64 \nL 109.930536 219.03348 \nL 108.33625 219.03348 \nz\n\" style=\"fill:#ff7f0e;\"/>\n   </g>\n   <g id=\"patch_45\">\n    <path clip-path=\"url(#pf20b8f04f7)\" d=\"M 117.901964 224.64 \nL 119.49625 224.64 \nL 119.49625 215.506897 \nL 117.901964 215.506897 \nz\n\" style=\"fill:#ff7f0e;\"/>\n   </g>\n   <g id=\"patch_46\">\n    <path clip-path=\"url(#pf20b8f04f7)\" d=\"M 127.467679 224.64 \nL 129.061964 224.64 \nL 129.061964 213.803456 \nL 127.467679 213.803456 \nz\n\" style=\"fill:#ff7f0e;\"/>\n   </g>\n   <g id=\"patch_47\">\n    <path clip-path=\"url(#pf20b8f04f7)\" d=\"M 137.033393 224.64 \nL 138.627679 224.64 \nL 138.627679 221.507817 \nL 137.033393 221.507817 \nz\n\" style=\"fill:#ff7f0e;\"/>\n   </g>\n   <g id=\"patch_48\">\n    <path clip-path=\"url(#pf20b8f04f7)\" d=\"M 146.599107 224.64 \nL 148.193393 224.64 \nL 148.193393 223.489026 \nL 146.599107 223.489026 \nz\n\" style=\"fill:#ff7f0e;\"/>\n   </g>\n   <g id=\"patch_49\">\n    <path clip-path=\"url(#pf20b8f04f7)\" d=\"M 156.164821 224.64 \nL 157.759107 224.64 \nL 157.759107 224.250715 \nL 156.164821 224.250715 \nz\n\" style=\"fill:#ff7f0e;\"/>\n   </g>\n   <g id=\"patch_50\">\n    <path clip-path=\"url(#pf20b8f04f7)\" d=\"M 165.730536 224.64 \nL 167.324821 224.64 \nL 167.324821 223.564223 \nL 165.730536 223.564223 \nz\n\" style=\"fill:#ff7f0e;\"/>\n   </g>\n   <g id=\"patch_51\">\n    <path clip-path=\"url(#pf20b8f04f7)\" d=\"M 175.29625 224.64 \nL 176.890536 224.64 \nL 176.890536 223.712571 \nL 175.29625 223.712571 \nz\n\" style=\"fill:#ff7f0e;\"/>\n   </g>\n   <g id=\"patch_52\">\n    <path clip-path=\"url(#pf20b8f04f7)\" d=\"M 184.861964 224.64 \nL 186.45625 224.64 \nL 186.45625 223.71564 \nL 184.861964 223.71564 \nz\n\" style=\"fill:#ff7f0e;\"/>\n   </g>\n   <g id=\"patch_53\">\n    <path clip-path=\"url(#pf20b8f04f7)\" d=\"M 194.427679 224.64 \nL 196.021964 224.64 \nL 196.021964 223.992386 \nL 194.427679 223.992386 \nz\n\" style=\"fill:#ff7f0e;\"/>\n   </g>\n   <g id=\"patch_54\">\n    <path clip-path=\"url(#pf20b8f04f7)\" d=\"M 203.993393 224.64 \nL 205.587679 224.64 \nL 205.587679 223.832784 \nL 203.993393 223.832784 \nz\n\" style=\"fill:#ff7f0e;\"/>\n   </g>\n   <g id=\"patch_55\">\n    <path clip-path=\"url(#pf20b8f04f7)\" d=\"M 213.559107 224.64 \nL 215.153393 224.64 \nL 215.153393 224.156591 \nL 213.559107 224.156591 \nz\n\" style=\"fill:#ff7f0e;\"/>\n   </g>\n   <g id=\"patch_56\">\n    <path clip-path=\"url(#pf20b8f04f7)\" d=\"M 223.124821 224.64 \nL 224.719107 224.64 \nL 224.719107 224.276804 \nL 223.124821 224.276804 \nz\n\" style=\"fill:#ff7f0e;\"/>\n   </g>\n   <g id=\"patch_57\">\n    <path clip-path=\"url(#pf20b8f04f7)\" d=\"M 232.690536 224.64 \nL 234.284821 224.64 \nL 234.284821 224.239461 \nL 232.690536 224.239461 \nz\n\" style=\"fill:#ff7f0e;\"/>\n   </g>\n   <g id=\"patch_58\">\n    <path clip-path=\"url(#pf20b8f04f7)\" d=\"M 242.25625 224.64 \nL 243.850536 224.64 \nL 243.850536 224.218999 \nL 242.25625 224.218999 \nz\n\" style=\"fill:#ff7f0e;\"/>\n   </g>\n   <g id=\"patch_59\">\n    <path clip-path=\"url(#pf20b8f04f7)\" d=\"M 251.821964 224.64 \nL 253.41625 224.64 \nL 253.41625 224.22923 \nL 251.821964 224.22923 \nz\n\" style=\"fill:#ff7f0e;\"/>\n   </g>\n   <g id=\"patch_60\">\n    <path clip-path=\"url(#pf20b8f04f7)\" d=\"M 261.387679 224.64 \nL 262.981964 224.64 \nL 262.981964 224.515183 \nL 261.387679 224.515183 \nz\n\" style=\"fill:#ff7f0e;\"/>\n   </g>\n   <g id=\"patch_61\">\n    <path clip-path=\"url(#pf20b8f04f7)\" d=\"M 270.953393 224.64 \nL 272.547679 224.64 \nL 272.547679 224.486537 \nL 270.953393 224.486537 \nz\n\" style=\"fill:#ff7f0e;\"/>\n   </g>\n   <g id=\"patch_62\">\n    <path clip-path=\"url(#pf20b8f04f7)\" d=\"M 280.519107 224.64 \nL 282.113393 224.64 \nL 282.113393 224.546899 \nL 280.519107 224.546899 \nz\n\" style=\"fill:#ff7f0e;\"/>\n   </g>\n   <g id=\"patch_63\">\n    <path clip-path=\"url(#pf20b8f04f7)\" d=\"M 290.084821 224.64 \nL 291.679107 224.64 \nL 291.679107 224.614934 \nL 290.084821 224.614934 \nz\n\" style=\"fill:#ff7f0e;\"/>\n   </g>\n   <g id=\"patch_64\">\n    <path clip-path=\"url(#pf20b8f04f7)\" d=\"M 299.650536 224.64 \nL 301.244821 224.64 \nL 301.244821 224.618515 \nL 299.650536 224.618515 \nz\n\" style=\"fill:#ff7f0e;\"/>\n   </g>\n   <g id=\"patch_65\">\n    <path clip-path=\"url(#pf20b8f04f7)\" d=\"M 309.21625 224.64 \nL 310.810536 224.64 \nL 310.810536 224.622096 \nL 309.21625 224.622096 \nz\n\" style=\"fill:#ff7f0e;\"/>\n   </g>\n   <g id=\"patch_66\">\n    <path clip-path=\"url(#pf20b8f04f7)\" d=\"M 318.781964 224.64 \nL 320.37625 224.64 \nL 320.37625 224.623631 \nL 318.781964 224.623631 \nz\n\" style=\"fill:#ff7f0e;\"/>\n   </g>\n   <g id=\"patch_67\">\n    <path clip-path=\"url(#pf20b8f04f7)\" d=\"M 328.347679 224.64 \nL 329.941964 224.64 \nL 329.941964 224.627723 \nL 328.347679 224.627723 \nz\n\" style=\"fill:#ff7f0e;\"/>\n   </g>\n   <g id=\"patch_68\">\n    <path clip-path=\"url(#pf20b8f04f7)\" d=\"M 337.913393 224.64 \nL 339.507679 224.64 \nL 339.507679 224.638465 \nL 337.913393 224.638465 \nz\n\" style=\"fill:#ff7f0e;\"/>\n   </g>\n   <g id=\"patch_69\">\n    <path clip-path=\"url(#pf20b8f04f7)\" d=\"M 347.479107 224.64 \nL 349.073393 224.64 \nL 349.073393 224.637442 \nL 347.479107 224.637442 \nz\n\" style=\"fill:#ff7f0e;\"/>\n   </g>\n   <g id=\"patch_70\">\n    <path clip-path=\"url(#pf20b8f04f7)\" d=\"M 357.044821 224.64 \nL 358.639107 224.64 \nL 358.639107 224.637954 \nL 357.044821 224.637954 \nz\n\" style=\"fill:#ff7f0e;\"/>\n   </g>\n   <g id=\"patch_71\">\n    <path clip-path=\"url(#pf20b8f04f7)\" d=\"M 366.610536 224.64 \nL 368.204821 224.64 \nL 368.204821 224.637442 \nL 366.610536 224.637442 \nz\n\" style=\"fill:#ff7f0e;\"/>\n   </g>\n   <g id=\"patch_72\">\n    <path clip-path=\"url(#pf20b8f04f7)\" d=\"M 376.17625 224.64 \nL 377.770536 224.64 \nL 377.770536 224.639488 \nL 376.17625 224.639488 \nz\n\" style=\"fill:#ff7f0e;\"/>\n   </g>\n   <g id=\"patch_73\">\n    <path clip-path=\"url(#pf20b8f04f7)\" d=\"M 52.53625 224.64 \nL 54.130536 224.64 \nL 54.130536 220.732722 \nL 52.53625 220.732722 \nz\n\" style=\"fill:#2ca02c;\"/>\n   </g>\n   <g id=\"patch_74\">\n    <path clip-path=\"url(#pf20b8f04f7)\" d=\"M 62.101964 224.64 \nL 63.69625 224.64 \nL 63.69625 222.277061 \nL 62.101964 222.277061 \nz\n\" style=\"fill:#2ca02c;\"/>\n   </g>\n   <g id=\"patch_75\">\n    <path clip-path=\"url(#pf20b8f04f7)\" d=\"M 71.667679 224.64 \nL 73.261964 224.64 \nL 73.261964 221.915424 \nL 71.667679 221.915424 \nz\n\" style=\"fill:#2ca02c;\"/>\n   </g>\n   <g id=\"patch_76\">\n    <path clip-path=\"url(#pf20b8f04f7)\" d=\"M 81.233393 224.64 \nL 82.827679 224.64 \nL 82.827679 221.777287 \nL 81.233393 221.777287 \nz\n\" style=\"fill:#2ca02c;\"/>\n   </g>\n   <g id=\"patch_77\">\n    <path clip-path=\"url(#pf20b8f04f7)\" d=\"M 90.799107 224.64 \nL 92.393393 224.64 \nL 92.393393 221.596619 \nL 90.799107 221.596619 \nz\n\" style=\"fill:#2ca02c;\"/>\n   </g>\n   <g id=\"patch_78\">\n    <path clip-path=\"url(#pf20b8f04f7)\" d=\"M 100.364821 224.64 \nL 101.959107 224.64 \nL 101.959107 223.417739 \nL 100.364821 223.417739 \nz\n\" style=\"fill:#2ca02c;\"/>\n   </g>\n   <g id=\"patch_79\">\n    <path clip-path=\"url(#pf20b8f04f7)\" d=\"M 109.930536 224.64 \nL 111.524821 224.64 \nL 111.524821 223.19392 \nL 109.930536 223.19392 \nz\n\" style=\"fill:#2ca02c;\"/>\n   </g>\n   <g id=\"patch_80\">\n    <path clip-path=\"url(#pf20b8f04f7)\" d=\"M 119.49625 224.64 \nL 121.090536 224.64 \nL 121.090536 223.708761 \nL 119.49625 223.708761 \nz\n\" style=\"fill:#2ca02c;\"/>\n   </g>\n   <g id=\"patch_81\">\n    <path clip-path=\"url(#pf20b8f04f7)\" d=\"M 129.061964 224.64 \nL 130.65625 224.64 \nL 130.65625 224.287423 \nL 129.061964 224.287423 \nz\n\" style=\"fill:#2ca02c;\"/>\n   </g>\n   <g id=\"patch_82\">\n    <path clip-path=\"url(#pf20b8f04f7)\" d=\"M 138.627679 224.64 \nL 140.221964 224.64 \nL 140.221964 224.11724 \nL 138.627679 224.11724 \nz\n\" style=\"fill:#2ca02c;\"/>\n   </g>\n   <g id=\"patch_83\">\n    <path clip-path=\"url(#pf20b8f04f7)\" d=\"M 148.193393 224.64 \nL 149.787679 224.64 \nL 149.787679 224.561193 \nL 148.193393 224.561193 \nz\n\" style=\"fill:#2ca02c;\"/>\n   </g>\n   <g id=\"patch_84\">\n    <path clip-path=\"url(#pf20b8f04f7)\" d=\"M 157.759107 224.64 \nL 159.353393 224.64 \nL 159.353393 224.594473 \nL 157.759107 224.594473 \nz\n\" style=\"fill:#2ca02c;\"/>\n   </g>\n   <g id=\"patch_85\">\n    <path clip-path=\"url(#pf20b8f04f7)\" d=\"M 167.324821 224.64 \nL 168.919107 224.64 \nL 168.919107 224.494061 \nL 167.324821 224.494061 \nz\n\" style=\"fill:#2ca02c;\"/>\n   </g>\n   <g id=\"patch_86\">\n    <path clip-path=\"url(#pf20b8f04f7)\" d=\"M 176.890536 224.64 \nL 178.484821 224.64 \nL 178.484821 224.556849 \nL 176.890536 224.556849 \nz\n\" style=\"fill:#2ca02c;\"/>\n   </g>\n   <g id=\"patch_87\">\n    <path clip-path=\"url(#pf20b8f04f7)\" d=\"M 186.45625 224.64 \nL 188.050536 224.64 \nL 188.050536 224.568662 \nL 186.45625 224.568662 \nz\n\" style=\"fill:#2ca02c;\"/>\n   </g>\n   <g id=\"patch_88\">\n    <path clip-path=\"url(#pf20b8f04f7)\" d=\"M 196.021964 224.64 \nL 197.61625 224.64 \nL 197.61625 224.583101 \nL 196.021964 224.583101 \nz\n\" style=\"fill:#2ca02c;\"/>\n   </g>\n   <g id=\"patch_89\">\n    <path clip-path=\"url(#pf20b8f04f7)\" d=\"M 205.587679 224.64 \nL 207.181964 224.64 \nL 207.181964 224.586073 \nL 205.587679 224.586073 \nz\n\" style=\"fill:#2ca02c;\"/>\n   </g>\n   <g id=\"patch_90\">\n    <path clip-path=\"url(#pf20b8f04f7)\" d=\"M 215.153393 224.64 \nL 216.747679 224.64 \nL 216.747679 224.604782 \nL 215.153393 224.604782 \nz\n\" style=\"fill:#2ca02c;\"/>\n   </g>\n   <g id=\"patch_91\">\n    <path clip-path=\"url(#pf20b8f04f7)\" d=\"M 224.719107 224.64 \nL 226.313393 224.64 \nL 226.313393 224.575602 \nL 224.719107 224.575602 \nz\n\" style=\"fill:#2ca02c;\"/>\n   </g>\n   <g id=\"patch_92\">\n    <path clip-path=\"url(#pf20b8f04f7)\" d=\"M 234.284821 224.64 \nL 235.879107 224.64 \nL 235.879107 224.553379 \nL 234.284821 224.553379 \nz\n\" style=\"fill:#2ca02c;\"/>\n   </g>\n   <g id=\"patch_93\">\n    <path clip-path=\"url(#pf20b8f04f7)\" d=\"M 243.850536 224.64 \nL 245.444821 224.64 \nL 245.444821 224.613492 \nL 243.850536 224.613492 \nz\n\" style=\"fill:#2ca02c;\"/>\n   </g>\n   <g id=\"patch_94\">\n    <path clip-path=\"url(#pf20b8f04f7)\" d=\"M 253.41625 224.64 \nL 255.010536 224.64 \nL 255.010536 224.624748 \nL 253.41625 224.624748 \nz\n\" style=\"fill:#2ca02c;\"/>\n   </g>\n   <g id=\"patch_95\">\n    <path clip-path=\"url(#pf20b8f04f7)\" d=\"M 262.981964 224.64 \nL 264.57625 224.64 \nL 264.57625 224.599315 \nL 262.981964 224.599315 \nz\n\" style=\"fill:#2ca02c;\"/>\n   </g>\n   <g id=\"patch_96\">\n    <path clip-path=\"url(#pf20b8f04f7)\" d=\"M 272.547679 224.64 \nL 274.141964 224.64 \nL 274.141964 224.636472 \nL 272.547679 224.636472 \nz\n\" style=\"fill:#2ca02c;\"/>\n   </g>\n   <g id=\"patch_97\">\n    <path clip-path=\"url(#pf20b8f04f7)\" d=\"M 282.113393 224.64 \nL 283.707679 224.64 \nL 283.707679 224.631041 \nL 282.113393 224.631041 \nz\n\" style=\"fill:#2ca02c;\"/>\n   </g>\n   <g id=\"patch_98\">\n    <path clip-path=\"url(#pf20b8f04f7)\" d=\"M 291.679107 224.64 \nL 293.273393 224.64 \nL 293.273393 224.623631 \nL 291.679107 224.623631 \nz\n\" style=\"fill:#2ca02c;\"/>\n   </g>\n   <g id=\"patch_99\">\n    <path clip-path=\"url(#pf20b8f04f7)\" d=\"M 301.244821 224.64 \nL 302.839107 224.64 \nL 302.839107 224.631304 \nL 301.244821 224.631304 \nz\n\" style=\"fill:#2ca02c;\"/>\n   </g>\n   <g id=\"patch_100\">\n    <path clip-path=\"url(#pf20b8f04f7)\" d=\"M 310.810536 224.64 \nL 312.404821 224.64 \nL 312.404821 224.633414 \nL 310.810536 224.633414 \nz\n\" style=\"fill:#2ca02c;\"/>\n   </g>\n   <g id=\"patch_101\">\n    <path clip-path=\"url(#pf20b8f04f7)\" d=\"M 320.37625 224.64 \nL 321.970536 224.64 \nL 321.970536 224.633094 \nL 320.37625 224.633094 \nz\n\" style=\"fill:#2ca02c;\"/>\n   </g>\n   <g id=\"patch_102\">\n    <path clip-path=\"url(#pf20b8f04f7)\" d=\"M 329.941964 224.64 \nL 331.53625 224.64 \nL 331.53625 224.627979 \nL 329.941964 224.627979 \nz\n\" style=\"fill:#2ca02c;\"/>\n   </g>\n   <g id=\"patch_103\">\n    <path clip-path=\"url(#pf20b8f04f7)\" d=\"M 339.507679 224.64 \nL 341.101964 224.64 \nL 341.101964 224.639335 \nL 339.507679 224.639335 \nz\n\" style=\"fill:#2ca02c;\"/>\n   </g>\n   <g id=\"patch_104\">\n    <path clip-path=\"url(#pf20b8f04f7)\" d=\"M 349.073393 224.64 \nL 350.667679 224.64 \nL 350.667679 224.638849 \nL 349.073393 224.638849 \nz\n\" style=\"fill:#2ca02c;\"/>\n   </g>\n   <g id=\"patch_105\">\n    <path clip-path=\"url(#pf20b8f04f7)\" d=\"M 358.639107 224.64 \nL 360.233393 224.64 \nL 360.233393 224.639079 \nL 358.639107 224.639079 \nz\n\" style=\"fill:#2ca02c;\"/>\n   </g>\n   <g id=\"patch_106\">\n    <path clip-path=\"url(#pf20b8f04f7)\" d=\"M 368.204821 224.64 \nL 369.799107 224.64 \nL 369.799107 224.639182 \nL 368.204821 224.639182 \nz\n\" style=\"fill:#2ca02c;\"/>\n   </g>\n   <g id=\"patch_107\">\n    <path clip-path=\"url(#pf20b8f04f7)\" d=\"M 377.770536 224.64 \nL 379.364821 224.64 \nL 379.364821 224.639795 \nL 377.770536 224.639795 \nz\n\" style=\"fill:#2ca02c;\"/>\n   </g>\n   <g id=\"matplotlib.axis_1\">\n    <g id=\"xtick_1\">\n     <g id=\"line2d_1\">\n      <defs>\n       <path d=\"M 0 0 \nL 0 3.5 \n\" id=\"m7042b1a71b\" style=\"stroke:#000000;stroke-width:0.8;\"/>\n      </defs>\n      <g>\n       <use style=\"stroke:#000000;stroke-width:0.8;\" x=\"51.739107\" xlink:href=\"#m7042b1a71b\" y=\"224.64\"/>\n      </g>\n     </g>\n     <g id=\"text_1\">\n      <!-- ขายฝันของพรรค -->\n      <g transform=\"translate(54.532076 299.663437)rotate(-90)scale(0.1 -0.1)\">\n       <defs>\n        <path d=\"M 52.984375 0 \nL 12.796875 0 \nL 12.796875 8.6875 \nL 19 8.6875 \nL 19 21.1875 \nQ 19 24.90625 20 27.359375 \nQ 21 29.828125 22.953125 32.765625 \nQ 25.140625 36.078125 25.671875 37.9375 \nQ 26.21875 39.796875 26.21875 41.5 \nQ 26.21875 49.515625 19.484375 49.515625 \nQ 18.21875 49.515625 17.484375 49.03125 \nQ 21.484375 46 21.484375 41.5 \nQ 21.484375 37.703125 18.75 35.015625 \nQ 16.015625 32.328125 12.203125 32.328125 \nQ 8.40625 32.328125 5.6875 35.03125 \nQ 2.984375 37.75 2.984375 41.609375 \nQ 2.984375 48.09375 7.546875 52.09375 \nQ 12.109375 56.109375 19.484375 56.109375 \nQ 26.515625 56.109375 30.8125 52.125 \nQ 35.109375 48.140625 35.109375 41.609375 \nQ 35.109375 39.453125 34.453125 37.015625 \nQ 33.796875 34.578125 31.34375 30.28125 \nQ 28.21875 24.90625 28.21875 21.578125 \nL 28.21875 8.6875 \nL 43.796875 8.6875 \nL 43.796875 54.59375 \nL 52.984375 54.59375 \nz\nM 12.203125 37.796875 \nQ 13.71875 37.796875 14.8125 38.890625 \nQ 15.921875 39.984375 15.921875 41.609375 \nQ 15.921875 43.0625 14.8125 44.140625 \nQ 13.71875 45.21875 12.203125 45.21875 \nQ 10.6875 45.21875 9.59375 44.140625 \nQ 8.5 43.0625 8.5 41.609375 \nQ 8.5 39.984375 9.59375 38.890625 \nQ 10.6875 37.796875 12.203125 37.796875 \nz\n\" id=\"Tahoma-3586\"/>\n        <path d=\"M 40.28125 0 \nL 31.109375 0 \nL 31.109375 35.015625 \nQ 31.109375 41.3125 28.09375 44.65625 \nQ 25.09375 48 19.828125 48 \nQ 11.765625 48 3.328125 43.015625 \nL 2.6875 43.015625 \nL 2.6875 52.6875 \nQ 11.328125 56 19.828125 56 \nQ 40.28125 56 40.28125 35.59375 \nz\n\" id=\"Tahoma-3634\"/>\n        <path d=\"M 49.8125 0 \nL 8.203125 0 \nL 8.203125 15.71875 \nQ 8.203125 20.703125 13.1875 23.578125 \nQ 8.296875 26.46875 8.296875 31.59375 \nL 8.296875 43.015625 \nQ 8.296875 49.03125 11.765625 52.5625 \nQ 15.234375 56.109375 21 56.109375 \nQ 24.8125 56.109375 27.5625 53.34375 \nQ 30.328125 50.59375 30.328125 46.78125 \nQ 30.328125 42.96875 27.59375 40.28125 \nQ 24.859375 37.59375 21 37.59375 \nQ 19 37.59375 17.484375 38.1875 \nL 17.484375 31.78125 \nQ 17.484375 26.609375 22.703125 26.609375 \nL 24.609375 26.609375 \nL 24.609375 20.609375 \nL 22.703125 20.609375 \nQ 17.484375 20.609375 17.484375 15.71875 \nL 17.484375 8.6875 \nL 40.578125 8.6875 \nL 40.578125 54.59375 \nL 49.8125 54.59375 \nz\nM 21 43.21875 \nQ 22.515625 43.21875 23.609375 44.265625 \nQ 24.703125 45.3125 24.703125 46.78125 \nQ 24.703125 48.4375 23.609375 49.515625 \nQ 22.515625 50.59375 21 50.59375 \nQ 19.484375 50.59375 18.375 49.484375 \nQ 17.28125 48.390625 17.28125 46.78125 \nQ 17.28125 45.3125 18.375 44.265625 \nQ 19.484375 43.21875 21 43.21875 \nz\n\" id=\"Tahoma-3618\"/>\n        <path d=\"M 54.984375 0 \nL 45.796875 0 \nQ 45.796875 1.375 44.328125 4.078125 \nQ 42.875 6.78125 37.3125 14.3125 \nQ 32.90625 20.265625 31.5 22.515625 \nQ 30.125 20.3125 25.828125 14.40625 \nQ 20.265625 6.84375 18.765625 4.109375 \nQ 17.28125 1.375 17.28125 0 \nL 8.203125 0 \nL 8.203125 43.015625 \nQ 8.203125 49.03125 11.640625 52.5625 \nQ 15.09375 56.109375 20.90625 56.109375 \nQ 24.703125 56.109375 27.4375 53.34375 \nQ 30.171875 50.59375 30.171875 46.78125 \nQ 30.171875 42.96875 27.453125 40.28125 \nQ 24.75 37.59375 20.90625 37.59375 \nQ 18.890625 37.59375 17.390625 38.1875 \nL 17.390625 12.203125 \nQ 17.390625 13.71875 24.75 23.53125 \nQ 30.515625 31.203125 30.515625 32.078125 \nL 32.515625 32.078125 \nQ 32.515625 31.203125 38.328125 23.53125 \nQ 45.796875 13.71875 45.796875 12.203125 \nL 45.796875 80.515625 \nL 54.984375 80.515625 \nz\nM 20.90625 43.21875 \nQ 22.40625 43.21875 23.5 44.265625 \nQ 24.609375 45.3125 24.609375 46.78125 \nQ 24.609375 48.4375 23.5 49.515625 \nQ 22.40625 50.59375 20.90625 50.59375 \nQ 19.390625 50.59375 18.28125 49.484375 \nQ 17.1875 48.390625 17.1875 46.78125 \nQ 17.1875 45.3125 18.28125 44.265625 \nQ 19.390625 43.21875 20.90625 43.21875 \nz\n\" id=\"Tahoma-3613\"/>\n        <path d=\"M 7.171875 75.921875 \nQ 4.78125 67.875 -2.515625 63.140625 \nQ -9.8125 58.40625 -19.4375 58.40625 \nQ -26.46875 58.40625 -30.546875 61.453125 \nQ -34.625 64.5 -34.625 69.625 \nQ -34.625 73.4375 -31.859375 76.171875 \nQ -29.109375 78.90625 -25.296875 78.90625 \nQ -21.53125 78.90625 -18.8125 76.171875 \nQ -16.109375 73.4375 -16.109375 69.625 \nQ -16.109375 65.578125 -18.015625 63.328125 \nQ -11.578125 63.328125 -5.78125 67.375 \nQ 0 71.4375 0.875 75.921875 \nz\nM -25.296875 65.921875 \nQ -23.828125 65.921875 -22.78125 67.015625 \nQ -21.734375 68.109375 -21.734375 69.625 \nQ -21.734375 71.140625 -22.78125 72.234375 \nQ -23.828125 73.34375 -25.296875 73.34375 \nQ -26.90625 73.34375 -28 72.234375 \nQ -29.109375 71.140625 -29.109375 69.625 \nQ -29.109375 68.109375 -28 67.015625 \nQ -26.90625 65.921875 -25.296875 65.921875 \nz\n\" id=\"Tahoma-3633\"/>\n        <path d=\"M 51.703125 17.09375 \nQ 56.984375 14.203125 56.984375 8.59375 \nQ 56.984375 4.78125 54.25 2 \nQ 51.515625 -0.78125 47.703125 -0.78125 \nQ 43.890625 -0.78125 41.078125 2 \nQ 38.28125 4.78125 38.28125 8.59375 \nQ 38.28125 9.421875 38.375 9.8125 \nQ 31.15625 6.34375 24.421875 0 \nL 15.828125 0 \nL 15.828125 38.1875 \nQ 14.3125 37.59375 12.3125 37.59375 \nQ 8.5 37.59375 5.734375 40.296875 \nQ 2.984375 43.015625 2.984375 46.78125 \nQ 2.984375 50.640625 5.734375 53.375 \nQ 8.5 56.109375 12.3125 56.109375 \nQ 18.0625 56.109375 21.53125 52.5625 \nQ 25 49.03125 25 43.015625 \nL 25 8.890625 \nQ 33.453125 15.671875 42.484375 17.828125 \nL 42.484375 54.59375 \nL 51.703125 54.59375 \nz\nM 12.3125 43.21875 \nQ 13.8125 43.21875 14.90625 44.265625 \nQ 16.015625 45.3125 16.015625 46.78125 \nQ 16.015625 48.4375 14.90625 49.515625 \nQ 13.8125 50.59375 12.3125 50.59375 \nQ 10.796875 50.59375 9.6875 49.484375 \nQ 8.59375 48.390625 8.59375 46.78125 \nQ 8.59375 45.3125 9.6875 44.265625 \nQ 10.796875 43.21875 12.3125 43.21875 \nz\nM 47.609375 4.78125 \nQ 49.125 4.78125 50.21875 5.875 \nQ 51.3125 6.984375 51.3125 8.59375 \nQ 51.3125 10.109375 50.21875 11.15625 \nQ 49.125 12.203125 47.609375 12.203125 \nQ 46.09375 12.203125 44.984375 11.125 \nQ 43.890625 10.0625 43.890625 8.59375 \nQ 43.890625 6.984375 44.984375 5.875 \nQ 46.09375 4.78125 47.609375 4.78125 \nz\n\" id=\"Tahoma-3609\"/>\n        <path d=\"M 51.3125 0 \nL 8.203125 0 \nL 8.203125 21.296875 \nQ 8.203125 27.390625 11.671875 30.90625 \nQ 15.140625 34.421875 20.90625 34.421875 \nQ 24.703125 34.421875 27.4375 31.65625 \nQ 30.171875 28.90625 30.171875 25.09375 \nQ 30.171875 21.296875 27.4375 18.609375 \nQ 24.703125 15.921875 20.90625 15.921875 \nQ 18.890625 15.921875 17.390625 16.5 \nL 17.390625 8.6875 \nL 42.09375 8.6875 \nL 42.09375 33.890625 \nQ 42.09375 40.578125 38.296875 44.328125 \nQ 34.515625 48.09375 28.078125 48.09375 \nQ 18.0625 48.09375 8.40625 41.609375 \nL 7.8125 41.609375 \nL 7.8125 51.90625 \nQ 18.359375 56.109375 27.875 56.109375 \nQ 39.203125 56.109375 45.25 50.21875 \nQ 51.3125 44.34375 51.3125 33.890625 \nz\nM 20.90625 21.484375 \nQ 22.40625 21.484375 23.5 22.5625 \nQ 24.609375 23.640625 24.609375 25.09375 \nQ 24.609375 26.703125 23.5 27.796875 \nQ 22.40625 28.90625 20.90625 28.90625 \nQ 19.390625 28.90625 18.28125 27.796875 \nQ 17.1875 26.703125 17.1875 25.09375 \nQ 17.1875 23.640625 18.28125 22.5625 \nQ 19.390625 21.484375 20.90625 21.484375 \nz\n\" id=\"Tahoma-3629\"/>\n        <path d=\"M 41.015625 15.921875 \nQ 41.015625 7.375 37.171875 2.875 \nQ 33.34375 -1.609375 26.8125 -1.609375 \nQ 22.609375 -1.609375 19.0625 0.90625 \nQ 15.53125 3.421875 12.75 9.328125 \nL 1.421875 33.015625 \nL 10.984375 33.015625 \nQ 19.828125 14.5 20.75 12.640625 \nQ 21.6875 10.796875 23.265625 8.9375 \nQ 24.859375 7.078125 26.8125 7.078125 \nQ 31.78125 7.078125 31.78125 15.921875 \nL 31.78125 38.09375 \nQ 30.28125 37.5 28.328125 37.5 \nQ 24.46875 37.5 21.734375 40.203125 \nQ 19 42.921875 19 46.6875 \nQ 19 50.484375 21.75 53.234375 \nQ 24.515625 56 28.328125 56 \nQ 34.078125 56 37.546875 52.453125 \nQ 41.015625 48.921875 41.015625 42.921875 \nz\nM 28.21875 43.109375 \nQ 29.6875 43.109375 30.78125 44.15625 \nQ 31.890625 45.21875 31.890625 46.6875 \nQ 31.890625 48.296875 30.8125 49.390625 \nQ 29.734375 50.484375 28.21875 50.484375 \nQ 26.65625 50.484375 25.578125 49.390625 \nQ 24.515625 48.296875 24.515625 46.6875 \nQ 24.515625 45.21875 25.609375 44.15625 \nQ 26.703125 43.109375 28.21875 43.109375 \nz\n\" id=\"Tahoma-3591\"/>\n        <path d=\"M 62.59375 0 \nL 51.703125 0 \nQ 51.703125 4.6875 44 26.375 \nQ 40.046875 37.5 39.203125 40.578125 \nQ 38.375 37.5 34.421875 26.375 \nQ 26.703125 4.6875 26.703125 0 \nL 15.828125 0 \nL 15.828125 38.1875 \nQ 14.3125 37.59375 12.3125 37.59375 \nQ 8.5 37.59375 5.734375 40.296875 \nQ 2.984375 43.015625 2.984375 46.78125 \nQ 2.984375 50.640625 5.734375 53.375 \nQ 8.5 56.109375 12.3125 56.109375 \nQ 18.0625 56.109375 21.53125 52.5625 \nQ 25 49.03125 25 43.015625 \nL 25 15.578125 \nQ 25 17.578125 29.890625 31.109375 \nQ 37.109375 50.984375 37.109375 55.171875 \nL 41.3125 55.171875 \nQ 41.3125 51.03125 48.34375 31.640625 \nQ 53.421875 17.71875 53.421875 15.578125 \nL 53.421875 54.59375 \nL 62.59375 54.59375 \nz\nM 12.3125 43.21875 \nQ 13.8125 43.21875 14.90625 44.265625 \nQ 16.015625 45.3125 16.015625 46.78125 \nQ 16.015625 48.4375 14.90625 49.515625 \nQ 13.8125 50.59375 12.3125 50.59375 \nQ 10.796875 50.59375 9.6875 49.484375 \nQ 8.59375 48.390625 8.59375 46.78125 \nQ 8.59375 45.3125 9.6875 44.265625 \nQ 10.796875 43.21875 12.3125 43.21875 \nz\n\" id=\"Tahoma-3614\"/>\n        <path d=\"M 40.921875 47.796875 \nQ 36.578125 46.921875 31.890625 46.921875 \nL 21 47.40625 \nQ 16.109375 47.40625 13.390625 45.8125 \nQ 10.6875 44.234375 10.6875 41.890625 \nQ 12.25 42.1875 15.1875 42.1875 \nQ 25.921875 42.1875 30.046875 37.734375 \nQ 34.1875 33.296875 34.1875 22.90625 \nL 34.1875 12.3125 \nQ 34.1875 6.25 30.734375 2.734375 \nQ 27.296875 -0.78125 21.484375 -0.78125 \nQ 17.671875 -0.78125 14.9375 1.953125 \nQ 12.203125 4.6875 12.203125 8.5 \nQ 12.203125 12.3125 14.9375 14.984375 \nQ 17.671875 17.671875 21.484375 17.671875 \nQ 23.484375 17.671875 25 17.09375 \nL 25 22.90625 \nQ 25 29.546875 22.65625 32.46875 \nQ 20.3125 35.40625 15.1875 35.40625 \nQ 13.09375 35.40625 10.40625 35.125 \nQ 7.71875 34.859375 5.765625 34.515625 \nL 2.296875 33.890625 \nL 2 33.890625 \nL 2 37.3125 \nQ 2 45.84375 6.25 50.578125 \nQ 10.5 55.328125 21 55.328125 \nL 31.890625 54.890625 \nQ 34.078125 54.890625 36.421875 55.375 \nL 40.484375 56.296875 \nL 40.921875 56.296875 \nz\nM 21.484375 4.6875 \nQ 23.046875 4.6875 24.125 5.78125 \nQ 25.203125 6.890625 25.203125 8.5 \nQ 25.203125 10.015625 24.09375 11.0625 \nQ 23 12.109375 21.484375 12.109375 \nQ 19.96875 12.109375 18.890625 11.03125 \nQ 17.828125 9.96875 17.828125 8.5 \nQ 17.828125 6.890625 18.890625 5.78125 \nQ 19.96875 4.6875 21.484375 4.6875 \nz\n\" id=\"Tahoma-3619\"/>\n        <path d=\"M 53.328125 0 \nL 44.09375 0 \nL 44.09375 31.5 \nQ 44.09375 47.40625 29.6875 47.40625 \nQ 22.796875 47.40625 19.03125 43.328125 \nQ 15.28125 39.265625 15.28125 32.515625 \nQ 15.28125 26.375 17.484375 18.796875 \nQ 19.09375 26.3125 21.96875 31.140625 \nQ 24.859375 35.984375 29.984375 35.984375 \nQ 33.796875 35.984375 36.546875 33.25 \nQ 39.3125 30.515625 39.3125 26.703125 \nQ 39.3125 22.90625 36.578125 20.1875 \nQ 33.84375 17.484375 29.984375 17.484375 \nQ 27.4375 17.484375 25.484375 18.703125 \nQ 19.390625 12.546875 19.390625 0 \nL 10.203125 0 \nL 10.203125 4.203125 \nQ 10.203125 8.25 8.34375 17.09375 \nQ 6.203125 27.15625 6.203125 32.421875 \nQ 6.203125 43.015625 12.28125 49.5625 \nQ 18.359375 56.109375 29.6875 56.109375 \nQ 53.328125 56.109375 53.328125 31.5 \nz\nM 30.078125 23.09375 \nQ 31.59375 23.09375 32.6875 24.171875 \nQ 33.796875 25.25 33.796875 26.703125 \nQ 33.796875 28.328125 32.71875 29.421875 \nQ 31.640625 30.515625 30.078125 30.515625 \nQ 28.5625 30.515625 27.484375 29.421875 \nQ 26.421875 28.328125 26.421875 26.703125 \nQ 26.421875 25.25 27.515625 24.171875 \nQ 28.609375 23.09375 30.078125 23.09375 \nz\n\" id=\"Tahoma-3588\"/>\n       </defs>\n       <use xlink:href=\"#Tahoma-3586\"/>\n       <use x=\"61.279297\" xlink:href=\"#Tahoma-3634\"/>\n       <use x=\"109.765625\" xlink:href=\"#Tahoma-3618\"/>\n       <use x=\"167.675781\" xlink:href=\"#Tahoma-3613\"/>\n       <use x=\"230.859375\" xlink:href=\"#Tahoma-3633\"/>\n       <use x=\"230.859375\" xlink:href=\"#Tahoma-3609\"/>\n       <use x=\"292.041016\" xlink:href=\"#Tahoma-3586\"/>\n       <use x=\"353.320312\" xlink:href=\"#Tahoma-3629\"/>\n       <use x=\"412.841797\" xlink:href=\"#Tahoma-3591\"/>\n       <use x=\"462.060547\" xlink:href=\"#Tahoma-3614\"/>\n       <use x=\"532.861328\" xlink:href=\"#Tahoma-3619\"/>\n       <use x=\"575.78125\" xlink:href=\"#Tahoma-3619\"/>\n       <use x=\"618.701172\" xlink:href=\"#Tahoma-3588\"/>\n      </g>\n     </g>\n    </g>\n    <g id=\"xtick_2\">\n     <g id=\"line2d_2\">\n      <g>\n       <use style=\"stroke:#000000;stroke-width:0.8;\" x=\"61.304821\" xlink:href=\"#m7042b1a71b\" y=\"224.64\"/>\n      </g>\n     </g>\n     <g id=\"text_2\">\n      <!-- บันทึกการเดินทางของลูกทีมพรรค -->\n      <g transform=\"translate(64.314978 368.860312)rotate(-90)scale(0.1 -0.1)\">\n       <defs>\n        <path d=\"M 54.78125 0 \nL 8.796875 0 \nL 8.796875 8.6875 \nL 16.796875 8.6875 \nL 16.796875 38.1875 \nQ 15.28125 37.59375 13.28125 37.59375 \nQ 9.46875 37.59375 6.734375 40.296875 \nQ 4 43.015625 4 46.78125 \nQ 4 50.640625 6.734375 53.375 \nQ 9.46875 56.109375 13.28125 56.109375 \nQ 19.09375 56.109375 22.53125 52.5625 \nQ 25.984375 49.03125 25.984375 43.015625 \nL 25.984375 8.6875 \nL 45.609375 8.6875 \nL 45.609375 54.59375 \nL 54.78125 54.59375 \nz\nM 13.28125 43.21875 \nQ 14.796875 43.21875 15.890625 44.265625 \nQ 17 45.3125 17 46.78125 \nQ 17 48.390625 15.921875 49.484375 \nQ 14.84375 50.59375 13.28125 50.59375 \nQ 11.765625 50.59375 10.6875 49.484375 \nQ 9.625 48.390625 9.625 46.78125 \nQ 9.625 45.3125 10.6875 44.265625 \nQ 11.765625 43.21875 13.28125 43.21875 \nz\n\" id=\"Tahoma-3610\"/>\n        <path d=\"M 63.375 0 \nL 54.203125 0 \nL 54.203125 41.40625 \nQ 54.203125 47.703125 50.59375 47.703125 \nQ 47.515625 47.703125 43 37.15625 \nQ 38.484375 26.609375 29.59375 0 \nL 16.796875 0 \nL 16.796875 38.1875 \nQ 15.28125 37.59375 13.28125 37.59375 \nQ 9.46875 37.59375 6.734375 40.296875 \nQ 4 43.015625 4 46.78125 \nQ 4 50.640625 6.734375 53.375 \nQ 9.46875 56.109375 13.28125 56.109375 \nQ 19.09375 56.109375 22.53125 52.5625 \nQ 25.984375 49.03125 25.984375 43.015625 \nL 25.984375 8.59375 \nQ 33.0625 29.34375 35.40625 35.71875 \nQ 37.75 42.09375 40.5 47.125 \nQ 43.265625 52.15625 46 54.125 \nQ 48.734375 56.109375 52.296875 56.109375 \nQ 57.46875 56.109375 60.421875 52.21875 \nQ 63.375 48.34375 63.375 41.609375 \nz\nM 13.28125 43.21875 \nQ 14.796875 43.21875 15.890625 44.265625 \nQ 17 45.3125 17 46.78125 \nQ 17 48.390625 15.921875 49.484375 \nQ 14.84375 50.59375 13.28125 50.59375 \nQ 11.765625 50.59375 10.6875 49.484375 \nQ 9.625 48.390625 9.625 46.78125 \nQ 9.625 45.3125 10.6875 44.265625 \nQ 11.765625 43.21875 13.28125 43.21875 \nz\n\" id=\"Tahoma-3607\"/>\n        <path d=\"M -23.4375 74.21875 \nQ -23.09375 76.90625 -21.109375 78.65625 \nQ -19.140625 80.421875 -16.65625 80.421875 \nQ -13.875 80.421875 -11.859375 78.390625 \nQ -9.859375 76.375 -9.859375 73.578125 \nQ -9.859375 71.390625 -11.21875 69.53125 \nQ -12.59375 67.671875 -14.84375 67 \nQ -13.375 64.796875 -11.671875 59.1875 \nL -51.5625 59.1875 \nQ -49.703125 64.890625 -48.046875 67.375 \nQ -46.390625 69.875 -43.671875 71.890625 \nQ -40.96875 73.921875 -37.84375 74.953125 \nQ -34.71875 75.984375 -31.546875 75.984375 \nQ -27.390625 75.984375 -23.4375 74.21875 \nz\nM -16.546875 70.703125 \nQ -15.328125 70.703125 -14.453125 71.546875 \nQ -13.578125 72.40625 -13.578125 73.578125 \nQ -13.578125 74.8125 -14.46875 75.703125 \nQ -15.375 76.609375 -16.546875 76.609375 \nQ -17.71875 76.609375 -18.625 75.703125 \nQ -19.53125 74.8125 -19.53125 73.578125 \nQ -19.53125 72.40625 -18.65625 71.546875 \nQ -17.78125 70.703125 -16.546875 70.703125 \nz\nM -19.53125 64.59375 \nQ -20.703125 67.234375 -24.125 68.875 \nQ -27.546875 70.515625 -31.546875 70.515625 \nQ -35.59375 70.515625 -39.015625 68.875 \nQ -42.4375 67.234375 -43.5625 64.59375 \nz\n\" id=\"Tahoma-3638\"/>\n        <path d=\"M 51.3125 0 \nL 42.09375 0 \nL 42.09375 31.5 \nQ 42.09375 40.375 38.96875 43.890625 \nQ 35.84375 47.40625 29.203125 47.40625 \nQ 18.890625 47.40625 16.796875 39.015625 \nL 26.125 39.015625 \nL 26.125 32.515625 \nQ 17.390625 29.25 17.390625 18.109375 \nL 17.390625 0 \nL 8.203125 0 \nL 8.203125 16.5 \nQ 8.203125 29.25 16.796875 32.078125 \nL 7.171875 32.078125 \nL 7.171875 32.421875 \nQ 7.171875 43.109375 12.890625 49.609375 \nQ 18.609375 56.109375 29.203125 56.109375 \nQ 40.71875 56.109375 46.015625 50.265625 \nQ 51.3125 44.4375 51.3125 31.5 \nz\n\" id=\"Tahoma-3585\"/>\n        <path d=\"M 17.390625 17.09375 \nQ 18.890625 17.671875 20.90625 17.671875 \nQ 24.703125 17.671875 27.4375 14.984375 \nQ 30.171875 12.3125 30.171875 8.5 \nQ 30.171875 4.6875 27.4375 1.953125 \nQ 24.703125 -0.78125 20.90625 -0.78125 \nQ 15.140625 -0.78125 11.671875 2.734375 \nQ 8.203125 6.25 8.203125 12.3125 \nL 8.203125 54.59375 \nL 17.390625 54.59375 \nz\nM 20.90625 4.6875 \nQ 22.40625 4.6875 23.5 5.78125 \nQ 24.609375 6.890625 24.609375 8.5 \nQ 24.609375 9.96875 23.5 11.03125 \nQ 22.40625 12.109375 20.90625 12.109375 \nQ 19.390625 12.109375 18.28125 11.03125 \nQ 17.1875 9.96875 17.1875 8.5 \nQ 17.1875 6.890625 18.28125 5.78125 \nQ 19.390625 4.6875 20.90625 4.6875 \nz\n\" id=\"Tahoma-3648\"/>\n        <path d=\"M 53.328125 0 \nL 44.09375 0 \nL 44.09375 31.5 \nQ 44.09375 47.40625 29.6875 47.40625 \nQ 22.796875 47.40625 19.03125 43.328125 \nQ 15.28125 39.265625 15.28125 32.515625 \nQ 15.28125 26.609375 17.484375 18.796875 \nQ 18.0625 16.84375 19.1875 8.796875 \nL 24.359375 13.765625 \nQ 26.953125 16.3125 27.78125 18.3125 \nQ 24.359375 19.1875 22.4375 21.65625 \nQ 20.515625 24.125 20.515625 27.390625 \nQ 20.515625 31.203125 23.1875 33.90625 \nQ 25.875 36.625 29.6875 36.625 \nQ 33.640625 36.625 36.28125 33.8125 \nQ 38.921875 31 38.921875 26.8125 \nQ 38.921875 22.21875 35.859375 17.015625 \nQ 32.8125 11.8125 23.828125 4.109375 \nQ 21.1875 1.859375 19.390625 0 \nL 10.203125 0 \nL 10.203125 4.203125 \nQ 10.203125 8.25 8.34375 17.09375 \nQ 6.203125 27.15625 6.203125 32.421875 \nQ 6.203125 43.015625 12.28125 49.5625 \nQ 18.359375 56.109375 29.6875 56.109375 \nQ 53.328125 56.109375 53.328125 31.5 \nz\nM 29.890625 23.6875 \nQ 31.390625 23.6875 32.484375 24.75 \nQ 33.59375 25.828125 33.59375 27.296875 \nQ 33.59375 28.90625 32.515625 30 \nQ 31.453125 31.109375 29.890625 31.109375 \nQ 28.375 31.109375 27.296875 30 \nQ 26.21875 28.90625 26.21875 27.296875 \nQ 26.21875 25.828125 27.296875 24.75 \nQ 28.375 23.6875 29.890625 23.6875 \nz\n\" id=\"Tahoma-3604\"/>\n        <path d=\"M -11.671875 59.1875 \nL -51.5625 59.1875 \nQ -49.703125 64.890625 -48.046875 67.375 \nQ -46.390625 69.875 -43.671875 71.890625 \nQ -40.96875 73.921875 -37.84375 74.953125 \nQ -34.71875 75.984375 -31.546875 75.984375 \nQ -25.25 75.984375 -19.953125 72.234375 \nQ -14.65625 68.5 -12.640625 62.3125 \nz\nM -19.53125 64.59375 \nQ -20.703125 67.234375 -24.125 68.875 \nQ -27.546875 70.515625 -31.546875 70.515625 \nQ -35.59375 70.515625 -39.015625 68.875 \nQ -42.4375 67.234375 -43.5625 64.59375 \nz\n\" id=\"Tahoma-3636\"/>\n        <path d=\"M 53.421875 0 \nL 44.1875 0 \nQ 35.5 16.5 32.859375 20.765625 \nQ 30.21875 25.046875 27.390625 27.359375 \nQ 24.5625 29.6875 21.921875 29.6875 \nQ 19.390625 29.6875 17.796875 27.96875 \nQ 16.21875 26.265625 16.21875 23.578125 \nL 16.21875 17.09375 \nQ 17.71875 17.671875 19.671875 17.671875 \nQ 23.53125 17.671875 26.265625 14.984375 \nQ 29 12.3125 29 8.5 \nQ 29 4.6875 26.234375 1.953125 \nQ 23.484375 -0.78125 19.671875 -0.78125 \nQ 13.921875 -0.78125 10.453125 2.734375 \nQ 6.984375 6.25 6.984375 12.3125 \nL 6.984375 23.390625 \nQ 6.984375 30.515625 10.765625 34.296875 \nQ 14.546875 38.09375 21.296875 38.09375 \nQ 25.921875 38.09375 29.828125 35.109375 \nQ 33.734375 32.125 36.046875 28.46875 \nQ 38.375 24.8125 44.1875 13.484375 \nL 44.1875 33.890625 \nQ 44.1875 40.578125 40.375 44.328125 \nQ 36.578125 48.09375 30.078125 48.09375 \nQ 20.015625 48.09375 10.296875 41.609375 \nL 9.8125 41.609375 \nL 9.8125 51.90625 \nQ 20.359375 56.109375 29.984375 56.109375 \nQ 41.265625 56.109375 47.34375 50.1875 \nQ 53.421875 44.28125 53.421875 33.890625 \nz\nM 19.671875 4.6875 \nQ 21.234375 4.6875 22.3125 5.78125 \nQ 23.390625 6.890625 23.390625 8.5 \nQ 23.390625 9.96875 22.28125 11.03125 \nQ 21.1875 12.109375 19.671875 12.109375 \nQ 18.21875 12.109375 17.109375 11.03125 \nQ 16.015625 9.96875 16.015625 8.5 \nQ 16.015625 6.890625 17.09375 5.78125 \nQ 18.171875 4.6875 19.671875 4.6875 \nz\n\" id=\"Tahoma-3621\"/>\n        <path d=\"M -9.1875 -14.015625 \nQ -9.1875 -20.21875 -15.28125 -20.21875 \nL -29.109375 -20.21875 \nL -29.109375 -14.40625 \nQ -31.640625 -14.40625 -33.421875 -12.6875 \nQ -35.203125 -10.984375 -35.203125 -8.6875 \nQ -35.203125 -6.25 -33.5625 -4.609375 \nQ -31.9375 -2.984375 -29.59375 -2.984375 \nQ -27.25 -2.984375 -25.515625 -4.640625 \nQ -23.78125 -6.296875 -23.78125 -8.6875 \nL -23.78125 -14.984375 \nL -16.40625 -14.984375 \nQ -14.40625 -14.984375 -14.40625 -12.890625 \nL -14.40625 -2.984375 \nL -9.1875 -2.984375 \nz\nM -29.6875 -10.40625 \nQ -29.046875 -10.40625 -28.515625 -9.890625 \nQ -27.984375 -9.375 -27.984375 -8.6875 \nQ -27.984375 -8.015625 -28.484375 -7.5 \nQ -29 -6.984375 -29.6875 -6.984375 \nQ -30.375 -6.984375 -30.875 -7.5 \nQ -31.390625 -8.015625 -31.390625 -8.6875 \nQ -31.390625 -9.375 -30.875 -9.890625 \nQ -30.375 -10.40625 -29.6875 -10.40625 \nz\n\" id=\"Tahoma-3641\"/>\n        <path d=\"M -11.671875 59.1875 \nL -51.5625 59.1875 \nQ -49.703125 64.890625 -48.046875 67.375 \nQ -46.390625 69.875 -43.671875 71.890625 \nQ -40.96875 73.921875 -37.84375 74.953125 \nQ -34.71875 75.984375 -31.546875 75.984375 \nQ -23.046875 75.984375 -17.140625 69.828125 \nL -17.140625 80.328125 \nL -11.671875 80.328125 \nz\nM -19.53125 64.59375 \nQ -20.703125 67.234375 -24.125 68.875 \nQ -27.546875 70.515625 -31.546875 70.515625 \nQ -35.59375 70.515625 -39.015625 68.875 \nQ -42.4375 67.234375 -43.5625 64.59375 \nz\n\" id=\"Tahoma-3637\"/>\n        <path d=\"M 51.703125 0 \nL 43.109375 0 \nQ 33.796875 8.9375 25 11.375 \nL 25 10.015625 \nQ 25 4.6875 21.9375 1.953125 \nQ 18.890625 -0.78125 14.3125 -0.78125 \nQ 10.015625 -0.78125 7.34375 1.5625 \nQ 4.6875 3.90625 4.6875 7.8125 \nQ 4.6875 11.53125 7.640625 14.375 \nQ 10.59375 17.234375 15.828125 17.828125 \nL 15.828125 38.1875 \nQ 14.3125 37.59375 12.3125 37.59375 \nQ 8.5 37.59375 5.734375 40.296875 \nQ 2.984375 43.015625 2.984375 46.78125 \nQ 2.984375 50.640625 5.734375 53.375 \nQ 8.5 56.109375 12.3125 56.109375 \nQ 18.0625 56.109375 21.53125 52.5625 \nQ 25 49.03125 25 43.015625 \nL 25 17.390625 \nQ 33.796875 15.28125 42.484375 8.890625 \nL 42.484375 54.59375 \nL 51.703125 54.59375 \nz\nM 12.3125 43.21875 \nQ 13.8125 43.21875 14.90625 44.265625 \nQ 16.015625 45.3125 16.015625 46.78125 \nQ 16.015625 48.4375 14.90625 49.515625 \nQ 13.8125 50.59375 12.3125 50.59375 \nQ 10.796875 50.59375 9.6875 49.484375 \nQ 8.59375 48.390625 8.59375 46.78125 \nQ 8.59375 45.3125 9.6875 44.265625 \nQ 10.796875 43.21875 12.3125 43.21875 \nz\nM 15.828125 8.5 \nL 15.828125 12.3125 \nQ 13.328125 11.96875 11.859375 10.640625 \nQ 10.40625 9.328125 10.40625 7.8125 \nQ 10.40625 6.390625 11.125 5.53125 \nQ 11.859375 4.6875 12.984375 4.6875 \nQ 15.828125 4.6875 15.828125 8.5 \nz\n\" id=\"Tahoma-3617\"/>\n       </defs>\n       <use xlink:href=\"#Tahoma-3610\"/>\n       <use x=\"62.988281\" xlink:href=\"#Tahoma-3633\"/>\n       <use x=\"62.988281\" xlink:href=\"#Tahoma-3609\"/>\n       <use x=\"124.169922\" xlink:href=\"#Tahoma-3607\"/>\n       <use x=\"195.751953\" xlink:href=\"#Tahoma-3638\"/>\n       <use x=\"195.751953\" xlink:href=\"#Tahoma-3585\"/>\n       <use x=\"255.273438\" xlink:href=\"#Tahoma-3585\"/>\n       <use x=\"314.794922\" xlink:href=\"#Tahoma-3634\"/>\n       <use x=\"363.28125\" xlink:href=\"#Tahoma-3619\"/>\n       <use x=\"406.201172\" xlink:href=\"#Tahoma-3648\"/>\n       <use x=\"439.404297\" xlink:href=\"#Tahoma-3604\"/>\n       <use x=\"500.927734\" xlink:href=\"#Tahoma-3636\"/>\n       <use x=\"500.927734\" xlink:href=\"#Tahoma-3609\"/>\n       <use x=\"562.109375\" xlink:href=\"#Tahoma-3607\"/>\n       <use x=\"633.691406\" xlink:href=\"#Tahoma-3634\"/>\n       <use x=\"682.177734\" xlink:href=\"#Tahoma-3591\"/>\n       <use x=\"731.396484\" xlink:href=\"#Tahoma-3586\"/>\n       <use x=\"792.675781\" xlink:href=\"#Tahoma-3629\"/>\n       <use x=\"852.197266\" xlink:href=\"#Tahoma-3591\"/>\n       <use x=\"901.416016\" xlink:href=\"#Tahoma-3621\"/>\n       <use x=\"963.037109\" xlink:href=\"#Tahoma-3641\"/>\n       <use x=\"963.037109\" xlink:href=\"#Tahoma-3585\"/>\n       <use x=\"1022.558594\" xlink:href=\"#Tahoma-3607\"/>\n       <use x=\"1094.140625\" xlink:href=\"#Tahoma-3637\"/>\n       <use x=\"1094.140625\" xlink:href=\"#Tahoma-3617\"/>\n       <use x=\"1154.052734\" xlink:href=\"#Tahoma-3614\"/>\n       <use x=\"1224.853516\" xlink:href=\"#Tahoma-3619\"/>\n       <use x=\"1267.773438\" xlink:href=\"#Tahoma-3619\"/>\n       <use x=\"1310.693359\" xlink:href=\"#Tahoma-3588\"/>\n      </g>\n     </g>\n    </g>\n    <g id=\"xtick_3\">\n     <g id=\"line2d_3\">\n      <g>\n       <use style=\"stroke:#000000;stroke-width:0.8;\" x=\"70.870536\" xlink:href=\"#m7042b1a71b\" y=\"224.64\"/>\n      </g>\n     </g>\n     <g id=\"text_3\">\n      <!-- นโยบายเศรษฐกิจและภาคใต้ -->\n      <g transform=\"translate(73.934598 348.038437)rotate(-90)scale(0.1 -0.1)\">\n       <defs>\n        <path d=\"M 33.109375 17.09375 \nQ 34.625 17.671875 36.625 17.671875 \nQ 40.4375 17.671875 43.171875 14.984375 \nQ 45.90625 12.3125 45.90625 8.5 \nQ 45.90625 4.6875 43.171875 1.953125 \nQ 40.4375 -0.78125 36.625 -0.78125 \nQ 30.8125 -0.78125 27.34375 2.734375 \nQ 23.875 6.25 23.875 12.3125 \nL 23.875 48.09375 \nQ 23.875 55.5625 22.1875 58.078125 \nQ 20.515625 60.59375 16.21875 60.59375 \nQ 14.109375 60.59375 11.390625 60.328125 \nQ 8.6875 60.0625 6.78125 59.765625 \nL 3.328125 59.078125 \nL 2.984375 59.078125 \nL 2.984375 62.5 \nQ 2.984375 71.046875 7.25 75.78125 \nQ 11.53125 80.515625 22.015625 80.515625 \nL 32.90625 80.078125 \nQ 35.109375 80.078125 37.453125 80.5625 \nL 41.5 81.5 \nL 41.890625 81.5 \nL 41.890625 73 \nQ 37.546875 72.125 32.90625 72.125 \nL 22.015625 72.609375 \nQ 17.09375 72.609375 14.40625 71.015625 \nQ 11.71875 69.4375 11.71875 67.09375 \nQ 13.234375 67.390625 16.21875 67.390625 \nQ 26.21875 67.390625 29.65625 63.140625 \nQ 33.109375 58.890625 33.109375 48.09375 \nz\nM 36.625 4.6875 \nQ 38.140625 4.6875 39.203125 5.78125 \nQ 40.28125 6.890625 40.28125 8.5 \nQ 40.28125 10.015625 39.1875 11.0625 \nQ 38.09375 12.109375 36.625 12.109375 \nQ 35.109375 12.109375 34 11.03125 \nQ 32.90625 9.96875 32.90625 8.5 \nQ 32.90625 6.890625 33.984375 5.78125 \nQ 35.0625 4.6875 36.625 4.6875 \nz\n\" id=\"Tahoma-3650\"/>\n        <path d=\"M 57.421875 61.625 \nQ 55.859375 54.890625 48.875 48.296875 \nQ 53.328125 42.4375 53.328125 31.5 \nL 53.328125 0 \nL 44.09375 0 \nL 44.09375 31.5 \nQ 44.09375 38.03125 41.5 42.09375 \nQ 38.53125 39.84375 33.6875 37.890625 \nL 31.390625 41.109375 \nQ 34.625 42.625 37.703125 45.609375 \nQ 34.578125 47.40625 29.6875 47.40625 \nQ 22.796875 47.40625 19.03125 43.328125 \nQ 15.28125 39.265625 15.28125 32.515625 \nQ 15.28125 26.375 17.484375 18.796875 \nQ 19.09375 26.3125 21.96875 31.140625 \nQ 24.859375 35.984375 29.984375 35.984375 \nQ 33.796875 35.984375 36.546875 33.25 \nQ 39.3125 30.515625 39.3125 26.703125 \nQ 39.3125 22.90625 36.578125 20.1875 \nQ 33.84375 17.484375 29.984375 17.484375 \nQ 27.4375 17.484375 25.484375 18.703125 \nQ 19.390625 12.546875 19.390625 0 \nL 10.203125 0 \nL 10.203125 4.203125 \nQ 10.203125 8.25 8.34375 17.09375 \nQ 6.203125 27.15625 6.203125 32.421875 \nQ 6.203125 43.015625 12.28125 49.5625 \nQ 18.359375 56.109375 29.6875 56.109375 \nQ 38.625 56.109375 44.09375 52.6875 \nQ 45.75 54.734375 46.875 57.375 \nQ 48 60.015625 48 61.625 \nz\nM 30.078125 23.09375 \nQ 31.59375 23.09375 32.6875 24.171875 \nQ 33.796875 25.25 33.796875 26.703125 \nQ 33.796875 28.328125 32.71875 29.421875 \nQ 31.640625 30.515625 30.078125 30.515625 \nQ 28.5625 30.515625 27.484375 29.421875 \nQ 26.421875 28.328125 26.421875 26.703125 \nQ 26.421875 25.25 27.515625 24.171875 \nQ 28.609375 23.09375 30.078125 23.09375 \nz\n\" id=\"Tahoma-3624\"/>\n        <path d=\"M 71.296875 40.828125 \nQ 68.015625 29.25 58.890625 25.203125 \nL 58.890625 0 \nL 8.796875 0 \nL 8.796875 8.6875 \nL 16.796875 8.6875 \nL 16.796875 38.1875 \nQ 15.28125 37.59375 13.28125 37.59375 \nQ 9.46875 37.59375 6.734375 40.296875 \nQ 4 43.015625 4 46.78125 \nQ 4 50.640625 6.734375 53.375 \nQ 9.46875 56.109375 13.28125 56.109375 \nQ 19.09375 56.109375 22.53125 52.5625 \nQ 25.984375 49.03125 25.984375 43.015625 \nL 25.984375 8.6875 \nL 49.703125 8.6875 \nL 49.703125 22.609375 \nQ 46.96875 21.78125 43.21875 21.78125 \nQ 36.96875 21.78125 32.78125 25.265625 \nQ 28.609375 28.765625 28.609375 33.796875 \nQ 28.609375 37.59375 31.34375 40.34375 \nQ 34.078125 43.109375 37.890625 43.109375 \nQ 41.703125 43.109375 44.40625 40.34375 \nQ 47.125 37.59375 47.125 33.796875 \nQ 47.125 30.125 44.484375 27.296875 \nQ 47.21875 27.296875 49.703125 28.078125 \nL 49.703125 54.59375 \nL 58.890625 54.59375 \nL 58.890625 31.390625 \nQ 63.71875 34.515625 64.984375 40.828125 \nz\nM 13.28125 43.21875 \nQ 14.796875 43.21875 15.890625 44.265625 \nQ 17 45.3125 17 46.78125 \nQ 17 48.390625 15.921875 49.484375 \nQ 14.84375 50.59375 13.28125 50.59375 \nQ 11.765625 50.59375 10.6875 49.484375 \nQ 9.625 48.390625 9.625 46.78125 \nQ 9.625 45.3125 10.6875 44.265625 \nQ 11.765625 43.21875 13.28125 43.21875 \nz\nM 37.890625 30.078125 \nQ 39.359375 30.078125 40.421875 31.171875 \nQ 41.5 32.28125 41.5 33.796875 \nQ 41.5 35.296875 40.421875 36.390625 \nQ 39.359375 37.5 37.890625 37.5 \nQ 36.28125 37.5 35.171875 36.421875 \nQ 34.078125 35.359375 34.078125 33.796875 \nQ 34.078125 32.28125 35.171875 31.171875 \nQ 36.28125 30.078125 37.890625 30.078125 \nz\n\" id=\"Tahoma-3625\"/>\n        <path d=\"M 48.296875 47.796875 \nQ 44.53125 46.921875 37.703125 46.921875 \nL 24.21875 47.40625 \nQ 14.65625 47.40625 13.234375 40.09375 \nQ 17.828125 41.3125 24.3125 41.3125 \nQ 36.28125 41.3125 41.84375 36.8125 \nQ 47.40625 32.328125 47.40625 21.921875 \nL 47.40625 0 \nL 37.703125 0 \nQ 32.8125 9.625 26.8125 14.796875 \nQ 24.5625 8.796875 17.828125 8.796875 \nQ 14.015625 8.796875 11.25 11.5 \nQ 8.5 14.203125 8.5 18.015625 \nQ 8.5 21.828125 11.25 24.5625 \nQ 14.015625 27.296875 17.828125 27.296875 \nQ 22.65625 27.296875 27.78125 23.3125 \nQ 32.90625 19.34375 38.328125 11.375 \nL 38.328125 21.921875 \nQ 38.328125 28.421875 35.109375 31.421875 \nQ 31.890625 34.421875 24.421875 34.421875 \nQ 16.796875 34.421875 10.640625 32.859375 \nL 5.21875 31.296875 \nL 4.9375 31.296875 \nL 4.9375 36.28125 \nQ 4.9375 44.390625 9.9375 49.859375 \nQ 14.9375 55.328125 24.421875 55.328125 \nL 37.703125 54.890625 \nQ 40.09375 54.890625 41.96875 55.046875 \nQ 43.84375 55.21875 45.265625 55.609375 \nL 47.796875 56.296875 \nL 48.296875 56.296875 \nz\nM 17.828125 14.40625 \nQ 19.34375 14.40625 20.4375 15.453125 \nQ 21.53125 16.5 21.53125 18.015625 \nQ 21.53125 19.625 20.4375 20.703125 \nQ 19.34375 21.78125 17.828125 21.78125 \nQ 16.265625 21.78125 15.1875 20.703125 \nQ 14.109375 19.625 14.109375 18.015625 \nQ 14.109375 16.5 15.203125 15.453125 \nQ 16.3125 14.40625 17.828125 14.40625 \nz\nM 46.1875 -20.125 \nL 42.09375 -20.125 \nL 34.515625 -15.28125 \nL 28.03125 -20.125 \nL 21.625 -14.890625 \nQ 17.4375 -20.21875 12.796875 -20.21875 \nQ 8.796875 -20.21875 6.5 -17.875 \nQ 4.203125 -15.53125 4.203125 -12.109375 \nQ 4.203125 -8.734375 6.46875 -6.46875 \nQ 8.734375 -4.203125 12.703125 -4.203125 \nQ 15.921875 -4.203125 20.40625 -7.71875 \nQ 21.4375 -6 22.40625 -3.609375 \nL 27.390625 -3.609375 \nQ 26.171875 -7.375 24.421875 -10.59375 \nL 28.125 -13.71875 \nL 34.515625 -9.078125 \nL 42 -13.8125 \nL 42 -9.71875 \nQ 40.375 -9.71875 39.171875 -8.515625 \nQ 37.984375 -7.328125 37.984375 -5.609375 \nQ 37.984375 -3.90625 39.171875 -2.703125 \nQ 40.375 -1.515625 42.09375 -1.515625 \nQ 43.84375 -1.515625 45.015625 -2.703125 \nQ 46.1875 -3.90625 46.1875 -5.609375 \nz\nM 17.4375 -12.015625 \nQ 14.0625 -9.71875 12.796875 -9.71875 \nQ 9.71875 -9.71875 9.71875 -12.109375 \nQ 9.71875 -13.375 10.46875 -14.03125 \nQ 11.234375 -14.703125 12.796875 -14.703125 \nQ 14.984375 -14.703125 17.4375 -12.015625 \nz\n\" id=\"Tahoma-3600\"/>\n        <path d=\"M 47.40625 0 \nL 37.703125 0 \nQ 35.9375 5.5625 33.6875 10.375 \nQ 31.453125 15.1875 28.71875 19.28125 \nQ 25.53125 14.796875 20.796875 14.796875 \nQ 17 14.796875 14.265625 17.5 \nQ 11.53125 20.21875 11.53125 24.03125 \nQ 11.53125 27.78125 14.265625 30.53125 \nQ 17 33.296875 20.796875 33.296875 \nQ 26.375 33.296875 30.4375 29.015625 \nQ 34.515625 24.75 38.28125 15.484375 \nL 38.28125 33.890625 \nQ 38.28125 40.71875 34.859375 44.40625 \nQ 31.453125 48.09375 25.203125 48.09375 \nQ 15.140625 48.09375 5.515625 41.609375 \nL 4.890625 41.609375 \nL 4.890625 51.90625 \nQ 15.4375 56.109375 25 56.109375 \nQ 36.03125 56.109375 41.71875 50.359375 \nQ 47.40625 44.625 47.40625 33.890625 \nz\nM 20.796875 20.40625 \nQ 22.3125 20.40625 23.40625 21.453125 \nQ 24.515625 22.515625 24.515625 24.03125 \nQ 24.515625 25.59375 23.40625 26.6875 \nQ 22.3125 27.78125 20.796875 27.78125 \nQ 19.28125 27.78125 18.1875 26.6875 \nQ 17.09375 25.59375 17.09375 24.03125 \nQ 17.09375 22.515625 18.1875 21.453125 \nQ 19.28125 20.40625 20.796875 20.40625 \nz\n\" id=\"Tahoma-3592\"/>\n        <path d=\"M 17.390625 17.09375 \nQ 18.890625 17.671875 20.90625 17.671875 \nQ 24.703125 17.671875 27.4375 14.984375 \nQ 30.171875 12.3125 30.171875 8.5 \nQ 30.171875 4.6875 27.4375 1.953125 \nQ 24.703125 -0.78125 20.90625 -0.78125 \nQ 15.140625 -0.78125 11.671875 2.734375 \nQ 8.203125 6.25 8.203125 12.3125 \nL 8.203125 54.59375 \nL 17.390625 54.59375 \nz\nM 20.90625 4.6875 \nQ 22.40625 4.6875 23.5 5.78125 \nQ 24.609375 6.890625 24.609375 8.5 \nQ 24.609375 9.96875 23.5 11.03125 \nQ 22.40625 12.109375 20.90625 12.109375 \nQ 19.390625 12.109375 18.28125 11.03125 \nQ 17.1875 9.96875 17.1875 8.5 \nQ 17.1875 6.890625 18.28125 5.78125 \nQ 19.390625 4.6875 20.90625 4.6875 \nz\nM 43.390625 17.09375 \nQ 44.890625 17.671875 46.90625 17.671875 \nQ 50.703125 17.671875 53.4375 14.984375 \nQ 56.171875 12.3125 56.171875 8.5 \nQ 56.171875 4.6875 53.4375 1.953125 \nQ 50.703125 -0.78125 46.90625 -0.78125 \nQ 41.140625 -0.78125 37.671875 2.734375 \nQ 34.203125 6.25 34.203125 12.3125 \nL 34.203125 54.59375 \nL 43.390625 54.59375 \nz\nM 46.90625 4.6875 \nQ 48.40625 4.6875 49.5 5.78125 \nQ 50.609375 6.890625 50.609375 8.5 \nQ 50.609375 9.96875 49.5 11.03125 \nQ 48.40625 12.109375 46.90625 12.109375 \nQ 45.390625 12.109375 44.28125 11.03125 \nQ 43.1875 9.96875 43.1875 8.5 \nQ 43.1875 6.890625 44.28125 5.78125 \nQ 45.390625 4.6875 46.90625 4.6875 \nz\n\" id=\"Tahoma-3649\"/>\n        <path d=\"M 41.40625 55.328125 \nQ 39.796875 43.953125 33.890625 38.328125 \nQ 27.984375 32.71875 19.484375 32.71875 \nQ 13.421875 32.71875 8.953125 37.0625 \nQ 4.5 41.40625 4.5 46.78125 \nL 4.5 47.21875 \nQ 4.5 51.078125 7.03125 53.59375 \nQ 9.578125 56.109375 13.375 56.109375 \nQ 17.4375 56.109375 19.921875 53.640625 \nQ 22.40625 51.171875 22.40625 47.21875 \nQ 22.40625 41.0625 15.71875 39.015625 \nQ 17.484375 38.1875 19.28125 38.1875 \nQ 25.984375 38.1875 30 42.75 \nQ 34.03125 47.3125 34.71875 55.328125 \nz\nM 13.375 43.5 \nQ 14.890625 43.5 15.9375 44.59375 \nQ 17 45.703125 17 47.21875 \nQ 17 48.734375 15.9375 49.796875 \nQ 14.890625 50.875 13.375 50.875 \nQ 11.8125 50.875 10.71875 49.796875 \nQ 9.625 48.734375 9.625 47.21875 \nQ 9.625 45.65625 10.71875 44.578125 \nQ 11.8125 43.5 13.375 43.5 \nz\nM 41.40625 24.125 \nQ 39.796875 12.75 33.890625 7.125 \nQ 27.984375 1.515625 19.484375 1.515625 \nQ 13.421875 1.515625 8.953125 5.859375 \nQ 4.5 10.203125 4.5 15.578125 \nL 4.5 16.015625 \nQ 4.5 19.875 7.03125 22.390625 \nQ 9.578125 24.90625 13.375 24.90625 \nQ 17.4375 24.90625 19.921875 22.4375 \nQ 22.40625 19.96875 22.40625 16.015625 \nQ 22.40625 9.859375 15.71875 7.8125 \nQ 17.484375 6.984375 19.28125 6.984375 \nQ 25.984375 6.984375 30 11.546875 \nQ 34.03125 16.109375 34.71875 24.125 \nz\nM 13.375 12.3125 \nQ 14.890625 12.3125 15.9375 13.40625 \nQ 17 14.5 17 16.015625 \nQ 17 17.53125 15.9375 18.59375 \nQ 14.890625 19.671875 13.375 19.671875 \nQ 11.8125 19.671875 10.71875 18.59375 \nQ 9.625 17.53125 9.625 16.015625 \nQ 9.625 14.453125 10.6875 13.375 \nQ 11.765625 12.3125 13.375 12.3125 \nz\n\" id=\"Tahoma-3632\"/>\n        <path d=\"M 53.90625 0 \nL 44.671875 0 \nL 44.671875 31.5 \nQ 44.671875 40.328125 41.5 43.859375 \nQ 38.328125 47.40625 31.6875 47.40625 \nQ 21.625 47.40625 19.28125 39.015625 \nL 30.90625 39.015625 \nL 30.90625 32.515625 \nQ 27.78125 31.34375 26.875 28.53125 \nQ 25.984375 25.734375 25.984375 20.125 \nL 25.984375 12.3125 \nQ 25.984375 6.25 22.53125 2.734375 \nQ 19.09375 -0.78125 13.28125 -0.78125 \nQ 9.46875 -0.78125 6.734375 1.953125 \nQ 4 4.6875 4 8.5 \nQ 4 12.3125 6.734375 14.984375 \nQ 9.46875 17.671875 13.28125 17.671875 \nQ 15.28125 17.671875 16.796875 17.09375 \nL 16.796875 20.015625 \nQ 16.796875 30.125 22.90625 32.078125 \nL 9.71875 32.078125 \nL 9.71875 32.421875 \nQ 9.71875 43.0625 15.421875 49.578125 \nQ 21.140625 56.109375 31.6875 56.109375 \nQ 43.3125 56.109375 48.609375 50.265625 \nQ 53.90625 44.4375 53.90625 31.5 \nz\nM 13.28125 4.6875 \nQ 14.84375 4.6875 15.921875 5.78125 \nQ 17 6.890625 17 8.5 \nQ 17 9.96875 15.890625 11.03125 \nQ 14.796875 12.109375 13.28125 12.109375 \nQ 11.8125 12.109375 10.71875 11.03125 \nQ 9.625 9.96875 9.625 8.5 \nQ 9.625 6.890625 10.6875 5.78125 \nQ 11.765625 4.6875 13.28125 4.6875 \nz\n\" id=\"Tahoma-3616\"/>\n        <path d=\"M 28.21875 17.09375 \nQ 29.6875 17.671875 31.6875 17.671875 \nQ 35.5 17.671875 38.25 14.984375 \nQ 41.015625 12.3125 41.015625 8.5 \nQ 41.015625 4.6875 38.28125 1.953125 \nQ 35.546875 -0.78125 31.6875 -0.78125 \nQ 25.921875 -0.78125 22.453125 2.734375 \nQ 19 6.25 19 12.3125 \nL 19 45.609375 \nQ 19 49.3125 20 51.78125 \nQ 21 54.25 22.953125 57.171875 \nQ 25.140625 60.5 25.671875 62.34375 \nQ 26.21875 64.203125 26.21875 65.921875 \nQ 26.21875 73.875 19.484375 73.875 \nQ 18.21875 73.875 17.484375 73.390625 \nQ 21.484375 70.40625 21.484375 65.921875 \nQ 21.484375 62.109375 18.75 59.390625 \nQ 16.015625 56.6875 12.203125 56.6875 \nQ 8.40625 56.6875 5.6875 59.390625 \nQ 2.984375 62.109375 2.984375 66.015625 \nQ 2.984375 72.515625 7.546875 76.515625 \nQ 12.109375 80.515625 19.484375 80.515625 \nQ 26.515625 80.515625 30.8125 76.515625 \nQ 35.109375 72.515625 35.109375 66.015625 \nQ 35.109375 63.8125 34.453125 61.390625 \nQ 33.796875 58.984375 31.34375 54.6875 \nQ 28.21875 49.265625 28.21875 46 \nz\nM 12.203125 62.203125 \nQ 13.71875 62.203125 14.8125 63.296875 \nQ 15.921875 64.40625 15.921875 66.015625 \nQ 15.921875 67.484375 14.8125 68.53125 \nQ 13.71875 69.578125 12.203125 69.578125 \nQ 10.6875 69.578125 9.59375 68.53125 \nQ 8.5 67.484375 8.5 66.015625 \nQ 8.5 64.40625 9.59375 63.296875 \nQ 10.6875 62.203125 12.203125 62.203125 \nz\nM 31.6875 4.6875 \nQ 33.203125 4.6875 34.296875 5.78125 \nQ 35.40625 6.890625 35.40625 8.5 \nQ 35.40625 9.96875 34.296875 11.03125 \nQ 33.203125 12.109375 31.6875 12.109375 \nQ 30.171875 12.109375 29.078125 11.03125 \nQ 27.984375 9.96875 27.984375 8.5 \nQ 27.984375 6.890625 29.078125 5.78125 \nQ 30.171875 4.6875 31.6875 4.6875 \nz\n\" id=\"Tahoma-3651\"/>\n        <path d=\"M 53.328125 0 \nL 44.09375 0 \nL 44.09375 31.5 \nQ 44.09375 42.625 36.28125 48.1875 \nL 29.6875 43.21875 \nL 23 48.1875 \nQ 15.28125 42.484375 15.28125 32.515625 \nQ 15.28125 26.609375 17.484375 18.796875 \nQ 18.0625 16.84375 19.1875 8.796875 \nL 24.359375 13.765625 \nQ 26.953125 16.3125 27.78125 18.3125 \nQ 24.359375 19.1875 22.4375 21.65625 \nQ 20.515625 24.125 20.515625 27.390625 \nQ 20.515625 31.203125 23.1875 33.90625 \nQ 25.875 36.625 29.6875 36.625 \nQ 33.640625 36.625 36.28125 33.8125 \nQ 38.921875 31 38.921875 26.8125 \nQ 38.921875 22.21875 35.859375 17.015625 \nQ 32.8125 11.8125 23.828125 4.109375 \nQ 21.1875 1.859375 19.390625 0 \nL 10.203125 0 \nL 10.203125 4.203125 \nQ 10.203125 8.25 8.34375 17.09375 \nQ 6.203125 27.15625 6.203125 32.421875 \nQ 6.203125 43.0625 10.515625 48.28125 \nQ 14.84375 53.515625 23.09375 56.296875 \nL 29.6875 51.21875 \nL 36.28125 56.296875 \nQ 45.171875 53.90625 49.25 47.84375 \nQ 53.328125 41.796875 53.328125 31.5 \nz\nM 29.890625 23.6875 \nQ 31.390625 23.6875 32.484375 24.75 \nQ 33.59375 25.828125 33.59375 27.296875 \nQ 33.59375 28.90625 32.515625 30 \nQ 31.453125 31.109375 29.890625 31.109375 \nQ 28.375 31.109375 27.296875 30 \nQ 26.21875 28.90625 26.21875 27.296875 \nQ 26.21875 25.828125 27.296875 24.75 \nQ 28.375 23.6875 29.890625 23.6875 \nz\n\" id=\"Tahoma-3605\"/>\n        <path d=\"M -8.5625 75.78125 \nQ -14.96875 62.59375 -34.5 59.71875 \nL -32.09375 64.984375 \nQ -34.25 65.28125 -35.609375 66.90625 \nQ -36.984375 68.546875 -36.984375 70.703125 \nQ -36.984375 73.046875 -35.390625 74.734375 \nQ -33.8125 76.421875 -31.46875 76.421875 \nQ -29.21875 76.421875 -27.609375 74.734375 \nQ -26 73.046875 -26 70.703125 \nQ -26 67.28125 -28 64.984375 \nQ -19.890625 67.09375 -14.765625 75.78125 \nz\nM -31.46875 69 \nQ -30.828125 69 -30.3125 69.5 \nQ -29.8125 70.015625 -29.8125 70.703125 \nQ -29.8125 71.390625 -30.3125 71.890625 \nQ -30.828125 72.40625 -31.46875 72.40625 \nQ -32.15625 72.40625 -32.65625 71.890625 \nQ -33.171875 71.390625 -33.171875 70.703125 \nQ -33.171875 70.015625 -32.65625 69.5 \nQ -32.15625 69 -31.46875 69 \nz\n\" id=\"Tahoma-3657\"/>\n       </defs>\n       <use xlink:href=\"#Tahoma-3609\"/>\n       <use x=\"61.181641\" xlink:href=\"#Tahoma-3650\"/>\n       <use x=\"110.400391\" xlink:href=\"#Tahoma-3618\"/>\n       <use x=\"168.310547\" xlink:href=\"#Tahoma-3610\"/>\n       <use x=\"231.298828\" xlink:href=\"#Tahoma-3634\"/>\n       <use x=\"279.785156\" xlink:href=\"#Tahoma-3618\"/>\n       <use x=\"337.695312\" xlink:href=\"#Tahoma-3648\"/>\n       <use x=\"370.898438\" xlink:href=\"#Tahoma-3624\"/>\n       <use x=\"432.421875\" xlink:href=\"#Tahoma-3619\"/>\n       <use x=\"475.341797\" xlink:href=\"#Tahoma-3625\"/>\n       <use x=\"549.755859\" xlink:href=\"#Tahoma-3600\"/>\n       <use x=\"605.371094\" xlink:href=\"#Tahoma-3585\"/>\n       <use x=\"664.892578\" xlink:href=\"#Tahoma-3636\"/>\n       <use x=\"664.892578\" xlink:href=\"#Tahoma-3592\"/>\n       <use x=\"720.507812\" xlink:href=\"#Tahoma-3649\"/>\n       <use x=\"779.6875\" xlink:href=\"#Tahoma-3621\"/>\n       <use x=\"841.308594\" xlink:href=\"#Tahoma-3632\"/>\n       <use x=\"886.132812\" xlink:href=\"#Tahoma-3616\"/>\n       <use x=\"948.242188\" xlink:href=\"#Tahoma-3634\"/>\n       <use x=\"996.728516\" xlink:href=\"#Tahoma-3588\"/>\n       <use x=\"1058.251953\" xlink:href=\"#Tahoma-3651\"/>\n       <use x=\"1102.441406\" xlink:href=\"#Tahoma-3605\"/>\n       <use x=\"1163.964844\" xlink:href=\"#Tahoma-3657\"/>\n      </g>\n     </g>\n    </g>\n    <g id=\"xtick_4\">\n     <g id=\"line2d_4\">\n      <g>\n       <use style=\"stroke:#000000;stroke-width:0.8;\" x=\"80.43625\" xlink:href=\"#m7042b1a71b\" y=\"224.64\"/>\n      </g>\n     </g>\n     <g id=\"text_4\">\n      <!-- ขาย ธนาธร -->\n      <g transform=\"translate(83.229219 277.591563)rotate(-90)scale(0.1 -0.1)\">\n       <defs>\n        <path id=\"Tahoma-32\"/>\n        <path d=\"M 47.515625 47.796875 \nQ 43.5 46.921875 35.890625 46.921875 \nL 23.390625 47.40625 \nQ 14.109375 47.40625 12.5 39.59375 \nQ 18.75 40.828125 23.578125 40.828125 \nQ 35.546875 40.828125 40.671875 36.921875 \nQ 45.796875 33.015625 45.796875 22.90625 \nL 45.796875 0 \nL 8.984375 0 \nL 8.984375 8.6875 \nL 12.703125 8.6875 \nL 12.703125 33.015625 \nQ 10.640625 32.71875 8.5 32.234375 \nL 4.5 31.296875 \nL 4.203125 31.296875 \nL 4.203125 36.28125 \nQ 4.203125 41.453125 6.4375 45.921875 \nQ 8.6875 50.390625 13.03125 52.859375 \nQ 17.390625 55.328125 23.578125 55.328125 \nL 35.890625 54.890625 \nQ 38.875 54.890625 41.140625 55.125 \nQ 43.40625 55.375 44.78125 55.71875 \nL 47.125 56.296875 \nL 47.515625 56.296875 \nz\nM 36.625 8.6875 \nL 36.625 22.90625 \nQ 36.625 28.515625 34.03125 31.203125 \nQ 31.453125 33.890625 23.6875 33.890625 \nQ 22.359375 33.890625 21.78125 33.796875 \nL 21.78125 8.6875 \nz\n\" id=\"Tahoma-3608\"/>\n       </defs>\n       <use xlink:href=\"#Tahoma-3586\"/>\n       <use x=\"61.279297\" xlink:href=\"#Tahoma-3634\"/>\n       <use x=\"109.765625\" xlink:href=\"#Tahoma-3618\"/>\n       <use x=\"167.675781\" xlink:href=\"#Tahoma-32\"/>\n       <use x=\"198.925781\" xlink:href=\"#Tahoma-3608\"/>\n       <use x=\"252.929688\" xlink:href=\"#Tahoma-3609\"/>\n       <use x=\"314.111328\" xlink:href=\"#Tahoma-3634\"/>\n       <use x=\"362.597656\" xlink:href=\"#Tahoma-3608\"/>\n       <use x=\"416.601562\" xlink:href=\"#Tahoma-3619\"/>\n      </g>\n     </g>\n    </g>\n    <g id=\"xtick_5\">\n     <g id=\"line2d_5\">\n      <g>\n       <use style=\"stroke:#000000;stroke-width:0.8;\" x=\"90.001964\" xlink:href=\"#m7042b1a71b\" y=\"224.64\"/>\n      </g>\n     </g>\n     <g id=\"text_5\">\n      <!-- แนะนำแกนนำ และดาราของพรรค -->\n      <g transform=\"translate(92.794933 366.73375)rotate(-90)scale(0.1 -0.1)\">\n       <defs>\n        <path d=\"M 40.28125 0 \nL 31.109375 0 \nL 31.109375 35.015625 \nQ 31.109375 41.3125 28.09375 44.65625 \nQ 25.09375 48 19.828125 48 \nQ 11.765625 48 3.328125 43.015625 \nL 2.6875 43.015625 \nL 2.6875 52.6875 \nQ 11.328125 56 19.828125 56 \nQ 40.28125 56 40.28125 35.59375 \nz\nM -12.796875 73.921875 \nQ -9.765625 73.921875 -7.640625 71.75 \nQ -5.515625 69.578125 -5.515625 66.5 \nQ -5.515625 63.53125 -7.640625 61.375 \nQ -9.765625 59.234375 -12.796875 59.234375 \nQ -15.765625 59.234375 -17.9375 61.375 \nQ -20.125 63.53125 -20.125 66.5 \nQ -20.125 69.578125 -17.96875 71.75 \nQ -15.828125 73.921875 -12.796875 73.921875 \nz\nM -12.796875 63.421875 \nQ -11.53125 63.421875 -10.625 64.328125 \nQ -9.71875 65.234375 -9.71875 66.5 \nQ -9.71875 67.78125 -10.625 68.703125 \nQ -11.53125 69.625 -12.796875 69.625 \nQ -14.0625 69.625 -14.984375 68.703125 \nQ -15.921875 67.78125 -15.921875 66.5 \nQ -15.921875 65.234375 -14.984375 64.328125 \nQ -14.0625 63.421875 -12.796875 63.421875 \nz\n\" id=\"Tahoma-3635\"/>\n       </defs>\n       <use xlink:href=\"#Tahoma-3649\"/>\n       <use x=\"59.179688\" xlink:href=\"#Tahoma-3609\"/>\n       <use x=\"120.361328\" xlink:href=\"#Tahoma-3632\"/>\n       <use x=\"165.185547\" xlink:href=\"#Tahoma-3609\"/>\n       <use x=\"226.367188\" xlink:href=\"#Tahoma-3635\"/>\n       <use x=\"274.853516\" xlink:href=\"#Tahoma-3649\"/>\n       <use x=\"334.033203\" xlink:href=\"#Tahoma-3585\"/>\n       <use x=\"393.554688\" xlink:href=\"#Tahoma-3609\"/>\n       <use x=\"454.736328\" xlink:href=\"#Tahoma-3609\"/>\n       <use x=\"515.917969\" xlink:href=\"#Tahoma-3635\"/>\n       <use x=\"564.404297\" xlink:href=\"#Tahoma-32\"/>\n       <use x=\"595.654297\" xlink:href=\"#Tahoma-3649\"/>\n       <use x=\"654.833984\" xlink:href=\"#Tahoma-3621\"/>\n       <use x=\"716.455078\" xlink:href=\"#Tahoma-3632\"/>\n       <use x=\"761.279297\" xlink:href=\"#Tahoma-3604\"/>\n       <use x=\"822.802734\" xlink:href=\"#Tahoma-3634\"/>\n       <use x=\"871.289062\" xlink:href=\"#Tahoma-3619\"/>\n       <use x=\"914.208984\" xlink:href=\"#Tahoma-3634\"/>\n       <use x=\"962.695312\" xlink:href=\"#Tahoma-3586\"/>\n       <use x=\"1023.974609\" xlink:href=\"#Tahoma-3629\"/>\n       <use x=\"1083.496094\" xlink:href=\"#Tahoma-3591\"/>\n       <use x=\"1132.714844\" xlink:href=\"#Tahoma-3614\"/>\n       <use x=\"1203.515625\" xlink:href=\"#Tahoma-3619\"/>\n       <use x=\"1246.435547\" xlink:href=\"#Tahoma-3619\"/>\n       <use x=\"1289.355469\" xlink:href=\"#Tahoma-3588\"/>\n      </g>\n     </g>\n    </g>\n    <g id=\"xtick_6\">\n     <g id=\"line2d_6\">\n      <g>\n       <use style=\"stroke:#000000;stroke-width:0.8;\" x=\"99.567679\" xlink:href=\"#m7042b1a71b\" y=\"224.64\"/>\n      </g>\n     </g>\n     <g id=\"text_6\">\n      <!-- ทักษิณละนโยบายสำหรับอนาคต -->\n      <g transform=\"translate(102.360647 362.579062)rotate(-90)scale(0.1 -0.1)\">\n       <defs>\n        <path d=\"M 71 17.828125 \nQ 75.984375 17.28125 78.640625 14.515625 \nQ 81.296875 11.765625 81.296875 7.8125 \nQ 81.296875 3.859375 78.796875 1.53125 \nQ 76.3125 -0.78125 72.125 -0.78125 \nQ 67.390625 -0.78125 64.59375 2.015625 \nQ 61.8125 4.828125 61.8125 10.015625 \nL 61.8125 11.375 \nQ 54.828125 9.421875 49.703125 0 \nL 41.109375 0 \nL 41.109375 31.5 \nQ 41.109375 40.328125 37.9375 43.859375 \nQ 34.765625 47.40625 28.21875 47.40625 \nQ 17.921875 47.40625 15.828125 39.015625 \nL 25.09375 39.015625 \nL 25.09375 32.515625 \nQ 16.40625 29.25 16.40625 18.109375 \nL 16.40625 17.09375 \nQ 17.921875 17.671875 19.921875 17.671875 \nQ 23.734375 17.671875 26.46875 14.984375 \nQ 29.203125 12.3125 29.203125 8.5 \nQ 29.203125 4.6875 26.4375 1.953125 \nQ 23.6875 -0.78125 19.921875 -0.78125 \nQ 14.109375 -0.78125 10.640625 2.734375 \nQ 7.171875 6.25 7.171875 12.3125 \nL 7.171875 16.5 \nQ 7.171875 29.25 15.828125 32.078125 \nL 6.203125 32.078125 \nL 6.203125 32.421875 \nQ 6.203125 43.109375 11.90625 49.609375 \nQ 17.625 56.109375 28.21875 56.109375 \nQ 39.75 56.109375 45.015625 50.265625 \nQ 50.296875 44.4375 50.296875 31.5 \nL 50.296875 8.890625 \nQ 55.21875 15.71875 61.8125 17.390625 \nL 61.8125 54.59375 \nL 71 54.59375 \nz\nM 75.59375 7.8125 \nQ 75.59375 11.671875 71 12.3125 \nL 71 8.5 \nQ 71 4.6875 73.390625 4.6875 \nQ 75.59375 4.6875 75.59375 7.8125 \nz\nM 19.921875 4.6875 \nQ 21.4375 4.6875 22.5 5.78125 \nQ 23.578125 6.890625 23.578125 8.5 \nQ 23.578125 9.96875 22.484375 11.03125 \nQ 21.390625 12.109375 19.921875 12.109375 \nQ 18.40625 12.109375 17.3125 11.03125 \nQ 16.21875 9.96875 16.21875 8.5 \nQ 16.21875 6.890625 17.28125 5.78125 \nQ 18.359375 4.6875 19.921875 4.6875 \nz\n\" id=\"Tahoma-3603\"/>\n        <path d=\"M 57.421875 61.625 \nQ 55.859375 54.890625 49.03125 48.390625 \nQ 53.421875 42.671875 53.421875 33.890625 \nL 53.421875 0 \nL 44.1875 0 \nQ 35.5 16.5 32.859375 20.765625 \nQ 30.21875 25.046875 27.390625 27.359375 \nQ 24.5625 29.6875 21.921875 29.6875 \nQ 19.390625 29.6875 17.796875 27.96875 \nQ 16.21875 26.265625 16.21875 23.578125 \nL 16.21875 17.09375 \nQ 17.71875 17.671875 19.671875 17.671875 \nQ 23.53125 17.671875 26.265625 14.984375 \nQ 29 12.3125 29 8.5 \nQ 29 4.6875 26.234375 1.953125 \nQ 23.484375 -0.78125 19.671875 -0.78125 \nQ 13.921875 -0.78125 10.453125 2.734375 \nQ 6.984375 6.25 6.984375 12.3125 \nL 6.984375 23.390625 \nQ 6.984375 30.515625 10.765625 34.296875 \nQ 14.546875 38.09375 21.296875 38.09375 \nQ 25.921875 38.09375 29.828125 35.109375 \nQ 33.734375 32.125 36.046875 28.46875 \nQ 38.375 24.8125 44.1875 13.484375 \nL 44.1875 33.890625 \nQ 44.1875 39.109375 41.890625 42.484375 \nQ 38.921875 40.328125 33.6875 37.890625 \nL 31.390625 41.109375 \nQ 34.625 42.78125 38.09375 46.09375 \nQ 34.671875 48.09375 30.078125 48.09375 \nQ 20.015625 48.09375 10.296875 41.609375 \nL 9.8125 41.609375 \nL 9.8125 51.90625 \nQ 20.359375 56.109375 29.984375 56.109375 \nQ 38.578125 56.109375 44 52.6875 \nQ 48 58.109375 48 61.625 \nz\nM 19.671875 4.6875 \nQ 21.234375 4.6875 22.3125 5.78125 \nQ 23.390625 6.890625 23.390625 8.5 \nQ 23.390625 9.96875 22.28125 11.03125 \nQ 21.1875 12.109375 19.671875 12.109375 \nQ 18.21875 12.109375 17.109375 11.03125 \nQ 16.015625 9.96875 16.015625 8.5 \nQ 16.015625 6.890625 17.09375 5.78125 \nQ 18.171875 4.6875 19.671875 4.6875 \nz\n\" id=\"Tahoma-3626\"/>\n        <path d=\"M 58.796875 0 \nL 49.609375 0 \nL 49.609375 26.90625 \nQ 49.609375 32.625 47.90625 34.28125 \nQ 37.640625 24.46875 25 0 \nL 15.828125 0 \nL 15.828125 38.1875 \nQ 14.3125 37.59375 12.3125 37.59375 \nQ 8.5 37.59375 5.734375 40.296875 \nQ 2.984375 43.015625 2.984375 46.78125 \nQ 2.984375 50.640625 5.734375 53.375 \nQ 8.5 56.109375 12.3125 56.109375 \nQ 18.0625 56.109375 21.53125 52.5625 \nQ 25 49.03125 25 43.015625 \nL 25 12.5 \nQ 34.671875 30.125 43.890625 38.484375 \nQ 41.84375 39.65625 40.578125 41.921875 \nQ 39.3125 44.1875 39.3125 46.6875 \nQ 39.3125 50.53125 42.09375 53.3125 \nQ 44.875 56.109375 48.6875 56.109375 \nQ 52.484375 56.109375 55.296875 53.296875 \nQ 58.109375 50.484375 58.109375 46.6875 \nQ 58.109375 41.015625 53.21875 38.375 \nQ 58.796875 35.453125 58.796875 26.609375 \nz\nM 12.3125 43.21875 \nQ 13.8125 43.21875 14.90625 44.265625 \nQ 16.015625 45.3125 16.015625 46.78125 \nQ 16.015625 48.4375 14.90625 49.515625 \nQ 13.8125 50.59375 12.3125 50.59375 \nQ 10.796875 50.59375 9.6875 49.484375 \nQ 8.59375 48.390625 8.59375 46.78125 \nQ 8.59375 45.3125 9.6875 44.265625 \nQ 10.796875 43.21875 12.3125 43.21875 \nz\nM 48.6875 43.109375 \nQ 50.203125 43.109375 51.296875 44.15625 \nQ 52.390625 45.21875 52.390625 46.6875 \nQ 52.390625 48.296875 51.3125 49.390625 \nQ 50.25 50.484375 48.6875 50.484375 \nQ 47.171875 50.484375 46.09375 49.390625 \nQ 45.015625 48.296875 45.015625 46.6875 \nQ 45.015625 45.21875 46.09375 44.15625 \nQ 47.171875 43.109375 48.6875 43.109375 \nz\n\" id=\"Tahoma-3627\"/>\n       </defs>\n       <use xlink:href=\"#Tahoma-3607\"/>\n       <use x=\"71.582031\" xlink:href=\"#Tahoma-3633\"/>\n       <use x=\"71.582031\" xlink:href=\"#Tahoma-3585\"/>\n       <use x=\"131.103516\" xlink:href=\"#Tahoma-3625\"/>\n       <use x=\"205.517578\" xlink:href=\"#Tahoma-3636\"/>\n       <use x=\"205.517578\" xlink:href=\"#Tahoma-3603\"/>\n       <use x=\"290.820312\" xlink:href=\"#Tahoma-3621\"/>\n       <use x=\"352.441406\" xlink:href=\"#Tahoma-3632\"/>\n       <use x=\"397.265625\" xlink:href=\"#Tahoma-3609\"/>\n       <use x=\"458.447266\" xlink:href=\"#Tahoma-3650\"/>\n       <use x=\"507.666016\" xlink:href=\"#Tahoma-3618\"/>\n       <use x=\"565.576172\" xlink:href=\"#Tahoma-3610\"/>\n       <use x=\"628.564453\" xlink:href=\"#Tahoma-3634\"/>\n       <use x=\"677.050781\" xlink:href=\"#Tahoma-3618\"/>\n       <use x=\"734.960938\" xlink:href=\"#Tahoma-3626\"/>\n       <use x=\"795.751953\" xlink:href=\"#Tahoma-3635\"/>\n       <use x=\"844.238281\" xlink:href=\"#Tahoma-3627\"/>\n       <use x=\"911.230469\" xlink:href=\"#Tahoma-3619\"/>\n       <use x=\"954.150391\" xlink:href=\"#Tahoma-3633\"/>\n       <use x=\"954.150391\" xlink:href=\"#Tahoma-3610\"/>\n       <use x=\"1017.138672\" xlink:href=\"#Tahoma-3629\"/>\n       <use x=\"1076.660156\" xlink:href=\"#Tahoma-3609\"/>\n       <use x=\"1137.841797\" xlink:href=\"#Tahoma-3634\"/>\n       <use x=\"1186.328125\" xlink:href=\"#Tahoma-3588\"/>\n       <use x=\"1247.851562\" xlink:href=\"#Tahoma-3605\"/>\n      </g>\n     </g>\n    </g>\n    <g id=\"xtick_7\">\n     <g id=\"line2d_7\">\n      <g>\n       <use style=\"stroke:#000000;stroke-width:0.8;\" x=\"109.133393\" xlink:href=\"#m7042b1a71b\" y=\"224.64\"/>\n      </g>\n     </g>\n     <g id=\"text_7\">\n      <!-- ความเป็นมืออาชีพในการแก้ปัญหา -->\n      <g transform=\"translate(112.441205 368.9775)rotate(-90)scale(0.1 -0.1)\">\n       <defs>\n        <path d=\"M 40.28125 12.3125 \nQ 40.28125 6.25 36.84375 2.734375 \nQ 33.40625 -0.78125 27.59375 -0.78125 \nQ 23.78125 -0.78125 21.046875 1.953125 \nQ 18.3125 4.6875 18.3125 8.5 \nQ 18.3125 12.3125 21.046875 14.984375 \nQ 23.78125 17.671875 27.59375 17.671875 \nQ 29.59375 17.671875 31.109375 17.09375 \nL 31.109375 35.015625 \nQ 31.109375 41.3125 28.09375 44.65625 \nQ 25.09375 48 19.828125 48 \nQ 11.765625 48 3.328125 43.015625 \nL 2.6875 43.015625 \nL 2.6875 52.6875 \nQ 11.328125 56 19.828125 56 \nQ 40.28125 56 40.28125 35.59375 \nz\nM 27.59375 4.6875 \nQ 29.15625 4.6875 30.21875 5.78125 \nQ 31.296875 6.890625 31.296875 8.5 \nQ 31.296875 9.96875 30.203125 11.03125 \nQ 29.109375 12.109375 27.59375 12.109375 \nQ 26.078125 12.109375 24.96875 11.03125 \nQ 23.875 9.96875 23.875 8.5 \nQ 23.875 6.890625 24.96875 5.78125 \nQ 26.078125 4.6875 27.59375 4.6875 \nz\n\" id=\"Tahoma-3623\"/>\n        <path d=\"M 54.78125 0 \nL 8.796875 0 \nL 8.796875 8.6875 \nL 16.796875 8.6875 \nL 16.796875 38.1875 \nQ 15.28125 37.59375 13.28125 37.59375 \nQ 9.46875 37.59375 6.734375 40.296875 \nQ 4 43.015625 4 46.78125 \nQ 4 50.640625 6.734375 53.375 \nQ 9.46875 56.109375 13.28125 56.109375 \nQ 19.09375 56.109375 22.53125 52.5625 \nQ 25.984375 49.03125 25.984375 43.015625 \nL 25.984375 8.6875 \nL 45.609375 8.6875 \nL 45.609375 80.515625 \nL 54.78125 80.515625 \nz\nM 13.28125 43.21875 \nQ 14.796875 43.21875 15.890625 44.265625 \nQ 17 45.3125 17 46.78125 \nQ 17 48.390625 15.921875 49.484375 \nQ 14.84375 50.59375 13.28125 50.59375 \nQ 11.765625 50.59375 10.6875 49.484375 \nQ 9.625 48.390625 9.625 46.78125 \nQ 9.625 45.3125 10.6875 44.265625 \nQ 11.765625 43.21875 13.28125 43.21875 \nz\n\" id=\"Tahoma-3611\"/>\n        <path d=\"M -5.71875 86.859375 \nQ -7.671875 81.25 -11.453125 77.96875 \nQ -15.234375 74.703125 -25.09375 74.703125 \nL -30.078125 74.703125 \nQ -32.859375 74.703125 -34.609375 73.328125 \nQ -36.375 71.96875 -36.375 69.78125 \nQ -36.375 68.0625 -35.21875 66.59375 \nQ -34.078125 65.140625 -32.171875 64.796875 \nQ -32.171875 70.40625 -27.484375 70.40625 \nQ -25.921875 70.40625 -19.484375 66.609375 \nQ -18.953125 68.84375 -17.28125 70.203125 \nQ -15.625 71.578125 -13.375 71.578125 \nQ -10.84375 71.578125 -9 69.75 \nQ -7.171875 67.921875 -7.171875 65.375 \nQ -7.171875 62.84375 -9.03125 61.015625 \nQ -10.890625 59.1875 -13.28125 59.1875 \nQ -15.96875 59.1875 -22.859375 62.984375 \nQ -26.5625 64.984375 -27.296875 64.984375 \nQ -27.984375 64.984375 -27.984375 62.40625 \nL -27.984375 59.1875 \nL -29.203125 59.1875 \nQ -34.96875 59.1875 -38.375 62.234375 \nQ -41.796875 65.28125 -41.796875 69.78125 \nQ -41.796875 74.265625 -38.625 77.078125 \nQ -35.453125 79.890625 -30.078125 79.890625 \nL -25.203125 79.890625 \nQ -18.65625 79.890625 -16.328125 81.5625 \nQ -14.015625 83.25 -12.703125 86.859375 \nz\nM -13.375 63.1875 \nQ -12.5 63.1875 -11.890625 63.84375 \nQ -11.28125 64.5 -11.28125 65.375 \nQ -11.28125 66.3125 -11.890625 66.9375 \nQ -12.5 67.578125 -13.375 67.578125 \nQ -14.265625 67.578125 -14.875 66.9375 \nQ -15.484375 66.3125 -15.484375 65.375 \nQ -15.484375 64.5 -14.890625 63.84375 \nQ -14.3125 63.1875 -13.375 63.1875 \nz\n\" id=\"Tahoma-3655\"/>\n        <path d=\"M -11.671875 59.1875 \nL -51.5625 59.1875 \nQ -49.703125 64.890625 -48.046875 67.375 \nQ -46.390625 69.875 -43.671875 71.890625 \nQ -40.96875 73.921875 -37.84375 74.953125 \nQ -34.71875 75.984375 -31.546875 75.984375 \nQ -30.5625 75.984375 -28.65625 75.78125 \nL -28.65625 80.328125 \nL -23.140625 80.328125 \nL -23.140625 74.125 \nQ -19.78125 72.5625 -17.140625 69.828125 \nL -17.140625 80.328125 \nL -11.671875 80.328125 \nz\nM -19.53125 64.59375 \nQ -20.703125 67.234375 -24.125 68.875 \nQ -27.546875 70.515625 -31.546875 70.515625 \nQ -35.59375 70.515625 -39.015625 68.875 \nQ -42.4375 67.234375 -43.5625 64.59375 \nz\n\" id=\"Tahoma-3639\"/>\n        <path d=\"M 60.5 62.203125 \nQ 60.5 56.78125 57.265625 52.453125 \nQ 54.046875 48.140625 48.6875 46.6875 \nQ 52.046875 45.453125 53.921875 42.859375 \nQ 55.8125 40.28125 55.8125 37.015625 \nL 55.8125 0 \nL 13.8125 0 \nL 13.8125 8.6875 \nL 20.015625 8.6875 \nL 20.015625 21.1875 \nQ 20.015625 24.90625 21.015625 27.359375 \nQ 22.015625 29.828125 23.921875 32.765625 \nQ 26.125 36.078125 26.65625 37.9375 \nQ 27.203125 39.796875 27.203125 41.5 \nQ 27.203125 49.515625 20.515625 49.515625 \nQ 19.1875 49.515625 18.5 49.03125 \nQ 22.515625 46 22.515625 41.5 \nQ 22.515625 37.703125 19.78125 35.015625 \nQ 17.046875 32.328125 13.1875 32.328125 \nQ 9.375 32.328125 6.6875 35.03125 \nQ 4 37.75 4 41.609375 \nQ 4 48.09375 8.546875 52.09375 \nQ 13.09375 56.109375 20.515625 56.109375 \nQ 27.484375 56.109375 31.78125 52.125 \nQ 36.078125 48.140625 36.078125 41.609375 \nQ 36.078125 39.453125 35.4375 37.015625 \nQ 34.8125 34.578125 32.328125 30.28125 \nQ 29.203125 24.90625 29.203125 21.578125 \nL 29.203125 8.6875 \nL 46.578125 8.6875 \nL 46.578125 35.40625 \nQ 46.578125 42.4375 41.703125 43.796875 \nL 41.703125 48.09375 \nQ 46.296875 49.609375 48.703125 53.34375 \nQ 51.125 57.078125 51.125 62.203125 \nz\nM 13.1875 37.796875 \nQ 14.75 37.796875 15.8125 38.890625 \nQ 16.890625 39.984375 16.890625 41.609375 \nQ 16.890625 43.0625 15.796875 44.140625 \nQ 14.703125 45.21875 13.1875 45.21875 \nQ 11.671875 45.21875 10.59375 44.140625 \nQ 9.515625 43.0625 9.515625 41.609375 \nQ 9.515625 39.984375 10.59375 38.890625 \nQ 11.671875 37.796875 13.1875 37.796875 \nz\n\" id=\"Tahoma-3594\"/>\n        <path d=\"M 6 32.421875 \nQ 6 43.109375 11.71875 49.609375 \nQ 17.4375 56.109375 27.984375 56.109375 \nQ 39.546875 56.109375 44.8125 50.265625 \nQ 50.09375 44.4375 50.09375 31.5 \nL 50.09375 8.6875 \nL 65.828125 8.6875 \nL 65.828125 54.59375 \nL 75 54.59375 \nL 75 0 \nL 40.921875 0 \nL 40.921875 31.5 \nQ 40.921875 40.328125 37.75 43.859375 \nQ 34.578125 47.40625 27.984375 47.40625 \nQ 17.71875 47.40625 15.578125 39.015625 \nL 24.90625 39.015625 \nL 24.90625 32.515625 \nQ 16.21875 29.25 16.21875 18.109375 \nL 16.21875 17.09375 \nQ 17.71875 17.671875 19.671875 17.671875 \nQ 23.53125 17.671875 26.265625 14.984375 \nQ 29 12.3125 29 8.5 \nQ 29 4.6875 26.234375 1.953125 \nQ 23.484375 -0.78125 19.671875 -0.78125 \nQ 13.921875 -0.78125 10.453125 2.734375 \nQ 6.984375 6.25 6.984375 12.3125 \nL 6.984375 16.5 \nQ 6.984375 29.25 15.578125 32.078125 \nL 6 32.078125 \nz\nM 19.671875 4.6875 \nQ 21.234375 4.6875 22.3125 5.78125 \nQ 23.390625 6.890625 23.390625 8.5 \nQ 23.390625 9.96875 22.28125 11.03125 \nQ 21.1875 12.109375 19.671875 12.109375 \nQ 18.21875 12.109375 17.109375 11.03125 \nQ 16.015625 9.96875 16.015625 8.5 \nQ 16.015625 6.890625 17.09375 5.78125 \nQ 18.171875 4.6875 19.671875 4.6875 \nz\nM 75.09375 -3.328125 \nQ 74.125 -11.96875 68.265625 -16.328125 \nQ 62.40625 -20.703125 53.328125 -20.703125 \nQ 47.46875 -20.703125 44.015625 -17.8125 \nQ 40.578125 -14.9375 40.578125 -10.59375 \nQ 40.578125 -7.234375 42.75 -5 \nQ 44.921875 -2.78125 48.296875 -2.78125 \nQ 51.515625 -2.78125 53.75 -5.03125 \nQ 56 -7.28125 56 -10.59375 \nQ 56 -13.671875 54.5 -15.921875 \nQ 67.234375 -15.140625 68.796875 -3.328125 \nz\nM 48.296875 -13.625 \nQ 49.5625 -13.625 50.4375 -12.796875 \nQ 51.3125 -11.96875 51.3125 -10.59375 \nQ 51.3125 -9.28125 50.390625 -8.453125 \nQ 49.46875 -7.625 48.296875 -7.625 \nQ 46.96875 -7.625 46.140625 -8.421875 \nQ 45.3125 -9.234375 45.3125 -10.59375 \nQ 45.3125 -11.96875 46.15625 -12.796875 \nQ 47.015625 -13.625 48.296875 -13.625 \nz\n\" id=\"Tahoma-3597\"/>\n       </defs>\n       <use xlink:href=\"#Tahoma-3588\"/>\n       <use x=\"61.523438\" xlink:href=\"#Tahoma-3623\"/>\n       <use x=\"110.009766\" xlink:href=\"#Tahoma-3634\"/>\n       <use x=\"158.496094\" xlink:href=\"#Tahoma-3617\"/>\n       <use x=\"218.408203\" xlink:href=\"#Tahoma-3648\"/>\n       <use x=\"251.611328\" xlink:href=\"#Tahoma-3611\"/>\n       <use x=\"314.599609\" xlink:href=\"#Tahoma-3655\"/>\n       <use x=\"314.599609\" xlink:href=\"#Tahoma-3609\"/>\n       <use x=\"375.78125\" xlink:href=\"#Tahoma-3617\"/>\n       <use x=\"435.693359\" xlink:href=\"#Tahoma-3639\"/>\n       <use x=\"435.693359\" xlink:href=\"#Tahoma-3629\"/>\n       <use x=\"495.214844\" xlink:href=\"#Tahoma-3629\"/>\n       <use x=\"554.736328\" xlink:href=\"#Tahoma-3634\"/>\n       <use x=\"603.222656\" xlink:href=\"#Tahoma-3594\"/>\n       <use x=\"665.917969\" xlink:href=\"#Tahoma-3637\"/>\n       <use x=\"665.917969\" xlink:href=\"#Tahoma-3614\"/>\n       <use x=\"736.71875\" xlink:href=\"#Tahoma-3651\"/>\n       <use x=\"780.908203\" xlink:href=\"#Tahoma-3609\"/>\n       <use x=\"842.089844\" xlink:href=\"#Tahoma-3585\"/>\n       <use x=\"901.611328\" xlink:href=\"#Tahoma-3634\"/>\n       <use x=\"950.097656\" xlink:href=\"#Tahoma-3619\"/>\n       <use x=\"993.017578\" xlink:href=\"#Tahoma-3649\"/>\n       <use x=\"1052.197266\" xlink:href=\"#Tahoma-3585\"/>\n       <use x=\"1111.71875\" xlink:href=\"#Tahoma-3657\"/>\n       <use x=\"1111.71875\" xlink:href=\"#Tahoma-3611\"/>\n       <use x=\"1174.707031\" xlink:href=\"#Tahoma-3633\"/>\n       <use x=\"1174.707031\" xlink:href=\"#Tahoma-3597\"/>\n       <use x=\"1257.910156\" xlink:href=\"#Tahoma-3627\"/>\n       <use x=\"1324.902344\" xlink:href=\"#Tahoma-3634\"/>\n      </g>\n     </g>\n    </g>\n    <g id=\"xtick_8\">\n     <g id=\"line2d_8\">\n      <g>\n       <use style=\"stroke:#000000;stroke-width:0.8;\" x=\"118.699107\" xlink:href=\"#m7042b1a71b\" y=\"224.64\"/>\n      </g>\n     </g>\n     <g id=\"text_8\">\n      <!-- article ภาษาอังกฤษ นโยบายเศรษฐกิจ สังคม -->\n      <g transform=\"translate(121.76317 416.143125)rotate(-90)scale(0.1 -0.1)\">\n       <defs>\n        <path d=\"M 37.109375 13.421875 \nL 37.109375 28.5625 \nQ 33.84375 28.265625 28.828125 27.75 \nQ 23.828125 27.25 20.75 26.3125 \nQ 17.09375 25.203125 14.703125 22.875 \nQ 12.3125 20.5625 12.3125 16.40625 \nQ 12.3125 11.71875 14.9375 9.328125 \nQ 17.578125 6.9375 22.65625 6.9375 \nQ 27 6.9375 30.515625 8.8125 \nQ 34.03125 10.6875 37.109375 13.421875 \nz\nM 37.109375 5.8125 \nQ 35.984375 4.984375 34.109375 3.484375 \nQ 32.234375 2 30.46875 1.125 \nQ 28.03125 -0.140625 25.75 -0.828125 \nQ 23.484375 -1.515625 19.390625 -1.515625 \nQ 16.015625 -1.515625 12.984375 -0.234375 \nQ 9.96875 1.03125 7.671875 3.328125 \nQ 5.46875 5.5625 4.140625 8.859375 \nQ 2.828125 12.15625 2.828125 15.828125 \nQ 2.828125 21.484375 5.21875 25.453125 \nQ 7.625 29.4375 12.796875 31.78125 \nQ 17.390625 33.890625 23.640625 34.6875 \nQ 29.890625 35.5 37.109375 35.890625 \nL 37.109375 37.640625 \nQ 37.109375 40.875 36.125 42.84375 \nQ 35.15625 44.828125 33.40625 45.90625 \nQ 31.640625 47.015625 29.09375 47.375 \nQ 26.5625 47.75 23.875 47.75 \nQ 20.703125 47.75 16.40625 46.796875 \nQ 12.109375 45.84375 7.8125 44.046875 \nL 7.28125 44.046875 \nL 7.28125 53.375 \nQ 9.8125 54.109375 14.546875 54.984375 \nQ 19.28125 55.859375 23.921875 55.859375 \nQ 29.546875 55.859375 33.390625 54.984375 \nQ 37.25 54.109375 40.328125 51.8125 \nQ 43.3125 49.5625 44.765625 46 \nQ 46.234375 42.4375 46.234375 37.3125 \nL 46.234375 0 \nL 37.109375 0 \nz\n\" id=\"Tahoma-97\"/>\n        <path d=\"M 35.546875 44.671875 \nL 35.0625 44.671875 \nQ 34.03125 44.96875 32.875 45.046875 \nQ 31.734375 45.125 30.125 45.125 \nQ 26.421875 45.125 22.75 43.5 \nQ 19.09375 41.890625 15.828125 38.71875 \nL 15.828125 0 \nL 6.640625 0 \nL 6.640625 54.546875 \nL 15.828125 54.546875 \nL 15.828125 46.4375 \nQ 20.84375 50.875 24.578125 52.703125 \nQ 28.328125 54.546875 31.84375 54.546875 \nQ 33.25 54.546875 33.953125 54.46875 \nQ 34.671875 54.390625 35.546875 54.25 \nz\n\" id=\"Tahoma-114\"/>\n        <path d=\"M 23.140625 -1.078125 \nQ 15.625 -1.078125 11.421875 3.1875 \nQ 7.234375 7.46875 7.234375 16.703125 \nL 7.234375 46.921875 \nL 1.03125 46.921875 \nL 1.03125 54.546875 \nL 7.234375 54.546875 \nL 7.234375 70.21875 \nL 16.40625 70.21875 \nL 16.40625 54.546875 \nL 33.296875 54.546875 \nL 33.296875 46.921875 \nL 16.40625 46.921875 \nL 16.40625 21 \nQ 16.40625 16.84375 16.546875 14.59375 \nQ 16.703125 12.359375 17.671875 10.40625 \nQ 18.5 8.6875 20.359375 7.828125 \nQ 22.21875 6.984375 25.390625 6.984375 \nQ 27.640625 6.984375 29.734375 7.640625 \nQ 31.84375 8.296875 32.765625 8.734375 \nL 33.296875 8.734375 \nL 33.296875 0.484375 \nQ 30.71875 -0.25 28.046875 -0.65625 \nQ 25.390625 -1.078125 23.140625 -1.078125 \nz\n\" id=\"Tahoma-116\"/>\n        <path d=\"M 16.015625 0 \nL 6.84375 0 \nL 6.84375 54.546875 \nL 16.015625 54.546875 \nz\nM 16.65625 63.671875 \nL 6.203125 63.671875 \nL 6.203125 73.1875 \nL 16.65625 73.1875 \nz\n\" id=\"Tahoma-105\"/>\n        <path d=\"M 28.328125 -1.21875 \nQ 22.703125 -1.21875 18.015625 0.515625 \nQ 13.328125 2.25 9.96875 5.765625 \nQ 6.59375 9.28125 4.734375 14.625 \nQ 2.875 19.96875 2.875 27.203125 \nQ 2.875 34.375 4.796875 39.59375 \nQ 6.734375 44.828125 9.96875 48.390625 \nQ 13.1875 51.953125 17.984375 53.875 \nQ 22.796875 55.8125 28.328125 55.8125 \nQ 32.8125 55.8125 36.984375 54.53125 \nQ 41.15625 53.265625 44.4375 51.609375 \nL 44.4375 41.3125 \nL 43.890625 41.3125 \nQ 42.921875 42.140625 41.375 43.203125 \nQ 39.84375 44.28125 37.640625 45.40625 \nQ 35.75 46.390625 33.15625 47.125 \nQ 30.5625 47.859375 28.171875 47.859375 \nQ 21.046875 47.859375 16.71875 42.453125 \nQ 12.40625 37.0625 12.40625 27.203125 \nQ 12.40625 17.53125 16.578125 12.125 \nQ 20.75 6.734375 28.171875 6.734375 \nQ 32.671875 6.734375 36.71875 8.59375 \nQ 40.765625 10.453125 43.890625 13.375 \nL 44.4375 13.375 \nL 44.4375 3.078125 \nQ 43.0625 2.4375 41.015625 1.53125 \nQ 38.96875 0.640625 37.3125 0.203125 \nQ 34.96875 -0.484375 33.109375 -0.84375 \nQ 31.25 -1.21875 28.328125 -1.21875 \nz\n\" id=\"Tahoma-99\"/>\n        <path d=\"M 16.015625 0 \nL 6.84375 0 \nL 6.84375 75.984375 \nL 16.015625 75.984375 \nz\n\" id=\"Tahoma-108\"/>\n        <path d=\"M 30.328125 -1.265625 \nQ 17.28125 -1.265625 10.078125 6.078125 \nQ 2.875 13.421875 2.875 26.953125 \nQ 2.875 40.28125 9.859375 48.171875 \nQ 16.84375 56.0625 28.125 56.0625 \nQ 33.203125 56.0625 37.109375 54.59375 \nQ 41.015625 53.125 43.953125 50 \nQ 46.875 46.875 48.4375 42.359375 \nQ 50 37.84375 50 31.296875 \nL 50 26.3125 \nL 12.203125 26.3125 \nQ 12.203125 16.796875 16.984375 11.765625 \nQ 21.78125 6.734375 30.21875 6.734375 \nQ 33.25 6.734375 36.15625 7.421875 \nQ 39.0625 8.109375 41.40625 9.1875 \nQ 43.890625 10.296875 45.59375 11.34375 \nQ 47.3125 12.40625 48.4375 13.328125 \nL 48.96875 13.328125 \nL 48.96875 3.328125 \nQ 47.359375 2.6875 44.96875 1.734375 \nQ 42.578125 0.78125 40.671875 0.25 \nQ 37.984375 -0.484375 35.8125 -0.875 \nQ 33.640625 -1.265625 30.328125 -1.265625 \nz\nM 41.0625 33.34375 \nQ 40.96875 37.0625 40.1875 39.75 \nQ 39.40625 42.4375 37.9375 44.28125 \nQ 36.328125 46.34375 33.8125 47.40625 \nQ 31.296875 48.484375 27.59375 48.484375 \nQ 23.921875 48.484375 21.359375 47.390625 \nQ 18.796875 46.296875 16.703125 44.1875 \nQ 14.65625 42.046875 13.578125 39.421875 \nQ 12.5 36.8125 12.203125 33.34375 \nz\n\" id=\"Tahoma-101\"/>\n        <path d=\"M 50.09375 -12.109375 \nL 40.921875 -12.109375 \nL 40.921875 31.5 \nQ 40.921875 40.328125 37.75 43.859375 \nQ 34.578125 47.40625 27.984375 47.40625 \nQ 17.71875 47.40625 15.578125 39.015625 \nL 24.90625 39.015625 \nL 24.90625 32.515625 \nQ 16.21875 29.25 16.21875 18.109375 \nL 16.21875 17.09375 \nQ 17.71875 17.671875 19.671875 17.671875 \nQ 23.53125 17.671875 26.265625 14.984375 \nQ 29 12.3125 29 8.5 \nQ 29 4.6875 26.234375 1.953125 \nQ 23.484375 -0.78125 19.671875 -0.78125 \nQ 13.921875 -0.78125 10.453125 2.734375 \nQ 6.984375 6.25 6.984375 12.3125 \nL 6.984375 16.5 \nQ 6.984375 29.25 15.578125 32.078125 \nL 6 32.078125 \nL 6 32.421875 \nQ 6 43.109375 11.71875 49.609375 \nQ 17.4375 56.109375 27.984375 56.109375 \nQ 39.546875 56.109375 44.8125 50.265625 \nQ 50.09375 44.4375 50.09375 31.5 \nz\nM 19.671875 4.6875 \nQ 21.234375 4.6875 22.3125 5.78125 \nQ 23.390625 6.890625 23.390625 8.5 \nQ 23.390625 9.96875 22.28125 11.03125 \nQ 21.1875 12.109375 19.671875 12.109375 \nQ 18.21875 12.109375 17.109375 11.03125 \nQ 16.015625 9.96875 16.015625 8.5 \nQ 16.015625 6.890625 17.09375 5.78125 \nQ 18.171875 4.6875 19.671875 4.6875 \nz\n\" id=\"Tahoma-3620\"/>\n       </defs>\n       <use xlink:href=\"#Tahoma-97\"/>\n       <use x=\"52.490234\" xlink:href=\"#Tahoma-114\"/>\n       <use x=\"88.525391\" xlink:href=\"#Tahoma-116\"/>\n       <use x=\"121.972656\" xlink:href=\"#Tahoma-105\"/>\n       <use x=\"144.824219\" xlink:href=\"#Tahoma-99\"/>\n       <use x=\"190.966797\" xlink:href=\"#Tahoma-108\"/>\n       <use x=\"213.818359\" xlink:href=\"#Tahoma-101\"/>\n       <use x=\"266.455078\" xlink:href=\"#Tahoma-32\"/>\n       <use x=\"297.705078\" xlink:href=\"#Tahoma-3616\"/>\n       <use x=\"359.814453\" xlink:href=\"#Tahoma-3634\"/>\n       <use x=\"408.300781\" xlink:href=\"#Tahoma-3625\"/>\n       <use x=\"482.714844\" xlink:href=\"#Tahoma-3634\"/>\n       <use x=\"531.201172\" xlink:href=\"#Tahoma-3629\"/>\n       <use x=\"590.722656\" xlink:href=\"#Tahoma-3633\"/>\n       <use x=\"590.722656\" xlink:href=\"#Tahoma-3591\"/>\n       <use x=\"639.941406\" xlink:href=\"#Tahoma-3585\"/>\n       <use x=\"699.462891\" xlink:href=\"#Tahoma-3620\"/>\n       <use x=\"756.152344\" xlink:href=\"#Tahoma-3625\"/>\n       <use x=\"830.566406\" xlink:href=\"#Tahoma-32\"/>\n       <use x=\"861.816406\" xlink:href=\"#Tahoma-3609\"/>\n       <use x=\"922.998047\" xlink:href=\"#Tahoma-3650\"/>\n       <use x=\"972.216797\" xlink:href=\"#Tahoma-3618\"/>\n       <use x=\"1030.126953\" xlink:href=\"#Tahoma-3610\"/>\n       <use x=\"1093.115234\" xlink:href=\"#Tahoma-3634\"/>\n       <use x=\"1141.601562\" xlink:href=\"#Tahoma-3618\"/>\n       <use x=\"1199.511719\" xlink:href=\"#Tahoma-3648\"/>\n       <use x=\"1232.714844\" xlink:href=\"#Tahoma-3624\"/>\n       <use x=\"1294.238281\" xlink:href=\"#Tahoma-3619\"/>\n       <use x=\"1337.158203\" xlink:href=\"#Tahoma-3625\"/>\n       <use x=\"1411.572266\" xlink:href=\"#Tahoma-3600\"/>\n       <use x=\"1467.1875\" xlink:href=\"#Tahoma-3585\"/>\n       <use x=\"1526.708984\" xlink:href=\"#Tahoma-3636\"/>\n       <use x=\"1526.708984\" xlink:href=\"#Tahoma-3592\"/>\n       <use x=\"1582.324219\" xlink:href=\"#Tahoma-32\"/>\n       <use x=\"1613.574219\" xlink:href=\"#Tahoma-3626\"/>\n       <use x=\"1674.365234\" xlink:href=\"#Tahoma-3633\"/>\n       <use x=\"1674.365234\" xlink:href=\"#Tahoma-3591\"/>\n       <use x=\"1723.583984\" xlink:href=\"#Tahoma-3588\"/>\n       <use x=\"1785.107422\" xlink:href=\"#Tahoma-3617\"/>\n      </g>\n     </g>\n    </g>\n    <g id=\"xtick_9\">\n     <g id=\"line2d_9\">\n      <g>\n       <use style=\"stroke:#000000;stroke-width:0.8;\" x=\"128.264821\" xlink:href=\"#m7042b1a71b\" y=\"224.64\"/>\n      </g>\n     </g>\n     <g id=\"text_9\">\n      <!-- ประชาสัมพันธ์สถานที่ปราศรัย -->\n      <g transform=\"translate(131.05779 350.230625)rotate(-90)scale(0.1 -0.1)\">\n       <defs>\n        <path d=\"M -0.21875 77.8125 \nQ -2.8125 72.625 -12.71875 71.5 \nQ -10.421875 69.15625 -10.421875 66.09375 \nQ -10.421875 63.109375 -12.546875 60.953125 \nQ -14.671875 58.8125 -17.703125 58.8125 \nQ -20.6875 58.8125 -22.859375 60.953125 \nQ -25.03125 63.109375 -25.03125 66.09375 \nQ -25.03125 69.3125 -22.78125 71.484375 \nQ -20.53125 73.65625 -12.671875 74.96875 \nQ -5.84375 76.140625 -5.015625 77.8125 \nz\nM -17.703125 63.015625 \nQ -16.4375 63.015625 -15.53125 63.90625 \nQ -14.625 64.8125 -14.625 66.09375 \nQ -14.625 67.359375 -15.53125 68.28125 \nQ -16.4375 69.21875 -17.703125 69.21875 \nQ -18.96875 69.21875 -19.890625 68.28125 \nQ -20.828125 67.359375 -20.828125 66.09375 \nQ -20.828125 64.8125 -19.890625 63.90625 \nQ -18.96875 63.015625 -17.703125 63.015625 \nz\n\" id=\"Tahoma-3660\"/>\n        <path d=\"M 50.296875 0 \nL 41.109375 0 \nL 41.109375 31.5 \nQ 41.109375 40.375 37.953125 43.890625 \nQ 34.8125 47.40625 28.21875 47.40625 \nQ 17.921875 47.40625 15.828125 39.015625 \nL 25.09375 39.015625 \nL 25.09375 32.515625 \nQ 20.609375 30.8125 18.5 27.640625 \nQ 16.40625 24.46875 16.40625 18.890625 \nL 16.40625 17.09375 \nQ 17.921875 17.671875 19.921875 17.671875 \nQ 23.734375 17.671875 26.46875 14.984375 \nQ 29.203125 12.3125 29.203125 8.5 \nQ 29.203125 4.6875 26.46875 1.953125 \nQ 23.734375 -0.78125 19.921875 -0.78125 \nQ 14.109375 -0.78125 10.640625 2.734375 \nQ 7.171875 6.25 7.171875 12.3125 \nL 7.171875 18.21875 \nQ 7.171875 29.046875 15.828125 32.078125 \nL 6.203125 32.078125 \nL 6.203125 32.421875 \nQ 6.203125 43.109375 11.90625 49.609375 \nQ 17.625 56.109375 28.21875 56.109375 \nQ 39.75 56.109375 45.015625 50.265625 \nQ 50.296875 44.4375 50.296875 31.5 \nz\nM 19.921875 4.6875 \nQ 21.4375 4.6875 22.5 5.78125 \nQ 23.578125 6.890625 23.578125 8.5 \nQ 23.578125 9.96875 22.484375 11.03125 \nQ 21.390625 12.109375 19.921875 12.109375 \nQ 18.40625 12.109375 17.3125 11.03125 \nQ 16.21875 9.96875 16.21875 8.5 \nQ 16.21875 6.890625 17.28125 5.78125 \nQ 18.359375 4.6875 19.921875 4.6875 \nz\n\" id=\"Tahoma-3606\"/>\n        <path d=\"M -10.046875 59.40625 \nL -15.515625 59.40625 \nL -15.515625 75.8125 \nL -10.046875 75.8125 \nz\n\" id=\"Tahoma-3656\"/>\n       </defs>\n       <use xlink:href=\"#Tahoma-3611\"/>\n       <use x=\"62.988281\" xlink:href=\"#Tahoma-3619\"/>\n       <use x=\"105.908203\" xlink:href=\"#Tahoma-3632\"/>\n       <use x=\"150.732422\" xlink:href=\"#Tahoma-3594\"/>\n       <use x=\"213.427734\" xlink:href=\"#Tahoma-3634\"/>\n       <use x=\"261.914062\" xlink:href=\"#Tahoma-3626\"/>\n       <use x=\"322.705078\" xlink:href=\"#Tahoma-3633\"/>\n       <use x=\"322.705078\" xlink:href=\"#Tahoma-3617\"/>\n       <use x=\"382.617188\" xlink:href=\"#Tahoma-3614\"/>\n       <use x=\"453.417969\" xlink:href=\"#Tahoma-3633\"/>\n       <use x=\"453.417969\" xlink:href=\"#Tahoma-3609\"/>\n       <use x=\"514.599609\" xlink:href=\"#Tahoma-3608\"/>\n       <use x=\"568.603516\" xlink:href=\"#Tahoma-3660\"/>\n       <use x=\"568.603516\" xlink:href=\"#Tahoma-3626\"/>\n       <use x=\"629.394531\" xlink:href=\"#Tahoma-3606\"/>\n       <use x=\"687.890625\" xlink:href=\"#Tahoma-3634\"/>\n       <use x=\"736.376953\" xlink:href=\"#Tahoma-3609\"/>\n       <use x=\"797.558594\" xlink:href=\"#Tahoma-3607\"/>\n       <use x=\"869.140625\" xlink:href=\"#Tahoma-3637\"/>\n       <use x=\"869.140625\" xlink:href=\"#Tahoma-3656\"/>\n       <use x=\"869.140625\" xlink:href=\"#Tahoma-3611\"/>\n       <use x=\"932.128906\" xlink:href=\"#Tahoma-3619\"/>\n       <use x=\"975.048828\" xlink:href=\"#Tahoma-3634\"/>\n       <use x=\"1023.535156\" xlink:href=\"#Tahoma-3624\"/>\n       <use x=\"1085.058594\" xlink:href=\"#Tahoma-3619\"/>\n       <use x=\"1127.978516\" xlink:href=\"#Tahoma-3633\"/>\n       <use x=\"1127.978516\" xlink:href=\"#Tahoma-3618\"/>\n      </g>\n     </g>\n    </g>\n    <g id=\"xtick_10\">\n     <g id=\"line2d_10\">\n      <g>\n       <use style=\"stroke:#000000;stroke-width:0.8;\" x=\"137.830536\" xlink:href=\"#m7042b1a71b\" y=\"224.64\"/>\n      </g>\n     </g>\n     <g id=\"text_10\">\n      <!-- บรรยากาศการปราศรัย + นโยบาย -->\n      <g transform=\"translate(140.623504 368.175938)rotate(-90)scale(0.1 -0.1)\">\n       <defs>\n        <path d=\"M 65.09375 27.9375 \nL 40.4375 27.9375 \nL 40.4375 3.265625 \nL 32.328125 3.265625 \nL 32.328125 27.9375 \nL 7.671875 27.9375 \nL 7.671875 35.75 \nL 32.328125 35.75 \nL 32.328125 60.40625 \nL 40.4375 60.40625 \nL 40.4375 35.75 \nL 65.09375 35.75 \nz\n\" id=\"Tahoma-43\"/>\n       </defs>\n       <use xlink:href=\"#Tahoma-3610\"/>\n       <use x=\"62.988281\" xlink:href=\"#Tahoma-3619\"/>\n       <use x=\"105.908203\" xlink:href=\"#Tahoma-3619\"/>\n       <use x=\"148.828125\" xlink:href=\"#Tahoma-3618\"/>\n       <use x=\"206.738281\" xlink:href=\"#Tahoma-3634\"/>\n       <use x=\"255.224609\" xlink:href=\"#Tahoma-3585\"/>\n       <use x=\"314.746094\" xlink:href=\"#Tahoma-3634\"/>\n       <use x=\"363.232422\" xlink:href=\"#Tahoma-3624\"/>\n       <use x=\"424.755859\" xlink:href=\"#Tahoma-3585\"/>\n       <use x=\"484.277344\" xlink:href=\"#Tahoma-3634\"/>\n       <use x=\"532.763672\" xlink:href=\"#Tahoma-3619\"/>\n       <use x=\"575.683594\" xlink:href=\"#Tahoma-3611\"/>\n       <use x=\"638.671875\" xlink:href=\"#Tahoma-3619\"/>\n       <use x=\"681.591797\" xlink:href=\"#Tahoma-3634\"/>\n       <use x=\"730.078125\" xlink:href=\"#Tahoma-3624\"/>\n       <use x=\"791.601562\" xlink:href=\"#Tahoma-3619\"/>\n       <use x=\"834.521484\" xlink:href=\"#Tahoma-3633\"/>\n       <use x=\"834.521484\" xlink:href=\"#Tahoma-3618\"/>\n       <use x=\"892.431641\" xlink:href=\"#Tahoma-32\"/>\n       <use x=\"923.681641\" xlink:href=\"#Tahoma-43\"/>\n       <use x=\"996.435547\" xlink:href=\"#Tahoma-32\"/>\n       <use x=\"1027.685547\" xlink:href=\"#Tahoma-3609\"/>\n       <use x=\"1088.867188\" xlink:href=\"#Tahoma-3650\"/>\n       <use x=\"1138.085938\" xlink:href=\"#Tahoma-3618\"/>\n       <use x=\"1195.996094\" xlink:href=\"#Tahoma-3610\"/>\n       <use x=\"1258.984375\" xlink:href=\"#Tahoma-3634\"/>\n       <use x=\"1307.470703\" xlink:href=\"#Tahoma-3618\"/>\n      </g>\n     </g>\n    </g>\n    <g id=\"xtick_11\">\n     <g id=\"line2d_11\">\n      <g>\n       <use style=\"stroke:#000000;stroke-width:0.8;\" x=\"147.39625\" xlink:href=\"#m7042b1a71b\" y=\"224.64\"/>\n      </g>\n     </g>\n     <g id=\"text_11\">\n      <!-- คืนความสุข + สื่อ online -->\n      <g transform=\"translate(150.401719 333.072812)rotate(-90)scale(0.1 -0.1)\">\n       <defs>\n        <path d=\"M -9.1875 -20.21875 \nL -14.5 -20.21875 \nL -14.5 -14.40625 \nQ -17.046875 -14.40625 -18.828125 -12.6875 \nQ -20.609375 -10.984375 -20.609375 -8.6875 \nQ -20.609375 -6.25 -18.96875 -4.609375 \nQ -17.328125 -2.984375 -14.984375 -2.984375 \nQ -12.59375 -2.984375 -10.890625 -4.640625 \nQ -9.1875 -6.296875 -9.1875 -8.6875 \nz\nM -15.09375 -10.40625 \nQ -14.453125 -10.40625 -13.90625 -9.890625 \nQ -13.375 -9.375 -13.375 -8.6875 \nQ -13.375 -8.015625 -13.890625 -7.5 \nQ -14.40625 -6.984375 -15.09375 -6.984375 \nQ -15.765625 -6.984375 -16.28125 -7.5 \nQ -16.796875 -8.015625 -16.796875 -8.6875 \nQ -16.796875 -9.375 -16.28125 -9.890625 \nQ -15.765625 -10.40625 -15.09375 -10.40625 \nz\n\" id=\"Tahoma-3640\"/>\n        <path d=\"M 51.515625 27.25 \nQ 51.515625 13.484375 44.875 5.984375 \nQ 38.234375 -1.515625 27.203125 -1.515625 \nQ 15.828125 -1.515625 9.296875 6.21875 \nQ 2.78125 13.96875 2.78125 27.25 \nQ 2.78125 40.921875 9.5 48.484375 \nQ 16.21875 56.0625 27.203125 56.0625 \nQ 38.234375 56.0625 44.875 48.515625 \nQ 51.515625 40.96875 51.515625 27.25 \nz\nM 42.046875 27.25 \nQ 42.046875 37.84375 38.1875 42.984375 \nQ 34.328125 48.140625 27.203125 48.140625 \nQ 20.015625 48.140625 16.125 42.984375 \nQ 12.25 37.84375 12.25 27.25 \nQ 12.25 17 16.125 11.6875 \nQ 20.015625 6.390625 27.203125 6.390625 \nQ 34.28125 6.390625 38.15625 11.59375 \nQ 42.046875 16.796875 42.046875 27.25 \nz\n\" id=\"Tahoma-111\"/>\n        <path d=\"M 49.515625 0 \nL 40.328125 0 \nL 40.328125 31.0625 \nQ 40.328125 34.8125 39.953125 38.0625 \nQ 39.59375 41.3125 38.578125 43.265625 \nQ 37.453125 45.3125 35.453125 46.3125 \nQ 33.453125 47.3125 29.984375 47.3125 \nQ 26.5625 47.3125 22.921875 45.484375 \nQ 19.28125 43.65625 15.828125 40.71875 \nL 15.828125 0 \nL 6.640625 0 \nL 6.640625 54.546875 \nL 15.828125 54.546875 \nL 15.828125 48.484375 \nQ 19.921875 52.15625 23.921875 54.109375 \nQ 27.9375 56.0625 32.375 56.0625 \nQ 40.4375 56.0625 44.96875 50.75 \nQ 49.515625 45.453125 49.515625 35.40625 \nz\n\" id=\"Tahoma-110\"/>\n       </defs>\n       <use xlink:href=\"#Tahoma-3588\"/>\n       <use x=\"61.523438\" xlink:href=\"#Tahoma-3639\"/>\n       <use x=\"61.523438\" xlink:href=\"#Tahoma-3609\"/>\n       <use x=\"122.705078\" xlink:href=\"#Tahoma-3588\"/>\n       <use x=\"184.228516\" xlink:href=\"#Tahoma-3623\"/>\n       <use x=\"232.714844\" xlink:href=\"#Tahoma-3634\"/>\n       <use x=\"281.201172\" xlink:href=\"#Tahoma-3617\"/>\n       <use x=\"341.113281\" xlink:href=\"#Tahoma-3626\"/>\n       <use x=\"401.904297\" xlink:href=\"#Tahoma-3640\"/>\n       <use x=\"401.904297\" xlink:href=\"#Tahoma-3586\"/>\n       <use x=\"463.183594\" xlink:href=\"#Tahoma-32\"/>\n       <use x=\"494.433594\" xlink:href=\"#Tahoma-43\"/>\n       <use x=\"567.1875\" xlink:href=\"#Tahoma-32\"/>\n       <use x=\"598.4375\" xlink:href=\"#Tahoma-3626\"/>\n       <use x=\"659.228516\" xlink:href=\"#Tahoma-3639\"/>\n       <use x=\"659.228516\" xlink:href=\"#Tahoma-3656\"/>\n       <use x=\"659.228516\" xlink:href=\"#Tahoma-3629\"/>\n       <use x=\"718.75\" xlink:href=\"#Tahoma-32\"/>\n       <use x=\"750\" xlink:href=\"#Tahoma-111\"/>\n       <use x=\"804.296875\" xlink:href=\"#Tahoma-110\"/>\n       <use x=\"860.058594\" xlink:href=\"#Tahoma-108\"/>\n       <use x=\"883.035156\" xlink:href=\"#Tahoma-105\"/>\n       <use x=\"905.886719\" xlink:href=\"#Tahoma-110\"/>\n       <use x=\"961.648438\" xlink:href=\"#Tahoma-101\"/>\n      </g>\n     </g>\n    </g>\n    <g id=\"xtick_12\">\n     <g id=\"line2d_12\">\n      <g>\n       <use style=\"stroke:#000000;stroke-width:0.8;\" x=\"156.961964\" xlink:href=\"#m7042b1a71b\" y=\"224.64\"/>\n      </g>\n     </g>\n     <g id=\"text_12\">\n      <!-- หาเสียง น่าจะ กรณ์ พูด -->\n      <g transform=\"translate(159.967433 325.693125)rotate(-90)scale(0.1 -0.1)\">\n       <use xlink:href=\"#Tahoma-3627\"/>\n       <use x=\"66.992188\" xlink:href=\"#Tahoma-3634\"/>\n       <use x=\"115.478516\" xlink:href=\"#Tahoma-3648\"/>\n       <use x=\"148.681641\" xlink:href=\"#Tahoma-3626\"/>\n       <use x=\"209.472656\" xlink:href=\"#Tahoma-3637\"/>\n       <use x=\"209.472656\" xlink:href=\"#Tahoma-3618\"/>\n       <use x=\"267.382812\" xlink:href=\"#Tahoma-3591\"/>\n       <use x=\"316.601562\" xlink:href=\"#Tahoma-32\"/>\n       <use x=\"347.851562\" xlink:href=\"#Tahoma-3609\"/>\n       <use x=\"409.033203\" xlink:href=\"#Tahoma-3656\"/>\n       <use x=\"409.033203\" xlink:href=\"#Tahoma-3634\"/>\n       <use x=\"457.519531\" xlink:href=\"#Tahoma-3592\"/>\n       <use x=\"513.134766\" xlink:href=\"#Tahoma-3632\"/>\n       <use x=\"557.958984\" xlink:href=\"#Tahoma-32\"/>\n       <use x=\"589.208984\" xlink:href=\"#Tahoma-3585\"/>\n       <use x=\"648.730469\" xlink:href=\"#Tahoma-3619\"/>\n       <use x=\"691.650391\" xlink:href=\"#Tahoma-3603\"/>\n       <use x=\"776.953125\" xlink:href=\"#Tahoma-3660\"/>\n       <use x=\"776.953125\" xlink:href=\"#Tahoma-32\"/>\n       <use x=\"808.203125\" xlink:href=\"#Tahoma-3614\"/>\n       <use x=\"879.003906\" xlink:href=\"#Tahoma-3641\"/>\n       <use x=\"879.003906\" xlink:href=\"#Tahoma-3604\"/>\n      </g>\n     </g>\n    </g>\n    <g id=\"xtick_13\">\n     <g id=\"line2d_13\">\n      <g>\n       <use style=\"stroke:#000000;stroke-width:0.8;\" x=\"166.527679\" xlink:href=\"#m7042b1a71b\" y=\"224.64\"/>\n      </g>\n     </g>\n     <g id=\"text_13\">\n      <!-- หาเสียง น่าจะ อภิสิทธิ์ พูด -->\n      <g transform=\"translate(169.533147 337.719687)rotate(-90)scale(0.1 -0.1)\">\n       <use xlink:href=\"#Tahoma-3627\"/>\n       <use x=\"66.992188\" xlink:href=\"#Tahoma-3634\"/>\n       <use x=\"115.478516\" xlink:href=\"#Tahoma-3648\"/>\n       <use x=\"148.681641\" xlink:href=\"#Tahoma-3626\"/>\n       <use x=\"209.472656\" xlink:href=\"#Tahoma-3637\"/>\n       <use x=\"209.472656\" xlink:href=\"#Tahoma-3618\"/>\n       <use x=\"267.382812\" xlink:href=\"#Tahoma-3591\"/>\n       <use x=\"316.601562\" xlink:href=\"#Tahoma-32\"/>\n       <use x=\"347.851562\" xlink:href=\"#Tahoma-3609\"/>\n       <use x=\"409.033203\" xlink:href=\"#Tahoma-3656\"/>\n       <use x=\"409.033203\" xlink:href=\"#Tahoma-3634\"/>\n       <use x=\"457.519531\" xlink:href=\"#Tahoma-3592\"/>\n       <use x=\"513.134766\" xlink:href=\"#Tahoma-3632\"/>\n       <use x=\"557.958984\" xlink:href=\"#Tahoma-32\"/>\n       <use x=\"589.208984\" xlink:href=\"#Tahoma-3629\"/>\n       <use x=\"648.730469\" xlink:href=\"#Tahoma-3616\"/>\n       <use x=\"710.839844\" xlink:href=\"#Tahoma-3636\"/>\n       <use x=\"710.839844\" xlink:href=\"#Tahoma-3626\"/>\n       <use x=\"771.630859\" xlink:href=\"#Tahoma-3636\"/>\n       <use x=\"771.630859\" xlink:href=\"#Tahoma-3607\"/>\n       <use x=\"843.212891\" xlink:href=\"#Tahoma-3608\"/>\n       <use x=\"897.216797\" xlink:href=\"#Tahoma-3636\"/>\n       <use x=\"897.216797\" xlink:href=\"#Tahoma-3660\"/>\n       <use x=\"897.216797\" xlink:href=\"#Tahoma-32\"/>\n       <use x=\"928.466797\" xlink:href=\"#Tahoma-3614\"/>\n       <use x=\"999.267578\" xlink:href=\"#Tahoma-3641\"/>\n       <use x=\"999.267578\" xlink:href=\"#Tahoma-3604\"/>\n      </g>\n     </g>\n    </g>\n    <g id=\"xtick_14\">\n     <g id=\"line2d_14\">\n      <g>\n       <use style=\"stroke:#000000;stroke-width:0.8;\" x=\"176.093393\" xlink:href=\"#m7042b1a71b\" y=\"224.64\"/>\n      </g>\n     </g>\n     <g id=\"text_14\">\n      <!-- นโยบายด้านการเงิน -->\n      <g transform=\"translate(178.886362 311.982188)rotate(-90)scale(0.1 -0.1)\">\n       <use xlink:href=\"#Tahoma-3609\"/>\n       <use x=\"61.181641\" xlink:href=\"#Tahoma-3650\"/>\n       <use x=\"110.400391\" xlink:href=\"#Tahoma-3618\"/>\n       <use x=\"168.310547\" xlink:href=\"#Tahoma-3610\"/>\n       <use x=\"231.298828\" xlink:href=\"#Tahoma-3634\"/>\n       <use x=\"279.785156\" xlink:href=\"#Tahoma-3618\"/>\n       <use x=\"337.695312\" xlink:href=\"#Tahoma-3604\"/>\n       <use x=\"399.21875\" xlink:href=\"#Tahoma-3657\"/>\n       <use x=\"399.21875\" xlink:href=\"#Tahoma-3634\"/>\n       <use x=\"447.705078\" xlink:href=\"#Tahoma-3609\"/>\n       <use x=\"508.886719\" xlink:href=\"#Tahoma-3585\"/>\n       <use x=\"568.408203\" xlink:href=\"#Tahoma-3634\"/>\n       <use x=\"616.894531\" xlink:href=\"#Tahoma-3619\"/>\n       <use x=\"659.814453\" xlink:href=\"#Tahoma-3648\"/>\n       <use x=\"693.017578\" xlink:href=\"#Tahoma-3591\"/>\n       <use x=\"742.236328\" xlink:href=\"#Tahoma-3636\"/>\n       <use x=\"742.236328\" xlink:href=\"#Tahoma-3609\"/>\n      </g>\n     </g>\n    </g>\n    <g id=\"xtick_15\">\n     <g id=\"line2d_15\">\n      <g>\n       <use style=\"stroke:#000000;stroke-width:0.8;\" x=\"185.659107\" xlink:href=\"#m7042b1a71b\" y=\"224.64\"/>\n      </g>\n     </g>\n     <g id=\"text_15\">\n      <!-- นโยบาย พม. -->\n      <g transform=\"translate(188.452076 284.632187)rotate(-90)scale(0.1 -0.1)\">\n       <defs>\n        <path d=\"M 20.953125 0 \nL 9.28125 0 \nL 9.28125 13.921875 \nL 20.953125 13.921875 \nz\n\" id=\"Tahoma-46\"/>\n       </defs>\n       <use xlink:href=\"#Tahoma-3609\"/>\n       <use x=\"61.181641\" xlink:href=\"#Tahoma-3650\"/>\n       <use x=\"110.400391\" xlink:href=\"#Tahoma-3618\"/>\n       <use x=\"168.310547\" xlink:href=\"#Tahoma-3610\"/>\n       <use x=\"231.298828\" xlink:href=\"#Tahoma-3634\"/>\n       <use x=\"279.785156\" xlink:href=\"#Tahoma-3618\"/>\n       <use x=\"337.695312\" xlink:href=\"#Tahoma-32\"/>\n       <use x=\"368.945312\" xlink:href=\"#Tahoma-3614\"/>\n       <use x=\"439.746094\" xlink:href=\"#Tahoma-3617\"/>\n       <use x=\"499.658203\" xlink:href=\"#Tahoma-46\"/>\n      </g>\n     </g>\n    </g>\n    <g id=\"xtick_16\">\n     <g id=\"line2d_16\">\n      <g>\n       <use style=\"stroke:#000000;stroke-width:0.8;\" x=\"195.224821\" xlink:href=\"#m7042b1a71b\" y=\"224.64\"/>\n      </g>\n     </g>\n     <g id=\"text_16\">\n      <!-- ขายความสงบ ความนิยม -->\n      <g transform=\"translate(198.01779 330.413437)rotate(-90)scale(0.1 -0.1)\">\n       <use xlink:href=\"#Tahoma-3586\"/>\n       <use x=\"61.279297\" xlink:href=\"#Tahoma-3634\"/>\n       <use x=\"109.765625\" xlink:href=\"#Tahoma-3618\"/>\n       <use x=\"167.675781\" xlink:href=\"#Tahoma-3588\"/>\n       <use x=\"229.199219\" xlink:href=\"#Tahoma-3623\"/>\n       <use x=\"277.685547\" xlink:href=\"#Tahoma-3634\"/>\n       <use x=\"326.171875\" xlink:href=\"#Tahoma-3617\"/>\n       <use x=\"386.083984\" xlink:href=\"#Tahoma-3626\"/>\n       <use x=\"446.875\" xlink:href=\"#Tahoma-3591\"/>\n       <use x=\"496.09375\" xlink:href=\"#Tahoma-3610\"/>\n       <use x=\"559.082031\" xlink:href=\"#Tahoma-32\"/>\n       <use x=\"590.332031\" xlink:href=\"#Tahoma-3588\"/>\n       <use x=\"651.855469\" xlink:href=\"#Tahoma-3623\"/>\n       <use x=\"700.341797\" xlink:href=\"#Tahoma-3634\"/>\n       <use x=\"748.828125\" xlink:href=\"#Tahoma-3617\"/>\n       <use x=\"808.740234\" xlink:href=\"#Tahoma-3609\"/>\n       <use x=\"869.921875\" xlink:href=\"#Tahoma-3636\"/>\n       <use x=\"869.921875\" xlink:href=\"#Tahoma-3618\"/>\n       <use x=\"927.832031\" xlink:href=\"#Tahoma-3617\"/>\n      </g>\n     </g>\n    </g>\n    <g id=\"xtick_17\">\n     <g id=\"line2d_17\">\n      <g>\n       <use style=\"stroke:#000000;stroke-width:0.8;\" x=\"204.790536\" xlink:href=\"#m7042b1a71b\" y=\"224.64\"/>\n      </g>\n     </g>\n     <g id=\"text_17\">\n      <!-- ลุงมิ่ง สร้างภาพความนิยมลุงมิ่ง  -->\n      <g transform=\"translate(207.600692 359.905625)rotate(-90)scale(0.1 -0.1)\">\n       <use xlink:href=\"#Tahoma-3621\"/>\n       <use x=\"61.621094\" xlink:href=\"#Tahoma-3640\"/>\n       <use x=\"61.621094\" xlink:href=\"#Tahoma-3591\"/>\n       <use x=\"110.839844\" xlink:href=\"#Tahoma-3617\"/>\n       <use x=\"170.751953\" xlink:href=\"#Tahoma-3636\"/>\n       <use x=\"170.751953\" xlink:href=\"#Tahoma-3656\"/>\n       <use x=\"170.751953\" xlink:href=\"#Tahoma-3591\"/>\n       <use x=\"219.970703\" xlink:href=\"#Tahoma-32\"/>\n       <use x=\"251.220703\" xlink:href=\"#Tahoma-3626\"/>\n       <use x=\"312.011719\" xlink:href=\"#Tahoma-3619\"/>\n       <use x=\"354.931641\" xlink:href=\"#Tahoma-3657\"/>\n       <use x=\"354.931641\" xlink:href=\"#Tahoma-3634\"/>\n       <use x=\"403.417969\" xlink:href=\"#Tahoma-3591\"/>\n       <use x=\"452.636719\" xlink:href=\"#Tahoma-3616\"/>\n       <use x=\"514.746094\" xlink:href=\"#Tahoma-3634\"/>\n       <use x=\"563.232422\" xlink:href=\"#Tahoma-3614\"/>\n       <use x=\"634.033203\" xlink:href=\"#Tahoma-3588\"/>\n       <use x=\"695.556641\" xlink:href=\"#Tahoma-3623\"/>\n       <use x=\"744.042969\" xlink:href=\"#Tahoma-3634\"/>\n       <use x=\"792.529297\" xlink:href=\"#Tahoma-3617\"/>\n       <use x=\"852.441406\" xlink:href=\"#Tahoma-3609\"/>\n       <use x=\"913.623047\" xlink:href=\"#Tahoma-3636\"/>\n       <use x=\"913.623047\" xlink:href=\"#Tahoma-3618\"/>\n       <use x=\"971.533203\" xlink:href=\"#Tahoma-3617\"/>\n       <use x=\"1031.445312\" xlink:href=\"#Tahoma-3621\"/>\n       <use x=\"1093.066406\" xlink:href=\"#Tahoma-3640\"/>\n       <use x=\"1093.066406\" xlink:href=\"#Tahoma-3591\"/>\n       <use x=\"1142.285156\" xlink:href=\"#Tahoma-3617\"/>\n       <use x=\"1202.197266\" xlink:href=\"#Tahoma-3636\"/>\n       <use x=\"1202.197266\" xlink:href=\"#Tahoma-3656\"/>\n       <use x=\"1202.197266\" xlink:href=\"#Tahoma-3591\"/>\n       <use x=\"1251.416016\" xlink:href=\"#Tahoma-32\"/>\n      </g>\n     </g>\n    </g>\n    <g id=\"xtick_18\">\n     <g id=\"line2d_18\">\n      <g>\n       <use style=\"stroke:#000000;stroke-width:0.8;\" x=\"214.35625\" xlink:href=\"#m7042b1a71b\" y=\"224.64\"/>\n      </g>\n     </g>\n     <g id=\"text_18\">\n      <!-- เน้นเลือกความสงบ -->\n      <g transform=\"translate(217.149219 307.724375)rotate(-90)scale(0.1 -0.1)\">\n       <use xlink:href=\"#Tahoma-3648\"/>\n       <use x=\"33.203125\" xlink:href=\"#Tahoma-3609\"/>\n       <use x=\"94.384766\" xlink:href=\"#Tahoma-3657\"/>\n       <use x=\"94.384766\" xlink:href=\"#Tahoma-3609\"/>\n       <use x=\"155.566406\" xlink:href=\"#Tahoma-3648\"/>\n       <use x=\"188.769531\" xlink:href=\"#Tahoma-3621\"/>\n       <use x=\"250.390625\" xlink:href=\"#Tahoma-3639\"/>\n       <use x=\"250.390625\" xlink:href=\"#Tahoma-3629\"/>\n       <use x=\"309.912109\" xlink:href=\"#Tahoma-3585\"/>\n       <use x=\"369.433594\" xlink:href=\"#Tahoma-3588\"/>\n       <use x=\"430.957031\" xlink:href=\"#Tahoma-3623\"/>\n       <use x=\"479.443359\" xlink:href=\"#Tahoma-3634\"/>\n       <use x=\"527.929688\" xlink:href=\"#Tahoma-3617\"/>\n       <use x=\"587.841797\" xlink:href=\"#Tahoma-3626\"/>\n       <use x=\"648.632812\" xlink:href=\"#Tahoma-3591\"/>\n       <use x=\"697.851562\" xlink:href=\"#Tahoma-3610\"/>\n      </g>\n     </g>\n    </g>\n    <g id=\"xtick_19\">\n     <g id=\"line2d_19\">\n      <g>\n       <use style=\"stroke:#000000;stroke-width:0.8;\" x=\"223.921964\" xlink:href=\"#m7042b1a71b\" y=\"224.64\"/>\n      </g>\n     </g>\n     <g id=\"text_19\">\n      <!-- บัญชีรายชื่อ -->\n      <g transform=\"translate(226.903214 279.682187)rotate(-90)scale(0.1 -0.1)\">\n       <use xlink:href=\"#Tahoma-3610\"/>\n       <use x=\"62.988281\" xlink:href=\"#Tahoma-3633\"/>\n       <use x=\"62.988281\" xlink:href=\"#Tahoma-3597\"/>\n       <use x=\"146.191406\" xlink:href=\"#Tahoma-3594\"/>\n       <use x=\"208.886719\" xlink:href=\"#Tahoma-3637\"/>\n       <use x=\"208.886719\" xlink:href=\"#Tahoma-3619\"/>\n       <use x=\"251.806641\" xlink:href=\"#Tahoma-3634\"/>\n       <use x=\"300.292969\" xlink:href=\"#Tahoma-3618\"/>\n       <use x=\"358.203125\" xlink:href=\"#Tahoma-3594\"/>\n       <use x=\"420.898438\" xlink:href=\"#Tahoma-3639\"/>\n       <use x=\"420.898438\" xlink:href=\"#Tahoma-3656\"/>\n       <use x=\"420.898438\" xlink:href=\"#Tahoma-3629\"/>\n      </g>\n     </g>\n    </g>\n    <g id=\"xtick_20\">\n     <g id=\"line2d_20\">\n      <g>\n       <use style=\"stroke:#000000;stroke-width:0.8;\" x=\"233.487679\" xlink:href=\"#m7042b1a71b\" y=\"224.64\"/>\n      </g>\n     </g>\n     <g id=\"text_20\">\n      <!-- ปราศรัยหาเสียง ปัญหาที่เจอตอนหาเสียง -->\n      <g transform=\"translate(236.478304 396.143125)rotate(-90)scale(0.1 -0.1)\">\n       <use xlink:href=\"#Tahoma-3611\"/>\n       <use x=\"62.988281\" xlink:href=\"#Tahoma-3619\"/>\n       <use x=\"105.908203\" xlink:href=\"#Tahoma-3634\"/>\n       <use x=\"154.394531\" xlink:href=\"#Tahoma-3624\"/>\n       <use x=\"215.917969\" xlink:href=\"#Tahoma-3619\"/>\n       <use x=\"258.837891\" xlink:href=\"#Tahoma-3633\"/>\n       <use x=\"258.837891\" xlink:href=\"#Tahoma-3618\"/>\n       <use x=\"316.748047\" xlink:href=\"#Tahoma-3627\"/>\n       <use x=\"383.740234\" xlink:href=\"#Tahoma-3634\"/>\n       <use x=\"432.226562\" xlink:href=\"#Tahoma-3648\"/>\n       <use x=\"465.429688\" xlink:href=\"#Tahoma-3626\"/>\n       <use x=\"526.220703\" xlink:href=\"#Tahoma-3637\"/>\n       <use x=\"526.220703\" xlink:href=\"#Tahoma-3618\"/>\n       <use x=\"584.130859\" xlink:href=\"#Tahoma-3591\"/>\n       <use x=\"633.349609\" xlink:href=\"#Tahoma-32\"/>\n       <use x=\"664.599609\" xlink:href=\"#Tahoma-3611\"/>\n       <use x=\"727.587891\" xlink:href=\"#Tahoma-3633\"/>\n       <use x=\"727.587891\" xlink:href=\"#Tahoma-3597\"/>\n       <use x=\"810.791016\" xlink:href=\"#Tahoma-3627\"/>\n       <use x=\"877.783203\" xlink:href=\"#Tahoma-3634\"/>\n       <use x=\"926.269531\" xlink:href=\"#Tahoma-3607\"/>\n       <use x=\"997.851562\" xlink:href=\"#Tahoma-3637\"/>\n       <use x=\"997.851562\" xlink:href=\"#Tahoma-3656\"/>\n       <use x=\"997.851562\" xlink:href=\"#Tahoma-3648\"/>\n       <use x=\"1031.054688\" xlink:href=\"#Tahoma-3592\"/>\n       <use x=\"1086.669922\" xlink:href=\"#Tahoma-3629\"/>\n       <use x=\"1146.191406\" xlink:href=\"#Tahoma-3605\"/>\n       <use x=\"1207.714844\" xlink:href=\"#Tahoma-3629\"/>\n       <use x=\"1267.236328\" xlink:href=\"#Tahoma-3609\"/>\n       <use x=\"1328.417969\" xlink:href=\"#Tahoma-3627\"/>\n       <use x=\"1395.410156\" xlink:href=\"#Tahoma-3634\"/>\n       <use x=\"1443.896484\" xlink:href=\"#Tahoma-3648\"/>\n       <use x=\"1477.099609\" xlink:href=\"#Tahoma-3626\"/>\n       <use x=\"1537.890625\" xlink:href=\"#Tahoma-3637\"/>\n       <use x=\"1537.890625\" xlink:href=\"#Tahoma-3618\"/>\n       <use x=\"1595.800781\" xlink:href=\"#Tahoma-3591\"/>\n      </g>\n     </g>\n    </g>\n    <g id=\"xtick_21\">\n     <g id=\"line2d_21\">\n      <g>\n       <use style=\"stroke:#000000;stroke-width:0.8;\" x=\"243.053393\" xlink:href=\"#m7042b1a71b\" y=\"224.64\"/>\n      </g>\n     </g>\n     <g id=\"text_21\">\n      <!-- ผู้สมัคร การนัดแนะและบรรยากาศหาเสียง (น่าจะพูดถึงลุงตอนอย่บนเวที) -->\n      <g transform=\"translate(246.063549 522.774375)rotate(-90)scale(0.1 -0.1)\">\n       <defs>\n        <path d=\"M 54.984375 0 \nL 45.796875 0 \nQ 45.796875 1.375 44.328125 4.078125 \nQ 42.875 6.78125 37.3125 14.3125 \nQ 32.90625 20.265625 31.5 22.515625 \nQ 30.125 20.3125 25.828125 14.40625 \nQ 20.265625 6.84375 18.765625 4.109375 \nQ 17.28125 1.375 17.28125 0 \nL 8.203125 0 \nL 8.203125 43.015625 \nQ 8.203125 49.03125 11.640625 52.5625 \nQ 15.09375 56.109375 20.90625 56.109375 \nQ 24.703125 56.109375 27.4375 53.34375 \nQ 30.171875 50.59375 30.171875 46.78125 \nQ 30.171875 42.96875 27.453125 40.28125 \nQ 24.75 37.59375 20.90625 37.59375 \nQ 18.890625 37.59375 17.390625 38.1875 \nL 17.390625 12.203125 \nQ 17.390625 13.71875 24.75 23.53125 \nQ 30.515625 31.203125 30.515625 32.078125 \nL 32.515625 32.078125 \nQ 32.515625 31.203125 38.328125 23.53125 \nQ 45.796875 13.71875 45.796875 12.203125 \nL 45.796875 54.59375 \nL 54.984375 54.59375 \nz\nM 20.90625 43.21875 \nQ 22.40625 43.21875 23.5 44.265625 \nQ 24.609375 45.3125 24.609375 46.78125 \nQ 24.609375 48.4375 23.5 49.515625 \nQ 22.40625 50.59375 20.90625 50.59375 \nQ 19.390625 50.59375 18.28125 49.484375 \nQ 17.1875 48.390625 17.1875 46.78125 \nQ 17.1875 45.3125 18.28125 44.265625 \nQ 19.390625 43.21875 20.90625 43.21875 \nz\n\" id=\"Tahoma-3612\"/>\n        <path d=\"M 34.671875 -20.125 \nL 23.484375 -20.125 \nQ 14.984375 -10.015625 10.125 1.265625 \nQ 5.28125 12.546875 5.28125 27.9375 \nQ 5.28125 42.96875 10.078125 54.421875 \nQ 14.890625 65.875 23.484375 75.984375 \nL 34.671875 75.984375 \nL 34.671875 75.484375 \nQ 30.71875 71.921875 27.125 67.25 \nQ 23.53125 62.59375 20.453125 56.390625 \nQ 17.53125 50.390625 15.703125 43.15625 \nQ 13.875 35.9375 13.875 27.9375 \nQ 13.875 19.578125 15.65625 12.640625 \nQ 17.4375 5.71875 20.453125 -0.53125 \nQ 23.390625 -6.546875 27.140625 -11.40625 \nQ 30.90625 -16.265625 34.671875 -19.625 \nz\n\" id=\"Tahoma-40\"/>\n        <path d=\"M 33.015625 27.9375 \nQ 33.015625 12.84375 28.171875 1.40625 \nQ 23.34375 -10.015625 14.796875 -20.125 \nL 3.609375 -20.125 \nL 3.609375 -19.625 \nQ 7.375 -16.265625 11.171875 -11.359375 \nQ 14.984375 -6.453125 17.828125 -0.53125 \nQ 20.84375 5.765625 22.625 12.765625 \nQ 24.421875 19.78125 24.421875 27.9375 \nQ 24.421875 35.984375 22.609375 43.15625 \nQ 20.796875 50.34375 17.828125 56.390625 \nQ 14.84375 62.453125 11.078125 67.28125 \nQ 7.328125 72.125 3.609375 75.484375 \nL 3.609375 75.984375 \nL 14.796875 75.984375 \nQ 23.296875 65.875 28.15625 54.484375 \nQ 33.015625 43.109375 33.015625 27.9375 \nz\n\" id=\"Tahoma-41\"/>\n       </defs>\n       <use xlink:href=\"#Tahoma-3612\"/>\n       <use x=\"63.183594\" xlink:href=\"#Tahoma-3641\"/>\n       <use x=\"63.183594\" xlink:href=\"#Tahoma-3657\"/>\n       <use x=\"63.183594\" xlink:href=\"#Tahoma-3626\"/>\n       <use x=\"123.974609\" xlink:href=\"#Tahoma-3617\"/>\n       <use x=\"183.886719\" xlink:href=\"#Tahoma-3633\"/>\n       <use x=\"183.886719\" xlink:href=\"#Tahoma-3588\"/>\n       <use x=\"245.410156\" xlink:href=\"#Tahoma-3619\"/>\n       <use x=\"288.330078\" xlink:href=\"#Tahoma-32\"/>\n       <use x=\"319.580078\" xlink:href=\"#Tahoma-3585\"/>\n       <use x=\"379.101562\" xlink:href=\"#Tahoma-3634\"/>\n       <use x=\"427.587891\" xlink:href=\"#Tahoma-3619\"/>\n       <use x=\"470.507812\" xlink:href=\"#Tahoma-3609\"/>\n       <use x=\"531.689453\" xlink:href=\"#Tahoma-3633\"/>\n       <use x=\"531.689453\" xlink:href=\"#Tahoma-3604\"/>\n       <use x=\"593.212891\" xlink:href=\"#Tahoma-3649\"/>\n       <use x=\"652.392578\" xlink:href=\"#Tahoma-3609\"/>\n       <use x=\"713.574219\" xlink:href=\"#Tahoma-3632\"/>\n       <use x=\"758.398438\" xlink:href=\"#Tahoma-3649\"/>\n       <use x=\"817.578125\" xlink:href=\"#Tahoma-3621\"/>\n       <use x=\"879.199219\" xlink:href=\"#Tahoma-3632\"/>\n       <use x=\"924.023438\" xlink:href=\"#Tahoma-3610\"/>\n       <use x=\"987.011719\" xlink:href=\"#Tahoma-3619\"/>\n       <use x=\"1029.931641\" xlink:href=\"#Tahoma-3619\"/>\n       <use x=\"1072.851562\" xlink:href=\"#Tahoma-3618\"/>\n       <use x=\"1130.761719\" xlink:href=\"#Tahoma-3634\"/>\n       <use x=\"1179.248047\" xlink:href=\"#Tahoma-3585\"/>\n       <use x=\"1238.769531\" xlink:href=\"#Tahoma-3634\"/>\n       <use x=\"1287.255859\" xlink:href=\"#Tahoma-3624\"/>\n       <use x=\"1348.779297\" xlink:href=\"#Tahoma-3627\"/>\n       <use x=\"1415.771484\" xlink:href=\"#Tahoma-3634\"/>\n       <use x=\"1464.257812\" xlink:href=\"#Tahoma-3648\"/>\n       <use x=\"1497.460938\" xlink:href=\"#Tahoma-3626\"/>\n       <use x=\"1558.251953\" xlink:href=\"#Tahoma-3637\"/>\n       <use x=\"1558.251953\" xlink:href=\"#Tahoma-3618\"/>\n       <use x=\"1616.162109\" xlink:href=\"#Tahoma-3591\"/>\n       <use x=\"1665.380859\" xlink:href=\"#Tahoma-32\"/>\n       <use x=\"1696.630859\" xlink:href=\"#Tahoma-40\"/>\n       <use x=\"1734.912109\" xlink:href=\"#Tahoma-3609\"/>\n       <use x=\"1796.09375\" xlink:href=\"#Tahoma-3656\"/>\n       <use x=\"1796.09375\" xlink:href=\"#Tahoma-3634\"/>\n       <use x=\"1844.580078\" xlink:href=\"#Tahoma-3592\"/>\n       <use x=\"1900.195312\" xlink:href=\"#Tahoma-3632\"/>\n       <use x=\"1945.019531\" xlink:href=\"#Tahoma-3614\"/>\n       <use x=\"2015.820312\" xlink:href=\"#Tahoma-3641\"/>\n       <use x=\"2015.820312\" xlink:href=\"#Tahoma-3604\"/>\n       <use x=\"2077.34375\" xlink:href=\"#Tahoma-3606\"/>\n       <use x=\"2135.839844\" xlink:href=\"#Tahoma-3638\"/>\n       <use x=\"2135.839844\" xlink:href=\"#Tahoma-3591\"/>\n       <use x=\"2185.058594\" xlink:href=\"#Tahoma-3621\"/>\n       <use x=\"2246.679688\" xlink:href=\"#Tahoma-3640\"/>\n       <use x=\"2246.679688\" xlink:href=\"#Tahoma-3591\"/>\n       <use x=\"2295.898438\" xlink:href=\"#Tahoma-3605\"/>\n       <use x=\"2357.421875\" xlink:href=\"#Tahoma-3629\"/>\n       <use x=\"2416.943359\" xlink:href=\"#Tahoma-3609\"/>\n       <use x=\"2478.125\" xlink:href=\"#Tahoma-3629\"/>\n       <use x=\"2537.646484\" xlink:href=\"#Tahoma-3618\"/>\n       <use x=\"2595.556641\" xlink:href=\"#Tahoma-3656\"/>\n       <use x=\"2595.556641\" xlink:href=\"#Tahoma-3610\"/>\n       <use x=\"2658.544922\" xlink:href=\"#Tahoma-3609\"/>\n       <use x=\"2719.726562\" xlink:href=\"#Tahoma-3648\"/>\n       <use x=\"2752.929688\" xlink:href=\"#Tahoma-3623\"/>\n       <use x=\"2801.416016\" xlink:href=\"#Tahoma-3607\"/>\n       <use x=\"2872.998047\" xlink:href=\"#Tahoma-3637\"/>\n       <use x=\"2872.998047\" xlink:href=\"#Tahoma-41\"/>\n      </g>\n     </g>\n    </g>\n    <g id=\"xtick_22\">\n     <g id=\"line2d_22\">\n      <g>\n       <use style=\"stroke:#000000;stroke-width:0.8;\" x=\"252.619107\" xlink:href=\"#m7042b1a71b\" y=\"224.64\"/>\n      </g>\n     </g>\n     <g id=\"text_22\">\n      <!-- นโยบายด้านเศรษฐกิจ -->\n      <g transform=\"translate(255.68317 320.810313)rotate(-90)scale(0.1 -0.1)\">\n       <use xlink:href=\"#Tahoma-3609\"/>\n       <use x=\"61.181641\" xlink:href=\"#Tahoma-3650\"/>\n       <use x=\"110.400391\" xlink:href=\"#Tahoma-3618\"/>\n       <use x=\"168.310547\" xlink:href=\"#Tahoma-3610\"/>\n       <use x=\"231.298828\" xlink:href=\"#Tahoma-3634\"/>\n       <use x=\"279.785156\" xlink:href=\"#Tahoma-3618\"/>\n       <use x=\"337.695312\" xlink:href=\"#Tahoma-3604\"/>\n       <use x=\"399.21875\" xlink:href=\"#Tahoma-3657\"/>\n       <use x=\"399.21875\" xlink:href=\"#Tahoma-3634\"/>\n       <use x=\"447.705078\" xlink:href=\"#Tahoma-3609\"/>\n       <use x=\"508.886719\" xlink:href=\"#Tahoma-3648\"/>\n       <use x=\"542.089844\" xlink:href=\"#Tahoma-3624\"/>\n       <use x=\"603.613281\" xlink:href=\"#Tahoma-3619\"/>\n       <use x=\"646.533203\" xlink:href=\"#Tahoma-3625\"/>\n       <use x=\"720.947266\" xlink:href=\"#Tahoma-3600\"/>\n       <use x=\"776.5625\" xlink:href=\"#Tahoma-3585\"/>\n       <use x=\"836.083984\" xlink:href=\"#Tahoma-3636\"/>\n       <use x=\"836.083984\" xlink:href=\"#Tahoma-3592\"/>\n      </g>\n     </g>\n    </g>\n    <g id=\"xtick_23\">\n     <g id=\"line2d_23\">\n      <g>\n       <use style=\"stroke:#000000;stroke-width:0.8;\" x=\"262.184821\" xlink:href=\"#m7042b1a71b\" y=\"224.64\"/>\n      </g>\n     </g>\n     <g id=\"text_23\">\n      <!-- นโยบายเศรษฐกิจ -->\n      <g transform=\"translate(265.248884 303.69)rotate(-90)scale(0.1 -0.1)\">\n       <use xlink:href=\"#Tahoma-3609\"/>\n       <use x=\"61.181641\" xlink:href=\"#Tahoma-3650\"/>\n       <use x=\"110.400391\" xlink:href=\"#Tahoma-3618\"/>\n       <use x=\"168.310547\" xlink:href=\"#Tahoma-3610\"/>\n       <use x=\"231.298828\" xlink:href=\"#Tahoma-3634\"/>\n       <use x=\"279.785156\" xlink:href=\"#Tahoma-3618\"/>\n       <use x=\"337.695312\" xlink:href=\"#Tahoma-3648\"/>\n       <use x=\"370.898438\" xlink:href=\"#Tahoma-3624\"/>\n       <use x=\"432.421875\" xlink:href=\"#Tahoma-3619\"/>\n       <use x=\"475.341797\" xlink:href=\"#Tahoma-3625\"/>\n       <use x=\"549.755859\" xlink:href=\"#Tahoma-3600\"/>\n       <use x=\"605.371094\" xlink:href=\"#Tahoma-3585\"/>\n       <use x=\"664.892578\" xlink:href=\"#Tahoma-3636\"/>\n       <use x=\"664.892578\" xlink:href=\"#Tahoma-3592\"/>\n      </g>\n     </g>\n    </g>\n    <g id=\"xtick_24\">\n     <g id=\"line2d_24\">\n      <g>\n       <use style=\"stroke:#000000;stroke-width:0.8;\" x=\"271.750536\" xlink:href=\"#m7042b1a71b\" y=\"224.64\"/>\n      </g>\n     </g>\n     <g id=\"text_24\">\n      <!-- ขายลุงมิ่ง -->\n      <g transform=\"translate(274.538817 270.404063)rotate(-90)scale(0.1 -0.1)\">\n       <use xlink:href=\"#Tahoma-3586\"/>\n       <use x=\"61.279297\" xlink:href=\"#Tahoma-3634\"/>\n       <use x=\"109.765625\" xlink:href=\"#Tahoma-3618\"/>\n       <use x=\"167.675781\" xlink:href=\"#Tahoma-3621\"/>\n       <use x=\"229.296875\" xlink:href=\"#Tahoma-3640\"/>\n       <use x=\"229.296875\" xlink:href=\"#Tahoma-3591\"/>\n       <use x=\"278.515625\" xlink:href=\"#Tahoma-3617\"/>\n       <use x=\"338.427734\" xlink:href=\"#Tahoma-3636\"/>\n       <use x=\"338.427734\" xlink:href=\"#Tahoma-3656\"/>\n       <use x=\"338.427734\" xlink:href=\"#Tahoma-3591\"/>\n      </g>\n     </g>\n    </g>\n    <g id=\"xtick_25\">\n     <g id=\"line2d_25\">\n      <g>\n       <use style=\"stroke:#000000;stroke-width:0.8;\" x=\"281.31625\" xlink:href=\"#m7042b1a71b\" y=\"224.64\"/>\n      </g>\n     </g>\n     <g id=\"text_25\">\n      <!-- ลุงมิ่งในสื่อ online -->\n      <g transform=\"translate(284.331094 305.761875)rotate(-90)scale(0.1 -0.1)\">\n       <use xlink:href=\"#Tahoma-3621\"/>\n       <use x=\"61.621094\" xlink:href=\"#Tahoma-3640\"/>\n       <use x=\"61.621094\" xlink:href=\"#Tahoma-3591\"/>\n       <use x=\"110.839844\" xlink:href=\"#Tahoma-3617\"/>\n       <use x=\"170.751953\" xlink:href=\"#Tahoma-3636\"/>\n       <use x=\"170.751953\" xlink:href=\"#Tahoma-3656\"/>\n       <use x=\"170.751953\" xlink:href=\"#Tahoma-3591\"/>\n       <use x=\"219.970703\" xlink:href=\"#Tahoma-3651\"/>\n       <use x=\"264.160156\" xlink:href=\"#Tahoma-3609\"/>\n       <use x=\"325.341797\" xlink:href=\"#Tahoma-3626\"/>\n       <use x=\"386.132812\" xlink:href=\"#Tahoma-3639\"/>\n       <use x=\"386.132812\" xlink:href=\"#Tahoma-3656\"/>\n       <use x=\"386.132812\" xlink:href=\"#Tahoma-3629\"/>\n       <use x=\"445.654297\" xlink:href=\"#Tahoma-32\"/>\n       <use x=\"476.904297\" xlink:href=\"#Tahoma-111\"/>\n       <use x=\"531.201172\" xlink:href=\"#Tahoma-110\"/>\n       <use x=\"586.962891\" xlink:href=\"#Tahoma-108\"/>\n       <use x=\"609.939453\" xlink:href=\"#Tahoma-105\"/>\n       <use x=\"632.791016\" xlink:href=\"#Tahoma-110\"/>\n       <use x=\"688.552734\" xlink:href=\"#Tahoma-101\"/>\n      </g>\n     </g>\n    </g>\n    <g id=\"xtick_26\">\n     <g id=\"line2d_26\">\n      <g>\n       <use style=\"stroke:#000000;stroke-width:0.8;\" x=\"290.881964\" xlink:href=\"#m7042b1a71b\" y=\"224.64\"/>\n      </g>\n     </g>\n     <g id=\"text_26\">\n      <!-- Campaign เดินคารวะแผ่นดิน กลาง -->\n      <g transform=\"translate(293.648371 374.44)rotate(-90)scale(0.1 -0.1)\">\n       <defs>\n        <path d=\"M 35.796875 -1.3125 \nQ 28.65625 -1.3125 22.671875 1.078125 \nQ 16.703125 3.46875 12.359375 8.203125 \nQ 8.015625 12.9375 5.609375 20.015625 \nQ 3.21875 27.09375 3.21875 36.28125 \nQ 3.21875 45.40625 5.53125 52.1875 \nQ 7.859375 58.984375 12.3125 64.015625 \nQ 16.65625 68.890625 22.609375 71.453125 \nQ 28.5625 74.03125 35.9375 74.03125 \nQ 39.59375 74.03125 42.796875 73.484375 \nQ 46 72.953125 48.734375 72.125 \nQ 51.078125 71.390625 53.53125 70.28125 \nQ 56 69.1875 58.40625 67.875 \nL 58.40625 56.203125 \nL 57.625 56.203125 \nQ 56.34375 57.375 54.34375 59.03125 \nQ 52.34375 60.6875 49.46875 62.3125 \nQ 46.6875 63.8125 43.40625 64.78125 \nQ 40.140625 65.765625 35.84375 65.765625 \nQ 31.203125 65.765625 27.046875 63.859375 \nQ 22.90625 61.96875 19.78125 58.25 \nQ 16.703125 54.546875 14.984375 48.921875 \nQ 13.28125 43.3125 13.28125 36.28125 \nQ 13.28125 28.8125 15.078125 23.40625 \nQ 16.890625 18.015625 20.015625 14.3125 \nQ 23.046875 10.6875 27.140625 8.859375 \nQ 31.25 7.03125 35.84375 7.03125 \nQ 40.046875 7.03125 43.609375 8.046875 \nQ 47.171875 9.078125 49.953125 10.640625 \nQ 52.640625 12.15625 54.59375 13.734375 \nQ 56.546875 15.328125 57.671875 16.453125 \nL 58.40625 16.453125 \nL 58.40625 4.9375 \nQ 56 3.8125 53.875 2.78125 \nQ 51.765625 1.765625 48.734375 0.78125 \nQ 45.5625 -0.25 42.84375 -0.78125 \nQ 40.140625 -1.3125 35.796875 -1.3125 \nz\n\" id=\"Tahoma-67\"/>\n        <path d=\"M 68.5625 0 \nL 68.5625 31.546875 \nQ 68.5625 35.296875 68.265625 38.5 \nQ 67.96875 41.703125 67.046875 43.5 \nQ 66.0625 45.453125 64.25 46.375 \nQ 62.453125 47.3125 59.375 47.3125 \nQ 56.546875 47.3125 53.296875 45.578125 \nQ 50.046875 43.84375 46.578125 40.578125 \nQ 46.625 39.75 46.703125 38.59375 \nQ 46.78125 37.453125 46.78125 35.890625 \nL 46.78125 0 \nL 37.59375 0 \nL 37.59375 31.546875 \nQ 37.59375 35.296875 37.296875 38.5 \nQ 37.015625 41.703125 36.078125 43.5 \nQ 35.109375 45.453125 33.296875 46.375 \nQ 31.5 47.3125 28.421875 47.3125 \nQ 25.4375 47.3125 22.15625 45.453125 \nQ 18.890625 43.609375 15.828125 40.71875 \nL 15.828125 0 \nL 6.640625 0 \nL 6.640625 54.546875 \nL 15.828125 54.546875 \nL 15.828125 48.484375 \nQ 19.4375 52.09375 22.96875 54.078125 \nQ 26.515625 56.0625 30.765625 56.0625 \nQ 35.59375 56.0625 39.328125 53.859375 \nQ 43.0625 51.65625 45.015625 46.625 \nQ 49.171875 51.265625 53.125 53.65625 \nQ 57.078125 56.0625 61.71875 56.0625 \nQ 65.234375 56.0625 68.109375 54.953125 \nQ 71 53.859375 73.140625 51.421875 \nQ 75.34375 48.921875 76.53125 45.203125 \nQ 77.734375 41.5 77.734375 35.890625 \nL 77.734375 0 \nz\n\" id=\"Tahoma-109\"/>\n        <path d=\"M 52.390625 28.71875 \nQ 52.390625 15.09375 45.875 7 \nQ 39.359375 -1.078125 29.390625 -1.078125 \nQ 25.34375 -1.078125 22.21875 -0.140625 \nQ 19.09375 0.78125 15.828125 2.734375 \nL 15.828125 -20.125 \nL 6.640625 -20.125 \nL 6.640625 54.546875 \nL 15.828125 54.546875 \nL 15.828125 48.828125 \nQ 19.234375 51.90625 23.40625 53.984375 \nQ 27.59375 56.0625 32.515625 56.0625 \nQ 41.890625 56.0625 47.140625 48.640625 \nQ 52.390625 41.21875 52.390625 28.71875 \nz\nM 42.921875 27.6875 \nQ 42.921875 37.015625 39.9375 42.15625 \nQ 36.96875 47.3125 30.28125 47.3125 \nQ 26.375 47.3125 22.734375 45.578125 \nQ 19.09375 43.84375 15.828125 41.109375 \nL 15.828125 10.203125 \nQ 19.4375 8.453125 22 7.8125 \nQ 24.5625 7.171875 27.875 7.171875 \nQ 35.015625 7.171875 38.96875 12.390625 \nQ 42.921875 17.625 42.921875 27.6875 \nz\n\" id=\"Tahoma-112\"/>\n        <path d=\"M 39.453125 14.796875 \nL 39.453125 44.734375 \nQ 36.03125 46.390625 33.125 47.09375 \nQ 30.21875 47.796875 27.34375 47.796875 \nQ 20.359375 47.796875 16.359375 42.671875 \nQ 12.359375 37.546875 12.359375 27.984375 \nQ 12.359375 18.890625 15.40625 14.15625 \nQ 18.453125 9.421875 25.296875 9.421875 \nQ 28.859375 9.421875 32.640625 10.828125 \nQ 36.421875 12.25 39.453125 14.796875 \nz\nM 8.59375 -8.734375 \nQ 9.515625 -9.125 11.328125 -9.78125 \nQ 13.140625 -10.453125 15.4375 -11.03125 \nQ 17.96875 -11.671875 20.109375 -12.0625 \nQ 22.265625 -12.453125 24.8125 -12.453125 \nQ 29.046875 -12.453125 32 -11.328125 \nQ 34.96875 -10.203125 36.625 -8.203125 \nQ 38.1875 -6.203125 38.8125 -3.5625 \nQ 39.453125 -0.921875 39.453125 2.4375 \nL 39.453125 7.234375 \nQ 35.75 4 32.171875 2.453125 \nQ 28.609375 0.921875 23.25 0.921875 \nQ 13.921875 0.921875 8.390625 7.859375 \nQ 2.875 14.796875 2.875 27.78125 \nQ 2.875 34.578125 4.78125 39.8125 \nQ 6.6875 45.0625 9.90625 48.734375 \nQ 12.984375 52.25 17.1875 54.15625 \nQ 21.390625 56.0625 25.875 56.0625 \nQ 30.125 56.0625 33.21875 55.046875 \nQ 36.328125 54.046875 39.453125 52.203125 \nL 39.984375 54.546875 \nL 48.640625 54.546875 \nL 48.640625 6.203125 \nQ 48.640625 -7.671875 42.578125 -14.15625 \nQ 36.53125 -20.65625 24.078125 -20.65625 \nQ 20.0625 -20.65625 15.890625 -20.015625 \nQ 11.71875 -19.390625 8.109375 -18.3125 \nL 8.109375 -8.734375 \nz\n\" id=\"Tahoma-103\"/>\n       </defs>\n       <use xlink:href=\"#Tahoma-67\"/>\n       <use x=\"60.058594\" xlink:href=\"#Tahoma-97\"/>\n       <use x=\"112.548828\" xlink:href=\"#Tahoma-109\"/>\n       <use x=\"196.533203\" xlink:href=\"#Tahoma-112\"/>\n       <use x=\"251.806641\" xlink:href=\"#Tahoma-97\"/>\n       <use x=\"304.296875\" xlink:href=\"#Tahoma-105\"/>\n       <use x=\"327.148438\" xlink:href=\"#Tahoma-103\"/>\n       <use x=\"382.421875\" xlink:href=\"#Tahoma-110\"/>\n       <use x=\"438.183594\" xlink:href=\"#Tahoma-32\"/>\n       <use x=\"469.433594\" xlink:href=\"#Tahoma-3648\"/>\n       <use x=\"502.636719\" xlink:href=\"#Tahoma-3604\"/>\n       <use x=\"564.160156\" xlink:href=\"#Tahoma-3636\"/>\n       <use x=\"564.160156\" xlink:href=\"#Tahoma-3609\"/>\n       <use x=\"625.341797\" xlink:href=\"#Tahoma-3588\"/>\n       <use x=\"686.865234\" xlink:href=\"#Tahoma-3634\"/>\n       <use x=\"735.351562\" xlink:href=\"#Tahoma-3619\"/>\n       <use x=\"778.271484\" xlink:href=\"#Tahoma-3623\"/>\n       <use x=\"826.757812\" xlink:href=\"#Tahoma-3632\"/>\n       <use x=\"871.582031\" xlink:href=\"#Tahoma-3649\"/>\n       <use x=\"930.761719\" xlink:href=\"#Tahoma-3612\"/>\n       <use x=\"993.945312\" xlink:href=\"#Tahoma-3656\"/>\n       <use x=\"993.945312\" xlink:href=\"#Tahoma-3609\"/>\n       <use x=\"1055.126953\" xlink:href=\"#Tahoma-3604\"/>\n       <use x=\"1116.650391\" xlink:href=\"#Tahoma-3636\"/>\n       <use x=\"1116.650391\" xlink:href=\"#Tahoma-3609\"/>\n       <use x=\"1177.832031\" xlink:href=\"#Tahoma-32\"/>\n       <use x=\"1209.082031\" xlink:href=\"#Tahoma-3585\"/>\n       <use x=\"1268.603516\" xlink:href=\"#Tahoma-3621\"/>\n       <use x=\"1330.224609\" xlink:href=\"#Tahoma-3634\"/>\n       <use x=\"1378.710938\" xlink:href=\"#Tahoma-3591\"/>\n      </g>\n     </g>\n    </g>\n    <g id=\"xtick_27\">\n     <g id=\"line2d_27\">\n      <g>\n       <use style=\"stroke:#000000;stroke-width:0.8;\" x=\"300.447679\" xlink:href=\"#m7042b1a71b\" y=\"224.64\"/>\n      </g>\n     </g>\n     <g id=\"text_27\">\n      <!-- การหาเสียงใต้ อีสาน ปัญหาระหว่างการหาเสียง -->\n      <g transform=\"translate(303.438304 421.2275)rotate(-90)scale(0.1 -0.1)\">\n       <use xlink:href=\"#Tahoma-3585\"/>\n       <use x=\"59.521484\" xlink:href=\"#Tahoma-3634\"/>\n       <use x=\"108.007812\" xlink:href=\"#Tahoma-3619\"/>\n       <use x=\"150.927734\" xlink:href=\"#Tahoma-3627\"/>\n       <use x=\"217.919922\" xlink:href=\"#Tahoma-3634\"/>\n       <use x=\"266.40625\" xlink:href=\"#Tahoma-3648\"/>\n       <use x=\"299.609375\" xlink:href=\"#Tahoma-3626\"/>\n       <use x=\"360.400391\" xlink:href=\"#Tahoma-3637\"/>\n       <use x=\"360.400391\" xlink:href=\"#Tahoma-3618\"/>\n       <use x=\"418.310547\" xlink:href=\"#Tahoma-3591\"/>\n       <use x=\"467.529297\" xlink:href=\"#Tahoma-3651\"/>\n       <use x=\"511.71875\" xlink:href=\"#Tahoma-3605\"/>\n       <use x=\"573.242188\" xlink:href=\"#Tahoma-3657\"/>\n       <use x=\"573.242188\" xlink:href=\"#Tahoma-32\"/>\n       <use x=\"604.492188\" xlink:href=\"#Tahoma-3629\"/>\n       <use x=\"664.013672\" xlink:href=\"#Tahoma-3637\"/>\n       <use x=\"664.013672\" xlink:href=\"#Tahoma-3626\"/>\n       <use x=\"724.804688\" xlink:href=\"#Tahoma-3634\"/>\n       <use x=\"773.291016\" xlink:href=\"#Tahoma-3609\"/>\n       <use x=\"834.472656\" xlink:href=\"#Tahoma-32\"/>\n       <use x=\"865.722656\" xlink:href=\"#Tahoma-3611\"/>\n       <use x=\"928.710938\" xlink:href=\"#Tahoma-3633\"/>\n       <use x=\"928.710938\" xlink:href=\"#Tahoma-3597\"/>\n       <use x=\"1011.914062\" xlink:href=\"#Tahoma-3627\"/>\n       <use x=\"1078.90625\" xlink:href=\"#Tahoma-3634\"/>\n       <use x=\"1127.392578\" xlink:href=\"#Tahoma-3619\"/>\n       <use x=\"1170.3125\" xlink:href=\"#Tahoma-3632\"/>\n       <use x=\"1215.136719\" xlink:href=\"#Tahoma-3627\"/>\n       <use x=\"1282.128906\" xlink:href=\"#Tahoma-3623\"/>\n       <use x=\"1330.615234\" xlink:href=\"#Tahoma-3656\"/>\n       <use x=\"1330.615234\" xlink:href=\"#Tahoma-3634\"/>\n       <use x=\"1379.101562\" xlink:href=\"#Tahoma-3591\"/>\n       <use x=\"1428.320312\" xlink:href=\"#Tahoma-3585\"/>\n       <use x=\"1487.841797\" xlink:href=\"#Tahoma-3634\"/>\n       <use x=\"1536.328125\" xlink:href=\"#Tahoma-3619\"/>\n       <use x=\"1579.248047\" xlink:href=\"#Tahoma-3627\"/>\n       <use x=\"1646.240234\" xlink:href=\"#Tahoma-3634\"/>\n       <use x=\"1694.726562\" xlink:href=\"#Tahoma-3648\"/>\n       <use x=\"1727.929688\" xlink:href=\"#Tahoma-3626\"/>\n       <use x=\"1788.720703\" xlink:href=\"#Tahoma-3637\"/>\n       <use x=\"1788.720703\" xlink:href=\"#Tahoma-3618\"/>\n       <use x=\"1846.630859\" xlink:href=\"#Tahoma-3591\"/>\n      </g>\n     </g>\n    </g>\n    <g id=\"xtick_28\">\n     <g id=\"line2d_28\">\n      <g>\n       <use style=\"stroke:#000000;stroke-width:0.8;\" x=\"310.013393\" xlink:href=\"#m7042b1a71b\" y=\"224.64\"/>\n      </g>\n     </g>\n     <g id=\"text_28\">\n      <!-- ลุงกำนัน และการต้อนรับลุง -->\n      <g transform=\"translate(312.947768 340.441562)rotate(-90)scale(0.1 -0.1)\">\n       <use xlink:href=\"#Tahoma-3621\"/>\n       <use x=\"61.621094\" xlink:href=\"#Tahoma-3640\"/>\n       <use x=\"61.621094\" xlink:href=\"#Tahoma-3591\"/>\n       <use x=\"110.839844\" xlink:href=\"#Tahoma-3585\"/>\n       <use x=\"170.361328\" xlink:href=\"#Tahoma-3635\"/>\n       <use x=\"218.847656\" xlink:href=\"#Tahoma-3609\"/>\n       <use x=\"280.029297\" xlink:href=\"#Tahoma-3633\"/>\n       <use x=\"280.029297\" xlink:href=\"#Tahoma-3609\"/>\n       <use x=\"341.210938\" xlink:href=\"#Tahoma-32\"/>\n       <use x=\"372.460938\" xlink:href=\"#Tahoma-3649\"/>\n       <use x=\"431.640625\" xlink:href=\"#Tahoma-3621\"/>\n       <use x=\"493.261719\" xlink:href=\"#Tahoma-3632\"/>\n       <use x=\"538.085938\" xlink:href=\"#Tahoma-3585\"/>\n       <use x=\"597.607422\" xlink:href=\"#Tahoma-3634\"/>\n       <use x=\"646.09375\" xlink:href=\"#Tahoma-3619\"/>\n       <use x=\"689.013672\" xlink:href=\"#Tahoma-3605\"/>\n       <use x=\"750.537109\" xlink:href=\"#Tahoma-3657\"/>\n       <use x=\"750.537109\" xlink:href=\"#Tahoma-3629\"/>\n       <use x=\"810.058594\" xlink:href=\"#Tahoma-3609\"/>\n       <use x=\"871.240234\" xlink:href=\"#Tahoma-3619\"/>\n       <use x=\"914.160156\" xlink:href=\"#Tahoma-3633\"/>\n       <use x=\"914.160156\" xlink:href=\"#Tahoma-3610\"/>\n       <use x=\"977.148438\" xlink:href=\"#Tahoma-3621\"/>\n       <use x=\"1038.769531\" xlink:href=\"#Tahoma-3640\"/>\n       <use x=\"1038.769531\" xlink:href=\"#Tahoma-3591\"/>\n      </g>\n     </g>\n    </g>\n    <g id=\"xtick_29\">\n     <g id=\"line2d_29\">\n      <g>\n       <use style=\"stroke:#000000;stroke-width:0.8;\" x=\"319.579107\" xlink:href=\"#m7042b1a71b\" y=\"224.64\"/>\n      </g>\n     </g>\n     <g id=\"text_29\">\n      <!-- Campaign เดินคารวะแผ่นดิน เหนือตอนล่าง -->\n      <g transform=\"translate(322.562701 408.8025)rotate(-90)scale(0.1 -0.1)\">\n       <use xlink:href=\"#Tahoma-67\"/>\n       <use x=\"60.058594\" xlink:href=\"#Tahoma-97\"/>\n       <use x=\"112.548828\" xlink:href=\"#Tahoma-109\"/>\n       <use x=\"196.533203\" xlink:href=\"#Tahoma-112\"/>\n       <use x=\"251.806641\" xlink:href=\"#Tahoma-97\"/>\n       <use x=\"304.296875\" xlink:href=\"#Tahoma-105\"/>\n       <use x=\"327.148438\" xlink:href=\"#Tahoma-103\"/>\n       <use x=\"382.421875\" xlink:href=\"#Tahoma-110\"/>\n       <use x=\"438.183594\" xlink:href=\"#Tahoma-32\"/>\n       <use x=\"469.433594\" xlink:href=\"#Tahoma-3648\"/>\n       <use x=\"502.636719\" xlink:href=\"#Tahoma-3604\"/>\n       <use x=\"564.160156\" xlink:href=\"#Tahoma-3636\"/>\n       <use x=\"564.160156\" xlink:href=\"#Tahoma-3609\"/>\n       <use x=\"625.341797\" xlink:href=\"#Tahoma-3588\"/>\n       <use x=\"686.865234\" xlink:href=\"#Tahoma-3634\"/>\n       <use x=\"735.351562\" xlink:href=\"#Tahoma-3619\"/>\n       <use x=\"778.271484\" xlink:href=\"#Tahoma-3623\"/>\n       <use x=\"826.757812\" xlink:href=\"#Tahoma-3632\"/>\n       <use x=\"871.582031\" xlink:href=\"#Tahoma-3649\"/>\n       <use x=\"930.761719\" xlink:href=\"#Tahoma-3612\"/>\n       <use x=\"993.945312\" xlink:href=\"#Tahoma-3656\"/>\n       <use x=\"993.945312\" xlink:href=\"#Tahoma-3609\"/>\n       <use x=\"1055.126953\" xlink:href=\"#Tahoma-3604\"/>\n       <use x=\"1116.650391\" xlink:href=\"#Tahoma-3636\"/>\n       <use x=\"1116.650391\" xlink:href=\"#Tahoma-3609\"/>\n       <use x=\"1177.832031\" xlink:href=\"#Tahoma-32\"/>\n       <use x=\"1209.082031\" xlink:href=\"#Tahoma-3648\"/>\n       <use x=\"1242.285156\" xlink:href=\"#Tahoma-3627\"/>\n       <use x=\"1309.277344\" xlink:href=\"#Tahoma-3609\"/>\n       <use x=\"1370.458984\" xlink:href=\"#Tahoma-3639\"/>\n       <use x=\"1370.458984\" xlink:href=\"#Tahoma-3629\"/>\n       <use x=\"1429.980469\" xlink:href=\"#Tahoma-3605\"/>\n       <use x=\"1491.503906\" xlink:href=\"#Tahoma-3629\"/>\n       <use x=\"1551.025391\" xlink:href=\"#Tahoma-3609\"/>\n       <use x=\"1612.207031\" xlink:href=\"#Tahoma-3621\"/>\n       <use x=\"1673.828125\" xlink:href=\"#Tahoma-3656\"/>\n       <use x=\"1673.828125\" xlink:href=\"#Tahoma-3634\"/>\n       <use x=\"1722.314453\" xlink:href=\"#Tahoma-3591\"/>\n      </g>\n     </g>\n    </g>\n    <g id=\"xtick_30\">\n     <g id=\"line2d_30\">\n      <g>\n       <use style=\"stroke:#000000;stroke-width:0.8;\" x=\"329.144821\" xlink:href=\"#m7042b1a71b\" y=\"224.64\"/>\n      </g>\n     </g>\n     <g id=\"text_30\">\n      <!-- จำนวนผู้สมัคร -->\n      <g transform=\"translate(332.079196 287.969687)rotate(-90)scale(0.1 -0.1)\">\n       <use xlink:href=\"#Tahoma-3592\"/>\n       <use x=\"55.615234\" xlink:href=\"#Tahoma-3635\"/>\n       <use x=\"104.101562\" xlink:href=\"#Tahoma-3609\"/>\n       <use x=\"165.283203\" xlink:href=\"#Tahoma-3623\"/>\n       <use x=\"213.769531\" xlink:href=\"#Tahoma-3609\"/>\n       <use x=\"274.951172\" xlink:href=\"#Tahoma-3612\"/>\n       <use x=\"338.134766\" xlink:href=\"#Tahoma-3641\"/>\n       <use x=\"338.134766\" xlink:href=\"#Tahoma-3657\"/>\n       <use x=\"338.134766\" xlink:href=\"#Tahoma-3626\"/>\n       <use x=\"398.925781\" xlink:href=\"#Tahoma-3617\"/>\n       <use x=\"458.837891\" xlink:href=\"#Tahoma-3633\"/>\n       <use x=\"458.837891\" xlink:href=\"#Tahoma-3588\"/>\n       <use x=\"520.361328\" xlink:href=\"#Tahoma-3619\"/>\n      </g>\n     </g>\n    </g>\n    <g id=\"xtick_31\">\n     <g id=\"line2d_31\">\n      <g>\n       <use style=\"stroke:#000000;stroke-width:0.8;\" x=\"338.710536\" xlink:href=\"#m7042b1a71b\" y=\"224.64\"/>\n      </g>\n     </g>\n     <g id=\"text_31\">\n      <!-- ขายตระกูล ศิลปอาชา -->\n      <g transform=\"translate(341.725379 319.107188)rotate(-90)scale(0.1 -0.1)\">\n       <use xlink:href=\"#Tahoma-3586\"/>\n       <use x=\"61.279297\" xlink:href=\"#Tahoma-3634\"/>\n       <use x=\"109.765625\" xlink:href=\"#Tahoma-3618\"/>\n       <use x=\"167.675781\" xlink:href=\"#Tahoma-3605\"/>\n       <use x=\"229.199219\" xlink:href=\"#Tahoma-3619\"/>\n       <use x=\"272.119141\" xlink:href=\"#Tahoma-3632\"/>\n       <use x=\"316.943359\" xlink:href=\"#Tahoma-3585\"/>\n       <use x=\"376.464844\" xlink:href=\"#Tahoma-3641\"/>\n       <use x=\"376.464844\" xlink:href=\"#Tahoma-3621\"/>\n       <use x=\"438.085938\" xlink:href=\"#Tahoma-32\"/>\n       <use x=\"469.335938\" xlink:href=\"#Tahoma-3624\"/>\n       <use x=\"530.859375\" xlink:href=\"#Tahoma-3636\"/>\n       <use x=\"530.859375\" xlink:href=\"#Tahoma-3621\"/>\n       <use x=\"592.480469\" xlink:href=\"#Tahoma-3611\"/>\n       <use x=\"655.46875\" xlink:href=\"#Tahoma-3629\"/>\n       <use x=\"714.990234\" xlink:href=\"#Tahoma-3634\"/>\n       <use x=\"763.476562\" xlink:href=\"#Tahoma-3594\"/>\n       <use x=\"826.171875\" xlink:href=\"#Tahoma-3634\"/>\n      </g>\n     </g>\n    </g>\n    <g id=\"xtick_32\">\n     <g id=\"line2d_32\">\n      <g>\n       <use style=\"stroke:#000000;stroke-width:0.8;\" x=\"348.27625\" xlink:href=\"#m7042b1a71b\" y=\"224.64\"/>\n      </g>\n     </g>\n     <g id=\"text_32\">\n      <!-- การออกสื่อ + debate -->\n      <g transform=\"translate(351.069219 320.32125)rotate(-90)scale(0.1 -0.1)\">\n       <defs>\n        <path d=\"M 48.640625 0 \nL 39.453125 0 \nL 39.453125 5.5625 \nQ 37.3125 3.765625 35.75 2.59375 \nQ 34.1875 1.421875 32.078125 0.4375 \nQ 30.125 -0.484375 28.015625 -1 \nQ 25.921875 -1.515625 23.140625 -1.515625 \nQ 18.703125 -1.515625 14.921875 0.34375 \nQ 11.140625 2.203125 8.5 5.765625 \nQ 5.8125 9.375 4.34375 14.671875 \nQ 2.875 19.96875 2.875 26.859375 \nQ 2.875 34.03125 4.734375 39.28125 \nQ 6.59375 44.53125 9.859375 48.4375 \nQ 12.84375 52 17.0625 54.03125 \nQ 21.296875 56.0625 25.921875 56.0625 \nQ 30.03125 56.0625 33.046875 55.15625 \nQ 36.078125 54.25 39.453125 52.34375 \nL 39.453125 75.984375 \nL 48.640625 75.984375 \nz\nM 39.453125 13.28125 \nL 39.453125 44.734375 \nQ 36.03125 46.390625 33.3125 47.015625 \nQ 30.609375 47.65625 27.4375 47.65625 \nQ 20.359375 47.65625 16.359375 42.359375 \nQ 12.359375 37.0625 12.359375 27.046875 \nQ 12.359375 17.4375 15.421875 12.328125 \nQ 18.5 7.234375 25.296875 7.234375 \nQ 28.90625 7.234375 32.5625 8.859375 \nQ 36.234375 10.5 39.453125 13.28125 \nz\n\" id=\"Tahoma-100\"/>\n        <path d=\"M 42.921875 27.4375 \nQ 42.921875 37.203125 39.9375 42.25 \nQ 36.96875 47.3125 30.375 47.3125 \nQ 26.609375 47.3125 22.78125 45.546875 \nQ 18.953125 43.796875 15.828125 41.109375 \nL 15.828125 9.859375 \nQ 19.28125 8.15625 21.96875 7.4375 \nQ 24.65625 6.734375 27.875 6.734375 \nQ 34.90625 6.734375 38.90625 11.71875 \nQ 42.921875 16.703125 42.921875 27.4375 \nz\nM 52.390625 28.171875 \nQ 52.390625 14.796875 45.890625 6.640625 \nQ 39.40625 -1.515625 29.640625 -1.515625 \nQ 25.203125 -1.515625 22.046875 -0.40625 \nQ 18.890625 0.6875 15.828125 2.546875 \nL 15.234375 0 \nL 6.640625 0 \nL 6.640625 75.984375 \nL 15.828125 75.984375 \nL 15.828125 48.828125 \nQ 19.28125 51.953125 23.328125 54 \nQ 27.390625 56.0625 32.515625 56.0625 \nQ 41.75 56.0625 47.0625 48.65625 \nQ 52.390625 41.265625 52.390625 28.171875 \nz\n\" id=\"Tahoma-98\"/>\n       </defs>\n       <use xlink:href=\"#Tahoma-3585\"/>\n       <use x=\"59.521484\" xlink:href=\"#Tahoma-3634\"/>\n       <use x=\"108.007812\" xlink:href=\"#Tahoma-3619\"/>\n       <use x=\"150.927734\" xlink:href=\"#Tahoma-3629\"/>\n       <use x=\"210.449219\" xlink:href=\"#Tahoma-3629\"/>\n       <use x=\"269.970703\" xlink:href=\"#Tahoma-3585\"/>\n       <use x=\"329.492188\" xlink:href=\"#Tahoma-3626\"/>\n       <use x=\"390.283203\" xlink:href=\"#Tahoma-3639\"/>\n       <use x=\"390.283203\" xlink:href=\"#Tahoma-3656\"/>\n       <use x=\"390.283203\" xlink:href=\"#Tahoma-3629\"/>\n       <use x=\"449.804688\" xlink:href=\"#Tahoma-32\"/>\n       <use x=\"481.054688\" xlink:href=\"#Tahoma-43\"/>\n       <use x=\"553.808594\" xlink:href=\"#Tahoma-32\"/>\n       <use x=\"585.058594\" xlink:href=\"#Tahoma-100\"/>\n       <use x=\"640.332031\" xlink:href=\"#Tahoma-101\"/>\n       <use x=\"692.96875\" xlink:href=\"#Tahoma-98\"/>\n       <use x=\"748.242188\" xlink:href=\"#Tahoma-97\"/>\n       <use x=\"800.732422\" xlink:href=\"#Tahoma-116\"/>\n       <use x=\"834.179688\" xlink:href=\"#Tahoma-101\"/>\n      </g>\n     </g>\n    </g>\n    <g id=\"xtick_33\">\n     <g id=\"line2d_33\">\n      <g>\n       <use style=\"stroke:#000000;stroke-width:0.8;\" x=\"357.841964\" xlink:href=\"#m7042b1a71b\" y=\"224.64\"/>\n      </g>\n     </g>\n     <g id=\"text_33\">\n      <!-- การปราศรัย + นโยบาย -->\n      <g transform=\"translate(360.634933 325.700938)rotate(-90)scale(0.1 -0.1)\">\n       <use xlink:href=\"#Tahoma-3585\"/>\n       <use x=\"59.521484\" xlink:href=\"#Tahoma-3634\"/>\n       <use x=\"108.007812\" xlink:href=\"#Tahoma-3619\"/>\n       <use x=\"150.927734\" xlink:href=\"#Tahoma-3611\"/>\n       <use x=\"213.916016\" xlink:href=\"#Tahoma-3619\"/>\n       <use x=\"256.835938\" xlink:href=\"#Tahoma-3634\"/>\n       <use x=\"305.322266\" xlink:href=\"#Tahoma-3624\"/>\n       <use x=\"366.845703\" xlink:href=\"#Tahoma-3619\"/>\n       <use x=\"409.765625\" xlink:href=\"#Tahoma-3633\"/>\n       <use x=\"409.765625\" xlink:href=\"#Tahoma-3618\"/>\n       <use x=\"467.675781\" xlink:href=\"#Tahoma-32\"/>\n       <use x=\"498.925781\" xlink:href=\"#Tahoma-43\"/>\n       <use x=\"571.679688\" xlink:href=\"#Tahoma-32\"/>\n       <use x=\"602.929688\" xlink:href=\"#Tahoma-3609\"/>\n       <use x=\"664.111328\" xlink:href=\"#Tahoma-3650\"/>\n       <use x=\"713.330078\" xlink:href=\"#Tahoma-3618\"/>\n       <use x=\"771.240234\" xlink:href=\"#Tahoma-3610\"/>\n       <use x=\"834.228516\" xlink:href=\"#Tahoma-3634\"/>\n       <use x=\"882.714844\" xlink:href=\"#Tahoma-3618\"/>\n      </g>\n     </g>\n    </g>\n    <g id=\"xtick_34\">\n     <g id=\"line2d_34\">\n      <g>\n       <use style=\"stroke:#000000;stroke-width:0.8;\" x=\"367.407679\" xlink:href=\"#m7042b1a71b\" y=\"224.64\"/>\n      </g>\n     </g>\n     <g id=\"text_34\">\n      <!-- update ความนิยมผู้นำพรรค -->\n      <g transform=\"translate(370.217835 344.099375)rotate(-90)scale(0.1 -0.1)\">\n       <defs>\n        <path d=\"M 49.125 0 \nL 39.9375 0 \nL 39.9375 6.0625 \nQ 35.6875 2.34375 31.875 0.40625 \nQ 28.078125 -1.515625 23.390625 -1.515625 \nQ 19.828125 -1.515625 16.671875 -0.34375 \nQ 13.53125 0.828125 11.1875 3.375 \nQ 8.84375 5.90625 7.546875 9.765625 \nQ 6.25 13.625 6.25 19.140625 \nL 6.25 54.546875 \nL 15.4375 54.546875 \nL 15.4375 23.484375 \nQ 15.4375 19.140625 15.75 16.28125 \nQ 16.0625 13.421875 17.1875 11.28125 \nQ 18.3125 9.1875 20.234375 8.203125 \nQ 22.171875 7.234375 25.78125 7.234375 \nQ 29.15625 7.234375 32.953125 9.125 \nQ 36.765625 11.03125 39.9375 13.8125 \nL 39.9375 54.546875 \nL 49.125 54.546875 \nz\n\" id=\"Tahoma-117\"/>\n       </defs>\n       <use xlink:href=\"#Tahoma-117\"/>\n       <use x=\"55.761719\" xlink:href=\"#Tahoma-112\"/>\n       <use x=\"111.035156\" xlink:href=\"#Tahoma-100\"/>\n       <use x=\"166.308594\" xlink:href=\"#Tahoma-97\"/>\n       <use x=\"218.798828\" xlink:href=\"#Tahoma-116\"/>\n       <use x=\"252.246094\" xlink:href=\"#Tahoma-101\"/>\n       <use x=\"304.882812\" xlink:href=\"#Tahoma-32\"/>\n       <use x=\"336.132812\" xlink:href=\"#Tahoma-3588\"/>\n       <use x=\"397.65625\" xlink:href=\"#Tahoma-3623\"/>\n       <use x=\"446.142578\" xlink:href=\"#Tahoma-3634\"/>\n       <use x=\"494.628906\" xlink:href=\"#Tahoma-3617\"/>\n       <use x=\"554.541016\" xlink:href=\"#Tahoma-3609\"/>\n       <use x=\"615.722656\" xlink:href=\"#Tahoma-3636\"/>\n       <use x=\"615.722656\" xlink:href=\"#Tahoma-3618\"/>\n       <use x=\"673.632812\" xlink:href=\"#Tahoma-3617\"/>\n       <use x=\"733.544922\" xlink:href=\"#Tahoma-3612\"/>\n       <use x=\"796.728516\" xlink:href=\"#Tahoma-3641\"/>\n       <use x=\"796.728516\" xlink:href=\"#Tahoma-3657\"/>\n       <use x=\"796.728516\" xlink:href=\"#Tahoma-3609\"/>\n       <use x=\"857.910156\" xlink:href=\"#Tahoma-3635\"/>\n       <use x=\"906.396484\" xlink:href=\"#Tahoma-3614\"/>\n       <use x=\"977.197266\" xlink:href=\"#Tahoma-3619\"/>\n       <use x=\"1020.117188\" xlink:href=\"#Tahoma-3619\"/>\n       <use x=\"1063.037109\" xlink:href=\"#Tahoma-3588\"/>\n      </g>\n     </g>\n    </g>\n    <g id=\"xtick_35\">\n     <g id=\"line2d_35\">\n      <g>\n       <use style=\"stroke:#000000;stroke-width:0.8;\" x=\"376.973393\" xlink:href=\"#m7042b1a71b\" y=\"224.64\"/>\n      </g>\n     </g>\n     <g id=\"text_35\">\n      <!-- update ความเคลื่อนไหวของพรรค -->\n      <g transform=\"translate(379.992924 370.282187)rotate(-90)scale(0.1 -0.1)\">\n       <defs>\n        <path d=\"M 35.109375 17.09375 \nQ 36.625 17.671875 38.625 17.671875 \nQ 42.4375 17.671875 45.171875 14.984375 \nQ 47.90625 12.3125 47.90625 8.5 \nQ 47.90625 4.6875 45.140625 1.953125 \nQ 42.390625 -0.78125 38.625 -0.78125 \nQ 32.8125 -0.78125 29.34375 2.734375 \nQ 25.875 6.25 25.875 12.3125 \nL 25.875 66.796875 \nQ 25.875 72.21875 24.125 72.21875 \nQ 23.390625 72.21875 22.84375 71.109375 \nQ 22.3125 70.015625 21.484375 65.4375 \nQ 19.96875 56.9375 17.984375 54.3125 \nQ 16.015625 51.703125 13.1875 51.703125 \nQ 10.5 51.703125 8.6875 54.09375 \nQ 6.890625 56.5 5.765625 64.65625 \nQ 5.078125 69.578125 4.4375 70.796875 \nQ 3.8125 72.015625 2.875 72.015625 \nL 1.703125 72.015625 \nL 1.703125 80.515625 \nL 2.984375 80.515625 \nQ 6.34375 80.515625 8.484375 77.53125 \nQ 10.640625 74.5625 11.671875 65.375 \nQ 12.3125 60.015625 13.1875 60.015625 \nQ 14.109375 60.015625 14.890625 65.328125 \nQ 16.265625 74.515625 18.65625 77.515625 \nQ 21.046875 80.515625 24.609375 80.515625 \nQ 29.296875 80.515625 32.203125 76.84375 \nQ 35.109375 73.1875 35.109375 67 \nz\nM 38.625 4.6875 \nQ 40.140625 4.6875 41.203125 5.78125 \nQ 42.28125 6.890625 42.28125 8.5 \nQ 42.28125 9.96875 41.1875 11.03125 \nQ 40.09375 12.109375 38.625 12.109375 \nQ 37.109375 12.109375 36 11.03125 \nQ 34.90625 9.96875 34.90625 8.5 \nQ 34.90625 6.890625 35.984375 5.78125 \nQ 37.0625 4.6875 38.625 4.6875 \nz\n\" id=\"Tahoma-3652\"/>\n       </defs>\n       <use xlink:href=\"#Tahoma-117\"/>\n       <use x=\"55.761719\" xlink:href=\"#Tahoma-112\"/>\n       <use x=\"111.035156\" xlink:href=\"#Tahoma-100\"/>\n       <use x=\"166.308594\" xlink:href=\"#Tahoma-97\"/>\n       <use x=\"218.798828\" xlink:href=\"#Tahoma-116\"/>\n       <use x=\"252.246094\" xlink:href=\"#Tahoma-101\"/>\n       <use x=\"304.882812\" xlink:href=\"#Tahoma-32\"/>\n       <use x=\"336.132812\" xlink:href=\"#Tahoma-3588\"/>\n       <use x=\"397.65625\" xlink:href=\"#Tahoma-3623\"/>\n       <use x=\"446.142578\" xlink:href=\"#Tahoma-3634\"/>\n       <use x=\"494.628906\" xlink:href=\"#Tahoma-3617\"/>\n       <use x=\"554.541016\" xlink:href=\"#Tahoma-3648\"/>\n       <use x=\"587.744141\" xlink:href=\"#Tahoma-3588\"/>\n       <use x=\"649.267578\" xlink:href=\"#Tahoma-3621\"/>\n       <use x=\"710.888672\" xlink:href=\"#Tahoma-3639\"/>\n       <use x=\"710.888672\" xlink:href=\"#Tahoma-3656\"/>\n       <use x=\"710.888672\" xlink:href=\"#Tahoma-3629\"/>\n       <use x=\"770.410156\" xlink:href=\"#Tahoma-3609\"/>\n       <use x=\"831.591797\" xlink:href=\"#Tahoma-3652\"/>\n       <use x=\"882.714844\" xlink:href=\"#Tahoma-3627\"/>\n       <use x=\"949.707031\" xlink:href=\"#Tahoma-3623\"/>\n       <use x=\"998.193359\" xlink:href=\"#Tahoma-3586\"/>\n       <use x=\"1059.472656\" xlink:href=\"#Tahoma-3629\"/>\n       <use x=\"1118.994141\" xlink:href=\"#Tahoma-3591\"/>\n       <use x=\"1168.212891\" xlink:href=\"#Tahoma-3614\"/>\n       <use x=\"1239.013672\" xlink:href=\"#Tahoma-3619\"/>\n       <use x=\"1281.933594\" xlink:href=\"#Tahoma-3619\"/>\n       <use x=\"1324.853516\" xlink:href=\"#Tahoma-3588\"/>\n      </g>\n     </g>\n    </g>\n    <g id=\"text_36\">\n     <!-- topic -->\n     <g transform=\"translate(203.754688 534.372813)scale(0.1 -0.1)\">\n      <use xlink:href=\"#Tahoma-116\"/>\n      <use x=\"33.447266\" xlink:href=\"#Tahoma-111\"/>\n      <use x=\"87.744141\" xlink:href=\"#Tahoma-112\"/>\n      <use x=\"143.017578\" xlink:href=\"#Tahoma-105\"/>\n      <use x=\"165.869141\" xlink:href=\"#Tahoma-99\"/>\n     </g>\n    </g>\n   </g>\n   <g id=\"matplotlib.axis_2\">\n    <g id=\"ytick_1\">\n     <g id=\"line2d_36\">\n      <defs>\n       <path d=\"M 0 0 \nL -3.5 0 \n\" id=\"me37bd76787\" style=\"stroke:#000000;stroke-width:0.8;\"/>\n      </defs>\n      <g>\n       <use style=\"stroke:#000000;stroke-width:0.8;\" x=\"46.95625\" xlink:href=\"#me37bd76787\" y=\"224.64\"/>\n      </g>\n     </g>\n     <g id=\"text_37\">\n      <!-- 0 -->\n      <g transform=\"translate(34.496875 228.439219)scale(0.1 -0.1)\">\n       <defs>\n        <path d=\"M 50.53125 36.375 \nQ 50.53125 16.796875 44.84375 7.640625 \nQ 39.15625 -1.515625 27.296875 -1.515625 \nQ 15.28125 -1.515625 9.65625 7.8125 \nQ 4.046875 17.140625 4.046875 36.28125 \nQ 4.046875 55.953125 9.734375 65.0625 \nQ 15.4375 74.171875 27.296875 74.171875 \nQ 39.3125 74.171875 44.921875 64.75 \nQ 50.53125 55.328125 50.53125 36.375 \nz\nM 38.03125 14.203125 \nQ 39.453125 17.828125 40.03125 23.34375 \nQ 40.625 28.859375 40.625 36.375 \nQ 40.625 43.84375 40.03125 49.359375 \nQ 39.453125 54.890625 37.984375 58.546875 \nQ 36.53125 62.25 33.953125 64.171875 \nQ 31.390625 66.109375 27.296875 66.109375 \nQ 23.25 66.109375 20.625 64.171875 \nQ 18.015625 62.25 16.5 58.453125 \nQ 15.046875 54.734375 14.5 49.0625 \nQ 13.96875 43.40625 13.96875 36.28125 \nQ 13.96875 28.65625 14.421875 23.53125 \nQ 14.890625 18.40625 16.453125 14.359375 \nQ 17.875 10.59375 20.484375 8.5625 \nQ 23.09375 6.546875 27.296875 6.546875 \nQ 31.34375 6.546875 33.953125 8.46875 \nQ 36.578125 10.40625 38.03125 14.203125 \nz\n\" id=\"Tahoma-48\"/>\n       </defs>\n       <use xlink:href=\"#Tahoma-48\"/>\n      </g>\n     </g>\n    </g>\n    <g id=\"ytick_2\">\n     <g id=\"line2d_37\">\n      <g>\n       <use style=\"stroke:#000000;stroke-width:0.8;\" x=\"46.95625\" xlink:href=\"#me37bd76787\" y=\"199.062811\"/>\n      </g>\n     </g>\n     <g id=\"text_38\">\n      <!-- 50000 -->\n      <g transform=\"translate(12.659375 202.862029)scale(0.1 -0.1)\">\n       <defs>\n        <path d=\"M 49.359375 23.140625 \nQ 49.359375 17.875 47.671875 13.375 \nQ 46 8.890625 42.96875 5.609375 \nQ 39.890625 2.296875 35.328125 0.390625 \nQ 30.765625 -1.515625 25.09375 -1.515625 \nQ 19.875 -1.515625 14.8125 -0.359375 \nQ 9.765625 0.78125 6.0625 2.640625 \nL 6.0625 12.9375 \nL 6.734375 12.9375 \nQ 7.859375 12.109375 9.953125 11.0625 \nQ 12.0625 10.015625 14.59375 9.078125 \nQ 17.484375 8.0625 19.875 7.5 \nQ 22.265625 6.9375 25.25 6.9375 \nQ 28.171875 6.9375 30.953125 7.984375 \nQ 33.734375 9.03125 35.75 11.375 \nQ 37.546875 13.53125 38.5 16.40625 \nQ 39.453125 19.28125 39.453125 23.1875 \nQ 39.453125 27.046875 38.40625 29.53125 \nQ 37.359375 32.03125 35.359375 33.640625 \nQ 33.25 35.5 30.203125 36.25 \nQ 27.15625 37.015625 23.390625 37.015625 \nQ 19.4375 37.015625 15.421875 36.40625 \nQ 11.421875 35.796875 9.03125 35.25 \nL 9.03125 72.703125 \nL 48.921875 72.703125 \nL 48.921875 64.15625 \nL 18.453125 64.15625 \nL 18.453125 44.828125 \nQ 20.21875 45.015625 21.921875 45.109375 \nQ 23.640625 45.21875 25.046875 45.21875 \nQ 30.609375 45.21875 34.46875 44.28125 \nQ 38.328125 43.359375 41.890625 40.671875 \nQ 45.515625 37.9375 47.4375 33.828125 \nQ 49.359375 29.734375 49.359375 23.140625 \nz\n\" id=\"Tahoma-53\"/>\n       </defs>\n       <use xlink:href=\"#Tahoma-53\"/>\n       <use x=\"54.589844\" xlink:href=\"#Tahoma-48\"/>\n       <use x=\"109.179688\" xlink:href=\"#Tahoma-48\"/>\n       <use x=\"163.769531\" xlink:href=\"#Tahoma-48\"/>\n       <use x=\"218.359375\" xlink:href=\"#Tahoma-48\"/>\n      </g>\n     </g>\n    </g>\n    <g id=\"ytick_3\">\n     <g id=\"line2d_38\">\n      <g>\n       <use style=\"stroke:#000000;stroke-width:0.8;\" x=\"46.95625\" xlink:href=\"#me37bd76787\" y=\"173.485621\"/>\n      </g>\n     </g>\n     <g id=\"text_39\">\n      <!-- 100000 -->\n      <g transform=\"translate(7.2 177.28484)scale(0.1 -0.1)\">\n       <defs>\n        <path d=\"M 46.484375 0 \nL 11.03125 0 \nL 11.03125 7.421875 \nL 24.21875 7.421875 \nL 24.21875 56.15625 \nL 11.03125 56.15625 \nL 11.03125 62.796875 \nQ 18.5 62.796875 22.046875 64.921875 \nQ 25.59375 67.046875 26.03125 72.953125 \nL 33.59375 72.953125 \nL 33.59375 7.421875 \nL 46.484375 7.421875 \nz\n\" id=\"Tahoma-49\"/>\n       </defs>\n       <use xlink:href=\"#Tahoma-49\"/>\n       <use x=\"54.589844\" xlink:href=\"#Tahoma-48\"/>\n       <use x=\"109.179688\" xlink:href=\"#Tahoma-48\"/>\n       <use x=\"163.769531\" xlink:href=\"#Tahoma-48\"/>\n       <use x=\"218.359375\" xlink:href=\"#Tahoma-48\"/>\n       <use x=\"272.949219\" xlink:href=\"#Tahoma-48\"/>\n      </g>\n     </g>\n    </g>\n    <g id=\"ytick_4\">\n     <g id=\"line2d_39\">\n      <g>\n       <use style=\"stroke:#000000;stroke-width:0.8;\" x=\"46.95625\" xlink:href=\"#me37bd76787\" y=\"147.908432\"/>\n      </g>\n     </g>\n     <g id=\"text_40\">\n      <!-- 150000 -->\n      <g transform=\"translate(7.2 151.70765)scale(0.1 -0.1)\">\n       <use xlink:href=\"#Tahoma-49\"/>\n       <use x=\"54.589844\" xlink:href=\"#Tahoma-53\"/>\n       <use x=\"109.179688\" xlink:href=\"#Tahoma-48\"/>\n       <use x=\"163.769531\" xlink:href=\"#Tahoma-48\"/>\n       <use x=\"218.359375\" xlink:href=\"#Tahoma-48\"/>\n       <use x=\"272.949219\" xlink:href=\"#Tahoma-48\"/>\n      </g>\n     </g>\n    </g>\n    <g id=\"ytick_5\">\n     <g id=\"line2d_40\">\n      <g>\n       <use style=\"stroke:#000000;stroke-width:0.8;\" x=\"46.95625\" xlink:href=\"#me37bd76787\" y=\"122.331242\"/>\n      </g>\n     </g>\n     <g id=\"text_41\">\n      <!-- 200000 -->\n      <g transform=\"translate(7.2 126.130461)scale(0.1 -0.1)\">\n       <defs>\n        <path d=\"M 50.203125 0 \nL 5.328125 0 \nL 5.328125 10.203125 \nQ 10.15625 14.796875 14.453125 18.984375 \nQ 18.75 23.1875 22.859375 27.734375 \nQ 31.15625 36.859375 34.171875 42.359375 \nQ 37.203125 47.859375 37.203125 53.71875 \nQ 37.203125 56.734375 36.25 59.03125 \nQ 35.296875 61.328125 33.640625 62.84375 \nQ 31.9375 64.3125 29.6875 65.03125 \nQ 27.4375 65.765625 24.75 65.765625 \nQ 22.171875 65.765625 19.5 65.109375 \nQ 16.84375 64.453125 14.40625 63.484375 \nQ 12.359375 62.640625 10.453125 61.46875 \nQ 8.546875 60.296875 7.375 59.46875 \nL 6.84375 59.46875 \nL 6.84375 69.828125 \nQ 9.859375 71.34375 15.25 72.78125 \nQ 20.65625 74.21875 25.484375 74.21875 \nQ 35.640625 74.21875 41.40625 68.8125 \nQ 47.171875 63.421875 47.171875 54.203125 \nQ 47.171875 49.953125 46.171875 46.328125 \nQ 45.171875 42.71875 43.40625 39.65625 \nQ 41.609375 36.46875 39.0625 33.34375 \nQ 36.53125 30.21875 33.6875 27.203125 \nQ 29.109375 22.21875 23.46875 16.84375 \nQ 17.828125 11.46875 14.453125 8.34375 \nL 50.203125 8.34375 \nz\n\" id=\"Tahoma-50\"/>\n       </defs>\n       <use xlink:href=\"#Tahoma-50\"/>\n       <use x=\"54.589844\" xlink:href=\"#Tahoma-48\"/>\n       <use x=\"109.179688\" xlink:href=\"#Tahoma-48\"/>\n       <use x=\"163.769531\" xlink:href=\"#Tahoma-48\"/>\n       <use x=\"218.359375\" xlink:href=\"#Tahoma-48\"/>\n       <use x=\"272.949219\" xlink:href=\"#Tahoma-48\"/>\n      </g>\n     </g>\n    </g>\n    <g id=\"ytick_6\">\n     <g id=\"line2d_41\">\n      <g>\n       <use style=\"stroke:#000000;stroke-width:0.8;\" x=\"46.95625\" xlink:href=\"#me37bd76787\" y=\"96.754053\"/>\n      </g>\n     </g>\n     <g id=\"text_42\">\n      <!-- 250000 -->\n      <g transform=\"translate(7.2 100.553272)scale(0.1 -0.1)\">\n       <use xlink:href=\"#Tahoma-50\"/>\n       <use x=\"54.589844\" xlink:href=\"#Tahoma-53\"/>\n       <use x=\"109.179688\" xlink:href=\"#Tahoma-48\"/>\n       <use x=\"163.769531\" xlink:href=\"#Tahoma-48\"/>\n       <use x=\"218.359375\" xlink:href=\"#Tahoma-48\"/>\n       <use x=\"272.949219\" xlink:href=\"#Tahoma-48\"/>\n      </g>\n     </g>\n    </g>\n    <g id=\"ytick_7\">\n     <g id=\"line2d_42\">\n      <g>\n       <use style=\"stroke:#000000;stroke-width:0.8;\" x=\"46.95625\" xlink:href=\"#me37bd76787\" y=\"71.176863\"/>\n      </g>\n     </g>\n     <g id=\"text_43\">\n      <!-- 300000 -->\n      <g transform=\"translate(7.2 74.976082)scale(0.1 -0.1)\">\n       <defs>\n        <path d=\"M 24.953125 65.765625 \nQ 22.3125 65.765625 19.671875 65.125 \nQ 17.046875 64.5 14.5 63.484375 \nQ 12.15625 62.5 10.421875 61.421875 \nQ 8.6875 60.359375 7.328125 59.421875 \nL 6.734375 59.421875 \nL 6.734375 69.734375 \nQ 9.90625 71.4375 15.34375 72.828125 \nQ 20.796875 74.21875 25.734375 74.21875 \nQ 30.671875 74.21875 34.34375 73.21875 \nQ 38.03125 72.21875 41.015625 70.125 \nQ 44.234375 67.78125 45.875 64.453125 \nQ 47.515625 61.140625 47.515625 56.6875 \nQ 47.515625 50.6875 43.546875 46.140625 \nQ 39.59375 41.609375 34.078125 40.375 \nL 34.078125 39.703125 \nQ 36.375 39.265625 38.984375 38.1875 \nQ 41.609375 37.109375 43.84375 35.015625 \nQ 46.09375 32.90625 47.5 29.609375 \nQ 48.921875 26.3125 48.921875 21.578125 \nQ 48.921875 16.65625 47.234375 12.53125 \nQ 45.5625 8.40625 42.484375 5.21875 \nQ 39.3125 1.90625 34.8125 0.1875 \nQ 30.328125 -1.515625 24.609375 -1.515625 \nQ 19.140625 -1.515625 13.765625 -0.1875 \nQ 8.40625 1.125 4.734375 2.984375 \nL 4.734375 13.28125 \nL 5.421875 13.28125 \nQ 8.5 11.03125 13.671875 8.984375 \nQ 18.84375 6.9375 24.03125 6.9375 \nQ 27 6.9375 30 7.890625 \nQ 33.015625 8.84375 35.015625 10.984375 \nQ 36.96875 13.140625 37.984375 15.71875 \nQ 39.015625 18.3125 39.015625 22.265625 \nQ 39.015625 26.21875 37.859375 28.75 \nQ 36.71875 31.296875 34.671875 32.765625 \nQ 32.625 34.234375 29.8125 34.796875 \nQ 27 35.359375 23.734375 35.359375 \nL 19.578125 35.359375 \nL 19.578125 43.453125 \nL 22.796875 43.453125 \nQ 29.390625 43.453125 33.515625 46.578125 \nQ 37.640625 49.703125 37.640625 55.671875 \nQ 37.640625 58.40625 36.5625 60.375 \nQ 35.5 62.359375 33.84375 63.53125 \nQ 31.984375 64.796875 29.734375 65.28125 \nQ 27.484375 65.765625 24.953125 65.765625 \nz\n\" id=\"Tahoma-51\"/>\n       </defs>\n       <use xlink:href=\"#Tahoma-51\"/>\n       <use x=\"54.589844\" xlink:href=\"#Tahoma-48\"/>\n       <use x=\"109.179688\" xlink:href=\"#Tahoma-48\"/>\n       <use x=\"163.769531\" xlink:href=\"#Tahoma-48\"/>\n       <use x=\"218.359375\" xlink:href=\"#Tahoma-48\"/>\n       <use x=\"272.949219\" xlink:href=\"#Tahoma-48\"/>\n      </g>\n     </g>\n    </g>\n    <g id=\"ytick_8\">\n     <g id=\"line2d_43\">\n      <g>\n       <use style=\"stroke:#000000;stroke-width:0.8;\" x=\"46.95625\" xlink:href=\"#me37bd76787\" y=\"45.599674\"/>\n      </g>\n     </g>\n     <g id=\"text_44\">\n      <!-- 350000 -->\n      <g transform=\"translate(7.2 49.398893)scale(0.1 -0.1)\">\n       <use xlink:href=\"#Tahoma-51\"/>\n       <use x=\"54.589844\" xlink:href=\"#Tahoma-53\"/>\n       <use x=\"109.179688\" xlink:href=\"#Tahoma-48\"/>\n       <use x=\"163.769531\" xlink:href=\"#Tahoma-48\"/>\n       <use x=\"218.359375\" xlink:href=\"#Tahoma-48\"/>\n       <use x=\"272.949219\" xlink:href=\"#Tahoma-48\"/>\n      </g>\n     </g>\n    </g>\n    <g id=\"ytick_9\">\n     <g id=\"line2d_44\">\n      <g>\n       <use style=\"stroke:#000000;stroke-width:0.8;\" x=\"46.95625\" xlink:href=\"#me37bd76787\" y=\"20.022484\"/>\n      </g>\n     </g>\n     <g id=\"text_45\">\n      <!-- 400000 -->\n      <g transform=\"translate(7.2 23.821703)scale(0.1 -0.1)\">\n       <defs>\n        <path d=\"M 52.09375 25 \nL 43.453125 25 \nL 43.453125 0 \nL 34.078125 0 \nL 34.078125 25 \nL 1.953125 25 \nL 1.953125 35.25 \nL 34.46875 72.703125 \nL 43.453125 72.703125 \nL 43.453125 32.8125 \nL 52.09375 32.8125 \nz\nM 34.078125 32.8125 \nL 34.078125 61.234375 \nL 9.578125 32.8125 \nz\n\" id=\"Tahoma-52\"/>\n       </defs>\n       <use xlink:href=\"#Tahoma-52\"/>\n       <use x=\"54.589844\" xlink:href=\"#Tahoma-48\"/>\n       <use x=\"109.179688\" xlink:href=\"#Tahoma-48\"/>\n       <use x=\"163.769531\" xlink:href=\"#Tahoma-48\"/>\n       <use x=\"218.359375\" xlink:href=\"#Tahoma-48\"/>\n       <use x=\"272.949219\" xlink:href=\"#Tahoma-48\"/>\n      </g>\n     </g>\n    </g>\n   </g>\n   <g id=\"patch_108\">\n    <path d=\"M 46.95625 224.64 \nL 46.95625 7.2 \n\" style=\"fill:none;stroke:#000000;stroke-linecap:square;stroke-linejoin:miter;stroke-width:0.8;\"/>\n   </g>\n   <g id=\"patch_109\">\n    <path d=\"M 381.75625 224.64 \nL 381.75625 7.2 \n\" style=\"fill:none;stroke:#000000;stroke-linecap:square;stroke-linejoin:miter;stroke-width:0.8;\"/>\n   </g>\n   <g id=\"patch_110\">\n    <path d=\"M 46.95625 224.64 \nL 381.75625 224.64 \n\" style=\"fill:none;stroke:#000000;stroke-linecap:square;stroke-linejoin:miter;stroke-width:0.8;\"/>\n   </g>\n   <g id=\"patch_111\">\n    <path d=\"M 46.95625 7.2 \nL 381.75625 7.2 \n\" style=\"fill:none;stroke:#000000;stroke-linecap:square;stroke-linejoin:miter;stroke-width:0.8;\"/>\n   </g>\n   <g id=\"legend_1\">\n    <g id=\"patch_112\">\n     <path d=\"M 296.440625 59.192187 \nL 374.75625 59.192187 \nQ 376.75625 59.192187 376.75625 57.192187 \nL 376.75625 14.2 \nQ 376.75625 12.2 374.75625 12.2 \nL 296.440625 12.2 \nQ 294.440625 12.2 294.440625 14.2 \nL 294.440625 57.192187 \nQ 294.440625 59.192187 296.440625 59.192187 \nz\n\" style=\"fill:#ffffff;opacity:0.8;stroke:#cccccc;stroke-linejoin:miter;\"/>\n    </g>\n    <g id=\"patch_113\">\n     <path d=\"M 298.440625 23.798437 \nL 318.440625 23.798437 \nL 318.440625 16.798437 \nL 298.440625 16.798437 \nz\n\" style=\"fill:#1f77b4;\"/>\n    </g>\n    <g id=\"text_46\">\n     <!-- eng_sum -->\n     <g transform=\"translate(326.440625 23.798437)scale(0.1 -0.1)\">\n      <defs>\n       <path d=\"M 55.375 -14.65625 \nL -0.78125 -14.65625 \nL -0.78125 -8.296875 \nL 55.375 -8.296875 \nz\n\" id=\"Tahoma-95\"/>\n       <path d=\"M 21.390625 -1.3125 \nQ 15.921875 -1.3125 11.15625 0.140625 \nQ 6.390625 1.609375 3.265625 3.265625 \nL 3.265625 13.578125 \nL 3.765625 13.578125 \nQ 4.9375 12.640625 6.515625 11.515625 \nQ 8.109375 10.40625 10.75 9.1875 \nQ 13.09375 8.109375 15.890625 7.28125 \nQ 18.703125 6.453125 21.734375 6.453125 \nQ 23.921875 6.453125 26.40625 6.953125 \nQ 28.90625 7.46875 30.125 8.25 \nQ 31.84375 9.375 32.59375 10.640625 \nQ 33.34375 11.921875 33.34375 14.453125 \nQ 33.34375 17.71875 31.5625 19.375 \nQ 29.78125 21.046875 25.25 22.171875 \nQ 23.484375 22.609375 20.65625 23.1875 \nQ 17.828125 23.78125 15.4375 24.46875 \nQ 9.1875 26.265625 6.34375 30.046875 \nQ 3.515625 33.84375 3.515625 39.203125 \nQ 3.515625 46.578125 9.078125 51.21875 \nQ 14.65625 55.859375 23.875 55.859375 \nQ 28.421875 55.859375 33 54.734375 \nQ 37.59375 53.609375 40.71875 51.90625 \nL 40.71875 42.09375 \nL 40.234375 42.09375 \nQ 36.71875 44.875 32.390625 46.484375 \nQ 28.078125 48.09375 23.6875 48.09375 \nQ 19.140625 48.09375 16.015625 46.1875 \nQ 12.890625 44.28125 12.890625 40.4375 \nQ 12.890625 37.015625 14.75 35.328125 \nQ 16.609375 33.640625 20.703125 32.5625 \nQ 22.75 32.03125 25.265625 31.515625 \nQ 27.78125 31 30.5625 30.328125 \nQ 36.625 28.8125 39.671875 25.296875 \nQ 42.71875 21.78125 42.71875 15.71875 \nQ 42.71875 12.203125 41.328125 9.046875 \nQ 39.9375 5.90625 37.25 3.65625 \nQ 34.328125 1.21875 30.640625 -0.046875 \nQ 26.953125 -1.3125 21.390625 -1.3125 \nz\n\" id=\"Tahoma-115\"/>\n      </defs>\n      <use xlink:href=\"#Tahoma-101\"/>\n      <use x=\"52.636719\" xlink:href=\"#Tahoma-110\"/>\n      <use x=\"108.398438\" xlink:href=\"#Tahoma-103\"/>\n      <use x=\"163.671875\" xlink:href=\"#Tahoma-95\"/>\n      <use x=\"218.261719\" xlink:href=\"#Tahoma-115\"/>\n      <use x=\"262.890625\" xlink:href=\"#Tahoma-117\"/>\n      <use x=\"318.652344\" xlink:href=\"#Tahoma-109\"/>\n     </g>\n    </g>\n    <g id=\"patch_114\">\n     <path d=\"M 298.440625 38.4625 \nL 318.440625 38.4625 \nL 318.440625 31.4625 \nL 298.440625 31.4625 \nz\n\" style=\"fill:#ff7f0e;\"/>\n    </g>\n    <g id=\"text_47\">\n     <!-- eng_max -->\n     <g transform=\"translate(326.440625 38.4625)scale(0.1 -0.1)\">\n      <defs>\n       <path d=\"M 49.03125 0 \nL 37.75 0 \nL 24.515625 20.609375 \nL 10.890625 0 \nL 0.484375 0 \nL 19.4375 27.046875 \nL 0.6875 54.546875 \nL 11.96875 54.546875 \nL 25.09375 34.125 \nL 38.578125 54.546875 \nL 49.03125 54.546875 \nL 30.171875 27.6875 \nz\n\" id=\"Tahoma-120\"/>\n      </defs>\n      <use xlink:href=\"#Tahoma-101\"/>\n      <use x=\"52.636719\" xlink:href=\"#Tahoma-110\"/>\n      <use x=\"108.398438\" xlink:href=\"#Tahoma-103\"/>\n      <use x=\"163.671875\" xlink:href=\"#Tahoma-95\"/>\n      <use x=\"218.261719\" xlink:href=\"#Tahoma-109\"/>\n      <use x=\"302.246094\" xlink:href=\"#Tahoma-97\"/>\n      <use x=\"354.736328\" xlink:href=\"#Tahoma-120\"/>\n     </g>\n    </g>\n    <g id=\"patch_115\">\n     <path d=\"M 298.440625 53.126562 \nL 318.440625 53.126562 \nL 318.440625 46.126562 \nL 298.440625 46.126562 \nz\n\" style=\"fill:#2ca02c;\"/>\n    </g>\n    <g id=\"text_48\">\n     <!-- eng_mean -->\n     <g transform=\"translate(326.440625 53.126562)scale(0.1 -0.1)\">\n      <use xlink:href=\"#Tahoma-101\"/>\n      <use x=\"52.636719\" xlink:href=\"#Tahoma-110\"/>\n      <use x=\"108.398438\" xlink:href=\"#Tahoma-103\"/>\n      <use x=\"163.671875\" xlink:href=\"#Tahoma-95\"/>\n      <use x=\"218.261719\" xlink:href=\"#Tahoma-109\"/>\n      <use x=\"302.246094\" xlink:href=\"#Tahoma-101\"/>\n      <use x=\"354.882812\" xlink:href=\"#Tahoma-97\"/>\n      <use x=\"407.373047\" xlink:href=\"#Tahoma-110\"/>\n     </g>\n    </g>\n   </g>\n  </g>\n </g>\n <defs>\n  <clipPath id=\"pf20b8f04f7\">\n   <rect height=\"217.44\" width=\"334.8\" x=\"46.95625\" y=\"7.2\"/>\n  </clipPath>\n </defs>\n</svg>\n",
      "image/png": "[encoded data removed]"
     },
     "metadata": {
      "needs_background": "light"
     }
    }
   ],
   "source": [
    "q.plot(x=\"topic\", y=[\"eng_sum\", \"eng_max\", \"eng_mean\"], kind=\"bar\")"
   ]
  },
  {
   "cell_type": "code",
   "execution_count": 19,
   "metadata": {},
   "outputs": [],
   "source": [
    " def corr(data):\n",
    "    # calculate the correlation matrix\n",
    "    correlations = data.corr()\n",
    "\n",
    "    # plot the correlation matrix\n",
    "    plt.figure(figsize=(10,10))\n",
    "    sns.heatmap(correlations,\n",
    "        cmap='RdBu',\n",
    "        vmin=-1,\n",
    "        vmax=1,\n",
    "        square = True,\n",
    "        cbar_kws={'label':'correlation'})\n",
    "    plt.show()"
   ]
  },
  {
   "cell_type": "code",
   "execution_count": 20,
   "metadata": {},
   "outputs": [
    {
     "output_type": "display_data",
     "data": {
      "text/plain": "<Figure size 720x720 with 2 Axes>",
      "image/svg+xml": "<?xml version=\"1.0\" encoding=\"utf-8\" standalone=\"no\"?>\n<!DOCTYPE svg PUBLIC \"-//W3C//DTD SVG 1.1//EN\"\n  \"http://www.w3.org/Graphics/SVG/1.1/DTD/svg11.dtd\">\n<!-- Created with matplotlib (https://matplotlib.org/) -->\n<svg height=\"567.610937pt\" version=\"1.1\" viewBox=\"0 0 579.783125 567.610937\" width=\"579.783125pt\" xmlns=\"http://www.w3.org/2000/svg\" xmlns:xlink=\"http://www.w3.org/1999/xlink\">\n <metadata>\n  <rdf:RDF xmlns:cc=\"http://creativecommons.org/ns#\" xmlns:dc=\"http://purl.org/dc/elements/1.1/\" xmlns:rdf=\"http://www.w3.org/1999/02/22-rdf-syntax-ns#\">\n   <cc:Work>\n    <dc:type rdf:resource=\"http://purl.org/dc/dcmitype/StillImage\"/>\n    <dc:date>2021-07-08T02:14:42.546617</dc:date>\n    <dc:format>image/svg+xml</dc:format>\n    <dc:creator>\n     <cc:Agent>\n      <dc:title>Matplotlib v3.3.3, https://matplotlib.org/</dc:title>\n     </cc:Agent>\n    </dc:creator>\n   </cc:Work>\n  </rdf:RDF>\n </metadata>\n <defs>\n  <style type=\"text/css\">*{stroke-linecap:butt;stroke-linejoin:round;}</style>\n </defs>\n <g id=\"figure_1\">\n  <g id=\"patch_1\">\n   <path d=\"M 0 567.610937 \nL 579.783125 567.610937 \nL 579.783125 -0 \nL 0 -0 \nz\n\" style=\"fill:none;\"/>\n  </g>\n  <g id=\"axes_1\">\n   <g id=\"patch_2\">\n    <path d=\"M 23.810938 505.999219 \nL 470.210938 505.999219 \nL 470.210938 59.599219 \nL 23.810938 59.599219 \nz\n\" style=\"fill:#ffffff;\"/>\n   </g>\n   <g id=\"QuadMesh_1\">\n    <path clip-path=\"url(#p72d4a8717b)\" d=\"M 23.810938 59.599219 \nL 135.410938 59.599219 \nL 135.410938 171.199219 \nL 23.810938 171.199219 \nL 23.810938 59.599219 \n\" style=\"fill:#053061;\"/>\n    <path clip-path=\"url(#p72d4a8717b)\" d=\"M 135.410938 59.599219 \nL 247.010938 59.599219 \nL 247.010938 171.199219 \nL 135.410938 171.199219 \nL 135.410938 59.599219 \n\" style=\"fill:#a0cce2;\"/>\n    <path clip-path=\"url(#p72d4a8717b)\" d=\"M 247.010938 59.599219 \nL 358.610938 59.599219 \nL 358.610938 171.199219 \nL 247.010938 171.199219 \nL 247.010938 59.599219 \n\" style=\"fill:#b1d5e7;\"/>\n    <path clip-path=\"url(#p72d4a8717b)\" d=\"M 358.610938 59.599219 \nL 470.210938 59.599219 \nL 470.210938 171.199219 \nL 358.610938 171.199219 \nL 358.610938 59.599219 \n\" style=\"fill:#a5cee3;\"/>\n    <path clip-path=\"url(#p72d4a8717b)\" d=\"M 23.810938 171.199219 \nL 135.410938 171.199219 \nL 135.410938 282.799219 \nL 23.810938 282.799219 \nL 23.810938 171.199219 \n\" style=\"fill:#a0cce2;\"/>\n    <path clip-path=\"url(#p72d4a8717b)\" d=\"M 135.410938 171.199219 \nL 247.010938 171.199219 \nL 247.010938 282.799219 \nL 135.410938 282.799219 \nL 135.410938 171.199219 \n\" style=\"fill:#053061;\"/>\n    <path clip-path=\"url(#p72d4a8717b)\" d=\"M 247.010938 171.199219 \nL 358.610938 171.199219 \nL 358.610938 282.799219 \nL 247.010938 282.799219 \nL 247.010938 171.199219 \n\" style=\"fill:#08366a;\"/>\n    <path clip-path=\"url(#p72d4a8717b)\" d=\"M 358.610938 171.199219 \nL 470.210938 171.199219 \nL 470.210938 282.799219 \nL 358.610938 282.799219 \nL 358.610938 171.199219 \n\" style=\"fill:#0f437b;\"/>\n    <path clip-path=\"url(#p72d4a8717b)\" d=\"M 23.810938 282.799219 \nL 135.410938 282.799219 \nL 135.410938 394.399219 \nL 23.810938 394.399219 \nL 23.810938 282.799219 \n\" style=\"fill:#b1d5e7;\"/>\n    <path clip-path=\"url(#p72d4a8717b)\" d=\"M 135.410938 282.799219 \nL 247.010938 282.799219 \nL 247.010938 394.399219 \nL 135.410938 394.399219 \nL 135.410938 282.799219 \n\" style=\"fill:#08366a;\"/>\n    <path clip-path=\"url(#p72d4a8717b)\" d=\"M 247.010938 282.799219 \nL 358.610938 282.799219 \nL 358.610938 394.399219 \nL 247.010938 394.399219 \nL 247.010938 282.799219 \n\" style=\"fill:#053061;\"/>\n    <path clip-path=\"url(#p72d4a8717b)\" d=\"M 358.610938 282.799219 \nL 470.210938 282.799219 \nL 470.210938 394.399219 \nL 358.610938 394.399219 \nL 358.610938 282.799219 \n\" style=\"fill:#124984;\"/>\n    <path clip-path=\"url(#p72d4a8717b)\" d=\"M 23.810938 394.399219 \nL 135.410938 394.399219 \nL 135.410938 505.999219 \nL 23.810938 505.999219 \nL 23.810938 394.399219 \n\" style=\"fill:#a5cee3;\"/>\n    <path clip-path=\"url(#p72d4a8717b)\" d=\"M 135.410938 394.399219 \nL 247.010938 394.399219 \nL 247.010938 505.999219 \nL 135.410938 505.999219 \nL 135.410938 394.399219 \n\" style=\"fill:#0f437b;\"/>\n    <path clip-path=\"url(#p72d4a8717b)\" d=\"M 247.010938 394.399219 \nL 358.610938 394.399219 \nL 358.610938 505.999219 \nL 247.010938 505.999219 \nL 247.010938 394.399219 \n\" style=\"fill:#124984;\"/>\n    <path clip-path=\"url(#p72d4a8717b)\" d=\"M 358.610938 394.399219 \nL 470.210938 394.399219 \nL 470.210938 505.999219 \nL 358.610938 505.999219 \nL 358.610938 394.399219 \n\" style=\"fill:#053061;\"/>\n   </g>\n   <g id=\"matplotlib.axis_1\">\n    <g id=\"xtick_1\">\n     <g id=\"line2d_1\">\n      <defs>\n       <path d=\"M 0 0 \nL 0 3.5 \n\" id=\"m44b642d00b\" style=\"stroke:#000000;stroke-width:0.8;\"/>\n      </defs>\n      <g>\n       <use style=\"stroke:#000000;stroke-width:0.8;\" x=\"79.610938\" xlink:href=\"#m44b642d00b\" y=\"505.999219\"/>\n      </g>\n     </g>\n     <g id=\"text_1\">\n      <!-- count -->\n      <g transform=\"translate(67.339844 520.597656)scale(0.1 -0.1)\">\n       <defs>\n        <path d=\"M 28.328125 -1.21875 \nQ 22.703125 -1.21875 18.015625 0.515625 \nQ 13.328125 2.25 9.96875 5.765625 \nQ 6.59375 9.28125 4.734375 14.625 \nQ 2.875 19.96875 2.875 27.203125 \nQ 2.875 34.375 4.796875 39.59375 \nQ 6.734375 44.828125 9.96875 48.390625 \nQ 13.1875 51.953125 17.984375 53.875 \nQ 22.796875 55.8125 28.328125 55.8125 \nQ 32.8125 55.8125 36.984375 54.53125 \nQ 41.15625 53.265625 44.4375 51.609375 \nL 44.4375 41.3125 \nL 43.890625 41.3125 \nQ 42.921875 42.140625 41.375 43.203125 \nQ 39.84375 44.28125 37.640625 45.40625 \nQ 35.75 46.390625 33.15625 47.125 \nQ 30.5625 47.859375 28.171875 47.859375 \nQ 21.046875 47.859375 16.71875 42.453125 \nQ 12.40625 37.0625 12.40625 27.203125 \nQ 12.40625 17.53125 16.578125 12.125 \nQ 20.75 6.734375 28.171875 6.734375 \nQ 32.671875 6.734375 36.71875 8.59375 \nQ 40.765625 10.453125 43.890625 13.375 \nL 44.4375 13.375 \nL 44.4375 3.078125 \nQ 43.0625 2.4375 41.015625 1.53125 \nQ 38.96875 0.640625 37.3125 0.203125 \nQ 34.96875 -0.484375 33.109375 -0.84375 \nQ 31.25 -1.21875 28.328125 -1.21875 \nz\n\" id=\"Tahoma-99\"/>\n        <path d=\"M 51.515625 27.25 \nQ 51.515625 13.484375 44.875 5.984375 \nQ 38.234375 -1.515625 27.203125 -1.515625 \nQ 15.828125 -1.515625 9.296875 6.21875 \nQ 2.78125 13.96875 2.78125 27.25 \nQ 2.78125 40.921875 9.5 48.484375 \nQ 16.21875 56.0625 27.203125 56.0625 \nQ 38.234375 56.0625 44.875 48.515625 \nQ 51.515625 40.96875 51.515625 27.25 \nz\nM 42.046875 27.25 \nQ 42.046875 37.84375 38.1875 42.984375 \nQ 34.328125 48.140625 27.203125 48.140625 \nQ 20.015625 48.140625 16.125 42.984375 \nQ 12.25 37.84375 12.25 27.25 \nQ 12.25 17 16.125 11.6875 \nQ 20.015625 6.390625 27.203125 6.390625 \nQ 34.28125 6.390625 38.15625 11.59375 \nQ 42.046875 16.796875 42.046875 27.25 \nz\n\" id=\"Tahoma-111\"/>\n        <path d=\"M 49.125 0 \nL 39.9375 0 \nL 39.9375 6.0625 \nQ 35.6875 2.34375 31.875 0.40625 \nQ 28.078125 -1.515625 23.390625 -1.515625 \nQ 19.828125 -1.515625 16.671875 -0.34375 \nQ 13.53125 0.828125 11.1875 3.375 \nQ 8.84375 5.90625 7.546875 9.765625 \nQ 6.25 13.625 6.25 19.140625 \nL 6.25 54.546875 \nL 15.4375 54.546875 \nL 15.4375 23.484375 \nQ 15.4375 19.140625 15.75 16.28125 \nQ 16.0625 13.421875 17.1875 11.28125 \nQ 18.3125 9.1875 20.234375 8.203125 \nQ 22.171875 7.234375 25.78125 7.234375 \nQ 29.15625 7.234375 32.953125 9.125 \nQ 36.765625 11.03125 39.9375 13.8125 \nL 39.9375 54.546875 \nL 49.125 54.546875 \nz\n\" id=\"Tahoma-117\"/>\n        <path d=\"M 49.515625 0 \nL 40.328125 0 \nL 40.328125 31.0625 \nQ 40.328125 34.8125 39.953125 38.0625 \nQ 39.59375 41.3125 38.578125 43.265625 \nQ 37.453125 45.3125 35.453125 46.3125 \nQ 33.453125 47.3125 29.984375 47.3125 \nQ 26.5625 47.3125 22.921875 45.484375 \nQ 19.28125 43.65625 15.828125 40.71875 \nL 15.828125 0 \nL 6.640625 0 \nL 6.640625 54.546875 \nL 15.828125 54.546875 \nL 15.828125 48.484375 \nQ 19.921875 52.15625 23.921875 54.109375 \nQ 27.9375 56.0625 32.375 56.0625 \nQ 40.4375 56.0625 44.96875 50.75 \nQ 49.515625 45.453125 49.515625 35.40625 \nz\n\" id=\"Tahoma-110\"/>\n        <path d=\"M 23.140625 -1.078125 \nQ 15.625 -1.078125 11.421875 3.1875 \nQ 7.234375 7.46875 7.234375 16.703125 \nL 7.234375 46.921875 \nL 1.03125 46.921875 \nL 1.03125 54.546875 \nL 7.234375 54.546875 \nL 7.234375 70.21875 \nL 16.40625 70.21875 \nL 16.40625 54.546875 \nL 33.296875 54.546875 \nL 33.296875 46.921875 \nL 16.40625 46.921875 \nL 16.40625 21 \nQ 16.40625 16.84375 16.546875 14.59375 \nQ 16.703125 12.359375 17.671875 10.40625 \nQ 18.5 8.6875 20.359375 7.828125 \nQ 22.21875 6.984375 25.390625 6.984375 \nQ 27.640625 6.984375 29.734375 7.640625 \nQ 31.84375 8.296875 32.765625 8.734375 \nL 33.296875 8.734375 \nL 33.296875 0.484375 \nQ 30.71875 -0.25 28.046875 -0.65625 \nQ 25.390625 -1.078125 23.140625 -1.078125 \nz\n\" id=\"Tahoma-116\"/>\n       </defs>\n       <use xlink:href=\"#Tahoma-99\"/>\n       <use x=\"46.142578\" xlink:href=\"#Tahoma-111\"/>\n       <use x=\"100.439453\" xlink:href=\"#Tahoma-117\"/>\n       <use x=\"156.201172\" xlink:href=\"#Tahoma-110\"/>\n       <use x=\"211.962891\" xlink:href=\"#Tahoma-116\"/>\n      </g>\n     </g>\n    </g>\n    <g id=\"xtick_2\">\n     <g id=\"line2d_2\">\n      <g>\n       <use style=\"stroke:#000000;stroke-width:0.8;\" x=\"191.210938\" xlink:href=\"#m44b642d00b\" y=\"505.999219\"/>\n      </g>\n     </g>\n     <g id=\"text_2\">\n      <!-- eng_sum -->\n      <g transform=\"translate(171.078125 520.544531)scale(0.1 -0.1)\">\n       <defs>\n        <path d=\"M 30.328125 -1.265625 \nQ 17.28125 -1.265625 10.078125 6.078125 \nQ 2.875 13.421875 2.875 26.953125 \nQ 2.875 40.28125 9.859375 48.171875 \nQ 16.84375 56.0625 28.125 56.0625 \nQ 33.203125 56.0625 37.109375 54.59375 \nQ 41.015625 53.125 43.953125 50 \nQ 46.875 46.875 48.4375 42.359375 \nQ 50 37.84375 50 31.296875 \nL 50 26.3125 \nL 12.203125 26.3125 \nQ 12.203125 16.796875 16.984375 11.765625 \nQ 21.78125 6.734375 30.21875 6.734375 \nQ 33.25 6.734375 36.15625 7.421875 \nQ 39.0625 8.109375 41.40625 9.1875 \nQ 43.890625 10.296875 45.59375 11.34375 \nQ 47.3125 12.40625 48.4375 13.328125 \nL 48.96875 13.328125 \nL 48.96875 3.328125 \nQ 47.359375 2.6875 44.96875 1.734375 \nQ 42.578125 0.78125 40.671875 0.25 \nQ 37.984375 -0.484375 35.8125 -0.875 \nQ 33.640625 -1.265625 30.328125 -1.265625 \nz\nM 41.0625 33.34375 \nQ 40.96875 37.0625 40.1875 39.75 \nQ 39.40625 42.4375 37.9375 44.28125 \nQ 36.328125 46.34375 33.8125 47.40625 \nQ 31.296875 48.484375 27.59375 48.484375 \nQ 23.921875 48.484375 21.359375 47.390625 \nQ 18.796875 46.296875 16.703125 44.1875 \nQ 14.65625 42.046875 13.578125 39.421875 \nQ 12.5 36.8125 12.203125 33.34375 \nz\n\" id=\"Tahoma-101\"/>\n        <path d=\"M 39.453125 14.796875 \nL 39.453125 44.734375 \nQ 36.03125 46.390625 33.125 47.09375 \nQ 30.21875 47.796875 27.34375 47.796875 \nQ 20.359375 47.796875 16.359375 42.671875 \nQ 12.359375 37.546875 12.359375 27.984375 \nQ 12.359375 18.890625 15.40625 14.15625 \nQ 18.453125 9.421875 25.296875 9.421875 \nQ 28.859375 9.421875 32.640625 10.828125 \nQ 36.421875 12.25 39.453125 14.796875 \nz\nM 8.59375 -8.734375 \nQ 9.515625 -9.125 11.328125 -9.78125 \nQ 13.140625 -10.453125 15.4375 -11.03125 \nQ 17.96875 -11.671875 20.109375 -12.0625 \nQ 22.265625 -12.453125 24.8125 -12.453125 \nQ 29.046875 -12.453125 32 -11.328125 \nQ 34.96875 -10.203125 36.625 -8.203125 \nQ 38.1875 -6.203125 38.8125 -3.5625 \nQ 39.453125 -0.921875 39.453125 2.4375 \nL 39.453125 7.234375 \nQ 35.75 4 32.171875 2.453125 \nQ 28.609375 0.921875 23.25 0.921875 \nQ 13.921875 0.921875 8.390625 7.859375 \nQ 2.875 14.796875 2.875 27.78125 \nQ 2.875 34.578125 4.78125 39.8125 \nQ 6.6875 45.0625 9.90625 48.734375 \nQ 12.984375 52.25 17.1875 54.15625 \nQ 21.390625 56.0625 25.875 56.0625 \nQ 30.125 56.0625 33.21875 55.046875 \nQ 36.328125 54.046875 39.453125 52.203125 \nL 39.984375 54.546875 \nL 48.640625 54.546875 \nL 48.640625 6.203125 \nQ 48.640625 -7.671875 42.578125 -14.15625 \nQ 36.53125 -20.65625 24.078125 -20.65625 \nQ 20.0625 -20.65625 15.890625 -20.015625 \nQ 11.71875 -19.390625 8.109375 -18.3125 \nL 8.109375 -8.734375 \nz\n\" id=\"Tahoma-103\"/>\n        <path d=\"M 55.375 -14.65625 \nL -0.78125 -14.65625 \nL -0.78125 -8.296875 \nL 55.375 -8.296875 \nz\n\" id=\"Tahoma-95\"/>\n        <path d=\"M 21.390625 -1.3125 \nQ 15.921875 -1.3125 11.15625 0.140625 \nQ 6.390625 1.609375 3.265625 3.265625 \nL 3.265625 13.578125 \nL 3.765625 13.578125 \nQ 4.9375 12.640625 6.515625 11.515625 \nQ 8.109375 10.40625 10.75 9.1875 \nQ 13.09375 8.109375 15.890625 7.28125 \nQ 18.703125 6.453125 21.734375 6.453125 \nQ 23.921875 6.453125 26.40625 6.953125 \nQ 28.90625 7.46875 30.125 8.25 \nQ 31.84375 9.375 32.59375 10.640625 \nQ 33.34375 11.921875 33.34375 14.453125 \nQ 33.34375 17.71875 31.5625 19.375 \nQ 29.78125 21.046875 25.25 22.171875 \nQ 23.484375 22.609375 20.65625 23.1875 \nQ 17.828125 23.78125 15.4375 24.46875 \nQ 9.1875 26.265625 6.34375 30.046875 \nQ 3.515625 33.84375 3.515625 39.203125 \nQ 3.515625 46.578125 9.078125 51.21875 \nQ 14.65625 55.859375 23.875 55.859375 \nQ 28.421875 55.859375 33 54.734375 \nQ 37.59375 53.609375 40.71875 51.90625 \nL 40.71875 42.09375 \nL 40.234375 42.09375 \nQ 36.71875 44.875 32.390625 46.484375 \nQ 28.078125 48.09375 23.6875 48.09375 \nQ 19.140625 48.09375 16.015625 46.1875 \nQ 12.890625 44.28125 12.890625 40.4375 \nQ 12.890625 37.015625 14.75 35.328125 \nQ 16.609375 33.640625 20.703125 32.5625 \nQ 22.75 32.03125 25.265625 31.515625 \nQ 27.78125 31 30.5625 30.328125 \nQ 36.625 28.8125 39.671875 25.296875 \nQ 42.71875 21.78125 42.71875 15.71875 \nQ 42.71875 12.203125 41.328125 9.046875 \nQ 39.9375 5.90625 37.25 3.65625 \nQ 34.328125 1.21875 30.640625 -0.046875 \nQ 26.953125 -1.3125 21.390625 -1.3125 \nz\n\" id=\"Tahoma-115\"/>\n        <path d=\"M 68.5625 0 \nL 68.5625 31.546875 \nQ 68.5625 35.296875 68.265625 38.5 \nQ 67.96875 41.703125 67.046875 43.5 \nQ 66.0625 45.453125 64.25 46.375 \nQ 62.453125 47.3125 59.375 47.3125 \nQ 56.546875 47.3125 53.296875 45.578125 \nQ 50.046875 43.84375 46.578125 40.578125 \nQ 46.625 39.75 46.703125 38.59375 \nQ 46.78125 37.453125 46.78125 35.890625 \nL 46.78125 0 \nL 37.59375 0 \nL 37.59375 31.546875 \nQ 37.59375 35.296875 37.296875 38.5 \nQ 37.015625 41.703125 36.078125 43.5 \nQ 35.109375 45.453125 33.296875 46.375 \nQ 31.5 47.3125 28.421875 47.3125 \nQ 25.4375 47.3125 22.15625 45.453125 \nQ 18.890625 43.609375 15.828125 40.71875 \nL 15.828125 0 \nL 6.640625 0 \nL 6.640625 54.546875 \nL 15.828125 54.546875 \nL 15.828125 48.484375 \nQ 19.4375 52.09375 22.96875 54.078125 \nQ 26.515625 56.0625 30.765625 56.0625 \nQ 35.59375 56.0625 39.328125 53.859375 \nQ 43.0625 51.65625 45.015625 46.625 \nQ 49.171875 51.265625 53.125 53.65625 \nQ 57.078125 56.0625 61.71875 56.0625 \nQ 65.234375 56.0625 68.109375 54.953125 \nQ 71 53.859375 73.140625 51.421875 \nQ 75.34375 48.921875 76.53125 45.203125 \nQ 77.734375 41.5 77.734375 35.890625 \nL 77.734375 0 \nz\n\" id=\"Tahoma-109\"/>\n       </defs>\n       <use xlink:href=\"#Tahoma-101\"/>\n       <use x=\"52.636719\" xlink:href=\"#Tahoma-110\"/>\n       <use x=\"108.398438\" xlink:href=\"#Tahoma-103\"/>\n       <use x=\"163.671875\" xlink:href=\"#Tahoma-95\"/>\n       <use x=\"218.261719\" xlink:href=\"#Tahoma-115\"/>\n       <use x=\"262.890625\" xlink:href=\"#Tahoma-117\"/>\n       <use x=\"318.652344\" xlink:href=\"#Tahoma-109\"/>\n      </g>\n     </g>\n    </g>\n    <g id=\"xtick_3\">\n     <g id=\"line2d_3\">\n      <g>\n       <use style=\"stroke:#000000;stroke-width:0.8;\" x=\"302.810938\" xlink:href=\"#m44b642d00b\" y=\"505.999219\"/>\n      </g>\n     </g>\n     <g id=\"text_3\">\n      <!-- eng_mean -->\n      <g transform=\"translate(279.653125 520.544531)scale(0.1 -0.1)\">\n       <defs>\n        <path d=\"M 37.109375 13.421875 \nL 37.109375 28.5625 \nQ 33.84375 28.265625 28.828125 27.75 \nQ 23.828125 27.25 20.75 26.3125 \nQ 17.09375 25.203125 14.703125 22.875 \nQ 12.3125 20.5625 12.3125 16.40625 \nQ 12.3125 11.71875 14.9375 9.328125 \nQ 17.578125 6.9375 22.65625 6.9375 \nQ 27 6.9375 30.515625 8.8125 \nQ 34.03125 10.6875 37.109375 13.421875 \nz\nM 37.109375 5.8125 \nQ 35.984375 4.984375 34.109375 3.484375 \nQ 32.234375 2 30.46875 1.125 \nQ 28.03125 -0.140625 25.75 -0.828125 \nQ 23.484375 -1.515625 19.390625 -1.515625 \nQ 16.015625 -1.515625 12.984375 -0.234375 \nQ 9.96875 1.03125 7.671875 3.328125 \nQ 5.46875 5.5625 4.140625 8.859375 \nQ 2.828125 12.15625 2.828125 15.828125 \nQ 2.828125 21.484375 5.21875 25.453125 \nQ 7.625 29.4375 12.796875 31.78125 \nQ 17.390625 33.890625 23.640625 34.6875 \nQ 29.890625 35.5 37.109375 35.890625 \nL 37.109375 37.640625 \nQ 37.109375 40.875 36.125 42.84375 \nQ 35.15625 44.828125 33.40625 45.90625 \nQ 31.640625 47.015625 29.09375 47.375 \nQ 26.5625 47.75 23.875 47.75 \nQ 20.703125 47.75 16.40625 46.796875 \nQ 12.109375 45.84375 7.8125 44.046875 \nL 7.28125 44.046875 \nL 7.28125 53.375 \nQ 9.8125 54.109375 14.546875 54.984375 \nQ 19.28125 55.859375 23.921875 55.859375 \nQ 29.546875 55.859375 33.390625 54.984375 \nQ 37.25 54.109375 40.328125 51.8125 \nQ 43.3125 49.5625 44.765625 46 \nQ 46.234375 42.4375 46.234375 37.3125 \nL 46.234375 0 \nL 37.109375 0 \nz\n\" id=\"Tahoma-97\"/>\n       </defs>\n       <use xlink:href=\"#Tahoma-101\"/>\n       <use x=\"52.636719\" xlink:href=\"#Tahoma-110\"/>\n       <use x=\"108.398438\" xlink:href=\"#Tahoma-103\"/>\n       <use x=\"163.671875\" xlink:href=\"#Tahoma-95\"/>\n       <use x=\"218.261719\" xlink:href=\"#Tahoma-109\"/>\n       <use x=\"302.246094\" xlink:href=\"#Tahoma-101\"/>\n       <use x=\"354.882812\" xlink:href=\"#Tahoma-97\"/>\n       <use x=\"407.373047\" xlink:href=\"#Tahoma-110\"/>\n      </g>\n     </g>\n    </g>\n    <g id=\"xtick_4\">\n     <g id=\"line2d_4\">\n      <g>\n       <use style=\"stroke:#000000;stroke-width:0.8;\" x=\"414.410938\" xlink:href=\"#m44b642d00b\" y=\"505.999219\"/>\n      </g>\n     </g>\n     <g id=\"text_4\">\n      <!-- eng_max -->\n      <g transform=\"translate(394.197656 520.544531)scale(0.1 -0.1)\">\n       <defs>\n        <path d=\"M 49.03125 0 \nL 37.75 0 \nL 24.515625 20.609375 \nL 10.890625 0 \nL 0.484375 0 \nL 19.4375 27.046875 \nL 0.6875 54.546875 \nL 11.96875 54.546875 \nL 25.09375 34.125 \nL 38.578125 54.546875 \nL 49.03125 54.546875 \nL 30.171875 27.6875 \nz\n\" id=\"Tahoma-120\"/>\n       </defs>\n       <use xlink:href=\"#Tahoma-101\"/>\n       <use x=\"52.636719\" xlink:href=\"#Tahoma-110\"/>\n       <use x=\"108.398438\" xlink:href=\"#Tahoma-103\"/>\n       <use x=\"163.671875\" xlink:href=\"#Tahoma-95\"/>\n       <use x=\"218.261719\" xlink:href=\"#Tahoma-109\"/>\n       <use x=\"302.246094\" xlink:href=\"#Tahoma-97\"/>\n       <use x=\"354.736328\" xlink:href=\"#Tahoma-120\"/>\n      </g>\n     </g>\n    </g>\n   </g>\n   <g id=\"matplotlib.axis_2\">\n    <g id=\"ytick_1\">\n     <g id=\"line2d_5\">\n      <defs>\n       <path d=\"M 0 0 \nL -3.5 0 \n\" id=\"mddeceb2aca\" style=\"stroke:#000000;stroke-width:0.8;\"/>\n      </defs>\n      <g>\n       <use style=\"stroke:#000000;stroke-width:0.8;\" x=\"23.810938\" xlink:href=\"#mddeceb2aca\" y=\"115.399219\"/>\n      </g>\n     </g>\n     <g id=\"text_5\">\n      <!-- count -->\n      <g transform=\"translate(14.798438 136.142187)rotate(-90)scale(0.1 -0.1)\">\n       <use xlink:href=\"#Tahoma-99\"/>\n       <use x=\"46.142578\" xlink:href=\"#Tahoma-111\"/>\n       <use x=\"100.439453\" xlink:href=\"#Tahoma-117\"/>\n       <use x=\"156.201172\" xlink:href=\"#Tahoma-110\"/>\n       <use x=\"211.962891\" xlink:href=\"#Tahoma-116\"/>\n      </g>\n     </g>\n    </g>\n    <g id=\"ytick_2\">\n     <g id=\"line2d_6\">\n      <g>\n       <use style=\"stroke:#000000;stroke-width:0.8;\" x=\"23.810938\" xlink:href=\"#mddeceb2aca\" y=\"226.999219\"/>\n      </g>\n     </g>\n     <g id=\"text_6\">\n      <!-- eng_sum -->\n      <g transform=\"translate(14.745313 263.492187)rotate(-90)scale(0.1 -0.1)\">\n       <use xlink:href=\"#Tahoma-101\"/>\n       <use x=\"52.636719\" xlink:href=\"#Tahoma-110\"/>\n       <use x=\"108.398438\" xlink:href=\"#Tahoma-103\"/>\n       <use x=\"163.671875\" xlink:href=\"#Tahoma-95\"/>\n       <use x=\"218.261719\" xlink:href=\"#Tahoma-115\"/>\n       <use x=\"262.890625\" xlink:href=\"#Tahoma-117\"/>\n       <use x=\"318.652344\" xlink:href=\"#Tahoma-109\"/>\n      </g>\n     </g>\n    </g>\n    <g id=\"ytick_3\">\n     <g id=\"line2d_7\">\n      <g>\n       <use style=\"stroke:#000000;stroke-width:0.8;\" x=\"23.810938\" xlink:href=\"#mddeceb2aca\" y=\"338.599219\"/>\n      </g>\n     </g>\n     <g id=\"text_7\">\n      <!-- eng_mean -->\n      <g transform=\"translate(14.745313 381.142187)rotate(-90)scale(0.1 -0.1)\">\n       <use xlink:href=\"#Tahoma-101\"/>\n       <use x=\"52.636719\" xlink:href=\"#Tahoma-110\"/>\n       <use x=\"108.398438\" xlink:href=\"#Tahoma-103\"/>\n       <use x=\"163.671875\" xlink:href=\"#Tahoma-95\"/>\n       <use x=\"218.261719\" xlink:href=\"#Tahoma-109\"/>\n       <use x=\"302.246094\" xlink:href=\"#Tahoma-101\"/>\n       <use x=\"354.882812\" xlink:href=\"#Tahoma-97\"/>\n       <use x=\"407.373047\" xlink:href=\"#Tahoma-110\"/>\n      </g>\n     </g>\n    </g>\n    <g id=\"ytick_4\">\n     <g id=\"line2d_8\">\n      <g>\n       <use style=\"stroke:#000000;stroke-width:0.8;\" x=\"23.810938\" xlink:href=\"#mddeceb2aca\" y=\"450.199219\"/>\n      </g>\n     </g>\n     <g id=\"text_8\">\n      <!-- eng_max -->\n      <g transform=\"translate(14.745313 486.853125)rotate(-90)scale(0.1 -0.1)\">\n       <use xlink:href=\"#Tahoma-101\"/>\n       <use x=\"52.636719\" xlink:href=\"#Tahoma-110\"/>\n       <use x=\"108.398438\" xlink:href=\"#Tahoma-103\"/>\n       <use x=\"163.671875\" xlink:href=\"#Tahoma-95\"/>\n       <use x=\"218.261719\" xlink:href=\"#Tahoma-109\"/>\n       <use x=\"302.246094\" xlink:href=\"#Tahoma-97\"/>\n       <use x=\"354.736328\" xlink:href=\"#Tahoma-120\"/>\n      </g>\n     </g>\n    </g>\n   </g>\n  </g>\n  <g id=\"axes_2\">\n   <g id=\"patch_3\">\n    <path clip-path=\"url(#pfd4327cdab)\" d=\"M 498.110938 554.599219 \nL 498.110938 552.475781 \nL 498.110938 13.122656 \nL 498.110938 10.999219 \nL 525.290938 10.999219 \nL 525.290938 13.122656 \nL 525.290938 552.475781 \nL 525.290938 554.599219 \nz\n\" style=\"fill:#ffffff;stroke:#ffffff;stroke-linejoin:miter;stroke-width:0.01;\"/>\n   </g>\n   <image height=\"544\" id=\"imagea76e03a9be\" transform=\"scale(1 -1)translate(0 -544)\" width=\"27\" x=\"498\" xlink:href=\"data:image/png;base64,\niVBORw0KGgoAAAANSUhEUgAAABsAAAIgCAYAAAB09hISAAACpUlEQVR4nO2dwW3DQBADT/L1kfLS/z+yUoQGC2gw08CCInm3cpzk+F0/9xrinBq01lr7c8wNm1Y2Jy3PEPIMIc8QvJ4VEIQ9OS3PELylzjOEPEPIMwT1WjA3LGUI3ujnGUKeIeQZgvrytAbk1Co7BrM/7JlW2fGZm1caEcxpPKVpLCAI4lJ7D2JxGk+rslObRvMJIlVW9BG8Admn9iBuLSCoZwilEUF8ebYRE3RcIYiPK+0HZeqepew56stT+hj38fmMDSv6CPsUpzFlz+lsRPB61mNEMG/ElRogZQjiNJ6t3wBdngiVGsHsmVeZN42n9YpZYmXSNPbhJoI6+lZl3ivG65lXWWkkSNn7hqnXgkr9nN7PEMRpNHvmVSZNY5cngjr6VmW9xRAMKzu0nmmV3VZlBQRhL+3fTtLujd5Sq3uWsufUs/cNEwdEfHlqPdOWWrzweNOYMgLx5Sk+rsTKWgueU88Q1J5Ze3aP/etQ9eX5HXyOwwEZHDbt2dyw6VJb0yj2bHBYniF4ezYckMFhbVcIlRqhniGoe2ZNo3bh6SBGMJd6aUvt9UyrTOxZPQNQX57WgFyDy36eIexLq0zsWT0DqGfvGybeiK9BaZUaYV/aNIo9q2cA9QzB69nwY9SWuugTtOsj1DOEeobg7VkbMULKEFKGkDKElCF4lfUYEcTK/rTKvJ6JlVnfYsyeWZX1GBH29Z37jkaeIYiVtfAQpAzBq6zHiCBWdmuVeX8y6P3d3NJIMO3Z3DDx5ekttTn6KXtOXz5BEHvmVaY9G7s8EbzblTf64uPKq6y1gCBl7xtmPogrNUBpRNj39xobljIEs7JLqqyAIKQMIWUIYmVfrTKvZ1pl7SAI3oCkDGFamfW732bPrMrEC4/1Piv6CClDSNn7hv0Ddwlp4hkKncMAAAAASUVORK5CYII=\" y=\"-10\"/>\n   <g id=\"matplotlib.axis_3\"/>\n   <g id=\"matplotlib.axis_4\">\n    <g id=\"ytick_5\">\n     <g id=\"line2d_9\">\n      <defs>\n       <path d=\"M 0 0 \nL 3.5 0 \n\" id=\"me456420aa5\" style=\"stroke:#000000;stroke-width:0.8;\"/>\n      </defs>\n      <g>\n       <use style=\"stroke:#000000;stroke-width:0.8;\" x=\"525.290938\" xlink:href=\"#me456420aa5\" y=\"554.599219\"/>\n      </g>\n     </g>\n     <g id=\"text_9\">\n      <!-- −1.00 -->\n      <g transform=\"translate(532.290938 558.398437)scale(0.1 -0.1)\">\n       <defs>\n        <path d=\"M 63.875 27.9375 \nL 8.890625 27.9375 \nL 8.890625 35.75 \nL 63.875 35.75 \nz\n\" id=\"Tahoma-8722\"/>\n        <path d=\"M 46.484375 0 \nL 11.03125 0 \nL 11.03125 7.421875 \nL 24.21875 7.421875 \nL 24.21875 56.15625 \nL 11.03125 56.15625 \nL 11.03125 62.796875 \nQ 18.5 62.796875 22.046875 64.921875 \nQ 25.59375 67.046875 26.03125 72.953125 \nL 33.59375 72.953125 \nL 33.59375 7.421875 \nL 46.484375 7.421875 \nz\n\" id=\"Tahoma-49\"/>\n        <path d=\"M 20.953125 0 \nL 9.28125 0 \nL 9.28125 13.921875 \nL 20.953125 13.921875 \nz\n\" id=\"Tahoma-46\"/>\n        <path d=\"M 50.53125 36.375 \nQ 50.53125 16.796875 44.84375 7.640625 \nQ 39.15625 -1.515625 27.296875 -1.515625 \nQ 15.28125 -1.515625 9.65625 7.8125 \nQ 4.046875 17.140625 4.046875 36.28125 \nQ 4.046875 55.953125 9.734375 65.0625 \nQ 15.4375 74.171875 27.296875 74.171875 \nQ 39.3125 74.171875 44.921875 64.75 \nQ 50.53125 55.328125 50.53125 36.375 \nz\nM 38.03125 14.203125 \nQ 39.453125 17.828125 40.03125 23.34375 \nQ 40.625 28.859375 40.625 36.375 \nQ 40.625 43.84375 40.03125 49.359375 \nQ 39.453125 54.890625 37.984375 58.546875 \nQ 36.53125 62.25 33.953125 64.171875 \nQ 31.390625 66.109375 27.296875 66.109375 \nQ 23.25 66.109375 20.625 64.171875 \nQ 18.015625 62.25 16.5 58.453125 \nQ 15.046875 54.734375 14.5 49.0625 \nQ 13.96875 43.40625 13.96875 36.28125 \nQ 13.96875 28.65625 14.421875 23.53125 \nQ 14.890625 18.40625 16.453125 14.359375 \nQ 17.875 10.59375 20.484375 8.5625 \nQ 23.09375 6.546875 27.296875 6.546875 \nQ 31.34375 6.546875 33.953125 8.46875 \nQ 36.578125 10.40625 38.03125 14.203125 \nz\n\" id=\"Tahoma-48\"/>\n       </defs>\n       <use xlink:href=\"#Tahoma-8722\"/>\n       <use x=\"72.753906\" xlink:href=\"#Tahoma-49\"/>\n       <use x=\"127.34375\" xlink:href=\"#Tahoma-46\"/>\n       <use x=\"157.617188\" xlink:href=\"#Tahoma-48\"/>\n       <use x=\"212.207031\" xlink:href=\"#Tahoma-48\"/>\n      </g>\n     </g>\n    </g>\n    <g id=\"ytick_6\">\n     <g id=\"line2d_10\">\n      <g>\n       <use style=\"stroke:#000000;stroke-width:0.8;\" x=\"525.290938\" xlink:href=\"#me456420aa5\" y=\"486.649219\"/>\n      </g>\n     </g>\n     <g id=\"text_10\">\n      <!-- −0.75 -->\n      <g transform=\"translate(532.290938 490.448437)scale(0.1 -0.1)\">\n       <defs>\n        <path d=\"M 50.984375 61.8125 \nL 19.53125 0 \nL 9.125 0 \nL 42.4375 64.15625 \nL 4.828125 64.15625 \nL 4.828125 72.703125 \nL 50.984375 72.703125 \nz\n\" id=\"Tahoma-55\"/>\n        <path d=\"M 49.359375 23.140625 \nQ 49.359375 17.875 47.671875 13.375 \nQ 46 8.890625 42.96875 5.609375 \nQ 39.890625 2.296875 35.328125 0.390625 \nQ 30.765625 -1.515625 25.09375 -1.515625 \nQ 19.875 -1.515625 14.8125 -0.359375 \nQ 9.765625 0.78125 6.0625 2.640625 \nL 6.0625 12.9375 \nL 6.734375 12.9375 \nQ 7.859375 12.109375 9.953125 11.0625 \nQ 12.0625 10.015625 14.59375 9.078125 \nQ 17.484375 8.0625 19.875 7.5 \nQ 22.265625 6.9375 25.25 6.9375 \nQ 28.171875 6.9375 30.953125 7.984375 \nQ 33.734375 9.03125 35.75 11.375 \nQ 37.546875 13.53125 38.5 16.40625 \nQ 39.453125 19.28125 39.453125 23.1875 \nQ 39.453125 27.046875 38.40625 29.53125 \nQ 37.359375 32.03125 35.359375 33.640625 \nQ 33.25 35.5 30.203125 36.25 \nQ 27.15625 37.015625 23.390625 37.015625 \nQ 19.4375 37.015625 15.421875 36.40625 \nQ 11.421875 35.796875 9.03125 35.25 \nL 9.03125 72.703125 \nL 48.921875 72.703125 \nL 48.921875 64.15625 \nL 18.453125 64.15625 \nL 18.453125 44.828125 \nQ 20.21875 45.015625 21.921875 45.109375 \nQ 23.640625 45.21875 25.046875 45.21875 \nQ 30.609375 45.21875 34.46875 44.28125 \nQ 38.328125 43.359375 41.890625 40.671875 \nQ 45.515625 37.9375 47.4375 33.828125 \nQ 49.359375 29.734375 49.359375 23.140625 \nz\n\" id=\"Tahoma-53\"/>\n       </defs>\n       <use xlink:href=\"#Tahoma-8722\"/>\n       <use x=\"72.753906\" xlink:href=\"#Tahoma-48\"/>\n       <use x=\"127.34375\" xlink:href=\"#Tahoma-46\"/>\n       <use x=\"155.242188\" xlink:href=\"#Tahoma-55\"/>\n       <use x=\"209.832031\" xlink:href=\"#Tahoma-53\"/>\n      </g>\n     </g>\n    </g>\n    <g id=\"ytick_7\">\n     <g id=\"line2d_11\">\n      <g>\n       <use style=\"stroke:#000000;stroke-width:0.8;\" x=\"525.290938\" xlink:href=\"#me456420aa5\" y=\"418.699219\"/>\n      </g>\n     </g>\n     <g id=\"text_11\">\n      <!-- −0.50 -->\n      <g transform=\"translate(532.290938 422.498437)scale(0.1 -0.1)\">\n       <use xlink:href=\"#Tahoma-8722\"/>\n       <use x=\"72.753906\" xlink:href=\"#Tahoma-48\"/>\n       <use x=\"127.34375\" xlink:href=\"#Tahoma-46\"/>\n       <use x=\"157.617188\" xlink:href=\"#Tahoma-53\"/>\n       <use x=\"212.207031\" xlink:href=\"#Tahoma-48\"/>\n      </g>\n     </g>\n    </g>\n    <g id=\"ytick_8\">\n     <g id=\"line2d_12\">\n      <g>\n       <use style=\"stroke:#000000;stroke-width:0.8;\" x=\"525.290938\" xlink:href=\"#me456420aa5\" y=\"350.749219\"/>\n      </g>\n     </g>\n     <g id=\"text_12\">\n      <!-- −0.25 -->\n      <g transform=\"translate(532.290938 354.548437)scale(0.1 -0.1)\">\n       <defs>\n        <path d=\"M 50.203125 0 \nL 5.328125 0 \nL 5.328125 10.203125 \nQ 10.15625 14.796875 14.453125 18.984375 \nQ 18.75 23.1875 22.859375 27.734375 \nQ 31.15625 36.859375 34.171875 42.359375 \nQ 37.203125 47.859375 37.203125 53.71875 \nQ 37.203125 56.734375 36.25 59.03125 \nQ 35.296875 61.328125 33.640625 62.84375 \nQ 31.9375 64.3125 29.6875 65.03125 \nQ 27.4375 65.765625 24.75 65.765625 \nQ 22.171875 65.765625 19.5 65.109375 \nQ 16.84375 64.453125 14.40625 63.484375 \nQ 12.359375 62.640625 10.453125 61.46875 \nQ 8.546875 60.296875 7.375 59.46875 \nL 6.84375 59.46875 \nL 6.84375 69.828125 \nQ 9.859375 71.34375 15.25 72.78125 \nQ 20.65625 74.21875 25.484375 74.21875 \nQ 35.640625 74.21875 41.40625 68.8125 \nQ 47.171875 63.421875 47.171875 54.203125 \nQ 47.171875 49.953125 46.171875 46.328125 \nQ 45.171875 42.71875 43.40625 39.65625 \nQ 41.609375 36.46875 39.0625 33.34375 \nQ 36.53125 30.21875 33.6875 27.203125 \nQ 29.109375 22.21875 23.46875 16.84375 \nQ 17.828125 11.46875 14.453125 8.34375 \nL 50.203125 8.34375 \nz\n\" id=\"Tahoma-50\"/>\n       </defs>\n       <use xlink:href=\"#Tahoma-8722\"/>\n       <use x=\"72.753906\" xlink:href=\"#Tahoma-48\"/>\n       <use x=\"127.34375\" xlink:href=\"#Tahoma-46\"/>\n       <use x=\"157.617188\" xlink:href=\"#Tahoma-50\"/>\n       <use x=\"212.207031\" xlink:href=\"#Tahoma-53\"/>\n      </g>\n     </g>\n    </g>\n    <g id=\"ytick_9\">\n     <g id=\"line2d_13\">\n      <g>\n       <use style=\"stroke:#000000;stroke-width:0.8;\" x=\"525.290938\" xlink:href=\"#me456420aa5\" y=\"282.799219\"/>\n      </g>\n     </g>\n     <g id=\"text_13\">\n      <!-- 0.00 -->\n      <g transform=\"translate(532.290938 286.598437)scale(0.1 -0.1)\">\n       <use xlink:href=\"#Tahoma-48\"/>\n       <use x=\"54.589844\" xlink:href=\"#Tahoma-46\"/>\n       <use x=\"84.863281\" xlink:href=\"#Tahoma-48\"/>\n       <use x=\"139.453125\" xlink:href=\"#Tahoma-48\"/>\n      </g>\n     </g>\n    </g>\n    <g id=\"ytick_10\">\n     <g id=\"line2d_14\">\n      <g>\n       <use style=\"stroke:#000000;stroke-width:0.8;\" x=\"525.290938\" xlink:href=\"#me456420aa5\" y=\"214.849219\"/>\n      </g>\n     </g>\n     <g id=\"text_14\">\n      <!-- 0.25 -->\n      <g transform=\"translate(532.290938 218.648437)scale(0.1 -0.1)\">\n       <use xlink:href=\"#Tahoma-48\"/>\n       <use x=\"54.589844\" xlink:href=\"#Tahoma-46\"/>\n       <use x=\"84.863281\" xlink:href=\"#Tahoma-50\"/>\n       <use x=\"139.453125\" xlink:href=\"#Tahoma-53\"/>\n      </g>\n     </g>\n    </g>\n    <g id=\"ytick_11\">\n     <g id=\"line2d_15\">\n      <g>\n       <use style=\"stroke:#000000;stroke-width:0.8;\" x=\"525.290938\" xlink:href=\"#me456420aa5\" y=\"146.899219\"/>\n      </g>\n     </g>\n     <g id=\"text_15\">\n      <!-- 0.50 -->\n      <g transform=\"translate(532.290938 150.698437)scale(0.1 -0.1)\">\n       <use xlink:href=\"#Tahoma-48\"/>\n       <use x=\"54.589844\" xlink:href=\"#Tahoma-46\"/>\n       <use x=\"84.863281\" xlink:href=\"#Tahoma-53\"/>\n       <use x=\"139.453125\" xlink:href=\"#Tahoma-48\"/>\n      </g>\n     </g>\n    </g>\n    <g id=\"ytick_12\">\n     <g id=\"line2d_16\">\n      <g>\n       <use style=\"stroke:#000000;stroke-width:0.8;\" x=\"525.290938\" xlink:href=\"#me456420aa5\" y=\"78.949219\"/>\n      </g>\n     </g>\n     <g id=\"text_16\">\n      <!-- 0.75 -->\n      <g transform=\"translate(532.290938 82.748437)scale(0.1 -0.1)\">\n       <use xlink:href=\"#Tahoma-48\"/>\n       <use x=\"54.589844\" xlink:href=\"#Tahoma-46\"/>\n       <use x=\"82.488281\" xlink:href=\"#Tahoma-55\"/>\n       <use x=\"137.078125\" xlink:href=\"#Tahoma-53\"/>\n      </g>\n     </g>\n    </g>\n    <g id=\"ytick_13\">\n     <g id=\"line2d_17\">\n      <g>\n       <use style=\"stroke:#000000;stroke-width:0.8;\" x=\"525.290938\" xlink:href=\"#me456420aa5\" y=\"10.999219\"/>\n      </g>\n     </g>\n     <g id=\"text_17\">\n      <!-- 1.00 -->\n      <g transform=\"translate(532.290938 14.798437)scale(0.1 -0.1)\">\n       <use xlink:href=\"#Tahoma-49\"/>\n       <use x=\"54.589844\" xlink:href=\"#Tahoma-46\"/>\n       <use x=\"84.863281\" xlink:href=\"#Tahoma-48\"/>\n       <use x=\"139.453125\" xlink:href=\"#Tahoma-48\"/>\n      </g>\n     </g>\n    </g>\n    <g id=\"text_18\">\n     <!-- correlation -->\n     <g transform=\"translate(570.570625 306.117187)rotate(-90)scale(0.1 -0.1)\">\n      <defs>\n       <path d=\"M 35.546875 44.671875 \nL 35.0625 44.671875 \nQ 34.03125 44.96875 32.875 45.046875 \nQ 31.734375 45.125 30.125 45.125 \nQ 26.421875 45.125 22.75 43.5 \nQ 19.09375 41.890625 15.828125 38.71875 \nL 15.828125 0 \nL 6.640625 0 \nL 6.640625 54.546875 \nL 15.828125 54.546875 \nL 15.828125 46.4375 \nQ 20.84375 50.875 24.578125 52.703125 \nQ 28.328125 54.546875 31.84375 54.546875 \nQ 33.25 54.546875 33.953125 54.46875 \nQ 34.671875 54.390625 35.546875 54.25 \nz\n\" id=\"Tahoma-114\"/>\n       <path d=\"M 16.015625 0 \nL 6.84375 0 \nL 6.84375 75.984375 \nL 16.015625 75.984375 \nz\n\" id=\"Tahoma-108\"/>\n       <path d=\"M 16.015625 0 \nL 6.84375 0 \nL 6.84375 54.546875 \nL 16.015625 54.546875 \nz\nM 16.65625 63.671875 \nL 6.203125 63.671875 \nL 6.203125 73.1875 \nL 16.65625 73.1875 \nz\n\" id=\"Tahoma-105\"/>\n      </defs>\n      <use xlink:href=\"#Tahoma-99\"/>\n      <use x=\"46.142578\" xlink:href=\"#Tahoma-111\"/>\n      <use x=\"100.439453\" xlink:href=\"#Tahoma-114\"/>\n      <use x=\"136.474609\" xlink:href=\"#Tahoma-114\"/>\n      <use x=\"172.009766\" xlink:href=\"#Tahoma-101\"/>\n      <use x=\"224.646484\" xlink:href=\"#Tahoma-108\"/>\n      <use x=\"247.498047\" xlink:href=\"#Tahoma-97\"/>\n      <use x=\"299.988281\" xlink:href=\"#Tahoma-116\"/>\n      <use x=\"333.435547\" xlink:href=\"#Tahoma-105\"/>\n      <use x=\"356.287109\" xlink:href=\"#Tahoma-111\"/>\n      <use x=\"410.583984\" xlink:href=\"#Tahoma-110\"/>\n     </g>\n    </g>\n   </g>\n   <g id=\"patch_4\">\n    <path d=\"M 498.110938 554.599219 \nL 498.110938 552.475781 \nL 498.110938 13.122656 \nL 498.110938 10.999219 \nL 525.290938 10.999219 \nL 525.290938 13.122656 \nL 525.290938 552.475781 \nL 525.290938 554.599219 \nz\n\" style=\"fill:none;\"/>\n   </g>\n  </g>\n </g>\n <defs>\n  <clipPath id=\"p72d4a8717b\">\n   <rect height=\"446.4\" width=\"446.4\" x=\"23.810938\" y=\"59.599219\"/>\n  </clipPath>\n  <clipPath id=\"pfd4327cdab\">\n   <rect height=\"543.6\" width=\"27.18\" x=\"498.110938\" y=\"10.999219\"/>\n  </clipPath>\n </defs>\n</svg>\n",
      "image/png": "[encoded data removed]"
     },
     "metadata": {
      "needs_background": "light"
     }
    }
   ],
   "source": [
    "corr(q)\n"
   ]
  },
  {
   "cell_type": "code",
   "execution_count": 21,
   "metadata": {},
   "outputs": [
    {
     "output_type": "execute_result",
     "data": {
      "text/plain": [
       "<AxesSubplot:xlabel='topic'>"
      ]
     },
     "metadata": {},
     "execution_count": 21
    },
    {
     "output_type": "display_data",
     "data": {
      "text/plain": "<Figure size 432x288 with 1 Axes>",
      "image/svg+xml": "<?xml version=\"1.0\" encoding=\"utf-8\" standalone=\"no\"?>\n<!DOCTYPE svg PUBLIC \"-//W3C//DTD SVG 1.1//EN\"\n  \"http://www.w3.org/Graphics/SVG/1.1/DTD/svg11.dtd\">\n<!-- Created with matplotlib (https://matplotlib.org/) -->\n<svg height=\"543.585312pt\" version=\"1.1\" viewBox=\"0 0 389.205424 543.585312\" width=\"389.205424pt\" xmlns=\"http://www.w3.org/2000/svg\" xmlns:xlink=\"http://www.w3.org/1999/xlink\">\n <metadata>\n  <rdf:RDF xmlns:cc=\"http://creativecommons.org/ns#\" xmlns:dc=\"http://purl.org/dc/elements/1.1/\" xmlns:rdf=\"http://www.w3.org/1999/02/22-rdf-syntax-ns#\">\n   <cc:Work>\n    <dc:type rdf:resource=\"http://purl.org/dc/dcmitype/StillImage\"/>\n    <dc:date>2021-07-08T02:14:42.899196</dc:date>\n    <dc:format>image/svg+xml</dc:format>\n    <dc:creator>\n     <cc:Agent>\n      <dc:title>Matplotlib v3.3.3, https://matplotlib.org/</dc:title>\n     </cc:Agent>\n    </dc:creator>\n   </cc:Work>\n  </rdf:RDF>\n </metadata>\n <defs>\n  <style type=\"text/css\">*{stroke-linecap:butt;stroke-linejoin:round;}</style>\n </defs>\n <g id=\"figure_1\">\n  <g id=\"patch_1\">\n   <path d=\"M -0 543.585312 \nL 389.205424 543.585312 \nL 389.205424 0 \nL -0 0 \nz\n\" style=\"fill:none;\"/>\n  </g>\n  <g id=\"axes_1\">\n   <g id=\"patch_2\">\n    <path d=\"M 46.95625 224.64 \nL 381.75625 224.64 \nL 381.75625 7.2 \nL 46.95625 7.2 \nz\n\" style=\"fill:#ffffff;\"/>\n   </g>\n   <g id=\"patch_3\">\n    <path clip-path=\"url(#p135650cec1)\" d=\"M 49.347679 224.64 \nL 50.941964 224.64 \nL 50.941964 17.554286 \nL 49.347679 17.554286 \nz\n\" style=\"fill:#1f77b4;\"/>\n   </g>\n   <g id=\"patch_4\">\n    <path clip-path=\"url(#p135650cec1)\" d=\"M 58.913393 224.64 \nL 60.507679 224.64 \nL 60.507679 61.597183 \nL 58.913393 61.597183 \nz\n\" style=\"fill:#1f77b4;\"/>\n   </g>\n   <g id=\"patch_5\">\n    <path clip-path=\"url(#p135650cec1)\" d=\"M 68.479107 224.64 \nL 70.073393 224.64 \nL 70.073393 91.135767 \nL 68.479107 91.135767 \nz\n\" style=\"fill:#1f77b4;\"/>\n   </g>\n   <g id=\"patch_6\">\n    <path clip-path=\"url(#p135650cec1)\" d=\"M 78.044821 224.64 \nL 79.639107 224.64 \nL 79.639107 95.817928 \nL 78.044821 95.817928 \nz\n\" style=\"fill:#1f77b4;\"/>\n   </g>\n   <g id=\"patch_7\">\n    <path clip-path=\"url(#p135650cec1)\" d=\"M 87.610536 224.64 \nL 89.204821 224.64 \nL 89.204821 96.817996 \nL 87.610536 96.817996 \nz\n\" style=\"fill:#1f77b4;\"/>\n   </g>\n   <g id=\"patch_8\">\n    <path clip-path=\"url(#p135650cec1)\" d=\"M 97.17625 224.64 \nL 98.770536 224.64 \nL 98.770536 190.416697 \nL 97.17625 190.416697 \nz\n\" style=\"fill:#1f77b4;\"/>\n   </g>\n   <g id=\"patch_9\">\n    <path clip-path=\"url(#p135650cec1)\" d=\"M 106.741964 224.64 \nL 108.33625 224.64 \nL 108.33625 197.164472 \nL 106.741964 197.164472 \nz\n\" style=\"fill:#1f77b4;\"/>\n   </g>\n   <g id=\"patch_10\">\n    <path clip-path=\"url(#p135650cec1)\" d=\"M 116.307679 224.64 \nL 117.901964 224.64 \nL 117.901964 197.634069 \nL 116.307679 197.634069 \nz\n\" style=\"fill:#1f77b4;\"/>\n   </g>\n   <g id=\"patch_11\">\n    <path clip-path=\"url(#p135650cec1)\" d=\"M 125.873393 224.64 \nL 127.467679 224.64 \nL 127.467679 205.600852 \nL 125.873393 205.600852 \nz\n\" style=\"fill:#1f77b4;\"/>\n   </g>\n   <g id=\"patch_12\">\n    <path clip-path=\"url(#p135650cec1)\" d=\"M 135.439107 224.64 \nL 137.033393 224.64 \nL 137.033393 210.525484 \nL 135.439107 210.525484 \nz\n\" style=\"fill:#1f77b4;\"/>\n   </g>\n   <g id=\"patch_13\">\n    <path clip-path=\"url(#p135650cec1)\" d=\"M 145.004821 224.64 \nL 146.599107 224.64 \nL 146.599107 220.542023 \nL 145.004821 220.542023 \nz\n\" style=\"fill:#1f77b4;\"/>\n   </g>\n   <g id=\"patch_14\">\n    <path clip-path=\"url(#p135650cec1)\" d=\"M 154.570536 224.64 \nL 156.164821 224.64 \nL 156.164821 221.13439 \nL 154.570536 221.13439 \nz\n\" style=\"fill:#1f77b4;\"/>\n   </g>\n   <g id=\"patch_15\">\n    <path clip-path=\"url(#p135650cec1)\" d=\"M 164.13625 224.64 \nL 165.730536 224.64 \nL 165.730536 221.13746 \nL 164.13625 221.13746 \nz\n\" style=\"fill:#1f77b4;\"/>\n   </g>\n   <g id=\"patch_16\">\n    <path clip-path=\"url(#p135650cec1)\" d=\"M 173.701964 224.64 \nL 175.29625 224.64 \nL 175.29625 222.062331 \nL 173.701964 222.062331 \nz\n\" style=\"fill:#1f77b4;\"/>\n   </g>\n   <g id=\"patch_17\">\n    <path clip-path=\"url(#p135650cec1)\" d=\"M 183.267679 224.64 \nL 184.861964 224.64 \nL 184.861964 222.143155 \nL 183.267679 222.143155 \nz\n\" style=\"fill:#1f77b4;\"/>\n   </g>\n   <g id=\"patch_18\">\n    <path clip-path=\"url(#p135650cec1)\" d=\"M 192.833393 224.64 \nL 194.427679 224.64 \nL 194.427679 222.420923 \nL 192.833393 222.420923 \nz\n\" style=\"fill:#1f77b4;\"/>\n   </g>\n   <g id=\"patch_19\">\n    <path clip-path=\"url(#p135650cec1)\" d=\"M 202.399107 224.64 \nL 203.993393 224.64 \nL 203.993393 222.590756 \nL 202.399107 222.590756 \nz\n\" style=\"fill:#1f77b4;\"/>\n   </g>\n   <g id=\"patch_20\">\n    <path clip-path=\"url(#p135650cec1)\" d=\"M 211.964821 224.64 \nL 213.559107 224.64 \nL 213.559107 222.808673 \nL 211.964821 222.808673 \nz\n\" style=\"fill:#1f77b4;\"/>\n   </g>\n   <g id=\"patch_21\">\n    <path clip-path=\"url(#p135650cec1)\" d=\"M 221.530536 224.64 \nL 223.124821 224.64 \nL 223.124821 222.901263 \nL 221.530536 222.901263 \nz\n\" style=\"fill:#1f77b4;\"/>\n   </g>\n   <g id=\"patch_22\">\n    <path clip-path=\"url(#p135650cec1)\" d=\"M 231.09625 224.64 \nL 232.690536 224.64 \nL 232.690536 223.080815 \nL 231.09625 223.080815 \nz\n\" style=\"fill:#1f77b4;\"/>\n   </g>\n   <g id=\"patch_23\">\n    <path clip-path=\"url(#p135650cec1)\" d=\"M 240.661964 224.64 \nL 242.25625 224.64 \nL 242.25625 223.31459 \nL 240.661964 223.31459 \nz\n\" style=\"fill:#1f77b4;\"/>\n   </g>\n   <g id=\"patch_24\">\n    <path clip-path=\"url(#p135650cec1)\" d=\"M 250.227679 224.64 \nL 251.821964 224.64 \nL 251.821964 223.648628 \nL 250.227679 223.648628 \nz\n\" style=\"fill:#1f77b4;\"/>\n   </g>\n   <g id=\"patch_25\">\n    <path clip-path=\"url(#p135650cec1)\" d=\"M 259.793393 224.64 \nL 261.387679 224.64 \nL 261.387679 224.029728 \nL 259.793393 224.029728 \nz\n\" style=\"fill:#1f77b4;\"/>\n   </g>\n   <g id=\"patch_26\">\n    <path clip-path=\"url(#p135650cec1)\" d=\"M 269.359107 224.64 \nL 270.953393 224.64 \nL 270.953393 224.297777 \nL 269.359107 224.297777 \nz\n\" style=\"fill:#1f77b4;\"/>\n   </g>\n   <g id=\"patch_27\">\n    <path clip-path=\"url(#p135650cec1)\" d=\"M 278.924821 224.64 \nL 280.519107 224.64 \nL 280.519107 224.30852 \nL 278.924821 224.30852 \nz\n\" style=\"fill:#1f77b4;\"/>\n   </g>\n   <g id=\"patch_28\">\n    <path clip-path=\"url(#p135650cec1)\" d=\"M 288.490536 224.64 \nL 290.084821 224.64 \nL 290.084821 224.541784 \nL 288.490536 224.541784 \nz\n\" style=\"fill:#1f77b4;\"/>\n   </g>\n   <g id=\"patch_29\">\n    <path clip-path=\"url(#p135650cec1)\" d=\"M 298.05625 224.64 \nL 299.650536 224.64 \nL 299.650536 224.57043 \nL 298.05625 224.57043 \nz\n\" style=\"fill:#1f77b4;\"/>\n   </g>\n   <g id=\"patch_30\">\n    <path clip-path=\"url(#p135650cec1)\" d=\"M 307.621964 224.64 \nL 309.21625 224.64 \nL 309.21625 224.587311 \nL 307.621964 224.587311 \nz\n\" style=\"fill:#1f77b4;\"/>\n   </g>\n   <g id=\"patch_31\">\n    <path clip-path=\"url(#p135650cec1)\" d=\"M 317.187679 224.64 \nL 318.781964 224.64 \nL 318.781964 224.612377 \nL 317.187679 224.612377 \nz\n\" style=\"fill:#1f77b4;\"/>\n   </g>\n   <g id=\"patch_32\">\n    <path clip-path=\"url(#p135650cec1)\" d=\"M 326.753393 224.64 \nL 328.347679 224.64 \nL 328.347679 224.615957 \nL 326.753393 224.615957 \nz\n\" style=\"fill:#1f77b4;\"/>\n   </g>\n   <g id=\"patch_33\">\n    <path clip-path=\"url(#p135650cec1)\" d=\"M 336.319107 224.64 \nL 337.913393 224.64 \nL 337.913393 224.63335 \nL 336.319107 224.63335 \nz\n\" style=\"fill:#1f77b4;\"/>\n   </g>\n   <g id=\"patch_34\">\n    <path clip-path=\"url(#p135650cec1)\" d=\"M 345.884821 224.64 \nL 347.479107 224.64 \nL 347.479107 224.635396 \nL 345.884821 224.635396 \nz\n\" style=\"fill:#1f77b4;\"/>\n   </g>\n   <g id=\"patch_35\">\n    <path clip-path=\"url(#p135650cec1)\" d=\"M 355.450536 224.64 \nL 357.044821 224.64 \nL 357.044821 224.635396 \nL 355.450536 224.635396 \nz\n\" style=\"fill:#1f77b4;\"/>\n   </g>\n   <g id=\"patch_36\">\n    <path clip-path=\"url(#p135650cec1)\" d=\"M 365.01625 224.64 \nL 366.610536 224.64 \nL 366.610536 224.635908 \nL 365.01625 224.635908 \nz\n\" style=\"fill:#1f77b4;\"/>\n   </g>\n   <g id=\"patch_37\">\n    <path clip-path=\"url(#p135650cec1)\" d=\"M 374.581964 224.64 \nL 376.17625 224.64 \nL 376.17625 224.638977 \nL 374.581964 224.638977 \nz\n\" style=\"fill:#1f77b4;\"/>\n   </g>\n   <g id=\"patch_38\">\n    <path clip-path=\"url(#p135650cec1)\" d=\"M 50.941964 224.64 \nL 52.53625 224.64 \nL 52.53625 180.013431 \nL 50.941964 180.013431 \nz\n\" style=\"fill:#ff7f0e;\"/>\n   </g>\n   <g id=\"patch_39\">\n    <path clip-path=\"url(#p135650cec1)\" d=\"M 60.507679 224.64 \nL 62.101964 224.64 \nL 62.101964 164.419531 \nL 60.507679 164.419531 \nz\n\" style=\"fill:#ff7f0e;\"/>\n   </g>\n   <g id=\"patch_40\">\n    <path clip-path=\"url(#p135650cec1)\" d=\"M 70.073393 224.64 \nL 71.667679 224.64 \nL 71.667679 193.075191 \nL 70.073393 193.075191 \nz\n\" style=\"fill:#ff7f0e;\"/>\n   </g>\n   <g id=\"patch_41\">\n    <path clip-path=\"url(#p135650cec1)\" d=\"M 79.639107 224.64 \nL 81.233393 224.64 \nL 81.233393 151.931724 \nL 79.639107 151.931724 \nz\n\" style=\"fill:#ff7f0e;\"/>\n   </g>\n   <g id=\"patch_42\">\n    <path clip-path=\"url(#p135650cec1)\" d=\"M 89.204821 224.64 \nL 90.799107 224.64 \nL 90.799107 180.913237 \nL 89.204821 180.913237 \nz\n\" style=\"fill:#ff7f0e;\"/>\n   </g>\n   <g id=\"patch_43\">\n    <path clip-path=\"url(#p135650cec1)\" d=\"M 98.770536 224.64 \nL 100.364821 224.64 \nL 100.364821 208.398996 \nL 98.770536 208.398996 \nz\n\" style=\"fill:#ff7f0e;\"/>\n   </g>\n   <g id=\"patch_44\">\n    <path clip-path=\"url(#p135650cec1)\" d=\"M 108.33625 224.64 \nL 109.930536 224.64 \nL 109.930536 219.03348 \nL 108.33625 219.03348 \nz\n\" style=\"fill:#ff7f0e;\"/>\n   </g>\n   <g id=\"patch_45\">\n    <path clip-path=\"url(#p135650cec1)\" d=\"M 117.901964 224.64 \nL 119.49625 224.64 \nL 119.49625 215.506897 \nL 117.901964 215.506897 \nz\n\" style=\"fill:#ff7f0e;\"/>\n   </g>\n   <g id=\"patch_46\">\n    <path clip-path=\"url(#p135650cec1)\" d=\"M 127.467679 224.64 \nL 129.061964 224.64 \nL 129.061964 213.803456 \nL 127.467679 213.803456 \nz\n\" style=\"fill:#ff7f0e;\"/>\n   </g>\n   <g id=\"patch_47\">\n    <path clip-path=\"url(#p135650cec1)\" d=\"M 137.033393 224.64 \nL 138.627679 224.64 \nL 138.627679 221.507817 \nL 137.033393 221.507817 \nz\n\" style=\"fill:#ff7f0e;\"/>\n   </g>\n   <g id=\"patch_48\">\n    <path clip-path=\"url(#p135650cec1)\" d=\"M 146.599107 224.64 \nL 148.193393 224.64 \nL 148.193393 223.489026 \nL 146.599107 223.489026 \nz\n\" style=\"fill:#ff7f0e;\"/>\n   </g>\n   <g id=\"patch_49\">\n    <path clip-path=\"url(#p135650cec1)\" d=\"M 156.164821 224.64 \nL 157.759107 224.64 \nL 157.759107 224.250715 \nL 156.164821 224.250715 \nz\n\" style=\"fill:#ff7f0e;\"/>\n   </g>\n   <g id=\"patch_50\">\n    <path clip-path=\"url(#p135650cec1)\" d=\"M 165.730536 224.64 \nL 167.324821 224.64 \nL 167.324821 223.564223 \nL 165.730536 223.564223 \nz\n\" style=\"fill:#ff7f0e;\"/>\n   </g>\n   <g id=\"patch_51\">\n    <path clip-path=\"url(#p135650cec1)\" d=\"M 175.29625 224.64 \nL 176.890536 224.64 \nL 176.890536 223.712571 \nL 175.29625 223.712571 \nz\n\" style=\"fill:#ff7f0e;\"/>\n   </g>\n   <g id=\"patch_52\">\n    <path clip-path=\"url(#p135650cec1)\" d=\"M 184.861964 224.64 \nL 186.45625 224.64 \nL 186.45625 223.71564 \nL 184.861964 223.71564 \nz\n\" style=\"fill:#ff7f0e;\"/>\n   </g>\n   <g id=\"patch_53\">\n    <path clip-path=\"url(#p135650cec1)\" d=\"M 194.427679 224.64 \nL 196.021964 224.64 \nL 196.021964 223.992386 \nL 194.427679 223.992386 \nz\n\" style=\"fill:#ff7f0e;\"/>\n   </g>\n   <g id=\"patch_54\">\n    <path clip-path=\"url(#p135650cec1)\" d=\"M 203.993393 224.64 \nL 205.587679 224.64 \nL 205.587679 223.832784 \nL 203.993393 223.832784 \nz\n\" style=\"fill:#ff7f0e;\"/>\n   </g>\n   <g id=\"patch_55\">\n    <path clip-path=\"url(#p135650cec1)\" d=\"M 213.559107 224.64 \nL 215.153393 224.64 \nL 215.153393 224.156591 \nL 213.559107 224.156591 \nz\n\" style=\"fill:#ff7f0e;\"/>\n   </g>\n   <g id=\"patch_56\">\n    <path clip-path=\"url(#p135650cec1)\" d=\"M 223.124821 224.64 \nL 224.719107 224.64 \nL 224.719107 224.276804 \nL 223.124821 224.276804 \nz\n\" style=\"fill:#ff7f0e;\"/>\n   </g>\n   <g id=\"patch_57\">\n    <path clip-path=\"url(#p135650cec1)\" d=\"M 232.690536 224.64 \nL 234.284821 224.64 \nL 234.284821 224.239461 \nL 232.690536 224.239461 \nz\n\" style=\"fill:#ff7f0e;\"/>\n   </g>\n   <g id=\"patch_58\">\n    <path clip-path=\"url(#p135650cec1)\" d=\"M 242.25625 224.64 \nL 243.850536 224.64 \nL 243.850536 224.218999 \nL 242.25625 224.218999 \nz\n\" style=\"fill:#ff7f0e;\"/>\n   </g>\n   <g id=\"patch_59\">\n    <path clip-path=\"url(#p135650cec1)\" d=\"M 251.821964 224.64 \nL 253.41625 224.64 \nL 253.41625 224.22923 \nL 251.821964 224.22923 \nz\n\" style=\"fill:#ff7f0e;\"/>\n   </g>\n   <g id=\"patch_60\">\n    <path clip-path=\"url(#p135650cec1)\" d=\"M 261.387679 224.64 \nL 262.981964 224.64 \nL 262.981964 224.515183 \nL 261.387679 224.515183 \nz\n\" style=\"fill:#ff7f0e;\"/>\n   </g>\n   <g id=\"patch_61\">\n    <path clip-path=\"url(#p135650cec1)\" d=\"M 270.953393 224.64 \nL 272.547679 224.64 \nL 272.547679 224.486537 \nL 270.953393 224.486537 \nz\n\" style=\"fill:#ff7f0e;\"/>\n   </g>\n   <g id=\"patch_62\">\n    <path clip-path=\"url(#p135650cec1)\" d=\"M 280.519107 224.64 \nL 282.113393 224.64 \nL 282.113393 224.546899 \nL 280.519107 224.546899 \nz\n\" style=\"fill:#ff7f0e;\"/>\n   </g>\n   <g id=\"patch_63\">\n    <path clip-path=\"url(#p135650cec1)\" d=\"M 290.084821 224.64 \nL 291.679107 224.64 \nL 291.679107 224.614934 \nL 290.084821 224.614934 \nz\n\" style=\"fill:#ff7f0e;\"/>\n   </g>\n   <g id=\"patch_64\">\n    <path clip-path=\"url(#p135650cec1)\" d=\"M 299.650536 224.64 \nL 301.244821 224.64 \nL 301.244821 224.618515 \nL 299.650536 224.618515 \nz\n\" style=\"fill:#ff7f0e;\"/>\n   </g>\n   <g id=\"patch_65\">\n    <path clip-path=\"url(#p135650cec1)\" d=\"M 309.21625 224.64 \nL 310.810536 224.64 \nL 310.810536 224.622096 \nL 309.21625 224.622096 \nz\n\" style=\"fill:#ff7f0e;\"/>\n   </g>\n   <g id=\"patch_66\">\n    <path clip-path=\"url(#p135650cec1)\" d=\"M 318.781964 224.64 \nL 320.37625 224.64 \nL 320.37625 224.623631 \nL 318.781964 224.623631 \nz\n\" style=\"fill:#ff7f0e;\"/>\n   </g>\n   <g id=\"patch_67\">\n    <path clip-path=\"url(#p135650cec1)\" d=\"M 328.347679 224.64 \nL 329.941964 224.64 \nL 329.941964 224.627723 \nL 328.347679 224.627723 \nz\n\" style=\"fill:#ff7f0e;\"/>\n   </g>\n   <g id=\"patch_68\">\n    <path clip-path=\"url(#p135650cec1)\" d=\"M 337.913393 224.64 \nL 339.507679 224.64 \nL 339.507679 224.638465 \nL 337.913393 224.638465 \nz\n\" style=\"fill:#ff7f0e;\"/>\n   </g>\n   <g id=\"patch_69\">\n    <path clip-path=\"url(#p135650cec1)\" d=\"M 347.479107 224.64 \nL 349.073393 224.64 \nL 349.073393 224.637442 \nL 347.479107 224.637442 \nz\n\" style=\"fill:#ff7f0e;\"/>\n   </g>\n   <g id=\"patch_70\">\n    <path clip-path=\"url(#p135650cec1)\" d=\"M 357.044821 224.64 \nL 358.639107 224.64 \nL 358.639107 224.637954 \nL 357.044821 224.637954 \nz\n\" style=\"fill:#ff7f0e;\"/>\n   </g>\n   <g id=\"patch_71\">\n    <path clip-path=\"url(#p135650cec1)\" d=\"M 366.610536 224.64 \nL 368.204821 224.64 \nL 368.204821 224.637442 \nL 366.610536 224.637442 \nz\n\" style=\"fill:#ff7f0e;\"/>\n   </g>\n   <g id=\"patch_72\">\n    <path clip-path=\"url(#p135650cec1)\" d=\"M 376.17625 224.64 \nL 377.770536 224.64 \nL 377.770536 224.639488 \nL 376.17625 224.639488 \nz\n\" style=\"fill:#ff7f0e;\"/>\n   </g>\n   <g id=\"patch_73\">\n    <path clip-path=\"url(#p135650cec1)\" d=\"M 52.53625 224.64 \nL 54.130536 224.64 \nL 54.130536 220.732722 \nL 52.53625 220.732722 \nz\n\" style=\"fill:#2ca02c;\"/>\n   </g>\n   <g id=\"patch_74\">\n    <path clip-path=\"url(#p135650cec1)\" d=\"M 62.101964 224.64 \nL 63.69625 224.64 \nL 63.69625 222.277061 \nL 62.101964 222.277061 \nz\n\" style=\"fill:#2ca02c;\"/>\n   </g>\n   <g id=\"patch_75\">\n    <path clip-path=\"url(#p135650cec1)\" d=\"M 71.667679 224.64 \nL 73.261964 224.64 \nL 73.261964 221.915424 \nL 71.667679 221.915424 \nz\n\" style=\"fill:#2ca02c;\"/>\n   </g>\n   <g id=\"patch_76\">\n    <path clip-path=\"url(#p135650cec1)\" d=\"M 81.233393 224.64 \nL 82.827679 224.64 \nL 82.827679 221.777287 \nL 81.233393 221.777287 \nz\n\" style=\"fill:#2ca02c;\"/>\n   </g>\n   <g id=\"patch_77\">\n    <path clip-path=\"url(#p135650cec1)\" d=\"M 90.799107 224.64 \nL 92.393393 224.64 \nL 92.393393 221.596619 \nL 90.799107 221.596619 \nz\n\" style=\"fill:#2ca02c;\"/>\n   </g>\n   <g id=\"patch_78\">\n    <path clip-path=\"url(#p135650cec1)\" d=\"M 100.364821 224.64 \nL 101.959107 224.64 \nL 101.959107 223.417739 \nL 100.364821 223.417739 \nz\n\" style=\"fill:#2ca02c;\"/>\n   </g>\n   <g id=\"patch_79\">\n    <path clip-path=\"url(#p135650cec1)\" d=\"M 109.930536 224.64 \nL 111.524821 224.64 \nL 111.524821 223.19392 \nL 109.930536 223.19392 \nz\n\" style=\"fill:#2ca02c;\"/>\n   </g>\n   <g id=\"patch_80\">\n    <path clip-path=\"url(#p135650cec1)\" d=\"M 119.49625 224.64 \nL 121.090536 224.64 \nL 121.090536 223.708761 \nL 119.49625 223.708761 \nz\n\" style=\"fill:#2ca02c;\"/>\n   </g>\n   <g id=\"patch_81\">\n    <path clip-path=\"url(#p135650cec1)\" d=\"M 129.061964 224.64 \nL 130.65625 224.64 \nL 130.65625 224.287423 \nL 129.061964 224.287423 \nz\n\" style=\"fill:#2ca02c;\"/>\n   </g>\n   <g id=\"patch_82\">\n    <path clip-path=\"url(#p135650cec1)\" d=\"M 138.627679 224.64 \nL 140.221964 224.64 \nL 140.221964 224.11724 \nL 138.627679 224.11724 \nz\n\" style=\"fill:#2ca02c;\"/>\n   </g>\n   <g id=\"patch_83\">\n    <path clip-path=\"url(#p135650cec1)\" d=\"M 148.193393 224.64 \nL 149.787679 224.64 \nL 149.787679 224.561193 \nL 148.193393 224.561193 \nz\n\" style=\"fill:#2ca02c;\"/>\n   </g>\n   <g id=\"patch_84\">\n    <path clip-path=\"url(#p135650cec1)\" d=\"M 157.759107 224.64 \nL 159.353393 224.64 \nL 159.353393 224.594473 \nL 157.759107 224.594473 \nz\n\" style=\"fill:#2ca02c;\"/>\n   </g>\n   <g id=\"patch_85\">\n    <path clip-path=\"url(#p135650cec1)\" d=\"M 167.324821 224.64 \nL 168.919107 224.64 \nL 168.919107 224.494061 \nL 167.324821 224.494061 \nz\n\" style=\"fill:#2ca02c;\"/>\n   </g>\n   <g id=\"patch_86\">\n    <path clip-path=\"url(#p135650cec1)\" d=\"M 176.890536 224.64 \nL 178.484821 224.64 \nL 178.484821 224.556849 \nL 176.890536 224.556849 \nz\n\" style=\"fill:#2ca02c;\"/>\n   </g>\n   <g id=\"patch_87\">\n    <path clip-path=\"url(#p135650cec1)\" d=\"M 186.45625 224.64 \nL 188.050536 224.64 \nL 188.050536 224.568662 \nL 186.45625 224.568662 \nz\n\" style=\"fill:#2ca02c;\"/>\n   </g>\n   <g id=\"patch_88\">\n    <path clip-path=\"url(#p135650cec1)\" d=\"M 196.021964 224.64 \nL 197.61625 224.64 \nL 197.61625 224.583101 \nL 196.021964 224.583101 \nz\n\" style=\"fill:#2ca02c;\"/>\n   </g>\n   <g id=\"patch_89\">\n    <path clip-path=\"url(#p135650cec1)\" d=\"M 205.587679 224.64 \nL 207.181964 224.64 \nL 207.181964 224.586073 \nL 205.587679 224.586073 \nz\n\" style=\"fill:#2ca02c;\"/>\n   </g>\n   <g id=\"patch_90\">\n    <path clip-path=\"url(#p135650cec1)\" d=\"M 215.153393 224.64 \nL 216.747679 224.64 \nL 216.747679 224.604782 \nL 215.153393 224.604782 \nz\n\" style=\"fill:#2ca02c;\"/>\n   </g>\n   <g id=\"patch_91\">\n    <path clip-path=\"url(#p135650cec1)\" d=\"M 224.719107 224.64 \nL 226.313393 224.64 \nL 226.313393 224.575602 \nL 224.719107 224.575602 \nz\n\" style=\"fill:#2ca02c;\"/>\n   </g>\n   <g id=\"patch_92\">\n    <path clip-path=\"url(#p135650cec1)\" d=\"M 234.284821 224.64 \nL 235.879107 224.64 \nL 235.879107 224.553379 \nL 234.284821 224.553379 \nz\n\" style=\"fill:#2ca02c;\"/>\n   </g>\n   <g id=\"patch_93\">\n    <path clip-path=\"url(#p135650cec1)\" d=\"M 243.850536 224.64 \nL 245.444821 224.64 \nL 245.444821 224.613492 \nL 243.850536 224.613492 \nz\n\" style=\"fill:#2ca02c;\"/>\n   </g>\n   <g id=\"patch_94\">\n    <path clip-path=\"url(#p135650cec1)\" d=\"M 253.41625 224.64 \nL 255.010536 224.64 \nL 255.010536 224.624748 \nL 253.41625 224.624748 \nz\n\" style=\"fill:#2ca02c;\"/>\n   </g>\n   <g id=\"patch_95\">\n    <path clip-path=\"url(#p135650cec1)\" d=\"M 262.981964 224.64 \nL 264.57625 224.64 \nL 264.57625 224.599315 \nL 262.981964 224.599315 \nz\n\" style=\"fill:#2ca02c;\"/>\n   </g>\n   <g id=\"patch_96\">\n    <path clip-path=\"url(#p135650cec1)\" d=\"M 272.547679 224.64 \nL 274.141964 224.64 \nL 274.141964 224.636472 \nL 272.547679 224.636472 \nz\n\" style=\"fill:#2ca02c;\"/>\n   </g>\n   <g id=\"patch_97\">\n    <path clip-path=\"url(#p135650cec1)\" d=\"M 282.113393 224.64 \nL 283.707679 224.64 \nL 283.707679 224.631041 \nL 282.113393 224.631041 \nz\n\" style=\"fill:#2ca02c;\"/>\n   </g>\n   <g id=\"patch_98\">\n    <path clip-path=\"url(#p135650cec1)\" d=\"M 291.679107 224.64 \nL 293.273393 224.64 \nL 293.273393 224.623631 \nL 291.679107 224.623631 \nz\n\" style=\"fill:#2ca02c;\"/>\n   </g>\n   <g id=\"patch_99\">\n    <path clip-path=\"url(#p135650cec1)\" d=\"M 301.244821 224.64 \nL 302.839107 224.64 \nL 302.839107 224.631304 \nL 301.244821 224.631304 \nz\n\" style=\"fill:#2ca02c;\"/>\n   </g>\n   <g id=\"patch_100\">\n    <path clip-path=\"url(#p135650cec1)\" d=\"M 310.810536 224.64 \nL 312.404821 224.64 \nL 312.404821 224.633414 \nL 310.810536 224.633414 \nz\n\" style=\"fill:#2ca02c;\"/>\n   </g>\n   <g id=\"patch_101\">\n    <path clip-path=\"url(#p135650cec1)\" d=\"M 320.37625 224.64 \nL 321.970536 224.64 \nL 321.970536 224.633094 \nL 320.37625 224.633094 \nz\n\" style=\"fill:#2ca02c;\"/>\n   </g>\n   <g id=\"patch_102\">\n    <path clip-path=\"url(#p135650cec1)\" d=\"M 329.941964 224.64 \nL 331.53625 224.64 \nL 331.53625 224.627979 \nL 329.941964 224.627979 \nz\n\" style=\"fill:#2ca02c;\"/>\n   </g>\n   <g id=\"patch_103\">\n    <path clip-path=\"url(#p135650cec1)\" d=\"M 339.507679 224.64 \nL 341.101964 224.64 \nL 341.101964 224.639335 \nL 339.507679 224.639335 \nz\n\" style=\"fill:#2ca02c;\"/>\n   </g>\n   <g id=\"patch_104\">\n    <path clip-path=\"url(#p135650cec1)\" d=\"M 349.073393 224.64 \nL 350.667679 224.64 \nL 350.667679 224.638849 \nL 349.073393 224.638849 \nz\n\" style=\"fill:#2ca02c;\"/>\n   </g>\n   <g id=\"patch_105\">\n    <path clip-path=\"url(#p135650cec1)\" d=\"M 358.639107 224.64 \nL 360.233393 224.64 \nL 360.233393 224.639079 \nL 358.639107 224.639079 \nz\n\" style=\"fill:#2ca02c;\"/>\n   </g>\n   <g id=\"patch_106\">\n    <path clip-path=\"url(#p135650cec1)\" d=\"M 368.204821 224.64 \nL 369.799107 224.64 \nL 369.799107 224.639182 \nL 368.204821 224.639182 \nz\n\" style=\"fill:#2ca02c;\"/>\n   </g>\n   <g id=\"patch_107\">\n    <path clip-path=\"url(#p135650cec1)\" d=\"M 377.770536 224.64 \nL 379.364821 224.64 \nL 379.364821 224.639795 \nL 377.770536 224.639795 \nz\n\" style=\"fill:#2ca02c;\"/>\n   </g>\n   <g id=\"matplotlib.axis_1\">\n    <g id=\"xtick_1\">\n     <g id=\"line2d_1\">\n      <defs>\n       <path d=\"M 0 0 \nL 0 3.5 \n\" id=\"maddc5fdd44\" style=\"stroke:#000000;stroke-width:0.8;\"/>\n      </defs>\n      <g>\n       <use style=\"stroke:#000000;stroke-width:0.8;\" x=\"51.739107\" xlink:href=\"#maddc5fdd44\" y=\"224.64\"/>\n      </g>\n     </g>\n     <g id=\"text_1\">\n      <!-- ขายฝันของพรรค -->\n      <g transform=\"translate(54.532076 299.663437)rotate(-90)scale(0.1 -0.1)\">\n       <defs>\n        <path d=\"M 52.984375 0 \nL 12.796875 0 \nL 12.796875 8.6875 \nL 19 8.6875 \nL 19 21.1875 \nQ 19 24.90625 20 27.359375 \nQ 21 29.828125 22.953125 32.765625 \nQ 25.140625 36.078125 25.671875 37.9375 \nQ 26.21875 39.796875 26.21875 41.5 \nQ 26.21875 49.515625 19.484375 49.515625 \nQ 18.21875 49.515625 17.484375 49.03125 \nQ 21.484375 46 21.484375 41.5 \nQ 21.484375 37.703125 18.75 35.015625 \nQ 16.015625 32.328125 12.203125 32.328125 \nQ 8.40625 32.328125 5.6875 35.03125 \nQ 2.984375 37.75 2.984375 41.609375 \nQ 2.984375 48.09375 7.546875 52.09375 \nQ 12.109375 56.109375 19.484375 56.109375 \nQ 26.515625 56.109375 30.8125 52.125 \nQ 35.109375 48.140625 35.109375 41.609375 \nQ 35.109375 39.453125 34.453125 37.015625 \nQ 33.796875 34.578125 31.34375 30.28125 \nQ 28.21875 24.90625 28.21875 21.578125 \nL 28.21875 8.6875 \nL 43.796875 8.6875 \nL 43.796875 54.59375 \nL 52.984375 54.59375 \nz\nM 12.203125 37.796875 \nQ 13.71875 37.796875 14.8125 38.890625 \nQ 15.921875 39.984375 15.921875 41.609375 \nQ 15.921875 43.0625 14.8125 44.140625 \nQ 13.71875 45.21875 12.203125 45.21875 \nQ 10.6875 45.21875 9.59375 44.140625 \nQ 8.5 43.0625 8.5 41.609375 \nQ 8.5 39.984375 9.59375 38.890625 \nQ 10.6875 37.796875 12.203125 37.796875 \nz\n\" id=\"Tahoma-3586\"/>\n        <path d=\"M 40.28125 0 \nL 31.109375 0 \nL 31.109375 35.015625 \nQ 31.109375 41.3125 28.09375 44.65625 \nQ 25.09375 48 19.828125 48 \nQ 11.765625 48 3.328125 43.015625 \nL 2.6875 43.015625 \nL 2.6875 52.6875 \nQ 11.328125 56 19.828125 56 \nQ 40.28125 56 40.28125 35.59375 \nz\n\" id=\"Tahoma-3634\"/>\n        <path d=\"M 49.8125 0 \nL 8.203125 0 \nL 8.203125 15.71875 \nQ 8.203125 20.703125 13.1875 23.578125 \nQ 8.296875 26.46875 8.296875 31.59375 \nL 8.296875 43.015625 \nQ 8.296875 49.03125 11.765625 52.5625 \nQ 15.234375 56.109375 21 56.109375 \nQ 24.8125 56.109375 27.5625 53.34375 \nQ 30.328125 50.59375 30.328125 46.78125 \nQ 30.328125 42.96875 27.59375 40.28125 \nQ 24.859375 37.59375 21 37.59375 \nQ 19 37.59375 17.484375 38.1875 \nL 17.484375 31.78125 \nQ 17.484375 26.609375 22.703125 26.609375 \nL 24.609375 26.609375 \nL 24.609375 20.609375 \nL 22.703125 20.609375 \nQ 17.484375 20.609375 17.484375 15.71875 \nL 17.484375 8.6875 \nL 40.578125 8.6875 \nL 40.578125 54.59375 \nL 49.8125 54.59375 \nz\nM 21 43.21875 \nQ 22.515625 43.21875 23.609375 44.265625 \nQ 24.703125 45.3125 24.703125 46.78125 \nQ 24.703125 48.4375 23.609375 49.515625 \nQ 22.515625 50.59375 21 50.59375 \nQ 19.484375 50.59375 18.375 49.484375 \nQ 17.28125 48.390625 17.28125 46.78125 \nQ 17.28125 45.3125 18.375 44.265625 \nQ 19.484375 43.21875 21 43.21875 \nz\n\" id=\"Tahoma-3618\"/>\n        <path d=\"M 54.984375 0 \nL 45.796875 0 \nQ 45.796875 1.375 44.328125 4.078125 \nQ 42.875 6.78125 37.3125 14.3125 \nQ 32.90625 20.265625 31.5 22.515625 \nQ 30.125 20.3125 25.828125 14.40625 \nQ 20.265625 6.84375 18.765625 4.109375 \nQ 17.28125 1.375 17.28125 0 \nL 8.203125 0 \nL 8.203125 43.015625 \nQ 8.203125 49.03125 11.640625 52.5625 \nQ 15.09375 56.109375 20.90625 56.109375 \nQ 24.703125 56.109375 27.4375 53.34375 \nQ 30.171875 50.59375 30.171875 46.78125 \nQ 30.171875 42.96875 27.453125 40.28125 \nQ 24.75 37.59375 20.90625 37.59375 \nQ 18.890625 37.59375 17.390625 38.1875 \nL 17.390625 12.203125 \nQ 17.390625 13.71875 24.75 23.53125 \nQ 30.515625 31.203125 30.515625 32.078125 \nL 32.515625 32.078125 \nQ 32.515625 31.203125 38.328125 23.53125 \nQ 45.796875 13.71875 45.796875 12.203125 \nL 45.796875 80.515625 \nL 54.984375 80.515625 \nz\nM 20.90625 43.21875 \nQ 22.40625 43.21875 23.5 44.265625 \nQ 24.609375 45.3125 24.609375 46.78125 \nQ 24.609375 48.4375 23.5 49.515625 \nQ 22.40625 50.59375 20.90625 50.59375 \nQ 19.390625 50.59375 18.28125 49.484375 \nQ 17.1875 48.390625 17.1875 46.78125 \nQ 17.1875 45.3125 18.28125 44.265625 \nQ 19.390625 43.21875 20.90625 43.21875 \nz\n\" id=\"Tahoma-3613\"/>\n        <path d=\"M 7.171875 75.921875 \nQ 4.78125 67.875 -2.515625 63.140625 \nQ -9.8125 58.40625 -19.4375 58.40625 \nQ -26.46875 58.40625 -30.546875 61.453125 \nQ -34.625 64.5 -34.625 69.625 \nQ -34.625 73.4375 -31.859375 76.171875 \nQ -29.109375 78.90625 -25.296875 78.90625 \nQ -21.53125 78.90625 -18.8125 76.171875 \nQ -16.109375 73.4375 -16.109375 69.625 \nQ -16.109375 65.578125 -18.015625 63.328125 \nQ -11.578125 63.328125 -5.78125 67.375 \nQ 0 71.4375 0.875 75.921875 \nz\nM -25.296875 65.921875 \nQ -23.828125 65.921875 -22.78125 67.015625 \nQ -21.734375 68.109375 -21.734375 69.625 \nQ -21.734375 71.140625 -22.78125 72.234375 \nQ -23.828125 73.34375 -25.296875 73.34375 \nQ -26.90625 73.34375 -28 72.234375 \nQ -29.109375 71.140625 -29.109375 69.625 \nQ -29.109375 68.109375 -28 67.015625 \nQ -26.90625 65.921875 -25.296875 65.921875 \nz\n\" id=\"Tahoma-3633\"/>\n        <path d=\"M 51.703125 17.09375 \nQ 56.984375 14.203125 56.984375 8.59375 \nQ 56.984375 4.78125 54.25 2 \nQ 51.515625 -0.78125 47.703125 -0.78125 \nQ 43.890625 -0.78125 41.078125 2 \nQ 38.28125 4.78125 38.28125 8.59375 \nQ 38.28125 9.421875 38.375 9.8125 \nQ 31.15625 6.34375 24.421875 0 \nL 15.828125 0 \nL 15.828125 38.1875 \nQ 14.3125 37.59375 12.3125 37.59375 \nQ 8.5 37.59375 5.734375 40.296875 \nQ 2.984375 43.015625 2.984375 46.78125 \nQ 2.984375 50.640625 5.734375 53.375 \nQ 8.5 56.109375 12.3125 56.109375 \nQ 18.0625 56.109375 21.53125 52.5625 \nQ 25 49.03125 25 43.015625 \nL 25 8.890625 \nQ 33.453125 15.671875 42.484375 17.828125 \nL 42.484375 54.59375 \nL 51.703125 54.59375 \nz\nM 12.3125 43.21875 \nQ 13.8125 43.21875 14.90625 44.265625 \nQ 16.015625 45.3125 16.015625 46.78125 \nQ 16.015625 48.4375 14.90625 49.515625 \nQ 13.8125 50.59375 12.3125 50.59375 \nQ 10.796875 50.59375 9.6875 49.484375 \nQ 8.59375 48.390625 8.59375 46.78125 \nQ 8.59375 45.3125 9.6875 44.265625 \nQ 10.796875 43.21875 12.3125 43.21875 \nz\nM 47.609375 4.78125 \nQ 49.125 4.78125 50.21875 5.875 \nQ 51.3125 6.984375 51.3125 8.59375 \nQ 51.3125 10.109375 50.21875 11.15625 \nQ 49.125 12.203125 47.609375 12.203125 \nQ 46.09375 12.203125 44.984375 11.125 \nQ 43.890625 10.0625 43.890625 8.59375 \nQ 43.890625 6.984375 44.984375 5.875 \nQ 46.09375 4.78125 47.609375 4.78125 \nz\n\" id=\"Tahoma-3609\"/>\n        <path d=\"M 51.3125 0 \nL 8.203125 0 \nL 8.203125 21.296875 \nQ 8.203125 27.390625 11.671875 30.90625 \nQ 15.140625 34.421875 20.90625 34.421875 \nQ 24.703125 34.421875 27.4375 31.65625 \nQ 30.171875 28.90625 30.171875 25.09375 \nQ 30.171875 21.296875 27.4375 18.609375 \nQ 24.703125 15.921875 20.90625 15.921875 \nQ 18.890625 15.921875 17.390625 16.5 \nL 17.390625 8.6875 \nL 42.09375 8.6875 \nL 42.09375 33.890625 \nQ 42.09375 40.578125 38.296875 44.328125 \nQ 34.515625 48.09375 28.078125 48.09375 \nQ 18.0625 48.09375 8.40625 41.609375 \nL 7.8125 41.609375 \nL 7.8125 51.90625 \nQ 18.359375 56.109375 27.875 56.109375 \nQ 39.203125 56.109375 45.25 50.21875 \nQ 51.3125 44.34375 51.3125 33.890625 \nz\nM 20.90625 21.484375 \nQ 22.40625 21.484375 23.5 22.5625 \nQ 24.609375 23.640625 24.609375 25.09375 \nQ 24.609375 26.703125 23.5 27.796875 \nQ 22.40625 28.90625 20.90625 28.90625 \nQ 19.390625 28.90625 18.28125 27.796875 \nQ 17.1875 26.703125 17.1875 25.09375 \nQ 17.1875 23.640625 18.28125 22.5625 \nQ 19.390625 21.484375 20.90625 21.484375 \nz\n\" id=\"Tahoma-3629\"/>\n        <path d=\"M 41.015625 15.921875 \nQ 41.015625 7.375 37.171875 2.875 \nQ 33.34375 -1.609375 26.8125 -1.609375 \nQ 22.609375 -1.609375 19.0625 0.90625 \nQ 15.53125 3.421875 12.75 9.328125 \nL 1.421875 33.015625 \nL 10.984375 33.015625 \nQ 19.828125 14.5 20.75 12.640625 \nQ 21.6875 10.796875 23.265625 8.9375 \nQ 24.859375 7.078125 26.8125 7.078125 \nQ 31.78125 7.078125 31.78125 15.921875 \nL 31.78125 38.09375 \nQ 30.28125 37.5 28.328125 37.5 \nQ 24.46875 37.5 21.734375 40.203125 \nQ 19 42.921875 19 46.6875 \nQ 19 50.484375 21.75 53.234375 \nQ 24.515625 56 28.328125 56 \nQ 34.078125 56 37.546875 52.453125 \nQ 41.015625 48.921875 41.015625 42.921875 \nz\nM 28.21875 43.109375 \nQ 29.6875 43.109375 30.78125 44.15625 \nQ 31.890625 45.21875 31.890625 46.6875 \nQ 31.890625 48.296875 30.8125 49.390625 \nQ 29.734375 50.484375 28.21875 50.484375 \nQ 26.65625 50.484375 25.578125 49.390625 \nQ 24.515625 48.296875 24.515625 46.6875 \nQ 24.515625 45.21875 25.609375 44.15625 \nQ 26.703125 43.109375 28.21875 43.109375 \nz\n\" id=\"Tahoma-3591\"/>\n        <path d=\"M 62.59375 0 \nL 51.703125 0 \nQ 51.703125 4.6875 44 26.375 \nQ 40.046875 37.5 39.203125 40.578125 \nQ 38.375 37.5 34.421875 26.375 \nQ 26.703125 4.6875 26.703125 0 \nL 15.828125 0 \nL 15.828125 38.1875 \nQ 14.3125 37.59375 12.3125 37.59375 \nQ 8.5 37.59375 5.734375 40.296875 \nQ 2.984375 43.015625 2.984375 46.78125 \nQ 2.984375 50.640625 5.734375 53.375 \nQ 8.5 56.109375 12.3125 56.109375 \nQ 18.0625 56.109375 21.53125 52.5625 \nQ 25 49.03125 25 43.015625 \nL 25 15.578125 \nQ 25 17.578125 29.890625 31.109375 \nQ 37.109375 50.984375 37.109375 55.171875 \nL 41.3125 55.171875 \nQ 41.3125 51.03125 48.34375 31.640625 \nQ 53.421875 17.71875 53.421875 15.578125 \nL 53.421875 54.59375 \nL 62.59375 54.59375 \nz\nM 12.3125 43.21875 \nQ 13.8125 43.21875 14.90625 44.265625 \nQ 16.015625 45.3125 16.015625 46.78125 \nQ 16.015625 48.4375 14.90625 49.515625 \nQ 13.8125 50.59375 12.3125 50.59375 \nQ 10.796875 50.59375 9.6875 49.484375 \nQ 8.59375 48.390625 8.59375 46.78125 \nQ 8.59375 45.3125 9.6875 44.265625 \nQ 10.796875 43.21875 12.3125 43.21875 \nz\n\" id=\"Tahoma-3614\"/>\n        <path d=\"M 40.921875 47.796875 \nQ 36.578125 46.921875 31.890625 46.921875 \nL 21 47.40625 \nQ 16.109375 47.40625 13.390625 45.8125 \nQ 10.6875 44.234375 10.6875 41.890625 \nQ 12.25 42.1875 15.1875 42.1875 \nQ 25.921875 42.1875 30.046875 37.734375 \nQ 34.1875 33.296875 34.1875 22.90625 \nL 34.1875 12.3125 \nQ 34.1875 6.25 30.734375 2.734375 \nQ 27.296875 -0.78125 21.484375 -0.78125 \nQ 17.671875 -0.78125 14.9375 1.953125 \nQ 12.203125 4.6875 12.203125 8.5 \nQ 12.203125 12.3125 14.9375 14.984375 \nQ 17.671875 17.671875 21.484375 17.671875 \nQ 23.484375 17.671875 25 17.09375 \nL 25 22.90625 \nQ 25 29.546875 22.65625 32.46875 \nQ 20.3125 35.40625 15.1875 35.40625 \nQ 13.09375 35.40625 10.40625 35.125 \nQ 7.71875 34.859375 5.765625 34.515625 \nL 2.296875 33.890625 \nL 2 33.890625 \nL 2 37.3125 \nQ 2 45.84375 6.25 50.578125 \nQ 10.5 55.328125 21 55.328125 \nL 31.890625 54.890625 \nQ 34.078125 54.890625 36.421875 55.375 \nL 40.484375 56.296875 \nL 40.921875 56.296875 \nz\nM 21.484375 4.6875 \nQ 23.046875 4.6875 24.125 5.78125 \nQ 25.203125 6.890625 25.203125 8.5 \nQ 25.203125 10.015625 24.09375 11.0625 \nQ 23 12.109375 21.484375 12.109375 \nQ 19.96875 12.109375 18.890625 11.03125 \nQ 17.828125 9.96875 17.828125 8.5 \nQ 17.828125 6.890625 18.890625 5.78125 \nQ 19.96875 4.6875 21.484375 4.6875 \nz\n\" id=\"Tahoma-3619\"/>\n        <path d=\"M 53.328125 0 \nL 44.09375 0 \nL 44.09375 31.5 \nQ 44.09375 47.40625 29.6875 47.40625 \nQ 22.796875 47.40625 19.03125 43.328125 \nQ 15.28125 39.265625 15.28125 32.515625 \nQ 15.28125 26.375 17.484375 18.796875 \nQ 19.09375 26.3125 21.96875 31.140625 \nQ 24.859375 35.984375 29.984375 35.984375 \nQ 33.796875 35.984375 36.546875 33.25 \nQ 39.3125 30.515625 39.3125 26.703125 \nQ 39.3125 22.90625 36.578125 20.1875 \nQ 33.84375 17.484375 29.984375 17.484375 \nQ 27.4375 17.484375 25.484375 18.703125 \nQ 19.390625 12.546875 19.390625 0 \nL 10.203125 0 \nL 10.203125 4.203125 \nQ 10.203125 8.25 8.34375 17.09375 \nQ 6.203125 27.15625 6.203125 32.421875 \nQ 6.203125 43.015625 12.28125 49.5625 \nQ 18.359375 56.109375 29.6875 56.109375 \nQ 53.328125 56.109375 53.328125 31.5 \nz\nM 30.078125 23.09375 \nQ 31.59375 23.09375 32.6875 24.171875 \nQ 33.796875 25.25 33.796875 26.703125 \nQ 33.796875 28.328125 32.71875 29.421875 \nQ 31.640625 30.515625 30.078125 30.515625 \nQ 28.5625 30.515625 27.484375 29.421875 \nQ 26.421875 28.328125 26.421875 26.703125 \nQ 26.421875 25.25 27.515625 24.171875 \nQ 28.609375 23.09375 30.078125 23.09375 \nz\n\" id=\"Tahoma-3588\"/>\n       </defs>\n       <use xlink:href=\"#Tahoma-3586\"/>\n       <use x=\"61.279297\" xlink:href=\"#Tahoma-3634\"/>\n       <use x=\"109.765625\" xlink:href=\"#Tahoma-3618\"/>\n       <use x=\"167.675781\" xlink:href=\"#Tahoma-3613\"/>\n       <use x=\"230.859375\" xlink:href=\"#Tahoma-3633\"/>\n       <use x=\"230.859375\" xlink:href=\"#Tahoma-3609\"/>\n       <use x=\"292.041016\" xlink:href=\"#Tahoma-3586\"/>\n       <use x=\"353.320312\" xlink:href=\"#Tahoma-3629\"/>\n       <use x=\"412.841797\" xlink:href=\"#Tahoma-3591\"/>\n       <use x=\"462.060547\" xlink:href=\"#Tahoma-3614\"/>\n       <use x=\"532.861328\" xlink:href=\"#Tahoma-3619\"/>\n       <use x=\"575.78125\" xlink:href=\"#Tahoma-3619\"/>\n       <use x=\"618.701172\" xlink:href=\"#Tahoma-3588\"/>\n      </g>\n     </g>\n    </g>\n    <g id=\"xtick_2\">\n     <g id=\"line2d_2\">\n      <g>\n       <use style=\"stroke:#000000;stroke-width:0.8;\" x=\"61.304821\" xlink:href=\"#maddc5fdd44\" y=\"224.64\"/>\n      </g>\n     </g>\n     <g id=\"text_2\">\n      <!-- บันทึกการเดินทางของลูกทีมพรรค -->\n      <g transform=\"translate(64.314978 368.860312)rotate(-90)scale(0.1 -0.1)\">\n       <defs>\n        <path d=\"M 54.78125 0 \nL 8.796875 0 \nL 8.796875 8.6875 \nL 16.796875 8.6875 \nL 16.796875 38.1875 \nQ 15.28125 37.59375 13.28125 37.59375 \nQ 9.46875 37.59375 6.734375 40.296875 \nQ 4 43.015625 4 46.78125 \nQ 4 50.640625 6.734375 53.375 \nQ 9.46875 56.109375 13.28125 56.109375 \nQ 19.09375 56.109375 22.53125 52.5625 \nQ 25.984375 49.03125 25.984375 43.015625 \nL 25.984375 8.6875 \nL 45.609375 8.6875 \nL 45.609375 54.59375 \nL 54.78125 54.59375 \nz\nM 13.28125 43.21875 \nQ 14.796875 43.21875 15.890625 44.265625 \nQ 17 45.3125 17 46.78125 \nQ 17 48.390625 15.921875 49.484375 \nQ 14.84375 50.59375 13.28125 50.59375 \nQ 11.765625 50.59375 10.6875 49.484375 \nQ 9.625 48.390625 9.625 46.78125 \nQ 9.625 45.3125 10.6875 44.265625 \nQ 11.765625 43.21875 13.28125 43.21875 \nz\n\" id=\"Tahoma-3610\"/>\n        <path d=\"M 63.375 0 \nL 54.203125 0 \nL 54.203125 41.40625 \nQ 54.203125 47.703125 50.59375 47.703125 \nQ 47.515625 47.703125 43 37.15625 \nQ 38.484375 26.609375 29.59375 0 \nL 16.796875 0 \nL 16.796875 38.1875 \nQ 15.28125 37.59375 13.28125 37.59375 \nQ 9.46875 37.59375 6.734375 40.296875 \nQ 4 43.015625 4 46.78125 \nQ 4 50.640625 6.734375 53.375 \nQ 9.46875 56.109375 13.28125 56.109375 \nQ 19.09375 56.109375 22.53125 52.5625 \nQ 25.984375 49.03125 25.984375 43.015625 \nL 25.984375 8.59375 \nQ 33.0625 29.34375 35.40625 35.71875 \nQ 37.75 42.09375 40.5 47.125 \nQ 43.265625 52.15625 46 54.125 \nQ 48.734375 56.109375 52.296875 56.109375 \nQ 57.46875 56.109375 60.421875 52.21875 \nQ 63.375 48.34375 63.375 41.609375 \nz\nM 13.28125 43.21875 \nQ 14.796875 43.21875 15.890625 44.265625 \nQ 17 45.3125 17 46.78125 \nQ 17 48.390625 15.921875 49.484375 \nQ 14.84375 50.59375 13.28125 50.59375 \nQ 11.765625 50.59375 10.6875 49.484375 \nQ 9.625 48.390625 9.625 46.78125 \nQ 9.625 45.3125 10.6875 44.265625 \nQ 11.765625 43.21875 13.28125 43.21875 \nz\n\" id=\"Tahoma-3607\"/>\n        <path d=\"M -23.4375 74.21875 \nQ -23.09375 76.90625 -21.109375 78.65625 \nQ -19.140625 80.421875 -16.65625 80.421875 \nQ -13.875 80.421875 -11.859375 78.390625 \nQ -9.859375 76.375 -9.859375 73.578125 \nQ -9.859375 71.390625 -11.21875 69.53125 \nQ -12.59375 67.671875 -14.84375 67 \nQ -13.375 64.796875 -11.671875 59.1875 \nL -51.5625 59.1875 \nQ -49.703125 64.890625 -48.046875 67.375 \nQ -46.390625 69.875 -43.671875 71.890625 \nQ -40.96875 73.921875 -37.84375 74.953125 \nQ -34.71875 75.984375 -31.546875 75.984375 \nQ -27.390625 75.984375 -23.4375 74.21875 \nz\nM -16.546875 70.703125 \nQ -15.328125 70.703125 -14.453125 71.546875 \nQ -13.578125 72.40625 -13.578125 73.578125 \nQ -13.578125 74.8125 -14.46875 75.703125 \nQ -15.375 76.609375 -16.546875 76.609375 \nQ -17.71875 76.609375 -18.625 75.703125 \nQ -19.53125 74.8125 -19.53125 73.578125 \nQ -19.53125 72.40625 -18.65625 71.546875 \nQ -17.78125 70.703125 -16.546875 70.703125 \nz\nM -19.53125 64.59375 \nQ -20.703125 67.234375 -24.125 68.875 \nQ -27.546875 70.515625 -31.546875 70.515625 \nQ -35.59375 70.515625 -39.015625 68.875 \nQ -42.4375 67.234375 -43.5625 64.59375 \nz\n\" id=\"Tahoma-3638\"/>\n        <path d=\"M 51.3125 0 \nL 42.09375 0 \nL 42.09375 31.5 \nQ 42.09375 40.375 38.96875 43.890625 \nQ 35.84375 47.40625 29.203125 47.40625 \nQ 18.890625 47.40625 16.796875 39.015625 \nL 26.125 39.015625 \nL 26.125 32.515625 \nQ 17.390625 29.25 17.390625 18.109375 \nL 17.390625 0 \nL 8.203125 0 \nL 8.203125 16.5 \nQ 8.203125 29.25 16.796875 32.078125 \nL 7.171875 32.078125 \nL 7.171875 32.421875 \nQ 7.171875 43.109375 12.890625 49.609375 \nQ 18.609375 56.109375 29.203125 56.109375 \nQ 40.71875 56.109375 46.015625 50.265625 \nQ 51.3125 44.4375 51.3125 31.5 \nz\n\" id=\"Tahoma-3585\"/>\n        <path d=\"M 17.390625 17.09375 \nQ 18.890625 17.671875 20.90625 17.671875 \nQ 24.703125 17.671875 27.4375 14.984375 \nQ 30.171875 12.3125 30.171875 8.5 \nQ 30.171875 4.6875 27.4375 1.953125 \nQ 24.703125 -0.78125 20.90625 -0.78125 \nQ 15.140625 -0.78125 11.671875 2.734375 \nQ 8.203125 6.25 8.203125 12.3125 \nL 8.203125 54.59375 \nL 17.390625 54.59375 \nz\nM 20.90625 4.6875 \nQ 22.40625 4.6875 23.5 5.78125 \nQ 24.609375 6.890625 24.609375 8.5 \nQ 24.609375 9.96875 23.5 11.03125 \nQ 22.40625 12.109375 20.90625 12.109375 \nQ 19.390625 12.109375 18.28125 11.03125 \nQ 17.1875 9.96875 17.1875 8.5 \nQ 17.1875 6.890625 18.28125 5.78125 \nQ 19.390625 4.6875 20.90625 4.6875 \nz\n\" id=\"Tahoma-3648\"/>\n        <path d=\"M 53.328125 0 \nL 44.09375 0 \nL 44.09375 31.5 \nQ 44.09375 47.40625 29.6875 47.40625 \nQ 22.796875 47.40625 19.03125 43.328125 \nQ 15.28125 39.265625 15.28125 32.515625 \nQ 15.28125 26.609375 17.484375 18.796875 \nQ 18.0625 16.84375 19.1875 8.796875 \nL 24.359375 13.765625 \nQ 26.953125 16.3125 27.78125 18.3125 \nQ 24.359375 19.1875 22.4375 21.65625 \nQ 20.515625 24.125 20.515625 27.390625 \nQ 20.515625 31.203125 23.1875 33.90625 \nQ 25.875 36.625 29.6875 36.625 \nQ 33.640625 36.625 36.28125 33.8125 \nQ 38.921875 31 38.921875 26.8125 \nQ 38.921875 22.21875 35.859375 17.015625 \nQ 32.8125 11.8125 23.828125 4.109375 \nQ 21.1875 1.859375 19.390625 0 \nL 10.203125 0 \nL 10.203125 4.203125 \nQ 10.203125 8.25 8.34375 17.09375 \nQ 6.203125 27.15625 6.203125 32.421875 \nQ 6.203125 43.015625 12.28125 49.5625 \nQ 18.359375 56.109375 29.6875 56.109375 \nQ 53.328125 56.109375 53.328125 31.5 \nz\nM 29.890625 23.6875 \nQ 31.390625 23.6875 32.484375 24.75 \nQ 33.59375 25.828125 33.59375 27.296875 \nQ 33.59375 28.90625 32.515625 30 \nQ 31.453125 31.109375 29.890625 31.109375 \nQ 28.375 31.109375 27.296875 30 \nQ 26.21875 28.90625 26.21875 27.296875 \nQ 26.21875 25.828125 27.296875 24.75 \nQ 28.375 23.6875 29.890625 23.6875 \nz\n\" id=\"Tahoma-3604\"/>\n        <path d=\"M -11.671875 59.1875 \nL -51.5625 59.1875 \nQ -49.703125 64.890625 -48.046875 67.375 \nQ -46.390625 69.875 -43.671875 71.890625 \nQ -40.96875 73.921875 -37.84375 74.953125 \nQ -34.71875 75.984375 -31.546875 75.984375 \nQ -25.25 75.984375 -19.953125 72.234375 \nQ -14.65625 68.5 -12.640625 62.3125 \nz\nM -19.53125 64.59375 \nQ -20.703125 67.234375 -24.125 68.875 \nQ -27.546875 70.515625 -31.546875 70.515625 \nQ -35.59375 70.515625 -39.015625 68.875 \nQ -42.4375 67.234375 -43.5625 64.59375 \nz\n\" id=\"Tahoma-3636\"/>\n        <path d=\"M 53.421875 0 \nL 44.1875 0 \nQ 35.5 16.5 32.859375 20.765625 \nQ 30.21875 25.046875 27.390625 27.359375 \nQ 24.5625 29.6875 21.921875 29.6875 \nQ 19.390625 29.6875 17.796875 27.96875 \nQ 16.21875 26.265625 16.21875 23.578125 \nL 16.21875 17.09375 \nQ 17.71875 17.671875 19.671875 17.671875 \nQ 23.53125 17.671875 26.265625 14.984375 \nQ 29 12.3125 29 8.5 \nQ 29 4.6875 26.234375 1.953125 \nQ 23.484375 -0.78125 19.671875 -0.78125 \nQ 13.921875 -0.78125 10.453125 2.734375 \nQ 6.984375 6.25 6.984375 12.3125 \nL 6.984375 23.390625 \nQ 6.984375 30.515625 10.765625 34.296875 \nQ 14.546875 38.09375 21.296875 38.09375 \nQ 25.921875 38.09375 29.828125 35.109375 \nQ 33.734375 32.125 36.046875 28.46875 \nQ 38.375 24.8125 44.1875 13.484375 \nL 44.1875 33.890625 \nQ 44.1875 40.578125 40.375 44.328125 \nQ 36.578125 48.09375 30.078125 48.09375 \nQ 20.015625 48.09375 10.296875 41.609375 \nL 9.8125 41.609375 \nL 9.8125 51.90625 \nQ 20.359375 56.109375 29.984375 56.109375 \nQ 41.265625 56.109375 47.34375 50.1875 \nQ 53.421875 44.28125 53.421875 33.890625 \nz\nM 19.671875 4.6875 \nQ 21.234375 4.6875 22.3125 5.78125 \nQ 23.390625 6.890625 23.390625 8.5 \nQ 23.390625 9.96875 22.28125 11.03125 \nQ 21.1875 12.109375 19.671875 12.109375 \nQ 18.21875 12.109375 17.109375 11.03125 \nQ 16.015625 9.96875 16.015625 8.5 \nQ 16.015625 6.890625 17.09375 5.78125 \nQ 18.171875 4.6875 19.671875 4.6875 \nz\n\" id=\"Tahoma-3621\"/>\n        <path d=\"M -9.1875 -14.015625 \nQ -9.1875 -20.21875 -15.28125 -20.21875 \nL -29.109375 -20.21875 \nL -29.109375 -14.40625 \nQ -31.640625 -14.40625 -33.421875 -12.6875 \nQ -35.203125 -10.984375 -35.203125 -8.6875 \nQ -35.203125 -6.25 -33.5625 -4.609375 \nQ -31.9375 -2.984375 -29.59375 -2.984375 \nQ -27.25 -2.984375 -25.515625 -4.640625 \nQ -23.78125 -6.296875 -23.78125 -8.6875 \nL -23.78125 -14.984375 \nL -16.40625 -14.984375 \nQ -14.40625 -14.984375 -14.40625 -12.890625 \nL -14.40625 -2.984375 \nL -9.1875 -2.984375 \nz\nM -29.6875 -10.40625 \nQ -29.046875 -10.40625 -28.515625 -9.890625 \nQ -27.984375 -9.375 -27.984375 -8.6875 \nQ -27.984375 -8.015625 -28.484375 -7.5 \nQ -29 -6.984375 -29.6875 -6.984375 \nQ -30.375 -6.984375 -30.875 -7.5 \nQ -31.390625 -8.015625 -31.390625 -8.6875 \nQ -31.390625 -9.375 -30.875 -9.890625 \nQ -30.375 -10.40625 -29.6875 -10.40625 \nz\n\" id=\"Tahoma-3641\"/>\n        <path d=\"M -11.671875 59.1875 \nL -51.5625 59.1875 \nQ -49.703125 64.890625 -48.046875 67.375 \nQ -46.390625 69.875 -43.671875 71.890625 \nQ -40.96875 73.921875 -37.84375 74.953125 \nQ -34.71875 75.984375 -31.546875 75.984375 \nQ -23.046875 75.984375 -17.140625 69.828125 \nL -17.140625 80.328125 \nL -11.671875 80.328125 \nz\nM -19.53125 64.59375 \nQ -20.703125 67.234375 -24.125 68.875 \nQ -27.546875 70.515625 -31.546875 70.515625 \nQ -35.59375 70.515625 -39.015625 68.875 \nQ -42.4375 67.234375 -43.5625 64.59375 \nz\n\" id=\"Tahoma-3637\"/>\n        <path d=\"M 51.703125 0 \nL 43.109375 0 \nQ 33.796875 8.9375 25 11.375 \nL 25 10.015625 \nQ 25 4.6875 21.9375 1.953125 \nQ 18.890625 -0.78125 14.3125 -0.78125 \nQ 10.015625 -0.78125 7.34375 1.5625 \nQ 4.6875 3.90625 4.6875 7.8125 \nQ 4.6875 11.53125 7.640625 14.375 \nQ 10.59375 17.234375 15.828125 17.828125 \nL 15.828125 38.1875 \nQ 14.3125 37.59375 12.3125 37.59375 \nQ 8.5 37.59375 5.734375 40.296875 \nQ 2.984375 43.015625 2.984375 46.78125 \nQ 2.984375 50.640625 5.734375 53.375 \nQ 8.5 56.109375 12.3125 56.109375 \nQ 18.0625 56.109375 21.53125 52.5625 \nQ 25 49.03125 25 43.015625 \nL 25 17.390625 \nQ 33.796875 15.28125 42.484375 8.890625 \nL 42.484375 54.59375 \nL 51.703125 54.59375 \nz\nM 12.3125 43.21875 \nQ 13.8125 43.21875 14.90625 44.265625 \nQ 16.015625 45.3125 16.015625 46.78125 \nQ 16.015625 48.4375 14.90625 49.515625 \nQ 13.8125 50.59375 12.3125 50.59375 \nQ 10.796875 50.59375 9.6875 49.484375 \nQ 8.59375 48.390625 8.59375 46.78125 \nQ 8.59375 45.3125 9.6875 44.265625 \nQ 10.796875 43.21875 12.3125 43.21875 \nz\nM 15.828125 8.5 \nL 15.828125 12.3125 \nQ 13.328125 11.96875 11.859375 10.640625 \nQ 10.40625 9.328125 10.40625 7.8125 \nQ 10.40625 6.390625 11.125 5.53125 \nQ 11.859375 4.6875 12.984375 4.6875 \nQ 15.828125 4.6875 15.828125 8.5 \nz\n\" id=\"Tahoma-3617\"/>\n       </defs>\n       <use xlink:href=\"#Tahoma-3610\"/>\n       <use x=\"62.988281\" xlink:href=\"#Tahoma-3633\"/>\n       <use x=\"62.988281\" xlink:href=\"#Tahoma-3609\"/>\n       <use x=\"124.169922\" xlink:href=\"#Tahoma-3607\"/>\n       <use x=\"195.751953\" xlink:href=\"#Tahoma-3638\"/>\n       <use x=\"195.751953\" xlink:href=\"#Tahoma-3585\"/>\n       <use x=\"255.273438\" xlink:href=\"#Tahoma-3585\"/>\n       <use x=\"314.794922\" xlink:href=\"#Tahoma-3634\"/>\n       <use x=\"363.28125\" xlink:href=\"#Tahoma-3619\"/>\n       <use x=\"406.201172\" xlink:href=\"#Tahoma-3648\"/>\n       <use x=\"439.404297\" xlink:href=\"#Tahoma-3604\"/>\n       <use x=\"500.927734\" xlink:href=\"#Tahoma-3636\"/>\n       <use x=\"500.927734\" xlink:href=\"#Tahoma-3609\"/>\n       <use x=\"562.109375\" xlink:href=\"#Tahoma-3607\"/>\n       <use x=\"633.691406\" xlink:href=\"#Tahoma-3634\"/>\n       <use x=\"682.177734\" xlink:href=\"#Tahoma-3591\"/>\n       <use x=\"731.396484\" xlink:href=\"#Tahoma-3586\"/>\n       <use x=\"792.675781\" xlink:href=\"#Tahoma-3629\"/>\n       <use x=\"852.197266\" xlink:href=\"#Tahoma-3591\"/>\n       <use x=\"901.416016\" xlink:href=\"#Tahoma-3621\"/>\n       <use x=\"963.037109\" xlink:href=\"#Tahoma-3641\"/>\n       <use x=\"963.037109\" xlink:href=\"#Tahoma-3585\"/>\n       <use x=\"1022.558594\" xlink:href=\"#Tahoma-3607\"/>\n       <use x=\"1094.140625\" xlink:href=\"#Tahoma-3637\"/>\n       <use x=\"1094.140625\" xlink:href=\"#Tahoma-3617\"/>\n       <use x=\"1154.052734\" xlink:href=\"#Tahoma-3614\"/>\n       <use x=\"1224.853516\" xlink:href=\"#Tahoma-3619\"/>\n       <use x=\"1267.773438\" xlink:href=\"#Tahoma-3619\"/>\n       <use x=\"1310.693359\" xlink:href=\"#Tahoma-3588\"/>\n      </g>\n     </g>\n    </g>\n    <g id=\"xtick_3\">\n     <g id=\"line2d_3\">\n      <g>\n       <use style=\"stroke:#000000;stroke-width:0.8;\" x=\"70.870536\" xlink:href=\"#maddc5fdd44\" y=\"224.64\"/>\n      </g>\n     </g>\n     <g id=\"text_3\">\n      <!-- นโยบายเศรษฐกิจและภาคใต้ -->\n      <g transform=\"translate(73.934598 348.038437)rotate(-90)scale(0.1 -0.1)\">\n       <defs>\n        <path d=\"M 33.109375 17.09375 \nQ 34.625 17.671875 36.625 17.671875 \nQ 40.4375 17.671875 43.171875 14.984375 \nQ 45.90625 12.3125 45.90625 8.5 \nQ 45.90625 4.6875 43.171875 1.953125 \nQ 40.4375 -0.78125 36.625 -0.78125 \nQ 30.8125 -0.78125 27.34375 2.734375 \nQ 23.875 6.25 23.875 12.3125 \nL 23.875 48.09375 \nQ 23.875 55.5625 22.1875 58.078125 \nQ 20.515625 60.59375 16.21875 60.59375 \nQ 14.109375 60.59375 11.390625 60.328125 \nQ 8.6875 60.0625 6.78125 59.765625 \nL 3.328125 59.078125 \nL 2.984375 59.078125 \nL 2.984375 62.5 \nQ 2.984375 71.046875 7.25 75.78125 \nQ 11.53125 80.515625 22.015625 80.515625 \nL 32.90625 80.078125 \nQ 35.109375 80.078125 37.453125 80.5625 \nL 41.5 81.5 \nL 41.890625 81.5 \nL 41.890625 73 \nQ 37.546875 72.125 32.90625 72.125 \nL 22.015625 72.609375 \nQ 17.09375 72.609375 14.40625 71.015625 \nQ 11.71875 69.4375 11.71875 67.09375 \nQ 13.234375 67.390625 16.21875 67.390625 \nQ 26.21875 67.390625 29.65625 63.140625 \nQ 33.109375 58.890625 33.109375 48.09375 \nz\nM 36.625 4.6875 \nQ 38.140625 4.6875 39.203125 5.78125 \nQ 40.28125 6.890625 40.28125 8.5 \nQ 40.28125 10.015625 39.1875 11.0625 \nQ 38.09375 12.109375 36.625 12.109375 \nQ 35.109375 12.109375 34 11.03125 \nQ 32.90625 9.96875 32.90625 8.5 \nQ 32.90625 6.890625 33.984375 5.78125 \nQ 35.0625 4.6875 36.625 4.6875 \nz\n\" id=\"Tahoma-3650\"/>\n        <path d=\"M 57.421875 61.625 \nQ 55.859375 54.890625 48.875 48.296875 \nQ 53.328125 42.4375 53.328125 31.5 \nL 53.328125 0 \nL 44.09375 0 \nL 44.09375 31.5 \nQ 44.09375 38.03125 41.5 42.09375 \nQ 38.53125 39.84375 33.6875 37.890625 \nL 31.390625 41.109375 \nQ 34.625 42.625 37.703125 45.609375 \nQ 34.578125 47.40625 29.6875 47.40625 \nQ 22.796875 47.40625 19.03125 43.328125 \nQ 15.28125 39.265625 15.28125 32.515625 \nQ 15.28125 26.375 17.484375 18.796875 \nQ 19.09375 26.3125 21.96875 31.140625 \nQ 24.859375 35.984375 29.984375 35.984375 \nQ 33.796875 35.984375 36.546875 33.25 \nQ 39.3125 30.515625 39.3125 26.703125 \nQ 39.3125 22.90625 36.578125 20.1875 \nQ 33.84375 17.484375 29.984375 17.484375 \nQ 27.4375 17.484375 25.484375 18.703125 \nQ 19.390625 12.546875 19.390625 0 \nL 10.203125 0 \nL 10.203125 4.203125 \nQ 10.203125 8.25 8.34375 17.09375 \nQ 6.203125 27.15625 6.203125 32.421875 \nQ 6.203125 43.015625 12.28125 49.5625 \nQ 18.359375 56.109375 29.6875 56.109375 \nQ 38.625 56.109375 44.09375 52.6875 \nQ 45.75 54.734375 46.875 57.375 \nQ 48 60.015625 48 61.625 \nz\nM 30.078125 23.09375 \nQ 31.59375 23.09375 32.6875 24.171875 \nQ 33.796875 25.25 33.796875 26.703125 \nQ 33.796875 28.328125 32.71875 29.421875 \nQ 31.640625 30.515625 30.078125 30.515625 \nQ 28.5625 30.515625 27.484375 29.421875 \nQ 26.421875 28.328125 26.421875 26.703125 \nQ 26.421875 25.25 27.515625 24.171875 \nQ 28.609375 23.09375 30.078125 23.09375 \nz\n\" id=\"Tahoma-3624\"/>\n        <path d=\"M 71.296875 40.828125 \nQ 68.015625 29.25 58.890625 25.203125 \nL 58.890625 0 \nL 8.796875 0 \nL 8.796875 8.6875 \nL 16.796875 8.6875 \nL 16.796875 38.1875 \nQ 15.28125 37.59375 13.28125 37.59375 \nQ 9.46875 37.59375 6.734375 40.296875 \nQ 4 43.015625 4 46.78125 \nQ 4 50.640625 6.734375 53.375 \nQ 9.46875 56.109375 13.28125 56.109375 \nQ 19.09375 56.109375 22.53125 52.5625 \nQ 25.984375 49.03125 25.984375 43.015625 \nL 25.984375 8.6875 \nL 49.703125 8.6875 \nL 49.703125 22.609375 \nQ 46.96875 21.78125 43.21875 21.78125 \nQ 36.96875 21.78125 32.78125 25.265625 \nQ 28.609375 28.765625 28.609375 33.796875 \nQ 28.609375 37.59375 31.34375 40.34375 \nQ 34.078125 43.109375 37.890625 43.109375 \nQ 41.703125 43.109375 44.40625 40.34375 \nQ 47.125 37.59375 47.125 33.796875 \nQ 47.125 30.125 44.484375 27.296875 \nQ 47.21875 27.296875 49.703125 28.078125 \nL 49.703125 54.59375 \nL 58.890625 54.59375 \nL 58.890625 31.390625 \nQ 63.71875 34.515625 64.984375 40.828125 \nz\nM 13.28125 43.21875 \nQ 14.796875 43.21875 15.890625 44.265625 \nQ 17 45.3125 17 46.78125 \nQ 17 48.390625 15.921875 49.484375 \nQ 14.84375 50.59375 13.28125 50.59375 \nQ 11.765625 50.59375 10.6875 49.484375 \nQ 9.625 48.390625 9.625 46.78125 \nQ 9.625 45.3125 10.6875 44.265625 \nQ 11.765625 43.21875 13.28125 43.21875 \nz\nM 37.890625 30.078125 \nQ 39.359375 30.078125 40.421875 31.171875 \nQ 41.5 32.28125 41.5 33.796875 \nQ 41.5 35.296875 40.421875 36.390625 \nQ 39.359375 37.5 37.890625 37.5 \nQ 36.28125 37.5 35.171875 36.421875 \nQ 34.078125 35.359375 34.078125 33.796875 \nQ 34.078125 32.28125 35.171875 31.171875 \nQ 36.28125 30.078125 37.890625 30.078125 \nz\n\" id=\"Tahoma-3625\"/>\n        <path d=\"M 48.296875 47.796875 \nQ 44.53125 46.921875 37.703125 46.921875 \nL 24.21875 47.40625 \nQ 14.65625 47.40625 13.234375 40.09375 \nQ 17.828125 41.3125 24.3125 41.3125 \nQ 36.28125 41.3125 41.84375 36.8125 \nQ 47.40625 32.328125 47.40625 21.921875 \nL 47.40625 0 \nL 37.703125 0 \nQ 32.8125 9.625 26.8125 14.796875 \nQ 24.5625 8.796875 17.828125 8.796875 \nQ 14.015625 8.796875 11.25 11.5 \nQ 8.5 14.203125 8.5 18.015625 \nQ 8.5 21.828125 11.25 24.5625 \nQ 14.015625 27.296875 17.828125 27.296875 \nQ 22.65625 27.296875 27.78125 23.3125 \nQ 32.90625 19.34375 38.328125 11.375 \nL 38.328125 21.921875 \nQ 38.328125 28.421875 35.109375 31.421875 \nQ 31.890625 34.421875 24.421875 34.421875 \nQ 16.796875 34.421875 10.640625 32.859375 \nL 5.21875 31.296875 \nL 4.9375 31.296875 \nL 4.9375 36.28125 \nQ 4.9375 44.390625 9.9375 49.859375 \nQ 14.9375 55.328125 24.421875 55.328125 \nL 37.703125 54.890625 \nQ 40.09375 54.890625 41.96875 55.046875 \nQ 43.84375 55.21875 45.265625 55.609375 \nL 47.796875 56.296875 \nL 48.296875 56.296875 \nz\nM 17.828125 14.40625 \nQ 19.34375 14.40625 20.4375 15.453125 \nQ 21.53125 16.5 21.53125 18.015625 \nQ 21.53125 19.625 20.4375 20.703125 \nQ 19.34375 21.78125 17.828125 21.78125 \nQ 16.265625 21.78125 15.1875 20.703125 \nQ 14.109375 19.625 14.109375 18.015625 \nQ 14.109375 16.5 15.203125 15.453125 \nQ 16.3125 14.40625 17.828125 14.40625 \nz\nM 46.1875 -20.125 \nL 42.09375 -20.125 \nL 34.515625 -15.28125 \nL 28.03125 -20.125 \nL 21.625 -14.890625 \nQ 17.4375 -20.21875 12.796875 -20.21875 \nQ 8.796875 -20.21875 6.5 -17.875 \nQ 4.203125 -15.53125 4.203125 -12.109375 \nQ 4.203125 -8.734375 6.46875 -6.46875 \nQ 8.734375 -4.203125 12.703125 -4.203125 \nQ 15.921875 -4.203125 20.40625 -7.71875 \nQ 21.4375 -6 22.40625 -3.609375 \nL 27.390625 -3.609375 \nQ 26.171875 -7.375 24.421875 -10.59375 \nL 28.125 -13.71875 \nL 34.515625 -9.078125 \nL 42 -13.8125 \nL 42 -9.71875 \nQ 40.375 -9.71875 39.171875 -8.515625 \nQ 37.984375 -7.328125 37.984375 -5.609375 \nQ 37.984375 -3.90625 39.171875 -2.703125 \nQ 40.375 -1.515625 42.09375 -1.515625 \nQ 43.84375 -1.515625 45.015625 -2.703125 \nQ 46.1875 -3.90625 46.1875 -5.609375 \nz\nM 17.4375 -12.015625 \nQ 14.0625 -9.71875 12.796875 -9.71875 \nQ 9.71875 -9.71875 9.71875 -12.109375 \nQ 9.71875 -13.375 10.46875 -14.03125 \nQ 11.234375 -14.703125 12.796875 -14.703125 \nQ 14.984375 -14.703125 17.4375 -12.015625 \nz\n\" id=\"Tahoma-3600\"/>\n        <path d=\"M 47.40625 0 \nL 37.703125 0 \nQ 35.9375 5.5625 33.6875 10.375 \nQ 31.453125 15.1875 28.71875 19.28125 \nQ 25.53125 14.796875 20.796875 14.796875 \nQ 17 14.796875 14.265625 17.5 \nQ 11.53125 20.21875 11.53125 24.03125 \nQ 11.53125 27.78125 14.265625 30.53125 \nQ 17 33.296875 20.796875 33.296875 \nQ 26.375 33.296875 30.4375 29.015625 \nQ 34.515625 24.75 38.28125 15.484375 \nL 38.28125 33.890625 \nQ 38.28125 40.71875 34.859375 44.40625 \nQ 31.453125 48.09375 25.203125 48.09375 \nQ 15.140625 48.09375 5.515625 41.609375 \nL 4.890625 41.609375 \nL 4.890625 51.90625 \nQ 15.4375 56.109375 25 56.109375 \nQ 36.03125 56.109375 41.71875 50.359375 \nQ 47.40625 44.625 47.40625 33.890625 \nz\nM 20.796875 20.40625 \nQ 22.3125 20.40625 23.40625 21.453125 \nQ 24.515625 22.515625 24.515625 24.03125 \nQ 24.515625 25.59375 23.40625 26.6875 \nQ 22.3125 27.78125 20.796875 27.78125 \nQ 19.28125 27.78125 18.1875 26.6875 \nQ 17.09375 25.59375 17.09375 24.03125 \nQ 17.09375 22.515625 18.1875 21.453125 \nQ 19.28125 20.40625 20.796875 20.40625 \nz\n\" id=\"Tahoma-3592\"/>\n        <path d=\"M 17.390625 17.09375 \nQ 18.890625 17.671875 20.90625 17.671875 \nQ 24.703125 17.671875 27.4375 14.984375 \nQ 30.171875 12.3125 30.171875 8.5 \nQ 30.171875 4.6875 27.4375 1.953125 \nQ 24.703125 -0.78125 20.90625 -0.78125 \nQ 15.140625 -0.78125 11.671875 2.734375 \nQ 8.203125 6.25 8.203125 12.3125 \nL 8.203125 54.59375 \nL 17.390625 54.59375 \nz\nM 20.90625 4.6875 \nQ 22.40625 4.6875 23.5 5.78125 \nQ 24.609375 6.890625 24.609375 8.5 \nQ 24.609375 9.96875 23.5 11.03125 \nQ 22.40625 12.109375 20.90625 12.109375 \nQ 19.390625 12.109375 18.28125 11.03125 \nQ 17.1875 9.96875 17.1875 8.5 \nQ 17.1875 6.890625 18.28125 5.78125 \nQ 19.390625 4.6875 20.90625 4.6875 \nz\nM 43.390625 17.09375 \nQ 44.890625 17.671875 46.90625 17.671875 \nQ 50.703125 17.671875 53.4375 14.984375 \nQ 56.171875 12.3125 56.171875 8.5 \nQ 56.171875 4.6875 53.4375 1.953125 \nQ 50.703125 -0.78125 46.90625 -0.78125 \nQ 41.140625 -0.78125 37.671875 2.734375 \nQ 34.203125 6.25 34.203125 12.3125 \nL 34.203125 54.59375 \nL 43.390625 54.59375 \nz\nM 46.90625 4.6875 \nQ 48.40625 4.6875 49.5 5.78125 \nQ 50.609375 6.890625 50.609375 8.5 \nQ 50.609375 9.96875 49.5 11.03125 \nQ 48.40625 12.109375 46.90625 12.109375 \nQ 45.390625 12.109375 44.28125 11.03125 \nQ 43.1875 9.96875 43.1875 8.5 \nQ 43.1875 6.890625 44.28125 5.78125 \nQ 45.390625 4.6875 46.90625 4.6875 \nz\n\" id=\"Tahoma-3649\"/>\n        <path d=\"M 41.40625 55.328125 \nQ 39.796875 43.953125 33.890625 38.328125 \nQ 27.984375 32.71875 19.484375 32.71875 \nQ 13.421875 32.71875 8.953125 37.0625 \nQ 4.5 41.40625 4.5 46.78125 \nL 4.5 47.21875 \nQ 4.5 51.078125 7.03125 53.59375 \nQ 9.578125 56.109375 13.375 56.109375 \nQ 17.4375 56.109375 19.921875 53.640625 \nQ 22.40625 51.171875 22.40625 47.21875 \nQ 22.40625 41.0625 15.71875 39.015625 \nQ 17.484375 38.1875 19.28125 38.1875 \nQ 25.984375 38.1875 30 42.75 \nQ 34.03125 47.3125 34.71875 55.328125 \nz\nM 13.375 43.5 \nQ 14.890625 43.5 15.9375 44.59375 \nQ 17 45.703125 17 47.21875 \nQ 17 48.734375 15.9375 49.796875 \nQ 14.890625 50.875 13.375 50.875 \nQ 11.8125 50.875 10.71875 49.796875 \nQ 9.625 48.734375 9.625 47.21875 \nQ 9.625 45.65625 10.71875 44.578125 \nQ 11.8125 43.5 13.375 43.5 \nz\nM 41.40625 24.125 \nQ 39.796875 12.75 33.890625 7.125 \nQ 27.984375 1.515625 19.484375 1.515625 \nQ 13.421875 1.515625 8.953125 5.859375 \nQ 4.5 10.203125 4.5 15.578125 \nL 4.5 16.015625 \nQ 4.5 19.875 7.03125 22.390625 \nQ 9.578125 24.90625 13.375 24.90625 \nQ 17.4375 24.90625 19.921875 22.4375 \nQ 22.40625 19.96875 22.40625 16.015625 \nQ 22.40625 9.859375 15.71875 7.8125 \nQ 17.484375 6.984375 19.28125 6.984375 \nQ 25.984375 6.984375 30 11.546875 \nQ 34.03125 16.109375 34.71875 24.125 \nz\nM 13.375 12.3125 \nQ 14.890625 12.3125 15.9375 13.40625 \nQ 17 14.5 17 16.015625 \nQ 17 17.53125 15.9375 18.59375 \nQ 14.890625 19.671875 13.375 19.671875 \nQ 11.8125 19.671875 10.71875 18.59375 \nQ 9.625 17.53125 9.625 16.015625 \nQ 9.625 14.453125 10.6875 13.375 \nQ 11.765625 12.3125 13.375 12.3125 \nz\n\" id=\"Tahoma-3632\"/>\n        <path d=\"M 53.90625 0 \nL 44.671875 0 \nL 44.671875 31.5 \nQ 44.671875 40.328125 41.5 43.859375 \nQ 38.328125 47.40625 31.6875 47.40625 \nQ 21.625 47.40625 19.28125 39.015625 \nL 30.90625 39.015625 \nL 30.90625 32.515625 \nQ 27.78125 31.34375 26.875 28.53125 \nQ 25.984375 25.734375 25.984375 20.125 \nL 25.984375 12.3125 \nQ 25.984375 6.25 22.53125 2.734375 \nQ 19.09375 -0.78125 13.28125 -0.78125 \nQ 9.46875 -0.78125 6.734375 1.953125 \nQ 4 4.6875 4 8.5 \nQ 4 12.3125 6.734375 14.984375 \nQ 9.46875 17.671875 13.28125 17.671875 \nQ 15.28125 17.671875 16.796875 17.09375 \nL 16.796875 20.015625 \nQ 16.796875 30.125 22.90625 32.078125 \nL 9.71875 32.078125 \nL 9.71875 32.421875 \nQ 9.71875 43.0625 15.421875 49.578125 \nQ 21.140625 56.109375 31.6875 56.109375 \nQ 43.3125 56.109375 48.609375 50.265625 \nQ 53.90625 44.4375 53.90625 31.5 \nz\nM 13.28125 4.6875 \nQ 14.84375 4.6875 15.921875 5.78125 \nQ 17 6.890625 17 8.5 \nQ 17 9.96875 15.890625 11.03125 \nQ 14.796875 12.109375 13.28125 12.109375 \nQ 11.8125 12.109375 10.71875 11.03125 \nQ 9.625 9.96875 9.625 8.5 \nQ 9.625 6.890625 10.6875 5.78125 \nQ 11.765625 4.6875 13.28125 4.6875 \nz\n\" id=\"Tahoma-3616\"/>\n        <path d=\"M 28.21875 17.09375 \nQ 29.6875 17.671875 31.6875 17.671875 \nQ 35.5 17.671875 38.25 14.984375 \nQ 41.015625 12.3125 41.015625 8.5 \nQ 41.015625 4.6875 38.28125 1.953125 \nQ 35.546875 -0.78125 31.6875 -0.78125 \nQ 25.921875 -0.78125 22.453125 2.734375 \nQ 19 6.25 19 12.3125 \nL 19 45.609375 \nQ 19 49.3125 20 51.78125 \nQ 21 54.25 22.953125 57.171875 \nQ 25.140625 60.5 25.671875 62.34375 \nQ 26.21875 64.203125 26.21875 65.921875 \nQ 26.21875 73.875 19.484375 73.875 \nQ 18.21875 73.875 17.484375 73.390625 \nQ 21.484375 70.40625 21.484375 65.921875 \nQ 21.484375 62.109375 18.75 59.390625 \nQ 16.015625 56.6875 12.203125 56.6875 \nQ 8.40625 56.6875 5.6875 59.390625 \nQ 2.984375 62.109375 2.984375 66.015625 \nQ 2.984375 72.515625 7.546875 76.515625 \nQ 12.109375 80.515625 19.484375 80.515625 \nQ 26.515625 80.515625 30.8125 76.515625 \nQ 35.109375 72.515625 35.109375 66.015625 \nQ 35.109375 63.8125 34.453125 61.390625 \nQ 33.796875 58.984375 31.34375 54.6875 \nQ 28.21875 49.265625 28.21875 46 \nz\nM 12.203125 62.203125 \nQ 13.71875 62.203125 14.8125 63.296875 \nQ 15.921875 64.40625 15.921875 66.015625 \nQ 15.921875 67.484375 14.8125 68.53125 \nQ 13.71875 69.578125 12.203125 69.578125 \nQ 10.6875 69.578125 9.59375 68.53125 \nQ 8.5 67.484375 8.5 66.015625 \nQ 8.5 64.40625 9.59375 63.296875 \nQ 10.6875 62.203125 12.203125 62.203125 \nz\nM 31.6875 4.6875 \nQ 33.203125 4.6875 34.296875 5.78125 \nQ 35.40625 6.890625 35.40625 8.5 \nQ 35.40625 9.96875 34.296875 11.03125 \nQ 33.203125 12.109375 31.6875 12.109375 \nQ 30.171875 12.109375 29.078125 11.03125 \nQ 27.984375 9.96875 27.984375 8.5 \nQ 27.984375 6.890625 29.078125 5.78125 \nQ 30.171875 4.6875 31.6875 4.6875 \nz\n\" id=\"Tahoma-3651\"/>\n        <path d=\"M 53.328125 0 \nL 44.09375 0 \nL 44.09375 31.5 \nQ 44.09375 42.625 36.28125 48.1875 \nL 29.6875 43.21875 \nL 23 48.1875 \nQ 15.28125 42.484375 15.28125 32.515625 \nQ 15.28125 26.609375 17.484375 18.796875 \nQ 18.0625 16.84375 19.1875 8.796875 \nL 24.359375 13.765625 \nQ 26.953125 16.3125 27.78125 18.3125 \nQ 24.359375 19.1875 22.4375 21.65625 \nQ 20.515625 24.125 20.515625 27.390625 \nQ 20.515625 31.203125 23.1875 33.90625 \nQ 25.875 36.625 29.6875 36.625 \nQ 33.640625 36.625 36.28125 33.8125 \nQ 38.921875 31 38.921875 26.8125 \nQ 38.921875 22.21875 35.859375 17.015625 \nQ 32.8125 11.8125 23.828125 4.109375 \nQ 21.1875 1.859375 19.390625 0 \nL 10.203125 0 \nL 10.203125 4.203125 \nQ 10.203125 8.25 8.34375 17.09375 \nQ 6.203125 27.15625 6.203125 32.421875 \nQ 6.203125 43.0625 10.515625 48.28125 \nQ 14.84375 53.515625 23.09375 56.296875 \nL 29.6875 51.21875 \nL 36.28125 56.296875 \nQ 45.171875 53.90625 49.25 47.84375 \nQ 53.328125 41.796875 53.328125 31.5 \nz\nM 29.890625 23.6875 \nQ 31.390625 23.6875 32.484375 24.75 \nQ 33.59375 25.828125 33.59375 27.296875 \nQ 33.59375 28.90625 32.515625 30 \nQ 31.453125 31.109375 29.890625 31.109375 \nQ 28.375 31.109375 27.296875 30 \nQ 26.21875 28.90625 26.21875 27.296875 \nQ 26.21875 25.828125 27.296875 24.75 \nQ 28.375 23.6875 29.890625 23.6875 \nz\n\" id=\"Tahoma-3605\"/>\n        <path d=\"M -8.5625 75.78125 \nQ -14.96875 62.59375 -34.5 59.71875 \nL -32.09375 64.984375 \nQ -34.25 65.28125 -35.609375 66.90625 \nQ -36.984375 68.546875 -36.984375 70.703125 \nQ -36.984375 73.046875 -35.390625 74.734375 \nQ -33.8125 76.421875 -31.46875 76.421875 \nQ -29.21875 76.421875 -27.609375 74.734375 \nQ -26 73.046875 -26 70.703125 \nQ -26 67.28125 -28 64.984375 \nQ -19.890625 67.09375 -14.765625 75.78125 \nz\nM -31.46875 69 \nQ -30.828125 69 -30.3125 69.5 \nQ -29.8125 70.015625 -29.8125 70.703125 \nQ -29.8125 71.390625 -30.3125 71.890625 \nQ -30.828125 72.40625 -31.46875 72.40625 \nQ -32.15625 72.40625 -32.65625 71.890625 \nQ -33.171875 71.390625 -33.171875 70.703125 \nQ -33.171875 70.015625 -32.65625 69.5 \nQ -32.15625 69 -31.46875 69 \nz\n\" id=\"Tahoma-3657\"/>\n       </defs>\n       <use xlink:href=\"#Tahoma-3609\"/>\n       <use x=\"61.181641\" xlink:href=\"#Tahoma-3650\"/>\n       <use x=\"110.400391\" xlink:href=\"#Tahoma-3618\"/>\n       <use x=\"168.310547\" xlink:href=\"#Tahoma-3610\"/>\n       <use x=\"231.298828\" xlink:href=\"#Tahoma-3634\"/>\n       <use x=\"279.785156\" xlink:href=\"#Tahoma-3618\"/>\n       <use x=\"337.695312\" xlink:href=\"#Tahoma-3648\"/>\n       <use x=\"370.898438\" xlink:href=\"#Tahoma-3624\"/>\n       <use x=\"432.421875\" xlink:href=\"#Tahoma-3619\"/>\n       <use x=\"475.341797\" xlink:href=\"#Tahoma-3625\"/>\n       <use x=\"549.755859\" xlink:href=\"#Tahoma-3600\"/>\n       <use x=\"605.371094\" xlink:href=\"#Tahoma-3585\"/>\n       <use x=\"664.892578\" xlink:href=\"#Tahoma-3636\"/>\n       <use x=\"664.892578\" xlink:href=\"#Tahoma-3592\"/>\n       <use x=\"720.507812\" xlink:href=\"#Tahoma-3649\"/>\n       <use x=\"779.6875\" xlink:href=\"#Tahoma-3621\"/>\n       <use x=\"841.308594\" xlink:href=\"#Tahoma-3632\"/>\n       <use x=\"886.132812\" xlink:href=\"#Tahoma-3616\"/>\n       <use x=\"948.242188\" xlink:href=\"#Tahoma-3634\"/>\n       <use x=\"996.728516\" xlink:href=\"#Tahoma-3588\"/>\n       <use x=\"1058.251953\" xlink:href=\"#Tahoma-3651\"/>\n       <use x=\"1102.441406\" xlink:href=\"#Tahoma-3605\"/>\n       <use x=\"1163.964844\" xlink:href=\"#Tahoma-3657\"/>\n      </g>\n     </g>\n    </g>\n    <g id=\"xtick_4\">\n     <g id=\"line2d_4\">\n      <g>\n       <use style=\"stroke:#000000;stroke-width:0.8;\" x=\"80.43625\" xlink:href=\"#maddc5fdd44\" y=\"224.64\"/>\n      </g>\n     </g>\n     <g id=\"text_4\">\n      <!-- ขาย ธนาธร -->\n      <g transform=\"translate(83.229219 277.591563)rotate(-90)scale(0.1 -0.1)\">\n       <defs>\n        <path id=\"Tahoma-32\"/>\n        <path d=\"M 47.515625 47.796875 \nQ 43.5 46.921875 35.890625 46.921875 \nL 23.390625 47.40625 \nQ 14.109375 47.40625 12.5 39.59375 \nQ 18.75 40.828125 23.578125 40.828125 \nQ 35.546875 40.828125 40.671875 36.921875 \nQ 45.796875 33.015625 45.796875 22.90625 \nL 45.796875 0 \nL 8.984375 0 \nL 8.984375 8.6875 \nL 12.703125 8.6875 \nL 12.703125 33.015625 \nQ 10.640625 32.71875 8.5 32.234375 \nL 4.5 31.296875 \nL 4.203125 31.296875 \nL 4.203125 36.28125 \nQ 4.203125 41.453125 6.4375 45.921875 \nQ 8.6875 50.390625 13.03125 52.859375 \nQ 17.390625 55.328125 23.578125 55.328125 \nL 35.890625 54.890625 \nQ 38.875 54.890625 41.140625 55.125 \nQ 43.40625 55.375 44.78125 55.71875 \nL 47.125 56.296875 \nL 47.515625 56.296875 \nz\nM 36.625 8.6875 \nL 36.625 22.90625 \nQ 36.625 28.515625 34.03125 31.203125 \nQ 31.453125 33.890625 23.6875 33.890625 \nQ 22.359375 33.890625 21.78125 33.796875 \nL 21.78125 8.6875 \nz\n\" id=\"Tahoma-3608\"/>\n       </defs>\n       <use xlink:href=\"#Tahoma-3586\"/>\n       <use x=\"61.279297\" xlink:href=\"#Tahoma-3634\"/>\n       <use x=\"109.765625\" xlink:href=\"#Tahoma-3618\"/>\n       <use x=\"167.675781\" xlink:href=\"#Tahoma-32\"/>\n       <use x=\"198.925781\" xlink:href=\"#Tahoma-3608\"/>\n       <use x=\"252.929688\" xlink:href=\"#Tahoma-3609\"/>\n       <use x=\"314.111328\" xlink:href=\"#Tahoma-3634\"/>\n       <use x=\"362.597656\" xlink:href=\"#Tahoma-3608\"/>\n       <use x=\"416.601562\" xlink:href=\"#Tahoma-3619\"/>\n      </g>\n     </g>\n    </g>\n    <g id=\"xtick_5\">\n     <g id=\"line2d_5\">\n      <g>\n       <use style=\"stroke:#000000;stroke-width:0.8;\" x=\"90.001964\" xlink:href=\"#maddc5fdd44\" y=\"224.64\"/>\n      </g>\n     </g>\n     <g id=\"text_5\">\n      <!-- แนะนำแกนนำ และดาราของพรรค -->\n      <g transform=\"translate(92.794933 366.73375)rotate(-90)scale(0.1 -0.1)\">\n       <defs>\n        <path d=\"M 40.28125 0 \nL 31.109375 0 \nL 31.109375 35.015625 \nQ 31.109375 41.3125 28.09375 44.65625 \nQ 25.09375 48 19.828125 48 \nQ 11.765625 48 3.328125 43.015625 \nL 2.6875 43.015625 \nL 2.6875 52.6875 \nQ 11.328125 56 19.828125 56 \nQ 40.28125 56 40.28125 35.59375 \nz\nM -12.796875 73.921875 \nQ -9.765625 73.921875 -7.640625 71.75 \nQ -5.515625 69.578125 -5.515625 66.5 \nQ -5.515625 63.53125 -7.640625 61.375 \nQ -9.765625 59.234375 -12.796875 59.234375 \nQ -15.765625 59.234375 -17.9375 61.375 \nQ -20.125 63.53125 -20.125 66.5 \nQ -20.125 69.578125 -17.96875 71.75 \nQ -15.828125 73.921875 -12.796875 73.921875 \nz\nM -12.796875 63.421875 \nQ -11.53125 63.421875 -10.625 64.328125 \nQ -9.71875 65.234375 -9.71875 66.5 \nQ -9.71875 67.78125 -10.625 68.703125 \nQ -11.53125 69.625 -12.796875 69.625 \nQ -14.0625 69.625 -14.984375 68.703125 \nQ -15.921875 67.78125 -15.921875 66.5 \nQ -15.921875 65.234375 -14.984375 64.328125 \nQ -14.0625 63.421875 -12.796875 63.421875 \nz\n\" id=\"Tahoma-3635\"/>\n       </defs>\n       <use xlink:href=\"#Tahoma-3649\"/>\n       <use x=\"59.179688\" xlink:href=\"#Tahoma-3609\"/>\n       <use x=\"120.361328\" xlink:href=\"#Tahoma-3632\"/>\n       <use x=\"165.185547\" xlink:href=\"#Tahoma-3609\"/>\n       <use x=\"226.367188\" xlink:href=\"#Tahoma-3635\"/>\n       <use x=\"274.853516\" xlink:href=\"#Tahoma-3649\"/>\n       <use x=\"334.033203\" xlink:href=\"#Tahoma-3585\"/>\n       <use x=\"393.554688\" xlink:href=\"#Tahoma-3609\"/>\n       <use x=\"454.736328\" xlink:href=\"#Tahoma-3609\"/>\n       <use x=\"515.917969\" xlink:href=\"#Tahoma-3635\"/>\n       <use x=\"564.404297\" xlink:href=\"#Tahoma-32\"/>\n       <use x=\"595.654297\" xlink:href=\"#Tahoma-3649\"/>\n       <use x=\"654.833984\" xlink:href=\"#Tahoma-3621\"/>\n       <use x=\"716.455078\" xlink:href=\"#Tahoma-3632\"/>\n       <use x=\"761.279297\" xlink:href=\"#Tahoma-3604\"/>\n       <use x=\"822.802734\" xlink:href=\"#Tahoma-3634\"/>\n       <use x=\"871.289062\" xlink:href=\"#Tahoma-3619\"/>\n       <use x=\"914.208984\" xlink:href=\"#Tahoma-3634\"/>\n       <use x=\"962.695312\" xlink:href=\"#Tahoma-3586\"/>\n       <use x=\"1023.974609\" xlink:href=\"#Tahoma-3629\"/>\n       <use x=\"1083.496094\" xlink:href=\"#Tahoma-3591\"/>\n       <use x=\"1132.714844\" xlink:href=\"#Tahoma-3614\"/>\n       <use x=\"1203.515625\" xlink:href=\"#Tahoma-3619\"/>\n       <use x=\"1246.435547\" xlink:href=\"#Tahoma-3619\"/>\n       <use x=\"1289.355469\" xlink:href=\"#Tahoma-3588\"/>\n      </g>\n     </g>\n    </g>\n    <g id=\"xtick_6\">\n     <g id=\"line2d_6\">\n      <g>\n       <use style=\"stroke:#000000;stroke-width:0.8;\" x=\"99.567679\" xlink:href=\"#maddc5fdd44\" y=\"224.64\"/>\n      </g>\n     </g>\n     <g id=\"text_6\">\n      <!-- ทักษิณละนโยบายสำหรับอนาคต -->\n      <g transform=\"translate(102.360647 362.579062)rotate(-90)scale(0.1 -0.1)\">\n       <defs>\n        <path d=\"M 71 17.828125 \nQ 75.984375 17.28125 78.640625 14.515625 \nQ 81.296875 11.765625 81.296875 7.8125 \nQ 81.296875 3.859375 78.796875 1.53125 \nQ 76.3125 -0.78125 72.125 -0.78125 \nQ 67.390625 -0.78125 64.59375 2.015625 \nQ 61.8125 4.828125 61.8125 10.015625 \nL 61.8125 11.375 \nQ 54.828125 9.421875 49.703125 0 \nL 41.109375 0 \nL 41.109375 31.5 \nQ 41.109375 40.328125 37.9375 43.859375 \nQ 34.765625 47.40625 28.21875 47.40625 \nQ 17.921875 47.40625 15.828125 39.015625 \nL 25.09375 39.015625 \nL 25.09375 32.515625 \nQ 16.40625 29.25 16.40625 18.109375 \nL 16.40625 17.09375 \nQ 17.921875 17.671875 19.921875 17.671875 \nQ 23.734375 17.671875 26.46875 14.984375 \nQ 29.203125 12.3125 29.203125 8.5 \nQ 29.203125 4.6875 26.4375 1.953125 \nQ 23.6875 -0.78125 19.921875 -0.78125 \nQ 14.109375 -0.78125 10.640625 2.734375 \nQ 7.171875 6.25 7.171875 12.3125 \nL 7.171875 16.5 \nQ 7.171875 29.25 15.828125 32.078125 \nL 6.203125 32.078125 \nL 6.203125 32.421875 \nQ 6.203125 43.109375 11.90625 49.609375 \nQ 17.625 56.109375 28.21875 56.109375 \nQ 39.75 56.109375 45.015625 50.265625 \nQ 50.296875 44.4375 50.296875 31.5 \nL 50.296875 8.890625 \nQ 55.21875 15.71875 61.8125 17.390625 \nL 61.8125 54.59375 \nL 71 54.59375 \nz\nM 75.59375 7.8125 \nQ 75.59375 11.671875 71 12.3125 \nL 71 8.5 \nQ 71 4.6875 73.390625 4.6875 \nQ 75.59375 4.6875 75.59375 7.8125 \nz\nM 19.921875 4.6875 \nQ 21.4375 4.6875 22.5 5.78125 \nQ 23.578125 6.890625 23.578125 8.5 \nQ 23.578125 9.96875 22.484375 11.03125 \nQ 21.390625 12.109375 19.921875 12.109375 \nQ 18.40625 12.109375 17.3125 11.03125 \nQ 16.21875 9.96875 16.21875 8.5 \nQ 16.21875 6.890625 17.28125 5.78125 \nQ 18.359375 4.6875 19.921875 4.6875 \nz\n\" id=\"Tahoma-3603\"/>\n        <path d=\"M 57.421875 61.625 \nQ 55.859375 54.890625 49.03125 48.390625 \nQ 53.421875 42.671875 53.421875 33.890625 \nL 53.421875 0 \nL 44.1875 0 \nQ 35.5 16.5 32.859375 20.765625 \nQ 30.21875 25.046875 27.390625 27.359375 \nQ 24.5625 29.6875 21.921875 29.6875 \nQ 19.390625 29.6875 17.796875 27.96875 \nQ 16.21875 26.265625 16.21875 23.578125 \nL 16.21875 17.09375 \nQ 17.71875 17.671875 19.671875 17.671875 \nQ 23.53125 17.671875 26.265625 14.984375 \nQ 29 12.3125 29 8.5 \nQ 29 4.6875 26.234375 1.953125 \nQ 23.484375 -0.78125 19.671875 -0.78125 \nQ 13.921875 -0.78125 10.453125 2.734375 \nQ 6.984375 6.25 6.984375 12.3125 \nL 6.984375 23.390625 \nQ 6.984375 30.515625 10.765625 34.296875 \nQ 14.546875 38.09375 21.296875 38.09375 \nQ 25.921875 38.09375 29.828125 35.109375 \nQ 33.734375 32.125 36.046875 28.46875 \nQ 38.375 24.8125 44.1875 13.484375 \nL 44.1875 33.890625 \nQ 44.1875 39.109375 41.890625 42.484375 \nQ 38.921875 40.328125 33.6875 37.890625 \nL 31.390625 41.109375 \nQ 34.625 42.78125 38.09375 46.09375 \nQ 34.671875 48.09375 30.078125 48.09375 \nQ 20.015625 48.09375 10.296875 41.609375 \nL 9.8125 41.609375 \nL 9.8125 51.90625 \nQ 20.359375 56.109375 29.984375 56.109375 \nQ 38.578125 56.109375 44 52.6875 \nQ 48 58.109375 48 61.625 \nz\nM 19.671875 4.6875 \nQ 21.234375 4.6875 22.3125 5.78125 \nQ 23.390625 6.890625 23.390625 8.5 \nQ 23.390625 9.96875 22.28125 11.03125 \nQ 21.1875 12.109375 19.671875 12.109375 \nQ 18.21875 12.109375 17.109375 11.03125 \nQ 16.015625 9.96875 16.015625 8.5 \nQ 16.015625 6.890625 17.09375 5.78125 \nQ 18.171875 4.6875 19.671875 4.6875 \nz\n\" id=\"Tahoma-3626\"/>\n        <path d=\"M 58.796875 0 \nL 49.609375 0 \nL 49.609375 26.90625 \nQ 49.609375 32.625 47.90625 34.28125 \nQ 37.640625 24.46875 25 0 \nL 15.828125 0 \nL 15.828125 38.1875 \nQ 14.3125 37.59375 12.3125 37.59375 \nQ 8.5 37.59375 5.734375 40.296875 \nQ 2.984375 43.015625 2.984375 46.78125 \nQ 2.984375 50.640625 5.734375 53.375 \nQ 8.5 56.109375 12.3125 56.109375 \nQ 18.0625 56.109375 21.53125 52.5625 \nQ 25 49.03125 25 43.015625 \nL 25 12.5 \nQ 34.671875 30.125 43.890625 38.484375 \nQ 41.84375 39.65625 40.578125 41.921875 \nQ 39.3125 44.1875 39.3125 46.6875 \nQ 39.3125 50.53125 42.09375 53.3125 \nQ 44.875 56.109375 48.6875 56.109375 \nQ 52.484375 56.109375 55.296875 53.296875 \nQ 58.109375 50.484375 58.109375 46.6875 \nQ 58.109375 41.015625 53.21875 38.375 \nQ 58.796875 35.453125 58.796875 26.609375 \nz\nM 12.3125 43.21875 \nQ 13.8125 43.21875 14.90625 44.265625 \nQ 16.015625 45.3125 16.015625 46.78125 \nQ 16.015625 48.4375 14.90625 49.515625 \nQ 13.8125 50.59375 12.3125 50.59375 \nQ 10.796875 50.59375 9.6875 49.484375 \nQ 8.59375 48.390625 8.59375 46.78125 \nQ 8.59375 45.3125 9.6875 44.265625 \nQ 10.796875 43.21875 12.3125 43.21875 \nz\nM 48.6875 43.109375 \nQ 50.203125 43.109375 51.296875 44.15625 \nQ 52.390625 45.21875 52.390625 46.6875 \nQ 52.390625 48.296875 51.3125 49.390625 \nQ 50.25 50.484375 48.6875 50.484375 \nQ 47.171875 50.484375 46.09375 49.390625 \nQ 45.015625 48.296875 45.015625 46.6875 \nQ 45.015625 45.21875 46.09375 44.15625 \nQ 47.171875 43.109375 48.6875 43.109375 \nz\n\" id=\"Tahoma-3627\"/>\n       </defs>\n       <use xlink:href=\"#Tahoma-3607\"/>\n       <use x=\"71.582031\" xlink:href=\"#Tahoma-3633\"/>\n       <use x=\"71.582031\" xlink:href=\"#Tahoma-3585\"/>\n       <use x=\"131.103516\" xlink:href=\"#Tahoma-3625\"/>\n       <use x=\"205.517578\" xlink:href=\"#Tahoma-3636\"/>\n       <use x=\"205.517578\" xlink:href=\"#Tahoma-3603\"/>\n       <use x=\"290.820312\" xlink:href=\"#Tahoma-3621\"/>\n       <use x=\"352.441406\" xlink:href=\"#Tahoma-3632\"/>\n       <use x=\"397.265625\" xlink:href=\"#Tahoma-3609\"/>\n       <use x=\"458.447266\" xlink:href=\"#Tahoma-3650\"/>\n       <use x=\"507.666016\" xlink:href=\"#Tahoma-3618\"/>\n       <use x=\"565.576172\" xlink:href=\"#Tahoma-3610\"/>\n       <use x=\"628.564453\" xlink:href=\"#Tahoma-3634\"/>\n       <use x=\"677.050781\" xlink:href=\"#Tahoma-3618\"/>\n       <use x=\"734.960938\" xlink:href=\"#Tahoma-3626\"/>\n       <use x=\"795.751953\" xlink:href=\"#Tahoma-3635\"/>\n       <use x=\"844.238281\" xlink:href=\"#Tahoma-3627\"/>\n       <use x=\"911.230469\" xlink:href=\"#Tahoma-3619\"/>\n       <use x=\"954.150391\" xlink:href=\"#Tahoma-3633\"/>\n       <use x=\"954.150391\" xlink:href=\"#Tahoma-3610\"/>\n       <use x=\"1017.138672\" xlink:href=\"#Tahoma-3629\"/>\n       <use x=\"1076.660156\" xlink:href=\"#Tahoma-3609\"/>\n       <use x=\"1137.841797\" xlink:href=\"#Tahoma-3634\"/>\n       <use x=\"1186.328125\" xlink:href=\"#Tahoma-3588\"/>\n       <use x=\"1247.851562\" xlink:href=\"#Tahoma-3605\"/>\n      </g>\n     </g>\n    </g>\n    <g id=\"xtick_7\">\n     <g id=\"line2d_7\">\n      <g>\n       <use style=\"stroke:#000000;stroke-width:0.8;\" x=\"109.133393\" xlink:href=\"#maddc5fdd44\" y=\"224.64\"/>\n      </g>\n     </g>\n     <g id=\"text_7\">\n      <!-- ความเป็นมืออาชีพในการแก้ปัญหา -->\n      <g transform=\"translate(112.441205 368.9775)rotate(-90)scale(0.1 -0.1)\">\n       <defs>\n        <path d=\"M 40.28125 12.3125 \nQ 40.28125 6.25 36.84375 2.734375 \nQ 33.40625 -0.78125 27.59375 -0.78125 \nQ 23.78125 -0.78125 21.046875 1.953125 \nQ 18.3125 4.6875 18.3125 8.5 \nQ 18.3125 12.3125 21.046875 14.984375 \nQ 23.78125 17.671875 27.59375 17.671875 \nQ 29.59375 17.671875 31.109375 17.09375 \nL 31.109375 35.015625 \nQ 31.109375 41.3125 28.09375 44.65625 \nQ 25.09375 48 19.828125 48 \nQ 11.765625 48 3.328125 43.015625 \nL 2.6875 43.015625 \nL 2.6875 52.6875 \nQ 11.328125 56 19.828125 56 \nQ 40.28125 56 40.28125 35.59375 \nz\nM 27.59375 4.6875 \nQ 29.15625 4.6875 30.21875 5.78125 \nQ 31.296875 6.890625 31.296875 8.5 \nQ 31.296875 9.96875 30.203125 11.03125 \nQ 29.109375 12.109375 27.59375 12.109375 \nQ 26.078125 12.109375 24.96875 11.03125 \nQ 23.875 9.96875 23.875 8.5 \nQ 23.875 6.890625 24.96875 5.78125 \nQ 26.078125 4.6875 27.59375 4.6875 \nz\n\" id=\"Tahoma-3623\"/>\n        <path d=\"M 54.78125 0 \nL 8.796875 0 \nL 8.796875 8.6875 \nL 16.796875 8.6875 \nL 16.796875 38.1875 \nQ 15.28125 37.59375 13.28125 37.59375 \nQ 9.46875 37.59375 6.734375 40.296875 \nQ 4 43.015625 4 46.78125 \nQ 4 50.640625 6.734375 53.375 \nQ 9.46875 56.109375 13.28125 56.109375 \nQ 19.09375 56.109375 22.53125 52.5625 \nQ 25.984375 49.03125 25.984375 43.015625 \nL 25.984375 8.6875 \nL 45.609375 8.6875 \nL 45.609375 80.515625 \nL 54.78125 80.515625 \nz\nM 13.28125 43.21875 \nQ 14.796875 43.21875 15.890625 44.265625 \nQ 17 45.3125 17 46.78125 \nQ 17 48.390625 15.921875 49.484375 \nQ 14.84375 50.59375 13.28125 50.59375 \nQ 11.765625 50.59375 10.6875 49.484375 \nQ 9.625 48.390625 9.625 46.78125 \nQ 9.625 45.3125 10.6875 44.265625 \nQ 11.765625 43.21875 13.28125 43.21875 \nz\n\" id=\"Tahoma-3611\"/>\n        <path d=\"M -5.71875 86.859375 \nQ -7.671875 81.25 -11.453125 77.96875 \nQ -15.234375 74.703125 -25.09375 74.703125 \nL -30.078125 74.703125 \nQ -32.859375 74.703125 -34.609375 73.328125 \nQ -36.375 71.96875 -36.375 69.78125 \nQ -36.375 68.0625 -35.21875 66.59375 \nQ -34.078125 65.140625 -32.171875 64.796875 \nQ -32.171875 70.40625 -27.484375 70.40625 \nQ -25.921875 70.40625 -19.484375 66.609375 \nQ -18.953125 68.84375 -17.28125 70.203125 \nQ -15.625 71.578125 -13.375 71.578125 \nQ -10.84375 71.578125 -9 69.75 \nQ -7.171875 67.921875 -7.171875 65.375 \nQ -7.171875 62.84375 -9.03125 61.015625 \nQ -10.890625 59.1875 -13.28125 59.1875 \nQ -15.96875 59.1875 -22.859375 62.984375 \nQ -26.5625 64.984375 -27.296875 64.984375 \nQ -27.984375 64.984375 -27.984375 62.40625 \nL -27.984375 59.1875 \nL -29.203125 59.1875 \nQ -34.96875 59.1875 -38.375 62.234375 \nQ -41.796875 65.28125 -41.796875 69.78125 \nQ -41.796875 74.265625 -38.625 77.078125 \nQ -35.453125 79.890625 -30.078125 79.890625 \nL -25.203125 79.890625 \nQ -18.65625 79.890625 -16.328125 81.5625 \nQ -14.015625 83.25 -12.703125 86.859375 \nz\nM -13.375 63.1875 \nQ -12.5 63.1875 -11.890625 63.84375 \nQ -11.28125 64.5 -11.28125 65.375 \nQ -11.28125 66.3125 -11.890625 66.9375 \nQ -12.5 67.578125 -13.375 67.578125 \nQ -14.265625 67.578125 -14.875 66.9375 \nQ -15.484375 66.3125 -15.484375 65.375 \nQ -15.484375 64.5 -14.890625 63.84375 \nQ -14.3125 63.1875 -13.375 63.1875 \nz\n\" id=\"Tahoma-3655\"/>\n        <path d=\"M -11.671875 59.1875 \nL -51.5625 59.1875 \nQ -49.703125 64.890625 -48.046875 67.375 \nQ -46.390625 69.875 -43.671875 71.890625 \nQ -40.96875 73.921875 -37.84375 74.953125 \nQ -34.71875 75.984375 -31.546875 75.984375 \nQ -30.5625 75.984375 -28.65625 75.78125 \nL -28.65625 80.328125 \nL -23.140625 80.328125 \nL -23.140625 74.125 \nQ -19.78125 72.5625 -17.140625 69.828125 \nL -17.140625 80.328125 \nL -11.671875 80.328125 \nz\nM -19.53125 64.59375 \nQ -20.703125 67.234375 -24.125 68.875 \nQ -27.546875 70.515625 -31.546875 70.515625 \nQ -35.59375 70.515625 -39.015625 68.875 \nQ -42.4375 67.234375 -43.5625 64.59375 \nz\n\" id=\"Tahoma-3639\"/>\n        <path d=\"M 60.5 62.203125 \nQ 60.5 56.78125 57.265625 52.453125 \nQ 54.046875 48.140625 48.6875 46.6875 \nQ 52.046875 45.453125 53.921875 42.859375 \nQ 55.8125 40.28125 55.8125 37.015625 \nL 55.8125 0 \nL 13.8125 0 \nL 13.8125 8.6875 \nL 20.015625 8.6875 \nL 20.015625 21.1875 \nQ 20.015625 24.90625 21.015625 27.359375 \nQ 22.015625 29.828125 23.921875 32.765625 \nQ 26.125 36.078125 26.65625 37.9375 \nQ 27.203125 39.796875 27.203125 41.5 \nQ 27.203125 49.515625 20.515625 49.515625 \nQ 19.1875 49.515625 18.5 49.03125 \nQ 22.515625 46 22.515625 41.5 \nQ 22.515625 37.703125 19.78125 35.015625 \nQ 17.046875 32.328125 13.1875 32.328125 \nQ 9.375 32.328125 6.6875 35.03125 \nQ 4 37.75 4 41.609375 \nQ 4 48.09375 8.546875 52.09375 \nQ 13.09375 56.109375 20.515625 56.109375 \nQ 27.484375 56.109375 31.78125 52.125 \nQ 36.078125 48.140625 36.078125 41.609375 \nQ 36.078125 39.453125 35.4375 37.015625 \nQ 34.8125 34.578125 32.328125 30.28125 \nQ 29.203125 24.90625 29.203125 21.578125 \nL 29.203125 8.6875 \nL 46.578125 8.6875 \nL 46.578125 35.40625 \nQ 46.578125 42.4375 41.703125 43.796875 \nL 41.703125 48.09375 \nQ 46.296875 49.609375 48.703125 53.34375 \nQ 51.125 57.078125 51.125 62.203125 \nz\nM 13.1875 37.796875 \nQ 14.75 37.796875 15.8125 38.890625 \nQ 16.890625 39.984375 16.890625 41.609375 \nQ 16.890625 43.0625 15.796875 44.140625 \nQ 14.703125 45.21875 13.1875 45.21875 \nQ 11.671875 45.21875 10.59375 44.140625 \nQ 9.515625 43.0625 9.515625 41.609375 \nQ 9.515625 39.984375 10.59375 38.890625 \nQ 11.671875 37.796875 13.1875 37.796875 \nz\n\" id=\"Tahoma-3594\"/>\n        <path d=\"M 6 32.421875 \nQ 6 43.109375 11.71875 49.609375 \nQ 17.4375 56.109375 27.984375 56.109375 \nQ 39.546875 56.109375 44.8125 50.265625 \nQ 50.09375 44.4375 50.09375 31.5 \nL 50.09375 8.6875 \nL 65.828125 8.6875 \nL 65.828125 54.59375 \nL 75 54.59375 \nL 75 0 \nL 40.921875 0 \nL 40.921875 31.5 \nQ 40.921875 40.328125 37.75 43.859375 \nQ 34.578125 47.40625 27.984375 47.40625 \nQ 17.71875 47.40625 15.578125 39.015625 \nL 24.90625 39.015625 \nL 24.90625 32.515625 \nQ 16.21875 29.25 16.21875 18.109375 \nL 16.21875 17.09375 \nQ 17.71875 17.671875 19.671875 17.671875 \nQ 23.53125 17.671875 26.265625 14.984375 \nQ 29 12.3125 29 8.5 \nQ 29 4.6875 26.234375 1.953125 \nQ 23.484375 -0.78125 19.671875 -0.78125 \nQ 13.921875 -0.78125 10.453125 2.734375 \nQ 6.984375 6.25 6.984375 12.3125 \nL 6.984375 16.5 \nQ 6.984375 29.25 15.578125 32.078125 \nL 6 32.078125 \nz\nM 19.671875 4.6875 \nQ 21.234375 4.6875 22.3125 5.78125 \nQ 23.390625 6.890625 23.390625 8.5 \nQ 23.390625 9.96875 22.28125 11.03125 \nQ 21.1875 12.109375 19.671875 12.109375 \nQ 18.21875 12.109375 17.109375 11.03125 \nQ 16.015625 9.96875 16.015625 8.5 \nQ 16.015625 6.890625 17.09375 5.78125 \nQ 18.171875 4.6875 19.671875 4.6875 \nz\nM 75.09375 -3.328125 \nQ 74.125 -11.96875 68.265625 -16.328125 \nQ 62.40625 -20.703125 53.328125 -20.703125 \nQ 47.46875 -20.703125 44.015625 -17.8125 \nQ 40.578125 -14.9375 40.578125 -10.59375 \nQ 40.578125 -7.234375 42.75 -5 \nQ 44.921875 -2.78125 48.296875 -2.78125 \nQ 51.515625 -2.78125 53.75 -5.03125 \nQ 56 -7.28125 56 -10.59375 \nQ 56 -13.671875 54.5 -15.921875 \nQ 67.234375 -15.140625 68.796875 -3.328125 \nz\nM 48.296875 -13.625 \nQ 49.5625 -13.625 50.4375 -12.796875 \nQ 51.3125 -11.96875 51.3125 -10.59375 \nQ 51.3125 -9.28125 50.390625 -8.453125 \nQ 49.46875 -7.625 48.296875 -7.625 \nQ 46.96875 -7.625 46.140625 -8.421875 \nQ 45.3125 -9.234375 45.3125 -10.59375 \nQ 45.3125 -11.96875 46.15625 -12.796875 \nQ 47.015625 -13.625 48.296875 -13.625 \nz\n\" id=\"Tahoma-3597\"/>\n       </defs>\n       <use xlink:href=\"#Tahoma-3588\"/>\n       <use x=\"61.523438\" xlink:href=\"#Tahoma-3623\"/>\n       <use x=\"110.009766\" xlink:href=\"#Tahoma-3634\"/>\n       <use x=\"158.496094\" xlink:href=\"#Tahoma-3617\"/>\n       <use x=\"218.408203\" xlink:href=\"#Tahoma-3648\"/>\n       <use x=\"251.611328\" xlink:href=\"#Tahoma-3611\"/>\n       <use x=\"314.599609\" xlink:href=\"#Tahoma-3655\"/>\n       <use x=\"314.599609\" xlink:href=\"#Tahoma-3609\"/>\n       <use x=\"375.78125\" xlink:href=\"#Tahoma-3617\"/>\n       <use x=\"435.693359\" xlink:href=\"#Tahoma-3639\"/>\n       <use x=\"435.693359\" xlink:href=\"#Tahoma-3629\"/>\n       <use x=\"495.214844\" xlink:href=\"#Tahoma-3629\"/>\n       <use x=\"554.736328\" xlink:href=\"#Tahoma-3634\"/>\n       <use x=\"603.222656\" xlink:href=\"#Tahoma-3594\"/>\n       <use x=\"665.917969\" xlink:href=\"#Tahoma-3637\"/>\n       <use x=\"665.917969\" xlink:href=\"#Tahoma-3614\"/>\n       <use x=\"736.71875\" xlink:href=\"#Tahoma-3651\"/>\n       <use x=\"780.908203\" xlink:href=\"#Tahoma-3609\"/>\n       <use x=\"842.089844\" xlink:href=\"#Tahoma-3585\"/>\n       <use x=\"901.611328\" xlink:href=\"#Tahoma-3634\"/>\n       <use x=\"950.097656\" xlink:href=\"#Tahoma-3619\"/>\n       <use x=\"993.017578\" xlink:href=\"#Tahoma-3649\"/>\n       <use x=\"1052.197266\" xlink:href=\"#Tahoma-3585\"/>\n       <use x=\"1111.71875\" xlink:href=\"#Tahoma-3657\"/>\n       <use x=\"1111.71875\" xlink:href=\"#Tahoma-3611\"/>\n       <use x=\"1174.707031\" xlink:href=\"#Tahoma-3633\"/>\n       <use x=\"1174.707031\" xlink:href=\"#Tahoma-3597\"/>\n       <use x=\"1257.910156\" xlink:href=\"#Tahoma-3627\"/>\n       <use x=\"1324.902344\" xlink:href=\"#Tahoma-3634\"/>\n      </g>\n     </g>\n    </g>\n    <g id=\"xtick_8\">\n     <g id=\"line2d_8\">\n      <g>\n       <use style=\"stroke:#000000;stroke-width:0.8;\" x=\"118.699107\" xlink:href=\"#maddc5fdd44\" y=\"224.64\"/>\n      </g>\n     </g>\n     <g id=\"text_8\">\n      <!-- article ภาษาอังกฤษ นโยบายเศรษฐกิจ สังคม -->\n      <g transform=\"translate(121.76317 416.143125)rotate(-90)scale(0.1 -0.1)\">\n       <defs>\n        <path d=\"M 37.109375 13.421875 \nL 37.109375 28.5625 \nQ 33.84375 28.265625 28.828125 27.75 \nQ 23.828125 27.25 20.75 26.3125 \nQ 17.09375 25.203125 14.703125 22.875 \nQ 12.3125 20.5625 12.3125 16.40625 \nQ 12.3125 11.71875 14.9375 9.328125 \nQ 17.578125 6.9375 22.65625 6.9375 \nQ 27 6.9375 30.515625 8.8125 \nQ 34.03125 10.6875 37.109375 13.421875 \nz\nM 37.109375 5.8125 \nQ 35.984375 4.984375 34.109375 3.484375 \nQ 32.234375 2 30.46875 1.125 \nQ 28.03125 -0.140625 25.75 -0.828125 \nQ 23.484375 -1.515625 19.390625 -1.515625 \nQ 16.015625 -1.515625 12.984375 -0.234375 \nQ 9.96875 1.03125 7.671875 3.328125 \nQ 5.46875 5.5625 4.140625 8.859375 \nQ 2.828125 12.15625 2.828125 15.828125 \nQ 2.828125 21.484375 5.21875 25.453125 \nQ 7.625 29.4375 12.796875 31.78125 \nQ 17.390625 33.890625 23.640625 34.6875 \nQ 29.890625 35.5 37.109375 35.890625 \nL 37.109375 37.640625 \nQ 37.109375 40.875 36.125 42.84375 \nQ 35.15625 44.828125 33.40625 45.90625 \nQ 31.640625 47.015625 29.09375 47.375 \nQ 26.5625 47.75 23.875 47.75 \nQ 20.703125 47.75 16.40625 46.796875 \nQ 12.109375 45.84375 7.8125 44.046875 \nL 7.28125 44.046875 \nL 7.28125 53.375 \nQ 9.8125 54.109375 14.546875 54.984375 \nQ 19.28125 55.859375 23.921875 55.859375 \nQ 29.546875 55.859375 33.390625 54.984375 \nQ 37.25 54.109375 40.328125 51.8125 \nQ 43.3125 49.5625 44.765625 46 \nQ 46.234375 42.4375 46.234375 37.3125 \nL 46.234375 0 \nL 37.109375 0 \nz\n\" id=\"Tahoma-97\"/>\n        <path d=\"M 35.546875 44.671875 \nL 35.0625 44.671875 \nQ 34.03125 44.96875 32.875 45.046875 \nQ 31.734375 45.125 30.125 45.125 \nQ 26.421875 45.125 22.75 43.5 \nQ 19.09375 41.890625 15.828125 38.71875 \nL 15.828125 0 \nL 6.640625 0 \nL 6.640625 54.546875 \nL 15.828125 54.546875 \nL 15.828125 46.4375 \nQ 20.84375 50.875 24.578125 52.703125 \nQ 28.328125 54.546875 31.84375 54.546875 \nQ 33.25 54.546875 33.953125 54.46875 \nQ 34.671875 54.390625 35.546875 54.25 \nz\n\" id=\"Tahoma-114\"/>\n        <path d=\"M 23.140625 -1.078125 \nQ 15.625 -1.078125 11.421875 3.1875 \nQ 7.234375 7.46875 7.234375 16.703125 \nL 7.234375 46.921875 \nL 1.03125 46.921875 \nL 1.03125 54.546875 \nL 7.234375 54.546875 \nL 7.234375 70.21875 \nL 16.40625 70.21875 \nL 16.40625 54.546875 \nL 33.296875 54.546875 \nL 33.296875 46.921875 \nL 16.40625 46.921875 \nL 16.40625 21 \nQ 16.40625 16.84375 16.546875 14.59375 \nQ 16.703125 12.359375 17.671875 10.40625 \nQ 18.5 8.6875 20.359375 7.828125 \nQ 22.21875 6.984375 25.390625 6.984375 \nQ 27.640625 6.984375 29.734375 7.640625 \nQ 31.84375 8.296875 32.765625 8.734375 \nL 33.296875 8.734375 \nL 33.296875 0.484375 \nQ 30.71875 -0.25 28.046875 -0.65625 \nQ 25.390625 -1.078125 23.140625 -1.078125 \nz\n\" id=\"Tahoma-116\"/>\n        <path d=\"M 16.015625 0 \nL 6.84375 0 \nL 6.84375 54.546875 \nL 16.015625 54.546875 \nz\nM 16.65625 63.671875 \nL 6.203125 63.671875 \nL 6.203125 73.1875 \nL 16.65625 73.1875 \nz\n\" id=\"Tahoma-105\"/>\n        <path d=\"M 28.328125 -1.21875 \nQ 22.703125 -1.21875 18.015625 0.515625 \nQ 13.328125 2.25 9.96875 5.765625 \nQ 6.59375 9.28125 4.734375 14.625 \nQ 2.875 19.96875 2.875 27.203125 \nQ 2.875 34.375 4.796875 39.59375 \nQ 6.734375 44.828125 9.96875 48.390625 \nQ 13.1875 51.953125 17.984375 53.875 \nQ 22.796875 55.8125 28.328125 55.8125 \nQ 32.8125 55.8125 36.984375 54.53125 \nQ 41.15625 53.265625 44.4375 51.609375 \nL 44.4375 41.3125 \nL 43.890625 41.3125 \nQ 42.921875 42.140625 41.375 43.203125 \nQ 39.84375 44.28125 37.640625 45.40625 \nQ 35.75 46.390625 33.15625 47.125 \nQ 30.5625 47.859375 28.171875 47.859375 \nQ 21.046875 47.859375 16.71875 42.453125 \nQ 12.40625 37.0625 12.40625 27.203125 \nQ 12.40625 17.53125 16.578125 12.125 \nQ 20.75 6.734375 28.171875 6.734375 \nQ 32.671875 6.734375 36.71875 8.59375 \nQ 40.765625 10.453125 43.890625 13.375 \nL 44.4375 13.375 \nL 44.4375 3.078125 \nQ 43.0625 2.4375 41.015625 1.53125 \nQ 38.96875 0.640625 37.3125 0.203125 \nQ 34.96875 -0.484375 33.109375 -0.84375 \nQ 31.25 -1.21875 28.328125 -1.21875 \nz\n\" id=\"Tahoma-99\"/>\n        <path d=\"M 16.015625 0 \nL 6.84375 0 \nL 6.84375 75.984375 \nL 16.015625 75.984375 \nz\n\" id=\"Tahoma-108\"/>\n        <path d=\"M 30.328125 -1.265625 \nQ 17.28125 -1.265625 10.078125 6.078125 \nQ 2.875 13.421875 2.875 26.953125 \nQ 2.875 40.28125 9.859375 48.171875 \nQ 16.84375 56.0625 28.125 56.0625 \nQ 33.203125 56.0625 37.109375 54.59375 \nQ 41.015625 53.125 43.953125 50 \nQ 46.875 46.875 48.4375 42.359375 \nQ 50 37.84375 50 31.296875 \nL 50 26.3125 \nL 12.203125 26.3125 \nQ 12.203125 16.796875 16.984375 11.765625 \nQ 21.78125 6.734375 30.21875 6.734375 \nQ 33.25 6.734375 36.15625 7.421875 \nQ 39.0625 8.109375 41.40625 9.1875 \nQ 43.890625 10.296875 45.59375 11.34375 \nQ 47.3125 12.40625 48.4375 13.328125 \nL 48.96875 13.328125 \nL 48.96875 3.328125 \nQ 47.359375 2.6875 44.96875 1.734375 \nQ 42.578125 0.78125 40.671875 0.25 \nQ 37.984375 -0.484375 35.8125 -0.875 \nQ 33.640625 -1.265625 30.328125 -1.265625 \nz\nM 41.0625 33.34375 \nQ 40.96875 37.0625 40.1875 39.75 \nQ 39.40625 42.4375 37.9375 44.28125 \nQ 36.328125 46.34375 33.8125 47.40625 \nQ 31.296875 48.484375 27.59375 48.484375 \nQ 23.921875 48.484375 21.359375 47.390625 \nQ 18.796875 46.296875 16.703125 44.1875 \nQ 14.65625 42.046875 13.578125 39.421875 \nQ 12.5 36.8125 12.203125 33.34375 \nz\n\" id=\"Tahoma-101\"/>\n        <path d=\"M 50.09375 -12.109375 \nL 40.921875 -12.109375 \nL 40.921875 31.5 \nQ 40.921875 40.328125 37.75 43.859375 \nQ 34.578125 47.40625 27.984375 47.40625 \nQ 17.71875 47.40625 15.578125 39.015625 \nL 24.90625 39.015625 \nL 24.90625 32.515625 \nQ 16.21875 29.25 16.21875 18.109375 \nL 16.21875 17.09375 \nQ 17.71875 17.671875 19.671875 17.671875 \nQ 23.53125 17.671875 26.265625 14.984375 \nQ 29 12.3125 29 8.5 \nQ 29 4.6875 26.234375 1.953125 \nQ 23.484375 -0.78125 19.671875 -0.78125 \nQ 13.921875 -0.78125 10.453125 2.734375 \nQ 6.984375 6.25 6.984375 12.3125 \nL 6.984375 16.5 \nQ 6.984375 29.25 15.578125 32.078125 \nL 6 32.078125 \nL 6 32.421875 \nQ 6 43.109375 11.71875 49.609375 \nQ 17.4375 56.109375 27.984375 56.109375 \nQ 39.546875 56.109375 44.8125 50.265625 \nQ 50.09375 44.4375 50.09375 31.5 \nz\nM 19.671875 4.6875 \nQ 21.234375 4.6875 22.3125 5.78125 \nQ 23.390625 6.890625 23.390625 8.5 \nQ 23.390625 9.96875 22.28125 11.03125 \nQ 21.1875 12.109375 19.671875 12.109375 \nQ 18.21875 12.109375 17.109375 11.03125 \nQ 16.015625 9.96875 16.015625 8.5 \nQ 16.015625 6.890625 17.09375 5.78125 \nQ 18.171875 4.6875 19.671875 4.6875 \nz\n\" id=\"Tahoma-3620\"/>\n       </defs>\n       <use xlink:href=\"#Tahoma-97\"/>\n       <use x=\"52.490234\" xlink:href=\"#Tahoma-114\"/>\n       <use x=\"88.525391\" xlink:href=\"#Tahoma-116\"/>\n       <use x=\"121.972656\" xlink:href=\"#Tahoma-105\"/>\n       <use x=\"144.824219\" xlink:href=\"#Tahoma-99\"/>\n       <use x=\"190.966797\" xlink:href=\"#Tahoma-108\"/>\n       <use x=\"213.818359\" xlink:href=\"#Tahoma-101\"/>\n       <use x=\"266.455078\" xlink:href=\"#Tahoma-32\"/>\n       <use x=\"297.705078\" xlink:href=\"#Tahoma-3616\"/>\n       <use x=\"359.814453\" xlink:href=\"#Tahoma-3634\"/>\n       <use x=\"408.300781\" xlink:href=\"#Tahoma-3625\"/>\n       <use x=\"482.714844\" xlink:href=\"#Tahoma-3634\"/>\n       <use x=\"531.201172\" xlink:href=\"#Tahoma-3629\"/>\n       <use x=\"590.722656\" xlink:href=\"#Tahoma-3633\"/>\n       <use x=\"590.722656\" xlink:href=\"#Tahoma-3591\"/>\n       <use x=\"639.941406\" xlink:href=\"#Tahoma-3585\"/>\n       <use x=\"699.462891\" xlink:href=\"#Tahoma-3620\"/>\n       <use x=\"756.152344\" xlink:href=\"#Tahoma-3625\"/>\n       <use x=\"830.566406\" xlink:href=\"#Tahoma-32\"/>\n       <use x=\"861.816406\" xlink:href=\"#Tahoma-3609\"/>\n       <use x=\"922.998047\" xlink:href=\"#Tahoma-3650\"/>\n       <use x=\"972.216797\" xlink:href=\"#Tahoma-3618\"/>\n       <use x=\"1030.126953\" xlink:href=\"#Tahoma-3610\"/>\n       <use x=\"1093.115234\" xlink:href=\"#Tahoma-3634\"/>\n       <use x=\"1141.601562\" xlink:href=\"#Tahoma-3618\"/>\n       <use x=\"1199.511719\" xlink:href=\"#Tahoma-3648\"/>\n       <use x=\"1232.714844\" xlink:href=\"#Tahoma-3624\"/>\n       <use x=\"1294.238281\" xlink:href=\"#Tahoma-3619\"/>\n       <use x=\"1337.158203\" xlink:href=\"#Tahoma-3625\"/>\n       <use x=\"1411.572266\" xlink:href=\"#Tahoma-3600\"/>\n       <use x=\"1467.1875\" xlink:href=\"#Tahoma-3585\"/>\n       <use x=\"1526.708984\" xlink:href=\"#Tahoma-3636\"/>\n       <use x=\"1526.708984\" xlink:href=\"#Tahoma-3592\"/>\n       <use x=\"1582.324219\" xlink:href=\"#Tahoma-32\"/>\n       <use x=\"1613.574219\" xlink:href=\"#Tahoma-3626\"/>\n       <use x=\"1674.365234\" xlink:href=\"#Tahoma-3633\"/>\n       <use x=\"1674.365234\" xlink:href=\"#Tahoma-3591\"/>\n       <use x=\"1723.583984\" xlink:href=\"#Tahoma-3588\"/>\n       <use x=\"1785.107422\" xlink:href=\"#Tahoma-3617\"/>\n      </g>\n     </g>\n    </g>\n    <g id=\"xtick_9\">\n     <g id=\"line2d_9\">\n      <g>\n       <use style=\"stroke:#000000;stroke-width:0.8;\" x=\"128.264821\" xlink:href=\"#maddc5fdd44\" y=\"224.64\"/>\n      </g>\n     </g>\n     <g id=\"text_9\">\n      <!-- ประชาสัมพันธ์สถานที่ปราศรัย -->\n      <g transform=\"translate(131.05779 350.230625)rotate(-90)scale(0.1 -0.1)\">\n       <defs>\n        <path d=\"M -0.21875 77.8125 \nQ -2.8125 72.625 -12.71875 71.5 \nQ -10.421875 69.15625 -10.421875 66.09375 \nQ -10.421875 63.109375 -12.546875 60.953125 \nQ -14.671875 58.8125 -17.703125 58.8125 \nQ -20.6875 58.8125 -22.859375 60.953125 \nQ -25.03125 63.109375 -25.03125 66.09375 \nQ -25.03125 69.3125 -22.78125 71.484375 \nQ -20.53125 73.65625 -12.671875 74.96875 \nQ -5.84375 76.140625 -5.015625 77.8125 \nz\nM -17.703125 63.015625 \nQ -16.4375 63.015625 -15.53125 63.90625 \nQ -14.625 64.8125 -14.625 66.09375 \nQ -14.625 67.359375 -15.53125 68.28125 \nQ -16.4375 69.21875 -17.703125 69.21875 \nQ -18.96875 69.21875 -19.890625 68.28125 \nQ -20.828125 67.359375 -20.828125 66.09375 \nQ -20.828125 64.8125 -19.890625 63.90625 \nQ -18.96875 63.015625 -17.703125 63.015625 \nz\n\" id=\"Tahoma-3660\"/>\n        <path d=\"M 50.296875 0 \nL 41.109375 0 \nL 41.109375 31.5 \nQ 41.109375 40.375 37.953125 43.890625 \nQ 34.8125 47.40625 28.21875 47.40625 \nQ 17.921875 47.40625 15.828125 39.015625 \nL 25.09375 39.015625 \nL 25.09375 32.515625 \nQ 20.609375 30.8125 18.5 27.640625 \nQ 16.40625 24.46875 16.40625 18.890625 \nL 16.40625 17.09375 \nQ 17.921875 17.671875 19.921875 17.671875 \nQ 23.734375 17.671875 26.46875 14.984375 \nQ 29.203125 12.3125 29.203125 8.5 \nQ 29.203125 4.6875 26.46875 1.953125 \nQ 23.734375 -0.78125 19.921875 -0.78125 \nQ 14.109375 -0.78125 10.640625 2.734375 \nQ 7.171875 6.25 7.171875 12.3125 \nL 7.171875 18.21875 \nQ 7.171875 29.046875 15.828125 32.078125 \nL 6.203125 32.078125 \nL 6.203125 32.421875 \nQ 6.203125 43.109375 11.90625 49.609375 \nQ 17.625 56.109375 28.21875 56.109375 \nQ 39.75 56.109375 45.015625 50.265625 \nQ 50.296875 44.4375 50.296875 31.5 \nz\nM 19.921875 4.6875 \nQ 21.4375 4.6875 22.5 5.78125 \nQ 23.578125 6.890625 23.578125 8.5 \nQ 23.578125 9.96875 22.484375 11.03125 \nQ 21.390625 12.109375 19.921875 12.109375 \nQ 18.40625 12.109375 17.3125 11.03125 \nQ 16.21875 9.96875 16.21875 8.5 \nQ 16.21875 6.890625 17.28125 5.78125 \nQ 18.359375 4.6875 19.921875 4.6875 \nz\n\" id=\"Tahoma-3606\"/>\n        <path d=\"M -10.046875 59.40625 \nL -15.515625 59.40625 \nL -15.515625 75.8125 \nL -10.046875 75.8125 \nz\n\" id=\"Tahoma-3656\"/>\n       </defs>\n       <use xlink:href=\"#Tahoma-3611\"/>\n       <use x=\"62.988281\" xlink:href=\"#Tahoma-3619\"/>\n       <use x=\"105.908203\" xlink:href=\"#Tahoma-3632\"/>\n       <use x=\"150.732422\" xlink:href=\"#Tahoma-3594\"/>\n       <use x=\"213.427734\" xlink:href=\"#Tahoma-3634\"/>\n       <use x=\"261.914062\" xlink:href=\"#Tahoma-3626\"/>\n       <use x=\"322.705078\" xlink:href=\"#Tahoma-3633\"/>\n       <use x=\"322.705078\" xlink:href=\"#Tahoma-3617\"/>\n       <use x=\"382.617188\" xlink:href=\"#Tahoma-3614\"/>\n       <use x=\"453.417969\" xlink:href=\"#Tahoma-3633\"/>\n       <use x=\"453.417969\" xlink:href=\"#Tahoma-3609\"/>\n       <use x=\"514.599609\" xlink:href=\"#Tahoma-3608\"/>\n       <use x=\"568.603516\" xlink:href=\"#Tahoma-3660\"/>\n       <use x=\"568.603516\" xlink:href=\"#Tahoma-3626\"/>\n       <use x=\"629.394531\" xlink:href=\"#Tahoma-3606\"/>\n       <use x=\"687.890625\" xlink:href=\"#Tahoma-3634\"/>\n       <use x=\"736.376953\" xlink:href=\"#Tahoma-3609\"/>\n       <use x=\"797.558594\" xlink:href=\"#Tahoma-3607\"/>\n       <use x=\"869.140625\" xlink:href=\"#Tahoma-3637\"/>\n       <use x=\"869.140625\" xlink:href=\"#Tahoma-3656\"/>\n       <use x=\"869.140625\" xlink:href=\"#Tahoma-3611\"/>\n       <use x=\"932.128906\" xlink:href=\"#Tahoma-3619\"/>\n       <use x=\"975.048828\" xlink:href=\"#Tahoma-3634\"/>\n       <use x=\"1023.535156\" xlink:href=\"#Tahoma-3624\"/>\n       <use x=\"1085.058594\" xlink:href=\"#Tahoma-3619\"/>\n       <use x=\"1127.978516\" xlink:href=\"#Tahoma-3633\"/>\n       <use x=\"1127.978516\" xlink:href=\"#Tahoma-3618\"/>\n      </g>\n     </g>\n    </g>\n    <g id=\"xtick_10\">\n     <g id=\"line2d_10\">\n      <g>\n       <use style=\"stroke:#000000;stroke-width:0.8;\" x=\"137.830536\" xlink:href=\"#maddc5fdd44\" y=\"224.64\"/>\n      </g>\n     </g>\n     <g id=\"text_10\">\n      <!-- บรรยากาศการปราศรัย + นโยบาย -->\n      <g transform=\"translate(140.623504 368.175938)rotate(-90)scale(0.1 -0.1)\">\n       <defs>\n        <path d=\"M 65.09375 27.9375 \nL 40.4375 27.9375 \nL 40.4375 3.265625 \nL 32.328125 3.265625 \nL 32.328125 27.9375 \nL 7.671875 27.9375 \nL 7.671875 35.75 \nL 32.328125 35.75 \nL 32.328125 60.40625 \nL 40.4375 60.40625 \nL 40.4375 35.75 \nL 65.09375 35.75 \nz\n\" id=\"Tahoma-43\"/>\n       </defs>\n       <use xlink:href=\"#Tahoma-3610\"/>\n       <use x=\"62.988281\" xlink:href=\"#Tahoma-3619\"/>\n       <use x=\"105.908203\" xlink:href=\"#Tahoma-3619\"/>\n       <use x=\"148.828125\" xlink:href=\"#Tahoma-3618\"/>\n       <use x=\"206.738281\" xlink:href=\"#Tahoma-3634\"/>\n       <use x=\"255.224609\" xlink:href=\"#Tahoma-3585\"/>\n       <use x=\"314.746094\" xlink:href=\"#Tahoma-3634\"/>\n       <use x=\"363.232422\" xlink:href=\"#Tahoma-3624\"/>\n       <use x=\"424.755859\" xlink:href=\"#Tahoma-3585\"/>\n       <use x=\"484.277344\" xlink:href=\"#Tahoma-3634\"/>\n       <use x=\"532.763672\" xlink:href=\"#Tahoma-3619\"/>\n       <use x=\"575.683594\" xlink:href=\"#Tahoma-3611\"/>\n       <use x=\"638.671875\" xlink:href=\"#Tahoma-3619\"/>\n       <use x=\"681.591797\" xlink:href=\"#Tahoma-3634\"/>\n       <use x=\"730.078125\" xlink:href=\"#Tahoma-3624\"/>\n       <use x=\"791.601562\" xlink:href=\"#Tahoma-3619\"/>\n       <use x=\"834.521484\" xlink:href=\"#Tahoma-3633\"/>\n       <use x=\"834.521484\" xlink:href=\"#Tahoma-3618\"/>\n       <use x=\"892.431641\" xlink:href=\"#Tahoma-32\"/>\n       <use x=\"923.681641\" xlink:href=\"#Tahoma-43\"/>\n       <use x=\"996.435547\" xlink:href=\"#Tahoma-32\"/>\n       <use x=\"1027.685547\" xlink:href=\"#Tahoma-3609\"/>\n       <use x=\"1088.867188\" xlink:href=\"#Tahoma-3650\"/>\n       <use x=\"1138.085938\" xlink:href=\"#Tahoma-3618\"/>\n       <use x=\"1195.996094\" xlink:href=\"#Tahoma-3610\"/>\n       <use x=\"1258.984375\" xlink:href=\"#Tahoma-3634\"/>\n       <use x=\"1307.470703\" xlink:href=\"#Tahoma-3618\"/>\n      </g>\n     </g>\n    </g>\n    <g id=\"xtick_11\">\n     <g id=\"line2d_11\">\n      <g>\n       <use style=\"stroke:#000000;stroke-width:0.8;\" x=\"147.39625\" xlink:href=\"#maddc5fdd44\" y=\"224.64\"/>\n      </g>\n     </g>\n     <g id=\"text_11\">\n      <!-- คืนความสุข + สื่อ online -->\n      <g transform=\"translate(150.401719 333.072812)rotate(-90)scale(0.1 -0.1)\">\n       <defs>\n        <path d=\"M -9.1875 -20.21875 \nL -14.5 -20.21875 \nL -14.5 -14.40625 \nQ -17.046875 -14.40625 -18.828125 -12.6875 \nQ -20.609375 -10.984375 -20.609375 -8.6875 \nQ -20.609375 -6.25 -18.96875 -4.609375 \nQ -17.328125 -2.984375 -14.984375 -2.984375 \nQ -12.59375 -2.984375 -10.890625 -4.640625 \nQ -9.1875 -6.296875 -9.1875 -8.6875 \nz\nM -15.09375 -10.40625 \nQ -14.453125 -10.40625 -13.90625 -9.890625 \nQ -13.375 -9.375 -13.375 -8.6875 \nQ -13.375 -8.015625 -13.890625 -7.5 \nQ -14.40625 -6.984375 -15.09375 -6.984375 \nQ -15.765625 -6.984375 -16.28125 -7.5 \nQ -16.796875 -8.015625 -16.796875 -8.6875 \nQ -16.796875 -9.375 -16.28125 -9.890625 \nQ -15.765625 -10.40625 -15.09375 -10.40625 \nz\n\" id=\"Tahoma-3640\"/>\n        <path d=\"M 51.515625 27.25 \nQ 51.515625 13.484375 44.875 5.984375 \nQ 38.234375 -1.515625 27.203125 -1.515625 \nQ 15.828125 -1.515625 9.296875 6.21875 \nQ 2.78125 13.96875 2.78125 27.25 \nQ 2.78125 40.921875 9.5 48.484375 \nQ 16.21875 56.0625 27.203125 56.0625 \nQ 38.234375 56.0625 44.875 48.515625 \nQ 51.515625 40.96875 51.515625 27.25 \nz\nM 42.046875 27.25 \nQ 42.046875 37.84375 38.1875 42.984375 \nQ 34.328125 48.140625 27.203125 48.140625 \nQ 20.015625 48.140625 16.125 42.984375 \nQ 12.25 37.84375 12.25 27.25 \nQ 12.25 17 16.125 11.6875 \nQ 20.015625 6.390625 27.203125 6.390625 \nQ 34.28125 6.390625 38.15625 11.59375 \nQ 42.046875 16.796875 42.046875 27.25 \nz\n\" id=\"Tahoma-111\"/>\n        <path d=\"M 49.515625 0 \nL 40.328125 0 \nL 40.328125 31.0625 \nQ 40.328125 34.8125 39.953125 38.0625 \nQ 39.59375 41.3125 38.578125 43.265625 \nQ 37.453125 45.3125 35.453125 46.3125 \nQ 33.453125 47.3125 29.984375 47.3125 \nQ 26.5625 47.3125 22.921875 45.484375 \nQ 19.28125 43.65625 15.828125 40.71875 \nL 15.828125 0 \nL 6.640625 0 \nL 6.640625 54.546875 \nL 15.828125 54.546875 \nL 15.828125 48.484375 \nQ 19.921875 52.15625 23.921875 54.109375 \nQ 27.9375 56.0625 32.375 56.0625 \nQ 40.4375 56.0625 44.96875 50.75 \nQ 49.515625 45.453125 49.515625 35.40625 \nz\n\" id=\"Tahoma-110\"/>\n       </defs>\n       <use xlink:href=\"#Tahoma-3588\"/>\n       <use x=\"61.523438\" xlink:href=\"#Tahoma-3639\"/>\n       <use x=\"61.523438\" xlink:href=\"#Tahoma-3609\"/>\n       <use x=\"122.705078\" xlink:href=\"#Tahoma-3588\"/>\n       <use x=\"184.228516\" xlink:href=\"#Tahoma-3623\"/>\n       <use x=\"232.714844\" xlink:href=\"#Tahoma-3634\"/>\n       <use x=\"281.201172\" xlink:href=\"#Tahoma-3617\"/>\n       <use x=\"341.113281\" xlink:href=\"#Tahoma-3626\"/>\n       <use x=\"401.904297\" xlink:href=\"#Tahoma-3640\"/>\n       <use x=\"401.904297\" xlink:href=\"#Tahoma-3586\"/>\n       <use x=\"463.183594\" xlink:href=\"#Tahoma-32\"/>\n       <use x=\"494.433594\" xlink:href=\"#Tahoma-43\"/>\n       <use x=\"567.1875\" xlink:href=\"#Tahoma-32\"/>\n       <use x=\"598.4375\" xlink:href=\"#Tahoma-3626\"/>\n       <use x=\"659.228516\" xlink:href=\"#Tahoma-3639\"/>\n       <use x=\"659.228516\" xlink:href=\"#Tahoma-3656\"/>\n       <use x=\"659.228516\" xlink:href=\"#Tahoma-3629\"/>\n       <use x=\"718.75\" xlink:href=\"#Tahoma-32\"/>\n       <use x=\"750\" xlink:href=\"#Tahoma-111\"/>\n       <use x=\"804.296875\" xlink:href=\"#Tahoma-110\"/>\n       <use x=\"860.058594\" xlink:href=\"#Tahoma-108\"/>\n       <use x=\"883.035156\" xlink:href=\"#Tahoma-105\"/>\n       <use x=\"905.886719\" xlink:href=\"#Tahoma-110\"/>\n       <use x=\"961.648438\" xlink:href=\"#Tahoma-101\"/>\n      </g>\n     </g>\n    </g>\n    <g id=\"xtick_12\">\n     <g id=\"line2d_12\">\n      <g>\n       <use style=\"stroke:#000000;stroke-width:0.8;\" x=\"156.961964\" xlink:href=\"#maddc5fdd44\" y=\"224.64\"/>\n      </g>\n     </g>\n     <g id=\"text_12\">\n      <!-- หาเสียง น่าจะ กรณ์ พูด -->\n      <g transform=\"translate(159.967433 325.693125)rotate(-90)scale(0.1 -0.1)\">\n       <use xlink:href=\"#Tahoma-3627\"/>\n       <use x=\"66.992188\" xlink:href=\"#Tahoma-3634\"/>\n       <use x=\"115.478516\" xlink:href=\"#Tahoma-3648\"/>\n       <use x=\"148.681641\" xlink:href=\"#Tahoma-3626\"/>\n       <use x=\"209.472656\" xlink:href=\"#Tahoma-3637\"/>\n       <use x=\"209.472656\" xlink:href=\"#Tahoma-3618\"/>\n       <use x=\"267.382812\" xlink:href=\"#Tahoma-3591\"/>\n       <use x=\"316.601562\" xlink:href=\"#Tahoma-32\"/>\n       <use x=\"347.851562\" xlink:href=\"#Tahoma-3609\"/>\n       <use x=\"409.033203\" xlink:href=\"#Tahoma-3656\"/>\n       <use x=\"409.033203\" xlink:href=\"#Tahoma-3634\"/>\n       <use x=\"457.519531\" xlink:href=\"#Tahoma-3592\"/>\n       <use x=\"513.134766\" xlink:href=\"#Tahoma-3632\"/>\n       <use x=\"557.958984\" xlink:href=\"#Tahoma-32\"/>\n       <use x=\"589.208984\" xlink:href=\"#Tahoma-3585\"/>\n       <use x=\"648.730469\" xlink:href=\"#Tahoma-3619\"/>\n       <use x=\"691.650391\" xlink:href=\"#Tahoma-3603\"/>\n       <use x=\"776.953125\" xlink:href=\"#Tahoma-3660\"/>\n       <use x=\"776.953125\" xlink:href=\"#Tahoma-32\"/>\n       <use x=\"808.203125\" xlink:href=\"#Tahoma-3614\"/>\n       <use x=\"879.003906\" xlink:href=\"#Tahoma-3641\"/>\n       <use x=\"879.003906\" xlink:href=\"#Tahoma-3604\"/>\n      </g>\n     </g>\n    </g>\n    <g id=\"xtick_13\">\n     <g id=\"line2d_13\">\n      <g>\n       <use style=\"stroke:#000000;stroke-width:0.8;\" x=\"166.527679\" xlink:href=\"#maddc5fdd44\" y=\"224.64\"/>\n      </g>\n     </g>\n     <g id=\"text_13\">\n      <!-- หาเสียง น่าจะ อภิสิทธิ์ พูด -->\n      <g transform=\"translate(169.533147 337.719687)rotate(-90)scale(0.1 -0.1)\">\n       <use xlink:href=\"#Tahoma-3627\"/>\n       <use x=\"66.992188\" xlink:href=\"#Tahoma-3634\"/>\n       <use x=\"115.478516\" xlink:href=\"#Tahoma-3648\"/>\n       <use x=\"148.681641\" xlink:href=\"#Tahoma-3626\"/>\n       <use x=\"209.472656\" xlink:href=\"#Tahoma-3637\"/>\n       <use x=\"209.472656\" xlink:href=\"#Tahoma-3618\"/>\n       <use x=\"267.382812\" xlink:href=\"#Tahoma-3591\"/>\n       <use x=\"316.601562\" xlink:href=\"#Tahoma-32\"/>\n       <use x=\"347.851562\" xlink:href=\"#Tahoma-3609\"/>\n       <use x=\"409.033203\" xlink:href=\"#Tahoma-3656\"/>\n       <use x=\"409.033203\" xlink:href=\"#Tahoma-3634\"/>\n       <use x=\"457.519531\" xlink:href=\"#Tahoma-3592\"/>\n       <use x=\"513.134766\" xlink:href=\"#Tahoma-3632\"/>\n       <use x=\"557.958984\" xlink:href=\"#Tahoma-32\"/>\n       <use x=\"589.208984\" xlink:href=\"#Tahoma-3629\"/>\n       <use x=\"648.730469\" xlink:href=\"#Tahoma-3616\"/>\n       <use x=\"710.839844\" xlink:href=\"#Tahoma-3636\"/>\n       <use x=\"710.839844\" xlink:href=\"#Tahoma-3626\"/>\n       <use x=\"771.630859\" xlink:href=\"#Tahoma-3636\"/>\n       <use x=\"771.630859\" xlink:href=\"#Tahoma-3607\"/>\n       <use x=\"843.212891\" xlink:href=\"#Tahoma-3608\"/>\n       <use x=\"897.216797\" xlink:href=\"#Tahoma-3636\"/>\n       <use x=\"897.216797\" xlink:href=\"#Tahoma-3660\"/>\n       <use x=\"897.216797\" xlink:href=\"#Tahoma-32\"/>\n       <use x=\"928.466797\" xlink:href=\"#Tahoma-3614\"/>\n       <use x=\"999.267578\" xlink:href=\"#Tahoma-3641\"/>\n       <use x=\"999.267578\" xlink:href=\"#Tahoma-3604\"/>\n      </g>\n     </g>\n    </g>\n    <g id=\"xtick_14\">\n     <g id=\"line2d_14\">\n      <g>\n       <use style=\"stroke:#000000;stroke-width:0.8;\" x=\"176.093393\" xlink:href=\"#maddc5fdd44\" y=\"224.64\"/>\n      </g>\n     </g>\n     <g id=\"text_14\">\n      <!-- นโยบายด้านการเงิน -->\n      <g transform=\"translate(178.886362 311.982188)rotate(-90)scale(0.1 -0.1)\">\n       <use xlink:href=\"#Tahoma-3609\"/>\n       <use x=\"61.181641\" xlink:href=\"#Tahoma-3650\"/>\n       <use x=\"110.400391\" xlink:href=\"#Tahoma-3618\"/>\n       <use x=\"168.310547\" xlink:href=\"#Tahoma-3610\"/>\n       <use x=\"231.298828\" xlink:href=\"#Tahoma-3634\"/>\n       <use x=\"279.785156\" xlink:href=\"#Tahoma-3618\"/>\n       <use x=\"337.695312\" xlink:href=\"#Tahoma-3604\"/>\n       <use x=\"399.21875\" xlink:href=\"#Tahoma-3657\"/>\n       <use x=\"399.21875\" xlink:href=\"#Tahoma-3634\"/>\n       <use x=\"447.705078\" xlink:href=\"#Tahoma-3609\"/>\n       <use x=\"508.886719\" xlink:href=\"#Tahoma-3585\"/>\n       <use x=\"568.408203\" xlink:href=\"#Tahoma-3634\"/>\n       <use x=\"616.894531\" xlink:href=\"#Tahoma-3619\"/>\n       <use x=\"659.814453\" xlink:href=\"#Tahoma-3648\"/>\n       <use x=\"693.017578\" xlink:href=\"#Tahoma-3591\"/>\n       <use x=\"742.236328\" xlink:href=\"#Tahoma-3636\"/>\n       <use x=\"742.236328\" xlink:href=\"#Tahoma-3609\"/>\n      </g>\n     </g>\n    </g>\n    <g id=\"xtick_15\">\n     <g id=\"line2d_15\">\n      <g>\n       <use style=\"stroke:#000000;stroke-width:0.8;\" x=\"185.659107\" xlink:href=\"#maddc5fdd44\" y=\"224.64\"/>\n      </g>\n     </g>\n     <g id=\"text_15\">\n      <!-- นโยบาย พม. -->\n      <g transform=\"translate(188.452076 284.632187)rotate(-90)scale(0.1 -0.1)\">\n       <defs>\n        <path d=\"M 20.953125 0 \nL 9.28125 0 \nL 9.28125 13.921875 \nL 20.953125 13.921875 \nz\n\" id=\"Tahoma-46\"/>\n       </defs>\n       <use xlink:href=\"#Tahoma-3609\"/>\n       <use x=\"61.181641\" xlink:href=\"#Tahoma-3650\"/>\n       <use x=\"110.400391\" xlink:href=\"#Tahoma-3618\"/>\n       <use x=\"168.310547\" xlink:href=\"#Tahoma-3610\"/>\n       <use x=\"231.298828\" xlink:href=\"#Tahoma-3634\"/>\n       <use x=\"279.785156\" xlink:href=\"#Tahoma-3618\"/>\n       <use x=\"337.695312\" xlink:href=\"#Tahoma-32\"/>\n       <use x=\"368.945312\" xlink:href=\"#Tahoma-3614\"/>\n       <use x=\"439.746094\" xlink:href=\"#Tahoma-3617\"/>\n       <use x=\"499.658203\" xlink:href=\"#Tahoma-46\"/>\n      </g>\n     </g>\n    </g>\n    <g id=\"xtick_16\">\n     <g id=\"line2d_16\">\n      <g>\n       <use style=\"stroke:#000000;stroke-width:0.8;\" x=\"195.224821\" xlink:href=\"#maddc5fdd44\" y=\"224.64\"/>\n      </g>\n     </g>\n     <g id=\"text_16\">\n      <!-- ขายความสงบ ความนิยม -->\n      <g transform=\"translate(198.01779 330.413437)rotate(-90)scale(0.1 -0.1)\">\n       <use xlink:href=\"#Tahoma-3586\"/>\n       <use x=\"61.279297\" xlink:href=\"#Tahoma-3634\"/>\n       <use x=\"109.765625\" xlink:href=\"#Tahoma-3618\"/>\n       <use x=\"167.675781\" xlink:href=\"#Tahoma-3588\"/>\n       <use x=\"229.199219\" xlink:href=\"#Tahoma-3623\"/>\n       <use x=\"277.685547\" xlink:href=\"#Tahoma-3634\"/>\n       <use x=\"326.171875\" xlink:href=\"#Tahoma-3617\"/>\n       <use x=\"386.083984\" xlink:href=\"#Tahoma-3626\"/>\n       <use x=\"446.875\" xlink:href=\"#Tahoma-3591\"/>\n       <use x=\"496.09375\" xlink:href=\"#Tahoma-3610\"/>\n       <use x=\"559.082031\" xlink:href=\"#Tahoma-32\"/>\n       <use x=\"590.332031\" xlink:href=\"#Tahoma-3588\"/>\n       <use x=\"651.855469\" xlink:href=\"#Tahoma-3623\"/>\n       <use x=\"700.341797\" xlink:href=\"#Tahoma-3634\"/>\n       <use x=\"748.828125\" xlink:href=\"#Tahoma-3617\"/>\n       <use x=\"808.740234\" xlink:href=\"#Tahoma-3609\"/>\n       <use x=\"869.921875\" xlink:href=\"#Tahoma-3636\"/>\n       <use x=\"869.921875\" xlink:href=\"#Tahoma-3618\"/>\n       <use x=\"927.832031\" xlink:href=\"#Tahoma-3617\"/>\n      </g>\n     </g>\n    </g>\n    <g id=\"xtick_17\">\n     <g id=\"line2d_17\">\n      <g>\n       <use style=\"stroke:#000000;stroke-width:0.8;\" x=\"204.790536\" xlink:href=\"#maddc5fdd44\" y=\"224.64\"/>\n      </g>\n     </g>\n     <g id=\"text_17\">\n      <!-- ลุงมิ่ง สร้างภาพความนิยมลุงมิ่ง  -->\n      <g transform=\"translate(207.600692 359.905625)rotate(-90)scale(0.1 -0.1)\">\n       <use xlink:href=\"#Tahoma-3621\"/>\n       <use x=\"61.621094\" xlink:href=\"#Tahoma-3640\"/>\n       <use x=\"61.621094\" xlink:href=\"#Tahoma-3591\"/>\n       <use x=\"110.839844\" xlink:href=\"#Tahoma-3617\"/>\n       <use x=\"170.751953\" xlink:href=\"#Tahoma-3636\"/>\n       <use x=\"170.751953\" xlink:href=\"#Tahoma-3656\"/>\n       <use x=\"170.751953\" xlink:href=\"#Tahoma-3591\"/>\n       <use x=\"219.970703\" xlink:href=\"#Tahoma-32\"/>\n       <use x=\"251.220703\" xlink:href=\"#Tahoma-3626\"/>\n       <use x=\"312.011719\" xlink:href=\"#Tahoma-3619\"/>\n       <use x=\"354.931641\" xlink:href=\"#Tahoma-3657\"/>\n       <use x=\"354.931641\" xlink:href=\"#Tahoma-3634\"/>\n       <use x=\"403.417969\" xlink:href=\"#Tahoma-3591\"/>\n       <use x=\"452.636719\" xlink:href=\"#Tahoma-3616\"/>\n       <use x=\"514.746094\" xlink:href=\"#Tahoma-3634\"/>\n       <use x=\"563.232422\" xlink:href=\"#Tahoma-3614\"/>\n       <use x=\"634.033203\" xlink:href=\"#Tahoma-3588\"/>\n       <use x=\"695.556641\" xlink:href=\"#Tahoma-3623\"/>\n       <use x=\"744.042969\" xlink:href=\"#Tahoma-3634\"/>\n       <use x=\"792.529297\" xlink:href=\"#Tahoma-3617\"/>\n       <use x=\"852.441406\" xlink:href=\"#Tahoma-3609\"/>\n       <use x=\"913.623047\" xlink:href=\"#Tahoma-3636\"/>\n       <use x=\"913.623047\" xlink:href=\"#Tahoma-3618\"/>\n       <use x=\"971.533203\" xlink:href=\"#Tahoma-3617\"/>\n       <use x=\"1031.445312\" xlink:href=\"#Tahoma-3621\"/>\n       <use x=\"1093.066406\" xlink:href=\"#Tahoma-3640\"/>\n       <use x=\"1093.066406\" xlink:href=\"#Tahoma-3591\"/>\n       <use x=\"1142.285156\" xlink:href=\"#Tahoma-3617\"/>\n       <use x=\"1202.197266\" xlink:href=\"#Tahoma-3636\"/>\n       <use x=\"1202.197266\" xlink:href=\"#Tahoma-3656\"/>\n       <use x=\"1202.197266\" xlink:href=\"#Tahoma-3591\"/>\n       <use x=\"1251.416016\" xlink:href=\"#Tahoma-32\"/>\n      </g>\n     </g>\n    </g>\n    <g id=\"xtick_18\">\n     <g id=\"line2d_18\">\n      <g>\n       <use style=\"stroke:#000000;stroke-width:0.8;\" x=\"214.35625\" xlink:href=\"#maddc5fdd44\" y=\"224.64\"/>\n      </g>\n     </g>\n     <g id=\"text_18\">\n      <!-- เน้นเลือกความสงบ -->\n      <g transform=\"translate(217.149219 307.724375)rotate(-90)scale(0.1 -0.1)\">\n       <use xlink:href=\"#Tahoma-3648\"/>\n       <use x=\"33.203125\" xlink:href=\"#Tahoma-3609\"/>\n       <use x=\"94.384766\" xlink:href=\"#Tahoma-3657\"/>\n       <use x=\"94.384766\" xlink:href=\"#Tahoma-3609\"/>\n       <use x=\"155.566406\" xlink:href=\"#Tahoma-3648\"/>\n       <use x=\"188.769531\" xlink:href=\"#Tahoma-3621\"/>\n       <use x=\"250.390625\" xlink:href=\"#Tahoma-3639\"/>\n       <use x=\"250.390625\" xlink:href=\"#Tahoma-3629\"/>\n       <use x=\"309.912109\" xlink:href=\"#Tahoma-3585\"/>\n       <use x=\"369.433594\" xlink:href=\"#Tahoma-3588\"/>\n       <use x=\"430.957031\" xlink:href=\"#Tahoma-3623\"/>\n       <use x=\"479.443359\" xlink:href=\"#Tahoma-3634\"/>\n       <use x=\"527.929688\" xlink:href=\"#Tahoma-3617\"/>\n       <use x=\"587.841797\" xlink:href=\"#Tahoma-3626\"/>\n       <use x=\"648.632812\" xlink:href=\"#Tahoma-3591\"/>\n       <use x=\"697.851562\" xlink:href=\"#Tahoma-3610\"/>\n      </g>\n     </g>\n    </g>\n    <g id=\"xtick_19\">\n     <g id=\"line2d_19\">\n      <g>\n       <use style=\"stroke:#000000;stroke-width:0.8;\" x=\"223.921964\" xlink:href=\"#maddc5fdd44\" y=\"224.64\"/>\n      </g>\n     </g>\n     <g id=\"text_19\">\n      <!-- บัญชีรายชื่อ -->\n      <g transform=\"translate(226.903214 279.682187)rotate(-90)scale(0.1 -0.1)\">\n       <use xlink:href=\"#Tahoma-3610\"/>\n       <use x=\"62.988281\" xlink:href=\"#Tahoma-3633\"/>\n       <use x=\"62.988281\" xlink:href=\"#Tahoma-3597\"/>\n       <use x=\"146.191406\" xlink:href=\"#Tahoma-3594\"/>\n       <use x=\"208.886719\" xlink:href=\"#Tahoma-3637\"/>\n       <use x=\"208.886719\" xlink:href=\"#Tahoma-3619\"/>\n       <use x=\"251.806641\" xlink:href=\"#Tahoma-3634\"/>\n       <use x=\"300.292969\" xlink:href=\"#Tahoma-3618\"/>\n       <use x=\"358.203125\" xlink:href=\"#Tahoma-3594\"/>\n       <use x=\"420.898438\" xlink:href=\"#Tahoma-3639\"/>\n       <use x=\"420.898438\" xlink:href=\"#Tahoma-3656\"/>\n       <use x=\"420.898438\" xlink:href=\"#Tahoma-3629\"/>\n      </g>\n     </g>\n    </g>\n    <g id=\"xtick_20\">\n     <g id=\"line2d_20\">\n      <g>\n       <use style=\"stroke:#000000;stroke-width:0.8;\" x=\"233.487679\" xlink:href=\"#maddc5fdd44\" y=\"224.64\"/>\n      </g>\n     </g>\n     <g id=\"text_20\">\n      <!-- ปราศรัยหาเสียง ปัญหาที่เจอตอนหาเสียง -->\n      <g transform=\"translate(236.478304 396.143125)rotate(-90)scale(0.1 -0.1)\">\n       <use xlink:href=\"#Tahoma-3611\"/>\n       <use x=\"62.988281\" xlink:href=\"#Tahoma-3619\"/>\n       <use x=\"105.908203\" xlink:href=\"#Tahoma-3634\"/>\n       <use x=\"154.394531\" xlink:href=\"#Tahoma-3624\"/>\n       <use x=\"215.917969\" xlink:href=\"#Tahoma-3619\"/>\n       <use x=\"258.837891\" xlink:href=\"#Tahoma-3633\"/>\n       <use x=\"258.837891\" xlink:href=\"#Tahoma-3618\"/>\n       <use x=\"316.748047\" xlink:href=\"#Tahoma-3627\"/>\n       <use x=\"383.740234\" xlink:href=\"#Tahoma-3634\"/>\n       <use x=\"432.226562\" xlink:href=\"#Tahoma-3648\"/>\n       <use x=\"465.429688\" xlink:href=\"#Tahoma-3626\"/>\n       <use x=\"526.220703\" xlink:href=\"#Tahoma-3637\"/>\n       <use x=\"526.220703\" xlink:href=\"#Tahoma-3618\"/>\n       <use x=\"584.130859\" xlink:href=\"#Tahoma-3591\"/>\n       <use x=\"633.349609\" xlink:href=\"#Tahoma-32\"/>\n       <use x=\"664.599609\" xlink:href=\"#Tahoma-3611\"/>\n       <use x=\"727.587891\" xlink:href=\"#Tahoma-3633\"/>\n       <use x=\"727.587891\" xlink:href=\"#Tahoma-3597\"/>\n       <use x=\"810.791016\" xlink:href=\"#Tahoma-3627\"/>\n       <use x=\"877.783203\" xlink:href=\"#Tahoma-3634\"/>\n       <use x=\"926.269531\" xlink:href=\"#Tahoma-3607\"/>\n       <use x=\"997.851562\" xlink:href=\"#Tahoma-3637\"/>\n       <use x=\"997.851562\" xlink:href=\"#Tahoma-3656\"/>\n       <use x=\"997.851562\" xlink:href=\"#Tahoma-3648\"/>\n       <use x=\"1031.054688\" xlink:href=\"#Tahoma-3592\"/>\n       <use x=\"1086.669922\" xlink:href=\"#Tahoma-3629\"/>\n       <use x=\"1146.191406\" xlink:href=\"#Tahoma-3605\"/>\n       <use x=\"1207.714844\" xlink:href=\"#Tahoma-3629\"/>\n       <use x=\"1267.236328\" xlink:href=\"#Tahoma-3609\"/>\n       <use x=\"1328.417969\" xlink:href=\"#Tahoma-3627\"/>\n       <use x=\"1395.410156\" xlink:href=\"#Tahoma-3634\"/>\n       <use x=\"1443.896484\" xlink:href=\"#Tahoma-3648\"/>\n       <use x=\"1477.099609\" xlink:href=\"#Tahoma-3626\"/>\n       <use x=\"1537.890625\" xlink:href=\"#Tahoma-3637\"/>\n       <use x=\"1537.890625\" xlink:href=\"#Tahoma-3618\"/>\n       <use x=\"1595.800781\" xlink:href=\"#Tahoma-3591\"/>\n      </g>\n     </g>\n    </g>\n    <g id=\"xtick_21\">\n     <g id=\"line2d_21\">\n      <g>\n       <use style=\"stroke:#000000;stroke-width:0.8;\" x=\"243.053393\" xlink:href=\"#maddc5fdd44\" y=\"224.64\"/>\n      </g>\n     </g>\n     <g id=\"text_21\">\n      <!-- ผู้สมัคร การนัดแนะและบรรยากาศหาเสียง (น่าจะพูดถึงลุงตอนอย่บนเวที) -->\n      <g transform=\"translate(246.063549 522.774375)rotate(-90)scale(0.1 -0.1)\">\n       <defs>\n        <path d=\"M 54.984375 0 \nL 45.796875 0 \nQ 45.796875 1.375 44.328125 4.078125 \nQ 42.875 6.78125 37.3125 14.3125 \nQ 32.90625 20.265625 31.5 22.515625 \nQ 30.125 20.3125 25.828125 14.40625 \nQ 20.265625 6.84375 18.765625 4.109375 \nQ 17.28125 1.375 17.28125 0 \nL 8.203125 0 \nL 8.203125 43.015625 \nQ 8.203125 49.03125 11.640625 52.5625 \nQ 15.09375 56.109375 20.90625 56.109375 \nQ 24.703125 56.109375 27.4375 53.34375 \nQ 30.171875 50.59375 30.171875 46.78125 \nQ 30.171875 42.96875 27.453125 40.28125 \nQ 24.75 37.59375 20.90625 37.59375 \nQ 18.890625 37.59375 17.390625 38.1875 \nL 17.390625 12.203125 \nQ 17.390625 13.71875 24.75 23.53125 \nQ 30.515625 31.203125 30.515625 32.078125 \nL 32.515625 32.078125 \nQ 32.515625 31.203125 38.328125 23.53125 \nQ 45.796875 13.71875 45.796875 12.203125 \nL 45.796875 54.59375 \nL 54.984375 54.59375 \nz\nM 20.90625 43.21875 \nQ 22.40625 43.21875 23.5 44.265625 \nQ 24.609375 45.3125 24.609375 46.78125 \nQ 24.609375 48.4375 23.5 49.515625 \nQ 22.40625 50.59375 20.90625 50.59375 \nQ 19.390625 50.59375 18.28125 49.484375 \nQ 17.1875 48.390625 17.1875 46.78125 \nQ 17.1875 45.3125 18.28125 44.265625 \nQ 19.390625 43.21875 20.90625 43.21875 \nz\n\" id=\"Tahoma-3612\"/>\n        <path d=\"M 34.671875 -20.125 \nL 23.484375 -20.125 \nQ 14.984375 -10.015625 10.125 1.265625 \nQ 5.28125 12.546875 5.28125 27.9375 \nQ 5.28125 42.96875 10.078125 54.421875 \nQ 14.890625 65.875 23.484375 75.984375 \nL 34.671875 75.984375 \nL 34.671875 75.484375 \nQ 30.71875 71.921875 27.125 67.25 \nQ 23.53125 62.59375 20.453125 56.390625 \nQ 17.53125 50.390625 15.703125 43.15625 \nQ 13.875 35.9375 13.875 27.9375 \nQ 13.875 19.578125 15.65625 12.640625 \nQ 17.4375 5.71875 20.453125 -0.53125 \nQ 23.390625 -6.546875 27.140625 -11.40625 \nQ 30.90625 -16.265625 34.671875 -19.625 \nz\n\" id=\"Tahoma-40\"/>\n        <path d=\"M 33.015625 27.9375 \nQ 33.015625 12.84375 28.171875 1.40625 \nQ 23.34375 -10.015625 14.796875 -20.125 \nL 3.609375 -20.125 \nL 3.609375 -19.625 \nQ 7.375 -16.265625 11.171875 -11.359375 \nQ 14.984375 -6.453125 17.828125 -0.53125 \nQ 20.84375 5.765625 22.625 12.765625 \nQ 24.421875 19.78125 24.421875 27.9375 \nQ 24.421875 35.984375 22.609375 43.15625 \nQ 20.796875 50.34375 17.828125 56.390625 \nQ 14.84375 62.453125 11.078125 67.28125 \nQ 7.328125 72.125 3.609375 75.484375 \nL 3.609375 75.984375 \nL 14.796875 75.984375 \nQ 23.296875 65.875 28.15625 54.484375 \nQ 33.015625 43.109375 33.015625 27.9375 \nz\n\" id=\"Tahoma-41\"/>\n       </defs>\n       <use xlink:href=\"#Tahoma-3612\"/>\n       <use x=\"63.183594\" xlink:href=\"#Tahoma-3641\"/>\n       <use x=\"63.183594\" xlink:href=\"#Tahoma-3657\"/>\n       <use x=\"63.183594\" xlink:href=\"#Tahoma-3626\"/>\n       <use x=\"123.974609\" xlink:href=\"#Tahoma-3617\"/>\n       <use x=\"183.886719\" xlink:href=\"#Tahoma-3633\"/>\n       <use x=\"183.886719\" xlink:href=\"#Tahoma-3588\"/>\n       <use x=\"245.410156\" xlink:href=\"#Tahoma-3619\"/>\n       <use x=\"288.330078\" xlink:href=\"#Tahoma-32\"/>\n       <use x=\"319.580078\" xlink:href=\"#Tahoma-3585\"/>\n       <use x=\"379.101562\" xlink:href=\"#Tahoma-3634\"/>\n       <use x=\"427.587891\" xlink:href=\"#Tahoma-3619\"/>\n       <use x=\"470.507812\" xlink:href=\"#Tahoma-3609\"/>\n       <use x=\"531.689453\" xlink:href=\"#Tahoma-3633\"/>\n       <use x=\"531.689453\" xlink:href=\"#Tahoma-3604\"/>\n       <use x=\"593.212891\" xlink:href=\"#Tahoma-3649\"/>\n       <use x=\"652.392578\" xlink:href=\"#Tahoma-3609\"/>\n       <use x=\"713.574219\" xlink:href=\"#Tahoma-3632\"/>\n       <use x=\"758.398438\" xlink:href=\"#Tahoma-3649\"/>\n       <use x=\"817.578125\" xlink:href=\"#Tahoma-3621\"/>\n       <use x=\"879.199219\" xlink:href=\"#Tahoma-3632\"/>\n       <use x=\"924.023438\" xlink:href=\"#Tahoma-3610\"/>\n       <use x=\"987.011719\" xlink:href=\"#Tahoma-3619\"/>\n       <use x=\"1029.931641\" xlink:href=\"#Tahoma-3619\"/>\n       <use x=\"1072.851562\" xlink:href=\"#Tahoma-3618\"/>\n       <use x=\"1130.761719\" xlink:href=\"#Tahoma-3634\"/>\n       <use x=\"1179.248047\" xlink:href=\"#Tahoma-3585\"/>\n       <use x=\"1238.769531\" xlink:href=\"#Tahoma-3634\"/>\n       <use x=\"1287.255859\" xlink:href=\"#Tahoma-3624\"/>\n       <use x=\"1348.779297\" xlink:href=\"#Tahoma-3627\"/>\n       <use x=\"1415.771484\" xlink:href=\"#Tahoma-3634\"/>\n       <use x=\"1464.257812\" xlink:href=\"#Tahoma-3648\"/>\n       <use x=\"1497.460938\" xlink:href=\"#Tahoma-3626\"/>\n       <use x=\"1558.251953\" xlink:href=\"#Tahoma-3637\"/>\n       <use x=\"1558.251953\" xlink:href=\"#Tahoma-3618\"/>\n       <use x=\"1616.162109\" xlink:href=\"#Tahoma-3591\"/>\n       <use x=\"1665.380859\" xlink:href=\"#Tahoma-32\"/>\n       <use x=\"1696.630859\" xlink:href=\"#Tahoma-40\"/>\n       <use x=\"1734.912109\" xlink:href=\"#Tahoma-3609\"/>\n       <use x=\"1796.09375\" xlink:href=\"#Tahoma-3656\"/>\n       <use x=\"1796.09375\" xlink:href=\"#Tahoma-3634\"/>\n       <use x=\"1844.580078\" xlink:href=\"#Tahoma-3592\"/>\n       <use x=\"1900.195312\" xlink:href=\"#Tahoma-3632\"/>\n       <use x=\"1945.019531\" xlink:href=\"#Tahoma-3614\"/>\n       <use x=\"2015.820312\" xlink:href=\"#Tahoma-3641\"/>\n       <use x=\"2015.820312\" xlink:href=\"#Tahoma-3604\"/>\n       <use x=\"2077.34375\" xlink:href=\"#Tahoma-3606\"/>\n       <use x=\"2135.839844\" xlink:href=\"#Tahoma-3638\"/>\n       <use x=\"2135.839844\" xlink:href=\"#Tahoma-3591\"/>\n       <use x=\"2185.058594\" xlink:href=\"#Tahoma-3621\"/>\n       <use x=\"2246.679688\" xlink:href=\"#Tahoma-3640\"/>\n       <use x=\"2246.679688\" xlink:href=\"#Tahoma-3591\"/>\n       <use x=\"2295.898438\" xlink:href=\"#Tahoma-3605\"/>\n       <use x=\"2357.421875\" xlink:href=\"#Tahoma-3629\"/>\n       <use x=\"2416.943359\" xlink:href=\"#Tahoma-3609\"/>\n       <use x=\"2478.125\" xlink:href=\"#Tahoma-3629\"/>\n       <use x=\"2537.646484\" xlink:href=\"#Tahoma-3618\"/>\n       <use x=\"2595.556641\" xlink:href=\"#Tahoma-3656\"/>\n       <use x=\"2595.556641\" xlink:href=\"#Tahoma-3610\"/>\n       <use x=\"2658.544922\" xlink:href=\"#Tahoma-3609\"/>\n       <use x=\"2719.726562\" xlink:href=\"#Tahoma-3648\"/>\n       <use x=\"2752.929688\" xlink:href=\"#Tahoma-3623\"/>\n       <use x=\"2801.416016\" xlink:href=\"#Tahoma-3607\"/>\n       <use x=\"2872.998047\" xlink:href=\"#Tahoma-3637\"/>\n       <use x=\"2872.998047\" xlink:href=\"#Tahoma-41\"/>\n      </g>\n     </g>\n    </g>\n    <g id=\"xtick_22\">\n     <g id=\"line2d_22\">\n      <g>\n       <use style=\"stroke:#000000;stroke-width:0.8;\" x=\"252.619107\" xlink:href=\"#maddc5fdd44\" y=\"224.64\"/>\n      </g>\n     </g>\n     <g id=\"text_22\">\n      <!-- นโยบายด้านเศรษฐกิจ -->\n      <g transform=\"translate(255.68317 320.810313)rotate(-90)scale(0.1 -0.1)\">\n       <use xlink:href=\"#Tahoma-3609\"/>\n       <use x=\"61.181641\" xlink:href=\"#Tahoma-3650\"/>\n       <use x=\"110.400391\" xlink:href=\"#Tahoma-3618\"/>\n       <use x=\"168.310547\" xlink:href=\"#Tahoma-3610\"/>\n       <use x=\"231.298828\" xlink:href=\"#Tahoma-3634\"/>\n       <use x=\"279.785156\" xlink:href=\"#Tahoma-3618\"/>\n       <use x=\"337.695312\" xlink:href=\"#Tahoma-3604\"/>\n       <use x=\"399.21875\" xlink:href=\"#Tahoma-3657\"/>\n       <use x=\"399.21875\" xlink:href=\"#Tahoma-3634\"/>\n       <use x=\"447.705078\" xlink:href=\"#Tahoma-3609\"/>\n       <use x=\"508.886719\" xlink:href=\"#Tahoma-3648\"/>\n       <use x=\"542.089844\" xlink:href=\"#Tahoma-3624\"/>\n       <use x=\"603.613281\" xlink:href=\"#Tahoma-3619\"/>\n       <use x=\"646.533203\" xlink:href=\"#Tahoma-3625\"/>\n       <use x=\"720.947266\" xlink:href=\"#Tahoma-3600\"/>\n       <use x=\"776.5625\" xlink:href=\"#Tahoma-3585\"/>\n       <use x=\"836.083984\" xlink:href=\"#Tahoma-3636\"/>\n       <use x=\"836.083984\" xlink:href=\"#Tahoma-3592\"/>\n      </g>\n     </g>\n    </g>\n    <g id=\"xtick_23\">\n     <g id=\"line2d_23\">\n      <g>\n       <use style=\"stroke:#000000;stroke-width:0.8;\" x=\"262.184821\" xlink:href=\"#maddc5fdd44\" y=\"224.64\"/>\n      </g>\n     </g>\n     <g id=\"text_23\">\n      <!-- นโยบายเศรษฐกิจ -->\n      <g transform=\"translate(265.248884 303.69)rotate(-90)scale(0.1 -0.1)\">\n       <use xlink:href=\"#Tahoma-3609\"/>\n       <use x=\"61.181641\" xlink:href=\"#Tahoma-3650\"/>\n       <use x=\"110.400391\" xlink:href=\"#Tahoma-3618\"/>\n       <use x=\"168.310547\" xlink:href=\"#Tahoma-3610\"/>\n       <use x=\"231.298828\" xlink:href=\"#Tahoma-3634\"/>\n       <use x=\"279.785156\" xlink:href=\"#Tahoma-3618\"/>\n       <use x=\"337.695312\" xlink:href=\"#Tahoma-3648\"/>\n       <use x=\"370.898438\" xlink:href=\"#Tahoma-3624\"/>\n       <use x=\"432.421875\" xlink:href=\"#Tahoma-3619\"/>\n       <use x=\"475.341797\" xlink:href=\"#Tahoma-3625\"/>\n       <use x=\"549.755859\" xlink:href=\"#Tahoma-3600\"/>\n       <use x=\"605.371094\" xlink:href=\"#Tahoma-3585\"/>\n       <use x=\"664.892578\" xlink:href=\"#Tahoma-3636\"/>\n       <use x=\"664.892578\" xlink:href=\"#Tahoma-3592\"/>\n      </g>\n     </g>\n    </g>\n    <g id=\"xtick_24\">\n     <g id=\"line2d_24\">\n      <g>\n       <use style=\"stroke:#000000;stroke-width:0.8;\" x=\"271.750536\" xlink:href=\"#maddc5fdd44\" y=\"224.64\"/>\n      </g>\n     </g>\n     <g id=\"text_24\">\n      <!-- ขายลุงมิ่ง -->\n      <g transform=\"translate(274.538817 270.404063)rotate(-90)scale(0.1 -0.1)\">\n       <use xlink:href=\"#Tahoma-3586\"/>\n       <use x=\"61.279297\" xlink:href=\"#Tahoma-3634\"/>\n       <use x=\"109.765625\" xlink:href=\"#Tahoma-3618\"/>\n       <use x=\"167.675781\" xlink:href=\"#Tahoma-3621\"/>\n       <use x=\"229.296875\" xlink:href=\"#Tahoma-3640\"/>\n       <use x=\"229.296875\" xlink:href=\"#Tahoma-3591\"/>\n       <use x=\"278.515625\" xlink:href=\"#Tahoma-3617\"/>\n       <use x=\"338.427734\" xlink:href=\"#Tahoma-3636\"/>\n       <use x=\"338.427734\" xlink:href=\"#Tahoma-3656\"/>\n       <use x=\"338.427734\" xlink:href=\"#Tahoma-3591\"/>\n      </g>\n     </g>\n    </g>\n    <g id=\"xtick_25\">\n     <g id=\"line2d_25\">\n      <g>\n       <use style=\"stroke:#000000;stroke-width:0.8;\" x=\"281.31625\" xlink:href=\"#maddc5fdd44\" y=\"224.64\"/>\n      </g>\n     </g>\n     <g id=\"text_25\">\n      <!-- ลุงมิ่งในสื่อ online -->\n      <g transform=\"translate(284.331094 305.761875)rotate(-90)scale(0.1 -0.1)\">\n       <use xlink:href=\"#Tahoma-3621\"/>\n       <use x=\"61.621094\" xlink:href=\"#Tahoma-3640\"/>\n       <use x=\"61.621094\" xlink:href=\"#Tahoma-3591\"/>\n       <use x=\"110.839844\" xlink:href=\"#Tahoma-3617\"/>\n       <use x=\"170.751953\" xlink:href=\"#Tahoma-3636\"/>\n       <use x=\"170.751953\" xlink:href=\"#Tahoma-3656\"/>\n       <use x=\"170.751953\" xlink:href=\"#Tahoma-3591\"/>\n       <use x=\"219.970703\" xlink:href=\"#Tahoma-3651\"/>\n       <use x=\"264.160156\" xlink:href=\"#Tahoma-3609\"/>\n       <use x=\"325.341797\" xlink:href=\"#Tahoma-3626\"/>\n       <use x=\"386.132812\" xlink:href=\"#Tahoma-3639\"/>\n       <use x=\"386.132812\" xlink:href=\"#Tahoma-3656\"/>\n       <use x=\"386.132812\" xlink:href=\"#Tahoma-3629\"/>\n       <use x=\"445.654297\" xlink:href=\"#Tahoma-32\"/>\n       <use x=\"476.904297\" xlink:href=\"#Tahoma-111\"/>\n       <use x=\"531.201172\" xlink:href=\"#Tahoma-110\"/>\n       <use x=\"586.962891\" xlink:href=\"#Tahoma-108\"/>\n       <use x=\"609.939453\" xlink:href=\"#Tahoma-105\"/>\n       <use x=\"632.791016\" xlink:href=\"#Tahoma-110\"/>\n       <use x=\"688.552734\" xlink:href=\"#Tahoma-101\"/>\n      </g>\n     </g>\n    </g>\n    <g id=\"xtick_26\">\n     <g id=\"line2d_26\">\n      <g>\n       <use style=\"stroke:#000000;stroke-width:0.8;\" x=\"290.881964\" xlink:href=\"#maddc5fdd44\" y=\"224.64\"/>\n      </g>\n     </g>\n     <g id=\"text_26\">\n      <!-- Campaign เดินคารวะแผ่นดิน กลาง -->\n      <g transform=\"translate(293.648371 374.44)rotate(-90)scale(0.1 -0.1)\">\n       <defs>\n        <path d=\"M 35.796875 -1.3125 \nQ 28.65625 -1.3125 22.671875 1.078125 \nQ 16.703125 3.46875 12.359375 8.203125 \nQ 8.015625 12.9375 5.609375 20.015625 \nQ 3.21875 27.09375 3.21875 36.28125 \nQ 3.21875 45.40625 5.53125 52.1875 \nQ 7.859375 58.984375 12.3125 64.015625 \nQ 16.65625 68.890625 22.609375 71.453125 \nQ 28.5625 74.03125 35.9375 74.03125 \nQ 39.59375 74.03125 42.796875 73.484375 \nQ 46 72.953125 48.734375 72.125 \nQ 51.078125 71.390625 53.53125 70.28125 \nQ 56 69.1875 58.40625 67.875 \nL 58.40625 56.203125 \nL 57.625 56.203125 \nQ 56.34375 57.375 54.34375 59.03125 \nQ 52.34375 60.6875 49.46875 62.3125 \nQ 46.6875 63.8125 43.40625 64.78125 \nQ 40.140625 65.765625 35.84375 65.765625 \nQ 31.203125 65.765625 27.046875 63.859375 \nQ 22.90625 61.96875 19.78125 58.25 \nQ 16.703125 54.546875 14.984375 48.921875 \nQ 13.28125 43.3125 13.28125 36.28125 \nQ 13.28125 28.8125 15.078125 23.40625 \nQ 16.890625 18.015625 20.015625 14.3125 \nQ 23.046875 10.6875 27.140625 8.859375 \nQ 31.25 7.03125 35.84375 7.03125 \nQ 40.046875 7.03125 43.609375 8.046875 \nQ 47.171875 9.078125 49.953125 10.640625 \nQ 52.640625 12.15625 54.59375 13.734375 \nQ 56.546875 15.328125 57.671875 16.453125 \nL 58.40625 16.453125 \nL 58.40625 4.9375 \nQ 56 3.8125 53.875 2.78125 \nQ 51.765625 1.765625 48.734375 0.78125 \nQ 45.5625 -0.25 42.84375 -0.78125 \nQ 40.140625 -1.3125 35.796875 -1.3125 \nz\n\" id=\"Tahoma-67\"/>\n        <path d=\"M 68.5625 0 \nL 68.5625 31.546875 \nQ 68.5625 35.296875 68.265625 38.5 \nQ 67.96875 41.703125 67.046875 43.5 \nQ 66.0625 45.453125 64.25 46.375 \nQ 62.453125 47.3125 59.375 47.3125 \nQ 56.546875 47.3125 53.296875 45.578125 \nQ 50.046875 43.84375 46.578125 40.578125 \nQ 46.625 39.75 46.703125 38.59375 \nQ 46.78125 37.453125 46.78125 35.890625 \nL 46.78125 0 \nL 37.59375 0 \nL 37.59375 31.546875 \nQ 37.59375 35.296875 37.296875 38.5 \nQ 37.015625 41.703125 36.078125 43.5 \nQ 35.109375 45.453125 33.296875 46.375 \nQ 31.5 47.3125 28.421875 47.3125 \nQ 25.4375 47.3125 22.15625 45.453125 \nQ 18.890625 43.609375 15.828125 40.71875 \nL 15.828125 0 \nL 6.640625 0 \nL 6.640625 54.546875 \nL 15.828125 54.546875 \nL 15.828125 48.484375 \nQ 19.4375 52.09375 22.96875 54.078125 \nQ 26.515625 56.0625 30.765625 56.0625 \nQ 35.59375 56.0625 39.328125 53.859375 \nQ 43.0625 51.65625 45.015625 46.625 \nQ 49.171875 51.265625 53.125 53.65625 \nQ 57.078125 56.0625 61.71875 56.0625 \nQ 65.234375 56.0625 68.109375 54.953125 \nQ 71 53.859375 73.140625 51.421875 \nQ 75.34375 48.921875 76.53125 45.203125 \nQ 77.734375 41.5 77.734375 35.890625 \nL 77.734375 0 \nz\n\" id=\"Tahoma-109\"/>\n        <path d=\"M 52.390625 28.71875 \nQ 52.390625 15.09375 45.875 7 \nQ 39.359375 -1.078125 29.390625 -1.078125 \nQ 25.34375 -1.078125 22.21875 -0.140625 \nQ 19.09375 0.78125 15.828125 2.734375 \nL 15.828125 -20.125 \nL 6.640625 -20.125 \nL 6.640625 54.546875 \nL 15.828125 54.546875 \nL 15.828125 48.828125 \nQ 19.234375 51.90625 23.40625 53.984375 \nQ 27.59375 56.0625 32.515625 56.0625 \nQ 41.890625 56.0625 47.140625 48.640625 \nQ 52.390625 41.21875 52.390625 28.71875 \nz\nM 42.921875 27.6875 \nQ 42.921875 37.015625 39.9375 42.15625 \nQ 36.96875 47.3125 30.28125 47.3125 \nQ 26.375 47.3125 22.734375 45.578125 \nQ 19.09375 43.84375 15.828125 41.109375 \nL 15.828125 10.203125 \nQ 19.4375 8.453125 22 7.8125 \nQ 24.5625 7.171875 27.875 7.171875 \nQ 35.015625 7.171875 38.96875 12.390625 \nQ 42.921875 17.625 42.921875 27.6875 \nz\n\" id=\"Tahoma-112\"/>\n        <path d=\"M 39.453125 14.796875 \nL 39.453125 44.734375 \nQ 36.03125 46.390625 33.125 47.09375 \nQ 30.21875 47.796875 27.34375 47.796875 \nQ 20.359375 47.796875 16.359375 42.671875 \nQ 12.359375 37.546875 12.359375 27.984375 \nQ 12.359375 18.890625 15.40625 14.15625 \nQ 18.453125 9.421875 25.296875 9.421875 \nQ 28.859375 9.421875 32.640625 10.828125 \nQ 36.421875 12.25 39.453125 14.796875 \nz\nM 8.59375 -8.734375 \nQ 9.515625 -9.125 11.328125 -9.78125 \nQ 13.140625 -10.453125 15.4375 -11.03125 \nQ 17.96875 -11.671875 20.109375 -12.0625 \nQ 22.265625 -12.453125 24.8125 -12.453125 \nQ 29.046875 -12.453125 32 -11.328125 \nQ 34.96875 -10.203125 36.625 -8.203125 \nQ 38.1875 -6.203125 38.8125 -3.5625 \nQ 39.453125 -0.921875 39.453125 2.4375 \nL 39.453125 7.234375 \nQ 35.75 4 32.171875 2.453125 \nQ 28.609375 0.921875 23.25 0.921875 \nQ 13.921875 0.921875 8.390625 7.859375 \nQ 2.875 14.796875 2.875 27.78125 \nQ 2.875 34.578125 4.78125 39.8125 \nQ 6.6875 45.0625 9.90625 48.734375 \nQ 12.984375 52.25 17.1875 54.15625 \nQ 21.390625 56.0625 25.875 56.0625 \nQ 30.125 56.0625 33.21875 55.046875 \nQ 36.328125 54.046875 39.453125 52.203125 \nL 39.984375 54.546875 \nL 48.640625 54.546875 \nL 48.640625 6.203125 \nQ 48.640625 -7.671875 42.578125 -14.15625 \nQ 36.53125 -20.65625 24.078125 -20.65625 \nQ 20.0625 -20.65625 15.890625 -20.015625 \nQ 11.71875 -19.390625 8.109375 -18.3125 \nL 8.109375 -8.734375 \nz\n\" id=\"Tahoma-103\"/>\n       </defs>\n       <use xlink:href=\"#Tahoma-67\"/>\n       <use x=\"60.058594\" xlink:href=\"#Tahoma-97\"/>\n       <use x=\"112.548828\" xlink:href=\"#Tahoma-109\"/>\n       <use x=\"196.533203\" xlink:href=\"#Tahoma-112\"/>\n       <use x=\"251.806641\" xlink:href=\"#Tahoma-97\"/>\n       <use x=\"304.296875\" xlink:href=\"#Tahoma-105\"/>\n       <use x=\"327.148438\" xlink:href=\"#Tahoma-103\"/>\n       <use x=\"382.421875\" xlink:href=\"#Tahoma-110\"/>\n       <use x=\"438.183594\" xlink:href=\"#Tahoma-32\"/>\n       <use x=\"469.433594\" xlink:href=\"#Tahoma-3648\"/>\n       <use x=\"502.636719\" xlink:href=\"#Tahoma-3604\"/>\n       <use x=\"564.160156\" xlink:href=\"#Tahoma-3636\"/>\n       <use x=\"564.160156\" xlink:href=\"#Tahoma-3609\"/>\n       <use x=\"625.341797\" xlink:href=\"#Tahoma-3588\"/>\n       <use x=\"686.865234\" xlink:href=\"#Tahoma-3634\"/>\n       <use x=\"735.351562\" xlink:href=\"#Tahoma-3619\"/>\n       <use x=\"778.271484\" xlink:href=\"#Tahoma-3623\"/>\n       <use x=\"826.757812\" xlink:href=\"#Tahoma-3632\"/>\n       <use x=\"871.582031\" xlink:href=\"#Tahoma-3649\"/>\n       <use x=\"930.761719\" xlink:href=\"#Tahoma-3612\"/>\n       <use x=\"993.945312\" xlink:href=\"#Tahoma-3656\"/>\n       <use x=\"993.945312\" xlink:href=\"#Tahoma-3609\"/>\n       <use x=\"1055.126953\" xlink:href=\"#Tahoma-3604\"/>\n       <use x=\"1116.650391\" xlink:href=\"#Tahoma-3636\"/>\n       <use x=\"1116.650391\" xlink:href=\"#Tahoma-3609\"/>\n       <use x=\"1177.832031\" xlink:href=\"#Tahoma-32\"/>\n       <use x=\"1209.082031\" xlink:href=\"#Tahoma-3585\"/>\n       <use x=\"1268.603516\" xlink:href=\"#Tahoma-3621\"/>\n       <use x=\"1330.224609\" xlink:href=\"#Tahoma-3634\"/>\n       <use x=\"1378.710938\" xlink:href=\"#Tahoma-3591\"/>\n      </g>\n     </g>\n    </g>\n    <g id=\"xtick_27\">\n     <g id=\"line2d_27\">\n      <g>\n       <use style=\"stroke:#000000;stroke-width:0.8;\" x=\"300.447679\" xlink:href=\"#maddc5fdd44\" y=\"224.64\"/>\n      </g>\n     </g>\n     <g id=\"text_27\">\n      <!-- การหาเสียงใต้ อีสาน ปัญหาระหว่างการหาเสียง -->\n      <g transform=\"translate(303.438304 421.2275)rotate(-90)scale(0.1 -0.1)\">\n       <use xlink:href=\"#Tahoma-3585\"/>\n       <use x=\"59.521484\" xlink:href=\"#Tahoma-3634\"/>\n       <use x=\"108.007812\" xlink:href=\"#Tahoma-3619\"/>\n       <use x=\"150.927734\" xlink:href=\"#Tahoma-3627\"/>\n       <use x=\"217.919922\" xlink:href=\"#Tahoma-3634\"/>\n       <use x=\"266.40625\" xlink:href=\"#Tahoma-3648\"/>\n       <use x=\"299.609375\" xlink:href=\"#Tahoma-3626\"/>\n       <use x=\"360.400391\" xlink:href=\"#Tahoma-3637\"/>\n       <use x=\"360.400391\" xlink:href=\"#Tahoma-3618\"/>\n       <use x=\"418.310547\" xlink:href=\"#Tahoma-3591\"/>\n       <use x=\"467.529297\" xlink:href=\"#Tahoma-3651\"/>\n       <use x=\"511.71875\" xlink:href=\"#Tahoma-3605\"/>\n       <use x=\"573.242188\" xlink:href=\"#Tahoma-3657\"/>\n       <use x=\"573.242188\" xlink:href=\"#Tahoma-32\"/>\n       <use x=\"604.492188\" xlink:href=\"#Tahoma-3629\"/>\n       <use x=\"664.013672\" xlink:href=\"#Tahoma-3637\"/>\n       <use x=\"664.013672\" xlink:href=\"#Tahoma-3626\"/>\n       <use x=\"724.804688\" xlink:href=\"#Tahoma-3634\"/>\n       <use x=\"773.291016\" xlink:href=\"#Tahoma-3609\"/>\n       <use x=\"834.472656\" xlink:href=\"#Tahoma-32\"/>\n       <use x=\"865.722656\" xlink:href=\"#Tahoma-3611\"/>\n       <use x=\"928.710938\" xlink:href=\"#Tahoma-3633\"/>\n       <use x=\"928.710938\" xlink:href=\"#Tahoma-3597\"/>\n       <use x=\"1011.914062\" xlink:href=\"#Tahoma-3627\"/>\n       <use x=\"1078.90625\" xlink:href=\"#Tahoma-3634\"/>\n       <use x=\"1127.392578\" xlink:href=\"#Tahoma-3619\"/>\n       <use x=\"1170.3125\" xlink:href=\"#Tahoma-3632\"/>\n       <use x=\"1215.136719\" xlink:href=\"#Tahoma-3627\"/>\n       <use x=\"1282.128906\" xlink:href=\"#Tahoma-3623\"/>\n       <use x=\"1330.615234\" xlink:href=\"#Tahoma-3656\"/>\n       <use x=\"1330.615234\" xlink:href=\"#Tahoma-3634\"/>\n       <use x=\"1379.101562\" xlink:href=\"#Tahoma-3591\"/>\n       <use x=\"1428.320312\" xlink:href=\"#Tahoma-3585\"/>\n       <use x=\"1487.841797\" xlink:href=\"#Tahoma-3634\"/>\n       <use x=\"1536.328125\" xlink:href=\"#Tahoma-3619\"/>\n       <use x=\"1579.248047\" xlink:href=\"#Tahoma-3627\"/>\n       <use x=\"1646.240234\" xlink:href=\"#Tahoma-3634\"/>\n       <use x=\"1694.726562\" xlink:href=\"#Tahoma-3648\"/>\n       <use x=\"1727.929688\" xlink:href=\"#Tahoma-3626\"/>\n       <use x=\"1788.720703\" xlink:href=\"#Tahoma-3637\"/>\n       <use x=\"1788.720703\" xlink:href=\"#Tahoma-3618\"/>\n       <use x=\"1846.630859\" xlink:href=\"#Tahoma-3591\"/>\n      </g>\n     </g>\n    </g>\n    <g id=\"xtick_28\">\n     <g id=\"line2d_28\">\n      <g>\n       <use style=\"stroke:#000000;stroke-width:0.8;\" x=\"310.013393\" xlink:href=\"#maddc5fdd44\" y=\"224.64\"/>\n      </g>\n     </g>\n     <g id=\"text_28\">\n      <!-- ลุงกำนัน และการต้อนรับลุง -->\n      <g transform=\"translate(312.947768 340.441562)rotate(-90)scale(0.1 -0.1)\">\n       <use xlink:href=\"#Tahoma-3621\"/>\n       <use x=\"61.621094\" xlink:href=\"#Tahoma-3640\"/>\n       <use x=\"61.621094\" xlink:href=\"#Tahoma-3591\"/>\n       <use x=\"110.839844\" xlink:href=\"#Tahoma-3585\"/>\n       <use x=\"170.361328\" xlink:href=\"#Tahoma-3635\"/>\n       <use x=\"218.847656\" xlink:href=\"#Tahoma-3609\"/>\n       <use x=\"280.029297\" xlink:href=\"#Tahoma-3633\"/>\n       <use x=\"280.029297\" xlink:href=\"#Tahoma-3609\"/>\n       <use x=\"341.210938\" xlink:href=\"#Tahoma-32\"/>\n       <use x=\"372.460938\" xlink:href=\"#Tahoma-3649\"/>\n       <use x=\"431.640625\" xlink:href=\"#Tahoma-3621\"/>\n       <use x=\"493.261719\" xlink:href=\"#Tahoma-3632\"/>\n       <use x=\"538.085938\" xlink:href=\"#Tahoma-3585\"/>\n       <use x=\"597.607422\" xlink:href=\"#Tahoma-3634\"/>\n       <use x=\"646.09375\" xlink:href=\"#Tahoma-3619\"/>\n       <use x=\"689.013672\" xlink:href=\"#Tahoma-3605\"/>\n       <use x=\"750.537109\" xlink:href=\"#Tahoma-3657\"/>\n       <use x=\"750.537109\" xlink:href=\"#Tahoma-3629\"/>\n       <use x=\"810.058594\" xlink:href=\"#Tahoma-3609\"/>\n       <use x=\"871.240234\" xlink:href=\"#Tahoma-3619\"/>\n       <use x=\"914.160156\" xlink:href=\"#Tahoma-3633\"/>\n       <use x=\"914.160156\" xlink:href=\"#Tahoma-3610\"/>\n       <use x=\"977.148438\" xlink:href=\"#Tahoma-3621\"/>\n       <use x=\"1038.769531\" xlink:href=\"#Tahoma-3640\"/>\n       <use x=\"1038.769531\" xlink:href=\"#Tahoma-3591\"/>\n      </g>\n     </g>\n    </g>\n    <g id=\"xtick_29\">\n     <g id=\"line2d_29\">\n      <g>\n       <use style=\"stroke:#000000;stroke-width:0.8;\" x=\"319.579107\" xlink:href=\"#maddc5fdd44\" y=\"224.64\"/>\n      </g>\n     </g>\n     <g id=\"text_29\">\n      <!-- Campaign เดินคารวะแผ่นดิน เหนือตอนล่าง -->\n      <g transform=\"translate(322.562701 408.8025)rotate(-90)scale(0.1 -0.1)\">\n       <use xlink:href=\"#Tahoma-67\"/>\n       <use x=\"60.058594\" xlink:href=\"#Tahoma-97\"/>\n       <use x=\"112.548828\" xlink:href=\"#Tahoma-109\"/>\n       <use x=\"196.533203\" xlink:href=\"#Tahoma-112\"/>\n       <use x=\"251.806641\" xlink:href=\"#Tahoma-97\"/>\n       <use x=\"304.296875\" xlink:href=\"#Tahoma-105\"/>\n       <use x=\"327.148438\" xlink:href=\"#Tahoma-103\"/>\n       <use x=\"382.421875\" xlink:href=\"#Tahoma-110\"/>\n       <use x=\"438.183594\" xlink:href=\"#Tahoma-32\"/>\n       <use x=\"469.433594\" xlink:href=\"#Tahoma-3648\"/>\n       <use x=\"502.636719\" xlink:href=\"#Tahoma-3604\"/>\n       <use x=\"564.160156\" xlink:href=\"#Tahoma-3636\"/>\n       <use x=\"564.160156\" xlink:href=\"#Tahoma-3609\"/>\n       <use x=\"625.341797\" xlink:href=\"#Tahoma-3588\"/>\n       <use x=\"686.865234\" xlink:href=\"#Tahoma-3634\"/>\n       <use x=\"735.351562\" xlink:href=\"#Tahoma-3619\"/>\n       <use x=\"778.271484\" xlink:href=\"#Tahoma-3623\"/>\n       <use x=\"826.757812\" xlink:href=\"#Tahoma-3632\"/>\n       <use x=\"871.582031\" xlink:href=\"#Tahoma-3649\"/>\n       <use x=\"930.761719\" xlink:href=\"#Tahoma-3612\"/>\n       <use x=\"993.945312\" xlink:href=\"#Tahoma-3656\"/>\n       <use x=\"993.945312\" xlink:href=\"#Tahoma-3609\"/>\n       <use x=\"1055.126953\" xlink:href=\"#Tahoma-3604\"/>\n       <use x=\"1116.650391\" xlink:href=\"#Tahoma-3636\"/>\n       <use x=\"1116.650391\" xlink:href=\"#Tahoma-3609\"/>\n       <use x=\"1177.832031\" xlink:href=\"#Tahoma-32\"/>\n       <use x=\"1209.082031\" xlink:href=\"#Tahoma-3648\"/>\n       <use x=\"1242.285156\" xlink:href=\"#Tahoma-3627\"/>\n       <use x=\"1309.277344\" xlink:href=\"#Tahoma-3609\"/>\n       <use x=\"1370.458984\" xlink:href=\"#Tahoma-3639\"/>\n       <use x=\"1370.458984\" xlink:href=\"#Tahoma-3629\"/>\n       <use x=\"1429.980469\" xlink:href=\"#Tahoma-3605\"/>\n       <use x=\"1491.503906\" xlink:href=\"#Tahoma-3629\"/>\n       <use x=\"1551.025391\" xlink:href=\"#Tahoma-3609\"/>\n       <use x=\"1612.207031\" xlink:href=\"#Tahoma-3621\"/>\n       <use x=\"1673.828125\" xlink:href=\"#Tahoma-3656\"/>\n       <use x=\"1673.828125\" xlink:href=\"#Tahoma-3634\"/>\n       <use x=\"1722.314453\" xlink:href=\"#Tahoma-3591\"/>\n      </g>\n     </g>\n    </g>\n    <g id=\"xtick_30\">\n     <g id=\"line2d_30\">\n      <g>\n       <use style=\"stroke:#000000;stroke-width:0.8;\" x=\"329.144821\" xlink:href=\"#maddc5fdd44\" y=\"224.64\"/>\n      </g>\n     </g>\n     <g id=\"text_30\">\n      <!-- จำนวนผู้สมัคร -->\n      <g transform=\"translate(332.079196 287.969687)rotate(-90)scale(0.1 -0.1)\">\n       <use xlink:href=\"#Tahoma-3592\"/>\n       <use x=\"55.615234\" xlink:href=\"#Tahoma-3635\"/>\n       <use x=\"104.101562\" xlink:href=\"#Tahoma-3609\"/>\n       <use x=\"165.283203\" xlink:href=\"#Tahoma-3623\"/>\n       <use x=\"213.769531\" xlink:href=\"#Tahoma-3609\"/>\n       <use x=\"274.951172\" xlink:href=\"#Tahoma-3612\"/>\n       <use x=\"338.134766\" xlink:href=\"#Tahoma-3641\"/>\n       <use x=\"338.134766\" xlink:href=\"#Tahoma-3657\"/>\n       <use x=\"338.134766\" xlink:href=\"#Tahoma-3626\"/>\n       <use x=\"398.925781\" xlink:href=\"#Tahoma-3617\"/>\n       <use x=\"458.837891\" xlink:href=\"#Tahoma-3633\"/>\n       <use x=\"458.837891\" xlink:href=\"#Tahoma-3588\"/>\n       <use x=\"520.361328\" xlink:href=\"#Tahoma-3619\"/>\n      </g>\n     </g>\n    </g>\n    <g id=\"xtick_31\">\n     <g id=\"line2d_31\">\n      <g>\n       <use style=\"stroke:#000000;stroke-width:0.8;\" x=\"338.710536\" xlink:href=\"#maddc5fdd44\" y=\"224.64\"/>\n      </g>\n     </g>\n     <g id=\"text_31\">\n      <!-- ขายตระกูล ศิลปอาชา -->\n      <g transform=\"translate(341.725379 319.107188)rotate(-90)scale(0.1 -0.1)\">\n       <use xlink:href=\"#Tahoma-3586\"/>\n       <use x=\"61.279297\" xlink:href=\"#Tahoma-3634\"/>\n       <use x=\"109.765625\" xlink:href=\"#Tahoma-3618\"/>\n       <use x=\"167.675781\" xlink:href=\"#Tahoma-3605\"/>\n       <use x=\"229.199219\" xlink:href=\"#Tahoma-3619\"/>\n       <use x=\"272.119141\" xlink:href=\"#Tahoma-3632\"/>\n       <use x=\"316.943359\" xlink:href=\"#Tahoma-3585\"/>\n       <use x=\"376.464844\" xlink:href=\"#Tahoma-3641\"/>\n       <use x=\"376.464844\" xlink:href=\"#Tahoma-3621\"/>\n       <use x=\"438.085938\" xlink:href=\"#Tahoma-32\"/>\n       <use x=\"469.335938\" xlink:href=\"#Tahoma-3624\"/>\n       <use x=\"530.859375\" xlink:href=\"#Tahoma-3636\"/>\n       <use x=\"530.859375\" xlink:href=\"#Tahoma-3621\"/>\n       <use x=\"592.480469\" xlink:href=\"#Tahoma-3611\"/>\n       <use x=\"655.46875\" xlink:href=\"#Tahoma-3629\"/>\n       <use x=\"714.990234\" xlink:href=\"#Tahoma-3634\"/>\n       <use x=\"763.476562\" xlink:href=\"#Tahoma-3594\"/>\n       <use x=\"826.171875\" xlink:href=\"#Tahoma-3634\"/>\n      </g>\n     </g>\n    </g>\n    <g id=\"xtick_32\">\n     <g id=\"line2d_32\">\n      <g>\n       <use style=\"stroke:#000000;stroke-width:0.8;\" x=\"348.27625\" xlink:href=\"#maddc5fdd44\" y=\"224.64\"/>\n      </g>\n     </g>\n     <g id=\"text_32\">\n      <!-- การออกสื่อ + debate -->\n      <g transform=\"translate(351.069219 320.32125)rotate(-90)scale(0.1 -0.1)\">\n       <defs>\n        <path d=\"M 48.640625 0 \nL 39.453125 0 \nL 39.453125 5.5625 \nQ 37.3125 3.765625 35.75 2.59375 \nQ 34.1875 1.421875 32.078125 0.4375 \nQ 30.125 -0.484375 28.015625 -1 \nQ 25.921875 -1.515625 23.140625 -1.515625 \nQ 18.703125 -1.515625 14.921875 0.34375 \nQ 11.140625 2.203125 8.5 5.765625 \nQ 5.8125 9.375 4.34375 14.671875 \nQ 2.875 19.96875 2.875 26.859375 \nQ 2.875 34.03125 4.734375 39.28125 \nQ 6.59375 44.53125 9.859375 48.4375 \nQ 12.84375 52 17.0625 54.03125 \nQ 21.296875 56.0625 25.921875 56.0625 \nQ 30.03125 56.0625 33.046875 55.15625 \nQ 36.078125 54.25 39.453125 52.34375 \nL 39.453125 75.984375 \nL 48.640625 75.984375 \nz\nM 39.453125 13.28125 \nL 39.453125 44.734375 \nQ 36.03125 46.390625 33.3125 47.015625 \nQ 30.609375 47.65625 27.4375 47.65625 \nQ 20.359375 47.65625 16.359375 42.359375 \nQ 12.359375 37.0625 12.359375 27.046875 \nQ 12.359375 17.4375 15.421875 12.328125 \nQ 18.5 7.234375 25.296875 7.234375 \nQ 28.90625 7.234375 32.5625 8.859375 \nQ 36.234375 10.5 39.453125 13.28125 \nz\n\" id=\"Tahoma-100\"/>\n        <path d=\"M 42.921875 27.4375 \nQ 42.921875 37.203125 39.9375 42.25 \nQ 36.96875 47.3125 30.375 47.3125 \nQ 26.609375 47.3125 22.78125 45.546875 \nQ 18.953125 43.796875 15.828125 41.109375 \nL 15.828125 9.859375 \nQ 19.28125 8.15625 21.96875 7.4375 \nQ 24.65625 6.734375 27.875 6.734375 \nQ 34.90625 6.734375 38.90625 11.71875 \nQ 42.921875 16.703125 42.921875 27.4375 \nz\nM 52.390625 28.171875 \nQ 52.390625 14.796875 45.890625 6.640625 \nQ 39.40625 -1.515625 29.640625 -1.515625 \nQ 25.203125 -1.515625 22.046875 -0.40625 \nQ 18.890625 0.6875 15.828125 2.546875 \nL 15.234375 0 \nL 6.640625 0 \nL 6.640625 75.984375 \nL 15.828125 75.984375 \nL 15.828125 48.828125 \nQ 19.28125 51.953125 23.328125 54 \nQ 27.390625 56.0625 32.515625 56.0625 \nQ 41.75 56.0625 47.0625 48.65625 \nQ 52.390625 41.265625 52.390625 28.171875 \nz\n\" id=\"Tahoma-98\"/>\n       </defs>\n       <use xlink:href=\"#Tahoma-3585\"/>\n       <use x=\"59.521484\" xlink:href=\"#Tahoma-3634\"/>\n       <use x=\"108.007812\" xlink:href=\"#Tahoma-3619\"/>\n       <use x=\"150.927734\" xlink:href=\"#Tahoma-3629\"/>\n       <use x=\"210.449219\" xlink:href=\"#Tahoma-3629\"/>\n       <use x=\"269.970703\" xlink:href=\"#Tahoma-3585\"/>\n       <use x=\"329.492188\" xlink:href=\"#Tahoma-3626\"/>\n       <use x=\"390.283203\" xlink:href=\"#Tahoma-3639\"/>\n       <use x=\"390.283203\" xlink:href=\"#Tahoma-3656\"/>\n       <use x=\"390.283203\" xlink:href=\"#Tahoma-3629\"/>\n       <use x=\"449.804688\" xlink:href=\"#Tahoma-32\"/>\n       <use x=\"481.054688\" xlink:href=\"#Tahoma-43\"/>\n       <use x=\"553.808594\" xlink:href=\"#Tahoma-32\"/>\n       <use x=\"585.058594\" xlink:href=\"#Tahoma-100\"/>\n       <use x=\"640.332031\" xlink:href=\"#Tahoma-101\"/>\n       <use x=\"692.96875\" xlink:href=\"#Tahoma-98\"/>\n       <use x=\"748.242188\" xlink:href=\"#Tahoma-97\"/>\n       <use x=\"800.732422\" xlink:href=\"#Tahoma-116\"/>\n       <use x=\"834.179688\" xlink:href=\"#Tahoma-101\"/>\n      </g>\n     </g>\n    </g>\n    <g id=\"xtick_33\">\n     <g id=\"line2d_33\">\n      <g>\n       <use style=\"stroke:#000000;stroke-width:0.8;\" x=\"357.841964\" xlink:href=\"#maddc5fdd44\" y=\"224.64\"/>\n      </g>\n     </g>\n     <g id=\"text_33\">\n      <!-- การปราศรัย + นโยบาย -->\n      <g transform=\"translate(360.634933 325.700938)rotate(-90)scale(0.1 -0.1)\">\n       <use xlink:href=\"#Tahoma-3585\"/>\n       <use x=\"59.521484\" xlink:href=\"#Tahoma-3634\"/>\n       <use x=\"108.007812\" xlink:href=\"#Tahoma-3619\"/>\n       <use x=\"150.927734\" xlink:href=\"#Tahoma-3611\"/>\n       <use x=\"213.916016\" xlink:href=\"#Tahoma-3619\"/>\n       <use x=\"256.835938\" xlink:href=\"#Tahoma-3634\"/>\n       <use x=\"305.322266\" xlink:href=\"#Tahoma-3624\"/>\n       <use x=\"366.845703\" xlink:href=\"#Tahoma-3619\"/>\n       <use x=\"409.765625\" xlink:href=\"#Tahoma-3633\"/>\n       <use x=\"409.765625\" xlink:href=\"#Tahoma-3618\"/>\n       <use x=\"467.675781\" xlink:href=\"#Tahoma-32\"/>\n       <use x=\"498.925781\" xlink:href=\"#Tahoma-43\"/>\n       <use x=\"571.679688\" xlink:href=\"#Tahoma-32\"/>\n       <use x=\"602.929688\" xlink:href=\"#Tahoma-3609\"/>\n       <use x=\"664.111328\" xlink:href=\"#Tahoma-3650\"/>\n       <use x=\"713.330078\" xlink:href=\"#Tahoma-3618\"/>\n       <use x=\"771.240234\" xlink:href=\"#Tahoma-3610\"/>\n       <use x=\"834.228516\" xlink:href=\"#Tahoma-3634\"/>\n       <use x=\"882.714844\" xlink:href=\"#Tahoma-3618\"/>\n      </g>\n     </g>\n    </g>\n    <g id=\"xtick_34\">\n     <g id=\"line2d_34\">\n      <g>\n       <use style=\"stroke:#000000;stroke-width:0.8;\" x=\"367.407679\" xlink:href=\"#maddc5fdd44\" y=\"224.64\"/>\n      </g>\n     </g>\n     <g id=\"text_34\">\n      <!-- update ความนิยมผู้นำพรรค -->\n      <g transform=\"translate(370.217835 344.099375)rotate(-90)scale(0.1 -0.1)\">\n       <defs>\n        <path d=\"M 49.125 0 \nL 39.9375 0 \nL 39.9375 6.0625 \nQ 35.6875 2.34375 31.875 0.40625 \nQ 28.078125 -1.515625 23.390625 -1.515625 \nQ 19.828125 -1.515625 16.671875 -0.34375 \nQ 13.53125 0.828125 11.1875 3.375 \nQ 8.84375 5.90625 7.546875 9.765625 \nQ 6.25 13.625 6.25 19.140625 \nL 6.25 54.546875 \nL 15.4375 54.546875 \nL 15.4375 23.484375 \nQ 15.4375 19.140625 15.75 16.28125 \nQ 16.0625 13.421875 17.1875 11.28125 \nQ 18.3125 9.1875 20.234375 8.203125 \nQ 22.171875 7.234375 25.78125 7.234375 \nQ 29.15625 7.234375 32.953125 9.125 \nQ 36.765625 11.03125 39.9375 13.8125 \nL 39.9375 54.546875 \nL 49.125 54.546875 \nz\n\" id=\"Tahoma-117\"/>\n       </defs>\n       <use xlink:href=\"#Tahoma-117\"/>\n       <use x=\"55.761719\" xlink:href=\"#Tahoma-112\"/>\n       <use x=\"111.035156\" xlink:href=\"#Tahoma-100\"/>\n       <use x=\"166.308594\" xlink:href=\"#Tahoma-97\"/>\n       <use x=\"218.798828\" xlink:href=\"#Tahoma-116\"/>\n       <use x=\"252.246094\" xlink:href=\"#Tahoma-101\"/>\n       <use x=\"304.882812\" xlink:href=\"#Tahoma-32\"/>\n       <use x=\"336.132812\" xlink:href=\"#Tahoma-3588\"/>\n       <use x=\"397.65625\" xlink:href=\"#Tahoma-3623\"/>\n       <use x=\"446.142578\" xlink:href=\"#Tahoma-3634\"/>\n       <use x=\"494.628906\" xlink:href=\"#Tahoma-3617\"/>\n       <use x=\"554.541016\" xlink:href=\"#Tahoma-3609\"/>\n       <use x=\"615.722656\" xlink:href=\"#Tahoma-3636\"/>\n       <use x=\"615.722656\" xlink:href=\"#Tahoma-3618\"/>\n       <use x=\"673.632812\" xlink:href=\"#Tahoma-3617\"/>\n       <use x=\"733.544922\" xlink:href=\"#Tahoma-3612\"/>\n       <use x=\"796.728516\" xlink:href=\"#Tahoma-3641\"/>\n       <use x=\"796.728516\" xlink:href=\"#Tahoma-3657\"/>\n       <use x=\"796.728516\" xlink:href=\"#Tahoma-3609\"/>\n       <use x=\"857.910156\" xlink:href=\"#Tahoma-3635\"/>\n       <use x=\"906.396484\" xlink:href=\"#Tahoma-3614\"/>\n       <use x=\"977.197266\" xlink:href=\"#Tahoma-3619\"/>\n       <use x=\"1020.117188\" xlink:href=\"#Tahoma-3619\"/>\n       <use x=\"1063.037109\" xlink:href=\"#Tahoma-3588\"/>\n      </g>\n     </g>\n    </g>\n    <g id=\"xtick_35\">\n     <g id=\"line2d_35\">\n      <g>\n       <use style=\"stroke:#000000;stroke-width:0.8;\" x=\"376.973393\" xlink:href=\"#maddc5fdd44\" y=\"224.64\"/>\n      </g>\n     </g>\n     <g id=\"text_35\">\n      <!-- update ความเคลื่อนไหวของพรรค -->\n      <g transform=\"translate(379.992924 370.282187)rotate(-90)scale(0.1 -0.1)\">\n       <defs>\n        <path d=\"M 35.109375 17.09375 \nQ 36.625 17.671875 38.625 17.671875 \nQ 42.4375 17.671875 45.171875 14.984375 \nQ 47.90625 12.3125 47.90625 8.5 \nQ 47.90625 4.6875 45.140625 1.953125 \nQ 42.390625 -0.78125 38.625 -0.78125 \nQ 32.8125 -0.78125 29.34375 2.734375 \nQ 25.875 6.25 25.875 12.3125 \nL 25.875 66.796875 \nQ 25.875 72.21875 24.125 72.21875 \nQ 23.390625 72.21875 22.84375 71.109375 \nQ 22.3125 70.015625 21.484375 65.4375 \nQ 19.96875 56.9375 17.984375 54.3125 \nQ 16.015625 51.703125 13.1875 51.703125 \nQ 10.5 51.703125 8.6875 54.09375 \nQ 6.890625 56.5 5.765625 64.65625 \nQ 5.078125 69.578125 4.4375 70.796875 \nQ 3.8125 72.015625 2.875 72.015625 \nL 1.703125 72.015625 \nL 1.703125 80.515625 \nL 2.984375 80.515625 \nQ 6.34375 80.515625 8.484375 77.53125 \nQ 10.640625 74.5625 11.671875 65.375 \nQ 12.3125 60.015625 13.1875 60.015625 \nQ 14.109375 60.015625 14.890625 65.328125 \nQ 16.265625 74.515625 18.65625 77.515625 \nQ 21.046875 80.515625 24.609375 80.515625 \nQ 29.296875 80.515625 32.203125 76.84375 \nQ 35.109375 73.1875 35.109375 67 \nz\nM 38.625 4.6875 \nQ 40.140625 4.6875 41.203125 5.78125 \nQ 42.28125 6.890625 42.28125 8.5 \nQ 42.28125 9.96875 41.1875 11.03125 \nQ 40.09375 12.109375 38.625 12.109375 \nQ 37.109375 12.109375 36 11.03125 \nQ 34.90625 9.96875 34.90625 8.5 \nQ 34.90625 6.890625 35.984375 5.78125 \nQ 37.0625 4.6875 38.625 4.6875 \nz\n\" id=\"Tahoma-3652\"/>\n       </defs>\n       <use xlink:href=\"#Tahoma-117\"/>\n       <use x=\"55.761719\" xlink:href=\"#Tahoma-112\"/>\n       <use x=\"111.035156\" xlink:href=\"#Tahoma-100\"/>\n       <use x=\"166.308594\" xlink:href=\"#Tahoma-97\"/>\n       <use x=\"218.798828\" xlink:href=\"#Tahoma-116\"/>\n       <use x=\"252.246094\" xlink:href=\"#Tahoma-101\"/>\n       <use x=\"304.882812\" xlink:href=\"#Tahoma-32\"/>\n       <use x=\"336.132812\" xlink:href=\"#Tahoma-3588\"/>\n       <use x=\"397.65625\" xlink:href=\"#Tahoma-3623\"/>\n       <use x=\"446.142578\" xlink:href=\"#Tahoma-3634\"/>\n       <use x=\"494.628906\" xlink:href=\"#Tahoma-3617\"/>\n       <use x=\"554.541016\" xlink:href=\"#Tahoma-3648\"/>\n       <use x=\"587.744141\" xlink:href=\"#Tahoma-3588\"/>\n       <use x=\"649.267578\" xlink:href=\"#Tahoma-3621\"/>\n       <use x=\"710.888672\" xlink:href=\"#Tahoma-3639\"/>\n       <use x=\"710.888672\" xlink:href=\"#Tahoma-3656\"/>\n       <use x=\"710.888672\" xlink:href=\"#Tahoma-3629\"/>\n       <use x=\"770.410156\" xlink:href=\"#Tahoma-3609\"/>\n       <use x=\"831.591797\" xlink:href=\"#Tahoma-3652\"/>\n       <use x=\"882.714844\" xlink:href=\"#Tahoma-3627\"/>\n       <use x=\"949.707031\" xlink:href=\"#Tahoma-3623\"/>\n       <use x=\"998.193359\" xlink:href=\"#Tahoma-3586\"/>\n       <use x=\"1059.472656\" xlink:href=\"#Tahoma-3629\"/>\n       <use x=\"1118.994141\" xlink:href=\"#Tahoma-3591\"/>\n       <use x=\"1168.212891\" xlink:href=\"#Tahoma-3614\"/>\n       <use x=\"1239.013672\" xlink:href=\"#Tahoma-3619\"/>\n       <use x=\"1281.933594\" xlink:href=\"#Tahoma-3619\"/>\n       <use x=\"1324.853516\" xlink:href=\"#Tahoma-3588\"/>\n      </g>\n     </g>\n    </g>\n    <g id=\"text_36\">\n     <!-- topic -->\n     <g transform=\"translate(203.754688 534.372813)scale(0.1 -0.1)\">\n      <use xlink:href=\"#Tahoma-116\"/>\n      <use x=\"33.447266\" xlink:href=\"#Tahoma-111\"/>\n      <use x=\"87.744141\" xlink:href=\"#Tahoma-112\"/>\n      <use x=\"143.017578\" xlink:href=\"#Tahoma-105\"/>\n      <use x=\"165.869141\" xlink:href=\"#Tahoma-99\"/>\n     </g>\n    </g>\n   </g>\n   <g id=\"matplotlib.axis_2\">\n    <g id=\"ytick_1\">\n     <g id=\"line2d_36\">\n      <defs>\n       <path d=\"M 0 0 \nL -3.5 0 \n\" id=\"m0b5d5f9b24\" style=\"stroke:#000000;stroke-width:0.8;\"/>\n      </defs>\n      <g>\n       <use style=\"stroke:#000000;stroke-width:0.8;\" x=\"46.95625\" xlink:href=\"#m0b5d5f9b24\" y=\"224.64\"/>\n      </g>\n     </g>\n     <g id=\"text_37\">\n      <!-- 0 -->\n      <g transform=\"translate(34.496875 228.439219)scale(0.1 -0.1)\">\n       <defs>\n        <path d=\"M 50.53125 36.375 \nQ 50.53125 16.796875 44.84375 7.640625 \nQ 39.15625 -1.515625 27.296875 -1.515625 \nQ 15.28125 -1.515625 9.65625 7.8125 \nQ 4.046875 17.140625 4.046875 36.28125 \nQ 4.046875 55.953125 9.734375 65.0625 \nQ 15.4375 74.171875 27.296875 74.171875 \nQ 39.3125 74.171875 44.921875 64.75 \nQ 50.53125 55.328125 50.53125 36.375 \nz\nM 38.03125 14.203125 \nQ 39.453125 17.828125 40.03125 23.34375 \nQ 40.625 28.859375 40.625 36.375 \nQ 40.625 43.84375 40.03125 49.359375 \nQ 39.453125 54.890625 37.984375 58.546875 \nQ 36.53125 62.25 33.953125 64.171875 \nQ 31.390625 66.109375 27.296875 66.109375 \nQ 23.25 66.109375 20.625 64.171875 \nQ 18.015625 62.25 16.5 58.453125 \nQ 15.046875 54.734375 14.5 49.0625 \nQ 13.96875 43.40625 13.96875 36.28125 \nQ 13.96875 28.65625 14.421875 23.53125 \nQ 14.890625 18.40625 16.453125 14.359375 \nQ 17.875 10.59375 20.484375 8.5625 \nQ 23.09375 6.546875 27.296875 6.546875 \nQ 31.34375 6.546875 33.953125 8.46875 \nQ 36.578125 10.40625 38.03125 14.203125 \nz\n\" id=\"Tahoma-48\"/>\n       </defs>\n       <use xlink:href=\"#Tahoma-48\"/>\n      </g>\n     </g>\n    </g>\n    <g id=\"ytick_2\">\n     <g id=\"line2d_37\">\n      <g>\n       <use style=\"stroke:#000000;stroke-width:0.8;\" x=\"46.95625\" xlink:href=\"#m0b5d5f9b24\" y=\"199.062811\"/>\n      </g>\n     </g>\n     <g id=\"text_38\">\n      <!-- 50000 -->\n      <g transform=\"translate(12.659375 202.862029)scale(0.1 -0.1)\">\n       <defs>\n        <path d=\"M 49.359375 23.140625 \nQ 49.359375 17.875 47.671875 13.375 \nQ 46 8.890625 42.96875 5.609375 \nQ 39.890625 2.296875 35.328125 0.390625 \nQ 30.765625 -1.515625 25.09375 -1.515625 \nQ 19.875 -1.515625 14.8125 -0.359375 \nQ 9.765625 0.78125 6.0625 2.640625 \nL 6.0625 12.9375 \nL 6.734375 12.9375 \nQ 7.859375 12.109375 9.953125 11.0625 \nQ 12.0625 10.015625 14.59375 9.078125 \nQ 17.484375 8.0625 19.875 7.5 \nQ 22.265625 6.9375 25.25 6.9375 \nQ 28.171875 6.9375 30.953125 7.984375 \nQ 33.734375 9.03125 35.75 11.375 \nQ 37.546875 13.53125 38.5 16.40625 \nQ 39.453125 19.28125 39.453125 23.1875 \nQ 39.453125 27.046875 38.40625 29.53125 \nQ 37.359375 32.03125 35.359375 33.640625 \nQ 33.25 35.5 30.203125 36.25 \nQ 27.15625 37.015625 23.390625 37.015625 \nQ 19.4375 37.015625 15.421875 36.40625 \nQ 11.421875 35.796875 9.03125 35.25 \nL 9.03125 72.703125 \nL 48.921875 72.703125 \nL 48.921875 64.15625 \nL 18.453125 64.15625 \nL 18.453125 44.828125 \nQ 20.21875 45.015625 21.921875 45.109375 \nQ 23.640625 45.21875 25.046875 45.21875 \nQ 30.609375 45.21875 34.46875 44.28125 \nQ 38.328125 43.359375 41.890625 40.671875 \nQ 45.515625 37.9375 47.4375 33.828125 \nQ 49.359375 29.734375 49.359375 23.140625 \nz\n\" id=\"Tahoma-53\"/>\n       </defs>\n       <use xlink:href=\"#Tahoma-53\"/>\n       <use x=\"54.589844\" xlink:href=\"#Tahoma-48\"/>\n       <use x=\"109.179688\" xlink:href=\"#Tahoma-48\"/>\n       <use x=\"163.769531\" xlink:href=\"#Tahoma-48\"/>\n       <use x=\"218.359375\" xlink:href=\"#Tahoma-48\"/>\n      </g>\n     </g>\n    </g>\n    <g id=\"ytick_3\">\n     <g id=\"line2d_38\">\n      <g>\n       <use style=\"stroke:#000000;stroke-width:0.8;\" x=\"46.95625\" xlink:href=\"#m0b5d5f9b24\" y=\"173.485621\"/>\n      </g>\n     </g>\n     <g id=\"text_39\">\n      <!-- 100000 -->\n      <g transform=\"translate(7.2 177.28484)scale(0.1 -0.1)\">\n       <defs>\n        <path d=\"M 46.484375 0 \nL 11.03125 0 \nL 11.03125 7.421875 \nL 24.21875 7.421875 \nL 24.21875 56.15625 \nL 11.03125 56.15625 \nL 11.03125 62.796875 \nQ 18.5 62.796875 22.046875 64.921875 \nQ 25.59375 67.046875 26.03125 72.953125 \nL 33.59375 72.953125 \nL 33.59375 7.421875 \nL 46.484375 7.421875 \nz\n\" id=\"Tahoma-49\"/>\n       </defs>\n       <use xlink:href=\"#Tahoma-49\"/>\n       <use x=\"54.589844\" xlink:href=\"#Tahoma-48\"/>\n       <use x=\"109.179688\" xlink:href=\"#Tahoma-48\"/>\n       <use x=\"163.769531\" xlink:href=\"#Tahoma-48\"/>\n       <use x=\"218.359375\" xlink:href=\"#Tahoma-48\"/>\n       <use x=\"272.949219\" xlink:href=\"#Tahoma-48\"/>\n      </g>\n     </g>\n    </g>\n    <g id=\"ytick_4\">\n     <g id=\"line2d_39\">\n      <g>\n       <use style=\"stroke:#000000;stroke-width:0.8;\" x=\"46.95625\" xlink:href=\"#m0b5d5f9b24\" y=\"147.908432\"/>\n      </g>\n     </g>\n     <g id=\"text_40\">\n      <!-- 150000 -->\n      <g transform=\"translate(7.2 151.70765)scale(0.1 -0.1)\">\n       <use xlink:href=\"#Tahoma-49\"/>\n       <use x=\"54.589844\" xlink:href=\"#Tahoma-53\"/>\n       <use x=\"109.179688\" xlink:href=\"#Tahoma-48\"/>\n       <use x=\"163.769531\" xlink:href=\"#Tahoma-48\"/>\n       <use x=\"218.359375\" xlink:href=\"#Tahoma-48\"/>\n       <use x=\"272.949219\" xlink:href=\"#Tahoma-48\"/>\n      </g>\n     </g>\n    </g>\n    <g id=\"ytick_5\">\n     <g id=\"line2d_40\">\n      <g>\n       <use style=\"stroke:#000000;stroke-width:0.8;\" x=\"46.95625\" xlink:href=\"#m0b5d5f9b24\" y=\"122.331242\"/>\n      </g>\n     </g>\n     <g id=\"text_41\">\n      <!-- 200000 -->\n      <g transform=\"translate(7.2 126.130461)scale(0.1 -0.1)\">\n       <defs>\n        <path d=\"M 50.203125 0 \nL 5.328125 0 \nL 5.328125 10.203125 \nQ 10.15625 14.796875 14.453125 18.984375 \nQ 18.75 23.1875 22.859375 27.734375 \nQ 31.15625 36.859375 34.171875 42.359375 \nQ 37.203125 47.859375 37.203125 53.71875 \nQ 37.203125 56.734375 36.25 59.03125 \nQ 35.296875 61.328125 33.640625 62.84375 \nQ 31.9375 64.3125 29.6875 65.03125 \nQ 27.4375 65.765625 24.75 65.765625 \nQ 22.171875 65.765625 19.5 65.109375 \nQ 16.84375 64.453125 14.40625 63.484375 \nQ 12.359375 62.640625 10.453125 61.46875 \nQ 8.546875 60.296875 7.375 59.46875 \nL 6.84375 59.46875 \nL 6.84375 69.828125 \nQ 9.859375 71.34375 15.25 72.78125 \nQ 20.65625 74.21875 25.484375 74.21875 \nQ 35.640625 74.21875 41.40625 68.8125 \nQ 47.171875 63.421875 47.171875 54.203125 \nQ 47.171875 49.953125 46.171875 46.328125 \nQ 45.171875 42.71875 43.40625 39.65625 \nQ 41.609375 36.46875 39.0625 33.34375 \nQ 36.53125 30.21875 33.6875 27.203125 \nQ 29.109375 22.21875 23.46875 16.84375 \nQ 17.828125 11.46875 14.453125 8.34375 \nL 50.203125 8.34375 \nz\n\" id=\"Tahoma-50\"/>\n       </defs>\n       <use xlink:href=\"#Tahoma-50\"/>\n       <use x=\"54.589844\" xlink:href=\"#Tahoma-48\"/>\n       <use x=\"109.179688\" xlink:href=\"#Tahoma-48\"/>\n       <use x=\"163.769531\" xlink:href=\"#Tahoma-48\"/>\n       <use x=\"218.359375\" xlink:href=\"#Tahoma-48\"/>\n       <use x=\"272.949219\" xlink:href=\"#Tahoma-48\"/>\n      </g>\n     </g>\n    </g>\n    <g id=\"ytick_6\">\n     <g id=\"line2d_41\">\n      <g>\n       <use style=\"stroke:#000000;stroke-width:0.8;\" x=\"46.95625\" xlink:href=\"#m0b5d5f9b24\" y=\"96.754053\"/>\n      </g>\n     </g>\n     <g id=\"text_42\">\n      <!-- 250000 -->\n      <g transform=\"translate(7.2 100.553272)scale(0.1 -0.1)\">\n       <use xlink:href=\"#Tahoma-50\"/>\n       <use x=\"54.589844\" xlink:href=\"#Tahoma-53\"/>\n       <use x=\"109.179688\" xlink:href=\"#Tahoma-48\"/>\n       <use x=\"163.769531\" xlink:href=\"#Tahoma-48\"/>\n       <use x=\"218.359375\" xlink:href=\"#Tahoma-48\"/>\n       <use x=\"272.949219\" xlink:href=\"#Tahoma-48\"/>\n      </g>\n     </g>\n    </g>\n    <g id=\"ytick_7\">\n     <g id=\"line2d_42\">\n      <g>\n       <use style=\"stroke:#000000;stroke-width:0.8;\" x=\"46.95625\" xlink:href=\"#m0b5d5f9b24\" y=\"71.176863\"/>\n      </g>\n     </g>\n     <g id=\"text_43\">\n      <!-- 300000 -->\n      <g transform=\"translate(7.2 74.976082)scale(0.1 -0.1)\">\n       <defs>\n        <path d=\"M 24.953125 65.765625 \nQ 22.3125 65.765625 19.671875 65.125 \nQ 17.046875 64.5 14.5 63.484375 \nQ 12.15625 62.5 10.421875 61.421875 \nQ 8.6875 60.359375 7.328125 59.421875 \nL 6.734375 59.421875 \nL 6.734375 69.734375 \nQ 9.90625 71.4375 15.34375 72.828125 \nQ 20.796875 74.21875 25.734375 74.21875 \nQ 30.671875 74.21875 34.34375 73.21875 \nQ 38.03125 72.21875 41.015625 70.125 \nQ 44.234375 67.78125 45.875 64.453125 \nQ 47.515625 61.140625 47.515625 56.6875 \nQ 47.515625 50.6875 43.546875 46.140625 \nQ 39.59375 41.609375 34.078125 40.375 \nL 34.078125 39.703125 \nQ 36.375 39.265625 38.984375 38.1875 \nQ 41.609375 37.109375 43.84375 35.015625 \nQ 46.09375 32.90625 47.5 29.609375 \nQ 48.921875 26.3125 48.921875 21.578125 \nQ 48.921875 16.65625 47.234375 12.53125 \nQ 45.5625 8.40625 42.484375 5.21875 \nQ 39.3125 1.90625 34.8125 0.1875 \nQ 30.328125 -1.515625 24.609375 -1.515625 \nQ 19.140625 -1.515625 13.765625 -0.1875 \nQ 8.40625 1.125 4.734375 2.984375 \nL 4.734375 13.28125 \nL 5.421875 13.28125 \nQ 8.5 11.03125 13.671875 8.984375 \nQ 18.84375 6.9375 24.03125 6.9375 \nQ 27 6.9375 30 7.890625 \nQ 33.015625 8.84375 35.015625 10.984375 \nQ 36.96875 13.140625 37.984375 15.71875 \nQ 39.015625 18.3125 39.015625 22.265625 \nQ 39.015625 26.21875 37.859375 28.75 \nQ 36.71875 31.296875 34.671875 32.765625 \nQ 32.625 34.234375 29.8125 34.796875 \nQ 27 35.359375 23.734375 35.359375 \nL 19.578125 35.359375 \nL 19.578125 43.453125 \nL 22.796875 43.453125 \nQ 29.390625 43.453125 33.515625 46.578125 \nQ 37.640625 49.703125 37.640625 55.671875 \nQ 37.640625 58.40625 36.5625 60.375 \nQ 35.5 62.359375 33.84375 63.53125 \nQ 31.984375 64.796875 29.734375 65.28125 \nQ 27.484375 65.765625 24.953125 65.765625 \nz\n\" id=\"Tahoma-51\"/>\n       </defs>\n       <use xlink:href=\"#Tahoma-51\"/>\n       <use x=\"54.589844\" xlink:href=\"#Tahoma-48\"/>\n       <use x=\"109.179688\" xlink:href=\"#Tahoma-48\"/>\n       <use x=\"163.769531\" xlink:href=\"#Tahoma-48\"/>\n       <use x=\"218.359375\" xlink:href=\"#Tahoma-48\"/>\n       <use x=\"272.949219\" xlink:href=\"#Tahoma-48\"/>\n      </g>\n     </g>\n    </g>\n    <g id=\"ytick_8\">\n     <g id=\"line2d_43\">\n      <g>\n       <use style=\"stroke:#000000;stroke-width:0.8;\" x=\"46.95625\" xlink:href=\"#m0b5d5f9b24\" y=\"45.599674\"/>\n      </g>\n     </g>\n     <g id=\"text_44\">\n      <!-- 350000 -->\n      <g transform=\"translate(7.2 49.398893)scale(0.1 -0.1)\">\n       <use xlink:href=\"#Tahoma-51\"/>\n       <use x=\"54.589844\" xlink:href=\"#Tahoma-53\"/>\n       <use x=\"109.179688\" xlink:href=\"#Tahoma-48\"/>\n       <use x=\"163.769531\" xlink:href=\"#Tahoma-48\"/>\n       <use x=\"218.359375\" xlink:href=\"#Tahoma-48\"/>\n       <use x=\"272.949219\" xlink:href=\"#Tahoma-48\"/>\n      </g>\n     </g>\n    </g>\n    <g id=\"ytick_9\">\n     <g id=\"line2d_44\">\n      <g>\n       <use style=\"stroke:#000000;stroke-width:0.8;\" x=\"46.95625\" xlink:href=\"#m0b5d5f9b24\" y=\"20.022484\"/>\n      </g>\n     </g>\n     <g id=\"text_45\">\n      <!-- 400000 -->\n      <g transform=\"translate(7.2 23.821703)scale(0.1 -0.1)\">\n       <defs>\n        <path d=\"M 52.09375 25 \nL 43.453125 25 \nL 43.453125 0 \nL 34.078125 0 \nL 34.078125 25 \nL 1.953125 25 \nL 1.953125 35.25 \nL 34.46875 72.703125 \nL 43.453125 72.703125 \nL 43.453125 32.8125 \nL 52.09375 32.8125 \nz\nM 34.078125 32.8125 \nL 34.078125 61.234375 \nL 9.578125 32.8125 \nz\n\" id=\"Tahoma-52\"/>\n       </defs>\n       <use xlink:href=\"#Tahoma-52\"/>\n       <use x=\"54.589844\" xlink:href=\"#Tahoma-48\"/>\n       <use x=\"109.179688\" xlink:href=\"#Tahoma-48\"/>\n       <use x=\"163.769531\" xlink:href=\"#Tahoma-48\"/>\n       <use x=\"218.359375\" xlink:href=\"#Tahoma-48\"/>\n       <use x=\"272.949219\" xlink:href=\"#Tahoma-48\"/>\n      </g>\n     </g>\n    </g>\n   </g>\n   <g id=\"patch_108\">\n    <path d=\"M 46.95625 224.64 \nL 46.95625 7.2 \n\" style=\"fill:none;stroke:#000000;stroke-linecap:square;stroke-linejoin:miter;stroke-width:0.8;\"/>\n   </g>\n   <g id=\"patch_109\">\n    <path d=\"M 381.75625 224.64 \nL 381.75625 7.2 \n\" style=\"fill:none;stroke:#000000;stroke-linecap:square;stroke-linejoin:miter;stroke-width:0.8;\"/>\n   </g>\n   <g id=\"patch_110\">\n    <path d=\"M 46.95625 224.64 \nL 381.75625 224.64 \n\" style=\"fill:none;stroke:#000000;stroke-linecap:square;stroke-linejoin:miter;stroke-width:0.8;\"/>\n   </g>\n   <g id=\"patch_111\">\n    <path d=\"M 46.95625 7.2 \nL 381.75625 7.2 \n\" style=\"fill:none;stroke:#000000;stroke-linecap:square;stroke-linejoin:miter;stroke-width:0.8;\"/>\n   </g>\n   <g id=\"legend_1\">\n    <g id=\"patch_112\">\n     <path d=\"M 296.440625 59.192187 \nL 374.75625 59.192187 \nQ 376.75625 59.192187 376.75625 57.192187 \nL 376.75625 14.2 \nQ 376.75625 12.2 374.75625 12.2 \nL 296.440625 12.2 \nQ 294.440625 12.2 294.440625 14.2 \nL 294.440625 57.192187 \nQ 294.440625 59.192187 296.440625 59.192187 \nz\n\" style=\"fill:#ffffff;opacity:0.8;stroke:#cccccc;stroke-linejoin:miter;\"/>\n    </g>\n    <g id=\"patch_113\">\n     <path d=\"M 298.440625 23.798437 \nL 318.440625 23.798437 \nL 318.440625 16.798437 \nL 298.440625 16.798437 \nz\n\" style=\"fill:#1f77b4;\"/>\n    </g>\n    <g id=\"text_46\">\n     <!-- eng_sum -->\n     <g transform=\"translate(326.440625 23.798437)scale(0.1 -0.1)\">\n      <defs>\n       <path d=\"M 55.375 -14.65625 \nL -0.78125 -14.65625 \nL -0.78125 -8.296875 \nL 55.375 -8.296875 \nz\n\" id=\"Tahoma-95\"/>\n       <path d=\"M 21.390625 -1.3125 \nQ 15.921875 -1.3125 11.15625 0.140625 \nQ 6.390625 1.609375 3.265625 3.265625 \nL 3.265625 13.578125 \nL 3.765625 13.578125 \nQ 4.9375 12.640625 6.515625 11.515625 \nQ 8.109375 10.40625 10.75 9.1875 \nQ 13.09375 8.109375 15.890625 7.28125 \nQ 18.703125 6.453125 21.734375 6.453125 \nQ 23.921875 6.453125 26.40625 6.953125 \nQ 28.90625 7.46875 30.125 8.25 \nQ 31.84375 9.375 32.59375 10.640625 \nQ 33.34375 11.921875 33.34375 14.453125 \nQ 33.34375 17.71875 31.5625 19.375 \nQ 29.78125 21.046875 25.25 22.171875 \nQ 23.484375 22.609375 20.65625 23.1875 \nQ 17.828125 23.78125 15.4375 24.46875 \nQ 9.1875 26.265625 6.34375 30.046875 \nQ 3.515625 33.84375 3.515625 39.203125 \nQ 3.515625 46.578125 9.078125 51.21875 \nQ 14.65625 55.859375 23.875 55.859375 \nQ 28.421875 55.859375 33 54.734375 \nQ 37.59375 53.609375 40.71875 51.90625 \nL 40.71875 42.09375 \nL 40.234375 42.09375 \nQ 36.71875 44.875 32.390625 46.484375 \nQ 28.078125 48.09375 23.6875 48.09375 \nQ 19.140625 48.09375 16.015625 46.1875 \nQ 12.890625 44.28125 12.890625 40.4375 \nQ 12.890625 37.015625 14.75 35.328125 \nQ 16.609375 33.640625 20.703125 32.5625 \nQ 22.75 32.03125 25.265625 31.515625 \nQ 27.78125 31 30.5625 30.328125 \nQ 36.625 28.8125 39.671875 25.296875 \nQ 42.71875 21.78125 42.71875 15.71875 \nQ 42.71875 12.203125 41.328125 9.046875 \nQ 39.9375 5.90625 37.25 3.65625 \nQ 34.328125 1.21875 30.640625 -0.046875 \nQ 26.953125 -1.3125 21.390625 -1.3125 \nz\n\" id=\"Tahoma-115\"/>\n      </defs>\n      <use xlink:href=\"#Tahoma-101\"/>\n      <use x=\"52.636719\" xlink:href=\"#Tahoma-110\"/>\n      <use x=\"108.398438\" xlink:href=\"#Tahoma-103\"/>\n      <use x=\"163.671875\" xlink:href=\"#Tahoma-95\"/>\n      <use x=\"218.261719\" xlink:href=\"#Tahoma-115\"/>\n      <use x=\"262.890625\" xlink:href=\"#Tahoma-117\"/>\n      <use x=\"318.652344\" xlink:href=\"#Tahoma-109\"/>\n     </g>\n    </g>\n    <g id=\"patch_114\">\n     <path d=\"M 298.440625 38.4625 \nL 318.440625 38.4625 \nL 318.440625 31.4625 \nL 298.440625 31.4625 \nz\n\" style=\"fill:#ff7f0e;\"/>\n    </g>\n    <g id=\"text_47\">\n     <!-- eng_max -->\n     <g transform=\"translate(326.440625 38.4625)scale(0.1 -0.1)\">\n      <defs>\n       <path d=\"M 49.03125 0 \nL 37.75 0 \nL 24.515625 20.609375 \nL 10.890625 0 \nL 0.484375 0 \nL 19.4375 27.046875 \nL 0.6875 54.546875 \nL 11.96875 54.546875 \nL 25.09375 34.125 \nL 38.578125 54.546875 \nL 49.03125 54.546875 \nL 30.171875 27.6875 \nz\n\" id=\"Tahoma-120\"/>\n      </defs>\n      <use xlink:href=\"#Tahoma-101\"/>\n      <use x=\"52.636719\" xlink:href=\"#Tahoma-110\"/>\n      <use x=\"108.398438\" xlink:href=\"#Tahoma-103\"/>\n      <use x=\"163.671875\" xlink:href=\"#Tahoma-95\"/>\n      <use x=\"218.261719\" xlink:href=\"#Tahoma-109\"/>\n      <use x=\"302.246094\" xlink:href=\"#Tahoma-97\"/>\n      <use x=\"354.736328\" xlink:href=\"#Tahoma-120\"/>\n     </g>\n    </g>\n    <g id=\"patch_115\">\n     <path d=\"M 298.440625 53.126562 \nL 318.440625 53.126562 \nL 318.440625 46.126562 \nL 298.440625 46.126562 \nz\n\" style=\"fill:#2ca02c;\"/>\n    </g>\n    <g id=\"text_48\">\n     <!-- eng_mean -->\n     <g transform=\"translate(326.440625 53.126562)scale(0.1 -0.1)\">\n      <use xlink:href=\"#Tahoma-101\"/>\n      <use x=\"52.636719\" xlink:href=\"#Tahoma-110\"/>\n      <use x=\"108.398438\" xlink:href=\"#Tahoma-103\"/>\n      <use x=\"163.671875\" xlink:href=\"#Tahoma-95\"/>\n      <use x=\"218.261719\" xlink:href=\"#Tahoma-109\"/>\n      <use x=\"302.246094\" xlink:href=\"#Tahoma-101\"/>\n      <use x=\"354.882812\" xlink:href=\"#Tahoma-97\"/>\n      <use x=\"407.373047\" xlink:href=\"#Tahoma-110\"/>\n     </g>\n    </g>\n   </g>\n  </g>\n </g>\n <defs>\n  <clipPath id=\"p135650cec1\">\n   <rect height=\"217.44\" width=\"334.8\" x=\"46.95625\" y=\"7.2\"/>\n  </clipPath>\n </defs>\n</svg>\n",
      "image/png": "[encoded data removed]"
     },
     "metadata": {
      "needs_background": "light"
     }
    }
   ],
   "source": [
    "q.plot(x=\"topic\", y=[\"eng_sum\", \"eng_max\", \"eng_mean\"], kind=\"bar\")"
   ]
  },
  {
   "cell_type": "markdown",
   "metadata": {},
   "source": [
    "* ## อนาคตใหม่"
   ]
  },
  {
   "cell_type": "code",
   "execution_count": 22,
   "metadata": {},
   "outputs": [
    {
     "output_type": "execute_result",
     "data": {
      "text/plain": [
       "           Username            Datetime  Retweet count  Favorite count  \\\n",
       "822  Thanathorn_FWP 2019-02-09 12:02:25         107244           34891   \n",
       "820  Thanathorn_FWP 2019-02-10 10:03:56          90900           26823   \n",
       "818  Thanathorn_FWP 2019-02-13 06:37:10          64128           23111   \n",
       "765  Thanathorn_FWP 2019-03-17 05:53:42          64608           20872   \n",
       "758  Thanathorn_FWP 2019-03-20 07:15:47          44733           17874   \n",
       "..              ...                 ...            ...             ...   \n",
       "787  Thanathorn_FWP 2019-03-04 10:40:11              0               0   \n",
       "786  Thanathorn_FWP 2019-03-04 13:07:06              0               0   \n",
       "785  Thanathorn_FWP 2019-03-05 11:58:38              0               0   \n",
       "784  Thanathorn_FWP 2019-03-05 11:58:45              0               0   \n",
       "59      FWPthailand 2019-03-07 13:16:43              0               0   \n",
       "\n",
       "                                                  Text      Party  \\\n",
       "822  วันนี้มา #tucuball73 มีแต่คนทักผมว่า #ฟ้ารักพ่...  อนาคตใหม่   \n",
       "820  หลายคนถามผมว่าถ้าอยู่เขตนั้นเขตนี้จะต้องกาเบอร...  อนาคตใหม่   \n",
       "818  สำหรับคำถาม “ชอบพรรคอนาคตใหม่มาก แต่ที่แถวบ้าน...  อนาคตใหม่   \n",
       "765  ถึงทหารอาชีพและทหารเกณฑ์ทุกท่าน : ไม่มีใครสั่ง...  อนาคตใหม่   \n",
       "758  จากกรณีคลิปเสียงเมื่อคืน ผมขอขอบคุณทาง @Nation...  อนาคตใหม่   \n",
       "..                                                 ...        ...   \n",
       "787  ปราศรัยที่ขอนแก่น ม่วนบ่ม่วน เบิ่งกันเอาเองเด้...  อนาคตใหม่   \n",
       "786  ชมตอนนี้! Live : รายการ Selection เกาะติดเลือก...  อนาคตใหม่   \n",
       "785  คุณอยากถามอะไรกับ ธนาธร จึงรุ่งเรืองกิจ จากพรร...  อนาคตใหม่   \n",
       "784  THE STANDARD DEBATE มิติใหม่ของการดีเบต โค้งสุ...  อนาคตใหม่   \n",
       "59   ท่านสามารถติดตาม THE STANDARD Daily ประจำวันที...  อนาคตใหม่   \n",
       "\n",
       "                                                 tweet  \\\n",
       "822  วันนี้มา มีแต่คนทักผมว่า ไม่ค่อยเก็ทเท่าไหร่ แ...   \n",
       "820  หลายคนถามผมว่าถ้าอยู่เขตนั้นเขตนี้จะต้องกาเบอร...   \n",
       "818  สำหรับคำถาม “ชอบพรรคอนาคตใหม่มาก แต่ที่แถวบ้าน...   \n",
       "765  ถึงทหารอาชีพและทหารเกณฑ์ทุกท่าน ไม่มีใครสั่ง บ...   \n",
       "758  จากกรณีคลิปเสียงเมื่อคืน ผมขอขอบคุณทาง ที่ให้โ...   \n",
       "..                                                 ...   \n",
       "787  ปราศรัยที่ขอนแก่น ม่วนบ่ม่วน เบิ่งกันเอาเองเด้...   \n",
       "786  ชมตอนนี้ live รายการ select เกาะติดเลือกตั้ง  ...   \n",
       "785  คุณอยากถามอะไรกับ ธนาธร จึงรุ่งเรืองกิจ จากพรร...   \n",
       "784  standard debat มิติใหม่ของการดีเบต โค้งสุดท้าย...   \n",
       "59   ท่านสามารถติดตาม standard daili ประจำวันที่  ม...   \n",
       "\n",
       "                             topic  Engagement  \n",
       "822                      ขาย ธนาธร      142135  \n",
       "820  บันทึกการเดินทางของลูกทีมพรรค      117723  \n",
       "818                  ขายฝันของพรรค       87239  \n",
       "765      แนะนำแกนนำ และดาราของพรรค       85480  \n",
       "758      แนะนำแกนนำ และดาราของพรรค       62607  \n",
       "..                             ...         ...  \n",
       "787                      ขาย ธนาธร           0  \n",
       "786      แนะนำแกนนำ และดาราของพรรค           0  \n",
       "785                      ขาย ธนาธร           0  \n",
       "784                      ขาย ธนาธร           0  \n",
       "59                       ขาย ธนาธร           0  \n",
       "\n",
       "[258 rows x 9 columns]"
      ],
      "text/html": "<div>\n<style scoped>\n    .dataframe tbody tr th:only-of-type {\n        vertical-align: middle;\n    }\n\n    .dataframe tbody tr th {\n        vertical-align: top;\n    }\n\n    .dataframe thead th {\n        text-align: right;\n    }\n</style>\n<table border=\"1\" class=\"dataframe\">\n  <thead>\n    <tr style=\"text-align: right;\">\n      <th></th>\n      <th>Username</th>\n      <th>Datetime</th>\n      <th>Retweet count</th>\n      <th>Favorite count</th>\n      <th>Text</th>\n      <th>Party</th>\n      <th>tweet</th>\n      <th>topic</th>\n      <th>Engagement</th>\n    </tr>\n  </thead>\n  <tbody>\n    <tr>\n      <th>822</th>\n      <td>Thanathorn_FWP</td>\n      <td>2019-02-09 12:02:25</td>\n      <td>107244</td>\n      <td>34891</td>\n      <td>วันนี้มา #tucuball73 มีแต่คนทักผมว่า #ฟ้ารักพ่...</td>\n      <td>อนาคตใหม่</td>\n      <td>วันนี้มา มีแต่คนทักผมว่า ไม่ค่อยเก็ทเท่าไหร่ แ...</td>\n      <td>ขาย ธนาธร</td>\n      <td>142135</td>\n    </tr>\n    <tr>\n      <th>820</th>\n      <td>Thanathorn_FWP</td>\n      <td>2019-02-10 10:03:56</td>\n      <td>90900</td>\n      <td>26823</td>\n      <td>หลายคนถามผมว่าถ้าอยู่เขตนั้นเขตนี้จะต้องกาเบอร...</td>\n      <td>อนาคตใหม่</td>\n      <td>หลายคนถามผมว่าถ้าอยู่เขตนั้นเขตนี้จะต้องกาเบอร...</td>\n      <td>บันทึกการเดินทางของลูกทีมพรรค</td>\n      <td>117723</td>\n    </tr>\n    <tr>\n      <th>818</th>\n      <td>Thanathorn_FWP</td>\n      <td>2019-02-13 06:37:10</td>\n      <td>64128</td>\n      <td>23111</td>\n      <td>สำหรับคำถาม “ชอบพรรคอนาคตใหม่มาก แต่ที่แถวบ้าน...</td>\n      <td>อนาคตใหม่</td>\n      <td>สำหรับคำถาม “ชอบพรรคอนาคตใหม่มาก แต่ที่แถวบ้าน...</td>\n      <td>ขายฝันของพรรค</td>\n      <td>87239</td>\n    </tr>\n    <tr>\n      <th>765</th>\n      <td>Thanathorn_FWP</td>\n      <td>2019-03-17 05:53:42</td>\n      <td>64608</td>\n      <td>20872</td>\n      <td>ถึงทหารอาชีพและทหารเกณฑ์ทุกท่าน : ไม่มีใครสั่ง...</td>\n      <td>อนาคตใหม่</td>\n      <td>ถึงทหารอาชีพและทหารเกณฑ์ทุกท่าน ไม่มีใครสั่ง บ...</td>\n      <td>แนะนำแกนนำ และดาราของพรรค</td>\n      <td>85480</td>\n    </tr>\n    <tr>\n      <th>758</th>\n      <td>Thanathorn_FWP</td>\n      <td>2019-03-20 07:15:47</td>\n      <td>44733</td>\n      <td>17874</td>\n      <td>จากกรณีคลิปเสียงเมื่อคืน ผมขอขอบคุณทาง @Nation...</td>\n      <td>อนาคตใหม่</td>\n      <td>จากกรณีคลิปเสียงเมื่อคืน ผมขอขอบคุณทาง ที่ให้โ...</td>\n      <td>แนะนำแกนนำ และดาราของพรรค</td>\n      <td>62607</td>\n    </tr>\n    <tr>\n      <th>...</th>\n      <td>...</td>\n      <td>...</td>\n      <td>...</td>\n      <td>...</td>\n      <td>...</td>\n      <td>...</td>\n      <td>...</td>\n      <td>...</td>\n      <td>...</td>\n    </tr>\n    <tr>\n      <th>787</th>\n      <td>Thanathorn_FWP</td>\n      <td>2019-03-04 10:40:11</td>\n      <td>0</td>\n      <td>0</td>\n      <td>ปราศรัยที่ขอนแก่น ม่วนบ่ม่วน เบิ่งกันเอาเองเด้...</td>\n      <td>อนาคตใหม่</td>\n      <td>ปราศรัยที่ขอนแก่น ม่วนบ่ม่วน เบิ่งกันเอาเองเด้...</td>\n      <td>ขาย ธนาธร</td>\n      <td>0</td>\n    </tr>\n    <tr>\n      <th>786</th>\n      <td>Thanathorn_FWP</td>\n      <td>2019-03-04 13:07:06</td>\n      <td>0</td>\n      <td>0</td>\n      <td>ชมตอนนี้! Live : รายการ Selection เกาะติดเลือก...</td>\n      <td>อนาคตใหม่</td>\n      <td>ชมตอนนี้ live รายการ select เกาะติดเลือกตั้ง  ...</td>\n      <td>แนะนำแกนนำ และดาราของพรรค</td>\n      <td>0</td>\n    </tr>\n    <tr>\n      <th>785</th>\n      <td>Thanathorn_FWP</td>\n      <td>2019-03-05 11:58:38</td>\n      <td>0</td>\n      <td>0</td>\n      <td>คุณอยากถามอะไรกับ ธนาธร จึงรุ่งเรืองกิจ จากพรร...</td>\n      <td>อนาคตใหม่</td>\n      <td>คุณอยากถามอะไรกับ ธนาธร จึงรุ่งเรืองกิจ จากพรร...</td>\n      <td>ขาย ธนาธร</td>\n      <td>0</td>\n    </tr>\n    <tr>\n      <th>784</th>\n      <td>Thanathorn_FWP</td>\n      <td>2019-03-05 11:58:45</td>\n      <td>0</td>\n      <td>0</td>\n      <td>THE STANDARD DEBATE มิติใหม่ของการดีเบต โค้งสุ...</td>\n      <td>อนาคตใหม่</td>\n      <td>standard debat มิติใหม่ของการดีเบต โค้งสุดท้าย...</td>\n      <td>ขาย ธนาธร</td>\n      <td>0</td>\n    </tr>\n    <tr>\n      <th>59</th>\n      <td>FWPthailand</td>\n      <td>2019-03-07 13:16:43</td>\n      <td>0</td>\n      <td>0</td>\n      <td>ท่านสามารถติดตาม THE STANDARD Daily ประจำวันที...</td>\n      <td>อนาคตใหม่</td>\n      <td>ท่านสามารถติดตาม standard daili ประจำวันที่  ม...</td>\n      <td>ขาย ธนาธร</td>\n      <td>0</td>\n    </tr>\n  </tbody>\n</table>\n<p>258 rows × 9 columns</p>\n</div>"
     },
     "metadata": {},
     "execution_count": 22
    }
   ],
   "source": [
    "df_fwp.sort_values(by='Engagement',ascending=False)"
   ]
  },
  {
   "cell_type": "code",
   "execution_count": 23,
   "metadata": {},
   "outputs": [
    {
     "output_type": "execute_result",
     "data": {
      "text/plain": [
       "FWPthailand       130\n",
       "Thanathorn_FWP     87\n",
       "SPiyabutr          38\n",
       "RangsimanRome       3\n",
       "Name: Username, dtype: int64"
      ]
     },
     "metadata": {},
     "execution_count": 23
    }
   ],
   "source": [
    "#frequency of tweets \n",
    "df_fwp['Username'].value_counts()"
   ]
  },
  {
   "cell_type": "code",
   "execution_count": 24,
   "metadata": {},
   "outputs": [
    {
     "output_type": "execute_result",
     "data": {
      "text/plain": [
       "                                                  Text  \\\n",
       "822  วันนี้มา #tucuball73 มีแต่คนทักผมว่า #ฟ้ารักพ่...   \n",
       "820  หลายคนถามผมว่าถ้าอยู่เขตนั้นเขตนี้จะต้องกาเบอร...   \n",
       "818  สำหรับคำถาม “ชอบพรรคอนาคตใหม่มาก แต่ที่แถวบ้าน...   \n",
       "765  ถึงทหารอาชีพและทหารเกณฑ์ทุกท่าน : ไม่มีใครสั่ง...   \n",
       "758  จากกรณีคลิปเสียงเมื่อคืน ผมขอขอบคุณทาง @Nation...   \n",
       "..                                                 ...   \n",
       "787  ปราศรัยที่ขอนแก่น ม่วนบ่ม่วน เบิ่งกันเอาเองเด้...   \n",
       "786  ชมตอนนี้! Live : รายการ Selection เกาะติดเลือก...   \n",
       "785  คุณอยากถามอะไรกับ ธนาธร จึงรุ่งเรืองกิจ จากพรร...   \n",
       "784  THE STANDARD DEBATE มิติใหม่ของการดีเบต โค้งสุ...   \n",
       "59   ท่านสามารถติดตาม THE STANDARD Daily ประจำวันที...   \n",
       "\n",
       "                             topic  Engagement  \n",
       "822                      ขาย ธนาธร      142135  \n",
       "820  บันทึกการเดินทางของลูกทีมพรรค      117723  \n",
       "818                  ขายฝันของพรรค       87239  \n",
       "765      แนะนำแกนนำ และดาราของพรรค       85480  \n",
       "758      แนะนำแกนนำ และดาราของพรรค       62607  \n",
       "..                             ...         ...  \n",
       "787                      ขาย ธนาธร           0  \n",
       "786      แนะนำแกนนำ และดาราของพรรค           0  \n",
       "785                      ขาย ธนาธร           0  \n",
       "784                      ขาย ธนาธร           0  \n",
       "59                       ขาย ธนาธร           0  \n",
       "\n",
       "[258 rows x 3 columns]"
      ],
      "text/html": "<div>\n<style scoped>\n    .dataframe tbody tr th:only-of-type {\n        vertical-align: middle;\n    }\n\n    .dataframe tbody tr th {\n        vertical-align: top;\n    }\n\n    .dataframe thead th {\n        text-align: right;\n    }\n</style>\n<table border=\"1\" class=\"dataframe\">\n  <thead>\n    <tr style=\"text-align: right;\">\n      <th></th>\n      <th>Text</th>\n      <th>topic</th>\n      <th>Engagement</th>\n    </tr>\n  </thead>\n  <tbody>\n    <tr>\n      <th>822</th>\n      <td>วันนี้มา #tucuball73 มีแต่คนทักผมว่า #ฟ้ารักพ่...</td>\n      <td>ขาย ธนาธร</td>\n      <td>142135</td>\n    </tr>\n    <tr>\n      <th>820</th>\n      <td>หลายคนถามผมว่าถ้าอยู่เขตนั้นเขตนี้จะต้องกาเบอร...</td>\n      <td>บันทึกการเดินทางของลูกทีมพรรค</td>\n      <td>117723</td>\n    </tr>\n    <tr>\n      <th>818</th>\n      <td>สำหรับคำถาม “ชอบพรรคอนาคตใหม่มาก แต่ที่แถวบ้าน...</td>\n      <td>ขายฝันของพรรค</td>\n      <td>87239</td>\n    </tr>\n    <tr>\n      <th>765</th>\n      <td>ถึงทหารอาชีพและทหารเกณฑ์ทุกท่าน : ไม่มีใครสั่ง...</td>\n      <td>แนะนำแกนนำ และดาราของพรรค</td>\n      <td>85480</td>\n    </tr>\n    <tr>\n      <th>758</th>\n      <td>จากกรณีคลิปเสียงเมื่อคืน ผมขอขอบคุณทาง @Nation...</td>\n      <td>แนะนำแกนนำ และดาราของพรรค</td>\n      <td>62607</td>\n    </tr>\n    <tr>\n      <th>...</th>\n      <td>...</td>\n      <td>...</td>\n      <td>...</td>\n    </tr>\n    <tr>\n      <th>787</th>\n      <td>ปราศรัยที่ขอนแก่น ม่วนบ่ม่วน เบิ่งกันเอาเองเด้...</td>\n      <td>ขาย ธนาธร</td>\n      <td>0</td>\n    </tr>\n    <tr>\n      <th>786</th>\n      <td>ชมตอนนี้! Live : รายการ Selection เกาะติดเลือก...</td>\n      <td>แนะนำแกนนำ และดาราของพรรค</td>\n      <td>0</td>\n    </tr>\n    <tr>\n      <th>785</th>\n      <td>คุณอยากถามอะไรกับ ธนาธร จึงรุ่งเรืองกิจ จากพรร...</td>\n      <td>ขาย ธนาธร</td>\n      <td>0</td>\n    </tr>\n    <tr>\n      <th>784</th>\n      <td>THE STANDARD DEBATE มิติใหม่ของการดีเบต โค้งสุ...</td>\n      <td>ขาย ธนาธร</td>\n      <td>0</td>\n    </tr>\n    <tr>\n      <th>59</th>\n      <td>ท่านสามารถติดตาม THE STANDARD Daily ประจำวันที...</td>\n      <td>ขาย ธนาธร</td>\n      <td>0</td>\n    </tr>\n  </tbody>\n</table>\n<p>258 rows × 3 columns</p>\n</div>"
     },
     "metadata": {},
     "execution_count": 24
    }
   ],
   "source": [
    "df_fwp.loc[:,['Text','topic','Engagement']].sort_values(by='Engagement',ascending=False)"
   ]
  },
  {
   "cell_type": "code",
   "execution_count": 25,
   "metadata": {},
   "outputs": [
    {
     "output_type": "execute_result",
     "data": {
      "text/plain": [
       "'วันนี้มา #tucuball73 มีแต่คนทักผมว่า #ฟ้ารักพ่อ ไม่ค่อยเก็ทเท่าไหร่ แต่ก็ขอบคุณทุกกำลังใจ อย่าลืมไปเลือก #อนาคตใหม่ กันนะคับ https://t.co/MzumefW403'"
      ]
     },
     "metadata": {},
     "execution_count": 25
    }
   ],
   "source": [
    "#sample tweet with max engagement\n",
    "df_fwp.Text[822]"
   ]
  },
  {
   "cell_type": "code",
   "execution_count": 26,
   "metadata": {},
   "outputs": [
    {
     "output_type": "execute_result",
     "data": {
      "text/plain": [
       "          Username                          topic  count  eng_sum  \\\n",
       "0   Thanathorn_FWP                  ขายฝันของพรรค     23   351691   \n",
       "1   Thanathorn_FWP  บันทึกการเดินทางของลูกทีมพรรค     14   266856   \n",
       "2   Thanathorn_FWP        นโยบายเศรษฐกิจและภาคใต้     19   232827   \n",
       "3   Thanathorn_FWP                      ขาย ธนาธร     14   231283   \n",
       "4   Thanathorn_FWP      แนะนำแกนนำ และดาราของพรรค     17   222176   \n",
       "5      FWPthailand                  ขายฝันของพรรค     29    52886   \n",
       "6      FWPthailand  บันทึกการเดินทางของลูกทีมพรรค     18    37589   \n",
       "7      FWPthailand        นโยบายเศรษฐกิจและภาคใต้     30    28156   \n",
       "8      FWPthailand      แนะนำแกนนำ และดาราของพรรค     22    24120   \n",
       "9      FWPthailand                      ขาย ธนาธร     31    20547   \n",
       "10       SPiyabutr  บันทึกการเดินทางของลูกทีมพรรค     36    14209   \n",
       "11       SPiyabutr      แนะนำแกนนำ และดาราของพรรค      2     3399   \n",
       "12   RangsimanRome                  ขายฝันของพรรค      1      248   \n",
       "13   RangsimanRome      แนะนำแกนนำ และดาราของพรรค      1      180   \n",
       "14   RangsimanRome  บันทึกการเดินทางของลูกทีมพรรค      1       73   \n",
       "\n",
       "        eng_mean  eng_max  \n",
       "0   15290.913043    87239  \n",
       "1   19061.142857   117723  \n",
       "2   12254.052632    61705  \n",
       "3   16520.214286   142135  \n",
       "4   13069.176471    85480  \n",
       "5    1823.655172    21359  \n",
       "6    2088.277778    13289  \n",
       "7     938.533333     6866  \n",
       "8    1096.363636     6296  \n",
       "9     662.806452     5372  \n",
       "10    394.694444     5146  \n",
       "11   1699.500000     1830  \n",
       "12    248.000000      248  \n",
       "13    180.000000      180  \n",
       "14     73.000000       73  "
      ],
      "text/html": "<div>\n<style scoped>\n    .dataframe tbody tr th:only-of-type {\n        vertical-align: middle;\n    }\n\n    .dataframe tbody tr th {\n        vertical-align: top;\n    }\n\n    .dataframe thead th {\n        text-align: right;\n    }\n</style>\n<table border=\"1\" class=\"dataframe\">\n  <thead>\n    <tr style=\"text-align: right;\">\n      <th></th>\n      <th>Username</th>\n      <th>topic</th>\n      <th>count</th>\n      <th>eng_sum</th>\n      <th>eng_mean</th>\n      <th>eng_max</th>\n    </tr>\n  </thead>\n  <tbody>\n    <tr>\n      <th>0</th>\n      <td>Thanathorn_FWP</td>\n      <td>ขายฝันของพรรค</td>\n      <td>23</td>\n      <td>351691</td>\n      <td>15290.913043</td>\n      <td>87239</td>\n    </tr>\n    <tr>\n      <th>1</th>\n      <td>Thanathorn_FWP</td>\n      <td>บันทึกการเดินทางของลูกทีมพรรค</td>\n      <td>14</td>\n      <td>266856</td>\n      <td>19061.142857</td>\n      <td>117723</td>\n    </tr>\n    <tr>\n      <th>2</th>\n      <td>Thanathorn_FWP</td>\n      <td>นโยบายเศรษฐกิจและภาคใต้</td>\n      <td>19</td>\n      <td>232827</td>\n      <td>12254.052632</td>\n      <td>61705</td>\n    </tr>\n    <tr>\n      <th>3</th>\n      <td>Thanathorn_FWP</td>\n      <td>ขาย ธนาธร</td>\n      <td>14</td>\n      <td>231283</td>\n      <td>16520.214286</td>\n      <td>142135</td>\n    </tr>\n    <tr>\n      <th>4</th>\n      <td>Thanathorn_FWP</td>\n      <td>แนะนำแกนนำ และดาราของพรรค</td>\n      <td>17</td>\n      <td>222176</td>\n      <td>13069.176471</td>\n      <td>85480</td>\n    </tr>\n    <tr>\n      <th>5</th>\n      <td>FWPthailand</td>\n      <td>ขายฝันของพรรค</td>\n      <td>29</td>\n      <td>52886</td>\n      <td>1823.655172</td>\n      <td>21359</td>\n    </tr>\n    <tr>\n      <th>6</th>\n      <td>FWPthailand</td>\n      <td>บันทึกการเดินทางของลูกทีมพรรค</td>\n      <td>18</td>\n      <td>37589</td>\n      <td>2088.277778</td>\n      <td>13289</td>\n    </tr>\n    <tr>\n      <th>7</th>\n      <td>FWPthailand</td>\n      <td>นโยบายเศรษฐกิจและภาคใต้</td>\n      <td>30</td>\n      <td>28156</td>\n      <td>938.533333</td>\n      <td>6866</td>\n    </tr>\n    <tr>\n      <th>8</th>\n      <td>FWPthailand</td>\n      <td>แนะนำแกนนำ และดาราของพรรค</td>\n      <td>22</td>\n      <td>24120</td>\n      <td>1096.363636</td>\n      <td>6296</td>\n    </tr>\n    <tr>\n      <th>9</th>\n      <td>FWPthailand</td>\n      <td>ขาย ธนาธร</td>\n      <td>31</td>\n      <td>20547</td>\n      <td>662.806452</td>\n      <td>5372</td>\n    </tr>\n    <tr>\n      <th>10</th>\n      <td>SPiyabutr</td>\n      <td>บันทึกการเดินทางของลูกทีมพรรค</td>\n      <td>36</td>\n      <td>14209</td>\n      <td>394.694444</td>\n      <td>5146</td>\n    </tr>\n    <tr>\n      <th>11</th>\n      <td>SPiyabutr</td>\n      <td>แนะนำแกนนำ และดาราของพรรค</td>\n      <td>2</td>\n      <td>3399</td>\n      <td>1699.500000</td>\n      <td>1830</td>\n    </tr>\n    <tr>\n      <th>12</th>\n      <td>RangsimanRome</td>\n      <td>ขายฝันของพรรค</td>\n      <td>1</td>\n      <td>248</td>\n      <td>248.000000</td>\n      <td>248</td>\n    </tr>\n    <tr>\n      <th>13</th>\n      <td>RangsimanRome</td>\n      <td>แนะนำแกนนำ และดาราของพรรค</td>\n      <td>1</td>\n      <td>180</td>\n      <td>180.000000</td>\n      <td>180</td>\n    </tr>\n    <tr>\n      <th>14</th>\n      <td>RangsimanRome</td>\n      <td>บันทึกการเดินทางของลูกทีมพรรค</td>\n      <td>1</td>\n      <td>73</td>\n      <td>73.000000</td>\n      <td>73</td>\n    </tr>\n  </tbody>\n</table>\n</div>"
     },
     "metadata": {},
     "execution_count": 26
    }
   ],
   "source": [
    "fwp = df_fwp.groupby(['Username','topic']).agg(count=('Engagement','count'),\n",
    "                                          eng_sum=('Engagement','sum'),\n",
    "                                          eng_mean=('Engagement','mean'),\n",
    "                                          eng_max=('Engagement','max'))\\\n",
    "        .sort_values(by='eng_sum',ascending=False)\\\n",
    "        .reset_index()\n",
    "fwp"
   ]
  },
  {
   "cell_type": "code",
   "execution_count": 27,
   "metadata": {},
   "outputs": [
    {
     "output_type": "execute_result",
     "data": {
      "text/plain": [
       "                           topic  count  eng_sum     eng_mean  eng_max\n",
       "0                  ขายฝันของพรรค     53   404825  7638.207547    87239\n",
       "1  บันทึกการเดินทางของลูกทีมพรรค     69   318727  4619.231884   117723\n",
       "2        นโยบายเศรษฐกิจและภาคใต้     49   260983  5326.183673    61705\n",
       "3                      ขาย ธนาธร     45   251830  5596.222222   142135\n",
       "4      แนะนำแกนนำ และดาราของพรรค     42   249875  5949.404762    85480"
      ],
      "text/html": "<div>\n<style scoped>\n    .dataframe tbody tr th:only-of-type {\n        vertical-align: middle;\n    }\n\n    .dataframe tbody tr th {\n        vertical-align: top;\n    }\n\n    .dataframe thead th {\n        text-align: right;\n    }\n</style>\n<table border=\"1\" class=\"dataframe\">\n  <thead>\n    <tr style=\"text-align: right;\">\n      <th></th>\n      <th>topic</th>\n      <th>count</th>\n      <th>eng_sum</th>\n      <th>eng_mean</th>\n      <th>eng_max</th>\n    </tr>\n  </thead>\n  <tbody>\n    <tr>\n      <th>0</th>\n      <td>ขายฝันของพรรค</td>\n      <td>53</td>\n      <td>404825</td>\n      <td>7638.207547</td>\n      <td>87239</td>\n    </tr>\n    <tr>\n      <th>1</th>\n      <td>บันทึกการเดินทางของลูกทีมพรรค</td>\n      <td>69</td>\n      <td>318727</td>\n      <td>4619.231884</td>\n      <td>117723</td>\n    </tr>\n    <tr>\n      <th>2</th>\n      <td>นโยบายเศรษฐกิจและภาคใต้</td>\n      <td>49</td>\n      <td>260983</td>\n      <td>5326.183673</td>\n      <td>61705</td>\n    </tr>\n    <tr>\n      <th>3</th>\n      <td>ขาย ธนาธร</td>\n      <td>45</td>\n      <td>251830</td>\n      <td>5596.222222</td>\n      <td>142135</td>\n    </tr>\n    <tr>\n      <th>4</th>\n      <td>แนะนำแกนนำ และดาราของพรรค</td>\n      <td>42</td>\n      <td>249875</td>\n      <td>5949.404762</td>\n      <td>85480</td>\n    </tr>\n  </tbody>\n</table>\n</div>"
     },
     "metadata": {},
     "execution_count": 27
    }
   ],
   "source": [
    "df_fwp.groupby(['topic']).agg(count=('Engagement','count'),\n",
    "                                          eng_sum=('Engagement','sum'),\n",
    "                                          eng_mean=('Engagement','mean'),\n",
    "                                          eng_max=('Engagement','max'))\\\n",
    "        .sort_values(by='eng_sum',ascending=False)\\\n",
    "        .reset_index()"
   ]
  },
  {
   "cell_type": "code",
   "execution_count": 28,
   "metadata": {},
   "outputs": [],
   "source": [
    "def show_data(party):\n",
    "    a = party.sort_values(by='Engagement',ascending=False)\n",
    "    b = party['Username'].value_counts()\n",
    "    c = party.loc[:,['Text','topic','Engagement']].sort_values(by='Engagement',ascending=False)\n",
    "    d = party.groupby(['Username','topic']).agg(count=('Engagement','count'),\n",
    "                                          eng_sum=('Engagement','sum'),\n",
    "                                          eng_mean=('Engagement','mean'),\n",
    "                                          eng_max=('Engagement','max'))\\\n",
    "        .sort_values(by='eng_sum',ascending=False)\\\n",
    "        .reset_index()\n",
    "    e = party.groupby(['topic']).agg(count=('Engagement','count'),\n",
    "                                          eng_sum=('Engagement','sum'),\n",
    "                                          eng_mean=('Engagement','mean'),\n",
    "                                          eng_max=('Engagement','max'))\\\n",
    "        .sort_values(by='eng_sum',ascending=False)\\\n",
    "        .reset_index()\n",
    "    return display('Overview',a,'Frequency tweets by username',b,'See Text',c,\n",
    "                    'See topic',d,e)\n",
    "\n"
   ]
  },
  {
   "cell_type": "code",
   "execution_count": 29,
   "metadata": {},
   "outputs": [
    {
     "output_type": "display_data",
     "data": {
      "text/plain": "'Overview'"
     },
     "metadata": {}
    },
    {
     "output_type": "display_data",
     "data": {
      "text/plain": "           Username            Datetime  Retweet count  Favorite count  \\\n822  Thanathorn_FWP 2019-02-09 12:02:25         107244           34891   \n820  Thanathorn_FWP 2019-02-10 10:03:56          90900           26823   \n818  Thanathorn_FWP 2019-02-13 06:37:10          64128           23111   \n765  Thanathorn_FWP 2019-03-17 05:53:42          64608           20872   \n758  Thanathorn_FWP 2019-03-20 07:15:47          44733           17874   \n..              ...                 ...            ...             ...   \n787  Thanathorn_FWP 2019-03-04 10:40:11              0               0   \n786  Thanathorn_FWP 2019-03-04 13:07:06              0               0   \n785  Thanathorn_FWP 2019-03-05 11:58:38              0               0   \n784  Thanathorn_FWP 2019-03-05 11:58:45              0               0   \n59      FWPthailand 2019-03-07 13:16:43              0               0   \n\n                                                  Text      Party  \\\n822  วันนี้มา #tucuball73 มีแต่คนทักผมว่า #ฟ้ารักพ่...  อนาคตใหม่   \n820  หลายคนถามผมว่าถ้าอยู่เขตนั้นเขตนี้จะต้องกาเบอร...  อนาคตใหม่   \n818  สำหรับคำถาม “ชอบพรรคอนาคตใหม่มาก แต่ที่แถวบ้าน...  อนาคตใหม่   \n765  ถึงทหารอาชีพและทหารเกณฑ์ทุกท่าน : ไม่มีใครสั่ง...  อนาคตใหม่   \n758  จากกรณีคลิปเสียงเมื่อคืน ผมขอขอบคุณทาง @Nation...  อนาคตใหม่   \n..                                                 ...        ...   \n787  ปราศรัยที่ขอนแก่น ม่วนบ่ม่วน เบิ่งกันเอาเองเด้...  อนาคตใหม่   \n786  ชมตอนนี้! Live : รายการ Selection เกาะติดเลือก...  อนาคตใหม่   \n785  คุณอยากถามอะไรกับ ธนาธร จึงรุ่งเรืองกิจ จากพรร...  อนาคตใหม่   \n784  THE STANDARD DEBATE มิติใหม่ของการดีเบต โค้งสุ...  อนาคตใหม่   \n59   ท่านสามารถติดตาม THE STANDARD Daily ประจำวันที...  อนาคตใหม่   \n\n                                                 tweet  \\\n822  วันนี้มา มีแต่คนทักผมว่า ไม่ค่อยเก็ทเท่าไหร่ แ...   \n820  หลายคนถามผมว่าถ้าอยู่เขตนั้นเขตนี้จะต้องกาเบอร...   \n818  สำหรับคำถาม “ชอบพรรคอนาคตใหม่มาก แต่ที่แถวบ้าน...   \n765  ถึงทหารอาชีพและทหารเกณฑ์ทุกท่าน ไม่มีใครสั่ง บ...   \n758  จากกรณีคลิปเสียงเมื่อคืน ผมขอขอบคุณทาง ที่ให้โ...   \n..                                                 ...   \n787  ปราศรัยที่ขอนแก่น ม่วนบ่ม่วน เบิ่งกันเอาเองเด้...   \n786  ชมตอนนี้ live รายการ select เกาะติดเลือกตั้ง  ...   \n785  คุณอยากถามอะไรกับ ธนาธร จึงรุ่งเรืองกิจ จากพรร...   \n784  standard debat มิติใหม่ของการดีเบต โค้งสุดท้าย...   \n59   ท่านสามารถติดตาม standard daili ประจำวันที่  ม...   \n\n                             topic  Engagement  \n822                      ขาย ธนาธร      142135  \n820  บันทึกการเดินทางของลูกทีมพรรค      117723  \n818                  ขายฝันของพรรค       87239  \n765      แนะนำแกนนำ และดาราของพรรค       85480  \n758      แนะนำแกนนำ และดาราของพรรค       62607  \n..                             ...         ...  \n787                      ขาย ธนาธร           0  \n786      แนะนำแกนนำ และดาราของพรรค           0  \n785                      ขาย ธนาธร           0  \n784                      ขาย ธนาธร           0  \n59                       ขาย ธนาธร           0  \n\n[258 rows x 9 columns]",
      "text/html": "<div>\n<style scoped>\n    .dataframe tbody tr th:only-of-type {\n        vertical-align: middle;\n    }\n\n    .dataframe tbody tr th {\n        vertical-align: top;\n    }\n\n    .dataframe thead th {\n        text-align: right;\n    }\n</style>\n<table border=\"1\" class=\"dataframe\">\n  <thead>\n    <tr style=\"text-align: right;\">\n      <th></th>\n      <th>Username</th>\n      <th>Datetime</th>\n      <th>Retweet count</th>\n      <th>Favorite count</th>\n      <th>Text</th>\n      <th>Party</th>\n      <th>tweet</th>\n      <th>topic</th>\n      <th>Engagement</th>\n    </tr>\n  </thead>\n  <tbody>\n    <tr>\n      <th>822</th>\n      <td>Thanathorn_FWP</td>\n      <td>2019-02-09 12:02:25</td>\n      <td>107244</td>\n      <td>34891</td>\n      <td>วันนี้มา #tucuball73 มีแต่คนทักผมว่า #ฟ้ารักพ่...</td>\n      <td>อนาคตใหม่</td>\n      <td>วันนี้มา มีแต่คนทักผมว่า ไม่ค่อยเก็ทเท่าไหร่ แ...</td>\n      <td>ขาย ธนาธร</td>\n      <td>142135</td>\n    </tr>\n    <tr>\n      <th>820</th>\n      <td>Thanathorn_FWP</td>\n      <td>2019-02-10 10:03:56</td>\n      <td>90900</td>\n      <td>26823</td>\n      <td>หลายคนถามผมว่าถ้าอยู่เขตนั้นเขตนี้จะต้องกาเบอร...</td>\n      <td>อนาคตใหม่</td>\n      <td>หลายคนถามผมว่าถ้าอยู่เขตนั้นเขตนี้จะต้องกาเบอร...</td>\n      <td>บันทึกการเดินทางของลูกทีมพรรค</td>\n      <td>117723</td>\n    </tr>\n    <tr>\n      <th>818</th>\n      <td>Thanathorn_FWP</td>\n      <td>2019-02-13 06:37:10</td>\n      <td>64128</td>\n      <td>23111</td>\n      <td>สำหรับคำถาม “ชอบพรรคอนาคตใหม่มาก แต่ที่แถวบ้าน...</td>\n      <td>อนาคตใหม่</td>\n      <td>สำหรับคำถาม “ชอบพรรคอนาคตใหม่มาก แต่ที่แถวบ้าน...</td>\n      <td>ขายฝันของพรรค</td>\n      <td>87239</td>\n    </tr>\n    <tr>\n      <th>765</th>\n      <td>Thanathorn_FWP</td>\n      <td>2019-03-17 05:53:42</td>\n      <td>64608</td>\n      <td>20872</td>\n      <td>ถึงทหารอาชีพและทหารเกณฑ์ทุกท่าน : ไม่มีใครสั่ง...</td>\n      <td>อนาคตใหม่</td>\n      <td>ถึงทหารอาชีพและทหารเกณฑ์ทุกท่าน ไม่มีใครสั่ง บ...</td>\n      <td>แนะนำแกนนำ และดาราของพรรค</td>\n      <td>85480</td>\n    </tr>\n    <tr>\n      <th>758</th>\n      <td>Thanathorn_FWP</td>\n      <td>2019-03-20 07:15:47</td>\n      <td>44733</td>\n      <td>17874</td>\n      <td>จากกรณีคลิปเสียงเมื่อคืน ผมขอขอบคุณทาง @Nation...</td>\n      <td>อนาคตใหม่</td>\n      <td>จากกรณีคลิปเสียงเมื่อคืน ผมขอขอบคุณทาง ที่ให้โ...</td>\n      <td>แนะนำแกนนำ และดาราของพรรค</td>\n      <td>62607</td>\n    </tr>\n    <tr>\n      <th>...</th>\n      <td>...</td>\n      <td>...</td>\n      <td>...</td>\n      <td>...</td>\n      <td>...</td>\n      <td>...</td>\n      <td>...</td>\n      <td>...</td>\n      <td>...</td>\n    </tr>\n    <tr>\n      <th>787</th>\n      <td>Thanathorn_FWP</td>\n      <td>2019-03-04 10:40:11</td>\n      <td>0</td>\n      <td>0</td>\n      <td>ปราศรัยที่ขอนแก่น ม่วนบ่ม่วน เบิ่งกันเอาเองเด้...</td>\n      <td>อนาคตใหม่</td>\n      <td>ปราศรัยที่ขอนแก่น ม่วนบ่ม่วน เบิ่งกันเอาเองเด้...</td>\n      <td>ขาย ธนาธร</td>\n      <td>0</td>\n    </tr>\n    <tr>\n      <th>786</th>\n      <td>Thanathorn_FWP</td>\n      <td>2019-03-04 13:07:06</td>\n      <td>0</td>\n      <td>0</td>\n      <td>ชมตอนนี้! Live : รายการ Selection เกาะติดเลือก...</td>\n      <td>อนาคตใหม่</td>\n      <td>ชมตอนนี้ live รายการ select เกาะติดเลือกตั้ง  ...</td>\n      <td>แนะนำแกนนำ และดาราของพรรค</td>\n      <td>0</td>\n    </tr>\n    <tr>\n      <th>785</th>\n      <td>Thanathorn_FWP</td>\n      <td>2019-03-05 11:58:38</td>\n      <td>0</td>\n      <td>0</td>\n      <td>คุณอยากถามอะไรกับ ธนาธร จึงรุ่งเรืองกิจ จากพรร...</td>\n      <td>อนาคตใหม่</td>\n      <td>คุณอยากถามอะไรกับ ธนาธร จึงรุ่งเรืองกิจ จากพรร...</td>\n      <td>ขาย ธนาธร</td>\n      <td>0</td>\n    </tr>\n    <tr>\n      <th>784</th>\n      <td>Thanathorn_FWP</td>\n      <td>2019-03-05 11:58:45</td>\n      <td>0</td>\n      <td>0</td>\n      <td>THE STANDARD DEBATE มิติใหม่ของการดีเบต โค้งสุ...</td>\n      <td>อนาคตใหม่</td>\n      <td>standard debat มิติใหม่ของการดีเบต โค้งสุดท้าย...</td>\n      <td>ขาย ธนาธร</td>\n      <td>0</td>\n    </tr>\n    <tr>\n      <th>59</th>\n      <td>FWPthailand</td>\n      <td>2019-03-07 13:16:43</td>\n      <td>0</td>\n      <td>0</td>\n      <td>ท่านสามารถติดตาม THE STANDARD Daily ประจำวันที...</td>\n      <td>อนาคตใหม่</td>\n      <td>ท่านสามารถติดตาม standard daili ประจำวันที่  ม...</td>\n      <td>ขาย ธนาธร</td>\n      <td>0</td>\n    </tr>\n  </tbody>\n</table>\n<p>258 rows × 9 columns</p>\n</div>"
     },
     "metadata": {}
    },
    {
     "output_type": "display_data",
     "data": {
      "text/plain": "'Frequency tweets by username'"
     },
     "metadata": {}
    },
    {
     "output_type": "display_data",
     "data": {
      "text/plain": "FWPthailand       130\nThanathorn_FWP     87\nSPiyabutr          38\nRangsimanRome       3\nName: Username, dtype: int64"
     },
     "metadata": {}
    },
    {
     "output_type": "display_data",
     "data": {
      "text/plain": "'See Text'"
     },
     "metadata": {}
    },
    {
     "output_type": "display_data",
     "data": {
      "text/plain": "                                                  Text  \\\n822  วันนี้มา #tucuball73 มีแต่คนทักผมว่า #ฟ้ารักพ่...   \n820  หลายคนถามผมว่าถ้าอยู่เขตนั้นเขตนี้จะต้องกาเบอร...   \n818  สำหรับคำถาม “ชอบพรรคอนาคตใหม่มาก แต่ที่แถวบ้าน...   \n765  ถึงทหารอาชีพและทหารเกณฑ์ทุกท่าน : ไม่มีใครสั่ง...   \n758  จากกรณีคลิปเสียงเมื่อคืน ผมขอขอบคุณทาง @Nation...   \n..                                                 ...   \n787  ปราศรัยที่ขอนแก่น ม่วนบ่ม่วน เบิ่งกันเอาเองเด้...   \n786  ชมตอนนี้! Live : รายการ Selection เกาะติดเลือก...   \n785  คุณอยากถามอะไรกับ ธนาธร จึงรุ่งเรืองกิจ จากพรร...   \n784  THE STANDARD DEBATE มิติใหม่ของการดีเบต โค้งสุ...   \n59   ท่านสามารถติดตาม THE STANDARD Daily ประจำวันที...   \n\n                             topic  Engagement  \n822                      ขาย ธนาธร      142135  \n820  บันทึกการเดินทางของลูกทีมพรรค      117723  \n818                  ขายฝันของพรรค       87239  \n765      แนะนำแกนนำ และดาราของพรรค       85480  \n758      แนะนำแกนนำ และดาราของพรรค       62607  \n..                             ...         ...  \n787                      ขาย ธนาธร           0  \n786      แนะนำแกนนำ และดาราของพรรค           0  \n785                      ขาย ธนาธร           0  \n784                      ขาย ธนาธร           0  \n59                       ขาย ธนาธร           0  \n\n[258 rows x 3 columns]",
      "text/html": "<div>\n<style scoped>\n    .dataframe tbody tr th:only-of-type {\n        vertical-align: middle;\n    }\n\n    .dataframe tbody tr th {\n        vertical-align: top;\n    }\n\n    .dataframe thead th {\n        text-align: right;\n    }\n</style>\n<table border=\"1\" class=\"dataframe\">\n  <thead>\n    <tr style=\"text-align: right;\">\n      <th></th>\n      <th>Text</th>\n      <th>topic</th>\n      <th>Engagement</th>\n    </tr>\n  </thead>\n  <tbody>\n    <tr>\n      <th>822</th>\n      <td>วันนี้มา #tucuball73 มีแต่คนทักผมว่า #ฟ้ารักพ่...</td>\n      <td>ขาย ธนาธร</td>\n      <td>142135</td>\n    </tr>\n    <tr>\n      <th>820</th>\n      <td>หลายคนถามผมว่าถ้าอยู่เขตนั้นเขตนี้จะต้องกาเบอร...</td>\n      <td>บันทึกการเดินทางของลูกทีมพรรค</td>\n      <td>117723</td>\n    </tr>\n    <tr>\n      <th>818</th>\n      <td>สำหรับคำถาม “ชอบพรรคอนาคตใหม่มาก แต่ที่แถวบ้าน...</td>\n      <td>ขายฝันของพรรค</td>\n      <td>87239</td>\n    </tr>\n    <tr>\n      <th>765</th>\n      <td>ถึงทหารอาชีพและทหารเกณฑ์ทุกท่าน : ไม่มีใครสั่ง...</td>\n      <td>แนะนำแกนนำ และดาราของพรรค</td>\n      <td>85480</td>\n    </tr>\n    <tr>\n      <th>758</th>\n      <td>จากกรณีคลิปเสียงเมื่อคืน ผมขอขอบคุณทาง @Nation...</td>\n      <td>แนะนำแกนนำ และดาราของพรรค</td>\n      <td>62607</td>\n    </tr>\n    <tr>\n      <th>...</th>\n      <td>...</td>\n      <td>...</td>\n      <td>...</td>\n    </tr>\n    <tr>\n      <th>787</th>\n      <td>ปราศรัยที่ขอนแก่น ม่วนบ่ม่วน เบิ่งกันเอาเองเด้...</td>\n      <td>ขาย ธนาธร</td>\n      <td>0</td>\n    </tr>\n    <tr>\n      <th>786</th>\n      <td>ชมตอนนี้! Live : รายการ Selection เกาะติดเลือก...</td>\n      <td>แนะนำแกนนำ และดาราของพรรค</td>\n      <td>0</td>\n    </tr>\n    <tr>\n      <th>785</th>\n      <td>คุณอยากถามอะไรกับ ธนาธร จึงรุ่งเรืองกิจ จากพรร...</td>\n      <td>ขาย ธนาธร</td>\n      <td>0</td>\n    </tr>\n    <tr>\n      <th>784</th>\n      <td>THE STANDARD DEBATE มิติใหม่ของการดีเบต โค้งสุ...</td>\n      <td>ขาย ธนาธร</td>\n      <td>0</td>\n    </tr>\n    <tr>\n      <th>59</th>\n      <td>ท่านสามารถติดตาม THE STANDARD Daily ประจำวันที...</td>\n      <td>ขาย ธนาธร</td>\n      <td>0</td>\n    </tr>\n  </tbody>\n</table>\n<p>258 rows × 3 columns</p>\n</div>"
     },
     "metadata": {}
    },
    {
     "output_type": "display_data",
     "data": {
      "text/plain": "'See topic'"
     },
     "metadata": {}
    },
    {
     "output_type": "display_data",
     "data": {
      "text/plain": "          Username                          topic  count  eng_sum  \\\n0   Thanathorn_FWP                  ขายฝันของพรรค     23   351691   \n1   Thanathorn_FWP  บันทึกการเดินทางของลูกทีมพรรค     14   266856   \n2   Thanathorn_FWP        นโยบายเศรษฐกิจและภาคใต้     19   232827   \n3   Thanathorn_FWP                      ขาย ธนาธร     14   231283   \n4   Thanathorn_FWP      แนะนำแกนนำ และดาราของพรรค     17   222176   \n5      FWPthailand                  ขายฝันของพรรค     29    52886   \n6      FWPthailand  บันทึกการเดินทางของลูกทีมพรรค     18    37589   \n7      FWPthailand        นโยบายเศรษฐกิจและภาคใต้     30    28156   \n8      FWPthailand      แนะนำแกนนำ และดาราของพรรค     22    24120   \n9      FWPthailand                      ขาย ธนาธร     31    20547   \n10       SPiyabutr  บันทึกการเดินทางของลูกทีมพรรค     36    14209   \n11       SPiyabutr      แนะนำแกนนำ และดาราของพรรค      2     3399   \n12   RangsimanRome                  ขายฝันของพรรค      1      248   \n13   RangsimanRome      แนะนำแกนนำ และดาราของพรรค      1      180   \n14   RangsimanRome  บันทึกการเดินทางของลูกทีมพรรค      1       73   \n\n        eng_mean  eng_max  \n0   15290.913043    87239  \n1   19061.142857   117723  \n2   12254.052632    61705  \n3   16520.214286   142135  \n4   13069.176471    85480  \n5    1823.655172    21359  \n6    2088.277778    13289  \n7     938.533333     6866  \n8    1096.363636     6296  \n9     662.806452     5372  \n10    394.694444     5146  \n11   1699.500000     1830  \n12    248.000000      248  \n13    180.000000      180  \n14     73.000000       73  ",
      "text/html": "<div>\n<style scoped>\n    .dataframe tbody tr th:only-of-type {\n        vertical-align: middle;\n    }\n\n    .dataframe tbody tr th {\n        vertical-align: top;\n    }\n\n    .dataframe thead th {\n        text-align: right;\n    }\n</style>\n<table border=\"1\" class=\"dataframe\">\n  <thead>\n    <tr style=\"text-align: right;\">\n      <th></th>\n      <th>Username</th>\n      <th>topic</th>\n      <th>count</th>\n      <th>eng_sum</th>\n      <th>eng_mean</th>\n      <th>eng_max</th>\n    </tr>\n  </thead>\n  <tbody>\n    <tr>\n      <th>0</th>\n      <td>Thanathorn_FWP</td>\n      <td>ขายฝันของพรรค</td>\n      <td>23</td>\n      <td>351691</td>\n      <td>15290.913043</td>\n      <td>87239</td>\n    </tr>\n    <tr>\n      <th>1</th>\n      <td>Thanathorn_FWP</td>\n      <td>บันทึกการเดินทางของลูกทีมพรรค</td>\n      <td>14</td>\n      <td>266856</td>\n      <td>19061.142857</td>\n      <td>117723</td>\n    </tr>\n    <tr>\n      <th>2</th>\n      <td>Thanathorn_FWP</td>\n      <td>นโยบายเศรษฐกิจและภาคใต้</td>\n      <td>19</td>\n      <td>232827</td>\n      <td>12254.052632</td>\n      <td>61705</td>\n    </tr>\n    <tr>\n      <th>3</th>\n      <td>Thanathorn_FWP</td>\n      <td>ขาย ธนาธร</td>\n      <td>14</td>\n      <td>231283</td>\n      <td>16520.214286</td>\n      <td>142135</td>\n    </tr>\n    <tr>\n      <th>4</th>\n      <td>Thanathorn_FWP</td>\n      <td>แนะนำแกนนำ และดาราของพรรค</td>\n      <td>17</td>\n      <td>222176</td>\n      <td>13069.176471</td>\n      <td>85480</td>\n    </tr>\n    <tr>\n      <th>5</th>\n      <td>FWPthailand</td>\n      <td>ขายฝันของพรรค</td>\n      <td>29</td>\n      <td>52886</td>\n      <td>1823.655172</td>\n      <td>21359</td>\n    </tr>\n    <tr>\n      <th>6</th>\n      <td>FWPthailand</td>\n      <td>บันทึกการเดินทางของลูกทีมพรรค</td>\n      <td>18</td>\n      <td>37589</td>\n      <td>2088.277778</td>\n      <td>13289</td>\n    </tr>\n    <tr>\n      <th>7</th>\n      <td>FWPthailand</td>\n      <td>นโยบายเศรษฐกิจและภาคใต้</td>\n      <td>30</td>\n      <td>28156</td>\n      <td>938.533333</td>\n      <td>6866</td>\n    </tr>\n    <tr>\n      <th>8</th>\n      <td>FWPthailand</td>\n      <td>แนะนำแกนนำ และดาราของพรรค</td>\n      <td>22</td>\n      <td>24120</td>\n      <td>1096.363636</td>\n      <td>6296</td>\n    </tr>\n    <tr>\n      <th>9</th>\n      <td>FWPthailand</td>\n      <td>ขาย ธนาธร</td>\n      <td>31</td>\n      <td>20547</td>\n      <td>662.806452</td>\n      <td>5372</td>\n    </tr>\n    <tr>\n      <th>10</th>\n      <td>SPiyabutr</td>\n      <td>บันทึกการเดินทางของลูกทีมพรรค</td>\n      <td>36</td>\n      <td>14209</td>\n      <td>394.694444</td>\n      <td>5146</td>\n    </tr>\n    <tr>\n      <th>11</th>\n      <td>SPiyabutr</td>\n      <td>แนะนำแกนนำ และดาราของพรรค</td>\n      <td>2</td>\n      <td>3399</td>\n      <td>1699.500000</td>\n      <td>1830</td>\n    </tr>\n    <tr>\n      <th>12</th>\n      <td>RangsimanRome</td>\n      <td>ขายฝันของพรรค</td>\n      <td>1</td>\n      <td>248</td>\n      <td>248.000000</td>\n      <td>248</td>\n    </tr>\n    <tr>\n      <th>13</th>\n      <td>RangsimanRome</td>\n      <td>แนะนำแกนนำ และดาราของพรรค</td>\n      <td>1</td>\n      <td>180</td>\n      <td>180.000000</td>\n      <td>180</td>\n    </tr>\n    <tr>\n      <th>14</th>\n      <td>RangsimanRome</td>\n      <td>บันทึกการเดินทางของลูกทีมพรรค</td>\n      <td>1</td>\n      <td>73</td>\n      <td>73.000000</td>\n      <td>73</td>\n    </tr>\n  </tbody>\n</table>\n</div>"
     },
     "metadata": {}
    },
    {
     "output_type": "display_data",
     "data": {
      "text/plain": "                           topic  count  eng_sum     eng_mean  eng_max\n0                  ขายฝันของพรรค     53   404825  7638.207547    87239\n1  บันทึกการเดินทางของลูกทีมพรรค     69   318727  4619.231884   117723\n2        นโยบายเศรษฐกิจและภาคใต้     49   260983  5326.183673    61705\n3                      ขาย ธนาธร     45   251830  5596.222222   142135\n4      แนะนำแกนนำ และดาราของพรรค     42   249875  5949.404762    85480",
      "text/html": "<div>\n<style scoped>\n    .dataframe tbody tr th:only-of-type {\n        vertical-align: middle;\n    }\n\n    .dataframe tbody tr th {\n        vertical-align: top;\n    }\n\n    .dataframe thead th {\n        text-align: right;\n    }\n</style>\n<table border=\"1\" class=\"dataframe\">\n  <thead>\n    <tr style=\"text-align: right;\">\n      <th></th>\n      <th>topic</th>\n      <th>count</th>\n      <th>eng_sum</th>\n      <th>eng_mean</th>\n      <th>eng_max</th>\n    </tr>\n  </thead>\n  <tbody>\n    <tr>\n      <th>0</th>\n      <td>ขายฝันของพรรค</td>\n      <td>53</td>\n      <td>404825</td>\n      <td>7638.207547</td>\n      <td>87239</td>\n    </tr>\n    <tr>\n      <th>1</th>\n      <td>บันทึกการเดินทางของลูกทีมพรรค</td>\n      <td>69</td>\n      <td>318727</td>\n      <td>4619.231884</td>\n      <td>117723</td>\n    </tr>\n    <tr>\n      <th>2</th>\n      <td>นโยบายเศรษฐกิจและภาคใต้</td>\n      <td>49</td>\n      <td>260983</td>\n      <td>5326.183673</td>\n      <td>61705</td>\n    </tr>\n    <tr>\n      <th>3</th>\n      <td>ขาย ธนาธร</td>\n      <td>45</td>\n      <td>251830</td>\n      <td>5596.222222</td>\n      <td>142135</td>\n    </tr>\n    <tr>\n      <th>4</th>\n      <td>แนะนำแกนนำ และดาราของพรรค</td>\n      <td>42</td>\n      <td>249875</td>\n      <td>5949.404762</td>\n      <td>85480</td>\n    </tr>\n  </tbody>\n</table>\n</div>"
     },
     "metadata": {}
    }
   ],
   "source": [
    "show_data(df_fwp)"
   ]
  },
  {
   "cell_type": "code",
   "execution_count": 30,
   "metadata": {},
   "outputs": [],
   "source": [
    "df_All = (df_act,df_chartthai,df_democrat,df_fwp,df_neweco,df_pt,df_pprp)\n",
    "p = ('act' ,'chartthai' ,'democrat' ,'fwp' ,'neweco' ,'pt' ,'pprp')"
   ]
  },
  {
   "cell_type": "code",
   "execution_count": 31,
   "metadata": {},
   "outputs": [
    {
     "output_type": "display_data",
     "data": {
      "text/plain": "'Overview'"
     },
     "metadata": {}
    },
    {
     "output_type": "display_data",
     "data": {
      "text/plain": "        Username            Datetime  Retweet count  Favorite count  \\\n443  actpartyorg 2019-01-23 02:58:23             16              33   \n442  actpartyorg 2019-01-23 12:18:24             14              28   \n429  actpartyorg 2019-01-29 06:27:25             10              31   \n421  actpartyorg 2019-02-01 12:28:38             13              25   \n427  actpartyorg 2019-01-30 05:30:28             11              24   \n441  actpartyorg 2019-01-24 02:05:54             10              24   \n435  actpartyorg 2019-01-26 07:43:25             10              22   \n431  actpartyorg 2019-01-28 03:49:19             10              22   \n433  actpartyorg 2019-01-27 11:49:13              7              21   \n434  actpartyorg 2019-01-26 13:19:18              7              17   \n416  actpartyorg 2019-02-02 11:14:37              8              16   \n430  actpartyorg 2019-01-28 11:23:56              7              16   \n432  actpartyorg 2019-01-27 14:50:25              7              16   \n436  actpartyorg 2019-01-25 10:16:12             10              12   \n426  actpartyorg 2019-01-30 07:20:49              6              15   \n422  actpartyorg 2019-02-01 06:28:14              8              10   \n419  actpartyorg 2019-02-02 06:16:40              6              10   \n424  actpartyorg 2019-01-31 10:36:56              3              12   \n423  actpartyorg 2019-01-31 12:36:41              4              11   \n417  actpartyorg 2019-02-02 06:18:16              0               0   \n428  actpartyorg 2019-01-30 04:55:27              0               0   \n425  actpartyorg 2019-01-30 08:03:39              0               0   \n437  actpartyorg 2019-01-25 05:12:11              0               0   \n438  actpartyorg 2019-01-24 10:46:42              0               0   \n439  actpartyorg 2019-01-24 10:46:38              0               0   \n440  actpartyorg 2019-01-24 09:36:55              0               0   \n418  actpartyorg 2019-02-02 06:17:20              0               0   \n420  actpartyorg 2019-02-01 13:36:05              0               0   \n\n                                                  Text                Party  \\\n443  ขอเชิญชวนพี่น้องประชาชนร่วมสร้างพรรคการเมืองขอ...  รวมพลังประชาชาติไทย   \n442  เท็นเยียร์ ไอเดียเก๋ไก๋ ...10 ปีเปลี่ยนไปเกิดพ...  รวมพลังประชาชาติไทย   \n429  ร้อยเอ็ดแล้ว! #เดินคารวะแผ่นดิน ข้ามฝั่งจากภาค...  รวมพลังประชาชาติไทย   \n421  ม.ร.ว.จัตุมงคล​ โสณกุล​ หัวหน้าพรรคและ ศ.ดร.​เ...  รวมพลังประชาชาติไทย   \n427  มหาสารคามแล้ว! #เดินคารวะแผ่นดิน ถึง จ.สารคาม ...  รวมพลังประชาชาติไทย   \n441  ประมวลภาพพรรค รปช.\\nจัด Workshop ติวเข้มการปรา...  รวมพลังประชาชาติไทย   \n435  นครสวรรค์แล้ว!  #เดินคารวะแผ่นดิน หาสมาขิกและแ...  รวมพลังประชาชาติไทย   \n431  เก็บตกบรรยากาศ #เดินคารวะแผ่นดิน จ.ชัยนาท ตั้ง...  รวมพลังประชาชาติไทย   \n433  ชัยนาทแล้ว! ฝ ชาวบ้านพ่อค้าแม่ขาย ต้อนรับลุงกำ...  รวมพลังประชาชาติไทย   \n434  อุทัยธานีแล้ว!  #เดินคารวะแผ่นดิน ชาวอุทัยธานี...  รวมพลังประชาชาติไทย   \n416  เก็บตกบรรยากาศ #เดินคารวะแผ่นดิน จ.อำนาจเจริญ ...  รวมพลังประชาชาติไทย   \n430  สุราษฎร์ฯ เข้าเป้า ตั้งสาขาครบทั้ง 6 เขตเลือกต...  รวมพลังประชาชาติไทย   \n432  เจ๊ะอีลย๊าส โตะตาหยง\\n\\n“รอยยิ้มจากมิตรภาพแห่ง...  รวมพลังประชาชาติไทย   \n436  เพชรบูรณ์แล้ว! #เดินคารวะแผ่นดิน ถึงเพชรบูรณ์แ...  รวมพลังประชาชาติไทย   \n426  ลุงกำนันป่วย! แต่ไม่หวั่น มุ่งหน้าเดินคารวะแผ่...  รวมพลังประชาชาติไทย   \n422  ยโสธรแล้ว! #เดินคารวะแผ่นดิน ถึงเมืองบั้งไฟยัก...  รวมพลังประชาชาติไทย   \n419  อำนาจเจริญแล้ว!  #เดินคารวะแผ่นดิน ถึง จ.อำนาจ...  รวมพลังประชาชาติไทย   \n424  กาฬสินธุ์ แล้ว!  #เดินคารวะแผ่นดิน ถึงเมืองน้ำ...  รวมพลังประชาชาติไทย   \n423  ชาวเมืองน้ำดำ  กาฬสินธุ์ต้อนรับคาราวานคารวะแผ่...  รวมพลังประชาชาติไทย   \n417  พรรคไม่ใหญ่แต่ใจใหญ่'รปช.'ปลุกคนธรรมดาพลิกโฉมก...  รวมพลังประชาชาติไทย   \n428  รปช.เปิดตัวนักเคลื่อนไหวภาคปชช.หวังปักธงจังหวั...  รวมพลังประชาชาติไทย   \n425  สมาชิกรปช.โวยสื่อดังบิดเบือน หาทิ้งพรรค-แกนนำซ...  รวมพลังประชาชาติไทย   \n437  “สุเทพ” นำว่าที่ผู้สมัคร ส.ส.พรรครปช. ลงพื้นที...  รวมพลังประชาชาติไทย   \n438  งานเข้า! บรรดาผู้สมัคร สส.หลายคนไหวตัวทันรีบไป...  รวมพลังประชาชาติไทย   \n439  เลือกตั้งครั้งนี้เงื่อนไขการสมัคร สส. คุณสมบัต...  รวมพลังประชาชาติไทย   \n440  เช็กที่นี่!สมัครส.ส.ต้องเตรียมเงินคนละกี่บาท-ห...  รวมพลังประชาชาติไทย   \n418  กรี๊ดลั่นตลาดรับ'กำนันสุเทพ'อำนาจเจริญแห่สมัคร...  รวมพลังประชาชาติไทย   \n420  กำลังใจล้นหลาม!ยโสธรต้อนรับ'กำนัน'นำ3ผู้สมัครส...  รวมพลังประชาชาติไทย   \n\n                                                 tweet  \\\n443  ขอเชิญชวนพี่น้องประชาชนร่วมสร้างพรรคการเมืองขอ...   \n442  เท็นเยียร์ ไอเดียเก๋ไก๋  ปีเปลี่ยนไปเกิดพรรคกา...   \n429  ร้อยเอ็ดแล้ว ข้ามฝั่งจากภาคเหนือตอนล่าง มาฝั่ง...   \n421  ม ร ว จัตุมงคล​ โสณกุล​ หัวหน้าพรรคและ ศ ดร ​เ...   \n427  มหาสารคามแล้ว ถึง จ สารคาม ชาวบ้านแห่ต้อนรับแล...   \n441  ประมวลภาพพรรค รปช จัด workshop ติวเข้มการปราศร...   \n435  นครสวรรค์แล้ว หาสมาขิกและแนะนำพรรคการเมืองของป...   \n431  เก็บตกบรรยากาศ จ ชัยนาท ตั้งแต่เมื่อวานตอนเย็น...   \n433  ชัยนาทแล้ว ฝ ชาวบ้านพ่อค้าแม่ขาย ต้อนรับลุงกำน...   \n434  อุทัยธานีแล้ว ชาวอุทัยธานี ต้อนรับลุงกำนันและท...   \n416                       เก็บตกบรรยากาศ จ อำนาจเจริญ    \n430  สุราษฎร์ฯ เข้าเป้า ตั้งสาขาครบทั้ง  เขตเลือกตั...   \n432  เจ๊ะอีลย๊าส โตะตาหยง “รอยยิ้มจากมิตรภาพแห่งลุ่...   \n436  เพชรบูรณ์แล้ว ถึงเพชรบูรณ์แล้ว หาสมาชิกและแนะน...   \n426  ลุงกำนันป่วย แต่ไม่หวั่น มุ่งหน้าเดินคารวะแผ่น...   \n422  ยโสธรแล้ว ถึงเมืองบั้งไฟยักษ์ พ่อค้าแม่ขายต้อน...   \n419  อำนาจเจริญแล้ว ถึง จ อำนาจเจริญ เดินพขปะหาสมาช...   \n424  กาฬสินธุ์ แล้ว ถึงเมืองน้ำดำ ลุงกำนันและว่าที่...   \n423  ชาวเมืองน้ำดำ กาฬสินธุ์ต้อนรับคาราวานคารวะแผ่น...   \n417  พรรคไม่ใหญ่แต่ใจใหญ่ รปช ปลุกคนธรรมดาพลิกโฉมกา...   \n428  รปช เปิดตัวนักเคลื่อนไหวภาคปชช หวังปักธงจังหวั...   \n425  สมาชิกรปช โวยสื่อดังบิดเบือน หาทิ้งพรรค แกนนำซ...   \n437  “สุเทพ” นำว่าที่ผู้สมัคร ส ส พรรครปช ลงพื้นที่...   \n438  งานเข้า บรรดาผู้สมัคร สส หลายคนไหวตัวทันรีบไปเ...   \n439  เลือกตั้งครั้งนี้เงื่อนไขการสมัคร สส คุณสมบัติ...   \n440  เช็กที่นี่ สมัครส ส ต้องเตรียมเงินคนละกี่บาท ห...   \n418  กรี๊ดลั่นตลาดรับ กำนันสุเทพ อำนาจเจริญแห่สมัคร...   \n420  กำลังใจล้นหลาม ยโสธรต้อนรับ กำนัน นำผู้สมัครส ...   \n\n                                          topic  Engagement  \n443              Campaign เดินคารวะแผ่นดิน กลาง          49  \n442  การหาเสียงใต้ อีสาน ปัญหาระหว่างการหาเสียง          42  \n429  การหาเสียงใต้ อีสาน ปัญหาระหว่างการหาเสียง          41  \n421              Campaign เดินคารวะแผ่นดิน กลาง          38  \n427                   ลุงกำนัน และการต้อนรับลุง          35  \n441                   ลุงกำนัน และการต้อนรับลุง          34  \n435      Campaign เดินคารวะแผ่นดิน เหนือตอนล่าง          32  \n431              Campaign เดินคารวะแผ่นดิน กลาง          32  \n433              Campaign เดินคารวะแผ่นดิน กลาง          28  \n434                               จำนวนผู้สมัคร          24  \n416              Campaign เดินคารวะแผ่นดิน กลาง          24  \n430                               จำนวนผู้สมัคร          23  \n432  การหาเสียงใต้ อีสาน ปัญหาระหว่างการหาเสียง          23  \n436      Campaign เดินคารวะแผ่นดิน เหนือตอนล่าง          22  \n426              Campaign เดินคารวะแผ่นดิน กลาง          21  \n422                   ลุงกำนัน และการต้อนรับลุง          18  \n419                   ลุงกำนัน และการต้อนรับลุง          16  \n424  การหาเสียงใต้ อีสาน ปัญหาระหว่างการหาเสียง          15  \n423  การหาเสียงใต้ อีสาน ปัญหาระหว่างการหาเสียง          15  \n417                   ลุงกำนัน และการต้อนรับลุง           0  \n428                   ลุงกำนัน และการต้อนรับลุง           0  \n425  การหาเสียงใต้ อีสาน ปัญหาระหว่างการหาเสียง           0  \n437  การหาเสียงใต้ อีสาน ปัญหาระหว่างการหาเสียง           0  \n438  การหาเสียงใต้ อีสาน ปัญหาระหว่างการหาเสียง           0  \n439                   ลุงกำนัน และการต้อนรับลุง           0  \n440      Campaign เดินคารวะแผ่นดิน เหนือตอนล่าง           0  \n418                   ลุงกำนัน และการต้อนรับลุง           0  \n420      Campaign เดินคารวะแผ่นดิน เหนือตอนล่าง           0  ",
      "text/html": "<div>\n<style scoped>\n    .dataframe tbody tr th:only-of-type {\n        vertical-align: middle;\n    }\n\n    .dataframe tbody tr th {\n        vertical-align: top;\n    }\n\n    .dataframe thead th {\n        text-align: right;\n    }\n</style>\n<table border=\"1\" class=\"dataframe\">\n  <thead>\n    <tr style=\"text-align: right;\">\n      <th></th>\n      <th>Username</th>\n      <th>Datetime</th>\n      <th>Retweet count</th>\n      <th>Favorite count</th>\n      <th>Text</th>\n      <th>Party</th>\n      <th>tweet</th>\n      <th>topic</th>\n      <th>Engagement</th>\n    </tr>\n  </thead>\n  <tbody>\n    <tr>\n      <th>443</th>\n      <td>actpartyorg</td>\n      <td>2019-01-23 02:58:23</td>\n      <td>16</td>\n      <td>33</td>\n      <td>ขอเชิญชวนพี่น้องประชาชนร่วมสร้างพรรคการเมืองขอ...</td>\n      <td>รวมพลังประชาชาติไทย</td>\n      <td>ขอเชิญชวนพี่น้องประชาชนร่วมสร้างพรรคการเมืองขอ...</td>\n      <td>Campaign เดินคารวะแผ่นดิน กลาง</td>\n      <td>49</td>\n    </tr>\n    <tr>\n      <th>442</th>\n      <td>actpartyorg</td>\n      <td>2019-01-23 12:18:24</td>\n      <td>14</td>\n      <td>28</td>\n      <td>เท็นเยียร์ ไอเดียเก๋ไก๋ ...10 ปีเปลี่ยนไปเกิดพ...</td>\n      <td>รวมพลังประชาชาติไทย</td>\n      <td>เท็นเยียร์ ไอเดียเก๋ไก๋  ปีเปลี่ยนไปเกิดพรรคกา...</td>\n      <td>การหาเสียงใต้ อีสาน ปัญหาระหว่างการหาเสียง</td>\n      <td>42</td>\n    </tr>\n    <tr>\n      <th>429</th>\n      <td>actpartyorg</td>\n      <td>2019-01-29 06:27:25</td>\n      <td>10</td>\n      <td>31</td>\n      <td>ร้อยเอ็ดแล้ว! #เดินคารวะแผ่นดิน ข้ามฝั่งจากภาค...</td>\n      <td>รวมพลังประชาชาติไทย</td>\n      <td>ร้อยเอ็ดแล้ว ข้ามฝั่งจากภาคเหนือตอนล่าง มาฝั่ง...</td>\n      <td>การหาเสียงใต้ อีสาน ปัญหาระหว่างการหาเสียง</td>\n      <td>41</td>\n    </tr>\n    <tr>\n      <th>421</th>\n      <td>actpartyorg</td>\n      <td>2019-02-01 12:28:38</td>\n      <td>13</td>\n      <td>25</td>\n      <td>ม.ร.ว.จัตุมงคล​ โสณกุล​ หัวหน้าพรรคและ ศ.ดร.​เ...</td>\n      <td>รวมพลังประชาชาติไทย</td>\n      <td>ม ร ว จัตุมงคล​ โสณกุล​ หัวหน้าพรรคและ ศ ดร ​เ...</td>\n      <td>Campaign เดินคารวะแผ่นดิน กลาง</td>\n      <td>38</td>\n    </tr>\n    <tr>\n      <th>427</th>\n      <td>actpartyorg</td>\n      <td>2019-01-30 05:30:28</td>\n      <td>11</td>\n      <td>24</td>\n      <td>มหาสารคามแล้ว! #เดินคารวะแผ่นดิน ถึง จ.สารคาม ...</td>\n      <td>รวมพลังประชาชาติไทย</td>\n      <td>มหาสารคามแล้ว ถึง จ สารคาม ชาวบ้านแห่ต้อนรับแล...</td>\n      <td>ลุงกำนัน และการต้อนรับลุง</td>\n      <td>35</td>\n    </tr>\n    <tr>\n      <th>441</th>\n      <td>actpartyorg</td>\n      <td>2019-01-24 02:05:54</td>\n      <td>10</td>\n      <td>24</td>\n      <td>ประมวลภาพพรรค รปช.\\nจัด Workshop ติวเข้มการปรา...</td>\n      <td>รวมพลังประชาชาติไทย</td>\n      <td>ประมวลภาพพรรค รปช จัด workshop ติวเข้มการปราศร...</td>\n      <td>ลุงกำนัน และการต้อนรับลุง</td>\n      <td>34</td>\n    </tr>\n    <tr>\n      <th>435</th>\n      <td>actpartyorg</td>\n      <td>2019-01-26 07:43:25</td>\n      <td>10</td>\n      <td>22</td>\n      <td>นครสวรรค์แล้ว!  #เดินคารวะแผ่นดิน หาสมาขิกและแ...</td>\n      <td>รวมพลังประชาชาติไทย</td>\n      <td>นครสวรรค์แล้ว หาสมาขิกและแนะนำพรรคการเมืองของป...</td>\n      <td>Campaign เดินคารวะแผ่นดิน เหนือตอนล่าง</td>\n      <td>32</td>\n    </tr>\n    <tr>\n      <th>431</th>\n      <td>actpartyorg</td>\n      <td>2019-01-28 03:49:19</td>\n      <td>10</td>\n      <td>22</td>\n      <td>เก็บตกบรรยากาศ #เดินคารวะแผ่นดิน จ.ชัยนาท ตั้ง...</td>\n      <td>รวมพลังประชาชาติไทย</td>\n      <td>เก็บตกบรรยากาศ จ ชัยนาท ตั้งแต่เมื่อวานตอนเย็น...</td>\n      <td>Campaign เดินคารวะแผ่นดิน กลาง</td>\n      <td>32</td>\n    </tr>\n    <tr>\n      <th>433</th>\n      <td>actpartyorg</td>\n      <td>2019-01-27 11:49:13</td>\n      <td>7</td>\n      <td>21</td>\n      <td>ชัยนาทแล้ว! ฝ ชาวบ้านพ่อค้าแม่ขาย ต้อนรับลุงกำ...</td>\n      <td>รวมพลังประชาชาติไทย</td>\n      <td>ชัยนาทแล้ว ฝ ชาวบ้านพ่อค้าแม่ขาย ต้อนรับลุงกำน...</td>\n      <td>Campaign เดินคารวะแผ่นดิน กลาง</td>\n      <td>28</td>\n    </tr>\n    <tr>\n      <th>434</th>\n      <td>actpartyorg</td>\n      <td>2019-01-26 13:19:18</td>\n      <td>7</td>\n      <td>17</td>\n      <td>อุทัยธานีแล้ว!  #เดินคารวะแผ่นดิน ชาวอุทัยธานี...</td>\n      <td>รวมพลังประชาชาติไทย</td>\n      <td>อุทัยธานีแล้ว ชาวอุทัยธานี ต้อนรับลุงกำนันและท...</td>\n      <td>จำนวนผู้สมัคร</td>\n      <td>24</td>\n    </tr>\n    <tr>\n      <th>416</th>\n      <td>actpartyorg</td>\n      <td>2019-02-02 11:14:37</td>\n      <td>8</td>\n      <td>16</td>\n      <td>เก็บตกบรรยากาศ #เดินคารวะแผ่นดิน จ.อำนาจเจริญ ...</td>\n      <td>รวมพลังประชาชาติไทย</td>\n      <td>เก็บตกบรรยากาศ จ อำนาจเจริญ</td>\n      <td>Campaign เดินคารวะแผ่นดิน กลาง</td>\n      <td>24</td>\n    </tr>\n    <tr>\n      <th>430</th>\n      <td>actpartyorg</td>\n      <td>2019-01-28 11:23:56</td>\n      <td>7</td>\n      <td>16</td>\n      <td>สุราษฎร์ฯ เข้าเป้า ตั้งสาขาครบทั้ง 6 เขตเลือกต...</td>\n      <td>รวมพลังประชาชาติไทย</td>\n      <td>สุราษฎร์ฯ เข้าเป้า ตั้งสาขาครบทั้ง  เขตเลือกตั...</td>\n      <td>จำนวนผู้สมัคร</td>\n      <td>23</td>\n    </tr>\n    <tr>\n      <th>432</th>\n      <td>actpartyorg</td>\n      <td>2019-01-27 14:50:25</td>\n      <td>7</td>\n      <td>16</td>\n      <td>เจ๊ะอีลย๊าส โตะตาหยง\\n\\n“รอยยิ้มจากมิตรภาพแห่ง...</td>\n      <td>รวมพลังประชาชาติไทย</td>\n      <td>เจ๊ะอีลย๊าส โตะตาหยง “รอยยิ้มจากมิตรภาพแห่งลุ่...</td>\n      <td>การหาเสียงใต้ อีสาน ปัญหาระหว่างการหาเสียง</td>\n      <td>23</td>\n    </tr>\n    <tr>\n      <th>436</th>\n      <td>actpartyorg</td>\n      <td>2019-01-25 10:16:12</td>\n      <td>10</td>\n      <td>12</td>\n      <td>เพชรบูรณ์แล้ว! #เดินคารวะแผ่นดิน ถึงเพชรบูรณ์แ...</td>\n      <td>รวมพลังประชาชาติไทย</td>\n      <td>เพชรบูรณ์แล้ว ถึงเพชรบูรณ์แล้ว หาสมาชิกและแนะน...</td>\n      <td>Campaign เดินคารวะแผ่นดิน เหนือตอนล่าง</td>\n      <td>22</td>\n    </tr>\n    <tr>\n      <th>426</th>\n      <td>actpartyorg</td>\n      <td>2019-01-30 07:20:49</td>\n      <td>6</td>\n      <td>15</td>\n      <td>ลุงกำนันป่วย! แต่ไม่หวั่น มุ่งหน้าเดินคารวะแผ่...</td>\n      <td>รวมพลังประชาชาติไทย</td>\n      <td>ลุงกำนันป่วย แต่ไม่หวั่น มุ่งหน้าเดินคารวะแผ่น...</td>\n      <td>Campaign เดินคารวะแผ่นดิน กลาง</td>\n      <td>21</td>\n    </tr>\n    <tr>\n      <th>422</th>\n      <td>actpartyorg</td>\n      <td>2019-02-01 06:28:14</td>\n      <td>8</td>\n      <td>10</td>\n      <td>ยโสธรแล้ว! #เดินคารวะแผ่นดิน ถึงเมืองบั้งไฟยัก...</td>\n      <td>รวมพลังประชาชาติไทย</td>\n      <td>ยโสธรแล้ว ถึงเมืองบั้งไฟยักษ์ พ่อค้าแม่ขายต้อน...</td>\n      <td>ลุงกำนัน และการต้อนรับลุง</td>\n      <td>18</td>\n    </tr>\n    <tr>\n      <th>419</th>\n      <td>actpartyorg</td>\n      <td>2019-02-02 06:16:40</td>\n      <td>6</td>\n      <td>10</td>\n      <td>อำนาจเจริญแล้ว!  #เดินคารวะแผ่นดิน ถึง จ.อำนาจ...</td>\n      <td>รวมพลังประชาชาติไทย</td>\n      <td>อำนาจเจริญแล้ว ถึง จ อำนาจเจริญ เดินพขปะหาสมาช...</td>\n      <td>ลุงกำนัน และการต้อนรับลุง</td>\n      <td>16</td>\n    </tr>\n    <tr>\n      <th>424</th>\n      <td>actpartyorg</td>\n      <td>2019-01-31 10:36:56</td>\n      <td>3</td>\n      <td>12</td>\n      <td>กาฬสินธุ์ แล้ว!  #เดินคารวะแผ่นดิน ถึงเมืองน้ำ...</td>\n      <td>รวมพลังประชาชาติไทย</td>\n      <td>กาฬสินธุ์ แล้ว ถึงเมืองน้ำดำ ลุงกำนันและว่าที่...</td>\n      <td>การหาเสียงใต้ อีสาน ปัญหาระหว่างการหาเสียง</td>\n      <td>15</td>\n    </tr>\n    <tr>\n      <th>423</th>\n      <td>actpartyorg</td>\n      <td>2019-01-31 12:36:41</td>\n      <td>4</td>\n      <td>11</td>\n      <td>ชาวเมืองน้ำดำ  กาฬสินธุ์ต้อนรับคาราวานคารวะแผ่...</td>\n      <td>รวมพลังประชาชาติไทย</td>\n      <td>ชาวเมืองน้ำดำ กาฬสินธุ์ต้อนรับคาราวานคารวะแผ่น...</td>\n      <td>การหาเสียงใต้ อีสาน ปัญหาระหว่างการหาเสียง</td>\n      <td>15</td>\n    </tr>\n    <tr>\n      <th>417</th>\n      <td>actpartyorg</td>\n      <td>2019-02-02 06:18:16</td>\n      <td>0</td>\n      <td>0</td>\n      <td>พรรคไม่ใหญ่แต่ใจใหญ่'รปช.'ปลุกคนธรรมดาพลิกโฉมก...</td>\n      <td>รวมพลังประชาชาติไทย</td>\n      <td>พรรคไม่ใหญ่แต่ใจใหญ่ รปช ปลุกคนธรรมดาพลิกโฉมกา...</td>\n      <td>ลุงกำนัน และการต้อนรับลุง</td>\n      <td>0</td>\n    </tr>\n    <tr>\n      <th>428</th>\n      <td>actpartyorg</td>\n      <td>2019-01-30 04:55:27</td>\n      <td>0</td>\n      <td>0</td>\n      <td>รปช.เปิดตัวนักเคลื่อนไหวภาคปชช.หวังปักธงจังหวั...</td>\n      <td>รวมพลังประชาชาติไทย</td>\n      <td>รปช เปิดตัวนักเคลื่อนไหวภาคปชช หวังปักธงจังหวั...</td>\n      <td>ลุงกำนัน และการต้อนรับลุง</td>\n      <td>0</td>\n    </tr>\n    <tr>\n      <th>425</th>\n      <td>actpartyorg</td>\n      <td>2019-01-30 08:03:39</td>\n      <td>0</td>\n      <td>0</td>\n      <td>สมาชิกรปช.โวยสื่อดังบิดเบือน หาทิ้งพรรค-แกนนำซ...</td>\n      <td>รวมพลังประชาชาติไทย</td>\n      <td>สมาชิกรปช โวยสื่อดังบิดเบือน หาทิ้งพรรค แกนนำซ...</td>\n      <td>การหาเสียงใต้ อีสาน ปัญหาระหว่างการหาเสียง</td>\n      <td>0</td>\n    </tr>\n    <tr>\n      <th>437</th>\n      <td>actpartyorg</td>\n      <td>2019-01-25 05:12:11</td>\n      <td>0</td>\n      <td>0</td>\n      <td>“สุเทพ” นำว่าที่ผู้สมัคร ส.ส.พรรครปช. ลงพื้นที...</td>\n      <td>รวมพลังประชาชาติไทย</td>\n      <td>“สุเทพ” นำว่าที่ผู้สมัคร ส ส พรรครปช ลงพื้นที่...</td>\n      <td>การหาเสียงใต้ อีสาน ปัญหาระหว่างการหาเสียง</td>\n      <td>0</td>\n    </tr>\n    <tr>\n      <th>438</th>\n      <td>actpartyorg</td>\n      <td>2019-01-24 10:46:42</td>\n      <td>0</td>\n      <td>0</td>\n      <td>งานเข้า! บรรดาผู้สมัคร สส.หลายคนไหวตัวทันรีบไป...</td>\n      <td>รวมพลังประชาชาติไทย</td>\n      <td>งานเข้า บรรดาผู้สมัคร สส หลายคนไหวตัวทันรีบไปเ...</td>\n      <td>การหาเสียงใต้ อีสาน ปัญหาระหว่างการหาเสียง</td>\n      <td>0</td>\n    </tr>\n    <tr>\n      <th>439</th>\n      <td>actpartyorg</td>\n      <td>2019-01-24 10:46:38</td>\n      <td>0</td>\n      <td>0</td>\n      <td>เลือกตั้งครั้งนี้เงื่อนไขการสมัคร สส. คุณสมบัต...</td>\n      <td>รวมพลังประชาชาติไทย</td>\n      <td>เลือกตั้งครั้งนี้เงื่อนไขการสมัคร สส คุณสมบัติ...</td>\n      <td>ลุงกำนัน และการต้อนรับลุง</td>\n      <td>0</td>\n    </tr>\n    <tr>\n      <th>440</th>\n      <td>actpartyorg</td>\n      <td>2019-01-24 09:36:55</td>\n      <td>0</td>\n      <td>0</td>\n      <td>เช็กที่นี่!สมัครส.ส.ต้องเตรียมเงินคนละกี่บาท-ห...</td>\n      <td>รวมพลังประชาชาติไทย</td>\n      <td>เช็กที่นี่ สมัครส ส ต้องเตรียมเงินคนละกี่บาท ห...</td>\n      <td>Campaign เดินคารวะแผ่นดิน เหนือตอนล่าง</td>\n      <td>0</td>\n    </tr>\n    <tr>\n      <th>418</th>\n      <td>actpartyorg</td>\n      <td>2019-02-02 06:17:20</td>\n      <td>0</td>\n      <td>0</td>\n      <td>กรี๊ดลั่นตลาดรับ'กำนันสุเทพ'อำนาจเจริญแห่สมัคร...</td>\n      <td>รวมพลังประชาชาติไทย</td>\n      <td>กรี๊ดลั่นตลาดรับ กำนันสุเทพ อำนาจเจริญแห่สมัคร...</td>\n      <td>ลุงกำนัน และการต้อนรับลุง</td>\n      <td>0</td>\n    </tr>\n    <tr>\n      <th>420</th>\n      <td>actpartyorg</td>\n      <td>2019-02-01 13:36:05</td>\n      <td>0</td>\n      <td>0</td>\n      <td>กำลังใจล้นหลาม!ยโสธรต้อนรับ'กำนัน'นำ3ผู้สมัครส...</td>\n      <td>รวมพลังประชาชาติไทย</td>\n      <td>กำลังใจล้นหลาม ยโสธรต้อนรับ กำนัน นำผู้สมัครส ...</td>\n      <td>Campaign เดินคารวะแผ่นดิน เหนือตอนล่าง</td>\n      <td>0</td>\n    </tr>\n  </tbody>\n</table>\n</div>"
     },
     "metadata": {}
    },
    {
     "output_type": "display_data",
     "data": {
      "text/plain": "'Frequency tweets by username'"
     },
     "metadata": {}
    },
    {
     "output_type": "display_data",
     "data": {
      "text/plain": "actpartyorg    28\nName: Username, dtype: int64"
     },
     "metadata": {}
    },
    {
     "output_type": "display_data",
     "data": {
      "text/plain": "'See Text'"
     },
     "metadata": {}
    },
    {
     "output_type": "display_data",
     "data": {
      "text/plain": "                                                  Text  \\\n443  ขอเชิญชวนพี่น้องประชาชนร่วมสร้างพรรคการเมืองขอ...   \n442  เท็นเยียร์ ไอเดียเก๋ไก๋ ...10 ปีเปลี่ยนไปเกิดพ...   \n429  ร้อยเอ็ดแล้ว! #เดินคารวะแผ่นดิน ข้ามฝั่งจากภาค...   \n421  ม.ร.ว.จัตุมงคล​ โสณกุล​ หัวหน้าพรรคและ ศ.ดร.​เ...   \n427  มหาสารคามแล้ว! #เดินคารวะแผ่นดิน ถึง จ.สารคาม ...   \n441  ประมวลภาพพรรค รปช.\\nจัด Workshop ติวเข้มการปรา...   \n435  นครสวรรค์แล้ว!  #เดินคารวะแผ่นดิน หาสมาขิกและแ...   \n431  เก็บตกบรรยากาศ #เดินคารวะแผ่นดิน จ.ชัยนาท ตั้ง...   \n433  ชัยนาทแล้ว! ฝ ชาวบ้านพ่อค้าแม่ขาย ต้อนรับลุงกำ...   \n434  อุทัยธานีแล้ว!  #เดินคารวะแผ่นดิน ชาวอุทัยธานี...   \n416  เก็บตกบรรยากาศ #เดินคารวะแผ่นดิน จ.อำนาจเจริญ ...   \n430  สุราษฎร์ฯ เข้าเป้า ตั้งสาขาครบทั้ง 6 เขตเลือกต...   \n432  เจ๊ะอีลย๊าส โตะตาหยง\\n\\n“รอยยิ้มจากมิตรภาพแห่ง...   \n436  เพชรบูรณ์แล้ว! #เดินคารวะแผ่นดิน ถึงเพชรบูรณ์แ...   \n426  ลุงกำนันป่วย! แต่ไม่หวั่น มุ่งหน้าเดินคารวะแผ่...   \n422  ยโสธรแล้ว! #เดินคารวะแผ่นดิน ถึงเมืองบั้งไฟยัก...   \n419  อำนาจเจริญแล้ว!  #เดินคารวะแผ่นดิน ถึง จ.อำนาจ...   \n424  กาฬสินธุ์ แล้ว!  #เดินคารวะแผ่นดิน ถึงเมืองน้ำ...   \n423  ชาวเมืองน้ำดำ  กาฬสินธุ์ต้อนรับคาราวานคารวะแผ่...   \n417  พรรคไม่ใหญ่แต่ใจใหญ่'รปช.'ปลุกคนธรรมดาพลิกโฉมก...   \n428  รปช.เปิดตัวนักเคลื่อนไหวภาคปชช.หวังปักธงจังหวั...   \n425  สมาชิกรปช.โวยสื่อดังบิดเบือน หาทิ้งพรรค-แกนนำซ...   \n437  “สุเทพ” นำว่าที่ผู้สมัคร ส.ส.พรรครปช. ลงพื้นที...   \n438  งานเข้า! บรรดาผู้สมัคร สส.หลายคนไหวตัวทันรีบไป...   \n439  เลือกตั้งครั้งนี้เงื่อนไขการสมัคร สส. คุณสมบัต...   \n440  เช็กที่นี่!สมัครส.ส.ต้องเตรียมเงินคนละกี่บาท-ห...   \n418  กรี๊ดลั่นตลาดรับ'กำนันสุเทพ'อำนาจเจริญแห่สมัคร...   \n420  กำลังใจล้นหลาม!ยโสธรต้อนรับ'กำนัน'นำ3ผู้สมัครส...   \n\n                                          topic  Engagement  \n443              Campaign เดินคารวะแผ่นดิน กลาง          49  \n442  การหาเสียงใต้ อีสาน ปัญหาระหว่างการหาเสียง          42  \n429  การหาเสียงใต้ อีสาน ปัญหาระหว่างการหาเสียง          41  \n421              Campaign เดินคารวะแผ่นดิน กลาง          38  \n427                   ลุงกำนัน และการต้อนรับลุง          35  \n441                   ลุงกำนัน และการต้อนรับลุง          34  \n435      Campaign เดินคารวะแผ่นดิน เหนือตอนล่าง          32  \n431              Campaign เดินคารวะแผ่นดิน กลาง          32  \n433              Campaign เดินคารวะแผ่นดิน กลาง          28  \n434                               จำนวนผู้สมัคร          24  \n416              Campaign เดินคารวะแผ่นดิน กลาง          24  \n430                               จำนวนผู้สมัคร          23  \n432  การหาเสียงใต้ อีสาน ปัญหาระหว่างการหาเสียง          23  \n436      Campaign เดินคารวะแผ่นดิน เหนือตอนล่าง          22  \n426              Campaign เดินคารวะแผ่นดิน กลาง          21  \n422                   ลุงกำนัน และการต้อนรับลุง          18  \n419                   ลุงกำนัน และการต้อนรับลุง          16  \n424  การหาเสียงใต้ อีสาน ปัญหาระหว่างการหาเสียง          15  \n423  การหาเสียงใต้ อีสาน ปัญหาระหว่างการหาเสียง          15  \n417                   ลุงกำนัน และการต้อนรับลุง           0  \n428                   ลุงกำนัน และการต้อนรับลุง           0  \n425  การหาเสียงใต้ อีสาน ปัญหาระหว่างการหาเสียง           0  \n437  การหาเสียงใต้ อีสาน ปัญหาระหว่างการหาเสียง           0  \n438  การหาเสียงใต้ อีสาน ปัญหาระหว่างการหาเสียง           0  \n439                   ลุงกำนัน และการต้อนรับลุง           0  \n440      Campaign เดินคารวะแผ่นดิน เหนือตอนล่าง           0  \n418                   ลุงกำนัน และการต้อนรับลุง           0  \n420      Campaign เดินคารวะแผ่นดิน เหนือตอนล่าง           0  ",
      "text/html": "<div>\n<style scoped>\n    .dataframe tbody tr th:only-of-type {\n        vertical-align: middle;\n    }\n\n    .dataframe tbody tr th {\n        vertical-align: top;\n    }\n\n    .dataframe thead th {\n        text-align: right;\n    }\n</style>\n<table border=\"1\" class=\"dataframe\">\n  <thead>\n    <tr style=\"text-align: right;\">\n      <th></th>\n      <th>Text</th>\n      <th>topic</th>\n      <th>Engagement</th>\n    </tr>\n  </thead>\n  <tbody>\n    <tr>\n      <th>443</th>\n      <td>ขอเชิญชวนพี่น้องประชาชนร่วมสร้างพรรคการเมืองขอ...</td>\n      <td>Campaign เดินคารวะแผ่นดิน กลาง</td>\n      <td>49</td>\n    </tr>\n    <tr>\n      <th>442</th>\n      <td>เท็นเยียร์ ไอเดียเก๋ไก๋ ...10 ปีเปลี่ยนไปเกิดพ...</td>\n      <td>การหาเสียงใต้ อีสาน ปัญหาระหว่างการหาเสียง</td>\n      <td>42</td>\n    </tr>\n    <tr>\n      <th>429</th>\n      <td>ร้อยเอ็ดแล้ว! #เดินคารวะแผ่นดิน ข้ามฝั่งจากภาค...</td>\n      <td>การหาเสียงใต้ อีสาน ปัญหาระหว่างการหาเสียง</td>\n      <td>41</td>\n    </tr>\n    <tr>\n      <th>421</th>\n      <td>ม.ร.ว.จัตุมงคล​ โสณกุล​ หัวหน้าพรรคและ ศ.ดร.​เ...</td>\n      <td>Campaign เดินคารวะแผ่นดิน กลาง</td>\n      <td>38</td>\n    </tr>\n    <tr>\n      <th>427</th>\n      <td>มหาสารคามแล้ว! #เดินคารวะแผ่นดิน ถึง จ.สารคาม ...</td>\n      <td>ลุงกำนัน และการต้อนรับลุง</td>\n      <td>35</td>\n    </tr>\n    <tr>\n      <th>441</th>\n      <td>ประมวลภาพพรรค รปช.\\nจัด Workshop ติวเข้มการปรา...</td>\n      <td>ลุงกำนัน และการต้อนรับลุง</td>\n      <td>34</td>\n    </tr>\n    <tr>\n      <th>435</th>\n      <td>นครสวรรค์แล้ว!  #เดินคารวะแผ่นดิน หาสมาขิกและแ...</td>\n      <td>Campaign เดินคารวะแผ่นดิน เหนือตอนล่าง</td>\n      <td>32</td>\n    </tr>\n    <tr>\n      <th>431</th>\n      <td>เก็บตกบรรยากาศ #เดินคารวะแผ่นดิน จ.ชัยนาท ตั้ง...</td>\n      <td>Campaign เดินคารวะแผ่นดิน กลาง</td>\n      <td>32</td>\n    </tr>\n    <tr>\n      <th>433</th>\n      <td>ชัยนาทแล้ว! ฝ ชาวบ้านพ่อค้าแม่ขาย ต้อนรับลุงกำ...</td>\n      <td>Campaign เดินคารวะแผ่นดิน กลาง</td>\n      <td>28</td>\n    </tr>\n    <tr>\n      <th>434</th>\n      <td>อุทัยธานีแล้ว!  #เดินคารวะแผ่นดิน ชาวอุทัยธานี...</td>\n      <td>จำนวนผู้สมัคร</td>\n      <td>24</td>\n    </tr>\n    <tr>\n      <th>416</th>\n      <td>เก็บตกบรรยากาศ #เดินคารวะแผ่นดิน จ.อำนาจเจริญ ...</td>\n      <td>Campaign เดินคารวะแผ่นดิน กลาง</td>\n      <td>24</td>\n    </tr>\n    <tr>\n      <th>430</th>\n      <td>สุราษฎร์ฯ เข้าเป้า ตั้งสาขาครบทั้ง 6 เขตเลือกต...</td>\n      <td>จำนวนผู้สมัคร</td>\n      <td>23</td>\n    </tr>\n    <tr>\n      <th>432</th>\n      <td>เจ๊ะอีลย๊าส โตะตาหยง\\n\\n“รอยยิ้มจากมิตรภาพแห่ง...</td>\n      <td>การหาเสียงใต้ อีสาน ปัญหาระหว่างการหาเสียง</td>\n      <td>23</td>\n    </tr>\n    <tr>\n      <th>436</th>\n      <td>เพชรบูรณ์แล้ว! #เดินคารวะแผ่นดิน ถึงเพชรบูรณ์แ...</td>\n      <td>Campaign เดินคารวะแผ่นดิน เหนือตอนล่าง</td>\n      <td>22</td>\n    </tr>\n    <tr>\n      <th>426</th>\n      <td>ลุงกำนันป่วย! แต่ไม่หวั่น มุ่งหน้าเดินคารวะแผ่...</td>\n      <td>Campaign เดินคารวะแผ่นดิน กลาง</td>\n      <td>21</td>\n    </tr>\n    <tr>\n      <th>422</th>\n      <td>ยโสธรแล้ว! #เดินคารวะแผ่นดิน ถึงเมืองบั้งไฟยัก...</td>\n      <td>ลุงกำนัน และการต้อนรับลุง</td>\n      <td>18</td>\n    </tr>\n    <tr>\n      <th>419</th>\n      <td>อำนาจเจริญแล้ว!  #เดินคารวะแผ่นดิน ถึง จ.อำนาจ...</td>\n      <td>ลุงกำนัน และการต้อนรับลุง</td>\n      <td>16</td>\n    </tr>\n    <tr>\n      <th>424</th>\n      <td>กาฬสินธุ์ แล้ว!  #เดินคารวะแผ่นดิน ถึงเมืองน้ำ...</td>\n      <td>การหาเสียงใต้ อีสาน ปัญหาระหว่างการหาเสียง</td>\n      <td>15</td>\n    </tr>\n    <tr>\n      <th>423</th>\n      <td>ชาวเมืองน้ำดำ  กาฬสินธุ์ต้อนรับคาราวานคารวะแผ่...</td>\n      <td>การหาเสียงใต้ อีสาน ปัญหาระหว่างการหาเสียง</td>\n      <td>15</td>\n    </tr>\n    <tr>\n      <th>417</th>\n      <td>พรรคไม่ใหญ่แต่ใจใหญ่'รปช.'ปลุกคนธรรมดาพลิกโฉมก...</td>\n      <td>ลุงกำนัน และการต้อนรับลุง</td>\n      <td>0</td>\n    </tr>\n    <tr>\n      <th>428</th>\n      <td>รปช.เปิดตัวนักเคลื่อนไหวภาคปชช.หวังปักธงจังหวั...</td>\n      <td>ลุงกำนัน และการต้อนรับลุง</td>\n      <td>0</td>\n    </tr>\n    <tr>\n      <th>425</th>\n      <td>สมาชิกรปช.โวยสื่อดังบิดเบือน หาทิ้งพรรค-แกนนำซ...</td>\n      <td>การหาเสียงใต้ อีสาน ปัญหาระหว่างการหาเสียง</td>\n      <td>0</td>\n    </tr>\n    <tr>\n      <th>437</th>\n      <td>“สุเทพ” นำว่าที่ผู้สมัคร ส.ส.พรรครปช. ลงพื้นที...</td>\n      <td>การหาเสียงใต้ อีสาน ปัญหาระหว่างการหาเสียง</td>\n      <td>0</td>\n    </tr>\n    <tr>\n      <th>438</th>\n      <td>งานเข้า! บรรดาผู้สมัคร สส.หลายคนไหวตัวทันรีบไป...</td>\n      <td>การหาเสียงใต้ อีสาน ปัญหาระหว่างการหาเสียง</td>\n      <td>0</td>\n    </tr>\n    <tr>\n      <th>439</th>\n      <td>เลือกตั้งครั้งนี้เงื่อนไขการสมัคร สส. คุณสมบัต...</td>\n      <td>ลุงกำนัน และการต้อนรับลุง</td>\n      <td>0</td>\n    </tr>\n    <tr>\n      <th>440</th>\n      <td>เช็กที่นี่!สมัครส.ส.ต้องเตรียมเงินคนละกี่บาท-ห...</td>\n      <td>Campaign เดินคารวะแผ่นดิน เหนือตอนล่าง</td>\n      <td>0</td>\n    </tr>\n    <tr>\n      <th>418</th>\n      <td>กรี๊ดลั่นตลาดรับ'กำนันสุเทพ'อำนาจเจริญแห่สมัคร...</td>\n      <td>ลุงกำนัน และการต้อนรับลุง</td>\n      <td>0</td>\n    </tr>\n    <tr>\n      <th>420</th>\n      <td>กำลังใจล้นหลาม!ยโสธรต้อนรับ'กำนัน'นำ3ผู้สมัครส...</td>\n      <td>Campaign เดินคารวะแผ่นดิน เหนือตอนล่าง</td>\n      <td>0</td>\n    </tr>\n  </tbody>\n</table>\n</div>"
     },
     "metadata": {}
    },
    {
     "output_type": "display_data",
     "data": {
      "text/plain": "'See topic'"
     },
     "metadata": {}
    },
    {
     "output_type": "display_data",
     "data": {
      "text/plain": "      Username                                       topic  count  eng_sum  \\\n0  actpartyorg              Campaign เดินคารวะแผ่นดิน กลาง      6      192   \n1  actpartyorg  การหาเสียงใต้ อีสาน ปัญหาระหว่างการหาเสียง      8      136   \n2  actpartyorg                   ลุงกำนัน และการต้อนรับลุง      8      103   \n3  actpartyorg      Campaign เดินคารวะแผ่นดิน เหนือตอนล่าง      4       54   \n4  actpartyorg                               จำนวนผู้สมัคร      2       47   \n\n   eng_mean  eng_max  \n0    32.000       49  \n1    17.000       42  \n2    12.875       35  \n3    13.500       32  \n4    23.500       24  ",
      "text/html": "<div>\n<style scoped>\n    .dataframe tbody tr th:only-of-type {\n        vertical-align: middle;\n    }\n\n    .dataframe tbody tr th {\n        vertical-align: top;\n    }\n\n    .dataframe thead th {\n        text-align: right;\n    }\n</style>\n<table border=\"1\" class=\"dataframe\">\n  <thead>\n    <tr style=\"text-align: right;\">\n      <th></th>\n      <th>Username</th>\n      <th>topic</th>\n      <th>count</th>\n      <th>eng_sum</th>\n      <th>eng_mean</th>\n      <th>eng_max</th>\n    </tr>\n  </thead>\n  <tbody>\n    <tr>\n      <th>0</th>\n      <td>actpartyorg</td>\n      <td>Campaign เดินคารวะแผ่นดิน กลาง</td>\n      <td>6</td>\n      <td>192</td>\n      <td>32.000</td>\n      <td>49</td>\n    </tr>\n    <tr>\n      <th>1</th>\n      <td>actpartyorg</td>\n      <td>การหาเสียงใต้ อีสาน ปัญหาระหว่างการหาเสียง</td>\n      <td>8</td>\n      <td>136</td>\n      <td>17.000</td>\n      <td>42</td>\n    </tr>\n    <tr>\n      <th>2</th>\n      <td>actpartyorg</td>\n      <td>ลุงกำนัน และการต้อนรับลุง</td>\n      <td>8</td>\n      <td>103</td>\n      <td>12.875</td>\n      <td>35</td>\n    </tr>\n    <tr>\n      <th>3</th>\n      <td>actpartyorg</td>\n      <td>Campaign เดินคารวะแผ่นดิน เหนือตอนล่าง</td>\n      <td>4</td>\n      <td>54</td>\n      <td>13.500</td>\n      <td>32</td>\n    </tr>\n    <tr>\n      <th>4</th>\n      <td>actpartyorg</td>\n      <td>จำนวนผู้สมัคร</td>\n      <td>2</td>\n      <td>47</td>\n      <td>23.500</td>\n      <td>24</td>\n    </tr>\n  </tbody>\n</table>\n</div>"
     },
     "metadata": {}
    },
    {
     "output_type": "display_data",
     "data": {
      "text/plain": "                                        topic  count  eng_sum  eng_mean  \\\n0              Campaign เดินคารวะแผ่นดิน กลาง      6      192    32.000   \n1  การหาเสียงใต้ อีสาน ปัญหาระหว่างการหาเสียง      8      136    17.000   \n2                   ลุงกำนัน และการต้อนรับลุง      8      103    12.875   \n3      Campaign เดินคารวะแผ่นดิน เหนือตอนล่าง      4       54    13.500   \n4                               จำนวนผู้สมัคร      2       47    23.500   \n\n   eng_max  \n0       49  \n1       42  \n2       35  \n3       32  \n4       24  ",
      "text/html": "<div>\n<style scoped>\n    .dataframe tbody tr th:only-of-type {\n        vertical-align: middle;\n    }\n\n    .dataframe tbody tr th {\n        vertical-align: top;\n    }\n\n    .dataframe thead th {\n        text-align: right;\n    }\n</style>\n<table border=\"1\" class=\"dataframe\">\n  <thead>\n    <tr style=\"text-align: right;\">\n      <th></th>\n      <th>topic</th>\n      <th>count</th>\n      <th>eng_sum</th>\n      <th>eng_mean</th>\n      <th>eng_max</th>\n    </tr>\n  </thead>\n  <tbody>\n    <tr>\n      <th>0</th>\n      <td>Campaign เดินคารวะแผ่นดิน กลาง</td>\n      <td>6</td>\n      <td>192</td>\n      <td>32.000</td>\n      <td>49</td>\n    </tr>\n    <tr>\n      <th>1</th>\n      <td>การหาเสียงใต้ อีสาน ปัญหาระหว่างการหาเสียง</td>\n      <td>8</td>\n      <td>136</td>\n      <td>17.000</td>\n      <td>42</td>\n    </tr>\n    <tr>\n      <th>2</th>\n      <td>ลุงกำนัน และการต้อนรับลุง</td>\n      <td>8</td>\n      <td>103</td>\n      <td>12.875</td>\n      <td>35</td>\n    </tr>\n    <tr>\n      <th>3</th>\n      <td>Campaign เดินคารวะแผ่นดิน เหนือตอนล่าง</td>\n      <td>4</td>\n      <td>54</td>\n      <td>13.500</td>\n      <td>32</td>\n    </tr>\n    <tr>\n      <th>4</th>\n      <td>จำนวนผู้สมัคร</td>\n      <td>2</td>\n      <td>47</td>\n      <td>23.500</td>\n      <td>24</td>\n    </tr>\n  </tbody>\n</table>\n</div>"
     },
     "metadata": {}
    },
    {
     "output_type": "display_data",
     "data": {
      "text/plain": "None"
     },
     "metadata": {}
    },
    {
     "output_type": "display_data",
     "data": {
      "text/plain": "'Overview'"
     },
     "metadata": {}
    },
    {
     "output_type": "display_data",
     "data": {
      "text/plain": "        Username            Datetime  Retweet count  Favorite count  \\\n466  ChartthaiPT 2019-02-11 04:55:43              1               4   \n463  ChartthaiPT 2019-02-20 08:59:43              1               4   \n469  ChartthaiPT 2019-02-04 12:24:45              2               2   \n446  ChartthaiPT 2019-03-20 07:08:22              0               3   \n458  ChartthaiPT 2019-02-28 07:34:59              0               2   \n459  ChartthaiPT 2019-02-24 10:33:11              0               2   \n447  ChartthaiPT 2019-03-19 05:49:08              0               2   \n451  ChartthaiPT 2019-03-13 07:06:47              1               1   \n464  ChartthaiPT 2019-02-18 11:22:34              0               2   \n445  ChartthaiPT 2019-03-22 10:29:56              1               1   \n471  ChartthaiPT 2019-01-23 03:43:15              0               1   \n468  ChartthaiPT 2019-02-04 14:01:17              0               1   \n467  ChartthaiPT 2019-02-11 04:43:33              0               1   \n465  ChartthaiPT 2019-02-12 04:11:47              0               1   \n460  ChartthaiPT 2019-02-22 07:57:11              0               1   \n444  ChartthaiPT 2019-03-23 05:46:00              0               1   \n457  ChartthaiPT 2019-02-28 07:35:48              0               1   \n456  ChartthaiPT 2019-02-28 09:15:35              0               1   \n453  ChartthaiPT 2019-03-11 03:09:21              0               1   \n450  ChartthaiPT 2019-03-14 03:17:07              0               1   \n449  ChartthaiPT 2019-03-16 06:55:28              0               1   \n448  ChartthaiPT 2019-03-18 08:51:49              0               1   \n461  ChartthaiPT 2019-02-22 04:19:45              0               0   \n462  ChartthaiPT 2019-02-22 03:04:55              0               0   \n455  ChartthaiPT 2019-03-06 08:31:16              0               0   \n454  ChartthaiPT 2019-03-10 11:56:29              0               0   \n452  ChartthaiPT 2019-03-12 05:15:07              0               0   \n470  ChartthaiPT 2019-01-30 05:51:20              0               0   \n472  ChartthaiPT 2019-01-23 03:01:37              0               0   \n\n                                                  Text         Party  \\\n466  ทีมบริหารพรรคชาติไทยพัฒนา นำโดยคุณหนูนา กัญจนา...  ชาติไทยพัฒนา   \n463  พบกับ ดร.เฟิร์ส ทัศน์ลักษณ์ ปัตตพงศ์ภัช รองเลข...  ชาติไทยพัฒนา   \n469  \"วราวุธ ศิลปอาชา\"ตอบคำถาม นโยบายการแก้ไขปัญหาฝ...  ชาติไทยพัฒนา   \n446  คุณกัญจนา ศิลปอาชา หัวหน้าพรรค ลงพื้นที่ จ.เพช...  ชาติไทยพัฒนา   \n458  เมื่อเช้านี้ คุณกัญจนา ศิลปอาชา และคณะพรรคชาติ...  ชาติไทยพัฒนา   \n459  บรรยากาศการปราศรัย ณ ศูนย์กสิกรรมธรรมชาติน้ำเพ...  ชาติไทยพัฒนา   \n447  เช้าวันอากาศแจ่มใส ท้องฟ้าเป็นใจ คุณกัญจนา ศิล...  ชาติไทยพัฒนา   \n451  เวลา 12.30 น. ที่ผ่านมา คุณกัญจนา ศิลปอาชา หัว...  ชาติไทยพัฒนา   \n464  พบกับ คุณท็อป วราวุธ ศิลปอาชา ในรายการดีเบต เล...  ชาติไทยพัฒนา   \n445  หาเสียงที่สุดท้ายก่อนเลือกตั้ง ที่ จ.สุพรรณบุร...  ชาติไทยพัฒนา   \n471  เปิดใจ \"หนูนา\" \\nพร้อมสู้ศึกเลือกตั้งพรรคชาติไ...  ชาติไทยพัฒนา   \n468  หมายเลขผู้สมัครพรรคชาติไทยพัฒนา อัพเดรต 4 ก.พ....  ชาติไทยพัฒนา   \n467  คณะกรรมการบริหารพรรคชาติไทยพัฒนา ลงพื้นที่ปราศ...  ชาติไทยพัฒนา   \n465  เช้านี้ คุณกัญจนา หัวหน้าพรรคชาติไทยพัฒนา และค...  ชาติไทยพัฒนา   \n460  บรรยากาศการปราศรัย ณ ตลาดศรีนคร จ.นครสวรรค์ เต...  ชาติไทยพัฒนา   \n444  ประกาศพรรคชาติไทยพัฒนา\\n                 ตาม พ...  ชาติไทยพัฒนา   \n457  คุณกัญจนา ในระหว่างเดินพบปะเหล่าบรรดาพ่อค้าแม่...  ชาติไทยพัฒนา   \n456  บ่ายนี้ คุณกัญจนา และคณะพรรคชาติไทยพัฒนา เดินท...  ชาติไทยพัฒนา   \n453  เช้านี้ คุณกัญจนา ศิลปอาชา หัวหน้าพรรค คุณวราว...  ชาติไทยพัฒนา   \n450  เช้าวันนี้ที่สุพรรณบุรี คุณกัญจนา ศิลปอาชา หัว...  ชาติไทยพัฒนา   \n449  เช้านี้ คุณวราวุธ ศิลปอาชา ประธานกรรมการนโยบาย...  ชาติไทยพัฒนา   \n448  เมื่อเช้านี้ ที่พรรคชาติไทยพัฒนา คุณนิกร จำนง ...  ชาติไทยพัฒนา   \n461  คุณกัญจนา คุณวราวุธ และคุณนิกร พร้อมคณะพรรคชาต...  ชาติไทยพัฒนา   \n462  วันนี้ เวลา 10:00 น. คุณกัญจนา ศิลปอาชา พร้อมส...  ชาติไทยพัฒนา   \n455  เช้านี้  คุณกัญจนา หัวหน้าพรรค นำทีมลงพื้นพี่ ...  ชาติไทยพัฒนา   \n454  วราวุธ ศิลปอาชา ประธานคณะกรรมการนโยบายและยุทธศ...  ชาติไทยพัฒนา   \n452  เมื่อวานนี้ที่จันทบุรี คุณกัญจนา ศิลปอาชา หัวห...  ชาติไทยพัฒนา   \n470  ถอดรหัสแท็กติก ชพท. ลุยศึกเลือกตั้ง | 30 ม.ค.6...  ชาติไทยพัฒนา   \n472  ชทพ.คึก! รอสรุปผู้สมัคร\\nส.ส. ‘หนูนา’เตรียมลุย...  ชาติไทยพัฒนา   \n\n                                                 tweet  \\\n466  ทีมบริหารพรรคชาติไทยพัฒนา นำโดยคุณหนูนา กัญจนา...   \n463  พบกับ ดร เฟิร์ส ทัศน์ลักษณ์ ปัตตพงศ์ภัช รองเลข...   \n469   วราวุธ ศิลปอาชา ตอบคำถาม นโยบายการแก้ไขปัญหาฝ...   \n446  คุณกัญจนา ศิลปอาชา หัวหน้าพรรค ลงพื้นที่ จ เพช...   \n458  เมื่อเช้านี้ คุณกัญจนา ศิลปอาชา และคณะพรรคชาติ...   \n459  บรรยากาศการปราศรัย ณ ศูนย์กสิกรรมธรรมชาติน้ำเพ...   \n447  เช้าวันอากาศแจ่มใส ท้องฟ้าเป็นใจ คุณกัญจนา ศิล...   \n451  เวลา   น ที่ผ่านมา คุณกัญจนา ศิลปอาชา หัวหน้าพ...   \n464  พบกับ คุณท็อป วราวุธ ศิลปอาชา ในรายการดีเบต เล...   \n445  หาเสียงที่สุดท้ายก่อนเลือกตั้ง ที่ จ สุพรรณบุร...   \n471  เปิดใจ หนูนา พร้อมสู้ศึกเลือกตั้งพรรคชาติไทยพั...   \n468     หมายเลขผู้สมัครพรรคชาติไทยพัฒนา อัพเดรต  ก พ     \n467  คณะกรรมการบริหารพรรคชาติไทยพัฒนา ลงพื้นที่ปราศ...   \n465  เช้านี้ คุณกัญจนา หัวหน้าพรรคชาติไทยพัฒนา และค...   \n460  บรรยากาศการปราศรัย ณ ตลาดศรีนคร จ นครสวรรค์ เต...   \n444  ประกาศพรรคชาติไทยพัฒนา ตาม พรป ว่าด้วยการเลือก...   \n457  คุณกัญจนา ในระหว่างเดินพบปะเหล่าบรรดาพ่อค้าแม่...   \n456  บ่ายนี้ คุณกัญจนา และคณะพรรคชาติไทยพัฒนา เดินท...   \n453  เช้านี้ คุณกัญจนา ศิลปอาชา หัวหน้าพรรค คุณวราว...   \n450  เช้าวันนี้ที่สุพรรณบุรี คุณกัญจนา ศิลปอาชา หัว...   \n449  เช้านี้ คุณวราวุธ ศิลปอาชา ประธานกรรมการนโยบาย...   \n448  เมื่อเช้านี้ ที่พรรคชาติไทยพัฒนา คุณนิกร จำนง ...   \n461  คุณกัญจนา คุณวราวุธ และคุณนิกร พร้อมคณะพรรคชาต...   \n462  วันนี้ เวลา   น คุณกัญจนา ศิลปอาชา พร้อมสมาชิก...   \n455  เช้านี้ คุณกัญจนา หัวหน้าพรรค นำทีมลงพื้นพี่ เ...   \n454  วราวุธ ศิลปอาชา ประธานคณะกรรมการนโยบายและยุทธศ...   \n452  เมื่อวานนี้ที่จันทบุรี คุณกัญจนา ศิลปอาชา หัวห...   \n470  ถอดรหัสแท็กติก ชพท ลุยศึกเลือกตั้ง  ม ค  เจาะล...   \n472  ชทพ คึก รอสรุปผู้สมัคร ส ส ‘หนูนา’เตรียมลุยปัก...   \n\n                            topic  Engagement  \n466      update ความนิยมผู้นำพรรค           5  \n463           การออกสื่อ + debate           5  \n469           การปราศรัย + นโยบาย           4  \n446            ขายตระกูล ศิลปอาชา           3  \n458            ขายตระกูล ศิลปอาชา           2  \n459           การปราศรัย + นโยบาย           2  \n447           การปราศรัย + นโยบาย           2  \n451            ขายตระกูล ศิลปอาชา           2  \n464           การออกสื่อ + debate           2  \n445            ขายตระกูล ศิลปอาชา           2  \n471      update ความนิยมผู้นำพรรค           1  \n468            ขายตระกูล ศิลปอาชา           1  \n467           การปราศรัย + นโยบาย           1  \n465  update ความเคลื่อนไหวของพรรค           1  \n460           การออกสื่อ + debate           1  \n444  update ความเคลื่อนไหวของพรรค           1  \n457      update ความนิยมผู้นำพรรค           1  \n456           การออกสื่อ + debate           1  \n453            ขายตระกูล ศิลปอาชา           1  \n450            ขายตระกูล ศิลปอาชา           1  \n449            ขายตระกูล ศิลปอาชา           1  \n448      update ความนิยมผู้นำพรรค           1  \n461  update ความเคลื่อนไหวของพรรค           0  \n462  update ความเคลื่อนไหวของพรรค           0  \n455      update ความนิยมผู้นำพรรค           0  \n454           การปราศรัย + นโยบาย           0  \n452            ขายตระกูล ศิลปอาชา           0  \n470  update ความเคลื่อนไหวของพรรค           0  \n472            ขายตระกูล ศิลปอาชา           0  ",
      "text/html": "<div>\n<style scoped>\n    .dataframe tbody tr th:only-of-type {\n        vertical-align: middle;\n    }\n\n    .dataframe tbody tr th {\n        vertical-align: top;\n    }\n\n    .dataframe thead th {\n        text-align: right;\n    }\n</style>\n<table border=\"1\" class=\"dataframe\">\n  <thead>\n    <tr style=\"text-align: right;\">\n      <th></th>\n      <th>Username</th>\n      <th>Datetime</th>\n      <th>Retweet count</th>\n      <th>Favorite count</th>\n      <th>Text</th>\n      <th>Party</th>\n      <th>tweet</th>\n      <th>topic</th>\n      <th>Engagement</th>\n    </tr>\n  </thead>\n  <tbody>\n    <tr>\n      <th>466</th>\n      <td>ChartthaiPT</td>\n      <td>2019-02-11 04:55:43</td>\n      <td>1</td>\n      <td>4</td>\n      <td>ทีมบริหารพรรคชาติไทยพัฒนา นำโดยคุณหนูนา กัญจนา...</td>\n      <td>ชาติไทยพัฒนา</td>\n      <td>ทีมบริหารพรรคชาติไทยพัฒนา นำโดยคุณหนูนา กัญจนา...</td>\n      <td>update ความนิยมผู้นำพรรค</td>\n      <td>5</td>\n    </tr>\n    <tr>\n      <th>463</th>\n      <td>ChartthaiPT</td>\n      <td>2019-02-20 08:59:43</td>\n      <td>1</td>\n      <td>4</td>\n      <td>พบกับ ดร.เฟิร์ส ทัศน์ลักษณ์ ปัตตพงศ์ภัช รองเลข...</td>\n      <td>ชาติไทยพัฒนา</td>\n      <td>พบกับ ดร เฟิร์ส ทัศน์ลักษณ์ ปัตตพงศ์ภัช รองเลข...</td>\n      <td>การออกสื่อ + debate</td>\n      <td>5</td>\n    </tr>\n    <tr>\n      <th>469</th>\n      <td>ChartthaiPT</td>\n      <td>2019-02-04 12:24:45</td>\n      <td>2</td>\n      <td>2</td>\n      <td>\"วราวุธ ศิลปอาชา\"ตอบคำถาม นโยบายการแก้ไขปัญหาฝ...</td>\n      <td>ชาติไทยพัฒนา</td>\n      <td>วราวุธ ศิลปอาชา ตอบคำถาม นโยบายการแก้ไขปัญหาฝ...</td>\n      <td>การปราศรัย + นโยบาย</td>\n      <td>4</td>\n    </tr>\n    <tr>\n      <th>446</th>\n      <td>ChartthaiPT</td>\n      <td>2019-03-20 07:08:22</td>\n      <td>0</td>\n      <td>3</td>\n      <td>คุณกัญจนา ศิลปอาชา หัวหน้าพรรค ลงพื้นที่ จ.เพช...</td>\n      <td>ชาติไทยพัฒนา</td>\n      <td>คุณกัญจนา ศิลปอาชา หัวหน้าพรรค ลงพื้นที่ จ เพช...</td>\n      <td>ขายตระกูล ศิลปอาชา</td>\n      <td>3</td>\n    </tr>\n    <tr>\n      <th>458</th>\n      <td>ChartthaiPT</td>\n      <td>2019-02-28 07:34:59</td>\n      <td>0</td>\n      <td>2</td>\n      <td>เมื่อเช้านี้ คุณกัญจนา ศิลปอาชา และคณะพรรคชาติ...</td>\n      <td>ชาติไทยพัฒนา</td>\n      <td>เมื่อเช้านี้ คุณกัญจนา ศิลปอาชา และคณะพรรคชาติ...</td>\n      <td>ขายตระกูล ศิลปอาชา</td>\n      <td>2</td>\n    </tr>\n    <tr>\n      <th>459</th>\n      <td>ChartthaiPT</td>\n      <td>2019-02-24 10:33:11</td>\n      <td>0</td>\n      <td>2</td>\n      <td>บรรยากาศการปราศรัย ณ ศูนย์กสิกรรมธรรมชาติน้ำเพ...</td>\n      <td>ชาติไทยพัฒนา</td>\n      <td>บรรยากาศการปราศรัย ณ ศูนย์กสิกรรมธรรมชาติน้ำเพ...</td>\n      <td>การปราศรัย + นโยบาย</td>\n      <td>2</td>\n    </tr>\n    <tr>\n      <th>447</th>\n      <td>ChartthaiPT</td>\n      <td>2019-03-19 05:49:08</td>\n      <td>0</td>\n      <td>2</td>\n      <td>เช้าวันอากาศแจ่มใส ท้องฟ้าเป็นใจ คุณกัญจนา ศิล...</td>\n      <td>ชาติไทยพัฒนา</td>\n      <td>เช้าวันอากาศแจ่มใส ท้องฟ้าเป็นใจ คุณกัญจนา ศิล...</td>\n      <td>การปราศรัย + นโยบาย</td>\n      <td>2</td>\n    </tr>\n    <tr>\n      <th>451</th>\n      <td>ChartthaiPT</td>\n      <td>2019-03-13 07:06:47</td>\n      <td>1</td>\n      <td>1</td>\n      <td>เวลา 12.30 น. ที่ผ่านมา คุณกัญจนา ศิลปอาชา หัว...</td>\n      <td>ชาติไทยพัฒนา</td>\n      <td>เวลา   น ที่ผ่านมา คุณกัญจนา ศิลปอาชา หัวหน้าพ...</td>\n      <td>ขายตระกูล ศิลปอาชา</td>\n      <td>2</td>\n    </tr>\n    <tr>\n      <th>464</th>\n      <td>ChartthaiPT</td>\n      <td>2019-02-18 11:22:34</td>\n      <td>0</td>\n      <td>2</td>\n      <td>พบกับ คุณท็อป วราวุธ ศิลปอาชา ในรายการดีเบต เล...</td>\n      <td>ชาติไทยพัฒนา</td>\n      <td>พบกับ คุณท็อป วราวุธ ศิลปอาชา ในรายการดีเบต เล...</td>\n      <td>การออกสื่อ + debate</td>\n      <td>2</td>\n    </tr>\n    <tr>\n      <th>445</th>\n      <td>ChartthaiPT</td>\n      <td>2019-03-22 10:29:56</td>\n      <td>1</td>\n      <td>1</td>\n      <td>หาเสียงที่สุดท้ายก่อนเลือกตั้ง ที่ จ.สุพรรณบุร...</td>\n      <td>ชาติไทยพัฒนา</td>\n      <td>หาเสียงที่สุดท้ายก่อนเลือกตั้ง ที่ จ สุพรรณบุร...</td>\n      <td>ขายตระกูล ศิลปอาชา</td>\n      <td>2</td>\n    </tr>\n    <tr>\n      <th>471</th>\n      <td>ChartthaiPT</td>\n      <td>2019-01-23 03:43:15</td>\n      <td>0</td>\n      <td>1</td>\n      <td>เปิดใจ \"หนูนา\" \\nพร้อมสู้ศึกเลือกตั้งพรรคชาติไ...</td>\n      <td>ชาติไทยพัฒนา</td>\n      <td>เปิดใจ หนูนา พร้อมสู้ศึกเลือกตั้งพรรคชาติไทยพั...</td>\n      <td>update ความนิยมผู้นำพรรค</td>\n      <td>1</td>\n    </tr>\n    <tr>\n      <th>468</th>\n      <td>ChartthaiPT</td>\n      <td>2019-02-04 14:01:17</td>\n      <td>0</td>\n      <td>1</td>\n      <td>หมายเลขผู้สมัครพรรคชาติไทยพัฒนา อัพเดรต 4 ก.พ....</td>\n      <td>ชาติไทยพัฒนา</td>\n      <td>หมายเลขผู้สมัครพรรคชาติไทยพัฒนา อัพเดรต  ก พ</td>\n      <td>ขายตระกูล ศิลปอาชา</td>\n      <td>1</td>\n    </tr>\n    <tr>\n      <th>467</th>\n      <td>ChartthaiPT</td>\n      <td>2019-02-11 04:43:33</td>\n      <td>0</td>\n      <td>1</td>\n      <td>คณะกรรมการบริหารพรรคชาติไทยพัฒนา ลงพื้นที่ปราศ...</td>\n      <td>ชาติไทยพัฒนา</td>\n      <td>คณะกรรมการบริหารพรรคชาติไทยพัฒนา ลงพื้นที่ปราศ...</td>\n      <td>การปราศรัย + นโยบาย</td>\n      <td>1</td>\n    </tr>\n    <tr>\n      <th>465</th>\n      <td>ChartthaiPT</td>\n      <td>2019-02-12 04:11:47</td>\n      <td>0</td>\n      <td>1</td>\n      <td>เช้านี้ คุณกัญจนา หัวหน้าพรรคชาติไทยพัฒนา และค...</td>\n      <td>ชาติไทยพัฒนา</td>\n      <td>เช้านี้ คุณกัญจนา หัวหน้าพรรคชาติไทยพัฒนา และค...</td>\n      <td>update ความเคลื่อนไหวของพรรค</td>\n      <td>1</td>\n    </tr>\n    <tr>\n      <th>460</th>\n      <td>ChartthaiPT</td>\n      <td>2019-02-22 07:57:11</td>\n      <td>0</td>\n      <td>1</td>\n      <td>บรรยากาศการปราศรัย ณ ตลาดศรีนคร จ.นครสวรรค์ เต...</td>\n      <td>ชาติไทยพัฒนา</td>\n      <td>บรรยากาศการปราศรัย ณ ตลาดศรีนคร จ นครสวรรค์ เต...</td>\n      <td>การออกสื่อ + debate</td>\n      <td>1</td>\n    </tr>\n    <tr>\n      <th>444</th>\n      <td>ChartthaiPT</td>\n      <td>2019-03-23 05:46:00</td>\n      <td>0</td>\n      <td>1</td>\n      <td>ประกาศพรรคชาติไทยพัฒนา\\n                 ตาม พ...</td>\n      <td>ชาติไทยพัฒนา</td>\n      <td>ประกาศพรรคชาติไทยพัฒนา ตาม พรป ว่าด้วยการเลือก...</td>\n      <td>update ความเคลื่อนไหวของพรรค</td>\n      <td>1</td>\n    </tr>\n    <tr>\n      <th>457</th>\n      <td>ChartthaiPT</td>\n      <td>2019-02-28 07:35:48</td>\n      <td>0</td>\n      <td>1</td>\n      <td>คุณกัญจนา ในระหว่างเดินพบปะเหล่าบรรดาพ่อค้าแม่...</td>\n      <td>ชาติไทยพัฒนา</td>\n      <td>คุณกัญจนา ในระหว่างเดินพบปะเหล่าบรรดาพ่อค้าแม่...</td>\n      <td>update ความนิยมผู้นำพรรค</td>\n      <td>1</td>\n    </tr>\n    <tr>\n      <th>456</th>\n      <td>ChartthaiPT</td>\n      <td>2019-02-28 09:15:35</td>\n      <td>0</td>\n      <td>1</td>\n      <td>บ่ายนี้ คุณกัญจนา และคณะพรรคชาติไทยพัฒนา เดินท...</td>\n      <td>ชาติไทยพัฒนา</td>\n      <td>บ่ายนี้ คุณกัญจนา และคณะพรรคชาติไทยพัฒนา เดินท...</td>\n      <td>การออกสื่อ + debate</td>\n      <td>1</td>\n    </tr>\n    <tr>\n      <th>453</th>\n      <td>ChartthaiPT</td>\n      <td>2019-03-11 03:09:21</td>\n      <td>0</td>\n      <td>1</td>\n      <td>เช้านี้ คุณกัญจนา ศิลปอาชา หัวหน้าพรรค คุณวราว...</td>\n      <td>ชาติไทยพัฒนา</td>\n      <td>เช้านี้ คุณกัญจนา ศิลปอาชา หัวหน้าพรรค คุณวราว...</td>\n      <td>ขายตระกูล ศิลปอาชา</td>\n      <td>1</td>\n    </tr>\n    <tr>\n      <th>450</th>\n      <td>ChartthaiPT</td>\n      <td>2019-03-14 03:17:07</td>\n      <td>0</td>\n      <td>1</td>\n      <td>เช้าวันนี้ที่สุพรรณบุรี คุณกัญจนา ศิลปอาชา หัว...</td>\n      <td>ชาติไทยพัฒนา</td>\n      <td>เช้าวันนี้ที่สุพรรณบุรี คุณกัญจนา ศิลปอาชา หัว...</td>\n      <td>ขายตระกูล ศิลปอาชา</td>\n      <td>1</td>\n    </tr>\n    <tr>\n      <th>449</th>\n      <td>ChartthaiPT</td>\n      <td>2019-03-16 06:55:28</td>\n      <td>0</td>\n      <td>1</td>\n      <td>เช้านี้ คุณวราวุธ ศิลปอาชา ประธานกรรมการนโยบาย...</td>\n      <td>ชาติไทยพัฒนา</td>\n      <td>เช้านี้ คุณวราวุธ ศิลปอาชา ประธานกรรมการนโยบาย...</td>\n      <td>ขายตระกูล ศิลปอาชา</td>\n      <td>1</td>\n    </tr>\n    <tr>\n      <th>448</th>\n      <td>ChartthaiPT</td>\n      <td>2019-03-18 08:51:49</td>\n      <td>0</td>\n      <td>1</td>\n      <td>เมื่อเช้านี้ ที่พรรคชาติไทยพัฒนา คุณนิกร จำนง ...</td>\n      <td>ชาติไทยพัฒนา</td>\n      <td>เมื่อเช้านี้ ที่พรรคชาติไทยพัฒนา คุณนิกร จำนง ...</td>\n      <td>update ความนิยมผู้นำพรรค</td>\n      <td>1</td>\n    </tr>\n    <tr>\n      <th>461</th>\n      <td>ChartthaiPT</td>\n      <td>2019-02-22 04:19:45</td>\n      <td>0</td>\n      <td>0</td>\n      <td>คุณกัญจนา คุณวราวุธ และคุณนิกร พร้อมคณะพรรคชาต...</td>\n      <td>ชาติไทยพัฒนา</td>\n      <td>คุณกัญจนา คุณวราวุธ และคุณนิกร พร้อมคณะพรรคชาต...</td>\n      <td>update ความเคลื่อนไหวของพรรค</td>\n      <td>0</td>\n    </tr>\n    <tr>\n      <th>462</th>\n      <td>ChartthaiPT</td>\n      <td>2019-02-22 03:04:55</td>\n      <td>0</td>\n      <td>0</td>\n      <td>วันนี้ เวลา 10:00 น. คุณกัญจนา ศิลปอาชา พร้อมส...</td>\n      <td>ชาติไทยพัฒนา</td>\n      <td>วันนี้ เวลา   น คุณกัญจนา ศิลปอาชา พร้อมสมาชิก...</td>\n      <td>update ความเคลื่อนไหวของพรรค</td>\n      <td>0</td>\n    </tr>\n    <tr>\n      <th>455</th>\n      <td>ChartthaiPT</td>\n      <td>2019-03-06 08:31:16</td>\n      <td>0</td>\n      <td>0</td>\n      <td>เช้านี้  คุณกัญจนา หัวหน้าพรรค นำทีมลงพื้นพี่ ...</td>\n      <td>ชาติไทยพัฒนา</td>\n      <td>เช้านี้ คุณกัญจนา หัวหน้าพรรค นำทีมลงพื้นพี่ เ...</td>\n      <td>update ความนิยมผู้นำพรรค</td>\n      <td>0</td>\n    </tr>\n    <tr>\n      <th>454</th>\n      <td>ChartthaiPT</td>\n      <td>2019-03-10 11:56:29</td>\n      <td>0</td>\n      <td>0</td>\n      <td>วราวุธ ศิลปอาชา ประธานคณะกรรมการนโยบายและยุทธศ...</td>\n      <td>ชาติไทยพัฒนา</td>\n      <td>วราวุธ ศิลปอาชา ประธานคณะกรรมการนโยบายและยุทธศ...</td>\n      <td>การปราศรัย + นโยบาย</td>\n      <td>0</td>\n    </tr>\n    <tr>\n      <th>452</th>\n      <td>ChartthaiPT</td>\n      <td>2019-03-12 05:15:07</td>\n      <td>0</td>\n      <td>0</td>\n      <td>เมื่อวานนี้ที่จันทบุรี คุณกัญจนา ศิลปอาชา หัวห...</td>\n      <td>ชาติไทยพัฒนา</td>\n      <td>เมื่อวานนี้ที่จันทบุรี คุณกัญจนา ศิลปอาชา หัวห...</td>\n      <td>ขายตระกูล ศิลปอาชา</td>\n      <td>0</td>\n    </tr>\n    <tr>\n      <th>470</th>\n      <td>ChartthaiPT</td>\n      <td>2019-01-30 05:51:20</td>\n      <td>0</td>\n      <td>0</td>\n      <td>ถอดรหัสแท็กติก ชพท. ลุยศึกเลือกตั้ง | 30 ม.ค.6...</td>\n      <td>ชาติไทยพัฒนา</td>\n      <td>ถอดรหัสแท็กติก ชพท ลุยศึกเลือกตั้ง  ม ค  เจาะล...</td>\n      <td>update ความเคลื่อนไหวของพรรค</td>\n      <td>0</td>\n    </tr>\n    <tr>\n      <th>472</th>\n      <td>ChartthaiPT</td>\n      <td>2019-01-23 03:01:37</td>\n      <td>0</td>\n      <td>0</td>\n      <td>ชทพ.คึก! รอสรุปผู้สมัคร\\nส.ส. ‘หนูนา’เตรียมลุย...</td>\n      <td>ชาติไทยพัฒนา</td>\n      <td>ชทพ คึก รอสรุปผู้สมัคร ส ส ‘หนูนา’เตรียมลุยปัก...</td>\n      <td>ขายตระกูล ศิลปอาชา</td>\n      <td>0</td>\n    </tr>\n  </tbody>\n</table>\n</div>"
     },
     "metadata": {}
    },
    {
     "output_type": "display_data",
     "data": {
      "text/plain": "'Frequency tweets by username'"
     },
     "metadata": {}
    },
    {
     "output_type": "display_data",
     "data": {
      "text/plain": "ChartthaiPT    29\nName: Username, dtype: int64"
     },
     "metadata": {}
    },
    {
     "output_type": "display_data",
     "data": {
      "text/plain": "'See Text'"
     },
     "metadata": {}
    },
    {
     "output_type": "display_data",
     "data": {
      "text/plain": "                                                  Text  \\\n466  ทีมบริหารพรรคชาติไทยพัฒนา นำโดยคุณหนูนา กัญจนา...   \n463  พบกับ ดร.เฟิร์ส ทัศน์ลักษณ์ ปัตตพงศ์ภัช รองเลข...   \n469  \"วราวุธ ศิลปอาชา\"ตอบคำถาม นโยบายการแก้ไขปัญหาฝ...   \n446  คุณกัญจนา ศิลปอาชา หัวหน้าพรรค ลงพื้นที่ จ.เพช...   \n458  เมื่อเช้านี้ คุณกัญจนา ศิลปอาชา และคณะพรรคชาติ...   \n459  บรรยากาศการปราศรัย ณ ศูนย์กสิกรรมธรรมชาติน้ำเพ...   \n447  เช้าวันอากาศแจ่มใส ท้องฟ้าเป็นใจ คุณกัญจนา ศิล...   \n451  เวลา 12.30 น. ที่ผ่านมา คุณกัญจนา ศิลปอาชา หัว...   \n464  พบกับ คุณท็อป วราวุธ ศิลปอาชา ในรายการดีเบต เล...   \n445  หาเสียงที่สุดท้ายก่อนเลือกตั้ง ที่ จ.สุพรรณบุร...   \n471  เปิดใจ \"หนูนา\" \\nพร้อมสู้ศึกเลือกตั้งพรรคชาติไ...   \n468  หมายเลขผู้สมัครพรรคชาติไทยพัฒนา อัพเดรต 4 ก.พ....   \n467  คณะกรรมการบริหารพรรคชาติไทยพัฒนา ลงพื้นที่ปราศ...   \n465  เช้านี้ คุณกัญจนา หัวหน้าพรรคชาติไทยพัฒนา และค...   \n460  บรรยากาศการปราศรัย ณ ตลาดศรีนคร จ.นครสวรรค์ เต...   \n444  ประกาศพรรคชาติไทยพัฒนา\\n                 ตาม พ...   \n457  คุณกัญจนา ในระหว่างเดินพบปะเหล่าบรรดาพ่อค้าแม่...   \n456  บ่ายนี้ คุณกัญจนา และคณะพรรคชาติไทยพัฒนา เดินท...   \n453  เช้านี้ คุณกัญจนา ศิลปอาชา หัวหน้าพรรค คุณวราว...   \n450  เช้าวันนี้ที่สุพรรณบุรี คุณกัญจนา ศิลปอาชา หัว...   \n449  เช้านี้ คุณวราวุธ ศิลปอาชา ประธานกรรมการนโยบาย...   \n448  เมื่อเช้านี้ ที่พรรคชาติไทยพัฒนา คุณนิกร จำนง ...   \n461  คุณกัญจนา คุณวราวุธ และคุณนิกร พร้อมคณะพรรคชาต...   \n462  วันนี้ เวลา 10:00 น. คุณกัญจนา ศิลปอาชา พร้อมส...   \n455  เช้านี้  คุณกัญจนา หัวหน้าพรรค นำทีมลงพื้นพี่ ...   \n454  วราวุธ ศิลปอาชา ประธานคณะกรรมการนโยบายและยุทธศ...   \n452  เมื่อวานนี้ที่จันทบุรี คุณกัญจนา ศิลปอาชา หัวห...   \n470  ถอดรหัสแท็กติก ชพท. ลุยศึกเลือกตั้ง | 30 ม.ค.6...   \n472  ชทพ.คึก! รอสรุปผู้สมัคร\\nส.ส. ‘หนูนา’เตรียมลุย...   \n\n                            topic  Engagement  \n466      update ความนิยมผู้นำพรรค           5  \n463           การออกสื่อ + debate           5  \n469           การปราศรัย + นโยบาย           4  \n446            ขายตระกูล ศิลปอาชา           3  \n458            ขายตระกูล ศิลปอาชา           2  \n459           การปราศรัย + นโยบาย           2  \n447           การปราศรัย + นโยบาย           2  \n451            ขายตระกูล ศิลปอาชา           2  \n464           การออกสื่อ + debate           2  \n445            ขายตระกูล ศิลปอาชา           2  \n471      update ความนิยมผู้นำพรรค           1  \n468            ขายตระกูล ศิลปอาชา           1  \n467           การปราศรัย + นโยบาย           1  \n465  update ความเคลื่อนไหวของพรรค           1  \n460           การออกสื่อ + debate           1  \n444  update ความเคลื่อนไหวของพรรค           1  \n457      update ความนิยมผู้นำพรรค           1  \n456           การออกสื่อ + debate           1  \n453            ขายตระกูล ศิลปอาชา           1  \n450            ขายตระกูล ศิลปอาชา           1  \n449            ขายตระกูล ศิลปอาชา           1  \n448      update ความนิยมผู้นำพรรค           1  \n461  update ความเคลื่อนไหวของพรรค           0  \n462  update ความเคลื่อนไหวของพรรค           0  \n455      update ความนิยมผู้นำพรรค           0  \n454           การปราศรัย + นโยบาย           0  \n452            ขายตระกูล ศิลปอาชา           0  \n470  update ความเคลื่อนไหวของพรรค           0  \n472            ขายตระกูล ศิลปอาชา           0  ",
      "text/html": "<div>\n<style scoped>\n    .dataframe tbody tr th:only-of-type {\n        vertical-align: middle;\n    }\n\n    .dataframe tbody tr th {\n        vertical-align: top;\n    }\n\n    .dataframe thead th {\n        text-align: right;\n    }\n</style>\n<table border=\"1\" class=\"dataframe\">\n  <thead>\n    <tr style=\"text-align: right;\">\n      <th></th>\n      <th>Text</th>\n      <th>topic</th>\n      <th>Engagement</th>\n    </tr>\n  </thead>\n  <tbody>\n    <tr>\n      <th>466</th>\n      <td>ทีมบริหารพรรคชาติไทยพัฒนา นำโดยคุณหนูนา กัญจนา...</td>\n      <td>update ความนิยมผู้นำพรรค</td>\n      <td>5</td>\n    </tr>\n    <tr>\n      <th>463</th>\n      <td>พบกับ ดร.เฟิร์ส ทัศน์ลักษณ์ ปัตตพงศ์ภัช รองเลข...</td>\n      <td>การออกสื่อ + debate</td>\n      <td>5</td>\n    </tr>\n    <tr>\n      <th>469</th>\n      <td>\"วราวุธ ศิลปอาชา\"ตอบคำถาม นโยบายการแก้ไขปัญหาฝ...</td>\n      <td>การปราศรัย + นโยบาย</td>\n      <td>4</td>\n    </tr>\n    <tr>\n      <th>446</th>\n      <td>คุณกัญจนา ศิลปอาชา หัวหน้าพรรค ลงพื้นที่ จ.เพช...</td>\n      <td>ขายตระกูล ศิลปอาชา</td>\n      <td>3</td>\n    </tr>\n    <tr>\n      <th>458</th>\n      <td>เมื่อเช้านี้ คุณกัญจนา ศิลปอาชา และคณะพรรคชาติ...</td>\n      <td>ขายตระกูล ศิลปอาชา</td>\n      <td>2</td>\n    </tr>\n    <tr>\n      <th>459</th>\n      <td>บรรยากาศการปราศรัย ณ ศูนย์กสิกรรมธรรมชาติน้ำเพ...</td>\n      <td>การปราศรัย + นโยบาย</td>\n      <td>2</td>\n    </tr>\n    <tr>\n      <th>447</th>\n      <td>เช้าวันอากาศแจ่มใส ท้องฟ้าเป็นใจ คุณกัญจนา ศิล...</td>\n      <td>การปราศรัย + นโยบาย</td>\n      <td>2</td>\n    </tr>\n    <tr>\n      <th>451</th>\n      <td>เวลา 12.30 น. ที่ผ่านมา คุณกัญจนา ศิลปอาชา หัว...</td>\n      <td>ขายตระกูล ศิลปอาชา</td>\n      <td>2</td>\n    </tr>\n    <tr>\n      <th>464</th>\n      <td>พบกับ คุณท็อป วราวุธ ศิลปอาชา ในรายการดีเบต เล...</td>\n      <td>การออกสื่อ + debate</td>\n      <td>2</td>\n    </tr>\n    <tr>\n      <th>445</th>\n      <td>หาเสียงที่สุดท้ายก่อนเลือกตั้ง ที่ จ.สุพรรณบุร...</td>\n      <td>ขายตระกูล ศิลปอาชา</td>\n      <td>2</td>\n    </tr>\n    <tr>\n      <th>471</th>\n      <td>เปิดใจ \"หนูนา\" \\nพร้อมสู้ศึกเลือกตั้งพรรคชาติไ...</td>\n      <td>update ความนิยมผู้นำพรรค</td>\n      <td>1</td>\n    </tr>\n    <tr>\n      <th>468</th>\n      <td>หมายเลขผู้สมัครพรรคชาติไทยพัฒนา อัพเดรต 4 ก.พ....</td>\n      <td>ขายตระกูล ศิลปอาชา</td>\n      <td>1</td>\n    </tr>\n    <tr>\n      <th>467</th>\n      <td>คณะกรรมการบริหารพรรคชาติไทยพัฒนา ลงพื้นที่ปราศ...</td>\n      <td>การปราศรัย + นโยบาย</td>\n      <td>1</td>\n    </tr>\n    <tr>\n      <th>465</th>\n      <td>เช้านี้ คุณกัญจนา หัวหน้าพรรคชาติไทยพัฒนา และค...</td>\n      <td>update ความเคลื่อนไหวของพรรค</td>\n      <td>1</td>\n    </tr>\n    <tr>\n      <th>460</th>\n      <td>บรรยากาศการปราศรัย ณ ตลาดศรีนคร จ.นครสวรรค์ เต...</td>\n      <td>การออกสื่อ + debate</td>\n      <td>1</td>\n    </tr>\n    <tr>\n      <th>444</th>\n      <td>ประกาศพรรคชาติไทยพัฒนา\\n                 ตาม พ...</td>\n      <td>update ความเคลื่อนไหวของพรรค</td>\n      <td>1</td>\n    </tr>\n    <tr>\n      <th>457</th>\n      <td>คุณกัญจนา ในระหว่างเดินพบปะเหล่าบรรดาพ่อค้าแม่...</td>\n      <td>update ความนิยมผู้นำพรรค</td>\n      <td>1</td>\n    </tr>\n    <tr>\n      <th>456</th>\n      <td>บ่ายนี้ คุณกัญจนา และคณะพรรคชาติไทยพัฒนา เดินท...</td>\n      <td>การออกสื่อ + debate</td>\n      <td>1</td>\n    </tr>\n    <tr>\n      <th>453</th>\n      <td>เช้านี้ คุณกัญจนา ศิลปอาชา หัวหน้าพรรค คุณวราว...</td>\n      <td>ขายตระกูล ศิลปอาชา</td>\n      <td>1</td>\n    </tr>\n    <tr>\n      <th>450</th>\n      <td>เช้าวันนี้ที่สุพรรณบุรี คุณกัญจนา ศิลปอาชา หัว...</td>\n      <td>ขายตระกูล ศิลปอาชา</td>\n      <td>1</td>\n    </tr>\n    <tr>\n      <th>449</th>\n      <td>เช้านี้ คุณวราวุธ ศิลปอาชา ประธานกรรมการนโยบาย...</td>\n      <td>ขายตระกูล ศิลปอาชา</td>\n      <td>1</td>\n    </tr>\n    <tr>\n      <th>448</th>\n      <td>เมื่อเช้านี้ ที่พรรคชาติไทยพัฒนา คุณนิกร จำนง ...</td>\n      <td>update ความนิยมผู้นำพรรค</td>\n      <td>1</td>\n    </tr>\n    <tr>\n      <th>461</th>\n      <td>คุณกัญจนา คุณวราวุธ และคุณนิกร พร้อมคณะพรรคชาต...</td>\n      <td>update ความเคลื่อนไหวของพรรค</td>\n      <td>0</td>\n    </tr>\n    <tr>\n      <th>462</th>\n      <td>วันนี้ เวลา 10:00 น. คุณกัญจนา ศิลปอาชา พร้อมส...</td>\n      <td>update ความเคลื่อนไหวของพรรค</td>\n      <td>0</td>\n    </tr>\n    <tr>\n      <th>455</th>\n      <td>เช้านี้  คุณกัญจนา หัวหน้าพรรค นำทีมลงพื้นพี่ ...</td>\n      <td>update ความนิยมผู้นำพรรค</td>\n      <td>0</td>\n    </tr>\n    <tr>\n      <th>454</th>\n      <td>วราวุธ ศิลปอาชา ประธานคณะกรรมการนโยบายและยุทธศ...</td>\n      <td>การปราศรัย + นโยบาย</td>\n      <td>0</td>\n    </tr>\n    <tr>\n      <th>452</th>\n      <td>เมื่อวานนี้ที่จันทบุรี คุณกัญจนา ศิลปอาชา หัวห...</td>\n      <td>ขายตระกูล ศิลปอาชา</td>\n      <td>0</td>\n    </tr>\n    <tr>\n      <th>470</th>\n      <td>ถอดรหัสแท็กติก ชพท. ลุยศึกเลือกตั้ง | 30 ม.ค.6...</td>\n      <td>update ความเคลื่อนไหวของพรรค</td>\n      <td>0</td>\n    </tr>\n    <tr>\n      <th>472</th>\n      <td>ชทพ.คึก! รอสรุปผู้สมัคร\\nส.ส. ‘หนูนา’เตรียมลุย...</td>\n      <td>ขายตระกูล ศิลปอาชา</td>\n      <td>0</td>\n    </tr>\n  </tbody>\n</table>\n</div>"
     },
     "metadata": {}
    },
    {
     "output_type": "display_data",
     "data": {
      "text/plain": "'See topic'"
     },
     "metadata": {}
    },
    {
     "output_type": "display_data",
     "data": {
      "text/plain": "      Username                         topic  count  eng_sum  eng_mean  \\\n0  ChartthaiPT            ขายตระกูล ศิลปอาชา     10       13      1.30   \n1  ChartthaiPT           การปราศรัย + นโยบาย      5        9      1.80   \n2  ChartthaiPT           การออกสื่อ + debate      4        9      2.25   \n3  ChartthaiPT      update ความนิยมผู้นำพรรค      5        8      1.60   \n4  ChartthaiPT  update ความเคลื่อนไหวของพรรค      5        2      0.40   \n\n   eng_max  \n0        3  \n1        4  \n2        5  \n3        5  \n4        1  ",
      "text/html": "<div>\n<style scoped>\n    .dataframe tbody tr th:only-of-type {\n        vertical-align: middle;\n    }\n\n    .dataframe tbody tr th {\n        vertical-align: top;\n    }\n\n    .dataframe thead th {\n        text-align: right;\n    }\n</style>\n<table border=\"1\" class=\"dataframe\">\n  <thead>\n    <tr style=\"text-align: right;\">\n      <th></th>\n      <th>Username</th>\n      <th>topic</th>\n      <th>count</th>\n      <th>eng_sum</th>\n      <th>eng_mean</th>\n      <th>eng_max</th>\n    </tr>\n  </thead>\n  <tbody>\n    <tr>\n      <th>0</th>\n      <td>ChartthaiPT</td>\n      <td>ขายตระกูล ศิลปอาชา</td>\n      <td>10</td>\n      <td>13</td>\n      <td>1.30</td>\n      <td>3</td>\n    </tr>\n    <tr>\n      <th>1</th>\n      <td>ChartthaiPT</td>\n      <td>การปราศรัย + นโยบาย</td>\n      <td>5</td>\n      <td>9</td>\n      <td>1.80</td>\n      <td>4</td>\n    </tr>\n    <tr>\n      <th>2</th>\n      <td>ChartthaiPT</td>\n      <td>การออกสื่อ + debate</td>\n      <td>4</td>\n      <td>9</td>\n      <td>2.25</td>\n      <td>5</td>\n    </tr>\n    <tr>\n      <th>3</th>\n      <td>ChartthaiPT</td>\n      <td>update ความนิยมผู้นำพรรค</td>\n      <td>5</td>\n      <td>8</td>\n      <td>1.60</td>\n      <td>5</td>\n    </tr>\n    <tr>\n      <th>4</th>\n      <td>ChartthaiPT</td>\n      <td>update ความเคลื่อนไหวของพรรค</td>\n      <td>5</td>\n      <td>2</td>\n      <td>0.40</td>\n      <td>1</td>\n    </tr>\n  </tbody>\n</table>\n</div>"
     },
     "metadata": {}
    },
    {
     "output_type": "display_data",
     "data": {
      "text/plain": "                          topic  count  eng_sum  eng_mean  eng_max\n0            ขายตระกูล ศิลปอาชา     10       13      1.30        3\n1           การปราศรัย + นโยบาย      5        9      1.80        4\n2           การออกสื่อ + debate      4        9      2.25        5\n3      update ความนิยมผู้นำพรรค      5        8      1.60        5\n4  update ความเคลื่อนไหวของพรรค      5        2      0.40        1",
      "text/html": "<div>\n<style scoped>\n    .dataframe tbody tr th:only-of-type {\n        vertical-align: middle;\n    }\n\n    .dataframe tbody tr th {\n        vertical-align: top;\n    }\n\n    .dataframe thead th {\n        text-align: right;\n    }\n</style>\n<table border=\"1\" class=\"dataframe\">\n  <thead>\n    <tr style=\"text-align: right;\">\n      <th></th>\n      <th>topic</th>\n      <th>count</th>\n      <th>eng_sum</th>\n      <th>eng_mean</th>\n      <th>eng_max</th>\n    </tr>\n  </thead>\n  <tbody>\n    <tr>\n      <th>0</th>\n      <td>ขายตระกูล ศิลปอาชา</td>\n      <td>10</td>\n      <td>13</td>\n      <td>1.30</td>\n      <td>3</td>\n    </tr>\n    <tr>\n      <th>1</th>\n      <td>การปราศรัย + นโยบาย</td>\n      <td>5</td>\n      <td>9</td>\n      <td>1.80</td>\n      <td>4</td>\n    </tr>\n    <tr>\n      <th>2</th>\n      <td>การออกสื่อ + debate</td>\n      <td>4</td>\n      <td>9</td>\n      <td>2.25</td>\n      <td>5</td>\n    </tr>\n    <tr>\n      <th>3</th>\n      <td>update ความนิยมผู้นำพรรค</td>\n      <td>5</td>\n      <td>8</td>\n      <td>1.60</td>\n      <td>5</td>\n    </tr>\n    <tr>\n      <th>4</th>\n      <td>update ความเคลื่อนไหวของพรรค</td>\n      <td>5</td>\n      <td>2</td>\n      <td>0.40</td>\n      <td>1</td>\n    </tr>\n  </tbody>\n</table>\n</div>"
     },
     "metadata": {}
    },
    {
     "output_type": "display_data",
     "data": {
      "text/plain": "None"
     },
     "metadata": {}
    },
    {
     "output_type": "display_data",
     "data": {
      "text/plain": "'Overview'"
     },
     "metadata": {}
    },
    {
     "output_type": "display_data",
     "data": {
      "text/plain": "        Username            Datetime  Retweet count  Favorite count  \\\n994     paritw92 2019-03-22 03:20:06           1135             968   \n1115    paritw92 2019-02-20 03:41:02            712             436   \n1125    paritw92 2019-02-01 08:41:50            463             320   \n1086    paritw92 2019-03-07 07:10:45            377             384   \n412   democratTH 2019-02-07 04:14:00            467             290   \n...          ...                 ...            ...             ...   \n1108    paritw92 2019-03-01 13:32:39              0               0   \n1067    paritw92 2019-03-09 12:27:41              0               0   \n1073    paritw92 2019-03-09 06:05:15              0               0   \n1082    paritw92 2019-03-07 08:41:03              0               0   \n404   democratTH 2019-03-05 13:40:09              0               0   \n\n                                                   Text         Party  \\\n994   ตั้งแต่ผมเข้ามาในวงการการเมือง ผมมักถูกครหาว่า...  ประชาธิปัตย์   \n1115  [ยืนยันคำเดิม – ทหารสมัครใจ 100% ไม่ต้องเกณฑ์ ...  ประชาธิปัตย์   \n1125  ตั้งใจทำการเมืองอย่างสร้างสรรค์ วันแรกก็โดนซะแ...  ประชาธิปัตย์   \n1086  [New Dem - ไอติม X อภิสิทธิ์]\\n\\nวันนี้ผมขอท้า...  ประชาธิปัตย์   \n412   3 อันดับแรก #บัญชีรายชื่อปชป\\n\\n1 อภิสิทธิ์ เว...  ประชาธิปัตย์   \n...                                                 ...           ...   \n1108  [LIVE] 20.30-22.10น. #10วัน1000นาที ชี้อนาคตปร...  ประชาธิปัตย์   \n1067  การที่เราได้นั่งคุยกัน แลกเปลี่ยนความคิดเห็น จ...  ประชาธิปัตย์   \n1073  เมื่อวานเย็นได้มีโอกาสดวลฝีเท้ากับ @paritw92 จ...  ประชาธิปัตย์   \n1082  Lunch with Democrats ลงพื้นที่พบปะพูดคุย พ่อแม...  ประชาธิปัตย์   \n404   ฟังกันชัดชัดจากปากอภิสิทธิ์ ถึงจุดยืนทางการเมื...  ประชาธิปัตย์   \n\n                                                  tweet  \\\n994   ตั้งแต่ผมเข้ามาในวงการการเมือง ผมมักถูกครหาว่า...   \n1115  ยืนยันคำเดิม – ทหารสมัครใจ  ไม่ต้องเกณฑ์ ประเท...   \n1125  ตั้งใจทำการเมืองอย่างสร้างสรรค์ วันแรกก็โดนซะแ...   \n1086  new dem ไอติม x อภิสิทธิ์ วันนี้ผมขอท้าดวลหัวห...   \n412    อันดับแรก  อภิสิทธิ์ เวชชาชีวะ  ชวน หลีกภัย  ...   \n...                                                 ...   \n1108  live    น ชี้อนาคตประเทศไทย นักการเมืองรุ่นใหม...   \n1067  การที่เราได้นั่งคุยกัน แลกเปลี่ยนความคิดเห็น จ...   \n1073  เมื่อวานเย็นได้มีโอกาสดวลฝีเท้ากับ จากทีมแฟลตค...   \n1082  lunch democrat ลงพื้นที่พบปะพูดคุย พ่อแม่พี่น้...   \n404   ฟังกันชัดชัดจากปากอภิสิทธิ์ ถึงจุดยืนทางการเมื...   \n\n                                     topic  Engagement  \n994            หาเสียง น่าจะ อภิสิทธิ์ พูด        2103  \n1115           หาเสียง น่าจะ อภิสิทธิ์ พูด        1148  \n1125  ปราศรัยหาเสียง ปัญหาที่เจอตอนหาเสียง         783  \n1086                หาเสียง น่าจะ กรณ์ พูด         761  \n412            หาเสียง น่าจะ อภิสิทธิ์ พูด         757  \n...                                    ...         ...  \n1108                        นโยบายเศรษฐกิจ           0  \n1067                        นโยบายเศรษฐกิจ           0  \n1073  ปราศรัยหาเสียง ปัญหาที่เจอตอนหาเสียง           0  \n1082                หาเสียง น่าจะ กรณ์ พูด           0  \n404                 หาเสียง น่าจะ กรณ์ พูด           0  \n\n[161 rows x 9 columns]",
      "text/html": "<div>\n<style scoped>\n    .dataframe tbody tr th:only-of-type {\n        vertical-align: middle;\n    }\n\n    .dataframe tbody tr th {\n        vertical-align: top;\n    }\n\n    .dataframe thead th {\n        text-align: right;\n    }\n</style>\n<table border=\"1\" class=\"dataframe\">\n  <thead>\n    <tr style=\"text-align: right;\">\n      <th></th>\n      <th>Username</th>\n      <th>Datetime</th>\n      <th>Retweet count</th>\n      <th>Favorite count</th>\n      <th>Text</th>\n      <th>Party</th>\n      <th>tweet</th>\n      <th>topic</th>\n      <th>Engagement</th>\n    </tr>\n  </thead>\n  <tbody>\n    <tr>\n      <th>994</th>\n      <td>paritw92</td>\n      <td>2019-03-22 03:20:06</td>\n      <td>1135</td>\n      <td>968</td>\n      <td>ตั้งแต่ผมเข้ามาในวงการการเมือง ผมมักถูกครหาว่า...</td>\n      <td>ประชาธิปัตย์</td>\n      <td>ตั้งแต่ผมเข้ามาในวงการการเมือง ผมมักถูกครหาว่า...</td>\n      <td>หาเสียง น่าจะ อภิสิทธิ์ พูด</td>\n      <td>2103</td>\n    </tr>\n    <tr>\n      <th>1115</th>\n      <td>paritw92</td>\n      <td>2019-02-20 03:41:02</td>\n      <td>712</td>\n      <td>436</td>\n      <td>[ยืนยันคำเดิม – ทหารสมัครใจ 100% ไม่ต้องเกณฑ์ ...</td>\n      <td>ประชาธิปัตย์</td>\n      <td>ยืนยันคำเดิม – ทหารสมัครใจ  ไม่ต้องเกณฑ์ ประเท...</td>\n      <td>หาเสียง น่าจะ อภิสิทธิ์ พูด</td>\n      <td>1148</td>\n    </tr>\n    <tr>\n      <th>1125</th>\n      <td>paritw92</td>\n      <td>2019-02-01 08:41:50</td>\n      <td>463</td>\n      <td>320</td>\n      <td>ตั้งใจทำการเมืองอย่างสร้างสรรค์ วันแรกก็โดนซะแ...</td>\n      <td>ประชาธิปัตย์</td>\n      <td>ตั้งใจทำการเมืองอย่างสร้างสรรค์ วันแรกก็โดนซะแ...</td>\n      <td>ปราศรัยหาเสียง ปัญหาที่เจอตอนหาเสียง</td>\n      <td>783</td>\n    </tr>\n    <tr>\n      <th>1086</th>\n      <td>paritw92</td>\n      <td>2019-03-07 07:10:45</td>\n      <td>377</td>\n      <td>384</td>\n      <td>[New Dem - ไอติม X อภิสิทธิ์]\\n\\nวันนี้ผมขอท้า...</td>\n      <td>ประชาธิปัตย์</td>\n      <td>new dem ไอติม x อภิสิทธิ์ วันนี้ผมขอท้าดวลหัวห...</td>\n      <td>หาเสียง น่าจะ กรณ์ พูด</td>\n      <td>761</td>\n    </tr>\n    <tr>\n      <th>412</th>\n      <td>democratTH</td>\n      <td>2019-02-07 04:14:00</td>\n      <td>467</td>\n      <td>290</td>\n      <td>3 อันดับแรก #บัญชีรายชื่อปชป\\n\\n1 อภิสิทธิ์ เว...</td>\n      <td>ประชาธิปัตย์</td>\n      <td>อันดับแรก  อภิสิทธิ์ เวชชาชีวะ  ชวน หลีกภัย  ...</td>\n      <td>หาเสียง น่าจะ อภิสิทธิ์ พูด</td>\n      <td>757</td>\n    </tr>\n    <tr>\n      <th>...</th>\n      <td>...</td>\n      <td>...</td>\n      <td>...</td>\n      <td>...</td>\n      <td>...</td>\n      <td>...</td>\n      <td>...</td>\n      <td>...</td>\n      <td>...</td>\n    </tr>\n    <tr>\n      <th>1108</th>\n      <td>paritw92</td>\n      <td>2019-03-01 13:32:39</td>\n      <td>0</td>\n      <td>0</td>\n      <td>[LIVE] 20.30-22.10น. #10วัน1000นาที ชี้อนาคตปร...</td>\n      <td>ประชาธิปัตย์</td>\n      <td>live    น ชี้อนาคตประเทศไทย นักการเมืองรุ่นใหม...</td>\n      <td>นโยบายเศรษฐกิจ</td>\n      <td>0</td>\n    </tr>\n    <tr>\n      <th>1067</th>\n      <td>paritw92</td>\n      <td>2019-03-09 12:27:41</td>\n      <td>0</td>\n      <td>0</td>\n      <td>การที่เราได้นั่งคุยกัน แลกเปลี่ยนความคิดเห็น จ...</td>\n      <td>ประชาธิปัตย์</td>\n      <td>การที่เราได้นั่งคุยกัน แลกเปลี่ยนความคิดเห็น จ...</td>\n      <td>นโยบายเศรษฐกิจ</td>\n      <td>0</td>\n    </tr>\n    <tr>\n      <th>1073</th>\n      <td>paritw92</td>\n      <td>2019-03-09 06:05:15</td>\n      <td>0</td>\n      <td>0</td>\n      <td>เมื่อวานเย็นได้มีโอกาสดวลฝีเท้ากับ @paritw92 จ...</td>\n      <td>ประชาธิปัตย์</td>\n      <td>เมื่อวานเย็นได้มีโอกาสดวลฝีเท้ากับ จากทีมแฟลตค...</td>\n      <td>ปราศรัยหาเสียง ปัญหาที่เจอตอนหาเสียง</td>\n      <td>0</td>\n    </tr>\n    <tr>\n      <th>1082</th>\n      <td>paritw92</td>\n      <td>2019-03-07 08:41:03</td>\n      <td>0</td>\n      <td>0</td>\n      <td>Lunch with Democrats ลงพื้นที่พบปะพูดคุย พ่อแม...</td>\n      <td>ประชาธิปัตย์</td>\n      <td>lunch democrat ลงพื้นที่พบปะพูดคุย พ่อแม่พี่น้...</td>\n      <td>หาเสียง น่าจะ กรณ์ พูด</td>\n      <td>0</td>\n    </tr>\n    <tr>\n      <th>404</th>\n      <td>democratTH</td>\n      <td>2019-03-05 13:40:09</td>\n      <td>0</td>\n      <td>0</td>\n      <td>ฟังกันชัดชัดจากปากอภิสิทธิ์ ถึงจุดยืนทางการเมื...</td>\n      <td>ประชาธิปัตย์</td>\n      <td>ฟังกันชัดชัดจากปากอภิสิทธิ์ ถึงจุดยืนทางการเมื...</td>\n      <td>หาเสียง น่าจะ กรณ์ พูด</td>\n      <td>0</td>\n    </tr>\n  </tbody>\n</table>\n<p>161 rows × 9 columns</p>\n</div>"
     },
     "metadata": {}
    },
    {
     "output_type": "display_data",
     "data": {
      "text/plain": "'Frequency tweets by username'"
     },
     "metadata": {}
    },
    {
     "output_type": "display_data",
     "data": {
      "text/plain": "paritw92          148\ndemocratTH         12\nKornGoThailand      1\nName: Username, dtype: int64"
     },
     "metadata": {}
    },
    {
     "output_type": "display_data",
     "data": {
      "text/plain": "'See Text'"
     },
     "metadata": {}
    },
    {
     "output_type": "display_data",
     "data": {
      "text/plain": "                                                   Text  \\\n994   ตั้งแต่ผมเข้ามาในวงการการเมือง ผมมักถูกครหาว่า...   \n1115  [ยืนยันคำเดิม – ทหารสมัครใจ 100% ไม่ต้องเกณฑ์ ...   \n1125  ตั้งใจทำการเมืองอย่างสร้างสรรค์ วันแรกก็โดนซะแ...   \n1086  [New Dem - ไอติม X อภิสิทธิ์]\\n\\nวันนี้ผมขอท้า...   \n412   3 อันดับแรก #บัญชีรายชื่อปชป\\n\\n1 อภิสิทธิ์ เว...   \n...                                                 ...   \n1108  [LIVE] 20.30-22.10น. #10วัน1000นาที ชี้อนาคตปร...   \n1067  การที่เราได้นั่งคุยกัน แลกเปลี่ยนความคิดเห็น จ...   \n1073  เมื่อวานเย็นได้มีโอกาสดวลฝีเท้ากับ @paritw92 จ...   \n1082  Lunch with Democrats ลงพื้นที่พบปะพูดคุย พ่อแม...   \n404   ฟังกันชัดชัดจากปากอภิสิทธิ์ ถึงจุดยืนทางการเมื...   \n\n                                     topic  Engagement  \n994            หาเสียง น่าจะ อภิสิทธิ์ พูด        2103  \n1115           หาเสียง น่าจะ อภิสิทธิ์ พูด        1148  \n1125  ปราศรัยหาเสียง ปัญหาที่เจอตอนหาเสียง         783  \n1086                หาเสียง น่าจะ กรณ์ พูด         761  \n412            หาเสียง น่าจะ อภิสิทธิ์ พูด         757  \n...                                    ...         ...  \n1108                        นโยบายเศรษฐกิจ           0  \n1067                        นโยบายเศรษฐกิจ           0  \n1073  ปราศรัยหาเสียง ปัญหาที่เจอตอนหาเสียง           0  \n1082                หาเสียง น่าจะ กรณ์ พูด           0  \n404                 หาเสียง น่าจะ กรณ์ พูด           0  \n\n[161 rows x 3 columns]",
      "text/html": "<div>\n<style scoped>\n    .dataframe tbody tr th:only-of-type {\n        vertical-align: middle;\n    }\n\n    .dataframe tbody tr th {\n        vertical-align: top;\n    }\n\n    .dataframe thead th {\n        text-align: right;\n    }\n</style>\n<table border=\"1\" class=\"dataframe\">\n  <thead>\n    <tr style=\"text-align: right;\">\n      <th></th>\n      <th>Text</th>\n      <th>topic</th>\n      <th>Engagement</th>\n    </tr>\n  </thead>\n  <tbody>\n    <tr>\n      <th>994</th>\n      <td>ตั้งแต่ผมเข้ามาในวงการการเมือง ผมมักถูกครหาว่า...</td>\n      <td>หาเสียง น่าจะ อภิสิทธิ์ พูด</td>\n      <td>2103</td>\n    </tr>\n    <tr>\n      <th>1115</th>\n      <td>[ยืนยันคำเดิม – ทหารสมัครใจ 100% ไม่ต้องเกณฑ์ ...</td>\n      <td>หาเสียง น่าจะ อภิสิทธิ์ พูด</td>\n      <td>1148</td>\n    </tr>\n    <tr>\n      <th>1125</th>\n      <td>ตั้งใจทำการเมืองอย่างสร้างสรรค์ วันแรกก็โดนซะแ...</td>\n      <td>ปราศรัยหาเสียง ปัญหาที่เจอตอนหาเสียง</td>\n      <td>783</td>\n    </tr>\n    <tr>\n      <th>1086</th>\n      <td>[New Dem - ไอติม X อภิสิทธิ์]\\n\\nวันนี้ผมขอท้า...</td>\n      <td>หาเสียง น่าจะ กรณ์ พูด</td>\n      <td>761</td>\n    </tr>\n    <tr>\n      <th>412</th>\n      <td>3 อันดับแรก #บัญชีรายชื่อปชป\\n\\n1 อภิสิทธิ์ เว...</td>\n      <td>หาเสียง น่าจะ อภิสิทธิ์ พูด</td>\n      <td>757</td>\n    </tr>\n    <tr>\n      <th>...</th>\n      <td>...</td>\n      <td>...</td>\n      <td>...</td>\n    </tr>\n    <tr>\n      <th>1108</th>\n      <td>[LIVE] 20.30-22.10น. #10วัน1000นาที ชี้อนาคตปร...</td>\n      <td>นโยบายเศรษฐกิจ</td>\n      <td>0</td>\n    </tr>\n    <tr>\n      <th>1067</th>\n      <td>การที่เราได้นั่งคุยกัน แลกเปลี่ยนความคิดเห็น จ...</td>\n      <td>นโยบายเศรษฐกิจ</td>\n      <td>0</td>\n    </tr>\n    <tr>\n      <th>1073</th>\n      <td>เมื่อวานเย็นได้มีโอกาสดวลฝีเท้ากับ @paritw92 จ...</td>\n      <td>ปราศรัยหาเสียง ปัญหาที่เจอตอนหาเสียง</td>\n      <td>0</td>\n    </tr>\n    <tr>\n      <th>1082</th>\n      <td>Lunch with Democrats ลงพื้นที่พบปะพูดคุย พ่อแม...</td>\n      <td>หาเสียง น่าจะ กรณ์ พูด</td>\n      <td>0</td>\n    </tr>\n    <tr>\n      <th>404</th>\n      <td>ฟังกันชัดชัดจากปากอภิสิทธิ์ ถึงจุดยืนทางการเมื...</td>\n      <td>หาเสียง น่าจะ กรณ์ พูด</td>\n      <td>0</td>\n    </tr>\n  </tbody>\n</table>\n<p>161 rows × 3 columns</p>\n</div>"
     },
     "metadata": {}
    },
    {
     "output_type": "display_data",
     "data": {
      "text/plain": "'See topic'"
     },
     "metadata": {}
    },
    {
     "output_type": "display_data",
     "data": {
      "text/plain": "         Username                                 topic  count  eng_sum  \\\n0        paritw92                หาเสียง น่าจะ กรณ์ พูด     71     6853   \n1        paritw92           หาเสียง น่าจะ อภิสิทธิ์ พูด     22     5993   \n2        paritw92                          บัญชีรายชื่อ     24     3165   \n3        paritw92  ปราศรัยหาเสียง ปัญหาที่เจอตอนหาเสียง     16     2675   \n4        paritw92                        นโยบายเศรษฐกิจ     15     1193   \n5      democratTH           หาเสียง น่าจะ อภิสิทธิ์ พูด      2      854   \n6      democratTH  ปราศรัยหาเสียง ปัญหาที่เจอตอนหาเสียง      1      258   \n7      democratTH                          บัญชีรายชื่อ      3      234   \n8  KornGoThailand  ปราศรัยหาเสียง ปัญหาที่เจอตอนหาเสียง      1      115   \n9      democratTH                หาเสียง น่าจะ กรณ์ พูด      6        0   \n\n     eng_mean  eng_max  \n0   96.521127      761  \n1  272.409091     2103  \n2  131.875000      710  \n3  167.187500      783  \n4   79.533333      244  \n5  427.000000      757  \n6  258.000000      258  \n7   78.000000       96  \n8  115.000000      115  \n9    0.000000        0  ",
      "text/html": "<div>\n<style scoped>\n    .dataframe tbody tr th:only-of-type {\n        vertical-align: middle;\n    }\n\n    .dataframe tbody tr th {\n        vertical-align: top;\n    }\n\n    .dataframe thead th {\n        text-align: right;\n    }\n</style>\n<table border=\"1\" class=\"dataframe\">\n  <thead>\n    <tr style=\"text-align: right;\">\n      <th></th>\n      <th>Username</th>\n      <th>topic</th>\n      <th>count</th>\n      <th>eng_sum</th>\n      <th>eng_mean</th>\n      <th>eng_max</th>\n    </tr>\n  </thead>\n  <tbody>\n    <tr>\n      <th>0</th>\n      <td>paritw92</td>\n      <td>หาเสียง น่าจะ กรณ์ พูด</td>\n      <td>71</td>\n      <td>6853</td>\n      <td>96.521127</td>\n      <td>761</td>\n    </tr>\n    <tr>\n      <th>1</th>\n      <td>paritw92</td>\n      <td>หาเสียง น่าจะ อภิสิทธิ์ พูด</td>\n      <td>22</td>\n      <td>5993</td>\n      <td>272.409091</td>\n      <td>2103</td>\n    </tr>\n    <tr>\n      <th>2</th>\n      <td>paritw92</td>\n      <td>บัญชีรายชื่อ</td>\n      <td>24</td>\n      <td>3165</td>\n      <td>131.875000</td>\n      <td>710</td>\n    </tr>\n    <tr>\n      <th>3</th>\n      <td>paritw92</td>\n      <td>ปราศรัยหาเสียง ปัญหาที่เจอตอนหาเสียง</td>\n      <td>16</td>\n      <td>2675</td>\n      <td>167.187500</td>\n      <td>783</td>\n    </tr>\n    <tr>\n      <th>4</th>\n      <td>paritw92</td>\n      <td>นโยบายเศรษฐกิจ</td>\n      <td>15</td>\n      <td>1193</td>\n      <td>79.533333</td>\n      <td>244</td>\n    </tr>\n    <tr>\n      <th>5</th>\n      <td>democratTH</td>\n      <td>หาเสียง น่าจะ อภิสิทธิ์ พูด</td>\n      <td>2</td>\n      <td>854</td>\n      <td>427.000000</td>\n      <td>757</td>\n    </tr>\n    <tr>\n      <th>6</th>\n      <td>democratTH</td>\n      <td>ปราศรัยหาเสียง ปัญหาที่เจอตอนหาเสียง</td>\n      <td>1</td>\n      <td>258</td>\n      <td>258.000000</td>\n      <td>258</td>\n    </tr>\n    <tr>\n      <th>7</th>\n      <td>democratTH</td>\n      <td>บัญชีรายชื่อ</td>\n      <td>3</td>\n      <td>234</td>\n      <td>78.000000</td>\n      <td>96</td>\n    </tr>\n    <tr>\n      <th>8</th>\n      <td>KornGoThailand</td>\n      <td>ปราศรัยหาเสียง ปัญหาที่เจอตอนหาเสียง</td>\n      <td>1</td>\n      <td>115</td>\n      <td>115.000000</td>\n      <td>115</td>\n    </tr>\n    <tr>\n      <th>9</th>\n      <td>democratTH</td>\n      <td>หาเสียง น่าจะ กรณ์ พูด</td>\n      <td>6</td>\n      <td>0</td>\n      <td>0.000000</td>\n      <td>0</td>\n    </tr>\n  </tbody>\n</table>\n</div>"
     },
     "metadata": {}
    },
    {
     "output_type": "display_data",
     "data": {
      "text/plain": "                                  topic  count  eng_sum    eng_mean  eng_max\n0                หาเสียง น่าจะ กรณ์ พูด     77     6853   89.000000      761\n1           หาเสียง น่าจะ อภิสิทธิ์ พูด     24     6847  285.291667     2103\n2                          บัญชีรายชื่อ     27     3399  125.888889      710\n3  ปราศรัยหาเสียง ปัญหาที่เจอตอนหาเสียง     18     3048  169.333333      783\n4                        นโยบายเศรษฐกิจ     15     1193   79.533333      244",
      "text/html": "<div>\n<style scoped>\n    .dataframe tbody tr th:only-of-type {\n        vertical-align: middle;\n    }\n\n    .dataframe tbody tr th {\n        vertical-align: top;\n    }\n\n    .dataframe thead th {\n        text-align: right;\n    }\n</style>\n<table border=\"1\" class=\"dataframe\">\n  <thead>\n    <tr style=\"text-align: right;\">\n      <th></th>\n      <th>topic</th>\n      <th>count</th>\n      <th>eng_sum</th>\n      <th>eng_mean</th>\n      <th>eng_max</th>\n    </tr>\n  </thead>\n  <tbody>\n    <tr>\n      <th>0</th>\n      <td>หาเสียง น่าจะ กรณ์ พูด</td>\n      <td>77</td>\n      <td>6853</td>\n      <td>89.000000</td>\n      <td>761</td>\n    </tr>\n    <tr>\n      <th>1</th>\n      <td>หาเสียง น่าจะ อภิสิทธิ์ พูด</td>\n      <td>24</td>\n      <td>6847</td>\n      <td>285.291667</td>\n      <td>2103</td>\n    </tr>\n    <tr>\n      <th>2</th>\n      <td>บัญชีรายชื่อ</td>\n      <td>27</td>\n      <td>3399</td>\n      <td>125.888889</td>\n      <td>710</td>\n    </tr>\n    <tr>\n      <th>3</th>\n      <td>ปราศรัยหาเสียง ปัญหาที่เจอตอนหาเสียง</td>\n      <td>18</td>\n      <td>3048</td>\n      <td>169.333333</td>\n      <td>783</td>\n    </tr>\n    <tr>\n      <th>4</th>\n      <td>นโยบายเศรษฐกิจ</td>\n      <td>15</td>\n      <td>1193</td>\n      <td>79.533333</td>\n      <td>244</td>\n    </tr>\n  </tbody>\n</table>\n</div>"
     },
     "metadata": {}
    },
    {
     "output_type": "display_data",
     "data": {
      "text/plain": "None"
     },
     "metadata": {}
    },
    {
     "output_type": "display_data",
     "data": {
      "text/plain": "'Overview'"
     },
     "metadata": {}
    },
    {
     "output_type": "display_data",
     "data": {
      "text/plain": "           Username            Datetime  Retweet count  Favorite count  \\\n822  Thanathorn_FWP 2019-02-09 12:02:25         107244           34891   \n820  Thanathorn_FWP 2019-02-10 10:03:56          90900           26823   \n818  Thanathorn_FWP 2019-02-13 06:37:10          64128           23111   \n765  Thanathorn_FWP 2019-03-17 05:53:42          64608           20872   \n758  Thanathorn_FWP 2019-03-20 07:15:47          44733           17874   \n..              ...                 ...            ...             ...   \n787  Thanathorn_FWP 2019-03-04 10:40:11              0               0   \n786  Thanathorn_FWP 2019-03-04 13:07:06              0               0   \n785  Thanathorn_FWP 2019-03-05 11:58:38              0               0   \n784  Thanathorn_FWP 2019-03-05 11:58:45              0               0   \n59      FWPthailand 2019-03-07 13:16:43              0               0   \n\n                                                  Text      Party  \\\n822  วันนี้มา #tucuball73 มีแต่คนทักผมว่า #ฟ้ารักพ่...  อนาคตใหม่   \n820  หลายคนถามผมว่าถ้าอยู่เขตนั้นเขตนี้จะต้องกาเบอร...  อนาคตใหม่   \n818  สำหรับคำถาม “ชอบพรรคอนาคตใหม่มาก แต่ที่แถวบ้าน...  อนาคตใหม่   \n765  ถึงทหารอาชีพและทหารเกณฑ์ทุกท่าน : ไม่มีใครสั่ง...  อนาคตใหม่   \n758  จากกรณีคลิปเสียงเมื่อคืน ผมขอขอบคุณทาง @Nation...  อนาคตใหม่   \n..                                                 ...        ...   \n787  ปราศรัยที่ขอนแก่น ม่วนบ่ม่วน เบิ่งกันเอาเองเด้...  อนาคตใหม่   \n786  ชมตอนนี้! Live : รายการ Selection เกาะติดเลือก...  อนาคตใหม่   \n785  คุณอยากถามอะไรกับ ธนาธร จึงรุ่งเรืองกิจ จากพรร...  อนาคตใหม่   \n784  THE STANDARD DEBATE มิติใหม่ของการดีเบต โค้งสุ...  อนาคตใหม่   \n59   ท่านสามารถติดตาม THE STANDARD Daily ประจำวันที...  อนาคตใหม่   \n\n                                                 tweet  \\\n822  วันนี้มา มีแต่คนทักผมว่า ไม่ค่อยเก็ทเท่าไหร่ แ...   \n820  หลายคนถามผมว่าถ้าอยู่เขตนั้นเขตนี้จะต้องกาเบอร...   \n818  สำหรับคำถาม “ชอบพรรคอนาคตใหม่มาก แต่ที่แถวบ้าน...   \n765  ถึงทหารอาชีพและทหารเกณฑ์ทุกท่าน ไม่มีใครสั่ง บ...   \n758  จากกรณีคลิปเสียงเมื่อคืน ผมขอขอบคุณทาง ที่ให้โ...   \n..                                                 ...   \n787  ปราศรัยที่ขอนแก่น ม่วนบ่ม่วน เบิ่งกันเอาเองเด้...   \n786  ชมตอนนี้ live รายการ select เกาะติดเลือกตั้ง  ...   \n785  คุณอยากถามอะไรกับ ธนาธร จึงรุ่งเรืองกิจ จากพรร...   \n784  standard debat มิติใหม่ของการดีเบต โค้งสุดท้าย...   \n59   ท่านสามารถติดตาม standard daili ประจำวันที่  ม...   \n\n                             topic  Engagement  \n822                      ขาย ธนาธร      142135  \n820  บันทึกการเดินทางของลูกทีมพรรค      117723  \n818                  ขายฝันของพรรค       87239  \n765      แนะนำแกนนำ และดาราของพรรค       85480  \n758      แนะนำแกนนำ และดาราของพรรค       62607  \n..                             ...         ...  \n787                      ขาย ธนาธร           0  \n786      แนะนำแกนนำ และดาราของพรรค           0  \n785                      ขาย ธนาธร           0  \n784                      ขาย ธนาธร           0  \n59                       ขาย ธนาธร           0  \n\n[258 rows x 9 columns]",
      "text/html": "<div>\n<style scoped>\n    .dataframe tbody tr th:only-of-type {\n        vertical-align: middle;\n    }\n\n    .dataframe tbody tr th {\n        vertical-align: top;\n    }\n\n    .dataframe thead th {\n        text-align: right;\n    }\n</style>\n<table border=\"1\" class=\"dataframe\">\n  <thead>\n    <tr style=\"text-align: right;\">\n      <th></th>\n      <th>Username</th>\n      <th>Datetime</th>\n      <th>Retweet count</th>\n      <th>Favorite count</th>\n      <th>Text</th>\n      <th>Party</th>\n      <th>tweet</th>\n      <th>topic</th>\n      <th>Engagement</th>\n    </tr>\n  </thead>\n  <tbody>\n    <tr>\n      <th>822</th>\n      <td>Thanathorn_FWP</td>\n      <td>2019-02-09 12:02:25</td>\n      <td>107244</td>\n      <td>34891</td>\n      <td>วันนี้มา #tucuball73 มีแต่คนทักผมว่า #ฟ้ารักพ่...</td>\n      <td>อนาคตใหม่</td>\n      <td>วันนี้มา มีแต่คนทักผมว่า ไม่ค่อยเก็ทเท่าไหร่ แ...</td>\n      <td>ขาย ธนาธร</td>\n      <td>142135</td>\n    </tr>\n    <tr>\n      <th>820</th>\n      <td>Thanathorn_FWP</td>\n      <td>2019-02-10 10:03:56</td>\n      <td>90900</td>\n      <td>26823</td>\n      <td>หลายคนถามผมว่าถ้าอยู่เขตนั้นเขตนี้จะต้องกาเบอร...</td>\n      <td>อนาคตใหม่</td>\n      <td>หลายคนถามผมว่าถ้าอยู่เขตนั้นเขตนี้จะต้องกาเบอร...</td>\n      <td>บันทึกการเดินทางของลูกทีมพรรค</td>\n      <td>117723</td>\n    </tr>\n    <tr>\n      <th>818</th>\n      <td>Thanathorn_FWP</td>\n      <td>2019-02-13 06:37:10</td>\n      <td>64128</td>\n      <td>23111</td>\n      <td>สำหรับคำถาม “ชอบพรรคอนาคตใหม่มาก แต่ที่แถวบ้าน...</td>\n      <td>อนาคตใหม่</td>\n      <td>สำหรับคำถาม “ชอบพรรคอนาคตใหม่มาก แต่ที่แถวบ้าน...</td>\n      <td>ขายฝันของพรรค</td>\n      <td>87239</td>\n    </tr>\n    <tr>\n      <th>765</th>\n      <td>Thanathorn_FWP</td>\n      <td>2019-03-17 05:53:42</td>\n      <td>64608</td>\n      <td>20872</td>\n      <td>ถึงทหารอาชีพและทหารเกณฑ์ทุกท่าน : ไม่มีใครสั่ง...</td>\n      <td>อนาคตใหม่</td>\n      <td>ถึงทหารอาชีพและทหารเกณฑ์ทุกท่าน ไม่มีใครสั่ง บ...</td>\n      <td>แนะนำแกนนำ และดาราของพรรค</td>\n      <td>85480</td>\n    </tr>\n    <tr>\n      <th>758</th>\n      <td>Thanathorn_FWP</td>\n      <td>2019-03-20 07:15:47</td>\n      <td>44733</td>\n      <td>17874</td>\n      <td>จากกรณีคลิปเสียงเมื่อคืน ผมขอขอบคุณทาง @Nation...</td>\n      <td>อนาคตใหม่</td>\n      <td>จากกรณีคลิปเสียงเมื่อคืน ผมขอขอบคุณทาง ที่ให้โ...</td>\n      <td>แนะนำแกนนำ และดาราของพรรค</td>\n      <td>62607</td>\n    </tr>\n    <tr>\n      <th>...</th>\n      <td>...</td>\n      <td>...</td>\n      <td>...</td>\n      <td>...</td>\n      <td>...</td>\n      <td>...</td>\n      <td>...</td>\n      <td>...</td>\n      <td>...</td>\n    </tr>\n    <tr>\n      <th>787</th>\n      <td>Thanathorn_FWP</td>\n      <td>2019-03-04 10:40:11</td>\n      <td>0</td>\n      <td>0</td>\n      <td>ปราศรัยที่ขอนแก่น ม่วนบ่ม่วน เบิ่งกันเอาเองเด้...</td>\n      <td>อนาคตใหม่</td>\n      <td>ปราศรัยที่ขอนแก่น ม่วนบ่ม่วน เบิ่งกันเอาเองเด้...</td>\n      <td>ขาย ธนาธร</td>\n      <td>0</td>\n    </tr>\n    <tr>\n      <th>786</th>\n      <td>Thanathorn_FWP</td>\n      <td>2019-03-04 13:07:06</td>\n      <td>0</td>\n      <td>0</td>\n      <td>ชมตอนนี้! Live : รายการ Selection เกาะติดเลือก...</td>\n      <td>อนาคตใหม่</td>\n      <td>ชมตอนนี้ live รายการ select เกาะติดเลือกตั้ง  ...</td>\n      <td>แนะนำแกนนำ และดาราของพรรค</td>\n      <td>0</td>\n    </tr>\n    <tr>\n      <th>785</th>\n      <td>Thanathorn_FWP</td>\n      <td>2019-03-05 11:58:38</td>\n      <td>0</td>\n      <td>0</td>\n      <td>คุณอยากถามอะไรกับ ธนาธร จึงรุ่งเรืองกิจ จากพรร...</td>\n      <td>อนาคตใหม่</td>\n      <td>คุณอยากถามอะไรกับ ธนาธร จึงรุ่งเรืองกิจ จากพรร...</td>\n      <td>ขาย ธนาธร</td>\n      <td>0</td>\n    </tr>\n    <tr>\n      <th>784</th>\n      <td>Thanathorn_FWP</td>\n      <td>2019-03-05 11:58:45</td>\n      <td>0</td>\n      <td>0</td>\n      <td>THE STANDARD DEBATE มิติใหม่ของการดีเบต โค้งสุ...</td>\n      <td>อนาคตใหม่</td>\n      <td>standard debat มิติใหม่ของการดีเบต โค้งสุดท้าย...</td>\n      <td>ขาย ธนาธร</td>\n      <td>0</td>\n    </tr>\n    <tr>\n      <th>59</th>\n      <td>FWPthailand</td>\n      <td>2019-03-07 13:16:43</td>\n      <td>0</td>\n      <td>0</td>\n      <td>ท่านสามารถติดตาม THE STANDARD Daily ประจำวันที...</td>\n      <td>อนาคตใหม่</td>\n      <td>ท่านสามารถติดตาม standard daili ประจำวันที่  ม...</td>\n      <td>ขาย ธนาธร</td>\n      <td>0</td>\n    </tr>\n  </tbody>\n</table>\n<p>258 rows × 9 columns</p>\n</div>"
     },
     "metadata": {}
    },
    {
     "output_type": "display_data",
     "data": {
      "text/plain": "'Frequency tweets by username'"
     },
     "metadata": {}
    },
    {
     "output_type": "display_data",
     "data": {
      "text/plain": "FWPthailand       130\nThanathorn_FWP     87\nSPiyabutr          38\nRangsimanRome       3\nName: Username, dtype: int64"
     },
     "metadata": {}
    },
    {
     "output_type": "display_data",
     "data": {
      "text/plain": "'See Text'"
     },
     "metadata": {}
    },
    {
     "output_type": "display_data",
     "data": {
      "text/plain": "                                                  Text  \\\n822  วันนี้มา #tucuball73 มีแต่คนทักผมว่า #ฟ้ารักพ่...   \n820  หลายคนถามผมว่าถ้าอยู่เขตนั้นเขตนี้จะต้องกาเบอร...   \n818  สำหรับคำถาม “ชอบพรรคอนาคตใหม่มาก แต่ที่แถวบ้าน...   \n765  ถึงทหารอาชีพและทหารเกณฑ์ทุกท่าน : ไม่มีใครสั่ง...   \n758  จากกรณีคลิปเสียงเมื่อคืน ผมขอขอบคุณทาง @Nation...   \n..                                                 ...   \n787  ปราศรัยที่ขอนแก่น ม่วนบ่ม่วน เบิ่งกันเอาเองเด้...   \n786  ชมตอนนี้! Live : รายการ Selection เกาะติดเลือก...   \n785  คุณอยากถามอะไรกับ ธนาธร จึงรุ่งเรืองกิจ จากพรร...   \n784  THE STANDARD DEBATE มิติใหม่ของการดีเบต โค้งสุ...   \n59   ท่านสามารถติดตาม THE STANDARD Daily ประจำวันที...   \n\n                             topic  Engagement  \n822                      ขาย ธนาธร      142135  \n820  บันทึกการเดินทางของลูกทีมพรรค      117723  \n818                  ขายฝันของพรรค       87239  \n765      แนะนำแกนนำ และดาราของพรรค       85480  \n758      แนะนำแกนนำ และดาราของพรรค       62607  \n..                             ...         ...  \n787                      ขาย ธนาธร           0  \n786      แนะนำแกนนำ และดาราของพรรค           0  \n785                      ขาย ธนาธร           0  \n784                      ขาย ธนาธร           0  \n59                       ขาย ธนาธร           0  \n\n[258 rows x 3 columns]",
      "text/html": "<div>\n<style scoped>\n    .dataframe tbody tr th:only-of-type {\n        vertical-align: middle;\n    }\n\n    .dataframe tbody tr th {\n        vertical-align: top;\n    }\n\n    .dataframe thead th {\n        text-align: right;\n    }\n</style>\n<table border=\"1\" class=\"dataframe\">\n  <thead>\n    <tr style=\"text-align: right;\">\n      <th></th>\n      <th>Text</th>\n      <th>topic</th>\n      <th>Engagement</th>\n    </tr>\n  </thead>\n  <tbody>\n    <tr>\n      <th>822</th>\n      <td>วันนี้มา #tucuball73 มีแต่คนทักผมว่า #ฟ้ารักพ่...</td>\n      <td>ขาย ธนาธร</td>\n      <td>142135</td>\n    </tr>\n    <tr>\n      <th>820</th>\n      <td>หลายคนถามผมว่าถ้าอยู่เขตนั้นเขตนี้จะต้องกาเบอร...</td>\n      <td>บันทึกการเดินทางของลูกทีมพรรค</td>\n      <td>117723</td>\n    </tr>\n    <tr>\n      <th>818</th>\n      <td>สำหรับคำถาม “ชอบพรรคอนาคตใหม่มาก แต่ที่แถวบ้าน...</td>\n      <td>ขายฝันของพรรค</td>\n      <td>87239</td>\n    </tr>\n    <tr>\n      <th>765</th>\n      <td>ถึงทหารอาชีพและทหารเกณฑ์ทุกท่าน : ไม่มีใครสั่ง...</td>\n      <td>แนะนำแกนนำ และดาราของพรรค</td>\n      <td>85480</td>\n    </tr>\n    <tr>\n      <th>758</th>\n      <td>จากกรณีคลิปเสียงเมื่อคืน ผมขอขอบคุณทาง @Nation...</td>\n      <td>แนะนำแกนนำ และดาราของพรรค</td>\n      <td>62607</td>\n    </tr>\n    <tr>\n      <th>...</th>\n      <td>...</td>\n      <td>...</td>\n      <td>...</td>\n    </tr>\n    <tr>\n      <th>787</th>\n      <td>ปราศรัยที่ขอนแก่น ม่วนบ่ม่วน เบิ่งกันเอาเองเด้...</td>\n      <td>ขาย ธนาธร</td>\n      <td>0</td>\n    </tr>\n    <tr>\n      <th>786</th>\n      <td>ชมตอนนี้! Live : รายการ Selection เกาะติดเลือก...</td>\n      <td>แนะนำแกนนำ และดาราของพรรค</td>\n      <td>0</td>\n    </tr>\n    <tr>\n      <th>785</th>\n      <td>คุณอยากถามอะไรกับ ธนาธร จึงรุ่งเรืองกิจ จากพรร...</td>\n      <td>ขาย ธนาธร</td>\n      <td>0</td>\n    </tr>\n    <tr>\n      <th>784</th>\n      <td>THE STANDARD DEBATE มิติใหม่ของการดีเบต โค้งสุ...</td>\n      <td>ขาย ธนาธร</td>\n      <td>0</td>\n    </tr>\n    <tr>\n      <th>59</th>\n      <td>ท่านสามารถติดตาม THE STANDARD Daily ประจำวันที...</td>\n      <td>ขาย ธนาธร</td>\n      <td>0</td>\n    </tr>\n  </tbody>\n</table>\n<p>258 rows × 3 columns</p>\n</div>"
     },
     "metadata": {}
    },
    {
     "output_type": "display_data",
     "data": {
      "text/plain": "'See topic'"
     },
     "metadata": {}
    },
    {
     "output_type": "display_data",
     "data": {
      "text/plain": "          Username                          topic  count  eng_sum  \\\n0   Thanathorn_FWP                  ขายฝันของพรรค     23   351691   \n1   Thanathorn_FWP  บันทึกการเดินทางของลูกทีมพรรค     14   266856   \n2   Thanathorn_FWP        นโยบายเศรษฐกิจและภาคใต้     19   232827   \n3   Thanathorn_FWP                      ขาย ธนาธร     14   231283   \n4   Thanathorn_FWP      แนะนำแกนนำ และดาราของพรรค     17   222176   \n5      FWPthailand                  ขายฝันของพรรค     29    52886   \n6      FWPthailand  บันทึกการเดินทางของลูกทีมพรรค     18    37589   \n7      FWPthailand        นโยบายเศรษฐกิจและภาคใต้     30    28156   \n8      FWPthailand      แนะนำแกนนำ และดาราของพรรค     22    24120   \n9      FWPthailand                      ขาย ธนาธร     31    20547   \n10       SPiyabutr  บันทึกการเดินทางของลูกทีมพรรค     36    14209   \n11       SPiyabutr      แนะนำแกนนำ และดาราของพรรค      2     3399   \n12   RangsimanRome                  ขายฝันของพรรค      1      248   \n13   RangsimanRome      แนะนำแกนนำ และดาราของพรรค      1      180   \n14   RangsimanRome  บันทึกการเดินทางของลูกทีมพรรค      1       73   \n\n        eng_mean  eng_max  \n0   15290.913043    87239  \n1   19061.142857   117723  \n2   12254.052632    61705  \n3   16520.214286   142135  \n4   13069.176471    85480  \n5    1823.655172    21359  \n6    2088.277778    13289  \n7     938.533333     6866  \n8    1096.363636     6296  \n9     662.806452     5372  \n10    394.694444     5146  \n11   1699.500000     1830  \n12    248.000000      248  \n13    180.000000      180  \n14     73.000000       73  ",
      "text/html": "<div>\n<style scoped>\n    .dataframe tbody tr th:only-of-type {\n        vertical-align: middle;\n    }\n\n    .dataframe tbody tr th {\n        vertical-align: top;\n    }\n\n    .dataframe thead th {\n        text-align: right;\n    }\n</style>\n<table border=\"1\" class=\"dataframe\">\n  <thead>\n    <tr style=\"text-align: right;\">\n      <th></th>\n      <th>Username</th>\n      <th>topic</th>\n      <th>count</th>\n      <th>eng_sum</th>\n      <th>eng_mean</th>\n      <th>eng_max</th>\n    </tr>\n  </thead>\n  <tbody>\n    <tr>\n      <th>0</th>\n      <td>Thanathorn_FWP</td>\n      <td>ขายฝันของพรรค</td>\n      <td>23</td>\n      <td>351691</td>\n      <td>15290.913043</td>\n      <td>87239</td>\n    </tr>\n    <tr>\n      <th>1</th>\n      <td>Thanathorn_FWP</td>\n      <td>บันทึกการเดินทางของลูกทีมพรรค</td>\n      <td>14</td>\n      <td>266856</td>\n      <td>19061.142857</td>\n      <td>117723</td>\n    </tr>\n    <tr>\n      <th>2</th>\n      <td>Thanathorn_FWP</td>\n      <td>นโยบายเศรษฐกิจและภาคใต้</td>\n      <td>19</td>\n      <td>232827</td>\n      <td>12254.052632</td>\n      <td>61705</td>\n    </tr>\n    <tr>\n      <th>3</th>\n      <td>Thanathorn_FWP</td>\n      <td>ขาย ธนาธร</td>\n      <td>14</td>\n      <td>231283</td>\n      <td>16520.214286</td>\n      <td>142135</td>\n    </tr>\n    <tr>\n      <th>4</th>\n      <td>Thanathorn_FWP</td>\n      <td>แนะนำแกนนำ และดาราของพรรค</td>\n      <td>17</td>\n      <td>222176</td>\n      <td>13069.176471</td>\n      <td>85480</td>\n    </tr>\n    <tr>\n      <th>5</th>\n      <td>FWPthailand</td>\n      <td>ขายฝันของพรรค</td>\n      <td>29</td>\n      <td>52886</td>\n      <td>1823.655172</td>\n      <td>21359</td>\n    </tr>\n    <tr>\n      <th>6</th>\n      <td>FWPthailand</td>\n      <td>บันทึกการเดินทางของลูกทีมพรรค</td>\n      <td>18</td>\n      <td>37589</td>\n      <td>2088.277778</td>\n      <td>13289</td>\n    </tr>\n    <tr>\n      <th>7</th>\n      <td>FWPthailand</td>\n      <td>นโยบายเศรษฐกิจและภาคใต้</td>\n      <td>30</td>\n      <td>28156</td>\n      <td>938.533333</td>\n      <td>6866</td>\n    </tr>\n    <tr>\n      <th>8</th>\n      <td>FWPthailand</td>\n      <td>แนะนำแกนนำ และดาราของพรรค</td>\n      <td>22</td>\n      <td>24120</td>\n      <td>1096.363636</td>\n      <td>6296</td>\n    </tr>\n    <tr>\n      <th>9</th>\n      <td>FWPthailand</td>\n      <td>ขาย ธนาธร</td>\n      <td>31</td>\n      <td>20547</td>\n      <td>662.806452</td>\n      <td>5372</td>\n    </tr>\n    <tr>\n      <th>10</th>\n      <td>SPiyabutr</td>\n      <td>บันทึกการเดินทางของลูกทีมพรรค</td>\n      <td>36</td>\n      <td>14209</td>\n      <td>394.694444</td>\n      <td>5146</td>\n    </tr>\n    <tr>\n      <th>11</th>\n      <td>SPiyabutr</td>\n      <td>แนะนำแกนนำ และดาราของพรรค</td>\n      <td>2</td>\n      <td>3399</td>\n      <td>1699.500000</td>\n      <td>1830</td>\n    </tr>\n    <tr>\n      <th>12</th>\n      <td>RangsimanRome</td>\n      <td>ขายฝันของพรรค</td>\n      <td>1</td>\n      <td>248</td>\n      <td>248.000000</td>\n      <td>248</td>\n    </tr>\n    <tr>\n      <th>13</th>\n      <td>RangsimanRome</td>\n      <td>แนะนำแกนนำ และดาราของพรรค</td>\n      <td>1</td>\n      <td>180</td>\n      <td>180.000000</td>\n      <td>180</td>\n    </tr>\n    <tr>\n      <th>14</th>\n      <td>RangsimanRome</td>\n      <td>บันทึกการเดินทางของลูกทีมพรรค</td>\n      <td>1</td>\n      <td>73</td>\n      <td>73.000000</td>\n      <td>73</td>\n    </tr>\n  </tbody>\n</table>\n</div>"
     },
     "metadata": {}
    },
    {
     "output_type": "display_data",
     "data": {
      "text/plain": "                           topic  count  eng_sum     eng_mean  eng_max\n0                  ขายฝันของพรรค     53   404825  7638.207547    87239\n1  บันทึกการเดินทางของลูกทีมพรรค     69   318727  4619.231884   117723\n2        นโยบายเศรษฐกิจและภาคใต้     49   260983  5326.183673    61705\n3                      ขาย ธนาธร     45   251830  5596.222222   142135\n4      แนะนำแกนนำ และดาราของพรรค     42   249875  5949.404762    85480",
      "text/html": "<div>\n<style scoped>\n    .dataframe tbody tr th:only-of-type {\n        vertical-align: middle;\n    }\n\n    .dataframe tbody tr th {\n        vertical-align: top;\n    }\n\n    .dataframe thead th {\n        text-align: right;\n    }\n</style>\n<table border=\"1\" class=\"dataframe\">\n  <thead>\n    <tr style=\"text-align: right;\">\n      <th></th>\n      <th>topic</th>\n      <th>count</th>\n      <th>eng_sum</th>\n      <th>eng_mean</th>\n      <th>eng_max</th>\n    </tr>\n  </thead>\n  <tbody>\n    <tr>\n      <th>0</th>\n      <td>ขายฝันของพรรค</td>\n      <td>53</td>\n      <td>404825</td>\n      <td>7638.207547</td>\n      <td>87239</td>\n    </tr>\n    <tr>\n      <th>1</th>\n      <td>บันทึกการเดินทางของลูกทีมพรรค</td>\n      <td>69</td>\n      <td>318727</td>\n      <td>4619.231884</td>\n      <td>117723</td>\n    </tr>\n    <tr>\n      <th>2</th>\n      <td>นโยบายเศรษฐกิจและภาคใต้</td>\n      <td>49</td>\n      <td>260983</td>\n      <td>5326.183673</td>\n      <td>61705</td>\n    </tr>\n    <tr>\n      <th>3</th>\n      <td>ขาย ธนาธร</td>\n      <td>45</td>\n      <td>251830</td>\n      <td>5596.222222</td>\n      <td>142135</td>\n    </tr>\n    <tr>\n      <th>4</th>\n      <td>แนะนำแกนนำ และดาราของพรรค</td>\n      <td>42</td>\n      <td>249875</td>\n      <td>5949.404762</td>\n      <td>85480</td>\n    </tr>\n  </tbody>\n</table>\n</div>"
     },
     "metadata": {}
    },
    {
     "output_type": "display_data",
     "data": {
      "text/plain": "None"
     },
     "metadata": {}
    },
    {
     "output_type": "display_data",
     "data": {
      "text/plain": "'Overview'"
     },
     "metadata": {}
    },
    {
     "output_type": "display_data",
     "data": {
      "text/plain": "           Username            Datetime  Retweet count  Favorite count  \\\n589  NewEconomicsTH 2019-03-15 03:23:59           1523             290   \n567  NewEconomicsTH 2019-03-16 11:25:19           1201             377   \n650  NewEconomicsTH 2019-03-08 02:00:22           1248             314   \n569  NewEconomicsTH 2019-03-16 11:05:37            527             276   \n572  NewEconomicsTH 2019-03-16 06:33:36            581             177   \n..              ...                 ...            ...             ...   \n623  NewEconomicsTH 2019-03-10 09:37:30              0               0   \n624  NewEconomicsTH 2019-03-10 08:27:26              0               0   \n625  NewEconomicsTH 2019-03-10 08:17:28              0               0   \n626  NewEconomicsTH 2019-03-10 08:17:25              0               0   \n740  NewEconomicsTH 2019-02-06 09:49:02              0               0   \n\n                                                  Text         Party  \\\n589  อย่าทำเลยครับ\\n\\n#มิ่งขวัญ #พรรคเศรษฐกิจใหม่ #...  เศรษฐกิจใหม่   \n567  ซื่อสัตย์ ไม่โกง เป็นเพราะคุณไม่โกง หรือคุณไม่...  เศรษฐกิจใหม่   \n650  เราจะหาเงินได้จากไหน?\\nระบบ #เศรษฐกิจใหม่ จะทำ...  เศรษฐกิจใหม่   \n569  @rtikan ขอบคุณครับ ฝากลุงมิ่งกับพรรคเศรษฐกิจให...  เศรษฐกิจใหม่   \n572  อยากรู้ลุง #มิ่งขวัญ จะหาเงินเข้าประเทศยังไง ร...  เศรษฐกิจใหม่   \n..                                                 ...           ...   \n623  คำถามของ มิ่งขวัญ แสงสุวรรณ์ พรรค #เศรษฐกิจใหม...  เศรษฐกิจใหม่   \n624  UPDATE: มิ่งขวัญโปรยคำหวาน ‘ลุงมิ่งใจดี’ ย้ำคน...  เศรษฐกิจใหม่   \n625  มิ่งขวัญ แสงสุวรรณ์ หัวหน้าพรรคเศรษฐกิจใหม่ กล...  เศรษฐกิจใหม่   \n626  มิ่งขวัญ แสงสุวรรณ์ พรรค #เศรษฐกิจใหม่ ย้ำเด็ก...  เศรษฐกิจใหม่   \n740  \"พรรคเศรษฐกิจใหม่\" ชู 'มิ่งขวัญ' เบอร์ 1 เจ้าต...  เศรษฐกิจใหม่   \n\n                                                 tweet  \\\n589                                     อย่าทำเลยครับ    \n567  ซื่อสัตย์ ไม่โกง เป็นเพราะคุณไม่โกง หรือคุณไม่...   \n650          เราจะหาเงินได้จากไหน ระบบ จะทำได้อย่างไร    \n569   ขอบคุณครับ ฝากลุงมิ่งกับพรรคเศรษฐกิจใหม่ ด้วย...   \n572  อยากรู้ลุง จะหาเงินเข้าประเทศยังไง รับแผ่นพับ ...   \n..                                                 ...   \n623                 คำถามของ มิ่งขวัญ แสงสุวรรณ์ พรรค    \n624  updat มิ่งขวัญโปรยคำหวาน ‘ลุงมิ่งใจดี’ ย้ำคนไท...   \n625  มิ่งขวัญ แสงสุวรรณ์ หัวหน้าพรรคเศรษฐกิจใหม่ กล...   \n626  มิ่งขวัญ แสงสุวรรณ์ พรรค ย้ำเด็กรุ่นใหม่ต้องรอ...   \n740   พรรคเศรษฐกิจใหม่ ชู มิ่งขวัญ เบอร์  เจ้าตัวลั...   \n\n                                topic  Engagement  \n589                 นโยบายด้านการเงิน        1813  \n567  ลุงมิ่ง สร้างภาพความนิยมลุงมิ่ง         1578  \n650                 นโยบายด้านการเงิน        1562  \n569                นโยบายด้านเศรษฐกิจ         803  \n572  ลุงมิ่ง สร้างภาพความนิยมลุงมิ่ง          758  \n..                                ...         ...  \n623                        ขายลุงมิ่ง           0  \n624  ลุงมิ่ง สร้างภาพความนิยมลุงมิ่ง            0  \n625                        ขายลุงมิ่ง           0  \n626                        ขายลุงมิ่ง           0  \n740                        ขายลุงมิ่ง           0  \n\n[268 rows x 9 columns]",
      "text/html": "<div>\n<style scoped>\n    .dataframe tbody tr th:only-of-type {\n        vertical-align: middle;\n    }\n\n    .dataframe tbody tr th {\n        vertical-align: top;\n    }\n\n    .dataframe thead th {\n        text-align: right;\n    }\n</style>\n<table border=\"1\" class=\"dataframe\">\n  <thead>\n    <tr style=\"text-align: right;\">\n      <th></th>\n      <th>Username</th>\n      <th>Datetime</th>\n      <th>Retweet count</th>\n      <th>Favorite count</th>\n      <th>Text</th>\n      <th>Party</th>\n      <th>tweet</th>\n      <th>topic</th>\n      <th>Engagement</th>\n    </tr>\n  </thead>\n  <tbody>\n    <tr>\n      <th>589</th>\n      <td>NewEconomicsTH</td>\n      <td>2019-03-15 03:23:59</td>\n      <td>1523</td>\n      <td>290</td>\n      <td>อย่าทำเลยครับ\\n\\n#มิ่งขวัญ #พรรคเศรษฐกิจใหม่ #...</td>\n      <td>เศรษฐกิจใหม่</td>\n      <td>อย่าทำเลยครับ</td>\n      <td>นโยบายด้านการเงิน</td>\n      <td>1813</td>\n    </tr>\n    <tr>\n      <th>567</th>\n      <td>NewEconomicsTH</td>\n      <td>2019-03-16 11:25:19</td>\n      <td>1201</td>\n      <td>377</td>\n      <td>ซื่อสัตย์ ไม่โกง เป็นเพราะคุณไม่โกง หรือคุณไม่...</td>\n      <td>เศรษฐกิจใหม่</td>\n      <td>ซื่อสัตย์ ไม่โกง เป็นเพราะคุณไม่โกง หรือคุณไม่...</td>\n      <td>ลุงมิ่ง สร้างภาพความนิยมลุงมิ่ง</td>\n      <td>1578</td>\n    </tr>\n    <tr>\n      <th>650</th>\n      <td>NewEconomicsTH</td>\n      <td>2019-03-08 02:00:22</td>\n      <td>1248</td>\n      <td>314</td>\n      <td>เราจะหาเงินได้จากไหน?\\nระบบ #เศรษฐกิจใหม่ จะทำ...</td>\n      <td>เศรษฐกิจใหม่</td>\n      <td>เราจะหาเงินได้จากไหน ระบบ จะทำได้อย่างไร</td>\n      <td>นโยบายด้านการเงิน</td>\n      <td>1562</td>\n    </tr>\n    <tr>\n      <th>569</th>\n      <td>NewEconomicsTH</td>\n      <td>2019-03-16 11:05:37</td>\n      <td>527</td>\n      <td>276</td>\n      <td>@rtikan ขอบคุณครับ ฝากลุงมิ่งกับพรรคเศรษฐกิจให...</td>\n      <td>เศรษฐกิจใหม่</td>\n      <td>ขอบคุณครับ ฝากลุงมิ่งกับพรรคเศรษฐกิจใหม่ ด้วย...</td>\n      <td>นโยบายด้านเศรษฐกิจ</td>\n      <td>803</td>\n    </tr>\n    <tr>\n      <th>572</th>\n      <td>NewEconomicsTH</td>\n      <td>2019-03-16 06:33:36</td>\n      <td>581</td>\n      <td>177</td>\n      <td>อยากรู้ลุง #มิ่งขวัญ จะหาเงินเข้าประเทศยังไง ร...</td>\n      <td>เศรษฐกิจใหม่</td>\n      <td>อยากรู้ลุง จะหาเงินเข้าประเทศยังไง รับแผ่นพับ ...</td>\n      <td>ลุงมิ่ง สร้างภาพความนิยมลุงมิ่ง</td>\n      <td>758</td>\n    </tr>\n    <tr>\n      <th>...</th>\n      <td>...</td>\n      <td>...</td>\n      <td>...</td>\n      <td>...</td>\n      <td>...</td>\n      <td>...</td>\n      <td>...</td>\n      <td>...</td>\n      <td>...</td>\n    </tr>\n    <tr>\n      <th>623</th>\n      <td>NewEconomicsTH</td>\n      <td>2019-03-10 09:37:30</td>\n      <td>0</td>\n      <td>0</td>\n      <td>คำถามของ มิ่งขวัญ แสงสุวรรณ์ พรรค #เศรษฐกิจใหม...</td>\n      <td>เศรษฐกิจใหม่</td>\n      <td>คำถามของ มิ่งขวัญ แสงสุวรรณ์ พรรค</td>\n      <td>ขายลุงมิ่ง</td>\n      <td>0</td>\n    </tr>\n    <tr>\n      <th>624</th>\n      <td>NewEconomicsTH</td>\n      <td>2019-03-10 08:27:26</td>\n      <td>0</td>\n      <td>0</td>\n      <td>UPDATE: มิ่งขวัญโปรยคำหวาน ‘ลุงมิ่งใจดี’ ย้ำคน...</td>\n      <td>เศรษฐกิจใหม่</td>\n      <td>updat มิ่งขวัญโปรยคำหวาน ‘ลุงมิ่งใจดี’ ย้ำคนไท...</td>\n      <td>ลุงมิ่ง สร้างภาพความนิยมลุงมิ่ง</td>\n      <td>0</td>\n    </tr>\n    <tr>\n      <th>625</th>\n      <td>NewEconomicsTH</td>\n      <td>2019-03-10 08:17:28</td>\n      <td>0</td>\n      <td>0</td>\n      <td>มิ่งขวัญ แสงสุวรรณ์ หัวหน้าพรรคเศรษฐกิจใหม่ กล...</td>\n      <td>เศรษฐกิจใหม่</td>\n      <td>มิ่งขวัญ แสงสุวรรณ์ หัวหน้าพรรคเศรษฐกิจใหม่ กล...</td>\n      <td>ขายลุงมิ่ง</td>\n      <td>0</td>\n    </tr>\n    <tr>\n      <th>626</th>\n      <td>NewEconomicsTH</td>\n      <td>2019-03-10 08:17:25</td>\n      <td>0</td>\n      <td>0</td>\n      <td>มิ่งขวัญ แสงสุวรรณ์ พรรค #เศรษฐกิจใหม่ ย้ำเด็ก...</td>\n      <td>เศรษฐกิจใหม่</td>\n      <td>มิ่งขวัญ แสงสุวรรณ์ พรรค ย้ำเด็กรุ่นใหม่ต้องรอ...</td>\n      <td>ขายลุงมิ่ง</td>\n      <td>0</td>\n    </tr>\n    <tr>\n      <th>740</th>\n      <td>NewEconomicsTH</td>\n      <td>2019-02-06 09:49:02</td>\n      <td>0</td>\n      <td>0</td>\n      <td>\"พรรคเศรษฐกิจใหม่\" ชู 'มิ่งขวัญ' เบอร์ 1 เจ้าต...</td>\n      <td>เศรษฐกิจใหม่</td>\n      <td>พรรคเศรษฐกิจใหม่ ชู มิ่งขวัญ เบอร์  เจ้าตัวลั...</td>\n      <td>ขายลุงมิ่ง</td>\n      <td>0</td>\n    </tr>\n  </tbody>\n</table>\n<p>268 rows × 9 columns</p>\n</div>"
     },
     "metadata": {}
    },
    {
     "output_type": "display_data",
     "data": {
      "text/plain": "'Frequency tweets by username'"
     },
     "metadata": {}
    },
    {
     "output_type": "display_data",
     "data": {
      "text/plain": "NewEconomicsTH    268\nName: Username, dtype: int64"
     },
     "metadata": {}
    },
    {
     "output_type": "display_data",
     "data": {
      "text/plain": "'See Text'"
     },
     "metadata": {}
    },
    {
     "output_type": "display_data",
     "data": {
      "text/plain": "                                                  Text  \\\n589  อย่าทำเลยครับ\\n\\n#มิ่งขวัญ #พรรคเศรษฐกิจใหม่ #...   \n567  ซื่อสัตย์ ไม่โกง เป็นเพราะคุณไม่โกง หรือคุณไม่...   \n650  เราจะหาเงินได้จากไหน?\\nระบบ #เศรษฐกิจใหม่ จะทำ...   \n569  @rtikan ขอบคุณครับ ฝากลุงมิ่งกับพรรคเศรษฐกิจให...   \n572  อยากรู้ลุง #มิ่งขวัญ จะหาเงินเข้าประเทศยังไง ร...   \n..                                                 ...   \n623  คำถามของ มิ่งขวัญ แสงสุวรรณ์ พรรค #เศรษฐกิจใหม...   \n624  UPDATE: มิ่งขวัญโปรยคำหวาน ‘ลุงมิ่งใจดี’ ย้ำคน...   \n625  มิ่งขวัญ แสงสุวรรณ์ หัวหน้าพรรคเศรษฐกิจใหม่ กล...   \n626  มิ่งขวัญ แสงสุวรรณ์ พรรค #เศรษฐกิจใหม่ ย้ำเด็ก...   \n740  \"พรรคเศรษฐกิจใหม่\" ชู 'มิ่งขวัญ' เบอร์ 1 เจ้าต...   \n\n                                topic  Engagement  \n589                 นโยบายด้านการเงิน        1813  \n567  ลุงมิ่ง สร้างภาพความนิยมลุงมิ่ง         1578  \n650                 นโยบายด้านการเงิน        1562  \n569                นโยบายด้านเศรษฐกิจ         803  \n572  ลุงมิ่ง สร้างภาพความนิยมลุงมิ่ง          758  \n..                                ...         ...  \n623                        ขายลุงมิ่ง           0  \n624  ลุงมิ่ง สร้างภาพความนิยมลุงมิ่ง            0  \n625                        ขายลุงมิ่ง           0  \n626                        ขายลุงมิ่ง           0  \n740                        ขายลุงมิ่ง           0  \n\n[268 rows x 3 columns]",
      "text/html": "<div>\n<style scoped>\n    .dataframe tbody tr th:only-of-type {\n        vertical-align: middle;\n    }\n\n    .dataframe tbody tr th {\n        vertical-align: top;\n    }\n\n    .dataframe thead th {\n        text-align: right;\n    }\n</style>\n<table border=\"1\" class=\"dataframe\">\n  <thead>\n    <tr style=\"text-align: right;\">\n      <th></th>\n      <th>Text</th>\n      <th>topic</th>\n      <th>Engagement</th>\n    </tr>\n  </thead>\n  <tbody>\n    <tr>\n      <th>589</th>\n      <td>อย่าทำเลยครับ\\n\\n#มิ่งขวัญ #พรรคเศรษฐกิจใหม่ #...</td>\n      <td>นโยบายด้านการเงิน</td>\n      <td>1813</td>\n    </tr>\n    <tr>\n      <th>567</th>\n      <td>ซื่อสัตย์ ไม่โกง เป็นเพราะคุณไม่โกง หรือคุณไม่...</td>\n      <td>ลุงมิ่ง สร้างภาพความนิยมลุงมิ่ง</td>\n      <td>1578</td>\n    </tr>\n    <tr>\n      <th>650</th>\n      <td>เราจะหาเงินได้จากไหน?\\nระบบ #เศรษฐกิจใหม่ จะทำ...</td>\n      <td>นโยบายด้านการเงิน</td>\n      <td>1562</td>\n    </tr>\n    <tr>\n      <th>569</th>\n      <td>@rtikan ขอบคุณครับ ฝากลุงมิ่งกับพรรคเศรษฐกิจให...</td>\n      <td>นโยบายด้านเศรษฐกิจ</td>\n      <td>803</td>\n    </tr>\n    <tr>\n      <th>572</th>\n      <td>อยากรู้ลุง #มิ่งขวัญ จะหาเงินเข้าประเทศยังไง ร...</td>\n      <td>ลุงมิ่ง สร้างภาพความนิยมลุงมิ่ง</td>\n      <td>758</td>\n    </tr>\n    <tr>\n      <th>...</th>\n      <td>...</td>\n      <td>...</td>\n      <td>...</td>\n    </tr>\n    <tr>\n      <th>623</th>\n      <td>คำถามของ มิ่งขวัญ แสงสุวรรณ์ พรรค #เศรษฐกิจใหม...</td>\n      <td>ขายลุงมิ่ง</td>\n      <td>0</td>\n    </tr>\n    <tr>\n      <th>624</th>\n      <td>UPDATE: มิ่งขวัญโปรยคำหวาน ‘ลุงมิ่งใจดี’ ย้ำคน...</td>\n      <td>ลุงมิ่ง สร้างภาพความนิยมลุงมิ่ง</td>\n      <td>0</td>\n    </tr>\n    <tr>\n      <th>625</th>\n      <td>มิ่งขวัญ แสงสุวรรณ์ หัวหน้าพรรคเศรษฐกิจใหม่ กล...</td>\n      <td>ขายลุงมิ่ง</td>\n      <td>0</td>\n    </tr>\n    <tr>\n      <th>626</th>\n      <td>มิ่งขวัญ แสงสุวรรณ์ พรรค #เศรษฐกิจใหม่ ย้ำเด็ก...</td>\n      <td>ขายลุงมิ่ง</td>\n      <td>0</td>\n    </tr>\n    <tr>\n      <th>740</th>\n      <td>\"พรรคเศรษฐกิจใหม่\" ชู 'มิ่งขวัญ' เบอร์ 1 เจ้าต...</td>\n      <td>ขายลุงมิ่ง</td>\n      <td>0</td>\n    </tr>\n  </tbody>\n</table>\n<p>268 rows × 3 columns</p>\n</div>"
     },
     "metadata": {}
    },
    {
     "output_type": "display_data",
     "data": {
      "text/plain": "'See topic'"
     },
     "metadata": {}
    },
    {
     "output_type": "display_data",
     "data": {
      "text/plain": "         Username                             topic  count  eng_sum  \\\n0  NewEconomicsTH                 นโยบายด้านการเงิน     31     5039   \n1  NewEconomicsTH  ลุงมิ่ง สร้างภาพความนิยมลุงมิ่ง      38     4006   \n2  NewEconomicsTH                นโยบายด้านเศรษฐกิจ     65     1938   \n3  NewEconomicsTH                        ขายลุงมิ่ง     97      669   \n4  NewEconomicsTH              ลุงมิ่งในสื่อ online     37      648   \n\n     eng_mean  eng_max  \n0  162.548387     1813  \n1  105.421053     1578  \n2   29.815385      803  \n3    6.896907      300  \n4   17.513514      182  ",
      "text/html": "<div>\n<style scoped>\n    .dataframe tbody tr th:only-of-type {\n        vertical-align: middle;\n    }\n\n    .dataframe tbody tr th {\n        vertical-align: top;\n    }\n\n    .dataframe thead th {\n        text-align: right;\n    }\n</style>\n<table border=\"1\" class=\"dataframe\">\n  <thead>\n    <tr style=\"text-align: right;\">\n      <th></th>\n      <th>Username</th>\n      <th>topic</th>\n      <th>count</th>\n      <th>eng_sum</th>\n      <th>eng_mean</th>\n      <th>eng_max</th>\n    </tr>\n  </thead>\n  <tbody>\n    <tr>\n      <th>0</th>\n      <td>NewEconomicsTH</td>\n      <td>นโยบายด้านการเงิน</td>\n      <td>31</td>\n      <td>5039</td>\n      <td>162.548387</td>\n      <td>1813</td>\n    </tr>\n    <tr>\n      <th>1</th>\n      <td>NewEconomicsTH</td>\n      <td>ลุงมิ่ง สร้างภาพความนิยมลุงมิ่ง</td>\n      <td>38</td>\n      <td>4006</td>\n      <td>105.421053</td>\n      <td>1578</td>\n    </tr>\n    <tr>\n      <th>2</th>\n      <td>NewEconomicsTH</td>\n      <td>นโยบายด้านเศรษฐกิจ</td>\n      <td>65</td>\n      <td>1938</td>\n      <td>29.815385</td>\n      <td>803</td>\n    </tr>\n    <tr>\n      <th>3</th>\n      <td>NewEconomicsTH</td>\n      <td>ขายลุงมิ่ง</td>\n      <td>97</td>\n      <td>669</td>\n      <td>6.896907</td>\n      <td>300</td>\n    </tr>\n    <tr>\n      <th>4</th>\n      <td>NewEconomicsTH</td>\n      <td>ลุงมิ่งในสื่อ online</td>\n      <td>37</td>\n      <td>648</td>\n      <td>17.513514</td>\n      <td>182</td>\n    </tr>\n  </tbody>\n</table>\n</div>"
     },
     "metadata": {}
    },
    {
     "output_type": "display_data",
     "data": {
      "text/plain": "                              topic  count  eng_sum    eng_mean  eng_max\n0                 นโยบายด้านการเงิน     31     5039  162.548387     1813\n1  ลุงมิ่ง สร้างภาพความนิยมลุงมิ่ง      38     4006  105.421053     1578\n2                นโยบายด้านเศรษฐกิจ     65     1938   29.815385      803\n3                        ขายลุงมิ่ง     97      669    6.896907      300\n4              ลุงมิ่งในสื่อ online     37      648   17.513514      182",
      "text/html": "<div>\n<style scoped>\n    .dataframe tbody tr th:only-of-type {\n        vertical-align: middle;\n    }\n\n    .dataframe tbody tr th {\n        vertical-align: top;\n    }\n\n    .dataframe thead th {\n        text-align: right;\n    }\n</style>\n<table border=\"1\" class=\"dataframe\">\n  <thead>\n    <tr style=\"text-align: right;\">\n      <th></th>\n      <th>topic</th>\n      <th>count</th>\n      <th>eng_sum</th>\n      <th>eng_mean</th>\n      <th>eng_max</th>\n    </tr>\n  </thead>\n  <tbody>\n    <tr>\n      <th>0</th>\n      <td>นโยบายด้านการเงิน</td>\n      <td>31</td>\n      <td>5039</td>\n      <td>162.548387</td>\n      <td>1813</td>\n    </tr>\n    <tr>\n      <th>1</th>\n      <td>ลุงมิ่ง สร้างภาพความนิยมลุงมิ่ง</td>\n      <td>38</td>\n      <td>4006</td>\n      <td>105.421053</td>\n      <td>1578</td>\n    </tr>\n    <tr>\n      <th>2</th>\n      <td>นโยบายด้านเศรษฐกิจ</td>\n      <td>65</td>\n      <td>1938</td>\n      <td>29.815385</td>\n      <td>803</td>\n    </tr>\n    <tr>\n      <th>3</th>\n      <td>ขายลุงมิ่ง</td>\n      <td>97</td>\n      <td>669</td>\n      <td>6.896907</td>\n      <td>300</td>\n    </tr>\n    <tr>\n      <th>4</th>\n      <td>ลุงมิ่งในสื่อ online</td>\n      <td>37</td>\n      <td>648</td>\n      <td>17.513514</td>\n      <td>182</td>\n    </tr>\n  </tbody>\n</table>\n</div>"
     },
     "metadata": {}
    },
    {
     "output_type": "display_data",
     "data": {
      "text/plain": "None"
     },
     "metadata": {}
    },
    {
     "output_type": "display_data",
     "data": {
      "text/plain": "'Overview'"
     },
     "metadata": {}
    },
    {
     "output_type": "display_data",
     "data": {
      "text/plain": "             Username            Datetime  Retweet count  Favorite count  \\\n899  sudaratofficiall 2019-02-27 12:10:38          24428            7321   \n884  sudaratofficiall 2019-03-06 12:53:45          16887            4297   \n874  sudaratofficiall 2019-03-14 15:22:44          15412            2442   \n863  sudaratofficiall 2019-03-20 03:41:51           8431            2720   \n882  sudaratofficiall 2019-03-10 11:33:11           8104            2856   \n..                ...                 ...            ...             ...   \n151     PheuThaiParty 2019-03-07 05:30:50              0               0   \n171     PheuThaiParty 2019-02-15 13:37:00              0               0   \n170     PheuThaiParty 2019-02-15 13:37:56              0               0   \n184     PheuThaiParty 2019-02-15 09:52:43              0               0   \n183     PheuThaiParty 2019-02-15 09:54:35              0               0   \n\n                                                  Text     Party  \\\n899  ประชาชนทั้งประเทศเลือก สส. 500คน \\n\\nคสช.เลือก...  เพื่อไทย   \n884  ขอบคุณมากค่ะ  ได้รับทราบเรื่องแล้ว ไม่สบายใจ แ...  เพื่อไทย   \n874  เอาตรงๆ นะคะ\\n\\nเพื่อไทย ประกาศไม่ร่วมกับพลังป...  เพื่อไทย   \n863  ข้อคิดจากนักปราชญ์จีน “ฆ่าสุกรสอนบุตร” ที่สัญญ...  เพื่อไทย   \n882  จุดยืนของพรรคเพื่อไทยในการร่วมรัฐบาลชัดเจนมากค...  เพื่อไทย   \n..                                                 ...       ...   \n151  แม่หน่อย และเพื่อไทยได้จัดการดังนี้ค่ะ\\n\\n1) ศ...  เพื่อไทย   \n171  Flavour of the atmosphere at #Thailand #PheuTh...  เพื่อไทย   \n170  รับชมการปราศรัยใหญ่พรรคเพื่อไทย จากลานคนเมือง ...  เพื่อไทย   \n184  #Thailand #PheuThai party, linked to ex-#PM #T...  เพื่อไทย   \n183  ใครอยากได้ไลฟ์สด บอกบุญให้ตามนี้ค่ะ\\nhttps://t...  เพื่อไทย   \n\n                                                 tweet  \\\n899  ประชาชนทั้งประเทศเลือก สส คน คสช เลือก สว คน ส...   \n884  ขอบคุณมากค่ะ ได้รับทราบเรื่องแล้ว ไม่สบายใจ แล...   \n874  เอาตรงๆ นะคะ เพื่อไทย ประกาศไม่ร่วมกับพลังประช...   \n863  ข้อคิดจากนักปราชญ์จีน “ฆ่าสุกรสอนบุตร” ที่สัญญ...   \n882  จุดยืนของพรรคเพื่อไทยในการร่วมรัฐบาลชัดเจนมากค...   \n..                                                 ...   \n151  แม่หน่อย และเพื่อไทยได้จัดการดังนี้ค่ะ  ศุภชัย...   \n171  flavour atmospher parti ralli  hour parti co f...   \n170  รับชมการปราศรัยใหญ่พรรคเพื่อไทย จากลานคนเมือง ...   \n184   parti link ex hold mass ralli said st parti v...   \n183               ใครอยากได้ไลฟ์สด บอกบุญให้ตามนี้ค่ะ    \n\n                                       topic  Engagement  \n899                ทักษิณละนโยบายสำหรับอนาคต       31749  \n884              ประชาสัมพันธ์สถานที่ปราศรัย       21184  \n874  article ภาษาอังกฤษ นโยบายเศรษฐกิจ สังคม       17854  \n863  article ภาษาอังกฤษ นโยบายเศรษฐกิจ สังคม       11151  \n882            ความเป็นมืออาชีพในการแก้ปัญหา       10960  \n..                                       ...         ...  \n151                ทักษิณละนโยบายสำหรับอนาคต           0  \n171  article ภาษาอังกฤษ นโยบายเศรษฐกิจ สังคม           0  \n170              ประชาสัมพันธ์สถานที่ปราศรัย           0  \n184  article ภาษาอังกฤษ นโยบายเศรษฐกิจ สังคม           0  \n183              บรรยากาศการปราศรัย + นโยบาย           0  \n\n[157 rows x 9 columns]",
      "text/html": "<div>\n<style scoped>\n    .dataframe tbody tr th:only-of-type {\n        vertical-align: middle;\n    }\n\n    .dataframe tbody tr th {\n        vertical-align: top;\n    }\n\n    .dataframe thead th {\n        text-align: right;\n    }\n</style>\n<table border=\"1\" class=\"dataframe\">\n  <thead>\n    <tr style=\"text-align: right;\">\n      <th></th>\n      <th>Username</th>\n      <th>Datetime</th>\n      <th>Retweet count</th>\n      <th>Favorite count</th>\n      <th>Text</th>\n      <th>Party</th>\n      <th>tweet</th>\n      <th>topic</th>\n      <th>Engagement</th>\n    </tr>\n  </thead>\n  <tbody>\n    <tr>\n      <th>899</th>\n      <td>sudaratofficiall</td>\n      <td>2019-02-27 12:10:38</td>\n      <td>24428</td>\n      <td>7321</td>\n      <td>ประชาชนทั้งประเทศเลือก สส. 500คน \\n\\nคสช.เลือก...</td>\n      <td>เพื่อไทย</td>\n      <td>ประชาชนทั้งประเทศเลือก สส คน คสช เลือก สว คน ส...</td>\n      <td>ทักษิณละนโยบายสำหรับอนาคต</td>\n      <td>31749</td>\n    </tr>\n    <tr>\n      <th>884</th>\n      <td>sudaratofficiall</td>\n      <td>2019-03-06 12:53:45</td>\n      <td>16887</td>\n      <td>4297</td>\n      <td>ขอบคุณมากค่ะ  ได้รับทราบเรื่องแล้ว ไม่สบายใจ แ...</td>\n      <td>เพื่อไทย</td>\n      <td>ขอบคุณมากค่ะ ได้รับทราบเรื่องแล้ว ไม่สบายใจ แล...</td>\n      <td>ประชาสัมพันธ์สถานที่ปราศรัย</td>\n      <td>21184</td>\n    </tr>\n    <tr>\n      <th>874</th>\n      <td>sudaratofficiall</td>\n      <td>2019-03-14 15:22:44</td>\n      <td>15412</td>\n      <td>2442</td>\n      <td>เอาตรงๆ นะคะ\\n\\nเพื่อไทย ประกาศไม่ร่วมกับพลังป...</td>\n      <td>เพื่อไทย</td>\n      <td>เอาตรงๆ นะคะ เพื่อไทย ประกาศไม่ร่วมกับพลังประช...</td>\n      <td>article ภาษาอังกฤษ นโยบายเศรษฐกิจ สังคม</td>\n      <td>17854</td>\n    </tr>\n    <tr>\n      <th>863</th>\n      <td>sudaratofficiall</td>\n      <td>2019-03-20 03:41:51</td>\n      <td>8431</td>\n      <td>2720</td>\n      <td>ข้อคิดจากนักปราชญ์จีน “ฆ่าสุกรสอนบุตร” ที่สัญญ...</td>\n      <td>เพื่อไทย</td>\n      <td>ข้อคิดจากนักปราชญ์จีน “ฆ่าสุกรสอนบุตร” ที่สัญญ...</td>\n      <td>article ภาษาอังกฤษ นโยบายเศรษฐกิจ สังคม</td>\n      <td>11151</td>\n    </tr>\n    <tr>\n      <th>882</th>\n      <td>sudaratofficiall</td>\n      <td>2019-03-10 11:33:11</td>\n      <td>8104</td>\n      <td>2856</td>\n      <td>จุดยืนของพรรคเพื่อไทยในการร่วมรัฐบาลชัดเจนมากค...</td>\n      <td>เพื่อไทย</td>\n      <td>จุดยืนของพรรคเพื่อไทยในการร่วมรัฐบาลชัดเจนมากค...</td>\n      <td>ความเป็นมืออาชีพในการแก้ปัญหา</td>\n      <td>10960</td>\n    </tr>\n    <tr>\n      <th>...</th>\n      <td>...</td>\n      <td>...</td>\n      <td>...</td>\n      <td>...</td>\n      <td>...</td>\n      <td>...</td>\n      <td>...</td>\n      <td>...</td>\n      <td>...</td>\n    </tr>\n    <tr>\n      <th>151</th>\n      <td>PheuThaiParty</td>\n      <td>2019-03-07 05:30:50</td>\n      <td>0</td>\n      <td>0</td>\n      <td>แม่หน่อย และเพื่อไทยได้จัดการดังนี้ค่ะ\\n\\n1) ศ...</td>\n      <td>เพื่อไทย</td>\n      <td>แม่หน่อย และเพื่อไทยได้จัดการดังนี้ค่ะ  ศุภชัย...</td>\n      <td>ทักษิณละนโยบายสำหรับอนาคต</td>\n      <td>0</td>\n    </tr>\n    <tr>\n      <th>171</th>\n      <td>PheuThaiParty</td>\n      <td>2019-02-15 13:37:00</td>\n      <td>0</td>\n      <td>0</td>\n      <td>Flavour of the atmosphere at #Thailand #PheuTh...</td>\n      <td>เพื่อไทย</td>\n      <td>flavour atmospher parti ralli  hour parti co f...</td>\n      <td>article ภาษาอังกฤษ นโยบายเศรษฐกิจ สังคม</td>\n      <td>0</td>\n    </tr>\n    <tr>\n      <th>170</th>\n      <td>PheuThaiParty</td>\n      <td>2019-02-15 13:37:56</td>\n      <td>0</td>\n      <td>0</td>\n      <td>รับชมการปราศรัยใหญ่พรรคเพื่อไทย จากลานคนเมือง ...</td>\n      <td>เพื่อไทย</td>\n      <td>รับชมการปราศรัยใหญ่พรรคเพื่อไทย จากลานคนเมือง ...</td>\n      <td>ประชาสัมพันธ์สถานที่ปราศรัย</td>\n      <td>0</td>\n    </tr>\n    <tr>\n      <th>184</th>\n      <td>PheuThaiParty</td>\n      <td>2019-02-15 09:52:43</td>\n      <td>0</td>\n      <td>0</td>\n      <td>#Thailand #PheuThai party, linked to ex-#PM #T...</td>\n      <td>เพื่อไทย</td>\n      <td>parti link ex hold mass ralli said st parti v...</td>\n      <td>article ภาษาอังกฤษ นโยบายเศรษฐกิจ สังคม</td>\n      <td>0</td>\n    </tr>\n    <tr>\n      <th>183</th>\n      <td>PheuThaiParty</td>\n      <td>2019-02-15 09:54:35</td>\n      <td>0</td>\n      <td>0</td>\n      <td>ใครอยากได้ไลฟ์สด บอกบุญให้ตามนี้ค่ะ\\nhttps://t...</td>\n      <td>เพื่อไทย</td>\n      <td>ใครอยากได้ไลฟ์สด บอกบุญให้ตามนี้ค่ะ</td>\n      <td>บรรยากาศการปราศรัย + นโยบาย</td>\n      <td>0</td>\n    </tr>\n  </tbody>\n</table>\n<p>157 rows × 9 columns</p>\n</div>"
     },
     "metadata": {}
    },
    {
     "output_type": "display_data",
     "data": {
      "text/plain": "'Frequency tweets by username'"
     },
     "metadata": {}
    },
    {
     "output_type": "display_data",
     "data": {
      "text/plain": "sudaratofficiall    79\nPheuThaiParty       68\nThaksinLive         10\nName: Username, dtype: int64"
     },
     "metadata": {}
    },
    {
     "output_type": "display_data",
     "data": {
      "text/plain": "'See Text'"
     },
     "metadata": {}
    },
    {
     "output_type": "display_data",
     "data": {
      "text/plain": "                                                  Text  \\\n899  ประชาชนทั้งประเทศเลือก สส. 500คน \\n\\nคสช.เลือก...   \n884  ขอบคุณมากค่ะ  ได้รับทราบเรื่องแล้ว ไม่สบายใจ แ...   \n874  เอาตรงๆ นะคะ\\n\\nเพื่อไทย ประกาศไม่ร่วมกับพลังป...   \n863  ข้อคิดจากนักปราชญ์จีน “ฆ่าสุกรสอนบุตร” ที่สัญญ...   \n882  จุดยืนของพรรคเพื่อไทยในการร่วมรัฐบาลชัดเจนมากค...   \n..                                                 ...   \n151  แม่หน่อย และเพื่อไทยได้จัดการดังนี้ค่ะ\\n\\n1) ศ...   \n171  Flavour of the atmosphere at #Thailand #PheuTh...   \n170  รับชมการปราศรัยใหญ่พรรคเพื่อไทย จากลานคนเมือง ...   \n184  #Thailand #PheuThai party, linked to ex-#PM #T...   \n183  ใครอยากได้ไลฟ์สด บอกบุญให้ตามนี้ค่ะ\\nhttps://t...   \n\n                                       topic  Engagement  \n899                ทักษิณละนโยบายสำหรับอนาคต       31749  \n884              ประชาสัมพันธ์สถานที่ปราศรัย       21184  \n874  article ภาษาอังกฤษ นโยบายเศรษฐกิจ สังคม       17854  \n863  article ภาษาอังกฤษ นโยบายเศรษฐกิจ สังคม       11151  \n882            ความเป็นมืออาชีพในการแก้ปัญหา       10960  \n..                                       ...         ...  \n151                ทักษิณละนโยบายสำหรับอนาคต           0  \n171  article ภาษาอังกฤษ นโยบายเศรษฐกิจ สังคม           0  \n170              ประชาสัมพันธ์สถานที่ปราศรัย           0  \n184  article ภาษาอังกฤษ นโยบายเศรษฐกิจ สังคม           0  \n183              บรรยากาศการปราศรัย + นโยบาย           0  \n\n[157 rows x 3 columns]",
      "text/html": "<div>\n<style scoped>\n    .dataframe tbody tr th:only-of-type {\n        vertical-align: middle;\n    }\n\n    .dataframe tbody tr th {\n        vertical-align: top;\n    }\n\n    .dataframe thead th {\n        text-align: right;\n    }\n</style>\n<table border=\"1\" class=\"dataframe\">\n  <thead>\n    <tr style=\"text-align: right;\">\n      <th></th>\n      <th>Text</th>\n      <th>topic</th>\n      <th>Engagement</th>\n    </tr>\n  </thead>\n  <tbody>\n    <tr>\n      <th>899</th>\n      <td>ประชาชนทั้งประเทศเลือก สส. 500คน \\n\\nคสช.เลือก...</td>\n      <td>ทักษิณละนโยบายสำหรับอนาคต</td>\n      <td>31749</td>\n    </tr>\n    <tr>\n      <th>884</th>\n      <td>ขอบคุณมากค่ะ  ได้รับทราบเรื่องแล้ว ไม่สบายใจ แ...</td>\n      <td>ประชาสัมพันธ์สถานที่ปราศรัย</td>\n      <td>21184</td>\n    </tr>\n    <tr>\n      <th>874</th>\n      <td>เอาตรงๆ นะคะ\\n\\nเพื่อไทย ประกาศไม่ร่วมกับพลังป...</td>\n      <td>article ภาษาอังกฤษ นโยบายเศรษฐกิจ สังคม</td>\n      <td>17854</td>\n    </tr>\n    <tr>\n      <th>863</th>\n      <td>ข้อคิดจากนักปราชญ์จีน “ฆ่าสุกรสอนบุตร” ที่สัญญ...</td>\n      <td>article ภาษาอังกฤษ นโยบายเศรษฐกิจ สังคม</td>\n      <td>11151</td>\n    </tr>\n    <tr>\n      <th>882</th>\n      <td>จุดยืนของพรรคเพื่อไทยในการร่วมรัฐบาลชัดเจนมากค...</td>\n      <td>ความเป็นมืออาชีพในการแก้ปัญหา</td>\n      <td>10960</td>\n    </tr>\n    <tr>\n      <th>...</th>\n      <td>...</td>\n      <td>...</td>\n      <td>...</td>\n    </tr>\n    <tr>\n      <th>151</th>\n      <td>แม่หน่อย และเพื่อไทยได้จัดการดังนี้ค่ะ\\n\\n1) ศ...</td>\n      <td>ทักษิณละนโยบายสำหรับอนาคต</td>\n      <td>0</td>\n    </tr>\n    <tr>\n      <th>171</th>\n      <td>Flavour of the atmosphere at #Thailand #PheuTh...</td>\n      <td>article ภาษาอังกฤษ นโยบายเศรษฐกิจ สังคม</td>\n      <td>0</td>\n    </tr>\n    <tr>\n      <th>170</th>\n      <td>รับชมการปราศรัยใหญ่พรรคเพื่อไทย จากลานคนเมือง ...</td>\n      <td>ประชาสัมพันธ์สถานที่ปราศรัย</td>\n      <td>0</td>\n    </tr>\n    <tr>\n      <th>184</th>\n      <td>#Thailand #PheuThai party, linked to ex-#PM #T...</td>\n      <td>article ภาษาอังกฤษ นโยบายเศรษฐกิจ สังคม</td>\n      <td>0</td>\n    </tr>\n    <tr>\n      <th>183</th>\n      <td>ใครอยากได้ไลฟ์สด บอกบุญให้ตามนี้ค่ะ\\nhttps://t...</td>\n      <td>บรรยากาศการปราศรัย + นโยบาย</td>\n      <td>0</td>\n    </tr>\n  </tbody>\n</table>\n<p>157 rows × 3 columns</p>\n</div>"
     },
     "metadata": {}
    },
    {
     "output_type": "display_data",
     "data": {
      "text/plain": "'See topic'"
     },
     "metadata": {}
    },
    {
     "output_type": "display_data",
     "data": {
      "text/plain": "            Username                                    topic  count  eng_sum  \\\n0   sudaratofficiall            ความเป็นมืออาชีพในการแก้ปัญหา     14    48125   \n1   sudaratofficiall                ทักษิณละนโยบายสำหรับอนาคต      7    45401   \n2   sudaratofficiall  article ภาษาอังกฤษ นโยบายเศรษฐกิจ สังคม     11    45294   \n3   sudaratofficiall              ประชาสัมพันธ์สถานที่ปราศรัย     38    36343   \n4        ThaksinLive                ทักษิณละนโยบายสำหรับอนาคต      7    20358   \n5   sudaratofficiall              บรรยากาศการปราศรัย + นโยบาย      9    20253   \n6        ThaksinLive              บรรยากาศการปราศรัย + นโยบาย      1     6123   \n7        ThaksinLive            ความเป็นมืออาชีพในการแก้ปัญหา      1     4375   \n8        ThaksinLive  article ภาษาอังกฤษ นโยบายเศรษฐกิจ สังคม      1     4204   \n9      PheuThaiParty  article ภาษาอังกฤษ นโยบายเศรษฐกิจ สังคม     17     3295   \n10     PheuThaiParty              บรรยากาศการปราศรัย + นโยบาย     17     1216   \n11     PheuThaiParty            ความเป็นมืออาชีพในการแก้ปัญหา      4     1211   \n12     PheuThaiParty                ทักษิณละนโยบายสำหรับอนาคต     14     1143   \n13     PheuThaiParty              ประชาสัมพันธ์สถานที่ปราศรัย     16      876   \n\n       eng_mean  eng_max  \n0   3437.500000    10960  \n1   6485.857143    31749  \n2   4117.636364    17854  \n3    956.394737    21184  \n4   2908.285714     4299  \n5   2250.333333     5425  \n6   6123.000000     6123  \n7   4375.000000     4375  \n8   4204.000000     4204  \n9    193.823529      927  \n10    71.529412      188  \n11   302.750000      839  \n12    81.642857      256  \n13    54.750000      269  ",
      "text/html": "<div>\n<style scoped>\n    .dataframe tbody tr th:only-of-type {\n        vertical-align: middle;\n    }\n\n    .dataframe tbody tr th {\n        vertical-align: top;\n    }\n\n    .dataframe thead th {\n        text-align: right;\n    }\n</style>\n<table border=\"1\" class=\"dataframe\">\n  <thead>\n    <tr style=\"text-align: right;\">\n      <th></th>\n      <th>Username</th>\n      <th>topic</th>\n      <th>count</th>\n      <th>eng_sum</th>\n      <th>eng_mean</th>\n      <th>eng_max</th>\n    </tr>\n  </thead>\n  <tbody>\n    <tr>\n      <th>0</th>\n      <td>sudaratofficiall</td>\n      <td>ความเป็นมืออาชีพในการแก้ปัญหา</td>\n      <td>14</td>\n      <td>48125</td>\n      <td>3437.500000</td>\n      <td>10960</td>\n    </tr>\n    <tr>\n      <th>1</th>\n      <td>sudaratofficiall</td>\n      <td>ทักษิณละนโยบายสำหรับอนาคต</td>\n      <td>7</td>\n      <td>45401</td>\n      <td>6485.857143</td>\n      <td>31749</td>\n    </tr>\n    <tr>\n      <th>2</th>\n      <td>sudaratofficiall</td>\n      <td>article ภาษาอังกฤษ นโยบายเศรษฐกิจ สังคม</td>\n      <td>11</td>\n      <td>45294</td>\n      <td>4117.636364</td>\n      <td>17854</td>\n    </tr>\n    <tr>\n      <th>3</th>\n      <td>sudaratofficiall</td>\n      <td>ประชาสัมพันธ์สถานที่ปราศรัย</td>\n      <td>38</td>\n      <td>36343</td>\n      <td>956.394737</td>\n      <td>21184</td>\n    </tr>\n    <tr>\n      <th>4</th>\n      <td>ThaksinLive</td>\n      <td>ทักษิณละนโยบายสำหรับอนาคต</td>\n      <td>7</td>\n      <td>20358</td>\n      <td>2908.285714</td>\n      <td>4299</td>\n    </tr>\n    <tr>\n      <th>5</th>\n      <td>sudaratofficiall</td>\n      <td>บรรยากาศการปราศรัย + นโยบาย</td>\n      <td>9</td>\n      <td>20253</td>\n      <td>2250.333333</td>\n      <td>5425</td>\n    </tr>\n    <tr>\n      <th>6</th>\n      <td>ThaksinLive</td>\n      <td>บรรยากาศการปราศรัย + นโยบาย</td>\n      <td>1</td>\n      <td>6123</td>\n      <td>6123.000000</td>\n      <td>6123</td>\n    </tr>\n    <tr>\n      <th>7</th>\n      <td>ThaksinLive</td>\n      <td>ความเป็นมืออาชีพในการแก้ปัญหา</td>\n      <td>1</td>\n      <td>4375</td>\n      <td>4375.000000</td>\n      <td>4375</td>\n    </tr>\n    <tr>\n      <th>8</th>\n      <td>ThaksinLive</td>\n      <td>article ภาษาอังกฤษ นโยบายเศรษฐกิจ สังคม</td>\n      <td>1</td>\n      <td>4204</td>\n      <td>4204.000000</td>\n      <td>4204</td>\n    </tr>\n    <tr>\n      <th>9</th>\n      <td>PheuThaiParty</td>\n      <td>article ภาษาอังกฤษ นโยบายเศรษฐกิจ สังคม</td>\n      <td>17</td>\n      <td>3295</td>\n      <td>193.823529</td>\n      <td>927</td>\n    </tr>\n    <tr>\n      <th>10</th>\n      <td>PheuThaiParty</td>\n      <td>บรรยากาศการปราศรัย + นโยบาย</td>\n      <td>17</td>\n      <td>1216</td>\n      <td>71.529412</td>\n      <td>188</td>\n    </tr>\n    <tr>\n      <th>11</th>\n      <td>PheuThaiParty</td>\n      <td>ความเป็นมืออาชีพในการแก้ปัญหา</td>\n      <td>4</td>\n      <td>1211</td>\n      <td>302.750000</td>\n      <td>839</td>\n    </tr>\n    <tr>\n      <th>12</th>\n      <td>PheuThaiParty</td>\n      <td>ทักษิณละนโยบายสำหรับอนาคต</td>\n      <td>14</td>\n      <td>1143</td>\n      <td>81.642857</td>\n      <td>256</td>\n    </tr>\n    <tr>\n      <th>13</th>\n      <td>PheuThaiParty</td>\n      <td>ประชาสัมพันธ์สถานที่ปราศรัย</td>\n      <td>16</td>\n      <td>876</td>\n      <td>54.750000</td>\n      <td>269</td>\n    </tr>\n  </tbody>\n</table>\n</div>"
     },
     "metadata": {}
    },
    {
     "output_type": "display_data",
     "data": {
      "text/plain": "                                     topic  count  eng_sum     eng_mean  \\\n0                ทักษิณละนโยบายสำหรับอนาคต     28    66902  2389.357143   \n1            ความเป็นมืออาชีพในการแก้ปัญหา     19    53711  2826.894737   \n2  article ภาษาอังกฤษ นโยบายเศรษฐกิจ สังคม     29    52793  1820.448276   \n3              ประชาสัมพันธ์สถานที่ปราศรัย     54    37219   689.240741   \n4              บรรยากาศการปราศรัย + นโยบาย     27    27592  1021.925926   \n\n   eng_max  \n0    31749  \n1    10960  \n2    17854  \n3    21184  \n4     6123  ",
      "text/html": "<div>\n<style scoped>\n    .dataframe tbody tr th:only-of-type {\n        vertical-align: middle;\n    }\n\n    .dataframe tbody tr th {\n        vertical-align: top;\n    }\n\n    .dataframe thead th {\n        text-align: right;\n    }\n</style>\n<table border=\"1\" class=\"dataframe\">\n  <thead>\n    <tr style=\"text-align: right;\">\n      <th></th>\n      <th>topic</th>\n      <th>count</th>\n      <th>eng_sum</th>\n      <th>eng_mean</th>\n      <th>eng_max</th>\n    </tr>\n  </thead>\n  <tbody>\n    <tr>\n      <th>0</th>\n      <td>ทักษิณละนโยบายสำหรับอนาคต</td>\n      <td>28</td>\n      <td>66902</td>\n      <td>2389.357143</td>\n      <td>31749</td>\n    </tr>\n    <tr>\n      <th>1</th>\n      <td>ความเป็นมืออาชีพในการแก้ปัญหา</td>\n      <td>19</td>\n      <td>53711</td>\n      <td>2826.894737</td>\n      <td>10960</td>\n    </tr>\n    <tr>\n      <th>2</th>\n      <td>article ภาษาอังกฤษ นโยบายเศรษฐกิจ สังคม</td>\n      <td>29</td>\n      <td>52793</td>\n      <td>1820.448276</td>\n      <td>17854</td>\n    </tr>\n    <tr>\n      <th>3</th>\n      <td>ประชาสัมพันธ์สถานที่ปราศรัย</td>\n      <td>54</td>\n      <td>37219</td>\n      <td>689.240741</td>\n      <td>21184</td>\n    </tr>\n    <tr>\n      <th>4</th>\n      <td>บรรยากาศการปราศรัย + นโยบาย</td>\n      <td>27</td>\n      <td>27592</td>\n      <td>1021.925926</td>\n      <td>6123</td>\n    </tr>\n  </tbody>\n</table>\n</div>"
     },
     "metadata": {}
    },
    {
     "output_type": "display_data",
     "data": {
      "text/plain": "None"
     },
     "metadata": {}
    },
    {
     "output_type": "display_data",
     "data": {
      "text/plain": "'Overview'"
     },
     "metadata": {}
    },
    {
     "output_type": "display_data",
     "data": {
      "text/plain": "           Username            Datetime  Retweet count  Favorite count  \\\n843  prayutofficial 2019-03-04 04:35:59           1233            1017   \n828  prayutofficial 2019-03-23 10:18:01            662            1423   \n830  prayutofficial 2019-03-21 08:48:55            583            1224   \n832  prayutofficial 2019-03-20 06:30:08            698             690   \n836  prayutofficial 2019-03-13 08:24:06            342             924   \n..              ...                 ...            ...             ...   \n363    pprpthailand 2019-03-03 05:26:30              0               0   \n835  prayutofficial 2019-03-13 09:37:19              0               0   \n362    pprpthailand 2019-03-03 05:26:34              0               0   \n344    pprpthailand 2019-03-06 09:00:00              0               0   \n358    pprpthailand 2019-03-03 15:22:25              0               0   \n\n                                                  Text         Party  \\\n843  #ซิงเกิลที่8 🎼 Symphony No. 8 https://t.co/5Tj...  พลังประชารัฐ   \n828  หนังสือคือเพื่อนเราทุกคน 📖 https://t.co/0D1Qno...  พลังประชารัฐ   \n830  วันเกิดผมในปีนี้... สิ่งที่ผมต้องการไม่มีอะไรม...  พลังประชารัฐ   \n832  สวนลุมเป็นแหล่งชุมนุมของคนรักษาสุขภาพจริงๆ อยา...  พลังประชารัฐ   \n836  ขอบคุณหลานจัสมิน หลานจัสติน่า และชาวขอนแก่นทุก...  พลังประชารัฐ   \n..                                                 ...           ...   \n363  “เนวินธุ์ ช่อชัยทิพย์” เบอร์3 เขต3 ยานนาวา-บาง...  พลังประชารัฐ   \n835  ชมคลิป : นายกฯ พบปะ ปชช.ที่มาต้อนรับที่ศาลหลัก...  พลังประชารัฐ   \n362  'สนธิรัตน์' ควง ’อุ๋ม’ ผู้สมัครสส.เบอร์ 4 เขตบ...  พลังประชารัฐ   \n344  พฤหัสนี้เจอกันนะคะ พี่น้องชาว จ.จันทบุรี 🤟🏻🤟🏻\\...  พลังประชารัฐ   \n358  “บี-พุทธิพงษ์” นำทีม “ไก่-อรพินทร์” หาเสียงที่...  พลังประชารัฐ   \n\n                                                 tweet  \\\n843                                       🎼 symphoni     \n828                        หนังสือคือเพื่อนเราทุกคน 📖    \n830  วันเกิดผมในปีนี้ สิ่งที่ผมต้องการไม่มีอะไรมากไ...   \n832  สวนลุมเป็นแหล่งชุมนุมของคนรักษาสุขภาพจริงๆ อยา...   \n836  ขอบคุณหลานจัสมิน หลานจัสติน่า และชาวขอนแก่นทุก...   \n..                                                 ...   \n363  “เนวินธุ์ ช่อชัยทิพย์” เบอร์ เขต ยานนาวา บางคอ...   \n835  ชมคลิป นายกฯ พบปะ ปชช ที่มาต้อนรับที่ศาลหลักเม...   \n362   สนธิรัตน์ ควง ’อุ๋ม’ ผู้สมัครสส เบอร์  เขตบาง...   \n344  พฤหัสนี้เจอกันนะคะ พี่น้องชาว จ จันทบุรี 🤟🏻🤟🏻 ...   \n358  “บี พุทธิพงษ์” นำทีม “ไก่ อรพินทร์” หาเสียงที่...   \n\n                        topic  Engagement  \n843  คืนความสุข + สื่อ online        2250  \n828  คืนความสุข + สื่อ online        2085  \n830                นโยบาย พม.        1807  \n832  คืนความสุข + สื่อ online        1388  \n836       ขายความสงบ ความนิยม        1266  \n..                        ...         ...  \n363          เน้นเลือกความสงบ           0  \n835          เน้นเลือกความสงบ           0  \n362       ขายความสงบ ความนิยม           0  \n344       ขายความสงบ ความนิยม           0  \n358                นโยบาย พม.           0  \n\n[228 rows x 9 columns]",
      "text/html": "<div>\n<style scoped>\n    .dataframe tbody tr th:only-of-type {\n        vertical-align: middle;\n    }\n\n    .dataframe tbody tr th {\n        vertical-align: top;\n    }\n\n    .dataframe thead th {\n        text-align: right;\n    }\n</style>\n<table border=\"1\" class=\"dataframe\">\n  <thead>\n    <tr style=\"text-align: right;\">\n      <th></th>\n      <th>Username</th>\n      <th>Datetime</th>\n      <th>Retweet count</th>\n      <th>Favorite count</th>\n      <th>Text</th>\n      <th>Party</th>\n      <th>tweet</th>\n      <th>topic</th>\n      <th>Engagement</th>\n    </tr>\n  </thead>\n  <tbody>\n    <tr>\n      <th>843</th>\n      <td>prayutofficial</td>\n      <td>2019-03-04 04:35:59</td>\n      <td>1233</td>\n      <td>1017</td>\n      <td>#ซิงเกิลที่8 🎼 Symphony No. 8 https://t.co/5Tj...</td>\n      <td>พลังประชารัฐ</td>\n      <td>🎼 symphoni</td>\n      <td>คืนความสุข + สื่อ online</td>\n      <td>2250</td>\n    </tr>\n    <tr>\n      <th>828</th>\n      <td>prayutofficial</td>\n      <td>2019-03-23 10:18:01</td>\n      <td>662</td>\n      <td>1423</td>\n      <td>หนังสือคือเพื่อนเราทุกคน 📖 https://t.co/0D1Qno...</td>\n      <td>พลังประชารัฐ</td>\n      <td>หนังสือคือเพื่อนเราทุกคน 📖</td>\n      <td>คืนความสุข + สื่อ online</td>\n      <td>2085</td>\n    </tr>\n    <tr>\n      <th>830</th>\n      <td>prayutofficial</td>\n      <td>2019-03-21 08:48:55</td>\n      <td>583</td>\n      <td>1224</td>\n      <td>วันเกิดผมในปีนี้... สิ่งที่ผมต้องการไม่มีอะไรม...</td>\n      <td>พลังประชารัฐ</td>\n      <td>วันเกิดผมในปีนี้ สิ่งที่ผมต้องการไม่มีอะไรมากไ...</td>\n      <td>นโยบาย พม.</td>\n      <td>1807</td>\n    </tr>\n    <tr>\n      <th>832</th>\n      <td>prayutofficial</td>\n      <td>2019-03-20 06:30:08</td>\n      <td>698</td>\n      <td>690</td>\n      <td>สวนลุมเป็นแหล่งชุมนุมของคนรักษาสุขภาพจริงๆ อยา...</td>\n      <td>พลังประชารัฐ</td>\n      <td>สวนลุมเป็นแหล่งชุมนุมของคนรักษาสุขภาพจริงๆ อยา...</td>\n      <td>คืนความสุข + สื่อ online</td>\n      <td>1388</td>\n    </tr>\n    <tr>\n      <th>836</th>\n      <td>prayutofficial</td>\n      <td>2019-03-13 08:24:06</td>\n      <td>342</td>\n      <td>924</td>\n      <td>ขอบคุณหลานจัสมิน หลานจัสติน่า และชาวขอนแก่นทุก...</td>\n      <td>พลังประชารัฐ</td>\n      <td>ขอบคุณหลานจัสมิน หลานจัสติน่า และชาวขอนแก่นทุก...</td>\n      <td>ขายความสงบ ความนิยม</td>\n      <td>1266</td>\n    </tr>\n    <tr>\n      <th>...</th>\n      <td>...</td>\n      <td>...</td>\n      <td>...</td>\n      <td>...</td>\n      <td>...</td>\n      <td>...</td>\n      <td>...</td>\n      <td>...</td>\n      <td>...</td>\n    </tr>\n    <tr>\n      <th>363</th>\n      <td>pprpthailand</td>\n      <td>2019-03-03 05:26:30</td>\n      <td>0</td>\n      <td>0</td>\n      <td>“เนวินธุ์ ช่อชัยทิพย์” เบอร์3 เขต3 ยานนาวา-บาง...</td>\n      <td>พลังประชารัฐ</td>\n      <td>“เนวินธุ์ ช่อชัยทิพย์” เบอร์ เขต ยานนาวา บางคอ...</td>\n      <td>เน้นเลือกความสงบ</td>\n      <td>0</td>\n    </tr>\n    <tr>\n      <th>835</th>\n      <td>prayutofficial</td>\n      <td>2019-03-13 09:37:19</td>\n      <td>0</td>\n      <td>0</td>\n      <td>ชมคลิป : นายกฯ พบปะ ปชช.ที่มาต้อนรับที่ศาลหลัก...</td>\n      <td>พลังประชารัฐ</td>\n      <td>ชมคลิป นายกฯ พบปะ ปชช ที่มาต้อนรับที่ศาลหลักเม...</td>\n      <td>เน้นเลือกความสงบ</td>\n      <td>0</td>\n    </tr>\n    <tr>\n      <th>362</th>\n      <td>pprpthailand</td>\n      <td>2019-03-03 05:26:34</td>\n      <td>0</td>\n      <td>0</td>\n      <td>'สนธิรัตน์' ควง ’อุ๋ม’ ผู้สมัครสส.เบอร์ 4 เขตบ...</td>\n      <td>พลังประชารัฐ</td>\n      <td>สนธิรัตน์ ควง ’อุ๋ม’ ผู้สมัครสส เบอร์  เขตบาง...</td>\n      <td>ขายความสงบ ความนิยม</td>\n      <td>0</td>\n    </tr>\n    <tr>\n      <th>344</th>\n      <td>pprpthailand</td>\n      <td>2019-03-06 09:00:00</td>\n      <td>0</td>\n      <td>0</td>\n      <td>พฤหัสนี้เจอกันนะคะ พี่น้องชาว จ.จันทบุรี 🤟🏻🤟🏻\\...</td>\n      <td>พลังประชารัฐ</td>\n      <td>พฤหัสนี้เจอกันนะคะ พี่น้องชาว จ จันทบุรี 🤟🏻🤟🏻 ...</td>\n      <td>ขายความสงบ ความนิยม</td>\n      <td>0</td>\n    </tr>\n    <tr>\n      <th>358</th>\n      <td>pprpthailand</td>\n      <td>2019-03-03 15:22:25</td>\n      <td>0</td>\n      <td>0</td>\n      <td>“บี-พุทธิพงษ์” นำทีม “ไก่-อรพินทร์” หาเสียงที่...</td>\n      <td>พลังประชารัฐ</td>\n      <td>“บี พุทธิพงษ์” นำทีม “ไก่ อรพินทร์” หาเสียงที่...</td>\n      <td>นโยบาย พม.</td>\n      <td>0</td>\n    </tr>\n  </tbody>\n</table>\n<p>228 rows × 9 columns</p>\n</div>"
     },
     "metadata": {}
    },
    {
     "output_type": "display_data",
     "data": {
      "text/plain": "'Frequency tweets by username'"
     },
     "metadata": {}
    },
    {
     "output_type": "display_data",
     "data": {
      "text/plain": "pprpthailand      206\nprayutofficial     22\nName: Username, dtype: int64"
     },
     "metadata": {}
    },
    {
     "output_type": "display_data",
     "data": {
      "text/plain": "'See Text'"
     },
     "metadata": {}
    },
    {
     "output_type": "display_data",
     "data": {
      "text/plain": "                                                  Text  \\\n843  #ซิงเกิลที่8 🎼 Symphony No. 8 https://t.co/5Tj...   \n828  หนังสือคือเพื่อนเราทุกคน 📖 https://t.co/0D1Qno...   \n830  วันเกิดผมในปีนี้... สิ่งที่ผมต้องการไม่มีอะไรม...   \n832  สวนลุมเป็นแหล่งชุมนุมของคนรักษาสุขภาพจริงๆ อยา...   \n836  ขอบคุณหลานจัสมิน หลานจัสติน่า และชาวขอนแก่นทุก...   \n..                                                 ...   \n363  “เนวินธุ์ ช่อชัยทิพย์” เบอร์3 เขต3 ยานนาวา-บาง...   \n835  ชมคลิป : นายกฯ พบปะ ปชช.ที่มาต้อนรับที่ศาลหลัก...   \n362  'สนธิรัตน์' ควง ’อุ๋ม’ ผู้สมัครสส.เบอร์ 4 เขตบ...   \n344  พฤหัสนี้เจอกันนะคะ พี่น้องชาว จ.จันทบุรี 🤟🏻🤟🏻\\...   \n358  “บี-พุทธิพงษ์” นำทีม “ไก่-อรพินทร์” หาเสียงที่...   \n\n                        topic  Engagement  \n843  คืนความสุข + สื่อ online        2250  \n828  คืนความสุข + สื่อ online        2085  \n830                นโยบาย พม.        1807  \n832  คืนความสุข + สื่อ online        1388  \n836       ขายความสงบ ความนิยม        1266  \n..                        ...         ...  \n363          เน้นเลือกความสงบ           0  \n835          เน้นเลือกความสงบ           0  \n362       ขายความสงบ ความนิยม           0  \n344       ขายความสงบ ความนิยม           0  \n358                นโยบาย พม.           0  \n\n[228 rows x 3 columns]",
      "text/html": "<div>\n<style scoped>\n    .dataframe tbody tr th:only-of-type {\n        vertical-align: middle;\n    }\n\n    .dataframe tbody tr th {\n        vertical-align: top;\n    }\n\n    .dataframe thead th {\n        text-align: right;\n    }\n</style>\n<table border=\"1\" class=\"dataframe\">\n  <thead>\n    <tr style=\"text-align: right;\">\n      <th></th>\n      <th>Text</th>\n      <th>topic</th>\n      <th>Engagement</th>\n    </tr>\n  </thead>\n  <tbody>\n    <tr>\n      <th>843</th>\n      <td>#ซิงเกิลที่8 🎼 Symphony No. 8 https://t.co/5Tj...</td>\n      <td>คืนความสุข + สื่อ online</td>\n      <td>2250</td>\n    </tr>\n    <tr>\n      <th>828</th>\n      <td>หนังสือคือเพื่อนเราทุกคน 📖 https://t.co/0D1Qno...</td>\n      <td>คืนความสุข + สื่อ online</td>\n      <td>2085</td>\n    </tr>\n    <tr>\n      <th>830</th>\n      <td>วันเกิดผมในปีนี้... สิ่งที่ผมต้องการไม่มีอะไรม...</td>\n      <td>นโยบาย พม.</td>\n      <td>1807</td>\n    </tr>\n    <tr>\n      <th>832</th>\n      <td>สวนลุมเป็นแหล่งชุมนุมของคนรักษาสุขภาพจริงๆ อยา...</td>\n      <td>คืนความสุข + สื่อ online</td>\n      <td>1388</td>\n    </tr>\n    <tr>\n      <th>836</th>\n      <td>ขอบคุณหลานจัสมิน หลานจัสติน่า และชาวขอนแก่นทุก...</td>\n      <td>ขายความสงบ ความนิยม</td>\n      <td>1266</td>\n    </tr>\n    <tr>\n      <th>...</th>\n      <td>...</td>\n      <td>...</td>\n      <td>...</td>\n    </tr>\n    <tr>\n      <th>363</th>\n      <td>“เนวินธุ์ ช่อชัยทิพย์” เบอร์3 เขต3 ยานนาวา-บาง...</td>\n      <td>เน้นเลือกความสงบ</td>\n      <td>0</td>\n    </tr>\n    <tr>\n      <th>835</th>\n      <td>ชมคลิป : นายกฯ พบปะ ปชช.ที่มาต้อนรับที่ศาลหลัก...</td>\n      <td>เน้นเลือกความสงบ</td>\n      <td>0</td>\n    </tr>\n    <tr>\n      <th>362</th>\n      <td>'สนธิรัตน์' ควง ’อุ๋ม’ ผู้สมัครสส.เบอร์ 4 เขตบ...</td>\n      <td>ขายความสงบ ความนิยม</td>\n      <td>0</td>\n    </tr>\n    <tr>\n      <th>344</th>\n      <td>พฤหัสนี้เจอกันนะคะ พี่น้องชาว จ.จันทบุรี 🤟🏻🤟🏻\\...</td>\n      <td>ขายความสงบ ความนิยม</td>\n      <td>0</td>\n    </tr>\n    <tr>\n      <th>358</th>\n      <td>“บี-พุทธิพงษ์” นำทีม “ไก่-อรพินทร์” หาเสียงที่...</td>\n      <td>นโยบาย พม.</td>\n      <td>0</td>\n    </tr>\n  </tbody>\n</table>\n<p>228 rows × 3 columns</p>\n</div>"
     },
     "metadata": {}
    },
    {
     "output_type": "display_data",
     "data": {
      "text/plain": "'See topic'"
     },
     "metadata": {}
    },
    {
     "output_type": "display_data",
     "data": {
      "text/plain": "         Username                                              topic  count  \\\n0  prayutofficial                           คืนความสุข + สื่อ online      5   \n1  prayutofficial                                ขายความสงบ ความนิยม      5   \n2  prayutofficial                                         นโยบาย พม.      4   \n3  prayutofficial                                   เน้นเลือกความสงบ      5   \n4    pprpthailand                                         นโยบาย พม.     31   \n5  prayutofficial  ผู้สมัคร การนัดแนะและบรรยากาศหาเสียง (น่าจะพูด...      3   \n6    pprpthailand                           คืนความสุข + สื่อ online     47   \n7    pprpthailand                                   เน้นเลือกความสงบ     47   \n8    pprpthailand  ผู้สมัคร การนัดแนะและบรรยากาศหาเสียง (น่าจะพูด...     47   \n9    pprpthailand                                ขายความสงบ ความนิยม     34   \n\n   eng_sum     eng_mean  eng_max  \n0     6776  1355.200000     2250  \n1     3914   782.800000     1266  \n2     3105   776.250000     1807  \n3     2539   507.800000      945  \n4     1776    57.290323      888  \n5     1624   541.333333      823  \n6     1235    26.276596      365  \n7     1041    22.148936      297  \n8      967    20.574468      138  \n9      424    12.470588       78  ",
      "text/html": "<div>\n<style scoped>\n    .dataframe tbody tr th:only-of-type {\n        vertical-align: middle;\n    }\n\n    .dataframe tbody tr th {\n        vertical-align: top;\n    }\n\n    .dataframe thead th {\n        text-align: right;\n    }\n</style>\n<table border=\"1\" class=\"dataframe\">\n  <thead>\n    <tr style=\"text-align: right;\">\n      <th></th>\n      <th>Username</th>\n      <th>topic</th>\n      <th>count</th>\n      <th>eng_sum</th>\n      <th>eng_mean</th>\n      <th>eng_max</th>\n    </tr>\n  </thead>\n  <tbody>\n    <tr>\n      <th>0</th>\n      <td>prayutofficial</td>\n      <td>คืนความสุข + สื่อ online</td>\n      <td>5</td>\n      <td>6776</td>\n      <td>1355.200000</td>\n      <td>2250</td>\n    </tr>\n    <tr>\n      <th>1</th>\n      <td>prayutofficial</td>\n      <td>ขายความสงบ ความนิยม</td>\n      <td>5</td>\n      <td>3914</td>\n      <td>782.800000</td>\n      <td>1266</td>\n    </tr>\n    <tr>\n      <th>2</th>\n      <td>prayutofficial</td>\n      <td>นโยบาย พม.</td>\n      <td>4</td>\n      <td>3105</td>\n      <td>776.250000</td>\n      <td>1807</td>\n    </tr>\n    <tr>\n      <th>3</th>\n      <td>prayutofficial</td>\n      <td>เน้นเลือกความสงบ</td>\n      <td>5</td>\n      <td>2539</td>\n      <td>507.800000</td>\n      <td>945</td>\n    </tr>\n    <tr>\n      <th>4</th>\n      <td>pprpthailand</td>\n      <td>นโยบาย พม.</td>\n      <td>31</td>\n      <td>1776</td>\n      <td>57.290323</td>\n      <td>888</td>\n    </tr>\n    <tr>\n      <th>5</th>\n      <td>prayutofficial</td>\n      <td>ผู้สมัคร การนัดแนะและบรรยากาศหาเสียง (น่าจะพูด...</td>\n      <td>3</td>\n      <td>1624</td>\n      <td>541.333333</td>\n      <td>823</td>\n    </tr>\n    <tr>\n      <th>6</th>\n      <td>pprpthailand</td>\n      <td>คืนความสุข + สื่อ online</td>\n      <td>47</td>\n      <td>1235</td>\n      <td>26.276596</td>\n      <td>365</td>\n    </tr>\n    <tr>\n      <th>7</th>\n      <td>pprpthailand</td>\n      <td>เน้นเลือกความสงบ</td>\n      <td>47</td>\n      <td>1041</td>\n      <td>22.148936</td>\n      <td>297</td>\n    </tr>\n    <tr>\n      <th>8</th>\n      <td>pprpthailand</td>\n      <td>ผู้สมัคร การนัดแนะและบรรยากาศหาเสียง (น่าจะพูด...</td>\n      <td>47</td>\n      <td>967</td>\n      <td>20.574468</td>\n      <td>138</td>\n    </tr>\n    <tr>\n      <th>9</th>\n      <td>pprpthailand</td>\n      <td>ขายความสงบ ความนิยม</td>\n      <td>34</td>\n      <td>424</td>\n      <td>12.470588</td>\n      <td>78</td>\n    </tr>\n  </tbody>\n</table>\n</div>"
     },
     "metadata": {}
    },
    {
     "output_type": "display_data",
     "data": {
      "text/plain": "                                               topic  count  eng_sum  \\\n0                           คืนความสุข + สื่อ online     52     8011   \n1                                         นโยบาย พม.     35     4881   \n2                                ขายความสงบ ความนิยม     39     4338   \n3                                   เน้นเลือกความสงบ     52     3580   \n4  ผู้สมัคร การนัดแนะและบรรยากาศหาเสียง (น่าจะพูด...     50     2591   \n\n     eng_mean  eng_max  \n0  154.057692     2250  \n1  139.457143     1807  \n2  111.230769     1266  \n3   68.846154      945  \n4   51.820000      823  ",
      "text/html": "<div>\n<style scoped>\n    .dataframe tbody tr th:only-of-type {\n        vertical-align: middle;\n    }\n\n    .dataframe tbody tr th {\n        vertical-align: top;\n    }\n\n    .dataframe thead th {\n        text-align: right;\n    }\n</style>\n<table border=\"1\" class=\"dataframe\">\n  <thead>\n    <tr style=\"text-align: right;\">\n      <th></th>\n      <th>topic</th>\n      <th>count</th>\n      <th>eng_sum</th>\n      <th>eng_mean</th>\n      <th>eng_max</th>\n    </tr>\n  </thead>\n  <tbody>\n    <tr>\n      <th>0</th>\n      <td>คืนความสุข + สื่อ online</td>\n      <td>52</td>\n      <td>8011</td>\n      <td>154.057692</td>\n      <td>2250</td>\n    </tr>\n    <tr>\n      <th>1</th>\n      <td>นโยบาย พม.</td>\n      <td>35</td>\n      <td>4881</td>\n      <td>139.457143</td>\n      <td>1807</td>\n    </tr>\n    <tr>\n      <th>2</th>\n      <td>ขายความสงบ ความนิยม</td>\n      <td>39</td>\n      <td>4338</td>\n      <td>111.230769</td>\n      <td>1266</td>\n    </tr>\n    <tr>\n      <th>3</th>\n      <td>เน้นเลือกความสงบ</td>\n      <td>52</td>\n      <td>3580</td>\n      <td>68.846154</td>\n      <td>945</td>\n    </tr>\n    <tr>\n      <th>4</th>\n      <td>ผู้สมัคร การนัดแนะและบรรยากาศหาเสียง (น่าจะพูด...</td>\n      <td>50</td>\n      <td>2591</td>\n      <td>51.820000</td>\n      <td>823</td>\n    </tr>\n  </tbody>\n</table>\n</div>"
     },
     "metadata": {}
    },
    {
     "output_type": "display_data",
     "data": {
      "text/plain": "None"
     },
     "metadata": {}
    }
   ],
   "source": [
    "for i in range(len(p)):\n",
    "    display(show_data(df_All[i]))"
   ]
  }
 ],
 "metadata": {
  "kernelspec": {
   "name": "python3",
   "display_name": "Python 3.8.5 64-bit (conda)"
  },
  "language_info": {
   "codemirror_mode": {
    "name": "ipython",
    "version": 3
   },
   "file_extension": ".py",
   "mimetype": "text/x-python",
   "name": "python",
   "nbconvert_exporter": "python",
   "pygments_lexer": "ipython3",
   "version": "3.8.5"
  },
  "orig_nbformat": 2,
  "metadata": {
   "interpreter": {
    "hash": "e5e8936b35ae2ff82fa3c50ddf2998722acd13e83eaad9f62c0e4c9661cfcdaf"
   }
  },
  "interpreter": {
   "hash": "e5e8936b35ae2ff82fa3c50ddf2998722acd13e83eaad9f62c0e4c9661cfcdaf"
  }
 },
 "nbformat": 4,
 "nbformat_minor": 2
}