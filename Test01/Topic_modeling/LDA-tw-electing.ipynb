{
 "cells": [
  {
   "cell_type": "code",
   "execution_count": 2,
   "metadata": {},
   "outputs": [
    {
     "output_type": "stream",
     "name": "stderr",
     "text": [
      "[nltk_data] Downloading package stopwords to /Users/admin/nltk_data...\n[nltk_data]   Package stopwords is already up-to-date!\n"
     ]
    }
   ],
   "source": [
    "%reload_ext autoreload\n",
    "%autoreload 2\n",
    "%matplotlib inline\n",
    "\n",
    "import re\n",
    "import string\n",
    "import codecs\n",
    "import dill as pickle\n",
    "import pandas as pd\n",
    "import numpy as np\n",
    "from collections import Counter\n",
    "\n",
    "from pythainlp.tokenize import word_tokenize\n",
    "from pythainlp import word_vector, Tokenizer, sent_tokenize\n",
    "from pythainlp.util import dict_trie\n",
    "from pythainlp.ulmfit import *\n",
    "from pythainlp.corpus.common import thai_words\n",
    "from pythainlp.corpus import thai_stopwords, wordnet\n",
    "\n",
    "\n",
    "from sklearn.manifold import TSNE\n",
    "from sklearn.feature_extraction.text import TfidfVectorizer,CountVectorizer\n",
    "from sklearn.decomposition import LatentDirichletAllocation\n",
    "from sklearn.linear_model import LogisticRegression\n",
    "import matplotlib.pyplot as plt\n",
    "import matplotlib.font_manager as fm\n",
    "from IPython.display import display\n",
    "\n",
    "import nltk\n",
    "from nltk.tokenize import RegexpTokenizer\n",
    "from nltk.corpus import stopwords\n",
    "nltk.download('stopwords')\n",
    "from nltk.stem import WordNetLemmatizer, SnowballStemmer\n",
    "from nltk.stem.porter import *\n",
    "stemmer = PorterStemmer()\n",
    "from nltk.corpus import words\n",
    "from stop_words import get_stop_words\n",
    "\n"
   ]
  },
  {
   "cell_type": "markdown",
   "metadata": {},
   "source": [
    "# DATA TWITTER - Preprocessing"
   ]
  },
  {
   "cell_type": "code",
   "execution_count": 3,
   "metadata": {},
   "outputs": [],
   "source": [
    "df = pd.read_excel('/Users/admin/Downloads/0101/alpha/tw_thesis/twitter data test final.xlsx')"
   ]
  },
  {
   "cell_type": "code",
   "execution_count": 4,
   "metadata": {},
   "outputs": [],
   "source": [
    "fwp = ['FWPthailand','Thanathorn_FWP','SPiyabutr','RangsimanRome']\n",
    "pt =['PheuThaiParty','sudaratofficiall','ThaksinLive']\n",
    "pprp =['pprpthailand','prayutofficial']\n",
    "democrat = ['democratTH','KornGoThailand', 'paritw92']\n",
    "\n",
    "def condition(Username):\n",
    "    if Username in fwp:\n",
    "        return 'อนาคตใหม่'\n",
    "    if Username in pt:\n",
    "        return 'เพื่อไทย'\n",
    "    if Username in pprp:\n",
    "        return 'พลังประชารัฐ'\n",
    "    if Username in democrat:\n",
    "        return 'ประชาธิปัตย์'\n",
    "    if Username == 'actpartyorg':\n",
    "        return 'รวมพลังประชาชาติไทย'\n",
    "    if Username == 'ChartthaiPT':\n",
    "        return 'ชาติไทยพัฒนา'\n",
    "    if Username == 'NewEconomicsTH':\n",
    "        return 'เศรษฐกิจใหม่'\n",
    "    else:\n",
    "        return None\n",
    "\n",
    "df['Party'] = df.Username.apply(condition)"
   ]
  },
  {
   "cell_type": "code",
   "execution_count": 5,
   "metadata": {},
   "outputs": [],
   "source": [
    "df_act = df[df['Party'] == 'รวมพลังประชาชาติไทย']\n",
    "df_chartthai = df[df['Party'] == 'ชาติไทยพัฒนา']\n",
    "df_democrat = df[df['Party'] == 'ประชาธิปัตย์']\n",
    "df_fwp = df[df['Party'] == 'อนาคตใหม่']\n",
    "df_neweco = df[df['Party'] == 'เศรษฐกิจใหม่']\n",
    "df_pt = df[df['Party'] == 'เพื่อไทย']\n",
    "df_pprp = df[df['Party'] == 'พลังประชารัฐ']\n",
    "\n",
    "act = df_act[['Text']]\n",
    "chartthai = df_chartthai[['Text']]\n",
    "democrat = df_democrat[['Text']]\n",
    "fwp = df_fwp[['Text']]\n",
    "neweco = df_neweco[['Text']]\n",
    "pt = df_pt[['Text']]\n",
    "pprp = df_pprp[['Text']]\n",
    "All = [act ,chartthai ,democrat ,fwp ,neweco ,pt ,pprp]\n",
    "p = ('act' ,'chartthai' ,'democrat' ,'fwp' ,'neweco' ,'pt' ,'pprp')"
   ]
  },
  {
   "cell_type": "code",
   "execution_count": 14,
   "metadata": {},
   "outputs": [],
   "source": [
    "def remove_links(tweet):\n",
    "    '''Takes a string and removes web links from it'''\n",
    "    tweet = re.sub(r'http\\S+', '', tweet) # remove http links\n",
    "    tweet = re.sub(r'bit.ly/\\S+', '', tweet) # rempve bitly links\n",
    "    tweet = tweet.strip('[link]') # remove [links]\n",
    "    return tweet\n",
    "\n",
    "def remove_users(tweet):\n",
    "    '''Takes a string and removes retweet and @user information'''\n",
    "    tweet = re.sub('(RT\\s@[A-Za-z]+[A-Za-z0-9-_]+)', '', tweet) # remove retweet\n",
    "    tweet = re.sub('(@[A-Za-z]+[A-Za-z0-9-_]+)', '', tweet) # remove tweeted at\n",
    "    return tweet\n",
    "\n",
    "# def remove_hashtags(tweet):\n",
    "#     '''Takes a string and removes hashtag information'''\n",
    "#     tweet = re.sub('(#[ก-๙A-Za-z0-9_]+)','', tweet)\n",
    "#     return tweet\n",
    "\n",
    "my_stopwords = nltk.corpus.stopwords.words('english')\n",
    "word_rooter = nltk.stem.snowball.PorterStemmer(ignore_stopwords=False).stem\n",
    "my_punctuation = '!\"$%&\\'()*+,-./:;<=>?[\\\\]“”^‘’_`{|}…~•@'\n",
    "\n",
    "# cleaning master function\n",
    "def clean_tweet(tweet, bigrams=False):\n",
    "    tweet = remove_users(tweet)\n",
    "    tweet = remove_links(tweet)\n",
    "    #tweet = remove_hashtags(tweet)\n",
    "    tweet = tweet.lower() # lower case\n",
    "    tweet = re.sub('['+my_punctuation + ']+', '', tweet) # strip punctuation\n",
    "    tweet = re.sub('\\s+', ' ', tweet) #remove double spacing(or single)Choose!\n",
    "    tweet = re.sub('([0-9]+)', '', tweet) # remove numbers\n",
    "    tweet_token_list = [word for word in tweet.split(' ')\n",
    "                            if word not in my_stopwords] # remove stopwords\n",
    "\n",
    "    tweet_token_list = [word_rooter(word) if '#' not in word else word\n",
    "                        for word in tweet_token_list] # apply word rooter\n",
    "    if bigrams:\n",
    "        tweet_token_list = tweet_token_list+[tweet_token_list[i]+'_'+tweet_token_list[i+1]\n",
    "                                            for i in range(len(tweet_token_list)-1)]\n",
    "    tweet = ' '.join(tweet_token_list)\n",
    "    return tweet\n",
    "\n",
    "def clean_tweet_hashtag(tweet, bigrams=False):\n",
    "    tweet = remove_users(tweet)\n",
    "    tweet = remove_links(tweet)\n",
    "    tweet = tweet.lower() # lower case\n",
    "    tweet = re.sub('['+my_punctuation + ']+', '', tweet) # strip punctuation\n",
    "    tweet = re.sub('\\s+', ' ', tweet) #remove double spacing\n",
    "    tweet = re.sub('([0-9]+)', '', tweet) # remove numbers\n",
    "    tweet_token_list = [word for word in tweet.split(' ')\n",
    "                            if word not in my_stopwords] # remove stopwords\n",
    "\n",
    "    tweet_token_list = [word_rooter(word) if '#' not in word else word\n",
    "                        for word in tweet_token_list] # apply word rooter\n",
    "    if bigrams:\n",
    "        tweet_token_list = tweet_token_list+[tweet_token_list[i]+'_'+tweet_token_list[i+1]\n",
    "                                            for i in range(len(tweet_token_list)-1)]\n",
    "    post = ' '.join(tweet_token_list)\n",
    "    return tweet"
   ]
  },
  {
   "cell_type": "code",
   "execution_count": 15,
   "metadata": {},
   "outputs": [
    {
     "output_type": "stream",
     "name": "stderr",
     "text": [
      "<ipython-input-15-acfadeabcebf>:4: SettingWithCopyWarning: \n",
      "A value is trying to be set on a copy of a slice from a DataFrame.\n",
      "Try using .loc[row_indexer,col_indexer] = value instead\n",
      "\n",
      "See the caveats in the documentation: https://pandas.pydata.org/pandas-docs/stable/user_guide/indexing.html#returning-a-view-versus-a-copy\n",
      "  i['tweet'] = i.Text.apply(clean_tweet)\n",
      "/Users/admin/miniconda3/lib/python3.8/site-packages/pandas/core/series.py:4575: SettingWithCopyWarning: \n",
      "A value is trying to be set on a copy of a slice from a DataFrame\n",
      "\n",
      "See the caveats in the documentation: https://pandas.pydata.org/pandas-docs/stable/user_guide/indexing.html#returning-a-view-versus-a-copy\n",
      "  return super().replace(\n",
      "<ipython-input-15-acfadeabcebf>:7: SettingWithCopyWarning: \n",
      "A value is trying to be set on a copy of a slice from a DataFrame\n",
      "\n",
      "See the caveats in the documentation: https://pandas.pydata.org/pandas-docs/stable/user_guide/indexing.html#returning-a-view-versus-a-copy\n",
      "  i.dropna(inplace=True)\n",
      "<ipython-input-15-acfadeabcebf>:4: SettingWithCopyWarning: \n",
      "A value is trying to be set on a copy of a slice from a DataFrame.\n",
      "Try using .loc[row_indexer,col_indexer] = value instead\n",
      "\n",
      "See the caveats in the documentation: https://pandas.pydata.org/pandas-docs/stable/user_guide/indexing.html#returning-a-view-versus-a-copy\n",
      "  i['tweet'] = i.Text.apply(clean_tweet)\n",
      "/Users/admin/miniconda3/lib/python3.8/site-packages/pandas/core/series.py:4575: SettingWithCopyWarning: \n",
      "A value is trying to be set on a copy of a slice from a DataFrame\n",
      "\n",
      "See the caveats in the documentation: https://pandas.pydata.org/pandas-docs/stable/user_guide/indexing.html#returning-a-view-versus-a-copy\n",
      "  return super().replace(\n",
      "<ipython-input-15-acfadeabcebf>:7: SettingWithCopyWarning: \n",
      "A value is trying to be set on a copy of a slice from a DataFrame\n",
      "\n",
      "See the caveats in the documentation: https://pandas.pydata.org/pandas-docs/stable/user_guide/indexing.html#returning-a-view-versus-a-copy\n",
      "  i.dropna(inplace=True)\n",
      "<ipython-input-15-acfadeabcebf>:4: SettingWithCopyWarning: \n",
      "A value is trying to be set on a copy of a slice from a DataFrame.\n",
      "Try using .loc[row_indexer,col_indexer] = value instead\n",
      "\n",
      "See the caveats in the documentation: https://pandas.pydata.org/pandas-docs/stable/user_guide/indexing.html#returning-a-view-versus-a-copy\n",
      "  i['tweet'] = i.Text.apply(clean_tweet)\n",
      "/Users/admin/miniconda3/lib/python3.8/site-packages/pandas/core/series.py:4575: SettingWithCopyWarning: \n",
      "A value is trying to be set on a copy of a slice from a DataFrame\n",
      "\n",
      "See the caveats in the documentation: https://pandas.pydata.org/pandas-docs/stable/user_guide/indexing.html#returning-a-view-versus-a-copy\n",
      "  return super().replace(\n",
      "<ipython-input-15-acfadeabcebf>:7: SettingWithCopyWarning: \n",
      "A value is trying to be set on a copy of a slice from a DataFrame\n",
      "\n",
      "See the caveats in the documentation: https://pandas.pydata.org/pandas-docs/stable/user_guide/indexing.html#returning-a-view-versus-a-copy\n",
      "  i.dropna(inplace=True)\n",
      "<ipython-input-15-acfadeabcebf>:4: SettingWithCopyWarning: \n",
      "A value is trying to be set on a copy of a slice from a DataFrame.\n",
      "Try using .loc[row_indexer,col_indexer] = value instead\n",
      "\n",
      "See the caveats in the documentation: https://pandas.pydata.org/pandas-docs/stable/user_guide/indexing.html#returning-a-view-versus-a-copy\n",
      "  i['tweet'] = i.Text.apply(clean_tweet)\n",
      "/Users/admin/miniconda3/lib/python3.8/site-packages/pandas/core/series.py:4575: SettingWithCopyWarning: \n",
      "A value is trying to be set on a copy of a slice from a DataFrame\n",
      "\n",
      "See the caveats in the documentation: https://pandas.pydata.org/pandas-docs/stable/user_guide/indexing.html#returning-a-view-versus-a-copy\n",
      "  return super().replace(\n",
      "<ipython-input-15-acfadeabcebf>:7: SettingWithCopyWarning: \n",
      "A value is trying to be set on a copy of a slice from a DataFrame\n",
      "\n",
      "See the caveats in the documentation: https://pandas.pydata.org/pandas-docs/stable/user_guide/indexing.html#returning-a-view-versus-a-copy\n",
      "  i.dropna(inplace=True)\n",
      "<ipython-input-15-acfadeabcebf>:4: SettingWithCopyWarning: \n",
      "A value is trying to be set on a copy of a slice from a DataFrame.\n",
      "Try using .loc[row_indexer,col_indexer] = value instead\n",
      "\n",
      "See the caveats in the documentation: https://pandas.pydata.org/pandas-docs/stable/user_guide/indexing.html#returning-a-view-versus-a-copy\n",
      "  i['tweet'] = i.Text.apply(clean_tweet)\n",
      "/Users/admin/miniconda3/lib/python3.8/site-packages/pandas/core/series.py:4575: SettingWithCopyWarning: \n",
      "A value is trying to be set on a copy of a slice from a DataFrame\n",
      "\n",
      "See the caveats in the documentation: https://pandas.pydata.org/pandas-docs/stable/user_guide/indexing.html#returning-a-view-versus-a-copy\n",
      "  return super().replace(\n",
      "<ipython-input-15-acfadeabcebf>:7: SettingWithCopyWarning: \n",
      "A value is trying to be set on a copy of a slice from a DataFrame\n",
      "\n",
      "See the caveats in the documentation: https://pandas.pydata.org/pandas-docs/stable/user_guide/indexing.html#returning-a-view-versus-a-copy\n",
      "  i.dropna(inplace=True)\n",
      "<ipython-input-15-acfadeabcebf>:4: SettingWithCopyWarning: \n",
      "A value is trying to be set on a copy of a slice from a DataFrame.\n",
      "Try using .loc[row_indexer,col_indexer] = value instead\n",
      "\n",
      "See the caveats in the documentation: https://pandas.pydata.org/pandas-docs/stable/user_guide/indexing.html#returning-a-view-versus-a-copy\n",
      "  i['tweet'] = i.Text.apply(clean_tweet)\n",
      "/Users/admin/miniconda3/lib/python3.8/site-packages/pandas/core/series.py:4575: SettingWithCopyWarning: \n",
      "A value is trying to be set on a copy of a slice from a DataFrame\n",
      "\n",
      "See the caveats in the documentation: https://pandas.pydata.org/pandas-docs/stable/user_guide/indexing.html#returning-a-view-versus-a-copy\n",
      "  return super().replace(\n",
      "<ipython-input-15-acfadeabcebf>:7: SettingWithCopyWarning: \n",
      "A value is trying to be set on a copy of a slice from a DataFrame\n",
      "\n",
      "See the caveats in the documentation: https://pandas.pydata.org/pandas-docs/stable/user_guide/indexing.html#returning-a-view-versus-a-copy\n",
      "  i.dropna(inplace=True)\n",
      "<ipython-input-15-acfadeabcebf>:4: SettingWithCopyWarning: \n",
      "A value is trying to be set on a copy of a slice from a DataFrame.\n",
      "Try using .loc[row_indexer,col_indexer] = value instead\n",
      "\n",
      "See the caveats in the documentation: https://pandas.pydata.org/pandas-docs/stable/user_guide/indexing.html#returning-a-view-versus-a-copy\n",
      "  i['tweet'] = i.Text.apply(clean_tweet)\n",
      "/Users/admin/miniconda3/lib/python3.8/site-packages/pandas/core/series.py:4575: SettingWithCopyWarning: \n",
      "A value is trying to be set on a copy of a slice from a DataFrame\n",
      "\n",
      "See the caveats in the documentation: https://pandas.pydata.org/pandas-docs/stable/user_guide/indexing.html#returning-a-view-versus-a-copy\n",
      "  return super().replace(\n",
      "<ipython-input-15-acfadeabcebf>:7: SettingWithCopyWarning: \n",
      "A value is trying to be set on a copy of a slice from a DataFrame\n",
      "\n",
      "See the caveats in the documentation: https://pandas.pydata.org/pandas-docs/stable/user_guide/indexing.html#returning-a-view-versus-a-copy\n",
      "  i.dropna(inplace=True)\n"
     ]
    }
   ],
   "source": [
    "# apply function in all party\n",
    "df['tweet'] = df.Text.apply(clean_tweet)\n",
    "for i in All :\n",
    "    i['tweet'] = i.Text.apply(clean_tweet)\n",
    "    # i['tweet_hashtags'] = i.Text.apply(clean_tweet_hashtag)\n",
    "    i['tweet'].replace('', np.nan, inplace=True)\n",
    "    i.dropna(inplace=True)"
   ]
  },
  {
   "cell_type": "code",
   "execution_count": 16,
   "metadata": {},
   "outputs": [
    {
     "output_type": "execute_result",
     "data": {
      "text/plain": [
       "                                                   Text  \\\n",
       "190   ขอยุติการหาเสียงเลือกตั้งทางอิเล็กทรอนิกส์ทุกช...   \n",
       "191   ขอขอบพระคุณทุกท่านที่มาร่วมฟังปราศรัยใหญ่ของ #...   \n",
       "193   #Thailand #PheuThai party speakers telling sup...   \n",
       "194   #Thailand #PheuThai says only way to win again...   \n",
       "195   #Thailand #PheuThai linked to #Thaksin ex-#PM ...   \n",
       "...                                                 ...   \n",
       "1374  ผู้นำ...ไม่เพียงแต่ต้องตัดสินใจเฉียบขาดแบบมีวิ...   \n",
       "1375  Good Monday EP.6 “คู่แข่งคือคู่ค้า ในโลกยุคใหม...   \n",
       "1376  Chin up and keep moving forward! We learn from...   \n",
       "1377  Good Monday รับมือกับการเปลี่ยนแปลงของโลกกับ ด...   \n",
       "1378  Good Monday รับมือกับการเปลี่ยนแปลงของโลกกับดร...   \n",
       "\n",
       "                                                  tweet  \n",
       "190   ขอยุติการหาเสียงเลือกตั้งทางอิเล็กทรอนิกส์ทุกช...  \n",
       "191   ขอขอบพระคุณทุกท่านที่มาร่วมฟังปราศรัยใหญ่ของ #...  \n",
       "193   #thailand #pheuthai parti speaker tell support...  \n",
       "194   #thailand #pheuthai say way win #dictatorship ...  \n",
       "195   #thailand #pheuthai link #thaksin ex#pm readi ...  \n",
       "...                                                 ...  \n",
       "1374  ผู้นำไม่เพียงแต่ต้องตัดสินใจเฉียบขาดแบบมีวิสัย...  \n",
       "1375  good monday ep คู่แข่งคือคู่ค้า ในโลกยุคใหม่ ม...  \n",
       "1376  chin keep move forward learn past experi live ...  \n",
       "1377  good monday รับมือกับการเปลี่ยนแปลงของโลกกับ ด...  \n",
       "1378  good monday รับมือกับการเปลี่ยนแปลงของโลกกับดร...  \n",
       "\n",
       "[175 rows x 2 columns]"
      ],
      "text/html": "<div>\n<style scoped>\n    .dataframe tbody tr th:only-of-type {\n        vertical-align: middle;\n    }\n\n    .dataframe tbody tr th {\n        vertical-align: top;\n    }\n\n    .dataframe thead th {\n        text-align: right;\n    }\n</style>\n<table border=\"1\" class=\"dataframe\">\n  <thead>\n    <tr style=\"text-align: right;\">\n      <th></th>\n      <th>Text</th>\n      <th>tweet</th>\n    </tr>\n  </thead>\n  <tbody>\n    <tr>\n      <th>190</th>\n      <td>ขอยุติการหาเสียงเลือกตั้งทางอิเล็กทรอนิกส์ทุกช...</td>\n      <td>ขอยุติการหาเสียงเลือกตั้งทางอิเล็กทรอนิกส์ทุกช...</td>\n    </tr>\n    <tr>\n      <th>191</th>\n      <td>ขอขอบพระคุณทุกท่านที่มาร่วมฟังปราศรัยใหญ่ของ #...</td>\n      <td>ขอขอบพระคุณทุกท่านที่มาร่วมฟังปราศรัยใหญ่ของ #...</td>\n    </tr>\n    <tr>\n      <th>193</th>\n      <td>#Thailand #PheuThai party speakers telling sup...</td>\n      <td>#thailand #pheuthai parti speaker tell support...</td>\n    </tr>\n    <tr>\n      <th>194</th>\n      <td>#Thailand #PheuThai says only way to win again...</td>\n      <td>#thailand #pheuthai say way win #dictatorship ...</td>\n    </tr>\n    <tr>\n      <th>195</th>\n      <td>#Thailand #PheuThai linked to #Thaksin ex-#PM ...</td>\n      <td>#thailand #pheuthai link #thaksin ex#pm readi ...</td>\n    </tr>\n    <tr>\n      <th>...</th>\n      <td>...</td>\n      <td>...</td>\n    </tr>\n    <tr>\n      <th>1374</th>\n      <td>ผู้นำ...ไม่เพียงแต่ต้องตัดสินใจเฉียบขาดแบบมีวิ...</td>\n      <td>ผู้นำไม่เพียงแต่ต้องตัดสินใจเฉียบขาดแบบมีวิสัย...</td>\n    </tr>\n    <tr>\n      <th>1375</th>\n      <td>Good Monday EP.6 “คู่แข่งคือคู่ค้า ในโลกยุคใหม...</td>\n      <td>good monday ep คู่แข่งคือคู่ค้า ในโลกยุคใหม่ ม...</td>\n    </tr>\n    <tr>\n      <th>1376</th>\n      <td>Chin up and keep moving forward! We learn from...</td>\n      <td>chin keep move forward learn past experi live ...</td>\n    </tr>\n    <tr>\n      <th>1377</th>\n      <td>Good Monday รับมือกับการเปลี่ยนแปลงของโลกกับ ด...</td>\n      <td>good monday รับมือกับการเปลี่ยนแปลงของโลกกับ ด...</td>\n    </tr>\n    <tr>\n      <th>1378</th>\n      <td>Good Monday รับมือกับการเปลี่ยนแปลงของโลกกับดร...</td>\n      <td>good monday รับมือกับการเปลี่ยนแปลงของโลกกับดร...</td>\n    </tr>\n  </tbody>\n</table>\n<p>175 rows × 2 columns</p>\n</div>"
     },
     "metadata": {},
     "execution_count": 16
    }
   ],
   "source": [
    "pt"
   ]
  },
  {
   "cell_type": "markdown",
   "metadata": {},
   "source": [
    "# Model\n"
   ]
  },
  {
   "source": [
    "* tokenizer"
   ],
   "cell_type": "markdown",
   "metadata": {}
  },
  {
   "cell_type": "code",
   "execution_count": 17,
   "metadata": {},
   "outputs": [],
   "source": [
    "th_word=[thai_words()]\n",
    "th_word=[list(x) for x in th_word][0]"
   ]
  },
  {
   "cell_type": "code",
   "execution_count": 18,
   "metadata": {},
   "outputs": [],
   "source": [
    "#custom tokenizer\n",
    "add_words = ['ยุบพรรค',   'ลงพื้นที่', 'ธนาธร','สุดารัตน์ เกยุราพันธุ์',  'ทักษิณ','ปิยบุตร','โรม','ช่อ พรรณิการ์','ชัชชาติ','สุเทพ','ลุงกำนัน',\n",
    "            'เทพเทือก','ประยุทธ์','ประวิทย์','บิ้กแดง','อภิรักษ์','มิ่งขวัญ','อภิสิทธิ์','พริษฐ์','เสรีพิสุทธ์',\n",
    "            'เสี่ยหนู','อนุทิน','ไพบูล','กรณ์','มงคลกิตติ์','จุรินทร์','วิษณุ','อุตตม','สมคิด','อนุพงศ์','หญิงหน่อย',\n",
    "            'สส','สว','รัฐมนตรี','สมาชิกสภาผู้แทนราษฎร','ลากตั้ง',\n",
    "            'กกต','ปปช','ทักษิณ','คสช','ไม่เพียงแต่',\n",
    "                                'โซเชี่ยลมีเดีย','อนาคตใหม่','พลังประชารัฐ','เพื่อไทย','ภูมิใจไทย','ประชาธิปัตย์',                       'รวมพลังประชาชาติไทย','ชาติไทยพัฒนา','ชาติไทยพัฒนา','เสรีรวมไทย','กทม','กกต','ประจำ','เศรษฐกิจใหม่']\n",
    "words = th_word+add_words\n",
    "words  = list(dict.fromkeys(words)) #drop duplicate\n",
    "custom_tokenizer = Tokenizer(words,keep_whitespace=False)"
   ]
  },
  {
   "cell_type": "code",
   "execution_count": 19,
   "metadata": {},
   "outputs": [],
   "source": [
    "# evaluate tokenizer\n",
    "def tk_t(i):\n",
    "    print(df['tweet'][i])\n",
    "    print(custom_tokenizer.word_tokenize(df['tweet'][i]))\n",
    "    print(word_tokenize(df['tweet'][i],keep_whitespace=False))"
   ]
  },
  {
   "cell_type": "code",
   "execution_count": 20,
   "metadata": {},
   "outputs": [
    {
     "output_type": "stream",
     "name": "stdout",
     "text": [
      "ขอยุติการหาเสียงเลือกตั้งทางอิเล็กทรอนิกส์ทุกช่องทางตามที่ได้แจ้งต่อประธาน กกต ประจํา กทม ทั้งนี้ เพื่อปฏิบัติตามระเบียบคณะกรรมการการเลือกตั้งว่าด้วยวิธีการหาเสียงและลักษณะต้องห้ามในการหาเสียงเลือกตั้งสมาชิกสภาผู้แทนราษฎร พศ๒๕๖๑ และกฎหมายที่เกี่ยวข้อง #wn #หัวใจคือประชาชน\n['ขอ', 'ยุติ', 'การ', 'หาเสียง', 'เลือกตั้ง', 'ทางอิเล็กทรอนิกส์', 'ทุก', 'ช่องทาง', 'ตามที่', 'ได้', 'แจ้ง', 'ต่อ', 'ประธาน', 'กกต', 'ประ', 'จํา', 'กทม', 'ทั้งนี้', 'เพื่อ', 'ปฏิบัติ', 'ตามระเบียบ', 'คณะกรรมการ', 'การเลือกตั้ง', 'ว่าด้วย', 'วิธีการ', 'หาเสียง', 'และ', 'ลักษณะ', 'ต้องห้าม', 'ใน', 'การ', 'หาเสียง', 'เลือกตั้ง', 'สมาชิกสภาผู้แทนราษฎร', 'พศ', '๒๕๖๑', 'และ', 'กฎหมาย', 'ที่', 'เกี่ยวข้อง', '#', 'wn', '#', 'หัวใจ', 'คือ', 'ประชาชน']\n['ขอ', 'ยุติ', 'การ', 'หาเสียง', 'เลือกตั้ง', 'ทางอิเล็กทรอนิกส์', 'ทุก', 'ช่องทาง', 'ตามที่', 'ได้', 'แจ้ง', 'ต่อ', 'ประธาน', 'กก', 'ต', 'ประ', 'จํา', 'กทม', 'ทั้งนี้', 'เพื่อ', 'ปฏิบัติ', 'ตามระเบียบ', 'คณะกรรมการ', 'การเลือกตั้ง', 'ว่าด้วย', 'วิธีการ', 'หาเสียง', 'และ', 'ลักษณะ', 'ต้องห้าม', 'ใน', 'การ', 'หาเสียง', 'เลือกตั้ง', 'สมาชิกสภาผู้แทนราษฎร', 'พศ', '๒๕๖๑', 'และ', 'กฎหมาย', 'ที่', 'เกี่ยวข้อง', '#', 'wn', '#', 'หัวใจ', 'คือ', 'ประชาชน']\n"
     ]
    }
   ],
   "source": [
    "tk_t(190)"
   ]
  },
  {
   "cell_type": "code",
   "execution_count": 21,
   "metadata": {},
   "outputs": [
    {
     "output_type": "execute_result",
     "data": {
      "text/plain": [
       "           Username            Datetime  Retweet count  Favorite count  \\\n",
       "0       FWPthailand 2019-03-23 10:08:22           3428            2130   \n",
       "1       FWPthailand 2019-03-23 09:16:13           2032            2742   \n",
       "2       FWPthailand 2019-03-23 09:15:47            844            1491   \n",
       "3       FWPthailand 2019-03-22 17:09:15           3365            2937   \n",
       "4       FWPthailand 2019-03-22 15:21:36           8662            4627   \n",
       "...             ...                 ...            ...             ...   \n",
       "1558  RangsimanRome 2019-02-08 03:32:24              0               0   \n",
       "1559  RangsimanRome 2019-02-04 07:24:11          24966            2881   \n",
       "1560  RangsimanRome 2019-02-04 04:37:40            169             154   \n",
       "1561  RangsimanRome 2019-02-04 01:45:02             30              38   \n",
       "1562  RangsimanRome 2019-02-03 06:06:46             35              58   \n",
       "\n",
       "                                                   Text      Party  \\\n",
       "0                               https://t.co/p3aJrAJe5g  อนาคตใหม่   \n",
       "1     เลือก #อนาคตใหม่ อย่าให้ประเทศไทย กลับไปเหมือน...  อนาคตใหม่   \n",
       "2     การปราศรัยใหญ่ที่ทรงพลังที่สุดในประวัติศาสตร์ข...  อนาคตใหม่   \n",
       "3     ขอขอบคุณทุกท่าน...อย่าลืม 24 มีนากาอนาคตใหม่ อ...  อนาคตใหม่   \n",
       "4     \"เราคือคนที่ไม่ยอมอยู่ในสังคมที่ไม่เป็นธรรมแบบ...  อนาคตใหม่   \n",
       "...                                                 ...        ...   \n",
       "1558  เปิดชื่อแคนดิเดตนายกฯ \"ทูลกระหม่อมหญิงอุบลรัตน...  อนาคตใหม่   \n",
       "1559  #SaveHakeem  ผมเห็นรูปนี้แล้วสะเทือนใจมาก ส่วน...  อนาคตใหม่   \n",
       "1560  ศาลทหารขอนแก่นจำหน่ายคดีไม่รับร่างรัฐธรรมนูญ แ...  อนาคตใหม่   \n",
       "1561  ที่นี่ไม่ใช่ กกต. หรือสถานที่รับสมัครเลือกตั้ง...  อนาคตใหม่   \n",
       "1562  ตอนนี้ผมทราบมาว่าหลายท่านมีอาการน้ำมูกปนเลือด ...  อนาคตใหม่   \n",
       "\n",
       "                                                  tweet  \n",
       "0                                                        \n",
       "1     เลือก #อนาคตใหม่ อย่าให้ประเทศไทย กลับไปเหมือน...  \n",
       "2     การปราศรัยใหญ่ที่ทรงพลังที่สุดในประวัติศาสตร์ข...  \n",
       "3     ขอขอบคุณทุกท่านอย่าลืม  มีนากาอนาคตใหม่ อย่าให...  \n",
       "4     เราคือคนที่ไม่ยอมอยู่ในสังคมที่ไม่เป็นธรรมแบบน...  \n",
       "...                                                 ...  \n",
       "1558  เปิดชื่อแคนดิเดตนายกฯ ทูลกระหม่อมหญิงอุบลรัตนร...  \n",
       "1559  #savehakeem ผมเห็นรูปนี้แล้วสะเทือนใจมาก ส่วนห...  \n",
       "1560  ศาลทหารขอนแก่นจำหน่ายคดีไม่รับร่างรัฐธรรมนูญ แ...  \n",
       "1561  ที่นี่ไม่ใช่ กกต หรือสถานที่รับสมัครเลือกตั้ง ...  \n",
       "1562  ตอนนี้ผมทราบมาว่าหลายท่านมีอาการน้ำมูกปนเลือด ...  \n",
       "\n",
       "[1563 rows x 7 columns]"
      ],
      "text/html": "<div>\n<style scoped>\n    .dataframe tbody tr th:only-of-type {\n        vertical-align: middle;\n    }\n\n    .dataframe tbody tr th {\n        vertical-align: top;\n    }\n\n    .dataframe thead th {\n        text-align: right;\n    }\n</style>\n<table border=\"1\" class=\"dataframe\">\n  <thead>\n    <tr style=\"text-align: right;\">\n      <th></th>\n      <th>Username</th>\n      <th>Datetime</th>\n      <th>Retweet count</th>\n      <th>Favorite count</th>\n      <th>Text</th>\n      <th>Party</th>\n      <th>tweet</th>\n    </tr>\n  </thead>\n  <tbody>\n    <tr>\n      <th>0</th>\n      <td>FWPthailand</td>\n      <td>2019-03-23 10:08:22</td>\n      <td>3428</td>\n      <td>2130</td>\n      <td>https://t.co/p3aJrAJe5g</td>\n      <td>อนาคตใหม่</td>\n      <td></td>\n    </tr>\n    <tr>\n      <th>1</th>\n      <td>FWPthailand</td>\n      <td>2019-03-23 09:16:13</td>\n      <td>2032</td>\n      <td>2742</td>\n      <td>เลือก #อนาคตใหม่ อย่าให้ประเทศไทย กลับไปเหมือน...</td>\n      <td>อนาคตใหม่</td>\n      <td>เลือก #อนาคตใหม่ อย่าให้ประเทศไทย กลับไปเหมือน...</td>\n    </tr>\n    <tr>\n      <th>2</th>\n      <td>FWPthailand</td>\n      <td>2019-03-23 09:15:47</td>\n      <td>844</td>\n      <td>1491</td>\n      <td>การปราศรัยใหญ่ที่ทรงพลังที่สุดในประวัติศาสตร์ข...</td>\n      <td>อนาคตใหม่</td>\n      <td>การปราศรัยใหญ่ที่ทรงพลังที่สุดในประวัติศาสตร์ข...</td>\n    </tr>\n    <tr>\n      <th>3</th>\n      <td>FWPthailand</td>\n      <td>2019-03-22 17:09:15</td>\n      <td>3365</td>\n      <td>2937</td>\n      <td>ขอขอบคุณทุกท่าน...อย่าลืม 24 มีนากาอนาคตใหม่ อ...</td>\n      <td>อนาคตใหม่</td>\n      <td>ขอขอบคุณทุกท่านอย่าลืม  มีนากาอนาคตใหม่ อย่าให...</td>\n    </tr>\n    <tr>\n      <th>4</th>\n      <td>FWPthailand</td>\n      <td>2019-03-22 15:21:36</td>\n      <td>8662</td>\n      <td>4627</td>\n      <td>\"เราคือคนที่ไม่ยอมอยู่ในสังคมที่ไม่เป็นธรรมแบบ...</td>\n      <td>อนาคตใหม่</td>\n      <td>เราคือคนที่ไม่ยอมอยู่ในสังคมที่ไม่เป็นธรรมแบบน...</td>\n    </tr>\n    <tr>\n      <th>...</th>\n      <td>...</td>\n      <td>...</td>\n      <td>...</td>\n      <td>...</td>\n      <td>...</td>\n      <td>...</td>\n      <td>...</td>\n    </tr>\n    <tr>\n      <th>1558</th>\n      <td>RangsimanRome</td>\n      <td>2019-02-08 03:32:24</td>\n      <td>0</td>\n      <td>0</td>\n      <td>เปิดชื่อแคนดิเดตนายกฯ \"ทูลกระหม่อมหญิงอุบลรัตน...</td>\n      <td>อนาคตใหม่</td>\n      <td>เปิดชื่อแคนดิเดตนายกฯ ทูลกระหม่อมหญิงอุบลรัตนร...</td>\n    </tr>\n    <tr>\n      <th>1559</th>\n      <td>RangsimanRome</td>\n      <td>2019-02-04 07:24:11</td>\n      <td>24966</td>\n      <td>2881</td>\n      <td>#SaveHakeem  ผมเห็นรูปนี้แล้วสะเทือนใจมาก ส่วน...</td>\n      <td>อนาคตใหม่</td>\n      <td>#savehakeem ผมเห็นรูปนี้แล้วสะเทือนใจมาก ส่วนห...</td>\n    </tr>\n    <tr>\n      <th>1560</th>\n      <td>RangsimanRome</td>\n      <td>2019-02-04 04:37:40</td>\n      <td>169</td>\n      <td>154</td>\n      <td>ศาลทหารขอนแก่นจำหน่ายคดีไม่รับร่างรัฐธรรมนูญ แ...</td>\n      <td>อนาคตใหม่</td>\n      <td>ศาลทหารขอนแก่นจำหน่ายคดีไม่รับร่างรัฐธรรมนูญ แ...</td>\n    </tr>\n    <tr>\n      <th>1561</th>\n      <td>RangsimanRome</td>\n      <td>2019-02-04 01:45:02</td>\n      <td>30</td>\n      <td>38</td>\n      <td>ที่นี่ไม่ใช่ กกต. หรือสถานที่รับสมัครเลือกตั้ง...</td>\n      <td>อนาคตใหม่</td>\n      <td>ที่นี่ไม่ใช่ กกต หรือสถานที่รับสมัครเลือกตั้ง ...</td>\n    </tr>\n    <tr>\n      <th>1562</th>\n      <td>RangsimanRome</td>\n      <td>2019-02-03 06:06:46</td>\n      <td>35</td>\n      <td>58</td>\n      <td>ตอนนี้ผมทราบมาว่าหลายท่านมีอาการน้ำมูกปนเลือด ...</td>\n      <td>อนาคตใหม่</td>\n      <td>ตอนนี้ผมทราบมาว่าหลายท่านมีอาการน้ำมูกปนเลือด ...</td>\n    </tr>\n  </tbody>\n</table>\n<p>1563 rows × 7 columns</p>\n</div>"
     },
     "metadata": {},
     "execution_count": 21
    }
   ],
   "source": [
    "df"
   ]
  },
  {
   "source": [
    "* LDA"
   ],
   "cell_type": "markdown",
   "metadata": {}
  },
  {
   "cell_type": "code",
   "execution_count": 22,
   "metadata": {},
   "outputs": [],
   "source": [
    "n_samples = 50000\n",
    "n_features = 5000\n",
    "n_top_words =  50"
   ]
  },
  {
   "cell_type": "code",
   "execution_count": 23,
   "metadata": {},
   "outputs": [
    {
     "output_type": "stream",
     "name": "stderr",
     "text": [
      "/Users/admin/miniconda3/lib/python3.8/site-packages/sklearn/feature_extraction/text.py:383: UserWarning: Your stop_words may be inconsistent with your preprocessing. Tokenizing the stop words generated tokens ['กระไร', 'กาลนาน', 'ชิ้น', 'ดังที่', 'ดี', 'ดีกว่า', 'ด้อย', 'ตัว', 'ต่อไป', 'ถัดไป', 'ทั่วถึง', 'ทำ', 'ที่จะ', 'ท่าน', 'ท้าย', 'นา', 'บอ', 'บัด', 'ระยะเวลา', 'ล่ะ', 'วันวาน', 'สม', 'สมบูรณ์', 'สํา', 'หน้า', 'หรับ', 'หา', 'อย', 'เกี่ยว', 'เก่า', 'เดี๋ยวนี้', 'เย็น', 'เล่า', 'เสมือน', 'เหมือนกัน', 'แด่', 'แม้น', 'แหล่', 'โง้น', 'โน้น', 'ใด', 'ไว', 'ไหม'] not in stop_words.\n  warnings.warn('Your stop_words may be inconsistent with '\n"
     ]
    },
    {
     "output_type": "execute_result",
     "data": {
      "text/plain": [
       "การนำพา ประเทศ สงบสุข เศรษฐกิจ   \n",
       "41            การนำพา ประเทศ สงบสุข เศรษฐกิจ ดี อนาคต   \n",
       "42                  จับมือ ประชาชน เดินหน้า สู้ ศึก #   \n",
       "43                             เป็นสมาชิก พรรค การตาม   \n",
       "44                         ชัย เสียใจ เรื่อง เกิดขึ้น   \n",
       "45                       สร้าง ความเชื่อมั่น เศรษฐกิจ   \n",
       "46                    ชัย ผู้สมัคร สส แจ้ง กกต ยกเลิก   \n",
       "47                 # เพื่อไทย จับมือ ประชาชน เดินหน้า   \n",
       "48      พรรค การตาม ข้อบังคับ เด็ดขาด # savechiangrak   \n",
       "49                                   ศุภ ชัย ผู้สมัคร   \n",
       "\n",
       "                                    Topic 2 words  \\\n",
       "0                                       # ลุง คืน   \n",
       "1                        เรียนเชิญ ทุกท่าน รับฟัง   \n",
       "2                   รับฟัง การปราศรัย 📢 พื้นที่ #   \n",
       "3                          พื้นที่ # พรรคเพื่อไทย   \n",
       "4                      📢 พื้นที่ # พรรคเพื่อไทย ค   \n",
       "5                             รับฟัง การปราศรัย 📢   \n",
       "6                                     📢 พื้นที่ #   \n",
       "7                        📢 พื้นที่ # พรรคเพื่อไทย   \n",
       "8                     รับฟัง การปราศรัย 📢 พื้นที่   \n",
       "9                     ทุกท่าน รับฟัง การปราศรัย 📢   \n",
       "10                         การปราศรัย 📢 พื้นที่ #   \n",
       "11  เรียนเชิญ ทุกท่าน รับฟัง การปราศรัย 📢 พื้นที่   \n",
       "12                           การปราศรัย 📢 พื้นที่   \n",
       "13     รับฟัง การปราศรัย 📢 พื้นที่ # พรรคเพื่อไทย   \n",
       "14                               # พรรคเพื่อไทย ค   \n",
       "15            เรียนเชิญ ทุกท่าน รับฟัง การปราศรัย   \n",
       "16            การปราศรัย 📢 พื้นที่ # พรรคเพื่อไทย   \n",
       "17                       พื้นที่ # พรรคเพื่อไทย ค   \n",
       "18          การปราศรัย 📢 พื้นที่ # พรรคเพื่อไทย ค   \n",
       "19          ทุกท่าน รับฟัง การปราศรัย 📢 พื้นที่ #   \n",
       "20          เรียนเชิญ ทุกท่าน รับฟัง การปราศรัย 📢   \n",
       "21            ทุกท่าน รับฟัง การปราศรัย 📢 พื้นที่   \n",
       "22                      ทุกท่าน รับฟัง การปราศรัย   \n",
       "23                                 เวลา น # หัวใจ   \n",
       "24                                      น # หัวใจ   \n",
       "25                              น # หัวใจ ประชาชน   \n",
       "26                         เวลา น # หัวใจ ประชาชน   \n",
       "27                                       เวลา น #   \n",
       "28                                # หัวใจ ประชาชน   \n",
       "29                                ศาลา ว่าการ กทม   \n",
       "30               ปราศรัย พรรคเพื่อไทย ลาน คนเมือง   \n",
       "31                       ปราศรัย พรรคเพื่อไทย ลาน   \n",
       "32                                   # เพื่อไทย #   \n",
       "33                       พรรคเพื่อไทย ลาน คนเมือง   \n",
       "34                  เรื่อง สบายใจ เสียใจ บุคคล ทำ   \n",
       "35                 ดำเนินการ เด็ดขาด แม่ คุย น้อง   \n",
       "36          เป็นสมาชิก พรรค ดำเนินการ เด็ดขาด แม่   \n",
       "37                         พรรค ดำเนินการ เด็ดขาด   \n",
       "38      เป็นสมาชิก พรรค ดำเนินการ เด็ดขาด แม่ คุย   \n",
       "39                       เสียใจ บุคคล ทำ พฤติกรรม   \n",
       "40            น้องๆ ที่จะ สอบ นะคะ # savechiangra   \n",
       "41                    ให้กำลังใจ ให้กำลังใจ น้องๆ   \n",
       "42              เป็นสมาชิก พรรค ดำเนินการ เด็ดขาด   \n",
       "43      ขอบคุณ รับทราบ เรื่อง สบายใจ เสียใจ บุคคล   \n",
       "44                                     สอบ นะคะ #   \n",
       "45         เรื่อง สบายใจ เสียใจ บุคคล ทำ พฤติกรรม   \n",
       "46         น้อง ให้กำลังใจ ให้กำลังใจ น้องๆ ที่จะ   \n",
       "47    สบายใจ เสียใจ บุคคล ทำ พฤติกรรม น่ารังเกียจ   \n",
       "48          ให้กำลังใจ ให้กำลังใจ น้องๆ ที่จะ สอบ   \n",
       "49                                เด็ดขาด แม่ คุย   \n",
       "\n",
       "                                    Topic 3 words  \\\n",
       "0                               ฆ่า สุกร สอน บุตร   \n",
       "1                                    ฆ่า สุกร สอน   \n",
       "2                                   สุกร สอน บุตร   \n",
       "3                                           ​ ​ #   \n",
       "4                ปราศรัย ครั้งแรก ลาน คนเมือง กทม   \n",
       "5                        ครั้งแรก ลาน คนเมือง กทม   \n",
       "6                                 ลาน คนเมือง กทม   \n",
       "7                    ปราศรัย ครั้งแรก ลาน คนเมือง   \n",
       "8                            ครั้งแรก ลาน คนเมือง   \n",
       "9                            ปราศรัย ครั้งแรก ลาน   \n",
       "10            ชัชชาติ สิทธิ พันธุ์ ลงพื้นที่ พบปะ   \n",
       "11    พรรคเพื่อไทย ชัชชาติ สิทธิ พันธุ์ ลงพื้นที่   \n",
       "12                              หัว ใจตรงกัน พบปะ   \n",
       "13                   # พรรคเพื่อไทย ชัชชาติ สิทธิ   \n",
       "14                       เวลา น เรียนเชิญ ทุกท่าน   \n",
       "15          น เรียนเชิญ ทุกท่าน หัว ใจตรงกัน พบปะ   \n",
       "16                      พบปะ เวลา # หัวใจ ประชาชน   \n",
       "17                 เรียนเชิญ ทุกท่าน หัว ใจตรงกัน   \n",
       "18                         สิทธิ พันธุ์ ลงพื้นที่   \n",
       "19                                   เวลา # หัวใจ   \n",
       "20            เรียนเชิญ ทุกท่าน หัว ใจตรงกัน พบปะ   \n",
       "21                    สิทธิ พันธุ์ ลงพื้นที่ พบปะ   \n",
       "22            สิทธิ พันธุ์ ลงพื้นที่ พบปะ ประชาชน   \n",
       "23          เวลา น เรียนเชิญ ทุกท่าน หัว ใจตรงกัน   \n",
       "24  # พรรคเพื่อไทย ชัชชาติ สิทธิ พันธุ์ ลงพื้นที่   \n",
       "25              พรรคเพื่อไทย ชัชชาติ สิทธิ พันธุ์   \n",
       "26                   เวลา น เรียนเชิญ ทุกท่าน หัว   \n",
       "27                       หัว ใจตรงกัน พบปะ เวลา #   \n",
       "28                 หัว ใจตรงกัน พบปะ เวลา # หัวใจ   \n",
       "29                               เวลา น เรียนเชิญ   \n",
       "30                มีนาคม เวลา น เรียนเชิญ ทุกท่าน   \n",
       "31            # พรรคเพื่อไทย ชัชชาติ สิทธิ พันธุ์   \n",
       "32                        มีนาคม เวลา น เรียนเชิญ   \n",
       "33                        น เรียนเชิญ ทุกท่าน หัว   \n",
       "34    ชัชชาติ สิทธิ พันธุ์ ลงพื้นที่ พบปะ ประชาชน   \n",
       "35                          พันธุ์ ลงพื้นที่ พบปะ   \n",
       "36             ใจตรงกัน พบปะ เวลา # หัวใจ ประชาชน   \n",
       "37                         หัว ใจตรงกัน พบปะ เวลา   \n",
       "38                     ใจตรงกัน พบปะ เวลา # หัวใจ   \n",
       "39                          เรียนเชิญ ทุกท่าน หัว   \n",
       "40                            น เรียนเชิญ ทุกท่าน   \n",
       "41                           ทุกท่าน หัว ใจตรงกัน   \n",
       "42                              พบปะ เวลา # หัวใจ   \n",
       "43                         # พรรคเพื่อไทย ชัชชาติ   \n",
       "44                 ชัชชาติ สิทธิ พันธุ์ ลงพื้นที่   \n",
       "45               ทุกท่าน หัว ใจตรงกัน พบปะ เวลา #   \n",
       "46                      ทุกท่าน หัว ใจตรงกัน พบปะ   \n",
       "47            มีนาคม เวลา น เรียนเชิญ ทุกท่าน หัว   \n",
       "48                                  มีนาคม เวลา น   \n",
       "49               น เรียนเชิญ ทุกท่าน หัว ใจตรงกัน   \n",
       "\n",
       "                                        Topic 4 words  \\\n",
       "0                                  กรุงเทพฯ จำนวน ชุด   \n",
       "1                                 ถ เพชรบุรี ตัด แขวง   \n",
       "2                    ห้วยขวาง กรุงเทพฯ จำนวน ชุด เวลา   \n",
       "3                 ตัด แขวง กะปิ เขต ห้วยขวาง กรุงเทพฯ   \n",
       "4                          ตัด แขวง กะปิ เขต ห้วยขวาง   \n",
       "5                                   กะปิ เขต ห้วยขวาง   \n",
       "6                                      ถ เพชรบุรี ตัด   \n",
       "7                กะปิ เขต ห้วยขวาง กรุงเทพฯ จำนวน ชุด   \n",
       "8                                   เพชรบุรี ตัด แขวง   \n",
       "9                            ถ เพชรบุรี ตัด แขวง กะปิ   \n",
       "10              แขวง กะปิ เขต ห้วยขวาง กรุงเทพฯ จำนวน   \n",
       "11                     พรรคเพื่อไทย เลขที่ ถ เพชรบุรี   \n",
       "12                                  ตัด แขวง กะปิ เขต   \n",
       "13                              เลขที่ ถ เพชรบุรี ตัด   \n",
       "14                    เลขที่ ถ เพชรบุรี ตัด แขวง กะปิ   \n",
       "15                         กะปิ เขต ห้วยขวาง กรุงเทพฯ   \n",
       "16                เพชรบุรี ตัด แขวง กะปิ เขต ห้วยขวาง   \n",
       "17                              พรรคเพื่อไทย เลขที่ ถ   \n",
       "18                         เลขที่ ถ เพชรบุรี ตัด แขวง   \n",
       "19                                      แขวง กะปิ เขต   \n",
       "20                            ห้วยขวาง กรุงเทพฯ จำนวน   \n",
       "21                              เขต ห้วยขวาง กรุงเทพฯ   \n",
       "22                        เขต ห้วยขวาง กรุงเทพฯ จำนวน   \n",
       "23                                      ตัด แขวง กะปิ   \n",
       "24                            กรุงเทพฯ จำนวน ชุด เวลา   \n",
       "25                                  เลขที่ ถ เพชรบุรี   \n",
       "26                    แขวง กะปิ เขต ห้วยขวาง กรุงเทพฯ   \n",
       "27                    เขต ห้วยขวาง กรุงเทพฯ จำนวน ชุด   \n",
       "28            พรรคเพื่อไทย เลขที่ ถ เพชรบุรี ตัด แขวง   \n",
       "29                             เพชรบุรี ตัด แขวง กะปิ   \n",
       "30               เขต ห้วยขวาง กรุงเทพฯ จำนวน ชุด เวลา   \n",
       "31                   กะปิ เขต ห้วยขวาง กรุงเทพฯ จำนวน   \n",
       "32                 พรรคเพื่อไทย เลขที่ ถ เพชรบุรี ตัด   \n",
       "33                        ห้วยขวาง กรุงเทพฯ จำนวน ชุด   \n",
       "34                         เพชรบุรี ตัด แขวง กะปิ เขต   \n",
       "35                             แขวง กะปิ เขต ห้วยขวาง   \n",
       "36                       ถ เพชรบุรี ตัด แขวง กะปิ เขต   \n",
       "37                                     จำนวน ชุด เวลา   \n",
       "38  สุดารัตน์ เกยุราพันธุ์ พรรคเพื่อไทย เลขที่ ถ เ...   \n",
       "39         สุดารัตน์ เกยุราพันธุ์ พรรคเพื่อไทย เลขที่   \n",
       "40  คุณหญิง สุดารัตน์ เกยุราพันธุ์ พรรคเพื่อไทย เล...   \n",
       "41        คุณหญิง สุดารัตน์ เกยุราพันธุ์ พรรคเพื่อไทย   \n",
       "42  ผลิต คุณหญิง สุดารัตน์ เกยุราพันธุ์ พรรคเพื่อไ...   \n",
       "43  คุณหญิง สุดารัตน์ เกยุราพันธุ์ พรรคเพื่อไทย เล...   \n",
       "44  คุณหญิง สุดารัตน์ เกยุราพันธุ์ พรรคเพื่อไทย เล...   \n",
       "45  ผลิต คุณหญิง สุดารัตน์ เกยุราพันธุ์ พรรคเพื่อไ...   \n",
       "46  สุดารัตน์ เกยุราพันธุ์ พรรคเพื่อไทย เลขที่ ถ เ...   \n",
       "47       สุดารัตน์ เกยุราพันธุ์ พรรคเพื่อไทย เลขที่ ถ   \n",
       "48   ผลิต คุณหญิง สุดารัตน์ เกยุราพันธุ์ พรรคเพื่อไทย   \n",
       "49                ผลิต คุณหญิง สุดารัตน์ เกยุราพันธุ์   \n",
       "\n",
       "                                        Topic 5 words  \\\n",
       "0                                      good monday ep   \n",
       "1                                    ​ # พรรคเพื่อไทย   \n",
       "2                              พรรคเพื่อไทย จำนวน ชุด   \n",
       "3                         พรรคเพื่อไทย จำนวน ชุด เวลา   \n",
       "4                                 ผลิต ​ พรรคเพื่อไทย   \n",
       "5                                      จำนวน ชุด เวลา   \n",
       "6                                สลาก การออม แห่งชาติ   \n",
       "7                                       # pm # prayut   \n",
       "8                                         pm # prayut   \n",
       "9                               # thailand # pheuthai   \n",
       "10                            ดังนี้ ศุภ ชัย ผู้สมัคร   \n",
       "11                           ถ เพชรบุรี ตัด แขวง กะปิ   \n",
       "12  ทีม เพื่อไทย บริหาร มืออาชีพ แก้ไขปัญหา ความทุกข์   \n",
       "13                เสนอ ลด งบ กระทรวงกลาโหม ซื้อ อาวุธ   \n",
       "14                     บริหาร มืออาชีพ เดินหน้า สร้าง   \n",
       "15              รับทราบ เรื่อง สบายใจ เสียใจ บุคคล ทำ   \n",
       "16             ประชาชน คน เดือดร้อน ปัญหา เศรษฐกิจ งบ   \n",
       "17                            เลือกตั้ง # เลือกตั้ง #   \n",
       "18              ยกเลิก ผู้ช่วย หาเสียง ก่อปัญหา ​ ศุภ   \n",
       "19  ยุติธรรม สร้าง ความเชื่อมั่น เศรษฐกิจ # freefa...   \n",
       "20                         หาเสียง ก่อปัญหา ​ ศุภ ชัย   \n",
       "21                                    ไทย เศรษฐกิจ ดี   \n",
       "22                       ทีม เพื่อไทย บริหาร มืออาชีพ   \n",
       "23                                thailand # pheuthai   \n",
       "24                                   ผู้สมัคร สส แจ้ง   \n",
       "25           ทหาร หน้าที่ ป้องกัน ประเทศ ทหาร เหมาะสม   \n",
       "26                                             # pm #   \n",
       "27                                   # pheuthai parti   \n",
       "28              ศาลาว่าการกรุงเทพมหานคร ภาพ สงวน คุ้ม   \n",
       "29                               โลก ทั้งโลก ตลาด ขาย   \n",
       "30                     สงบสุข เศรษฐกิจ ดี อนาคต หัวใจ   \n",
       "31                                    แจ้ง กกต ยกเลิก   \n",
       "32               ความทุกข์ พี่น้อง คนไทย ทุ่มเท ทำงาน   \n",
       "33                           # เพื่อไทย # เลือกตั้ง #   \n",
       "34                               ถาม ตอบ อนาคต ประเทศ   \n",
       "35                            # เลือกตั้ง # เลือกตั้ง   \n",
       "36                เพื่อไทย ดังนี้ ศุภ ชัย ผู้สมัคร สส   \n",
       "37                                   หน้า ศาลา ว่าการ   \n",
       "38                                       # thailand #   \n",
       "39                           พื้นที่ # พรรคเพื่อไทย ค   \n",
       "40                   น เรียนเชิญ ทุกท่าน หัว ใจตรงกัน   \n",
       "41               กะปิ เขต ห้วยขวาง กรุงเทพฯ จำนวน ชุด   \n",
       "42                      ไทย สงบ ปล่อย บริหาร มืออาชีพ   \n",
       "43              ผลิต ​ พรรคเพื่อไทย เลขที่ ถ เพชรบุรี   \n",
       "44                          งบ สร้าง อาชีพ คนรุ่นใหม่   \n",
       "45  เพื่อไทย บริหาร มืออาชีพ แก้ไขปัญหา ความทุกข์ ...   \n",
       "46                              เลือกตั้ง # เลือกตั้ง   \n",
       "47                                 เศรษฐกิจ ดี ประเทศ   \n",
       "48                               ลุง คืน เงิน กระเป๋า   \n",
       "49                         สส แจ้ง กกต ยกเลิก ผู้ช่วย   \n",
       "\n",
       "                               Topic 6 words  \\\n",
       "0                            # หัวใจ ประชาชน   \n",
       "1                     # พรรคเพื่อไทย # หัวใจ   \n",
       "2             # พรรคเพื่อไทย # หัวใจ ประชาชน   \n",
       "3                       พรรคเพื่อไทย # หัวใจ   \n",
       "4               พรรคเพื่อไทย # หัวใจ ประชาชน   \n",
       "5                      # thailand # pheuthai   \n",
       "6                        thailand # pheuthai   \n",
       "7                               # thailand #   \n",
       "8                           # พรรคเพื่อไทย #   \n",
       "9                                     # pm #   \n",
       "10                      # เลือก ตั้งล่วงหน้า   \n",
       "11               # thailand # pheuthai parti   \n",
       "12                 thailand # pheuthai parti   \n",
       "13                          # pheuthai parti   \n",
       "14                      parti # thaielection   \n",
       "15                               pm # prayut   \n",
       "16                             # pm # prayut   \n",
       "17                                   ex # pm   \n",
       "18                             สิทธิ # เลือก   \n",
       "19                สิทธิ # เลือก ตั้งล่วงหน้า   \n",
       "20             # thailand # pheuthai parti #   \n",
       "21               thailand # pheuthai parti #   \n",
       "22                          pheuthai parti #   \n",
       "23                        # pheuthai parti #   \n",
       "24                      # thaielection ralli   \n",
       "25                          คูหา บ้าน ท่าน #   \n",
       "26                            คูหา บ้าน ท่าน   \n",
       "27                                 ex # pm #   \n",
       "28                               บ้าน ท่าน #   \n",
       "29                              pm # thaksin   \n",
       "30                            # pm # thaksin   \n",
       "31           # pheuthai parti # thaielection   \n",
       "32             pheuthai parti # thaielection   \n",
       "33                      สลาก การออม แห่งชาติ   \n",
       "34  thailand # pheuthai parti # thaielection   \n",
       "35                  # thaielection # bangkok   \n",
       "36                    parti # thaielection #   \n",
       "37            # thaielection # bangkok ralli   \n",
       "38                          # thaielection #   \n",
       "39      parti # thaielection # bangkok ralli   \n",
       "40            parti # thaielection # bangkok   \n",
       "41              thaielection # bangkok ralli   \n",
       "42                    thaielection # bangkok   \n",
       "43                           # bangkok ralli   \n",
       "44                            เกษม นิติ สิริ   \n",
       "45                        ชัย เกษม นิติ สิริ   \n",
       "46                             ชัย เกษม นิติ   \n",
       "47                    เลือก # พรรคเพื่อไทย #   \n",
       "48                       แก้ วิกฤติ เศรษฐกิจ   \n",
       "49     เลือกตั้ง มีนาคม เลือก # พรรคเพื่อไทย   \n",
       "\n",
       "                                        Topic 7 words  \\\n",
       "0                                 สถาบัน พัฒนา รายได้   \n",
       "1                 # ศูนย์ สร้าง ผู้ประกอบการ รุ่นใหม่   \n",
       "2                            ศูนย์ สร้าง ผู้ประกอบการ   \n",
       "3                   ศูนย์ สร้าง ผู้ประกอบการ รุ่นใหม่   \n",
       "4                         สร้าง ผู้ประกอบการ รุ่นใหม่   \n",
       "5                                       # ศูนย์ สร้าง   \n",
       "6                          # ศูนย์ สร้าง ผู้ประกอบการ   \n",
       "7            ลาน คนเมือง หน้า ศาลาว่าการกรุงเทพมหานคร   \n",
       "8                คนเมือง หน้า ศาลาว่าการกรุงเทพมหานคร   \n",
       "9                                    ลาน คนเมือง หน้า   \n",
       "10                           พรรคเพื่อไทย ลาน คนเมือง   \n",
       "11  พรรคเพื่อไทย ลาน คนเมือง หน้า ศาลาว่าการกรุงเท...   \n",
       "12                      พรรคเพื่อไทย ลาน คนเมือง หน้า   \n",
       "13                               เงิน กระเป๋า กลับคืน   \n",
       "14                               ลุง คืน เงิน กระเป๋า   \n",
       "15                                   คืน เงิน กระเป๋า   \n",
       "16                           คืน เงิน กระเป๋า กลับคืน   \n",
       "17                                       ลุง คืน เงิน   \n",
       "18                       ลุง คืน เงิน กระเป๋า กลับคืน   \n",
       "19                การปราศรัย พรรคเพื่อไทย ลาน คนเมือง   \n",
       "20             คนเมือง หน้า ศาลาว่าการกรุงเทพมหานคร #   \n",
       "21                        การปราศรัย พรรคเพื่อไทย ลาน   \n",
       "22         ลาน คนเมือง หน้า ศาลาว่าการกรุงเทพมหานคร #   \n",
       "23                     หน้า ศาลาว่าการกรุงเทพมหานคร #   \n",
       "24    ศาลาว่าการกรุงเทพมหานคร ภาพ สงวน คุ้ม รุ่งโรจน์   \n",
       "25                                สงวน คุ้ม รุ่งโรจน์   \n",
       "26                            ภาพ สงวน คุ้ม รุ่งโรจน์   \n",
       "27                   ศาลาว่าการกรุงเทพมหานคร ภาพ สงวน   \n",
       "28              ศาลาว่าการกรุงเทพมหานคร ภาพ สงวน คุ้ม   \n",
       "29                                      ภาพ สงวน คุ้ม   \n",
       "30                                   สร้าง ประเทศ ไทย   \n",
       "31                                  เศรษฐกิจ ดี อนาคต   \n",
       "32                                 สงบสุข เศรษฐกิจ ดี   \n",
       "33                           สงบสุข เศรษฐกิจ ดี อนาคต   \n",
       "34              ปราศรัย พรรคเพื่อไทย ลาน คนเมือง หน้า   \n",
       "35  ปราศรัย พรรคเพื่อไทย ลาน คนเมือง หน้า ศาลาว่าก...   \n",
       "36                   ปราศรัย พรรคเพื่อไทย ลาน คนเมือง   \n",
       "37                           ปราศรัย พรรคเพื่อไทย ลาน   \n",
       "38                            เลือก เพื่อไทย ถล่มทลาย   \n",
       "39                                          # ลุง คืน   \n",
       "40                               โลก ทั้งโลก ตลาด ขาย   \n",
       "41                        ทั้งโลก ตลาด ขาย สินค้า ไทย   \n",
       "42                                     ขาย สินค้า ไทย   \n",
       "43                    โลก ทั้งโลก ตลาด ขาย สินค้า ไทย   \n",
       "44                        โลก ทั้งโลก ตลาด ขาย สินค้า   \n",
       "45                                    ตลาด ขาย สินค้า   \n",
       "46                                    # หัวใจ ประชาชน   \n",
       "47                                   ทั้งโลก ตลาด ขาย   \n",
       "48                            ทั้งโลก ตลาด ขาย สินค้า   \n",
       "49                                ตลาด ขาย สินค้า ไทย   \n",
       "\n",
       "                                        Topic 8 words  \n",
       "0                                   ทักษิณ ชินวัตร ep  \n",
       "1                                ดร ทักษิณ ชินวัตร ep  \n",
       "2                        การเปลี่ยนแปลง โลก ดร ทักษิณ  \n",
       "3                        รับมือ การเปลี่ยนแปลง โลก ดร  \n",
       "4                               การเปลี่ยนแปลง โลก ดร  \n",
       "5             การเปลี่ยนแปลง โลก ดร ทักษิณ ชินวัตร ep  \n",
       "6                                   ดร ทักษิณ ชินวัตร  \n",
       "7                            โลก ดร ทักษิณ ชินวัตร ep  \n",
       "8                การเปลี่ยนแปลง โลก ดร ทักษิณ ชินวัตร  \n",
       "9         รับมือ การเปลี่ยนแปลง โลก ดร ทักษิณ ชินวัตร  \n",
       "10                          รับมือ การเปลี่ยนแปลง โลก  \n",
       "11                              โลก ดร ทักษิณ ชินวัตร  \n",
       "12                รับมือ การเปลี่ยนแปลง โลก ดร ทักษิณ  \n",
       "13                                      โลก ดร ทักษิณ  \n",
       "14                   monday รับมือ การเปลี่ยนแปลง โลก  \n",
       "15                       monday รับมือ การเปลี่ยนแปลง  \n",
       "16                monday รับมือ การเปลี่ยนแปลง โลก ดร  \n",
       "17                                 good monday รับมือ  \n",
       "18         monday รับมือ การเปลี่ยนแปลง โลก ดร ทักษิณ  \n",
       "19                  good monday รับมือ การเปลี่ยนแปลง  \n",
       "20              good monday รับมือ การเปลี่ยนแปลง โลก  \n",
       "21           good monday รับมือ การเปลี่ยนแปลง โลก ดร  \n",
       "22      ผลิต คุณหญิง สุดารัตน์ เกยุราพันธุ์ จำนวน ชุด  \n",
       "23              สุดารัตน์ เกยุราพันธุ์ จำนวน ชุด เวลา  \n",
       "24                   สุดารัตน์ เกยุราพันธุ์ จำนวน ชุด  \n",
       "25  ผลิต คุณหญิง สุดารัตน์ เกยุราพันธุ์ จำนวน ชุด ...  \n",
       "26          ผลิต คุณหญิง สุดารัตน์ เกยุราพันธุ์ จำนวน  \n",
       "27               คุณหญิง สุดารัตน์ เกยุราพันธุ์ จำนวน  \n",
       "28           คุณหญิง สุดารัตน์ เกยุราพันธุ์ จำนวน ชุด  \n",
       "29      คุณหญิง สุดารัตน์ เกยุราพันธุ์ จำนวน ชุด เวลา  \n",
       "30                                      # เลือกตั้ง #  \n",
       "31                       ลาน คนเมือง หน้า ศาลา ว่าการ  \n",
       "32                                   หน้า ศาลา ว่าการ  \n",
       "33                           คนเมือง หน้า ศาลา ว่าการ  \n",
       "34                                  คนเมือง หน้า ศาลา  \n",
       "35                              ลาน คนเมือง หน้า ศาลา  \n",
       "36                         # เลือกตั้ง # พรรคเพื่อไทย  \n",
       "37                         เลือกตั้ง # พรรคเพื่อไทย #  \n",
       "38                       # เลือกตั้ง # พรรคเพื่อไทย #  \n",
       "39                           เลือกตั้ง # พรรคเพื่อไทย  \n",
       "40                             เพื่อไทย # เลือกตั้ง #  \n",
       "41                             # เพื่อไทย # เลือกตั้ง  \n",
       "42                           # เพื่อไทย # เลือกตั้ง #  \n",
       "43                               เพื่อไทย # เลือกตั้ง  \n",
       "44                                   ลาน คนเมือง หน้า  \n",
       "45                ผลิต คุณหญิง สุดารัตน์ เกยุราพันธุ์  \n",
       "46                                       # เพื่อไทย #  \n",
       "47                                     จำนวน ชุด เวลา  \n",
       "48                                   # พรรคเพื่อไทย #  \n",
       "49                                    ครั้งแรก รอบ ปี  "
      ],
      "text/html": "<div>\n<style scoped>\n    .dataframe tbody tr th:only-of-type {\n        vertical-align: middle;\n    }\n\n    .dataframe tbody tr th {\n        vertical-align: top;\n    }\n\n    .dataframe thead th {\n        text-align: right;\n    }\n</style>\n<table border=\"1\" class=\"dataframe\">\n  <thead>\n    <tr style=\"text-align: right;\">\n      <th></th>\n      <th>Topic 0 words</th>\n      <th>Topic 1 words</th>\n      <th>Topic 2 words</th>\n      <th>Topic 3 words</th>\n      <th>Topic 4 words</th>\n      <th>Topic 5 words</th>\n      <th>Topic 6 words</th>\n      <th>Topic 7 words</th>\n      <th>Topic 8 words</th>\n    </tr>\n  </thead>\n  <tbody>\n    <tr>\n      <th>0</th>\n      <td># เลือกตั้ง #</td>\n      <td>เลือก เพื่อไทย ถล่มทลาย</td>\n      <td># ลุง คืน</td>\n      <td>ฆ่า สุกร สอน บุตร</td>\n      <td>กรุงเทพฯ จำนวน ชุด</td>\n      <td>good monday ep</td>\n      <td># หัวใจ ประชาชน</td>\n      <td>สถาบัน พัฒนา รายได้</td>\n      <td>ทักษิณ ชินวัตร ep</td>\n    </tr>\n    <tr>\n      <th>1</th>\n      <td>ชัชชาติ สิทธิ พันธุ์</td>\n      <td>ทุกท่าน รับฟัง การปราศรัย</td>\n      <td>เรียนเชิญ ทุกท่าน รับฟัง</td>\n      <td>ฆ่า สุกร สอน</td>\n      <td>ถ เพชรบุรี ตัด แขวง</td>\n      <td>​ # พรรคเพื่อไทย</td>\n      <td># พรรคเพื่อไทย # หัวใจ</td>\n      <td># ศูนย์ สร้าง ผู้ประกอบการ รุ่นใหม่</td>\n      <td>ดร ทักษิณ ชินวัตร ep</td>\n    </tr>\n    <tr>\n      <th>2</th>\n      <td>เลือกตั้ง # เลือกตั้ง</td>\n      <td>อนาคต หัวใจ การเลือกตั้ง ประสบความสำเร็จ การเล...</td>\n      <td>รับฟัง การปราศรัย 📢 พื้นที่ #</td>\n      <td>สุกร สอน บุตร</td>\n      <td>ห้วยขวาง กรุงเทพฯ จำนวน ชุด เวลา</td>\n      <td>พรรคเพื่อไทย จำนวน ชุด</td>\n      <td># พรรคเพื่อไทย # หัวใจ ประชาชน</td>\n      <td>ศูนย์ สร้าง ผู้ประกอบการ</td>\n      <td>การเปลี่ยนแปลง โลก ดร ทักษิณ</td>\n    </tr>\n    <tr>\n      <th>3</th>\n      <td>ชัชชาติ สิทธิ พันธุ์ เย็น</td>\n      <td>เพื่อไทย จับมือ ประชาชน</td>\n      <td>พื้นที่ # พรรคเพื่อไทย</td>\n      <td>​ ​ #</td>\n      <td>ตัด แขวง กะปิ เขต ห้วยขวาง กรุงเทพฯ</td>\n      <td>พรรคเพื่อไทย จำนวน ชุด เวลา</td>\n      <td>พรรคเพื่อไทย # หัวใจ</td>\n      <td>ศูนย์ สร้าง ผู้ประกอบการ รุ่นใหม่</td>\n      <td>รับมือ การเปลี่ยนแปลง โลก ดร</td>\n    </tr>\n    <tr>\n      <th>4</th>\n      <td>สิทธิ พันธุ์ เย็น</td>\n      <td>เพื่อไทย จับมือ ประชาชน เดินหน้า สู้ ศึก</td>\n      <td>📢 พื้นที่ # พรรคเพื่อไทย ค</td>\n      <td>ปราศรัย ครั้งแรก ลาน คนเมือง กทม</td>\n      <td>ตัด แขวง กะปิ เขต ห้วยขวาง</td>\n      <td>ผลิต ​ พรรคเพื่อไทย</td>\n      <td>พรรคเพื่อไทย # หัวใจ ประชาชน</td>\n      <td>สร้าง ผู้ประกอบการ รุ่นใหม่</td>\n      <td>การเปลี่ยนแปลง โลก ดร</td>\n    </tr>\n    <tr>\n      <th>5</th>\n      <td>พรรคเพื่อไทย # เลือกตั้ง #</td>\n      <td>ชัย ผู้สมัคร สส แจ้ง</td>\n      <td>รับฟัง การปราศรัย 📢</td>\n      <td>ครั้งแรก ลาน คนเมือง กทม</td>\n      <td>กะปิ เขต ห้วยขวาง</td>\n      <td>จำนวน ชุด เวลา</td>\n      <td># thailand # pheuthai</td>\n      <td># ศูนย์ สร้าง</td>\n      <td>การเปลี่ยนแปลง โลก ดร ทักษิณ ชินวัตร ep</td>\n    </tr>\n    <tr>\n      <th>6</th>\n      <td>พรรคเพื่อไทย # เลือกตั้ง</td>\n      <td>อนาคต หัวใจ การเลือกตั้ง</td>\n      <td>📢 พื้นที่ #</td>\n      <td>ลาน คนเมือง กทม</td>\n      <td>ถ เพชรบุรี ตัด</td>\n      <td>สลาก การออม แห่งชาติ</td>\n      <td>thailand # pheuthai</td>\n      <td># ศูนย์ สร้าง ผู้ประกอบการ</td>\n      <td>ดร ทักษิณ ชินวัตร</td>\n    </tr>\n    <tr>\n      <th>7</th>\n      <td>ครั้งแรก รอบ ปี</td>\n      <td>คำตอบ การนำพา ประเทศ สงบสุข</td>\n      <td>📢 พื้นที่ # พรรคเพื่อไทย</td>\n      <td>ปราศรัย ครั้งแรก ลาน คนเมือง</td>\n      <td>กะปิ เขต ห้วยขวาง กรุงเทพฯ จำนวน ชุด</td>\n      <td># pm # prayut</td>\n      <td># thailand #</td>\n      <td>ลาน คนเมือง หน้า ศาลาว่าการกรุงเทพมหานคร</td>\n      <td>โลก ดร ทักษิณ ชินวัตร ep</td>\n    </tr>\n    <tr>\n      <th>8</th>\n      <td>เลือกตั้ง # เลือกตั้ง #</td>\n      <td>ประสบความสำเร็จ การเลือกตั้ง บริสุทธิ์ ยุติธรร...</td>\n      <td>รับฟัง การปราศรัย 📢 พื้นที่</td>\n      <td>ครั้งแรก ลาน คนเมือง</td>\n      <td>เพชรบุรี ตัด แขวง</td>\n      <td>pm # prayut</td>\n      <td># พรรคเพื่อไทย #</td>\n      <td>คนเมือง หน้า ศาลาว่าการกรุงเทพมหานคร</td>\n      <td>การเปลี่ยนแปลง โลก ดร ทักษิณ ชินวัตร</td>\n    </tr>\n    <tr>\n      <th>9</th>\n      <td># เลือกตั้ง # เลือกตั้ง</td>\n      <td>ประชาชน เดินหน้า สู้ ศึก</td>\n      <td>ทุกท่าน รับฟัง การปราศรัย 📢</td>\n      <td>ปราศรัย ครั้งแรก ลาน</td>\n      <td>ถ เพชรบุรี ตัด แขวง กะปิ</td>\n      <td># thailand # pheuthai</td>\n      <td># pm #</td>\n      <td>ลาน คนเมือง หน้า</td>\n      <td>รับมือ การเปลี่ยนแปลง โลก ดร ทักษิณ ชินวัตร</td>\n    </tr>\n    <tr>\n      <th>10</th>\n      <td># เลือก ตั้งปี</td>\n      <td>เสียง ประชาชน คำตอบ การนำพา ประเทศ</td>\n      <td>การปราศรัย 📢 พื้นที่ #</td>\n      <td>ชัชชาติ สิทธิ พันธุ์ ลงพื้นที่ พบปะ</td>\n      <td>แขวง กะปิ เขต ห้วยขวาง กรุงเทพฯ จำนวน</td>\n      <td>ดังนี้ ศุภ ชัย ผู้สมัคร</td>\n      <td># เลือก ตั้งล่วงหน้า</td>\n      <td>พรรคเพื่อไทย ลาน คนเมือง</td>\n      <td>รับมือ การเปลี่ยนแปลง โลก</td>\n    </tr>\n    <tr>\n      <th>11</th>\n      <td>เลือก ตั้งปี #</td>\n      <td>กกต ยกเลิก ผู้ช่วย หาเสียง ก่อปัญหา ​</td>\n      <td>เรียนเชิญ ทุกท่าน รับฟัง การปราศรัย 📢 พื้นที่</td>\n      <td>พรรคเพื่อไทย ชัชชาติ สิทธิ พันธุ์ ลงพื้นที่</td>\n      <td>พรรคเพื่อไทย เลขที่ ถ เพชรบุรี</td>\n      <td>ถ เพชรบุรี ตัด แขวง กะปิ</td>\n      <td># thailand # pheuthai parti</td>\n      <td>พรรคเพื่อไทย ลาน คนเมือง หน้า ศาลาว่าการกรุงเท...</td>\n      <td>โลก ดร ทักษิณ ชินวัตร</td>\n    </tr>\n    <tr>\n      <th>12</th>\n      <td># เลือก ตั้งปี #</td>\n      <td>ผู้ช่วย หาเสียง ก่อปัญหา ​</td>\n      <td>การปราศรัย 📢 พื้นที่</td>\n      <td>หัว ใจตรงกัน พบปะ</td>\n      <td>ตัด แขวง กะปิ เขต</td>\n      <td>ทีม เพื่อไทย บริหาร มืออาชีพ แก้ไขปัญหา ความทุกข์</td>\n      <td>thailand # pheuthai parti</td>\n      <td>พรรคเพื่อไทย ลาน คนเมือง หน้า</td>\n      <td>รับมือ การเปลี่ยนแปลง โลก ดร ทักษิณ</td>\n    </tr>\n    <tr>\n      <th>13</th>\n      <td># tv #</td>\n      <td>ผู้สมัคร สส แจ้ง</td>\n      <td>รับฟัง การปราศรัย 📢 พื้นที่ # พรรคเพื่อไทย</td>\n      <td># พรรคเพื่อไทย ชัชชาติ สิทธิ</td>\n      <td>เลขที่ ถ เพชรบุรี ตัด</td>\n      <td>เสนอ ลด งบ กระทรวงกลาโหม ซื้อ อาวุธ</td>\n      <td># pheuthai parti</td>\n      <td>เงิน กระเป๋า กลับคืน</td>\n      <td>โลก ดร ทักษิณ</td>\n    </tr>\n    <tr>\n      <th>14</th>\n      <td>พรรคเพื่อไทย # เลือกตั้ง # เลือก ตั้งปี</td>\n      <td>เศรษฐกิจ ดี อนาคต หัวใจ การเลือกตั้ง</td>\n      <td># พรรคเพื่อไทย ค</td>\n      <td>เวลา น เรียนเชิญ ทุกท่าน</td>\n      <td>เลขที่ ถ เพชรบุรี ตัด แขวง กะปิ</td>\n      <td>บริหาร มืออาชีพ เดินหน้า สร้าง</td>\n      <td>parti # thaielection</td>\n      <td>ลุง คืน เงิน กระเป๋า</td>\n      <td>monday รับมือ การเปลี่ยนแปลง โลก</td>\n    </tr>\n    <tr>\n      <th>15</th>\n      <td># พรรคเพื่อไทย # เลือกตั้ง</td>\n      <td>ประชาชน คำตอบ การนำพา</td>\n      <td>เรียนเชิญ ทุกท่าน รับฟัง การปราศรัย</td>\n      <td>น เรียนเชิญ ทุกท่าน หัว ใจตรงกัน พบปะ</td>\n      <td>กะปิ เขต ห้วยขวาง กรุงเทพฯ</td>\n      <td>รับทราบ เรื่อง สบายใจ เสียใจ บุคคล ทำ</td>\n      <td>pm # prayut</td>\n      <td>คืน เงิน กระเป๋า</td>\n      <td>monday รับมือ การเปลี่ยนแปลง</td>\n    </tr>\n    <tr>\n      <th>16</th>\n      <td>เลือกตั้ง # เลือก ตั้งปี</td>\n      <td>แจ้ง กกต ยกเลิก</td>\n      <td>การปราศรัย 📢 พื้นที่ # พรรคเพื่อไทย</td>\n      <td>พบปะ เวลา # หัวใจ ประชาชน</td>\n      <td>เพชรบุรี ตัด แขวง กะปิ เขต ห้วยขวาง</td>\n      <td>ประชาชน คน เดือดร้อน ปัญหา เศรษฐกิจ งบ</td>\n      <td># pm # prayut</td>\n      <td>คืน เงิน กระเป๋า กลับคืน</td>\n      <td>monday รับมือ การเปลี่ยนแปลง โลก ดร</td>\n    </tr>\n    <tr>\n      <th>17</th>\n      <td># เลือกตั้ง # เลือก ตั้งปี</td>\n      <td>ยุติธรรม สร้าง ความเชื่อมั่น เศรษฐกิจ</td>\n      <td>พื้นที่ # พรรคเพื่อไทย ค</td>\n      <td>เรียนเชิญ ทุกท่าน หัว ใจตรงกัน</td>\n      <td>พรรคเพื่อไทย เลขที่ ถ</td>\n      <td>เลือกตั้ง # เลือกตั้ง #</td>\n      <td>ex # pm</td>\n      <td>ลุง คืน เงิน</td>\n      <td>good monday รับมือ</td>\n    </tr>\n    <tr>\n      <th>18</th>\n      <td># พรรคเพื่อไทย # เลือกตั้ง #</td>\n      <td>สู้ ศึก # เลือกตั้ง เสียง</td>\n      <td>การปราศรัย 📢 พื้นที่ # พรรคเพื่อไทย ค</td>\n      <td>สิทธิ พันธุ์ ลงพื้นที่</td>\n      <td>เลขที่ ถ เพชรบุรี ตัด แขวง</td>\n      <td>ยกเลิก ผู้ช่วย หาเสียง ก่อปัญหา ​ ศุภ</td>\n      <td>สิทธิ # เลือก</td>\n      <td>ลุง คืน เงิน กระเป๋า กลับคืน</td>\n      <td>monday รับมือ การเปลี่ยนแปลง โลก ดร ทักษิณ</td>\n    </tr>\n    <tr>\n      <th>19</th>\n      <td># พรรคเพื่อไทย # เลือกตั้ง # เลือก</td>\n      <td>ดังนี้ ศุภ ชัย</td>\n      <td>ทุกท่าน รับฟัง การปราศรัย 📢 พื้นที่ #</td>\n      <td>เวลา # หัวใจ</td>\n      <td>แขวง กะปิ เขต</td>\n      <td>ยุติธรรม สร้าง ความเชื่อมั่น เศรษฐกิจ # freefa...</td>\n      <td>สิทธิ # เลือก ตั้งล่วงหน้า</td>\n      <td>การปราศรัย พรรคเพื่อไทย ลาน คนเมือง</td>\n      <td>good monday รับมือ การเปลี่ยนแปลง</td>\n    </tr>\n    <tr>\n      <th>20</th>\n      <td>พรรคเพื่อไทย # เลือกตั้ง # เลือก</td>\n      <td>แม่ ตรวจ คน เป็นสมาชิก พรรค</td>\n      <td>เรียนเชิญ ทุกท่าน รับฟัง การปราศรัย 📢</td>\n      <td>เรียนเชิญ ทุกท่าน หัว ใจตรงกัน พบปะ</td>\n      <td>ห้วยขวาง กรุงเทพฯ จำนวน</td>\n      <td>หาเสียง ก่อปัญหา ​ ศุภ ชัย</td>\n      <td># thailand # pheuthai parti #</td>\n      <td>คนเมือง หน้า ศาลาว่าการกรุงเทพมหานคร #</td>\n      <td>good monday รับมือ การเปลี่ยนแปลง โลก</td>\n    </tr>\n    <tr>\n      <th>21</th>\n      <td># เพื่อไทย #</td>\n      <td># เลือกตั้ง เสียง ประชาชน คำตอบ</td>\n      <td>ทุกท่าน รับฟัง การปราศรัย 📢 พื้นที่</td>\n      <td>สิทธิ พันธุ์ ลงพื้นที่ พบปะ</td>\n      <td>เขต ห้วยขวาง กรุงเทพฯ</td>\n      <td>ไทย เศรษฐกิจ ดี</td>\n      <td>thailand # pheuthai parti #</td>\n      <td>การปราศรัย พรรคเพื่อไทย ลาน</td>\n      <td>good monday รับมือ การเปลี่ยนแปลง โลก ดร</td>\n    </tr>\n    <tr>\n      <th>22</th>\n      <td>ชัย เกษม นิติ สิริ</td>\n      <td>ประชาชน เดินหน้า สู้ ศึก #</td>\n      <td>ทุกท่าน รับฟัง การปราศรัย</td>\n      <td>สิทธิ พันธุ์ ลงพื้นที่ พบปะ ประชาชน</td>\n      <td>เขต ห้วยขวาง กรุงเทพฯ จำนวน</td>\n      <td>ทีม เพื่อไทย บริหาร มืออาชีพ</td>\n      <td>pheuthai parti #</td>\n      <td>ลาน คนเมือง หน้า ศาลาว่าการกรุงเทพมหานคร #</td>\n      <td>ผลิต คุณหญิง สุดารัตน์ เกยุราพันธุ์ จำนวน ชุด</td>\n    </tr>\n    <tr>\n      <th>23</th>\n      <td>เกษม นิติ สิริ</td>\n      <td>แจ้ง กกต ยกเลิก ผู้ช่วย หาเสียง</td>\n      <td>เวลา น # หัวใจ</td>\n      <td>เวลา น เรียนเชิญ ทุกท่าน หัว ใจตรงกัน</td>\n      <td>ตัด แขวง กะปิ</td>\n      <td>thailand # pheuthai</td>\n      <td># pheuthai parti #</td>\n      <td>หน้า ศาลาว่าการกรุงเทพมหานคร #</td>\n      <td>สุดารัตน์ เกยุราพันธุ์ จำนวน ชุด เวลา</td>\n    </tr>\n    <tr>\n      <th>24</th>\n      <td>ชัย เกษม นิติ</td>\n      <td>ศุภ ชัย ผู้สมัคร สส แจ้ง กกต</td>\n      <td>น # หัวใจ</td>\n      <td># พรรคเพื่อไทย ชัชชาติ สิทธิ พันธุ์ ลงพื้นที่</td>\n      <td>กรุงเทพฯ จำนวน ชุด เวลา</td>\n      <td>ผู้สมัคร สส แจ้ง</td>\n      <td># thaielection ralli</td>\n      <td>ศาลาว่าการกรุงเทพมหานคร ภาพ สงวน คุ้ม รุ่งโรจน์</td>\n      <td>สุดารัตน์ เกยุราพันธุ์ จำนวน ชุด</td>\n    </tr>\n    <tr>\n      <th>25</th>\n      <td># เลือกตั้ง # เลือก</td>\n      <td>ศุภ ชัย เสียใจ</td>\n      <td>น # หัวใจ ประชาชน</td>\n      <td>พรรคเพื่อไทย ชัชชาติ สิทธิ พันธุ์</td>\n      <td>เลขที่ ถ เพชรบุรี</td>\n      <td>ทหาร หน้าที่ ป้องกัน ประเทศ ทหาร เหมาะสม</td>\n      <td>คูหา บ้าน ท่าน #</td>\n      <td>สงวน คุ้ม รุ่งโรจน์</td>\n      <td>ผลิต คุณหญิง สุดารัตน์ เกยุราพันธุ์ จำนวน ชุด ...</td>\n    </tr>\n    <tr>\n      <th>26</th>\n      <td>เลือกตั้ง # เลือก</td>\n      <td>ศึก # เลือกตั้ง เสียง ประชาชน</td>\n      <td>เวลา น # หัวใจ ประชาชน</td>\n      <td>เวลา น เรียนเชิญ ทุกท่าน หัว</td>\n      <td>แขวง กะปิ เขต ห้วยขวาง กรุงเทพฯ</td>\n      <td># pm #</td>\n      <td>คูหา บ้าน ท่าน</td>\n      <td>ภาพ สงวน คุ้ม รุ่งโรจน์</td>\n      <td>ผลิต คุณหญิง สุดารัตน์ เกยุราพันธุ์ จำนวน</td>\n    </tr>\n    <tr>\n      <th>27</th>\n      <td># เลือกตั้ง # เลือกตั้ง #</td>\n      <td>สงบสุข เศรษฐกิจ ดี อนาคต หัวใจ</td>\n      <td>เวลา น #</td>\n      <td>หัว ใจตรงกัน พบปะ เวลา #</td>\n      <td>เขต ห้วยขวาง กรุงเทพฯ จำนวน ชุด</td>\n      <td># pheuthai parti</td>\n      <td>ex # pm #</td>\n      <td>ศาลาว่าการกรุงเทพมหานคร ภาพ สงวน</td>\n      <td>คุณหญิง สุดารัตน์ เกยุราพันธุ์ จำนวน</td>\n    </tr>\n    <tr>\n      <th>28</th>\n      <td># พรรคเพื่อไทย #</td>\n      <td>เศรษฐกิจ ดี อนาคต หัวใจ การเลือกตั้ง ประสบความ...</td>\n      <td># หัวใจ ประชาชน</td>\n      <td>หัว ใจตรงกัน พบปะ เวลา # หัวใจ</td>\n      <td>พรรคเพื่อไทย เลขที่ ถ เพชรบุรี ตัด แขวง</td>\n      <td>ศาลาว่าการกรุงเทพมหานคร ภาพ สงวน คุ้ม</td>\n      <td>บ้าน ท่าน #</td>\n      <td>ศาลาว่าการกรุงเทพมหานคร ภาพ สงวน คุ้ม</td>\n      <td>คุณหญิง สุดารัตน์ เกยุราพันธุ์ จำนวน ชุด</td>\n    </tr>\n    <tr>\n      <th>29</th>\n      <td>ดิฉัน ความถูกต้อง เสนอ</td>\n      <td>​ ศุภ ชัย</td>\n      <td>ศาลา ว่าการ กทม</td>\n      <td>เวลา น เรียนเชิญ</td>\n      <td>เพชรบุรี ตัด แขวง กะปิ</td>\n      <td>โลก ทั้งโลก ตลาด ขาย</td>\n      <td>pm # thaksin</td>\n      <td>ภาพ สงวน คุ้ม</td>\n      <td>คุณหญิง สุดารัตน์ เกยุราพันธุ์ จำนวน ชุด เวลา</td>\n    </tr>\n    <tr>\n      <th>30</th>\n      <td>เศรษฐกิจ งบ สร้าง</td>\n      <td>ดังนี้ ศุภ ชัย ผู้สมัคร สส</td>\n      <td>ปราศรัย พรรคเพื่อไทย ลาน คนเมือง</td>\n      <td>มีนาคม เวลา น เรียนเชิญ ทุกท่าน</td>\n      <td>เขต ห้วยขวาง กรุงเทพฯ จำนวน ชุด เวลา</td>\n      <td>สงบสุข เศรษฐกิจ ดี อนาคต หัวใจ</td>\n      <td># pm # thaksin</td>\n      <td>สร้าง ประเทศ ไทย</td>\n      <td># เลือกตั้ง #</td>\n    </tr>\n    <tr>\n      <th>31</th>\n      <td>ปัญหา เศรษฐกิจ งบ สร้าง อาชีพ คนรุ่นใหม่</td>\n      <td>ดี อนาคต หัวใจ การเลือกตั้ง ประสบความสำเร็จ กา...</td>\n      <td>ปราศรัย พรรคเพื่อไทย ลาน</td>\n      <td># พรรคเพื่อไทย ชัชชาติ สิทธิ พันธุ์</td>\n      <td>กะปิ เขต ห้วยขวาง กรุงเทพฯ จำนวน</td>\n      <td>แจ้ง กกต ยกเลิก</td>\n      <td># pheuthai parti # thaielection</td>\n      <td>เศรษฐกิจ ดี อนาคต</td>\n      <td>ลาน คนเมือง หน้า ศาลา ว่าการ</td>\n    </tr>\n    <tr>\n      <th>32</th>\n      <td>อาชีพ คนรุ่นใหม่ คลิก อ่าน ที่นี่</td>\n      <td>ประสบความสำเร็จ การเลือกตั้ง บริสุทธิ์</td>\n      <td># เพื่อไทย #</td>\n      <td>มีนาคม เวลา น เรียนเชิญ</td>\n      <td>พรรคเพื่อไทย เลขที่ ถ เพชรบุรี ตัด</td>\n      <td>ความทุกข์ พี่น้อง คนไทย ทุ่มเท ทำงาน</td>\n      <td>pheuthai parti # thaielection</td>\n      <td>สงบสุข เศรษฐกิจ ดี</td>\n      <td>หน้า ศาลา ว่าการ</td>\n    </tr>\n    <tr>\n      <th>33</th>\n      <td>เหมาะสม สถานการณ์ ประเทศ ประชาชน</td>\n      <td>ผู้ช่วย หาเสียง ก่อปัญหา ​ ศุภ</td>\n      <td>พรรคเพื่อไทย ลาน คนเมือง</td>\n      <td>น เรียนเชิญ ทุกท่าน หัว</td>\n      <td>ห้วยขวาง กรุงเทพฯ จำนวน ชุด</td>\n      <td># เพื่อไทย # เลือกตั้ง #</td>\n      <td>สลาก การออม แห่งชาติ</td>\n      <td>สงบสุข เศรษฐกิจ ดี อนาคต</td>\n      <td>คนเมือง หน้า ศาลา ว่าการ</td>\n    </tr>\n    <tr>\n      <th>34</th>\n      <td>เศรษฐกิจ งบ สร้าง อาชีพ คนรุ่นใหม่</td>\n      <td>ยุติธรรม สร้าง ความเชื่อมั่น</td>\n      <td>เรื่อง สบายใจ เสียใจ บุคคล ทำ</td>\n      <td>ชัชชาติ สิทธิ พันธุ์ ลงพื้นที่ พบปะ ประชาชน</td>\n      <td>เพชรบุรี ตัด แขวง กะปิ เขต</td>\n      <td>ถาม ตอบ อนาคต ประเทศ</td>\n      <td>thailand # pheuthai parti # thaielection</td>\n      <td>ปราศรัย พรรคเพื่อไทย ลาน คนเมือง หน้า</td>\n      <td>คนเมือง หน้า ศาลา</td>\n    </tr>\n    <tr>\n      <th>35</th>\n      <td>สถานการณ์ ประเทศ ประชาชน</td>\n      <td>ก่อปัญหา ​ ศุภ ชัย เสียใจ เรื่อง</td>\n      <td>ดำเนินการ เด็ดขาด แม่ คุย น้อง</td>\n      <td>พันธุ์ ลงพื้นที่ พบปะ</td>\n      <td>แขวง กะปิ เขต ห้วยขวาง</td>\n      <td># เลือกตั้ง # เลือกตั้ง</td>\n      <td># thaielection # bangkok</td>\n      <td>ปราศรัย พรรคเพื่อไทย ลาน คนเมือง หน้า ศาลาว่าก...</td>\n      <td>ลาน คนเมือง หน้า ศาลา</td>\n    </tr>\n    <tr>\n      <th>36</th>\n      <td>ปัญหา เศรษฐกิจ งบ</td>\n      <td>​ ศุภ ชัย เสียใจ เรื่อง เกิดขึ้น</td>\n      <td>เป็นสมาชิก พรรค ดำเนินการ เด็ดขาด แม่</td>\n      <td>ใจตรงกัน พบปะ เวลา # หัวใจ ประชาชน</td>\n      <td>ถ เพชรบุรี ตัด แขวง กะปิ เขต</td>\n      <td>เพื่อไทย ดังนี้ ศุภ ชัย ผู้สมัคร สส</td>\n      <td>parti # thaielection #</td>\n      <td>ปราศรัย พรรคเพื่อไทย ลาน คนเมือง</td>\n      <td># เลือกตั้ง # พรรคเพื่อไทย</td>\n    </tr>\n    <tr>\n      <th>37</th>\n      <td>เสนอ ลด งบ กระทรวงกลาโหม</td>\n      <td>เป็นสมาชิก พรรค การตาม ข้อบังคับ</td>\n      <td>พรรค ดำเนินการ เด็ดขาด</td>\n      <td>หัว ใจตรงกัน พบปะ เวลา</td>\n      <td>จำนวน ชุด เวลา</td>\n      <td>หน้า ศาลา ว่าการ</td>\n      <td># thaielection # bangkok ralli</td>\n      <td>ปราศรัย พรรคเพื่อไทย ลาน</td>\n      <td>เลือกตั้ง # พรรคเพื่อไทย #</td>\n    </tr>\n    <tr>\n      <th>38</th>\n      <td>สร้าง อาชีพ คนรุ่นใหม่ คลิก</td>\n      <td>เศรษฐกิจ # freefairelection</td>\n      <td>เป็นสมาชิก พรรค ดำเนินการ เด็ดขาด แม่ คุย</td>\n      <td>ใจตรงกัน พบปะ เวลา # หัวใจ</td>\n      <td>สุดารัตน์ เกยุราพันธุ์ พรรคเพื่อไทย เลขที่ ถ เ...</td>\n      <td># thailand #</td>\n      <td># thaielection #</td>\n      <td>เลือก เพื่อไทย ถล่มทลาย</td>\n      <td># เลือกตั้ง # พรรคเพื่อไทย #</td>\n    </tr>\n    <tr>\n      <th>39</th>\n      <td>ลด งบ กระทรวงกลาโหม ซื้อ อาวุธ เหมาะสม</td>\n      <td>สู้ ศึก # เลือกตั้ง เสียง ประชาชน</td>\n      <td>เสียใจ บุคคล ทำ พฤติกรรม</td>\n      <td>เรียนเชิญ ทุกท่าน หัว</td>\n      <td>สุดารัตน์ เกยุราพันธุ์ พรรคเพื่อไทย เลขที่</td>\n      <td>พื้นที่ # พรรคเพื่อไทย ค</td>\n      <td>parti # thaielection # bangkok ralli</td>\n      <td># ลุง คืน</td>\n      <td>เลือกตั้ง # พรรคเพื่อไทย</td>\n    </tr>\n    <tr>\n      <th>40</th>\n      <td>ประชาชน คน เดือดร้อน</td>\n      <td>ประชาชน คำตอบ การนำพา ประเทศ สงบสุข เศรษฐกิจ</td>\n      <td>น้องๆ ที่จะ สอบ นะคะ # savechiangra</td>\n      <td>น เรียนเชิญ ทุกท่าน</td>\n      <td>คุณหญิง สุดารัตน์ เกยุราพันธุ์ พรรคเพื่อไทย เล...</td>\n      <td>น เรียนเชิญ ทุกท่าน หัว ใจตรงกัน</td>\n      <td>parti # thaielection # bangkok</td>\n      <td>โลก ทั้งโลก ตลาด ขาย</td>\n      <td>เพื่อไทย # เลือกตั้ง #</td>\n    </tr>\n    <tr>\n      <th>41</th>\n      <td>งบ กระทรวงกลาโหม ซื้อ อาวุธ เหมาะสม สถานการณ์</td>\n      <td>การนำพา ประเทศ สงบสุข เศรษฐกิจ ดี อนาคต</td>\n      <td>ให้กำลังใจ ให้กำลังใจ น้องๆ</td>\n      <td>ทุกท่าน หัว ใจตรงกัน</td>\n      <td>คุณหญิง สุดารัตน์ เกยุราพันธุ์ พรรคเพื่อไทย</td>\n      <td>กะปิ เขต ห้วยขวาง กรุงเทพฯ จำนวน ชุด</td>\n      <td>thaielection # bangkok ralli</td>\n      <td>ทั้งโลก ตลาด ขาย สินค้า ไทย</td>\n      <td># เพื่อไทย # เลือกตั้ง</td>\n    </tr>\n    <tr>\n      <th>42</th>\n      <td>ซื้อ อาวุธ เหมาะสม สถานการณ์</td>\n      <td>จับมือ ประชาชน เดินหน้า สู้ ศึก #</td>\n      <td>เป็นสมาชิก พรรค ดำเนินการ เด็ดขาด</td>\n      <td>พบปะ เวลา # หัวใจ</td>\n      <td>ผลิต คุณหญิง สุดารัตน์ เกยุราพันธุ์ พรรคเพื่อไ...</td>\n      <td>ไทย สงบ ปล่อย บริหาร มืออาชีพ</td>\n      <td>thaielection # bangkok</td>\n      <td>ขาย สินค้า ไทย</td>\n      <td># เพื่อไทย # เลือกตั้ง #</td>\n    </tr>\n    <tr>\n      <th>43</th>\n      <td>เดือดร้อน ปัญหา เศรษฐกิจ งบ สร้าง</td>\n      <td>เป็นสมาชิก พรรค การตาม</td>\n      <td>ขอบคุณ รับทราบ เรื่อง สบายใจ เสียใจ บุคคล</td>\n      <td># พรรคเพื่อไทย ชัชชาติ</td>\n      <td>คุณหญิง สุดารัตน์ เกยุราพันธุ์ พรรคเพื่อไทย เล...</td>\n      <td>ผลิต ​ พรรคเพื่อไทย เลขที่ ถ เพชรบุรี</td>\n      <td># bangkok ralli</td>\n      <td>โลก ทั้งโลก ตลาด ขาย สินค้า ไทย</td>\n      <td>เพื่อไทย # เลือกตั้ง</td>\n    </tr>\n    <tr>\n      <th>44</th>\n      <td>ซื้อ อาวุธ เหมาะสม สถานการณ์ ประเทศ ประชาชน</td>\n      <td>ชัย เสียใจ เรื่อง เกิดขึ้น</td>\n      <td>สอบ นะคะ #</td>\n      <td>ชัชชาติ สิทธิ พันธุ์ ลงพื้นที่</td>\n      <td>คุณหญิง สุดารัตน์ เกยุราพันธุ์ พรรคเพื่อไทย เล...</td>\n      <td>งบ สร้าง อาชีพ คนรุ่นใหม่</td>\n      <td>เกษม นิติ สิริ</td>\n      <td>โลก ทั้งโลก ตลาด ขาย สินค้า</td>\n      <td>ลาน คนเมือง หน้า</td>\n    </tr>\n    <tr>\n      <th>45</th>\n      <td>กระทรวงกลาโหม ซื้อ อาวุธ</td>\n      <td>สร้าง ความเชื่อมั่น เศรษฐกิจ</td>\n      <td>เรื่อง สบายใจ เสียใจ บุคคล ทำ พฤติกรรม</td>\n      <td>ทุกท่าน หัว ใจตรงกัน พบปะ เวลา #</td>\n      <td>ผลิต คุณหญิง สุดารัตน์ เกยุราพันธุ์ พรรคเพื่อไ...</td>\n      <td>เพื่อไทย บริหาร มืออาชีพ แก้ไขปัญหา ความทุกข์ ...</td>\n      <td>ชัย เกษม นิติ สิริ</td>\n      <td>ตลาด ขาย สินค้า</td>\n      <td>ผลิต คุณหญิง สุดารัตน์ เกยุราพันธุ์</td>\n    </tr>\n    <tr>\n      <th>46</th>\n      <td>ประชาชน คน เดือดร้อน ปัญหา เศรษฐกิจ งบ</td>\n      <td>ชัย ผู้สมัคร สส แจ้ง กกต ยกเลิก</td>\n      <td>น้อง ให้กำลังใจ ให้กำลังใจ น้องๆ ที่จะ</td>\n      <td>ทุกท่าน หัว ใจตรงกัน พบปะ</td>\n      <td>สุดารัตน์ เกยุราพันธุ์ พรรคเพื่อไทย เลขที่ ถ เ...</td>\n      <td>เลือกตั้ง # เลือกตั้ง</td>\n      <td>ชัย เกษม นิติ</td>\n      <td># หัวใจ ประชาชน</td>\n      <td># เพื่อไทย #</td>\n    </tr>\n    <tr>\n      <th>47</th>\n      <td>งบ กระทรวงกลาโหม ซื้อ อาวุธ เหมาะสม</td>\n      <td># เพื่อไทย จับมือ ประชาชน เดินหน้า</td>\n      <td>สบายใจ เสียใจ บุคคล ทำ พฤติกรรม น่ารังเกียจ</td>\n      <td>มีนาคม เวลา น เรียนเชิญ ทุกท่าน หัว</td>\n      <td>สุดารัตน์ เกยุราพันธุ์ พรรคเพื่อไทย เลขที่ ถ</td>\n      <td>เศรษฐกิจ ดี ประเทศ</td>\n      <td>เลือก # พรรคเพื่อไทย #</td>\n      <td>ทั้งโลก ตลาด ขาย</td>\n      <td>จำนวน ชุด เวลา</td>\n    </tr>\n    <tr>\n      <th>48</th>\n      <td>คลิก อ่าน ที่นี่</td>\n      <td>พรรค การตาม ข้อบังคับ เด็ดขาด # savechiangrak</td>\n      <td>ให้กำลังใจ ให้กำลังใจ น้องๆ ที่จะ สอบ</td>\n      <td>มีนาคม เวลา น</td>\n      <td>ผลิต คุณหญิง สุดารัตน์ เกยุราพันธุ์ พรรคเพื่อไทย</td>\n      <td>ลุง คืน เงิน กระเป๋า</td>\n      <td>แก้ วิกฤติ เศรษฐกิจ</td>\n      <td>ทั้งโลก ตลาด ขาย สินค้า</td>\n      <td># พรรคเพื่อไทย #</td>\n    </tr>\n    <tr>\n      <th>49</th>\n      <td>ประเทศ ประชาชน คน เดือดร้อน ปัญหา เศรษฐกิจ</td>\n      <td>ศุภ ชัย ผู้สมัคร</td>\n      <td>เด็ดขาด แม่ คุย</td>\n      <td>น เรียนเชิญ ทุกท่าน หัว ใจตรงกัน</td>\n      <td>ผลิต คุณหญิง สุดารัตน์ เกยุราพันธุ์</td>\n      <td>สส แจ้ง กกต ยกเลิก ผู้ช่วย</td>\n      <td>เลือกตั้ง มีนาคม เลือก # พรรคเพื่อไทย</td>\n      <td>ตลาด ขาย สินค้า ไทย</td>\n      <td>ครั้งแรก รอบ ปี</td>\n    </tr>\n  </tbody>\n</table>\n</div>"
     },
     "metadata": {},
     "execution_count": 23
    }
   ],
   "source": [
    "tfidf_c = TfidfVectorizer( ngram_range=(3,6),\n",
    "                    max_df=0.99, min_df=2, max_features=n_features,analyzer='word',\n",
    "                    stop_words=thai_stopwords(),sublinear_tf=True,\n",
    "                    tokenizer=custom_tokenizer.word_tokenize)\n",
    "tfidf_fit_c = tfidf_c.fit_transform(pt['tweet']).toarray()\n",
    "feature_names_c = tfidf_c.get_feature_names()\n",
    "index_dict = dict(enumerate(feature_names_c))\n",
    "lda_c = LatentDirichletAllocation(batch_size=512, doc_topic_prior=None,\n",
    "            evaluate_every=10, learning_decay=0.7,\n",
    "            learning_method='online', learning_offset=80.0,\n",
    "            max_doc_update_iter=100, max_iter=100, mean_change_tol=0.001,\n",
    "            n_components=9, n_jobs=1, perp_tol=0.1,\n",
    "            random_state=0, topic_word_prior=None,\n",
    "            total_samples=n_samples, verbose=0)\n",
    "lda_c.fit(tfidf_fit_c)\n",
    "topic_dict = {}\n",
    "for topic_idx, topic in enumerate(lda_c.components_):\n",
    "    topic_dict[\"Topic %d words\" % (topic_idx)]= ['{}'.format(feature_names_c[i])\n",
    "                    for i in topic.argsort()[:-n_top_words - 1:-1]]\n",
    "pd.DataFrame(topic_dict)"
   ]
  },
  {
   "cell_type": "code",
   "execution_count": 24,
   "metadata": {},
   "outputs": [
    {
     "output_type": "execute_result",
     "data": {
      "text/plain": [
       "     # bangkok ralli  # pheuthai parti  # pheuthai parti #  \\\n",
       "0                0.0          0.000000                 0.0   \n",
       "1                0.0          0.000000                 0.0   \n",
       "2                0.0          0.313819                 0.0   \n",
       "3                0.0          0.000000                 0.0   \n",
       "4                0.0          0.000000                 0.0   \n",
       "..               ...               ...                 ...   \n",
       "170              0.0          0.000000                 0.0   \n",
       "171              0.0          0.000000                 0.0   \n",
       "172              0.0          0.000000                 0.0   \n",
       "173              0.0          0.000000                 0.0   \n",
       "174              0.0          0.000000                 0.0   \n",
       "\n",
       "     # pheuthai parti # thaielection    # pm #  # pm # prayut  # pm # thaksin  \\\n",
       "0                                0.0  0.000000       0.000000             0.0   \n",
       "1                                0.0  0.000000       0.000000             0.0   \n",
       "2                                0.0  0.313819       0.355390             0.0   \n",
       "3                                0.0  0.405561       0.459284             0.0   \n",
       "4                                0.0  0.337031       0.381676             0.0   \n",
       "..                               ...       ...            ...             ...   \n",
       "170                              0.0  0.000000       0.000000             0.0   \n",
       "171                              0.0  0.000000       0.000000             0.0   \n",
       "172                              0.0  0.000000       0.000000             0.0   \n",
       "173                              0.0  0.000000       0.000000             0.0   \n",
       "174                              0.0  0.000000       0.000000             0.0   \n",
       "\n",
       "     # thaielection #  # thaielection # bangkok  \\\n",
       "0                 0.0                       0.0   \n",
       "1                 0.0                       0.0   \n",
       "2                 0.0                       0.0   \n",
       "3                 0.0                       0.0   \n",
       "4                 0.0                       0.0   \n",
       "..                ...                       ...   \n",
       "170               0.0                       0.0   \n",
       "171               0.0                       0.0   \n",
       "172               0.0                       0.0   \n",
       "173               0.0                       0.0   \n",
       "174               0.0                       0.0   \n",
       "\n",
       "     # thaielection # bangkok ralli  ...  ​ พรรคเพื่อไทย เลขที่ ถ เพชรบุรี  \\\n",
       "0                               0.0  ...                               0.0   \n",
       "1                               0.0  ...                               0.0   \n",
       "2                               0.0  ...                               0.0   \n",
       "3                               0.0  ...                               0.0   \n",
       "4                               0.0  ...                               0.0   \n",
       "..                              ...  ...                               ...   \n",
       "170                             0.0  ...                               0.0   \n",
       "171                             0.0  ...                               0.0   \n",
       "172                             0.0  ...                               0.0   \n",
       "173                             0.0  ...                               0.0   \n",
       "174                             0.0  ...                               0.0   \n",
       "\n",
       "     ​ พรรคเพื่อไทย เลขที่ ถ เพชรบุรี ตัด  ​ ศุภ ชัย  ​ ศุภ ชัย เสียใจ  \\\n",
       "0                                     0.0        0.0               0.0   \n",
       "1                                     0.0        0.0               0.0   \n",
       "2                                     0.0        0.0               0.0   \n",
       "3                                     0.0        0.0               0.0   \n",
       "4                                     0.0        0.0               0.0   \n",
       "..                                    ...        ...               ...   \n",
       "170                                   0.0        0.0               0.0   \n",
       "171                                   0.0        0.0               0.0   \n",
       "172                                   0.0        0.0               0.0   \n",
       "173                                   0.0        0.0               0.0   \n",
       "174                                   0.0        0.0               0.0   \n",
       "\n",
       "     ​ ศุภ ชัย เสียใจ เรื่อง  ​ ศุภ ชัย เสียใจ เรื่อง เกิดขึ้น  ​ ​ #  \\\n",
       "0                        0.0                               0.0    0.0   \n",
       "1                        0.0                               0.0    0.0   \n",
       "2                        0.0                               0.0    0.0   \n",
       "3                        0.0                               0.0    0.0   \n",
       "4                        0.0                               0.0    0.0   \n",
       "..                       ...                               ...    ...   \n",
       "170                      0.0                               0.0    0.0   \n",
       "171                      0.0                               0.0    0.0   \n",
       "172                      0.0                               0.0    0.0   \n",
       "173                      0.0                               0.0    0.0   \n",
       "174                      0.0                               0.0    0.0   \n",
       "\n",
       "     📢 พื้นที่ #  📢 พื้นที่ # พรรคเพื่อไทย  📢 พื้นที่ # พรรคเพื่อไทย ค  \n",
       "0            0.0                       0.0                         0.0  \n",
       "1            0.0                       0.0                         0.0  \n",
       "2            0.0                       0.0                         0.0  \n",
       "3            0.0                       0.0                         0.0  \n",
       "4            0.0                       0.0                         0.0  \n",
       "..           ...                       ...                         ...  \n",
       "170          0.0                       0.0                         0.0  \n",
       "171          0.0                       0.0                         0.0  \n",
       "172          0.0                       0.0                         0.0  \n",
       "173          0.0                       0.0                         0.0  \n",
       "174          0.0                       0.0                         0.0  \n",
       "\n",
       "[175 rows x 989 columns]"
      ],
      "text/html": "<div>\n<style scoped>\n    .dataframe tbody tr th:only-of-type {\n        vertical-align: middle;\n    }\n\n    .dataframe tbody tr th {\n        vertical-align: top;\n    }\n\n    .dataframe thead th {\n        text-align: right;\n    }\n</style>\n<table border=\"1\" class=\"dataframe\">\n  <thead>\n    <tr style=\"text-align: right;\">\n      <th></th>\n      <th># bangkok ralli</th>\n      <th># pheuthai parti</th>\n      <th># pheuthai parti #</th>\n      <th># pheuthai parti # thaielection</th>\n      <th># pm #</th>\n      <th># pm # prayut</th>\n      <th># pm # thaksin</th>\n      <th># thaielection #</th>\n      <th># thaielection # bangkok</th>\n      <th># thaielection # bangkok ralli</th>\n      <th>...</th>\n      <th>​ พรรคเพื่อไทย เลขที่ ถ เพชรบุรี</th>\n      <th>​ พรรคเพื่อไทย เลขที่ ถ เพชรบุรี ตัด</th>\n      <th>​ ศุภ ชัย</th>\n      <th>​ ศุภ ชัย เสียใจ</th>\n      <th>​ ศุภ ชัย เสียใจ เรื่อง</th>\n      <th>​ ศุภ ชัย เสียใจ เรื่อง เกิดขึ้น</th>\n      <th>​ ​ #</th>\n      <th>📢 พื้นที่ #</th>\n      <th>📢 พื้นที่ # พรรคเพื่อไทย</th>\n      <th>📢 พื้นที่ # พรรคเพื่อไทย ค</th>\n    </tr>\n  </thead>\n  <tbody>\n    <tr>\n      <th>0</th>\n      <td>0.0</td>\n      <td>0.000000</td>\n      <td>0.0</td>\n      <td>0.0</td>\n      <td>0.000000</td>\n      <td>0.000000</td>\n      <td>0.0</td>\n      <td>0.0</td>\n      <td>0.0</td>\n      <td>0.0</td>\n      <td>...</td>\n      <td>0.0</td>\n      <td>0.0</td>\n      <td>0.0</td>\n      <td>0.0</td>\n      <td>0.0</td>\n      <td>0.0</td>\n      <td>0.0</td>\n      <td>0.0</td>\n      <td>0.0</td>\n      <td>0.0</td>\n    </tr>\n    <tr>\n      <th>1</th>\n      <td>0.0</td>\n      <td>0.000000</td>\n      <td>0.0</td>\n      <td>0.0</td>\n      <td>0.000000</td>\n      <td>0.000000</td>\n      <td>0.0</td>\n      <td>0.0</td>\n      <td>0.0</td>\n      <td>0.0</td>\n      <td>...</td>\n      <td>0.0</td>\n      <td>0.0</td>\n      <td>0.0</td>\n      <td>0.0</td>\n      <td>0.0</td>\n      <td>0.0</td>\n      <td>0.0</td>\n      <td>0.0</td>\n      <td>0.0</td>\n      <td>0.0</td>\n    </tr>\n    <tr>\n      <th>2</th>\n      <td>0.0</td>\n      <td>0.313819</td>\n      <td>0.0</td>\n      <td>0.0</td>\n      <td>0.313819</td>\n      <td>0.355390</td>\n      <td>0.0</td>\n      <td>0.0</td>\n      <td>0.0</td>\n      <td>0.0</td>\n      <td>...</td>\n      <td>0.0</td>\n      <td>0.0</td>\n      <td>0.0</td>\n      <td>0.0</td>\n      <td>0.0</td>\n      <td>0.0</td>\n      <td>0.0</td>\n      <td>0.0</td>\n      <td>0.0</td>\n      <td>0.0</td>\n    </tr>\n    <tr>\n      <th>3</th>\n      <td>0.0</td>\n      <td>0.000000</td>\n      <td>0.0</td>\n      <td>0.0</td>\n      <td>0.405561</td>\n      <td>0.459284</td>\n      <td>0.0</td>\n      <td>0.0</td>\n      <td>0.0</td>\n      <td>0.0</td>\n      <td>...</td>\n      <td>0.0</td>\n      <td>0.0</td>\n      <td>0.0</td>\n      <td>0.0</td>\n      <td>0.0</td>\n      <td>0.0</td>\n      <td>0.0</td>\n      <td>0.0</td>\n      <td>0.0</td>\n      <td>0.0</td>\n    </tr>\n    <tr>\n      <th>4</th>\n      <td>0.0</td>\n      <td>0.000000</td>\n      <td>0.0</td>\n      <td>0.0</td>\n      <td>0.337031</td>\n      <td>0.381676</td>\n      <td>0.0</td>\n      <td>0.0</td>\n      <td>0.0</td>\n      <td>0.0</td>\n      <td>...</td>\n      <td>0.0</td>\n      <td>0.0</td>\n      <td>0.0</td>\n      <td>0.0</td>\n      <td>0.0</td>\n      <td>0.0</td>\n      <td>0.0</td>\n      <td>0.0</td>\n      <td>0.0</td>\n      <td>0.0</td>\n    </tr>\n    <tr>\n      <th>...</th>\n      <td>...</td>\n      <td>...</td>\n      <td>...</td>\n      <td>...</td>\n      <td>...</td>\n      <td>...</td>\n      <td>...</td>\n      <td>...</td>\n      <td>...</td>\n      <td>...</td>\n      <td>...</td>\n      <td>...</td>\n      <td>...</td>\n      <td>...</td>\n      <td>...</td>\n      <td>...</td>\n      <td>...</td>\n      <td>...</td>\n      <td>...</td>\n      <td>...</td>\n      <td>...</td>\n    </tr>\n    <tr>\n      <th>170</th>\n      <td>0.0</td>\n      <td>0.000000</td>\n      <td>0.0</td>\n      <td>0.0</td>\n      <td>0.000000</td>\n      <td>0.000000</td>\n      <td>0.0</td>\n      <td>0.0</td>\n      <td>0.0</td>\n      <td>0.0</td>\n      <td>...</td>\n      <td>0.0</td>\n      <td>0.0</td>\n      <td>0.0</td>\n      <td>0.0</td>\n      <td>0.0</td>\n      <td>0.0</td>\n      <td>0.0</td>\n      <td>0.0</td>\n      <td>0.0</td>\n      <td>0.0</td>\n    </tr>\n    <tr>\n      <th>171</th>\n      <td>0.0</td>\n      <td>0.000000</td>\n      <td>0.0</td>\n      <td>0.0</td>\n      <td>0.000000</td>\n      <td>0.000000</td>\n      <td>0.0</td>\n      <td>0.0</td>\n      <td>0.0</td>\n      <td>0.0</td>\n      <td>...</td>\n      <td>0.0</td>\n      <td>0.0</td>\n      <td>0.0</td>\n      <td>0.0</td>\n      <td>0.0</td>\n      <td>0.0</td>\n      <td>0.0</td>\n      <td>0.0</td>\n      <td>0.0</td>\n      <td>0.0</td>\n    </tr>\n    <tr>\n      <th>172</th>\n      <td>0.0</td>\n      <td>0.000000</td>\n      <td>0.0</td>\n      <td>0.0</td>\n      <td>0.000000</td>\n      <td>0.000000</td>\n      <td>0.0</td>\n      <td>0.0</td>\n      <td>0.0</td>\n      <td>0.0</td>\n      <td>...</td>\n      <td>0.0</td>\n      <td>0.0</td>\n      <td>0.0</td>\n      <td>0.0</td>\n      <td>0.0</td>\n      <td>0.0</td>\n      <td>0.0</td>\n      <td>0.0</td>\n      <td>0.0</td>\n      <td>0.0</td>\n    </tr>\n    <tr>\n      <th>173</th>\n      <td>0.0</td>\n      <td>0.000000</td>\n      <td>0.0</td>\n      <td>0.0</td>\n      <td>0.000000</td>\n      <td>0.000000</td>\n      <td>0.0</td>\n      <td>0.0</td>\n      <td>0.0</td>\n      <td>0.0</td>\n      <td>...</td>\n      <td>0.0</td>\n      <td>0.0</td>\n      <td>0.0</td>\n      <td>0.0</td>\n      <td>0.0</td>\n      <td>0.0</td>\n      <td>0.0</td>\n      <td>0.0</td>\n      <td>0.0</td>\n      <td>0.0</td>\n    </tr>\n    <tr>\n      <th>174</th>\n      <td>0.0</td>\n      <td>0.000000</td>\n      <td>0.0</td>\n      <td>0.0</td>\n      <td>0.000000</td>\n      <td>0.000000</td>\n      <td>0.0</td>\n      <td>0.0</td>\n      <td>0.0</td>\n      <td>0.0</td>\n      <td>...</td>\n      <td>0.0</td>\n      <td>0.0</td>\n      <td>0.0</td>\n      <td>0.0</td>\n      <td>0.0</td>\n      <td>0.0</td>\n      <td>0.0</td>\n      <td>0.0</td>\n      <td>0.0</td>\n      <td>0.0</td>\n    </tr>\n  </tbody>\n</table>\n<p>175 rows × 989 columns</p>\n</div>"
     },
     "metadata": {},
     "execution_count": 24
    }
   ],
   "source": [
    "X_ = pd.DataFrame(tfidf_fit_c, columns = tfidf_c.get_feature_names())\n",
    "X_"
   ]
  },
  {
   "cell_type": "code",
   "execution_count": 35,
   "metadata": {},
   "outputs": [
    {
     "output_type": "execute_result",
     "data": {
      "text/plain": [
       "190     ขอยุติการหาเสียงเลือกตั้งทางอิเล็กทรอนิกส์ทุกช...\n",
       "191     ขอขอบพระคุณทุกท่านที่มาร่วมฟังปราศรัยใหญ่ของ ใ...\n",
       "192                                                      \n",
       "193      parti speaker tell support oust chang new gov...\n",
       "194      say way win go vote say giventhrown away much...\n",
       "                              ...                        \n",
       "1374    ผู้นำไม่เพียงแต่ต้องตัดสินใจเฉียบขาดแบบมีวิสัย...\n",
       "1375    good monday ep คู่แข่งคือคู่ค้า ในโลกยุคใหม่ ม...\n",
       "1376    chin keep move forward learn past experi live ...\n",
       "1377    good monday รับมือกับการเปลี่ยนแปลงของโลกกับ ด...\n",
       "1378    good monday รับมือกับการเปลี่ยนแปลงของโลกกับดร...\n",
       "Name: tweet, Length: 181, dtype: object"
      ]
     },
     "metadata": {},
     "execution_count": 35
    }
   ],
   "source": [
    "pt['tweet']"
   ]
  },
  {
   "cell_type": "code",
   "execution_count": 38,
   "metadata": {},
   "outputs": [],
   "source": [
    "z = tfidf_c.transform([df['tweet'][192]])\n",
    "l = lda_c.transform(z).flatten().tolist()"
   ]
  },
  {
   "cell_type": "code",
   "execution_count": 39,
   "metadata": {},
   "outputs": [
    {
     "output_type": "execute_result",
     "data": {
      "text/plain": [
       "[0.2, 0.2, 0.2, 0.2, 0.2]"
      ]
     },
     "metadata": {},
     "execution_count": 39
    }
   ],
   "source": [
    "l"
   ]
  },
  {
   "cell_type": "code",
   "execution_count": 10,
   "metadata": {},
   "outputs": [],
   "source": [
    "#from above\n",
    "n_components = 9"
   ]
  },
  {
   "cell_type": "code",
   "execution_count": 11,
   "metadata": {},
   "outputs": [],
   "source": [
    "def display_topics(data, colname): \n",
    "    tfidf = TfidfVectorizer( ngram_range=(1,2),\n",
    "                        max_df=0.95, min_df=1, max_features=n_features,analyzer='word',\n",
    "                        stop_words=tuple(thai_stopwords()),sublinear_tf=True,\n",
    "                        token_pattern='\\\\b[ก-๙A-Za-z]{6}[ก-๙A-Za-z]+\\\\b | #[ก-๙A-Za-z0-9_]+')\n",
    "    tfidf_fit = tfidf.fit_transform(data[colname]).toarray()\n",
    "    feature_names = tfidf.get_feature_names()\n",
    "    index_dict = dict(enumerate(feature_names))\n",
    "    lda = LatentDirichletAllocation(batch_size=512, doc_topic_prior=None,\n",
    "             evaluate_every=10, learning_decay=0.7,\n",
    "             learning_method='online', learning_offset=80.0,\n",
    "             max_doc_update_iter=100, max_iter=100, mean_change_tol=0.001,\n",
    "             n_components=n_components, n_jobs=1, perp_tol=0.1,\n",
    "             random_state=0, topic_word_prior=None,\n",
    "             total_samples=n_samples, verbose=0)\n",
    "    lda.fit(tfidf_fit)\n",
    "    topic_dict = {}\n",
    "    for topic_idx, topic in enumerate(lda.components_):\n",
    "        topic_dict[\"Topic %d words\" % (topic_idx)]= ['{}'.format(feature_names[i])\n",
    "                        for i in topic.argsort()[:-n_top_words - 1:-1]]\n",
    "    return pd.DataFrame(topic_dict)"
   ]
  },
  {
   "cell_type": "code",
   "execution_count": 12,
   "metadata": {},
   "outputs": [
    {
     "data": {
      "text/plain": "'party:act'"
     },
     "metadata": {
      "transient": {}
     },
     "output_type": "display_data"
    },
    {
     "data": {
      "text/html": "<div>\n<style scoped>\n    .dataframe tbody tr th:only-of-type {\n        vertical-align: middle;\n    }\n\n    .dataframe tbody tr th {\n        vertical-align: top;\n    }\n\n    .dataframe thead th {\n        text-align: right;\n    }\n</style>\n<table border=\"1\" class=\"dataframe\">\n  <thead>\n    <tr style=\"text-align: right;\">\n      <th></th>\n      <th>Topic 0 words</th>\n      <th>Topic 1 words</th>\n      <th>Topic 2 words</th>\n      <th>Topic 3 words</th>\n      <th>Topic 4 words</th>\n      <th>Topic 5 words</th>\n    </tr>\n  </thead>\n  <tbody>\n    <tr>\n      <th>0</th>\n      <td>อำนาจเจริญแห่สมัครสมาชิก</td>\n      <td>ปีเปลี่ยนไปเกิดพรรคการเมืองของประชาชนที่แท้จริง</td>\n      <td>หลักฐานอะไรบ้าง</td>\n      <td>หนุนพรรคการเมืองของประชาชนเกิดบนเวทีการเมืองไทย</td>\n      <td>คลิกอ่าน</td>\n      <td>เก็บตกบรรยากาศ</td>\n    </tr>\n    <tr>\n      <th>1</th>\n      <td>พ่อค้าแม่ขายต้อนรับลุงกำนันและผู้สมัครหน้าใหม่...</td>\n      <td>ถึงเมืองน้ำดำ</td>\n      <td>เปิดตัวนักเคลื่อนไหวภาคปชช  หวังปักธงจังหวัดเลย</td>\n      <td>ต้อนรับลุงกำนันและทีมงานคึกคัก  หนุนพรรคการเมื...</td>\n      <td>ด้วยการอุดหนุนภาษีไม่เกิน</td>\n      <td>เก็บตกบรรยากาศ  อำนาจเจริญ</td>\n    </tr>\n    <tr>\n      <th>2</th>\n      <td>กำนันสุเทพ  อำนาจเจริญแห่สมัครสมาชิก</td>\n      <td>ถึงเมืองน้ำดำ  ลุงกำนันและว่าที่ผุ้สมัครเดินหา...</td>\n      <td>ต้องเตรียมเงินคนละกี่บาท  หลักฐานอะไรบ้าง</td>\n      <td>อุทัยธานีแล้ว</td>\n      <td>ขอเชิญชวนพี่น้องประชาชนร่วมสร้างพรรคการเมืองขอ...</td>\n      <td>นครสวรรค์แล้ว</td>\n    </tr>\n    <tr>\n      <th>3</th>\n      <td>ยโสธรแล้ว</td>\n      <td>ชาวเมืองน้ำดำ  กาฬสินธุ์ต้อนรับคาราวานคารวะแผ่...</td>\n      <td>หวังปักธงจังหวัดเลย</td>\n      <td>ต้อนรับลุงกำนันและทีมงานคึกคัก</td>\n      <td>ปลุกคนธรรมดาพลิกโฉมการเมืองไทย</td>\n      <td>นครสวรรค์แล้ว  หาสมาขิกและแนะนำพรรคการเมืองของ...</td>\n    </tr>\n    <tr>\n      <th>4</th>\n      <td>กรี๊ดลั่นตลาดรับ</td>\n      <td>ลุงกำนันและว่าที่ผุ้สมัครเดินหาสมาขิกและแนะนำพ...</td>\n      <td>เปิดตัวนักเคลื่อนไหวภาคปชช</td>\n      <td>อุทัยธานีแล้ว  ต้อนรับลุงกำนันและทีมงานคึกคัก</td>\n      <td>ขอเชิญชวนพี่น้องประชาชนร่วมสร้างพรรคการเมืองขอ...</td>\n      <td>หาสมาขิกและแนะนำพรรคการเมืองของประชาชนที่แท้จริง</td>\n    </tr>\n    <tr>\n      <th>5</th>\n      <td>กำนันสุเทพ</td>\n      <td>ชาวเมืองน้ำดำ</td>\n      <td>ต้องเตรียมเงินคนละกี่บาท</td>\n      <td>สุราษฎร์ธานีจัดประชุมเพื่อตั้งสาขาพรรค  เลือกก...</td>\n      <td>ปลุกคนธรรมดาพลิกโฉมการเมืองไทย  คลิกอ่าน</td>\n      <td>อำนาจเจริญ</td>\n    </tr>\n    <tr>\n      <th>6</th>\n      <td>กรี๊ดลั่นตลาดรับ  กำนันสุเทพ</td>\n      <td>กาฬสินธุ์ต้อนรับคาราวานคารวะแผ่นดินอย่างอบอุ่น</td>\n      <td>หาสมาชิกและแนะนำพรรคของประชาชน</td>\n      <td>เลือกกรรมการสาขา</td>\n      <td>สาขาพรรคเขต  มาต้อนรับ</td>\n      <td>ชาวบ้านพ่อค้าแม่ขาย</td>\n    </tr>\n    <tr>\n      <th>7</th>\n      <td>มหาสารคามแล้ว</td>\n      <td>สมาชิกรปช  โวยสื่อดังบิดเบือน</td>\n      <td>เพชรบูรณ์แล้ว  ถึงเพชรบูรณ์แล้ว</td>\n      <td>เขตเลือกตั้ง</td>\n      <td>ร้อยเอ็ดแล้ว</td>\n      <td>นำว่าที่ผู้สมัคร  พรรครปช</td>\n    </tr>\n    <tr>\n      <th>8</th>\n      <td>ชาวบ้านแห่ต้อนรับและให้กำลังใจทีมงาน</td>\n      <td>หาทิ้งพรรค</td>\n      <td>ถึงเพชรบูรณ์แล้ว</td>\n      <td>และทำไพรมารีโหวตด้วย</td>\n      <td>วันนี้เดินพบชาวร้อยเอ็ดทั้งวัน</td>\n      <td>พรรครปช</td>\n    </tr>\n    <tr>\n      <th>9</th>\n      <td>เขตคึกคัก</td>\n      <td>โวยสื่อดังบิดเบือน</td>\n      <td>ถึงเพชรบูรณ์แล้ว  หาสมาชิกและแนะนำพรรคของประชาชน</td>\n      <td>เข้าเป้า</td>\n      <td>มาฝั่งอีสาน  วันนี้เดินพบชาวร้อยเอ็ดทั้งวัน</td>\n      <td>พบประชาชน</td>\n    </tr>\n    <tr>\n      <th>10</th>\n      <td>ยโสธรแล้ว  พ่อค้าแม่ขายต้อนรับลุงกำนันและผู้สม...</td>\n      <td>แกนนำซบ</td>\n      <td>เพชรบูรณ์แล้ว</td>\n      <td>และทำไพรมารีโหวตด้วย  โดยที่ประชุมเห็นชอบให้นา...</td>\n      <td>มาต้อนรับ</td>\n      <td>ต้อนรับลุงกำนันและทีมงานอย่างอบอุ่น</td>\n    </tr>\n    <tr>\n      <th>11</th>\n      <td>ชาวบ้านแห่ต้อนรับและให้กำลังใจทีมงาน  พร้อมฝาก...</td>\n      <td>โวยสื่อดังบิดเบือน  หาทิ้งพรรค</td>\n      <td>กำลังใจล้นหลาม</td>\n      <td>เขตเลือกตั้ง  เป็นจังหวัดแรก</td>\n      <td>หาสมาชิกและแนะนำพรรค</td>\n      <td>ชัยนาทแล้ว</td>\n    </tr>\n    <tr>\n      <th>12</th>\n      <td>พร้อมฝากปัญหาและข้อเสนอทางนโยบายต่อพรรคจำนวนมาก</td>\n      <td>แกนนำซบ  ธรรมนัส</td>\n      <td>กำลังใจล้นหลาม  ยโสธรต้อนรับ</td>\n      <td>ตั้งสาขาครบทั้ง</td>\n      <td>หัวหน้าพรรคและ  กรรมการบริหารพรรคไปร่วมพิธีเปิด</td>\n      <td>นำว่าที่ผู้สมัคร</td>\n    </tr>\n    <tr>\n      <th>13</th>\n      <td>มหาสารคามแล้ว  ชาวบ้านแห่ต้อนรับและให้กำลังใจท...</td>\n      <td>ธรรมนัส</td>\n      <td>ว่าที่หู้สมัคร</td>\n      <td>สุราษฎร์ธานีจัดประชุมเพื่อตั้งสาขาพรรค</td>\n      <td>มาฝั่งอีสาน</td>\n      <td>ชัยนาทแล้ว  ชาวบ้านพ่อค้าแม่ขาย</td>\n    </tr>\n    <tr>\n      <th>14</th>\n      <td>พ่อค้าแม่ขายต้อนรับลุงกำนันและผู้สมัครหน้าใหม่...</td>\n      <td>หาทิ้งพรรค  แกนนำซบ</td>\n      <td>โตะตาหยง</td>\n      <td>เข้าเป้า  ตั้งสาขาครบทั้ง</td>\n      <td>กรรมการบริหารพรรคไปร่วมพิธีเปิด</td>\n      <td>พรรครปช  พบประชาชน</td>\n    </tr>\n    <tr>\n      <th>15</th>\n      <td>และอาจมีใบเหลือง  ใบแดงมากที่สุด</td>\n      <td>สมาชิกรปช</td>\n      <td>เจ๊ะอีลย๊าส</td>\n      <td>เป็นจังหวัดแรก  วันนี้สมาชิกพรรคในเขต</td>\n      <td>หัวหน้าพรรคและ</td>\n      <td>ชาวบ้านพ่อค้าแม่ขาย  ต้อนรับลุงกำนันและทีมงานอ...</td>\n    </tr>\n    <tr>\n      <th>16</th>\n      <td>เลือกตั้งครั้งนี้เงื่อนไขการสมัคร  และข้อห้ามก...</td>\n      <td>สุราษฎร์ฯ  เข้าเป้า</td>\n      <td>เดินคารวะแผ่นดิน</td>\n      <td>ลงสมัครรับเลือกตั้งในเขต</td>\n      <td>กรรมการบริหารพรรคไปร่วมพิธีเปิด  สาขาพรรคเขต</td>\n      <td>หลายคนไหวตัวทันรีบไปเก็บป้ายหาเสียงเมื่อคืนที่...</td>\n    </tr>\n    <tr>\n      <th>17</th>\n      <td>ประมวลภาพพรรค</td>\n      <td>ลงสมัครรับเลือกตั้งในเขต</td>\n      <td>ยโสธรต้อนรับ</td>\n      <td>วันนี้สมาชิกพรรคในเขต</td>\n      <td>ข้ามฝั่งจากภาคเหนือตอนล่าง  มาฝั่งอีสาน</td>\n      <td>บรรดาผู้สมัคร  หลายคนไหวตัวทันรีบไปเก็บป้ายหาเ...</td>\n    </tr>\n    <tr>\n      <th>18</th>\n      <td>workshop</td>\n      <td>หาสมาชิกและแนะนำพรรคของประชาชน</td>\n      <td>นำผู้สมัครส</td>\n      <td>โดยที่ประชุมเห็นชอบให้นางสาวภัสสร  ลงสมัครรับเ...</td>\n      <td>ข้ามฝั่งจากภาคเหนือตอนล่าง</td>\n      <td>หลายคนไหวตัวทันรีบไปเก็บป้ายหาเสียงเมื่อคืนที่...</td>\n    </tr>\n    <tr>\n      <th>19</th>\n      <td>และข้อห้ามการหาเสียงมีรายละเอียดมากกว่าทุกๆครั้ง</td>\n      <td>ปลุกคนธรรมดาพลิกโฉมการเมืองไทย</td>\n      <td>เจ๊ะอีลย๊าส  โตะตาหยง</td>\n      <td>สุราษฎร์ฯ</td>\n      <td>วันนี้เดินพบชาวร้อยเอ็ดทั้งวัน  หาสมาชิกและแนะ...</td>\n      <td>จะไม่มีให้เห็นอีกแล้วติดตั้งตามเสาไฟฟ้า</td>\n    </tr>\n    <tr>\n      <th>20</th>\n      <td>จะทำให้การเลือกตั้งครั้งนี้มีการร้องเรียนกันมา...</td>\n      <td>พบประชาชน</td>\n      <td>ยโสธรต้อนรับ  นำผู้สมัครส</td>\n      <td>เป็นจังหวัดแรก</td>\n      <td>ร้อยเอ็ดแล้ว  ข้ามฝั่งจากภาคเหนือตอนล่าง</td>\n      <td>บรรดาผู้สมัคร</td>\n    </tr>\n    <tr>\n      <th>21</th>\n      <td>จะทำให้การเลือกตั้งครั้งนี้มีการร้องเรียนกันมา...</td>\n      <td>เจ๊ะอีลย๊าส</td>\n      <td>นำผู้สมัครส  เดินคารวะแผ่นดิน</td>\n      <td>โดยที่ประชุมเห็นชอบให้นางสาวภัสสร</td>\n      <td>มาต้อนรับ  ช่วงบ่ายออกเดินพบปะพี่น้องประชาชนเม...</td>\n      <td>กฎหมายเลือกตั้งรอบนี้เข้มงวดเรื่องป้ายหาเสียง ...</td>\n    </tr>\n    <tr>\n      <th>22</th>\n      <td>ประมวลภาพพรรค  workshop</td>\n      <td>นราธิวาส</td>\n      <td>ว่าที่หู้สมัคร  นราธิวาส</td>\n      <td>สุราษฎร์ฯ  เข้าเป้า</td>\n      <td>สาขาพรรคเขต</td>\n      <td>กฎหมายเลือกตั้งรอบนี้เข้มงวดเรื่องป้ายหาเสียง</td>\n    </tr>\n    <tr>\n      <th>23</th>\n      <td>workshop  ติวเข้มการปราศรัย</td>\n      <td>วันนี้สมาชิกพรรคในเขต  สุราษฎร์ธานีจัดประชุมเพ...</td>\n      <td>โตะตาหยง  ว่าที่หู้สมัคร</td>\n      <td>วันนี้สมาชิกพรรคในเขต  สุราษฎร์ธานีจัดประชุมเพ...</td>\n      <td>ช่วงบ่ายออกเดินพบปะพี่น้องประชาชนเมืองลำปาง</td>\n      <td>งานเข้า  บรรดาผู้สมัคร</td>\n    </tr>\n    <tr>\n      <th>24</th>\n      <td>ติวเข้มการปราศรัย  เพื่อให้ว่าที่ผู้สมัครนำไปถ...</td>\n      <td>ว่าที่หู้สมัคร</td>\n      <td>นราธิวาส</td>\n      <td>ตั้งสาขาครบทั้ง  เขตเลือกตั้ง</td>\n      <td>พรรครวมพลังประชาชาติไทย  เน้นพูดนโยบายไม่พาดพิ...</td>\n      <td>งานเข้า</td>\n    </tr>\n    <tr>\n      <th>25</th>\n      <td>ติวเข้มการปราศรัย</td>\n      <td>สุราษฎร์ฯ</td>\n      <td>ชาวอำนาจฯ</td>\n      <td>เลือกกรรมการสาขา  และทำไพรมารีโหวตด้วย</td>\n      <td>ย้ำผู้สมัคร</td>\n      <td>ยโสธรต้อนรับ</td>\n    </tr>\n    <tr>\n      <th>26</th>\n      <td>เลือกตั้งครั้งนี้เงื่อนไขการสมัคร</td>\n      <td>มหาสารคามแล้ว  ชาวบ้านแห่ต้อนรับและให้กำลังใจท...</td>\n      <td>อำนาจเจริญ  เดินพขปะหาสมาชิกพรรคและแนะนำพรรค</td>\n      <td>เดินพขปะหาสมาชิกพรรคและแนะนำพรรค  ชาวอำนาจฯ</td>\n      <td>แต่ไม่หวั่น</td>\n      <td>วันนี้สมาชิกพรรคในเขต</td>\n    </tr>\n    <tr>\n      <th>27</th>\n      <td>เพื่อให้ว่าที่ผู้สมัครนำไปถ่ายทอด</td>\n      <td>เน้นพูดนโยบายไม่พาดพิงพรรคการเมืองใดๆ</td>\n      <td>อำนาจเจริญแล้ว</td>\n      <td>เก็บตกบรรยากาศ  อำนาจเจริญ</td>\n      <td>ลุงกำนันป่วย  แต่ไม่หวั่น</td>\n      <td>เขตคึกคัก</td>\n    </tr>\n    <tr>\n      <th>28</th>\n      <td>แก่ประชาชนตามกรอบกติกา</td>\n      <td>ว่าที่หู้สมัคร  นราธิวาส</td>\n      <td>อำนาจเจริญแล้ว  อำนาจเจริญ</td>\n      <td>กรรมการบริหารพรรคไปร่วมพิธีเปิด  สาขาพรรคเขต</td>\n      <td>แต่ไม่หวั่น  มุ่งหน้าเดินคารวะแผ่นดินให้ครบ</td>\n      <td>หาสมาชิกและแนะนำพรรค</td>\n    </tr>\n    <tr>\n      <th>29</th>\n      <td>และอาจมีใบเหลือง</td>\n      <td>กรรมการบริหารพรรคไปร่วมพิธีเปิด  สาขาพรรคเขต</td>\n      <td>เดินพขปะหาสมาชิกพรรคและแนะนำพรรค</td>\n      <td>ใบแดงมากที่สุด</td>\n      <td>พรรครวมพลังประชาชาติไทย</td>\n      <td>เจ๊ะอีลย๊าส  โตะตาหยง</td>\n    </tr>\n  </tbody>\n</table>\n</div>",
      "text/plain": "                                        Topic 0 words  \\\n0                           อำนาจเจริญแห่สมัครสมาชิก    \n1   พ่อค้าแม่ขายต้อนรับลุงกำนันและผู้สมัครหน้าใหม่...   \n2               กำนันสุเทพ  อำนาจเจริญแห่สมัครสมาชิก    \n3                                          ยโสธรแล้ว    \n4                                   กรี๊ดลั่นตลาดรับ    \n5                                         กำนันสุเทพ    \n6                       กรี๊ดลั่นตลาดรับ  กำนันสุเทพ    \n7                                      มหาสารคามแล้ว    \n8               ชาวบ้านแห่ต้อนรับและให้กำลังใจทีมงาน    \n9                                          เขตคึกคัก    \n10  ยโสธรแล้ว  พ่อค้าแม่ขายต้อนรับลุงกำนันและผู้สม...   \n11  ชาวบ้านแห่ต้อนรับและให้กำลังใจทีมงาน  พร้อมฝาก...   \n12   พร้อมฝากปัญหาและข้อเสนอทางนโยบายต่อพรรคจำนวนมาก    \n13  มหาสารคามแล้ว  ชาวบ้านแห่ต้อนรับและให้กำลังใจท...   \n14  พ่อค้าแม่ขายต้อนรับลุงกำนันและผู้สมัครหน้าใหม่...   \n15                  และอาจมีใบเหลือง  ใบแดงมากที่สุด    \n16  เลือกตั้งครั้งนี้เงื่อนไขการสมัคร  และข้อห้ามก...   \n17                                     ประมวลภาพพรรค    \n18                                          workshop    \n19  และข้อห้ามการหาเสียงมีรายละเอียดมากกว่าทุกๆครั้ง    \n20  จะทำให้การเลือกตั้งครั้งนี้มีการร้องเรียนกันมา...   \n21  จะทำให้การเลือกตั้งครั้งนี้มีการร้องเรียนกันมา...   \n22                           ประมวลภาพพรรค  workshop    \n23                       workshop  ติวเข้มการปราศรัย    \n24  ติวเข้มการปราศรัย  เพื่อให้ว่าที่ผู้สมัครนำไปถ...   \n25                                 ติวเข้มการปราศรัย    \n26                 เลือกตั้งครั้งนี้เงื่อนไขการสมัคร    \n27                 เพื่อให้ว่าที่ผู้สมัครนำไปถ่ายทอด    \n28                            แก่ประชาชนตามกรอบกติกา    \n29                                  และอาจมีใบเหลือง    \n\n                                        Topic 1 words  \\\n0    ปีเปลี่ยนไปเกิดพรรคการเมืองของประชาชนที่แท้จริง    \n1                                      ถึงเมืองน้ำดำ    \n2   ถึงเมืองน้ำดำ  ลุงกำนันและว่าที่ผุ้สมัครเดินหา...   \n3   ชาวเมืองน้ำดำ  กาฬสินธุ์ต้อนรับคาราวานคารวะแผ่...   \n4   ลุงกำนันและว่าที่ผุ้สมัครเดินหาสมาขิกและแนะนำพ...   \n5                                      ชาวเมืองน้ำดำ    \n6     กาฬสินธุ์ต้อนรับคาราวานคารวะแผ่นดินอย่างอบอุ่น    \n7                      สมาชิกรปช  โวยสื่อดังบิดเบือน    \n8                                         หาทิ้งพรรค    \n9                                 โวยสื่อดังบิดเบือน    \n10                                           แกนนำซบ    \n11                    โวยสื่อดังบิดเบือน  หาทิ้งพรรค    \n12                                  แกนนำซบ  ธรรมนัส    \n13                                           ธรรมนัส    \n14                               หาทิ้งพรรค  แกนนำซบ    \n15                                         สมาชิกรปช    \n16                               สุราษฎร์ฯ  เข้าเป้า    \n17                          ลงสมัครรับเลือกตั้งในเขต    \n18                    หาสมาชิกและแนะนำพรรคของประชาชน    \n19                    ปลุกคนธรรมดาพลิกโฉมการเมืองไทย    \n20                                         พบประชาชน    \n21                                       เจ๊ะอีลย๊าส    \n22                                          นราธิวาส    \n23  วันนี้สมาชิกพรรคในเขต  สุราษฎร์ธานีจัดประชุมเพ...   \n24                                    ว่าที่หู้สมัคร    \n25                                         สุราษฎร์ฯ    \n26  มหาสารคามแล้ว  ชาวบ้านแห่ต้อนรับและให้กำลังใจท...   \n27             เน้นพูดนโยบายไม่พาดพิงพรรคการเมืองใดๆ    \n28                          ว่าที่หู้สมัคร  นราธิวาส    \n29      กรรมการบริหารพรรคไปร่วมพิธีเปิด  สาขาพรรคเขต    \n\n                                        Topic 2 words  \\\n0                                    หลักฐานอะไรบ้าง    \n1    เปิดตัวนักเคลื่อนไหวภาคปชช  หวังปักธงจังหวัดเลย    \n2          ต้องเตรียมเงินคนละกี่บาท  หลักฐานอะไรบ้าง    \n3                                หวังปักธงจังหวัดเลย    \n4                         เปิดตัวนักเคลื่อนไหวภาคปชช    \n5                           ต้องเตรียมเงินคนละกี่บาท    \n6                     หาสมาชิกและแนะนำพรรคของประชาชน    \n7                    เพชรบูรณ์แล้ว  ถึงเพชรบูรณ์แล้ว    \n8                                   ถึงเพชรบูรณ์แล้ว    \n9   ถึงเพชรบูรณ์แล้ว  หาสมาชิกและแนะนำพรรคของประชาชน    \n10                                     เพชรบูรณ์แล้ว    \n11                                    กำลังใจล้นหลาม    \n12                      กำลังใจล้นหลาม  ยโสธรต้อนรับ    \n13                                    ว่าที่หู้สมัคร    \n14                                          โตะตาหยง    \n15                                       เจ๊ะอีลย๊าส    \n16                                  เดินคารวะแผ่นดิน    \n17                                      ยโสธรต้อนรับ    \n18                                       นำผู้สมัครส    \n19                             เจ๊ะอีลย๊าส  โตะตาหยง    \n20                         ยโสธรต้อนรับ  นำผู้สมัครส    \n21                     นำผู้สมัครส  เดินคารวะแผ่นดิน    \n22                          ว่าที่หู้สมัคร  นราธิวาส    \n23                          โตะตาหยง  ว่าที่หู้สมัคร    \n24                                          นราธิวาส    \n25                                         ชาวอำนาจฯ    \n26      อำนาจเจริญ  เดินพขปะหาสมาชิกพรรคและแนะนำพรรค    \n27                                    อำนาจเจริญแล้ว    \n28                        อำนาจเจริญแล้ว  อำนาจเจริญ    \n29                  เดินพขปะหาสมาชิกพรรคและแนะนำพรรค    \n\n                                        Topic 3 words  \\\n0    หนุนพรรคการเมืองของประชาชนเกิดบนเวทีการเมืองไทย    \n1   ต้อนรับลุงกำนันและทีมงานคึกคัก  หนุนพรรคการเมื...   \n2                                      อุทัยธานีแล้ว    \n3                     ต้อนรับลุงกำนันและทีมงานคึกคัก    \n4      อุทัยธานีแล้ว  ต้อนรับลุงกำนันและทีมงานคึกคัก    \n5   สุราษฎร์ธานีจัดประชุมเพื่อตั้งสาขาพรรค  เลือกก...   \n6                                   เลือกกรรมการสาขา    \n7                                       เขตเลือกตั้ง    \n8                               และทำไพรมารีโหวตด้วย    \n9                                           เข้าเป้า    \n10  และทำไพรมารีโหวตด้วย  โดยที่ประชุมเห็นชอบให้นา...   \n11                      เขตเลือกตั้ง  เป็นจังหวัดแรก    \n12                                   ตั้งสาขาครบทั้ง    \n13            สุราษฎร์ธานีจัดประชุมเพื่อตั้งสาขาพรรค    \n14                         เข้าเป้า  ตั้งสาขาครบทั้ง    \n15             เป็นจังหวัดแรก  วันนี้สมาชิกพรรคในเขต    \n16                          ลงสมัครรับเลือกตั้งในเขต    \n17                             วันนี้สมาชิกพรรคในเขต    \n18  โดยที่ประชุมเห็นชอบให้นางสาวภัสสร  ลงสมัครรับเ...   \n19                                         สุราษฎร์ฯ    \n20                                    เป็นจังหวัดแรก    \n21                 โดยที่ประชุมเห็นชอบให้นางสาวภัสสร    \n22                               สุราษฎร์ฯ  เข้าเป้า    \n23  วันนี้สมาชิกพรรคในเขต  สุราษฎร์ธานีจัดประชุมเพ...   \n24                     ตั้งสาขาครบทั้ง  เขตเลือกตั้ง    \n25            เลือกกรรมการสาขา  และทำไพรมารีโหวตด้วย    \n26       เดินพขปะหาสมาชิกพรรคและแนะนำพรรค  ชาวอำนาจฯ    \n27                        เก็บตกบรรยากาศ  อำนาจเจริญ    \n28      กรรมการบริหารพรรคไปร่วมพิธีเปิด  สาขาพรรคเขต    \n29                                    ใบแดงมากที่สุด    \n\n                                        Topic 4 words  \\\n0                                           คลิกอ่าน    \n1                          ด้วยการอุดหนุนภาษีไม่เกิน    \n2   ขอเชิญชวนพี่น้องประชาชนร่วมสร้างพรรคการเมืองขอ...   \n3                     ปลุกคนธรรมดาพลิกโฉมการเมืองไทย    \n4   ขอเชิญชวนพี่น้องประชาชนร่วมสร้างพรรคการเมืองขอ...   \n5           ปลุกคนธรรมดาพลิกโฉมการเมืองไทย  คลิกอ่าน    \n6                             สาขาพรรคเขต  มาต้อนรับ    \n7                                       ร้อยเอ็ดแล้ว    \n8                     วันนี้เดินพบชาวร้อยเอ็ดทั้งวัน    \n9        มาฝั่งอีสาน  วันนี้เดินพบชาวร้อยเอ็ดทั้งวัน    \n10                                         มาต้อนรับ    \n11                              หาสมาชิกและแนะนำพรรค    \n12   หัวหน้าพรรคและ  กรรมการบริหารพรรคไปร่วมพิธีเปิด    \n13                                       มาฝั่งอีสาน    \n14                   กรรมการบริหารพรรคไปร่วมพิธีเปิด    \n15                                    หัวหน้าพรรคและ    \n16      กรรมการบริหารพรรคไปร่วมพิธีเปิด  สาขาพรรคเขต    \n17           ข้ามฝั่งจากภาคเหนือตอนล่าง  มาฝั่งอีสาน    \n18                        ข้ามฝั่งจากภาคเหนือตอนล่าง    \n19  วันนี้เดินพบชาวร้อยเอ็ดทั้งวัน  หาสมาชิกและแนะ...   \n20          ร้อยเอ็ดแล้ว  ข้ามฝั่งจากภาคเหนือตอนล่าง    \n21  มาต้อนรับ  ช่วงบ่ายออกเดินพบปะพี่น้องประชาชนเม...   \n22                                       สาขาพรรคเขต    \n23       ช่วงบ่ายออกเดินพบปะพี่น้องประชาชนเมืองลำปาง    \n24  พรรครวมพลังประชาชาติไทย  เน้นพูดนโยบายไม่พาดพิ...   \n25                                       ย้ำผู้สมัคร    \n26                                       แต่ไม่หวั่น    \n27                         ลุงกำนันป่วย  แต่ไม่หวั่น    \n28       แต่ไม่หวั่น  มุ่งหน้าเดินคารวะแผ่นดินให้ครบ    \n29                           พรรครวมพลังประชาชาติไทย    \n\n                                        Topic 5 words  \n0                                     เก็บตกบรรยากาศ   \n1                         เก็บตกบรรยากาศ  อำนาจเจริญ   \n2                                      นครสวรรค์แล้ว   \n3   นครสวรรค์แล้ว  หาสมาขิกและแนะนำพรรคการเมืองของ...  \n4   หาสมาขิกและแนะนำพรรคการเมืองของประชาชนที่แท้จริง   \n5                                         อำนาจเจริญ   \n6                                ชาวบ้านพ่อค้าแม่ขาย   \n7                          นำว่าที่ผู้สมัคร  พรรครปช   \n8                                            พรรครปช   \n9                                          พบประชาชน   \n10               ต้อนรับลุงกำนันและทีมงานอย่างอบอุ่น   \n11                                        ชัยนาทแล้ว   \n12                                  นำว่าที่ผู้สมัคร   \n13                   ชัยนาทแล้ว  ชาวบ้านพ่อค้าแม่ขาย   \n14                                พรรครปช  พบประชาชน   \n15  ชาวบ้านพ่อค้าแม่ขาย  ต้อนรับลุงกำนันและทีมงานอ...  \n16  หลายคนไหวตัวทันรีบไปเก็บป้ายหาเสียงเมื่อคืนที่...  \n17  บรรดาผู้สมัคร  หลายคนไหวตัวทันรีบไปเก็บป้ายหาเ...  \n18  หลายคนไหวตัวทันรีบไปเก็บป้ายหาเสียงเมื่อคืนที่...  \n19           จะไม่มีให้เห็นอีกแล้วติดตั้งตามเสาไฟฟ้า   \n20                                     บรรดาผู้สมัคร   \n21  กฎหมายเลือกตั้งรอบนี้เข้มงวดเรื่องป้ายหาเสียง ...  \n22     กฎหมายเลือกตั้งรอบนี้เข้มงวดเรื่องป้ายหาเสียง   \n23                            งานเข้า  บรรดาผู้สมัคร   \n24                                           งานเข้า   \n25                                      ยโสธรต้อนรับ   \n26                             วันนี้สมาชิกพรรคในเขต   \n27                                         เขตคึกคัก   \n28                              หาสมาชิกและแนะนำพรรค   \n29                             เจ๊ะอีลย๊าส  โตะตาหยง   "
     },
     "metadata": {
      "transient": {}
     },
     "output_type": "display_data"
    },
    {
     "data": {
      "text/plain": "'party:chartthai'"
     },
     "metadata": {
      "transient": {}
     },
     "output_type": "display_data"
    },
    {
     "data": {
      "text/html": "<div>\n<style scoped>\n    .dataframe tbody tr th:only-of-type {\n        vertical-align: middle;\n    }\n\n    .dataframe tbody tr th {\n        vertical-align: top;\n    }\n\n    .dataframe thead th {\n        text-align: right;\n    }\n</style>\n<table border=\"1\" class=\"dataframe\">\n  <thead>\n    <tr style=\"text-align: right;\">\n      <th></th>\n      <th>Topic 0 words</th>\n      <th>Topic 1 words</th>\n      <th>Topic 2 words</th>\n      <th>Topic 3 words</th>\n      <th>Topic 4 words</th>\n      <th>Topic 5 words</th>\n    </tr>\n  </thead>\n  <tbody>\n    <tr>\n      <th>0</th>\n      <td>ศิลปอาชา</td>\n      <td>รอสรุปผู้สมัคร</td>\n      <td>อ่านต่อคลิก</td>\n      <td>ประธานคณะกรรมการนโยบายและยุทธศาสตร์พรรค</td>\n      <td>เต็มไปด้วยความอบอุ่น  จากพี่น้องประชาชน</td>\n      <td>อัพเดรต</td>\n    </tr>\n    <tr>\n      <th>1</th>\n      <td>คุณกัญจนา</td>\n      <td>ประธานกรรมการนโยบายและยุทธศาสตร์พรรค</td>\n      <td>พร้อมสู้ศึกเลือกตั้งพรรคชาติไทยพัฒนา  อ่านต่อค...</td>\n      <td>ศิลปอาชา  ประธานคณะกรรมการนโยบายและยุทธศาสตร์พ...</td>\n      <td>จากพี่น้องประชาชน</td>\n      <td>หมายเลขผู้สมัครพรรคชาติไทยพัฒนา  อัพเดรต</td>\n    </tr>\n    <tr>\n      <th>2</th>\n      <td>คุณกัญจนา  ศิลปอาชา</td>\n      <td>นำทีมพรรคชาติไทยพัฒนา  ด้วยบรรยากาศลุย</td>\n      <td>พร้อมสู้ศึกเลือกตั้งพรรคชาติไทยพัฒนา</td>\n      <td>ศิลปอาชา</td>\n      <td>บรรยากาศการปราศรัย</td>\n      <td>หมายเลขผู้สมัครพรรคชาติไทยพัฒนา</td>\n    </tr>\n    <tr>\n      <th>3</th>\n      <td>ศิลปอาชา  หัวหน้าพรรค</td>\n      <td>ประธานกรรมการนโยบายและยุทธศาสตร์พรรค  นำทีมพรร...</td>\n      <td>คณะกรรมการบริหารพรรคชาติไทยพัฒนา</td>\n      <td>เลือกตั้ง</td>\n      <td>จากพี่น้องประชาชน  พรรคชาติไทยพัฒนา</td>\n      <td>คุณกัญจนา</td>\n    </tr>\n    <tr>\n      <th>4</th>\n      <td>คุณวราวุธ</td>\n      <td>นำทีมพรรคชาติไทยพัฒนา</td>\n      <td>จังหวัด</td>\n      <td>จบปัญหา</td>\n      <td>เต็มไปด้วยความอบอุ่น</td>\n      <td>ลุยศึกเลือกตั้ง</td>\n    </tr>\n    <tr>\n      <th>5</th>\n      <td>หัวหน้าพรรค</td>\n      <td>คุณวราวุธ</td>\n      <td>บึงแก่นนคร  จังหวัด</td>\n      <td>คุณท็อป</td>\n      <td>พรรคชาติไทยพัฒนา</td>\n      <td>ลุยศึกเลือกตั้ง  เจาะลึกทั่วไทย</td>\n    </tr>\n    <tr>\n      <th>6</th>\n      <td>คุณวราวุธ  ศิลปอาชา</td>\n      <td>ด้วยบรรยากาศลุย</td>\n      <td>ลงพื้นที่ปราศรัยหาเสียง</td>\n      <td>หัวข้อดีเบต</td>\n      <td>ตลาดศรีนคร  เต็มไปด้วยความอบอุ่น</td>\n      <td>ถอดรหัสแท็กติก</td>\n    </tr>\n    <tr>\n      <th>7</th>\n      <td>หัวหน้าพรรค  คุณวราวุธ</td>\n      <td>ศิลปอาชา  ประธานกรรมการนโยบายและยุทธศาสตร์พรรค</td>\n      <td>จังหวัด  ขอนแก่น</td>\n      <td>ศิลปอาชา  ในรายการดีเบต</td>\n      <td>บรรยากาศการปราศรัย  ตลาดศรีนคร</td>\n      <td>ถอดรหัสแท็กติก  ลุยศึกเลือกตั้ง</td>\n    </tr>\n    <tr>\n      <th>8</th>\n      <td>พร้อมคณะพรรคชาติไทยพัฒนา</td>\n      <td>คุณวราวุธ  ศิลปอาชา</td>\n      <td>ลงพื้นที่ปราศรัยหาเสียง  บึงแก่นนคร</td>\n      <td>ในรายการดีเบต  เลือกตั้ง</td>\n      <td>ลงพื้นที่หาเสียง  ไหว้ศาลหลักเมือง</td>\n      <td>เจาะลึกทั่วไทย</td>\n    </tr>\n    <tr>\n      <th>9</th>\n      <td>ศิลปอาชา  ประธานนโยบายและยุทธศาสตร์พรรค</td>\n      <td>พร้อมเพรียงทั้ง  คุณกัญจนา</td>\n      <td>ขอนแก่น  ท่ามกลางประชาชนกว่า</td>\n      <td>หัวข้อดีเบต  จบปัญหา</td>\n      <td>ที่จังหวัดสมุทรสาคร</td>\n      <td>ด้วยรอยยิ้มสดใส</td>\n    </tr>\n    <tr>\n      <th>10</th>\n      <td>ประธานนโยบายและยุทธศาสตร์พรรค</td>\n      <td>เพื่อสร้างความมั่นใจให้พี่น้องชาวสุพรรณฯ</td>\n      <td>คณะกรรมการบริหารพรรคชาติไทยพัฒนา  ลงพื้นที่ปรา...</td>\n      <td>ในรายการดีเบต</td>\n      <td>ลงพื้นที่หาเสียง</td>\n      <td>เพื่อรับฟังปัญหาและพบประชาชน  ด้วยรอยยิ้มสดใส</td>\n    </tr>\n    <tr>\n      <th>11</th>\n      <td>ประธานนโยบายและยุทธศาสตร์พรรค  พร้อมคณะพรรคชาต...</td>\n      <td>เราไปด้วยกันแน่นอน</td>\n      <td>บึงแก่นนคร</td>\n      <td>เลือกตั้ง  หัวข้อดีเบต</td>\n      <td>เอาฤกษ์เอาชัย  ที่จังหวัดสมุทรสาคร</td>\n      <td>และความตั้งใจเต็มเปี่ยม</td>\n    </tr>\n    <tr>\n      <th>12</th>\n      <td>ตลาดศรีนคร</td>\n      <td>หาเสียงที่สุดท้ายก่อนเลือกตั้ง  ครอบครัวศิลปอาชา</td>\n      <td>ท่ามกลางประชาชนกว่า</td>\n      <td>คุณท็อป  ศิลปอาชา</td>\n      <td>ไหว้ศาลหลักเมือง  เอาฤกษ์เอาชัย</td>\n      <td>ด้วยรอยยิ้มสดใส  และความตั้งใจเต็มเปี่ยม</td>\n    </tr>\n    <tr>\n      <th>13</th>\n      <td>และคณะพรรคชาติไทยพัฒนา</td>\n      <td>ร่วมด้วยคุณหญิงแจ่มใส</td>\n      <td>ขอนแก่น</td>\n      <td>ทิศทางประเทศไทย</td>\n      <td>ศิลปอาชา  และคณะพรรคชาติไทยพัฒนา</td>\n      <td>หัวหน้าพรรค  เพื่อรับฟังปัญหาและพบประชาชน</td>\n    </tr>\n    <tr>\n      <th>14</th>\n      <td>ศิลปอาชา  ประธานกรรมการนโยบายและยุทธศาสตร์พรรค</td>\n      <td>อีกครั้งว่า</td>\n      <td>และผู้สมัคร</td>\n      <td>สิงหาปัด</td>\n      <td>ไหว้ศาลหลักเมือง</td>\n      <td>เพื่อรับฟังปัญหาและพบประชาชน</td>\n    </tr>\n    <tr>\n      <th>15</th>\n      <td>ประธานกรรมการนโยบายและยุทธศาสตร์พรรค</td>\n      <td>ครอบครัวศิลปอาชา</td>\n      <td>หาเสียง</td>\n      <td>จากรายการพิเศษ  เลือกตั้ง</td>\n      <td>เอาฤกษ์เอาชัย</td>\n      <td>สมุทรสงคราม  แวะไหว้พระเอาฤกษ์เอาชัย</td>\n    </tr>\n    <tr>\n      <th>16</th>\n      <td>ศิลปอาชา  พร้อมสมาชิกพรรคชาติไทยพัฒนา</td>\n      <td>อีกครั้งว่า  เราไปด้วยกันแน่นอน</td>\n      <td>สร้างรอยยิ้มและสีสันได้อย่างมาก</td>\n      <td>เลือกตั้ง  ทิศทางประเทศไทย</td>\n      <td>และคณะพรรคชาติไทยพัฒนา  ลงพื้นที่หาเสียง</td>\n      <td>ที่วัดหลักสี่ราษฎร์สโมสร</td>\n    </tr>\n    <tr>\n      <th>17</th>\n      <td>พร้อมสมาชิกพรรคชาติไทยพัฒนา  เวทีปราศรัย</td>\n      <td>เพื่อสร้างความมั่นใจให้พี่น้องชาวสุพรรณฯ  อีกค...</td>\n      <td>และผู้สมัคร  หาเสียง</td>\n      <td>ตอบคำถาม</td>\n      <td>ตลาดศรีนคร</td>\n      <td>สมุทรสงคราม</td>\n    </tr>\n    <tr>\n      <th>18</th>\n      <td>เวทีปราศรัย  ตลาดศรีนคร</td>\n      <td>คุณวราวุธ  ประธานกรรมการนโยบายและยุทธศาสตร์พรรค</td>\n      <td>หาเสียง  ด้วยขบวนรถซาเล้งรอบตลาดเมืองเพชรฯ</td>\n      <td>นโยบายการแก้ไขปัญหาฝุ่นละอองขนาดเล็ก</td>\n      <td>ฝั่งแดง  เต็มไปด้วยความอบอุ่น</td>\n      <td>คุณกัญจนา  และคณะพรรคชาติไทยพัฒนา</td>\n    </tr>\n    <tr>\n      <th>19</th>\n      <td>พร้อมสมาชิกพรรคชาติไทยพัฒนา</td>\n      <td>พร้อมเพรียงทั้ง</td>\n      <td>ด้วยขบวนรถซาเล้งรอบตลาดเมืองเพชรฯ  เต็มไปด้วยค...</td>\n      <td>ตอบคำถาม  นโยบายการแก้ไขปัญหาฝุ่นละอองขนาดเล็ก</td>\n      <td>ฝั่งแดง</td>\n      <td>และคณะพรรคชาติไทยพัฒนา  สมุทรสงคราม</td>\n    </tr>\n    <tr>\n      <th>20</th>\n      <td>เวทีปราศรัย</td>\n      <td>ครอบครัวศิลปอาชา  พร้อมเพรียงทั้ง</td>\n      <td>รองหัวหน้าพรรค</td>\n      <td>นโยบายการแก้ไขปัญหาฝุ่นละอองขนาดเล็ก  จากรายกา...</td>\n      <td>บ้านโนนงาม</td>\n      <td>แวะไหว้พระเอาฤกษ์เอาชัย</td>\n    </tr>\n    <tr>\n      <th>21</th>\n      <td>พร้อมคณะพรรคชาติไทยพัฒนา  และพบปะพี่น้องบริเวณ...</td>\n      <td>ประธานกรรมการนโยบายและยุทธศาสตร์พรรค  ร่วมด้วย...</td>\n      <td>เต็มไปด้วยความคึกครื้น  สร้างรอยยิ้มและสีสันได...</td>\n      <td>ศิลปอาชา  ตอบคำถาม</td>\n      <td>ศูนย์กสิกรรมธรรมชาติน้ำเพียงดิน  บ้านโนนงาม</td>\n      <td>แวะไหว้พระเอาฤกษ์เอาชัย  ที่วัดหลักสี่ราษฎร์สโ...</td>\n    </tr>\n    <tr>\n      <th>22</th>\n      <td>และพบปะพี่น้องบริเวณใกล้เคียง</td>\n      <td>ร่วมด้วยคุณหญิงแจ่มใส  เพื่อสร้างความมั่นใจให้...</td>\n      <td>คุณยุทธพล  รองหัวหน้าพรรค</td>\n      <td>ทิศทางประเทศไทย  สิงหาปัด</td>\n      <td>ศูนย์กสิกรรมธรรมชาติน้ำเพียงดิน</td>\n      <td>คุณกัญจนา  หัวหน้าพรรค</td>\n    </tr>\n    <tr>\n      <th>23</th>\n      <td>ประกอบด้วยระเบียบคณะกรรมการการเลือกตั้งว่าด้วย...</td>\n      <td>หาเสียงที่สุดท้ายก่อนเลือกตั้ง</td>\n      <td>ด้วยขบวนรถซาเล้งรอบตลาดเมืองเพชรฯ</td>\n      <td>จากรายการพิเศษ</td>\n      <td>บ้านโนนงาม  ฝั่งแดง</td>\n      <td>คุณกัญจนา  ในระหว่างเดินพบปะเหล่าบรรดาพ่อค้าแม...</td>\n    </tr>\n    <tr>\n      <th>24</th>\n      <td>และมาตรา  ประกอบด้วยระเบียบคณะกรรมการการเลือกต...</td>\n      <td>คุณกัญจนา  หัวหน้าพรรค</td>\n      <td>รองหัวหน้าพรรค  และผู้สมัคร</td>\n      <td>พร้อมคณะพรรคชาติไทยพัฒนา  และพบปะพี่น้องบริเวณ...</td>\n      <td>บรรยากาศการปราศรัย  ศูนย์กสิกรรมธรรมชาติน้ำเพี...</td>\n      <td>โดยได้พูดคุยกับหัวหน้าพรรคชาติไทยพัฒนาว่าอนาคต...</td>\n    </tr>\n    <tr>\n      <th>25</th>\n      <td>และมาตรา</td>\n      <td>ศิลปอาชา</td>\n      <td>เต็มไปด้วยความคึกครื้น</td>\n      <td>เต็มไปด้วยความคึกครื้น</td>\n      <td>ในหัวข้อดีเบต  ทลายกรอบเพศสภาพ</td>\n      <td>ได้มีนักเรียนเข้ามาขอลายเซ็นและขอถ่ายรูปด้วย  ...</td>\n    </tr>\n    <tr>\n      <th>26</th>\n      <td>ประกาศพรรคชาติไทยพัฒนา  ว่าด้วยการเลือกตั้งสมา...</td>\n      <td>หัวหน้าพรรค  คุณวราวุธ</td>\n      <td>คุณยุทธพล</td>\n      <td>ขอนแก่น  ไหว้ศาลหลักเมืองเอาฤกษ์เอาชัย</td>\n      <td>ปัตตพงศ์ภัช  รองเลขาธิการและโฆษกด้านสังคมพรรคช...</td>\n      <td>ซึ่งคุณกัญจนา  ก็ได้อวยพรให้ประสบความสำเร็จในก...</td>\n    </tr>\n    <tr>\n      <th>27</th>\n      <td>ว่าด้วยการเลือกตั้งสมาชิกสภาผู้แทนราษฎร  และมา...</td>\n      <td>หัวหน้าพรรค</td>\n      <td>หัวหน้าพรรค  คุณยุทธพล</td>\n      <td>หัวหน้าพรรค  และคุณวราวุธ</td>\n      <td>thairathtv</td>\n      <td>ในระหว่างเดินพบปะเหล่าบรรดาพ่อค้าแม่ค้าในตลาดม...</td>\n    </tr>\n    <tr>\n      <th>28</th>\n      <td>กรุณาอ่านต่อในภาพ</td>\n      <td>คุณกัญจนา</td>\n      <td>ศิลปอาชา  หัวหน้าพรรค</td>\n      <td>เพื่อสร้างความมั่นใจให้พี่น้องชาวสุพรรณฯ  อีกค...</td>\n      <td>เวทีดีเบตโซเชียล  thairathtv</td>\n      <td>ก็ได้อวยพรให้ประสบความสำเร็จในการเรียน</td>\n    </tr>\n    <tr>\n      <th>29</th>\n      <td>ประกอบด้วยระเบียบคณะกรรมการการเลือกตั้งว่าด้วย...</td>\n      <td>ไหว้ศาลหลักเมือง  เอาฤกษ์เอาชัย</td>\n      <td>หัวหน้าพรรค</td>\n      <td>เวทีดีเบตโซเชียล</td>\n      <td>thairathtv  เป็นต้นไป</td>\n      <td>ซึ่งคุณกัญจนา</td>\n    </tr>\n  </tbody>\n</table>\n</div>",
      "text/plain": "                                        Topic 0 words  \\\n0                                           ศิลปอาชา    \n1                                          คุณกัญจนา    \n2                                คุณกัญจนา  ศิลปอาชา    \n3                              ศิลปอาชา  หัวหน้าพรรค    \n4                                          คุณวราวุธ    \n5                                        หัวหน้าพรรค    \n6                                คุณวราวุธ  ศิลปอาชา    \n7                             หัวหน้าพรรค  คุณวราวุธ    \n8                           พร้อมคณะพรรคชาติไทยพัฒนา    \n9            ศิลปอาชา  ประธานนโยบายและยุทธศาสตร์พรรค    \n10                     ประธานนโยบายและยุทธศาสตร์พรรค    \n11  ประธานนโยบายและยุทธศาสตร์พรรค  พร้อมคณะพรรคชาต...   \n12                                        ตลาดศรีนคร    \n13                            และคณะพรรคชาติไทยพัฒนา    \n14    ศิลปอาชา  ประธานกรรมการนโยบายและยุทธศาสตร์พรรค    \n15              ประธานกรรมการนโยบายและยุทธศาสตร์พรรค    \n16             ศิลปอาชา  พร้อมสมาชิกพรรคชาติไทยพัฒนา    \n17          พร้อมสมาชิกพรรคชาติไทยพัฒนา  เวทีปราศรัย    \n18                           เวทีปราศรัย  ตลาดศรีนคร    \n19                       พร้อมสมาชิกพรรคชาติไทยพัฒนา    \n20                                       เวทีปราศรัย    \n21  พร้อมคณะพรรคชาติไทยพัฒนา  และพบปะพี่น้องบริเวณ...   \n22                     และพบปะพี่น้องบริเวณใกล้เคียง    \n23  ประกอบด้วยระเบียบคณะกรรมการการเลือกตั้งว่าด้วย...   \n24  และมาตรา  ประกอบด้วยระเบียบคณะกรรมการการเลือกต...   \n25                                          และมาตรา    \n26  ประกาศพรรคชาติไทยพัฒนา  ว่าด้วยการเลือกตั้งสมา...   \n27  ว่าด้วยการเลือกตั้งสมาชิกสภาผู้แทนราษฎร  และมา...   \n28                                 กรุณาอ่านต่อในภาพ    \n29  ประกอบด้วยระเบียบคณะกรรมการการเลือกตั้งว่าด้วย...   \n\n                                        Topic 1 words  \\\n0                                     รอสรุปผู้สมัคร    \n1               ประธานกรรมการนโยบายและยุทธศาสตร์พรรค    \n2             นำทีมพรรคชาติไทยพัฒนา  ด้วยบรรยากาศลุย    \n3   ประธานกรรมการนโยบายและยุทธศาสตร์พรรค  นำทีมพรร...   \n4                              นำทีมพรรคชาติไทยพัฒนา    \n5                                          คุณวราวุธ    \n6                                    ด้วยบรรยากาศลุย    \n7     ศิลปอาชา  ประธานกรรมการนโยบายและยุทธศาสตร์พรรค    \n8                                คุณวราวุธ  ศิลปอาชา    \n9                         พร้อมเพรียงทั้ง  คุณกัญจนา    \n10          เพื่อสร้างความมั่นใจให้พี่น้องชาวสุพรรณฯ    \n11                                เราไปด้วยกันแน่นอน    \n12  หาเสียงที่สุดท้ายก่อนเลือกตั้ง  ครอบครัวศิลปอาชา    \n13                             ร่วมด้วยคุณหญิงแจ่มใส    \n14                                       อีกครั้งว่า    \n15                                  ครอบครัวศิลปอาชา    \n16                   อีกครั้งว่า  เราไปด้วยกันแน่นอน    \n17  เพื่อสร้างความมั่นใจให้พี่น้องชาวสุพรรณฯ  อีกค...   \n18   คุณวราวุธ  ประธานกรรมการนโยบายและยุทธศาสตร์พรรค    \n19                                   พร้อมเพรียงทั้ง    \n20                 ครอบครัวศิลปอาชา  พร้อมเพรียงทั้ง    \n21  ประธานกรรมการนโยบายและยุทธศาสตร์พรรค  ร่วมด้วย...   \n22  ร่วมด้วยคุณหญิงแจ่มใส  เพื่อสร้างความมั่นใจให้...   \n23                    หาเสียงที่สุดท้ายก่อนเลือกตั้ง    \n24                            คุณกัญจนา  หัวหน้าพรรค    \n25                                          ศิลปอาชา    \n26                            หัวหน้าพรรค  คุณวราวุธ    \n27                                       หัวหน้าพรรค    \n28                                         คุณกัญจนา    \n29                   ไหว้ศาลหลักเมือง  เอาฤกษ์เอาชัย    \n\n                                        Topic 2 words  \\\n0                                        อ่านต่อคลิก    \n1   พร้อมสู้ศึกเลือกตั้งพรรคชาติไทยพัฒนา  อ่านต่อค...   \n2               พร้อมสู้ศึกเลือกตั้งพรรคชาติไทยพัฒนา    \n3                   คณะกรรมการบริหารพรรคชาติไทยพัฒนา    \n4                                            จังหวัด    \n5                                บึงแก่นนคร  จังหวัด    \n6                            ลงพื้นที่ปราศรัยหาเสียง    \n7                                   จังหวัด  ขอนแก่น    \n8                ลงพื้นที่ปราศรัยหาเสียง  บึงแก่นนคร    \n9                       ขอนแก่น  ท่ามกลางประชาชนกว่า    \n10  คณะกรรมการบริหารพรรคชาติไทยพัฒนา  ลงพื้นที่ปรา...   \n11                                        บึงแก่นนคร    \n12                               ท่ามกลางประชาชนกว่า    \n13                                           ขอนแก่น    \n14                                       และผู้สมัคร    \n15                                           หาเสียง    \n16                   สร้างรอยยิ้มและสีสันได้อย่างมาก    \n17                              และผู้สมัคร  หาเสียง    \n18        หาเสียง  ด้วยขบวนรถซาเล้งรอบตลาดเมืองเพชรฯ    \n19  ด้วยขบวนรถซาเล้งรอบตลาดเมืองเพชรฯ  เต็มไปด้วยค...   \n20                                    รองหัวหน้าพรรค    \n21  เต็มไปด้วยความคึกครื้น  สร้างรอยยิ้มและสีสันได...   \n22                         คุณยุทธพล  รองหัวหน้าพรรค    \n23                 ด้วยขบวนรถซาเล้งรอบตลาดเมืองเพชรฯ    \n24                       รองหัวหน้าพรรค  และผู้สมัคร    \n25                            เต็มไปด้วยความคึกครื้น    \n26                                         คุณยุทธพล    \n27                            หัวหน้าพรรค  คุณยุทธพล    \n28                             ศิลปอาชา  หัวหน้าพรรค    \n29                                       หัวหน้าพรรค    \n\n                                        Topic 3 words  \\\n0            ประธานคณะกรรมการนโยบายและยุทธศาสตร์พรรค    \n1   ศิลปอาชา  ประธานคณะกรรมการนโยบายและยุทธศาสตร์พ...   \n2                                           ศิลปอาชา    \n3                                          เลือกตั้ง    \n4                                            จบปัญหา    \n5                                            คุณท็อป    \n6                                        หัวข้อดีเบต    \n7                            ศิลปอาชา  ในรายการดีเบต    \n8                           ในรายการดีเบต  เลือกตั้ง    \n9                               หัวข้อดีเบต  จบปัญหา    \n10                                     ในรายการดีเบต    \n11                            เลือกตั้ง  หัวข้อดีเบต    \n12                                 คุณท็อป  ศิลปอาชา    \n13                                   ทิศทางประเทศไทย    \n14                                          สิงหาปัด    \n15                         จากรายการพิเศษ  เลือกตั้ง    \n16                        เลือกตั้ง  ทิศทางประเทศไทย    \n17                                          ตอบคำถาม    \n18              นโยบายการแก้ไขปัญหาฝุ่นละอองขนาดเล็ก    \n19    ตอบคำถาม  นโยบายการแก้ไขปัญหาฝุ่นละอองขนาดเล็ก    \n20  นโยบายการแก้ไขปัญหาฝุ่นละอองขนาดเล็ก  จากรายกา...   \n21                                ศิลปอาชา  ตอบคำถาม    \n22                         ทิศทางประเทศไทย  สิงหาปัด    \n23                                    จากรายการพิเศษ    \n24  พร้อมคณะพรรคชาติไทยพัฒนา  และพบปะพี่น้องบริเวณ...   \n25                            เต็มไปด้วยความคึกครื้น    \n26            ขอนแก่น  ไหว้ศาลหลักเมืองเอาฤกษ์เอาชัย    \n27                         หัวหน้าพรรค  และคุณวราวุธ    \n28  เพื่อสร้างความมั่นใจให้พี่น้องชาวสุพรรณฯ  อีกค...   \n29                                  เวทีดีเบตโซเชียล    \n\n                                        Topic 4 words  \\\n0            เต็มไปด้วยความอบอุ่น  จากพี่น้องประชาชน    \n1                                  จากพี่น้องประชาชน    \n2                                 บรรยากาศการปราศรัย    \n3                จากพี่น้องประชาชน  พรรคชาติไทยพัฒนา    \n4                               เต็มไปด้วยความอบอุ่น    \n5                                   พรรคชาติไทยพัฒนา    \n6                   ตลาดศรีนคร  เต็มไปด้วยความอบอุ่น    \n7                     บรรยากาศการปราศรัย  ตลาดศรีนคร    \n8                 ลงพื้นที่หาเสียง  ไหว้ศาลหลักเมือง    \n9                                ที่จังหวัดสมุทรสาคร    \n10                                  ลงพื้นที่หาเสียง    \n11                เอาฤกษ์เอาชัย  ที่จังหวัดสมุทรสาคร    \n12                   ไหว้ศาลหลักเมือง  เอาฤกษ์เอาชัย    \n13                  ศิลปอาชา  และคณะพรรคชาติไทยพัฒนา    \n14                                  ไหว้ศาลหลักเมือง    \n15                                     เอาฤกษ์เอาชัย    \n16          และคณะพรรคชาติไทยพัฒนา  ลงพื้นที่หาเสียง    \n17                                        ตลาดศรีนคร    \n18                     ฝั่งแดง  เต็มไปด้วยความอบอุ่น    \n19                                           ฝั่งแดง    \n20                                        บ้านโนนงาม    \n21       ศูนย์กสิกรรมธรรมชาติน้ำเพียงดิน  บ้านโนนงาม    \n22                   ศูนย์กสิกรรมธรรมชาติน้ำเพียงดิน    \n23                               บ้านโนนงาม  ฝั่งแดง    \n24  บรรยากาศการปราศรัย  ศูนย์กสิกรรมธรรมชาติน้ำเพี...   \n25                    ในหัวข้อดีเบต  ทลายกรอบเพศสภาพ    \n26  ปัตตพงศ์ภัช  รองเลขาธิการและโฆษกด้านสังคมพรรคช...   \n27                                        thairathtv    \n28                      เวทีดีเบตโซเชียล  thairathtv    \n29                             thairathtv  เป็นต้นไป    \n\n                                        Topic 5 words  \n0                                            อัพเดรต   \n1           หมายเลขผู้สมัครพรรคชาติไทยพัฒนา  อัพเดรต   \n2                    หมายเลขผู้สมัครพรรคชาติไทยพัฒนา   \n3                                          คุณกัญจนา   \n4                                    ลุยศึกเลือกตั้ง   \n5                    ลุยศึกเลือกตั้ง  เจาะลึกทั่วไทย   \n6                                     ถอดรหัสแท็กติก   \n7                    ถอดรหัสแท็กติก  ลุยศึกเลือกตั้ง   \n8                                     เจาะลึกทั่วไทย   \n9                                    ด้วยรอยยิ้มสดใส   \n10     เพื่อรับฟังปัญหาและพบประชาชน  ด้วยรอยยิ้มสดใส   \n11                           และความตั้งใจเต็มเปี่ยม   \n12          ด้วยรอยยิ้มสดใส  และความตั้งใจเต็มเปี่ยม   \n13         หัวหน้าพรรค  เพื่อรับฟังปัญหาและพบประชาชน   \n14                      เพื่อรับฟังปัญหาและพบประชาชน   \n15              สมุทรสงคราม  แวะไหว้พระเอาฤกษ์เอาชัย   \n16                          ที่วัดหลักสี่ราษฎร์สโมสร   \n17                                       สมุทรสงคราม   \n18                 คุณกัญจนา  และคณะพรรคชาติไทยพัฒนา   \n19               และคณะพรรคชาติไทยพัฒนา  สมุทรสงคราม   \n20                           แวะไหว้พระเอาฤกษ์เอาชัย   \n21  แวะไหว้พระเอาฤกษ์เอาชัย  ที่วัดหลักสี่ราษฎร์สโ...  \n22                            คุณกัญจนา  หัวหน้าพรรค   \n23  คุณกัญจนา  ในระหว่างเดินพบปะเหล่าบรรดาพ่อค้าแม...  \n24  โดยได้พูดคุยกับหัวหน้าพรรคชาติไทยพัฒนาว่าอนาคต...  \n25  ได้มีนักเรียนเข้ามาขอลายเซ็นและขอถ่ายรูปด้วย  ...  \n26  ซึ่งคุณกัญจนา  ก็ได้อวยพรให้ประสบความสำเร็จในก...  \n27  ในระหว่างเดินพบปะเหล่าบรรดาพ่อค้าแม่ค้าในตลาดม...  \n28            ก็ได้อวยพรให้ประสบความสำเร็จในการเรียน   \n29                                     ซึ่งคุณกัญจนา   "
     },
     "metadata": {
      "transient": {}
     },
     "output_type": "display_data"
    },
    {
     "data": {
      "text/plain": "'party:democrat'"
     },
     "metadata": {
      "transient": {}
     },
     "output_type": "display_data"
    },
    {
     "data": {
      "text/html": "<div>\n<style scoped>\n    .dataframe tbody tr th:only-of-type {\n        vertical-align: middle;\n    }\n\n    .dataframe tbody tr th {\n        vertical-align: top;\n    }\n\n    .dataframe thead th {\n        text-align: right;\n    }\n</style>\n<table border=\"1\" class=\"dataframe\">\n  <thead>\n    <tr style=\"text-align: right;\">\n      <th></th>\n      <th>Topic 0 words</th>\n      <th>Topic 1 words</th>\n      <th>Topic 2 words</th>\n      <th>Topic 3 words</th>\n      <th>Topic 4 words</th>\n      <th>Topic 5 words</th>\n    </tr>\n  </thead>\n  <tbody>\n    <tr>\n      <th>0</th>\n      <td>เขตพญาไท  ตามวันเวลาที่ปรากฏ</td>\n      <td>dailynew</td>\n      <td>วังทองหลาง</td>\n      <td>มีผู้สมัครเอกสารไม่ครบ  เบอร์เลยเลื่อนเล็กน้อย...</td>\n      <td>นับตั้งแต่เวลา</td>\n      <td>รอติดตามกันได้นะครับ</td>\n    </tr>\n    <tr>\n      <th>1</th>\n      <td>ตามวันเวลาที่ปรากฏ</td>\n      <td>แบบแบ่งเขต</td>\n      <td>วังทองหลาง  วังทองหลาง</td>\n      <td>มีผู้สมัครเอกสารไม่ครบ</td>\n      <td>ด้วยนะครับ</td>\n      <td>ส่งเสียงประชาชน</td>\n    </tr>\n    <tr>\n      <th>2</th>\n      <td>เขตพญาไท</td>\n      <td>สำหรับผม</td>\n      <td>อยู่แถวไหนครับ</td>\n      <td>เบอร์เลยเลื่อนเล็กน้อยครับ</td>\n      <td>หาคำตอบได้ที่นี่ครับ</td>\n      <td>ด้วยครับ</td>\n    </tr>\n    <tr>\n      <th>3</th>\n      <td>ผลิตโดย</td>\n      <td>หมอเอ้ก  บางซื่อ</td>\n      <td>ล้วงกระเป๋า</td>\n      <td>ยกระดับคุณภาพชีวิตเราทุกคน</td>\n      <td>ได้ผ่านลิงก์นี้ครับ</td>\n      <td>ไม่ใช่การพูดฝ่ายเดียว</td>\n    </tr>\n    <tr>\n      <th>4</th>\n      <td>ผลิตโดย  เขตพญาไท</td>\n      <td>ชมเวอร์ชั่นเต็มได้ทาง</td>\n      <td>อ่านรายละเอียดเพิ่มเติมได้ใน</td>\n      <td>ชี้อนาคตประเทศไทย</td>\n      <td>บรรทัดฐาน</td>\n      <td>รวมไปจนถึงการวิพากษ์วิจารณ์ซึ่งกันและกัน  ซึ่ง...</td>\n    </tr>\n    <tr>\n      <th>5</th>\n      <td>เผยแพร่ซ้ำโดย</td>\n      <td>หมอเอ้ก</td>\n      <td>เฉพาะแขวงพลับพลา</td>\n      <td>ตะวันออก</td>\n      <td>ติดตามกันได้ผ่าน</td>\n      <td>รวมไปจนถึงการวิพากษ์วิจารณ์ซึ่งกันและกัน</td>\n    </tr>\n    <tr>\n      <th>6</th>\n      <td>เผยแพร่ซ้ำโดย  เขตพญาไท</td>\n      <td>แต่ไม่เป็นไร</td>\n      <td>วังทองหลาง  เฉพาะแขวงพลับพลา</td>\n      <td>เป็นต้นไป</td>\n      <td>ขอบคุณครับ</td>\n      <td>วังทองหลาง</td>\n    </tr>\n    <tr>\n      <th>7</th>\n      <td>หรือคลิ๊ก</td>\n      <td>เพราะการดีเบตเป็นการสื่อสารที่ทำให้ผู้มีสิทธิ์...</td>\n      <td>สำหรับผู้ที่มีทะเบียนบ้านใน  กรุงเทพฯ</td>\n      <td>อาจไม่ได้ง่ายสำหรับคนรุ่นก่อน  พอเรานำเทคโนโลย...</td>\n      <td>วังทองหลาง  บรรทัดฐาน</td>\n      <td>เพราะการพัฒนาประเทศมีหลายปัจจัยที่เราอาจจะควบค...</td>\n    </tr>\n    <tr>\n      <th>8</th>\n      <td>ผลิตและเผยแพร่ซ้ำโดย  เขตพญาไท</td>\n      <td>เพื่อนำมาพิจารณาประกอบการตัดสินใจตามระบอบประชา...</td>\n      <td>สำหรับผู้ที่มีทะเบียนบ้านใน</td>\n      <td>หนึ่งในคนรุ่นใหม่วัย  ซึ่งมีน้าอย่าง</td>\n      <td>เวชชาชีวะ</td>\n      <td>เพราะการพัฒนาประเทศมีหลายปัจจัยที่เราอาจจะควบค...</td>\n    </tr>\n    <tr>\n      <th>9</th>\n      <td>ผลิตและเผยแพร่ซ้ำโดย</td>\n      <td>เพราะการดีเบตเป็นการสื่อสารที่ทำให้ผู้มีสิทธิ์...</td>\n      <td>กรุงเทพฯ  วังทองหลาง</td>\n      <td>อาจไม่ได้ง่ายสำหรับคนรุ่นก่อน</td>\n      <td>วังทองหลาง</td>\n      <td>วังทองหลาง  คือความมุ่งมั่นที่ผมมีตั้งแต่เด็กท...</td>\n    </tr>\n    <tr>\n      <th>10</th>\n      <td>เวชชาชีวะ</td>\n      <td>วันแรกก็โดนซะแล้วครับ  แต่ไม่เป็นไร</td>\n      <td>กรุงเทพฯ</td>\n      <td>หนึ่งในคนรุ่นใหม่วัย</td>\n      <td>เป็นไปตามระเบียบของ  เลยครับ</td>\n      <td>facebook</td>\n    </tr>\n    <tr>\n      <th>11</th>\n      <td>ขอบคุณครับ</td>\n      <td>สำหรับผม  การขึ้นเวทีเพื่อดีเบตถือเป็นสิ่งสำคัญ</td>\n      <td>อย่าท้อ  ให้คนตัวเล็กๆคนนี้เข้ามาสร้างความเปลี...</td>\n      <td>สู้สุดชีวิตมุ่งสู่สภา</td>\n      <td>เลยครับ</td>\n      <td>แต่มันก็คือความงดงามทางความคิด</td>\n    </tr>\n    <tr>\n      <th>12</th>\n      <td>แขวงพญาไท</td>\n      <td>สู้ต่อไปครับ</td>\n      <td>ให้คนตัวเล็กๆคนนี้เข้ามาสร้างความเปลี่ยนแปลงที...</td>\n      <td>สู้สุดชีวิตมุ่งสู่สภา  คลองจั่น</td>\n      <td>เป็นไปตามระเบียบของ</td>\n      <td>แต่มันก็คือความงดงามทางความคิด  ผลิตโดย</td>\n    </tr>\n    <tr>\n      <th>13</th>\n      <td>แขวงพญาไท  เขตพญาไท</td>\n      <td>วันแรกก็โดนซะแล้วครับ</td>\n      <td>อย่าท้อ</td>\n      <td>เพราะเป็นเส้นทางที่สามารถเข้าถึงและใกล้ชิดกับป...</td>\n      <td>เวชชาชีวะ  แต่มีอย่างนึงนะครับที่ผมทำก่อนเขา</td>\n      <td>แลกเปลี่ยนความคิดเห็น  จะเหมือนบ้างต่างบ้าง</td>\n    </tr>\n    <tr>\n      <th>14</th>\n      <td>ผลิตโดย  เวชชาชีวะ</td>\n      <td>แต่ไม่เป็นไร  สู้ต่อไปครับ</td>\n      <td>หรือคลิ๊ก</td>\n      <td>และทีมทำพื้นที่นี้ได้ดีและหนักมากแค่ไหน</td>\n      <td>แต่มีอย่างนึงนะครับที่ผมทำก่อนเขา  ถ้าอยากรู้ว...</td>\n      <td>แลกเปลี่ยนความคิดเห็น</td>\n    </tr>\n    <tr>\n      <th>15</th>\n      <td>เขตพญาไท  กรุงเทพมหานคร</td>\n      <td>หน้าครับ</td>\n      <td>และพรรค</td>\n      <td>และในท้ายที่สุดยังทำให้เข้าใจถึงปัญหาของพี่น้อ...</td>\n      <td>แต่มีอย่างนึงนะครับที่ผมทำก่อนเขา</td>\n      <td>มีหลายคนถามผมว่า</td>\n    </tr>\n    <tr>\n      <th>16</th>\n      <td>กรุงเทพมหานคร</td>\n      <td>แล้วเจอกันใน</td>\n      <td>และพรรค  facebook</td>\n      <td>และทีมทำพื้นที่นี้ได้ดีและหนักมากแค่ไหน  ก็วิ่...</td>\n      <td>อนาคตปากท้องคนไทย  ผ่านช่องทาง</td>\n      <td>มีหลายคนถามผมว่า  บทเรียนที่สำคัญที่สุดที่ผมได...</td>\n    </tr>\n    <tr>\n      <th>17</th>\n      <td>เพิ่มเติมได้ผ่าน  หรือคลิ๊ก</td>\n      <td>หน้าครับ  ติดตามผมต่อได้ใน</td>\n      <td>ศึกชิงหัวใจคนกรุงเทพฯ</td>\n      <td>พี่น้องที่กำลังเดินทาง</td>\n      <td>อนาคตปากท้องคนไทย</td>\n      <td>จุดเริ่มต้นของชีวิตบนเส้นทางการเมืองควรเริ่มต้...</td>\n    </tr>\n    <tr>\n      <th>18</th>\n      <td>เพิ่มเติมได้ผ่าน</td>\n      <td>อยากเห็นมุมไหนของพริษฐ์กันอีกบ้าง</td>\n      <td>โค้งสุดท้ายก่อนการเลือกตั้ง</td>\n      <td>วันนี้ผมและทีมยังคงลุยลงพื้นที่ท่ามกลางสายฝนอย...</td>\n      <td>รับชมไลฟ์ถ่ายทอดสด</td>\n      <td>เวชชาชีวะ  คืออะไร</td>\n    </tr>\n    <tr>\n      <th>19</th>\n      <td>หรือคลิ๊ก  ผลิตโดย</td>\n      <td>แล้วเจอกันใน  หน้าครับ</td>\n      <td>ศึกชิงหัวใจคนกรุงเทพฯ  ผู้แทนรุ่นใหม่จาก</td>\n      <td>เพราะเป็นเส้นทางที่สามารถเข้าถึงและใกล้ชิดกับป...</td>\n      <td>เริ่มต้นเวลา</td>\n      <td>จาติกวณิช</td>\n    </tr>\n    <tr>\n      <th>20</th>\n      <td>headlin</td>\n      <td>อยากเห็นมุมไหนของพริษฐ์กันอีกบ้าง  แล้วเจอกันใน</td>\n      <td>อย่าลืมติดตามกันนะครับ</td>\n      <td>วันนี้ผมและทีมยังคงลุยลงพื้นที่ท่ามกลางสายฝนอย...</td>\n      <td>รับชมไลฟ์ถ่ายทอดสด  การปราศรัยครั้งประวัติศาสต...</td>\n      <td>จีบหนูหน่อย</td>\n    </tr>\n    <tr>\n      <th>21</th>\n      <td>เวชชาชีวะ  ตามวันเวลาที่ปรากฏ</td>\n      <td>จากความชอบในการเป็นผู้แทน</td>\n      <td>โค้งสุดท้ายก่อนการเลือกตั้ง  ผ่านช่องทาง</td>\n      <td>แล้วยังพูดต่ออีกว่า</td>\n      <td>และการศึกษาในรายการ  มิติโลก</td>\n      <td>วังทองหลางนั้น  ผมและทีมขอใช้พื้นที่นี้เป็นสื่...</td>\n    </tr>\n    <tr>\n      <th>22</th>\n      <td>ผลิตโดย  แขวงพญาไท</td>\n      <td>และผมขึ้นปราศรัยเวลา</td>\n      <td>จากการให้สัมภาษณ์ครั้งแรกในชีวิต</td>\n      <td>วังทองหลาง</td>\n      <td>สามารถแก้ไขได้ผ่านแนวทาง  แต่ทว่าสิ่งที่ทำได้ก...</td>\n      <td>มีคนหนึ่งครับที่ต่อสู้มาด้วยกันตลอด  วังทองหลา...</td>\n    </tr>\n    <tr>\n      <th>23</th>\n      <td>วังทองหลาง</td>\n      <td>สองตัวนี้มันมาบวกกันว่า</td>\n      <td>โดยนำความรู้จากการที่ไปเรียนที่อังกฤษมาใช้พัฒน...</td>\n      <td>เข้ามาดูแลกันต่อนะ</td>\n      <td>แต่ทว่าสิ่งที่ทำได้ก็คือ</td>\n      <td>โคตรคูล</td>\n    </tr>\n    <tr>\n      <th>24</th>\n      <td>กรุงเทพมหานคร  ตามวันเวลาที่ปรากฏ</td>\n      <td>จุดเริ่มต้นเส้นทางชีวิตทางการเมืองของผม</td>\n      <td>แต่ผมอยากพัฒนาประเทศไทย  โดยนำความรู้จากการที่...</td>\n      <td>เหมือนที่พี่ทำมาตลอด</td>\n      <td>และการศึกษาในรายการ</td>\n      <td>วังทองหลางนั้น</td>\n    </tr>\n    <tr>\n      <th>25</th>\n      <td>บัญชีรายชื่อ</td>\n      <td>สองตัวนี้มันมาบวกกันว่า  เส้นทางที่ผมอยากจะเดิ...</td>\n      <td>จากการให้สัมภาษณ์ครั้งแรกในชีวิต  ไอติมอยากทำง...</td>\n      <td>เข้ามาดูแลกันต่อนะ  ผมอึ้งไปกับประโยคนี้ด้วยคว...</td>\n      <td>มิติโลก  special</td>\n      <td>จากทีมแฟลตคลองจั่น  และผมทีมเอื้ออาทรบึงกุ่ม</td>\n    </tr>\n    <tr>\n      <th>26</th>\n      <td>บัญชีรายชื่อ  ผลิตโดย</td>\n      <td>ลานคนเมือง  ร่วมผนึกกำลัง</td>\n      <td>แต่ผมอยากพัฒนาประเทศไทย</td>\n      <td>เหมือนที่พี่ทำมาตลอด  วังทองหลางครับ</td>\n      <td>แต่ทว่าสิ่งที่ทำได้ก็คือ  การคืนพื้นที่ถนนที่ถ...</td>\n      <td>และความมุ่งมั่นที่เขามีให้กันเสมอมาครับ</td>\n    </tr>\n    <tr>\n      <th>27</th>\n      <td>ขอบคุณครับ  ผลิตโดย</td>\n      <td>จากความชอบในการเป็นผู้แทน  ผนวกกับความต้องการท...</td>\n      <td>ผ่านช่องทาง</td>\n      <td>แก้ไขปัญหาเศรษฐกิจ</td>\n      <td>มิติโลก</td>\n      <td>จีบหนูหน่อย  present</td>\n    </tr>\n    <tr>\n      <th>28</th>\n      <td>มาร่วมพูดคุยกับผม  ผู้สมัคร</td>\n      <td>ลานคนเมือง</td>\n      <td>dailynew</td>\n      <td>และมีผลงานที่ชัดเจน</td>\n      <td>ผ่านช่องทาง</td>\n      <td>เมื่อวานเย็นได้มีโอกาสดวลฝีเท้ากับ</td>\n    </tr>\n    <tr>\n      <th>29</th>\n      <td>ผลิตโดย  ตามวันเวลาที่ปรากฏ</td>\n      <td>เส้นทางที่ผมอยากจะเดินนั้นคือ  ติดตามผ่านลิงก์...</td>\n      <td>แต่เป็นการให้ข้อมูลกับประชาชนว่า</td>\n      <td>แก้ไขปัญหาเศรษฐกิจ  สร้างคน</td>\n      <td>สามารถแก้ไขได้ผ่านแนวทาง</td>\n      <td>และผมทีมเอื้ออาทรบึงกุ่ม</td>\n    </tr>\n  </tbody>\n</table>\n</div>",
      "text/plain": "                         Topic 0 words  \\\n0        เขตพญาไท  ตามวันเวลาที่ปรากฏ    \n1                  ตามวันเวลาที่ปรากฏ    \n2                            เขตพญาไท    \n3                             ผลิตโดย    \n4                   ผลิตโดย  เขตพญาไท    \n5                       เผยแพร่ซ้ำโดย    \n6             เผยแพร่ซ้ำโดย  เขตพญาไท    \n7                           หรือคลิ๊ก    \n8      ผลิตและเผยแพร่ซ้ำโดย  เขตพญาไท    \n9                ผลิตและเผยแพร่ซ้ำโดย    \n10                          เวชชาชีวะ    \n11                         ขอบคุณครับ    \n12                          แขวงพญาไท    \n13                แขวงพญาไท  เขตพญาไท    \n14                 ผลิตโดย  เวชชาชีวะ    \n15            เขตพญาไท  กรุงเทพมหานคร    \n16                      กรุงเทพมหานคร    \n17        เพิ่มเติมได้ผ่าน  หรือคลิ๊ก    \n18                   เพิ่มเติมได้ผ่าน    \n19                 หรือคลิ๊ก  ผลิตโดย    \n20                            headlin    \n21      เวชชาชีวะ  ตามวันเวลาที่ปรากฏ    \n22                 ผลิตโดย  แขวงพญาไท    \n23                         วังทองหลาง    \n24  กรุงเทพมหานคร  ตามวันเวลาที่ปรากฏ    \n25                       บัญชีรายชื่อ    \n26              บัญชีรายชื่อ  ผลิตโดย    \n27                ขอบคุณครับ  ผลิตโดย    \n28        มาร่วมพูดคุยกับผม  ผู้สมัคร    \n29        ผลิตโดย  ตามวันเวลาที่ปรากฏ    \n\n                                        Topic 1 words  \\\n0                                           dailynew    \n1                                         แบบแบ่งเขต    \n2                                           สำหรับผม    \n3                                   หมอเอ้ก  บางซื่อ    \n4                              ชมเวอร์ชั่นเต็มได้ทาง    \n5                                            หมอเอ้ก    \n6                                       แต่ไม่เป็นไร    \n7   เพราะการดีเบตเป็นการสื่อสารที่ทำให้ผู้มีสิทธิ์...   \n8   เพื่อนำมาพิจารณาประกอบการตัดสินใจตามระบอบประชา...   \n9   เพราะการดีเบตเป็นการสื่อสารที่ทำให้ผู้มีสิทธิ์...   \n10               วันแรกก็โดนซะแล้วครับ  แต่ไม่เป็นไร    \n11   สำหรับผม  การขึ้นเวทีเพื่อดีเบตถือเป็นสิ่งสำคัญ    \n12                                      สู้ต่อไปครับ    \n13                             วันแรกก็โดนซะแล้วครับ    \n14                        แต่ไม่เป็นไร  สู้ต่อไปครับ    \n15                                          หน้าครับ    \n16                                      แล้วเจอกันใน    \n17                        หน้าครับ  ติดตามผมต่อได้ใน    \n18                 อยากเห็นมุมไหนของพริษฐ์กันอีกบ้าง    \n19                            แล้วเจอกันใน  หน้าครับ    \n20   อยากเห็นมุมไหนของพริษฐ์กันอีกบ้าง  แล้วเจอกันใน    \n21                         จากความชอบในการเป็นผู้แทน    \n22                              และผมขึ้นปราศรัยเวลา    \n23                           สองตัวนี้มันมาบวกกันว่า    \n24           จุดเริ่มต้นเส้นทางชีวิตทางการเมืองของผม    \n25  สองตัวนี้มันมาบวกกันว่า  เส้นทางที่ผมอยากจะเดิ...   \n26                         ลานคนเมือง  ร่วมผนึกกำลัง    \n27  จากความชอบในการเป็นผู้แทน  ผนวกกับความต้องการท...   \n28                                        ลานคนเมือง    \n29  เส้นทางที่ผมอยากจะเดินนั้นคือ  ติดตามผ่านลิงก์...   \n\n                                        Topic 2 words  \\\n0                                         วังทองหลาง    \n1                             วังทองหลาง  วังทองหลาง    \n2                                     อยู่แถวไหนครับ    \n3                                        ล้วงกระเป๋า    \n4                       อ่านรายละเอียดเพิ่มเติมได้ใน    \n5                                   เฉพาะแขวงพลับพลา    \n6                       วังทองหลาง  เฉพาะแขวงพลับพลา    \n7              สำหรับผู้ที่มีทะเบียนบ้านใน  กรุงเทพฯ    \n8                        สำหรับผู้ที่มีทะเบียนบ้านใน    \n9                               กรุงเทพฯ  วังทองหลาง    \n10                                          กรุงเทพฯ    \n11  อย่าท้อ  ให้คนตัวเล็กๆคนนี้เข้ามาสร้างความเปลี...   \n12  ให้คนตัวเล็กๆคนนี้เข้ามาสร้างความเปลี่ยนแปลงที...   \n13                                           อย่าท้อ    \n14                                         หรือคลิ๊ก    \n15                                           และพรรค    \n16                                 และพรรค  facebook    \n17                             ศึกชิงหัวใจคนกรุงเทพฯ    \n18                       โค้งสุดท้ายก่อนการเลือกตั้ง    \n19          ศึกชิงหัวใจคนกรุงเทพฯ  ผู้แทนรุ่นใหม่จาก    \n20                            อย่าลืมติดตามกันนะครับ    \n21          โค้งสุดท้ายก่อนการเลือกตั้ง  ผ่านช่องทาง    \n22                  จากการให้สัมภาษณ์ครั้งแรกในชีวิต    \n23  โดยนำความรู้จากการที่ไปเรียนที่อังกฤษมาใช้พัฒน...   \n24  แต่ผมอยากพัฒนาประเทศไทย  โดยนำความรู้จากการที่...   \n25  จากการให้สัมภาษณ์ครั้งแรกในชีวิต  ไอติมอยากทำง...   \n26                           แต่ผมอยากพัฒนาประเทศไทย    \n27                                       ผ่านช่องทาง    \n28                                          dailynew    \n29                  แต่เป็นการให้ข้อมูลกับประชาชนว่า    \n\n                                        Topic 3 words  \\\n0   มีผู้สมัครเอกสารไม่ครบ  เบอร์เลยเลื่อนเล็กน้อย...   \n1                             มีผู้สมัครเอกสารไม่ครบ    \n2                         เบอร์เลยเลื่อนเล็กน้อยครับ    \n3                         ยกระดับคุณภาพชีวิตเราทุกคน    \n4                                  ชี้อนาคตประเทศไทย    \n5                                           ตะวันออก    \n6                                          เป็นต้นไป    \n7   อาจไม่ได้ง่ายสำหรับคนรุ่นก่อน  พอเรานำเทคโนโลย...   \n8               หนึ่งในคนรุ่นใหม่วัย  ซึ่งมีน้าอย่าง    \n9                      อาจไม่ได้ง่ายสำหรับคนรุ่นก่อน    \n10                              หนึ่งในคนรุ่นใหม่วัย    \n11                             สู้สุดชีวิตมุ่งสู่สภา    \n12                   สู้สุดชีวิตมุ่งสู่สภา  คลองจั่น    \n13  เพราะเป็นเส้นทางที่สามารถเข้าถึงและใกล้ชิดกับป...   \n14           และทีมทำพื้นที่นี้ได้ดีและหนักมากแค่ไหน    \n15  และในท้ายที่สุดยังทำให้เข้าใจถึงปัญหาของพี่น้อ...   \n16  และทีมทำพื้นที่นี้ได้ดีและหนักมากแค่ไหน  ก็วิ่...   \n17                            พี่น้องที่กำลังเดินทาง    \n18  วันนี้ผมและทีมยังคงลุยลงพื้นที่ท่ามกลางสายฝนอย...   \n19  เพราะเป็นเส้นทางที่สามารถเข้าถึงและใกล้ชิดกับป...   \n20  วันนี้ผมและทีมยังคงลุยลงพื้นที่ท่ามกลางสายฝนอย...   \n21                               แล้วยังพูดต่ออีกว่า    \n22                                        วังทองหลาง    \n23                                เข้ามาดูแลกันต่อนะ    \n24                              เหมือนที่พี่ทำมาตลอด    \n25  เข้ามาดูแลกันต่อนะ  ผมอึ้งไปกับประโยคนี้ด้วยคว...   \n26              เหมือนที่พี่ทำมาตลอด  วังทองหลางครับ    \n27                                แก้ไขปัญหาเศรษฐกิจ    \n28                               และมีผลงานที่ชัดเจน    \n29                       แก้ไขปัญหาเศรษฐกิจ  สร้างคน    \n\n                                        Topic 4 words  \\\n0                                     นับตั้งแต่เวลา    \n1                                         ด้วยนะครับ    \n2                               หาคำตอบได้ที่นี่ครับ    \n3                                ได้ผ่านลิงก์นี้ครับ    \n4                                          บรรทัดฐาน    \n5                                   ติดตามกันได้ผ่าน    \n6                                         ขอบคุณครับ    \n7                              วังทองหลาง  บรรทัดฐาน    \n8                                          เวชชาชีวะ    \n9                                         วังทองหลาง    \n10                      เป็นไปตามระเบียบของ  เลยครับ    \n11                                           เลยครับ    \n12                               เป็นไปตามระเบียบของ    \n13      เวชชาชีวะ  แต่มีอย่างนึงนะครับที่ผมทำก่อนเขา    \n14  แต่มีอย่างนึงนะครับที่ผมทำก่อนเขา  ถ้าอยากรู้ว...   \n15                 แต่มีอย่างนึงนะครับที่ผมทำก่อนเขา    \n16                    อนาคตปากท้องคนไทย  ผ่านช่องทาง    \n17                                 อนาคตปากท้องคนไทย    \n18                                รับชมไลฟ์ถ่ายทอดสด    \n19                                      เริ่มต้นเวลา    \n20  รับชมไลฟ์ถ่ายทอดสด  การปราศรัยครั้งประวัติศาสต...   \n21                      และการศึกษาในรายการ  มิติโลก    \n22  สามารถแก้ไขได้ผ่านแนวทาง  แต่ทว่าสิ่งที่ทำได้ก...   \n23                          แต่ทว่าสิ่งที่ทำได้ก็คือ    \n24                               และการศึกษาในรายการ    \n25                                  มิติโลก  special    \n26  แต่ทว่าสิ่งที่ทำได้ก็คือ  การคืนพื้นที่ถนนที่ถ...   \n27                                           มิติโลก    \n28                                       ผ่านช่องทาง    \n29                          สามารถแก้ไขได้ผ่านแนวทาง    \n\n                                        Topic 5 words  \n0                               รอติดตามกันได้นะครับ   \n1                                    ส่งเสียงประชาชน   \n2                                           ด้วยครับ   \n3                              ไม่ใช่การพูดฝ่ายเดียว   \n4   รวมไปจนถึงการวิพากษ์วิจารณ์ซึ่งกันและกัน  ซึ่ง...  \n5           รวมไปจนถึงการวิพากษ์วิจารณ์ซึ่งกันและกัน   \n6                                         วังทองหลาง   \n7   เพราะการพัฒนาประเทศมีหลายปัจจัยที่เราอาจจะควบค...  \n8   เพราะการพัฒนาประเทศมีหลายปัจจัยที่เราอาจจะควบค...  \n9   วังทองหลาง  คือความมุ่งมั่นที่ผมมีตั้งแต่เด็กท...  \n10                                          facebook   \n11                    แต่มันก็คือความงดงามทางความคิด   \n12           แต่มันก็คือความงดงามทางความคิด  ผลิตโดย   \n13       แลกเปลี่ยนความคิดเห็น  จะเหมือนบ้างต่างบ้าง   \n14                             แลกเปลี่ยนความคิดเห็น   \n15                                  มีหลายคนถามผมว่า   \n16  มีหลายคนถามผมว่า  บทเรียนที่สำคัญที่สุดที่ผมได...  \n17  จุดเริ่มต้นของชีวิตบนเส้นทางการเมืองควรเริ่มต้...  \n18                                เวชชาชีวะ  คืออะไร   \n19                                         จาติกวณิช   \n20                                       จีบหนูหน่อย   \n21  วังทองหลางนั้น  ผมและทีมขอใช้พื้นที่นี้เป็นสื่...  \n22  มีคนหนึ่งครับที่ต่อสู้มาด้วยกันตลอด  วังทองหลา...  \n23                                           โคตรคูล   \n24                                    วังทองหลางนั้น   \n25      จากทีมแฟลตคลองจั่น  และผมทีมเอื้ออาทรบึงกุ่ม   \n26           และความมุ่งมั่นที่เขามีให้กันเสมอมาครับ   \n27                              จีบหนูหน่อย  present   \n28                เมื่อวานเย็นได้มีโอกาสดวลฝีเท้ากับ   \n29                          และผมทีมเอื้ออาทรบึงกุ่ม   "
     },
     "metadata": {
      "transient": {}
     },
     "output_type": "display_data"
    },
    {
     "data": {
      "text/plain": "'party:fwp'"
     },
     "metadata": {
      "transient": {}
     },
     "output_type": "display_data"
    },
    {
     "data": {
      "text/html": "<div>\n<style scoped>\n    .dataframe tbody tr th:only-of-type {\n        vertical-align: middle;\n    }\n\n    .dataframe tbody tr th {\n        vertical-align: top;\n    }\n\n    .dataframe thead th {\n        text-align: right;\n    }\n</style>\n<table border=\"1\" class=\"dataframe\">\n  <thead>\n    <tr style=\"text-align: right;\">\n      <th></th>\n      <th>Topic 0 words</th>\n      <th>Topic 1 words</th>\n      <th>Topic 2 words</th>\n      <th>Topic 3 words</th>\n      <th>Topic 4 words</th>\n      <th>Topic 5 words</th>\n    </tr>\n  </thead>\n  <tbody>\n    <tr>\n      <th>0</th>\n      <td>ผู้สมัคร</td>\n      <td>facebook</td>\n      <td>เป็นต้นไป</td>\n      <td>หมอเก่ง</td>\n      <td>ตามวันเวลาที่ปรากฏ</td>\n      <td>จึงรุ่งเรืองกิจ</td>\n    </tr>\n    <tr>\n      <th>1</th>\n      <td>standard</td>\n      <td>ปิยบุตร</td>\n      <td>ปีที่ผ่านมา</td>\n      <td>พรรคการเมือง</td>\n      <td>พรรคเพื่อไทย</td>\n      <td>ตันสกุล</td>\n    </tr>\n    <tr>\n      <th>2</th>\n      <td>นราธิวาส</td>\n      <td>จอมขวัญ</td>\n      <td>workpoint</td>\n      <td>จุลเจิม</td>\n      <td>กรุงเทพฯ</td>\n      <td>ศิริกัญญา</td>\n    </tr>\n    <tr>\n      <th>3</th>\n      <td>วรรณวิภา</td>\n      <td>อ่านแถลงการณ์ฉบับเต็มของพรรค</td>\n      <td>มาเป็นอาสาสมัครรณรงค์และสังเกตการณ์การเลือกตั้...</td>\n      <td>ชมสดกันครับ</td>\n      <td>กรุงเทพฯ  ตามวันเวลาที่ปรากฏ</td>\n      <td>ศิริกัญญา  ตันสกุล</td>\n    </tr>\n    <tr>\n      <th>4</th>\n      <td>มาแล้วครับ</td>\n      <td>ชมสดคลิก</td>\n      <td>รับสมัคร  มาเป็นอาสาสมัครรณรงค์และสังเกตการณ์ก...</td>\n      <td>เปิดตัว</td>\n      <td>พรรคเพื่อไทย  เขตห้วยขวาง</td>\n      <td>แถลงกรณียุบพรรค</td>\n    </tr>\n    <tr>\n      <th>5</th>\n      <td>วันนี้มา</td>\n      <td>คลิปสั้นๆ</td>\n      <td>ไม่จำกัดจำนวน</td>\n      <td>ว่าที่ผู้สมัคร</td>\n      <td>เขตห้วยขวาง</td>\n      <td>จึงรุ่งเรืองกิจ  หัวหน้าพรรค</td>\n    </tr>\n    <tr>\n      <th>6</th>\n      <td>รายการพิเศษ</td>\n      <td>ติดตามชมถ่ายทอดสดกันได้เวลา</td>\n      <td>มาเป็นอาสาสมัครรณรงค์และสังเกตการณ์การเลือกตั้...</td>\n      <td>รายละเอียด</td>\n      <td>เขตห้วยขวาง  กรุงเทพฯ</td>\n      <td>หัวหน้าพรรค</td>\n    </tr>\n    <tr>\n      <th>7</th>\n      <td>facebook</td>\n      <td>ปิยบุตร  แสงกนกกุล</td>\n      <td>รับสมัคร</td>\n      <td>ห้ามพลาด</td>\n      <td>ผลิตโดย</td>\n      <td>เกษตรก้าวหน้า</td>\n    </tr>\n    <tr>\n      <th>8</th>\n      <td>บัญชีรายชื่อ</td>\n      <td>มาแล้วจ้า</td>\n      <td>วันนี้ยอมทีมจุฬาชนะบอล</td>\n      <td>กรุงเทพณ  ได้ที่ลิงค์นี่เลยค่ะ</td>\n      <td>ผลิตโดย  พรรคเพื่อไทย</td>\n      <td>facebook</td>\n    </tr>\n    <tr>\n      <th>9</th>\n      <td>ผู้สมัคร  บัญชีรายชื่อ</td>\n      <td>เปลี่ยนประเทศไทย</td>\n      <td>มาแน่ครับ</td>\n      <td>กรุงเทพณ</td>\n      <td>project</td>\n      <td>กลับไปเหมือนเดิม</td>\n    </tr>\n    <tr>\n      <th>10</th>\n      <td>ธัญญ์วาริน</td>\n      <td>แสงกนกกุล</td>\n      <td>วันนี้ยอมทีมจุฬาชนะบอล  ของพวกเรา</td>\n      <td>หมอเก่ง  อัศวรุ่งเรือง</td>\n      <td>ชมไลฟ์กันพร้อมกันได้เลย</td>\n      <td>พิษณุโลก</td>\n    </tr>\n    <tr>\n      <th>11</th>\n      <td>standard  facebook</td>\n      <td>อย่าลืม</td>\n      <td>สนามกีฬาไทย  ญี่ปุ่น</td>\n      <td>อัศวรุ่งเรือง</td>\n      <td>จันทร์โอชา</td>\n      <td>อย่าให้ประเทศไทย</td>\n    </tr>\n    <tr>\n      <th>12</th>\n      <td>ชมย้อนหลัง  ผู้สมัคร</td>\n      <td>หน้าจอไทยรัฐทีวีตอนนี้ครับ</td>\n      <td>สนามกีฬาไทย</td>\n      <td>facebook</td>\n      <td>อันดับแรก</td>\n      <td>อย่าให้ประเทศไทย  กลับไปเหมือนเดิม</td>\n    </tr>\n    <tr>\n      <th>13</th>\n      <td>ชมย้อนหลัง</td>\n      <td>ใครยังไม่ถึงให้รีบมาเลยจ้าา  รับรองสนุกมากแน่นอน</td>\n      <td>ญี่ปุ่น</td>\n      <td>ช่วยขนเก้าอี้เสริม</td>\n      <td>เขตทั่วประเทศ</td>\n      <td>ถ่ายทอดสดทางช่อง</td>\n    </tr>\n    <tr>\n      <th>14</th>\n      <td>มาแล้วครับ  ชมสดพร้อมกันได้เลย</td>\n      <td>ประตูเวทีปราศรัยเปิดแล้วนะ</td>\n      <td>นครราชสีมา</td>\n      <td>จึงรุ่งเรืองกิจ  ช่วยขนเก้าอี้เสริม</td>\n      <td>ความพิการไม่ใช่อุปสรรค</td>\n      <td>ติดตามชม</td>\n    </tr>\n    <tr>\n      <th>15</th>\n      <td>ชมสดพร้อมกันได้เลย</td>\n      <td>ประตูเวทีปราศรัยเปิดแล้วนะ  ใครยังไม่ถึงให้รีบ...</td>\n      <td>และผมขอประกาศว่าสุราษฎร์พร้อมแล้วสำหรับความเปล...</td>\n      <td>ช่วยขนเก้าอี้เสริม  งานเปิดตัว</td>\n      <td>เลือกอนาคตใหม่อย่าให้ประเทศไทยเหมือนเดิม  จึงร...</td>\n      <td>ผู้อำนวยการฝ่ายนโยบายพรรค</td>\n    </tr>\n    <tr>\n      <th>16</th>\n      <td>facebook  twitter</td>\n      <td>รับรองสนุกมากแน่นอน</td>\n      <td>ผมขอขอบคุณทุกคนสำหรับความอบอุ่นที่มีให้กัน</td>\n      <td>มั่งคั่งและยั่งยืน</td>\n      <td>ความพิการไม่ใช่อุปสรรค  ผู้สมัคร</td>\n      <td>ตันสกุล  ผู้อำนวยการฝ่ายนโยบายพรรค</td>\n    </tr>\n    <tr>\n      <th>17</th>\n      <td>twitter</td>\n      <td>ใครยังไม่ถึงให้รีบมาเลยจ้าา</td>\n      <td>สุดยอดครับ</td>\n      <td>รองโฆษก  และผู้สมัคร</td>\n      <td>เลือกอนาคตใหม่อย่าให้ประเทศไทยเหมือนเดิม</td>\n      <td>ระบุว่า</td>\n    </tr>\n    <tr>\n      <th>18</th>\n      <td>carpool</td>\n      <td>แสนล้านบาท</td>\n      <td>อย่าให้การเมืองเก่าทำให้ชีวิตเราเหมือนเดิม</td>\n      <td>รองโฆษก</td>\n      <td>ผู้สมัคร</td>\n      <td>เมื่อดูจบแล้วก็ช่วยกันคนละแรง  เพื่ออนาคตของพว...</td>\n    </tr>\n    <tr>\n      <th>19</th>\n      <td>ชมสดทาง</td>\n      <td>มาแล้วจ้า  เป็นต้นไปแนะนำเป็นอย่างยิ่งให้ใช้ขน...</td>\n      <td>และผมขอประกาศว่าสุราษฎร์พร้อมแล้วสำหรับความเปล...</td>\n      <td>และผู้สมัคร</td>\n      <td>วันนี้ผมไปศรีสะเกษ</td>\n      <td>ผมอยากให้เราดูคลิปนี้ให้จบ  เมื่อดูจบแล้วก็ช่ว...</td>\n    </tr>\n    <tr>\n      <th>20</th>\n      <td>ทางช่อง</td>\n      <td>เป็นต้นไปแนะนำเป็นอย่างยิ่งให้ใช้ขนส่งสาธารณะ</td>\n      <td>ผมขอขอบคุณทุกคนสำหรับความอบอุ่นที่มีให้กัน  แล...</td>\n      <td>มักจะมีการสาดโคลนกันหนักมาก</td>\n      <td>แวะดื่มกาแฟระหว่างเดินทางพร้อมหาอะไรอ่านไปเพลิ...</td>\n      <td>เพื่ออนาคตของพวกเราทุกคน</td>\n    </tr>\n    <tr>\n      <th>21</th>\n      <td>ท่านสามารถติดตาม  standard</td>\n      <td>ติดตามชมและให้กำลังใจผมได้ที่เวทีดีเบตโชว์วิสั...</td>\n      <td>สุดยอดครับ  ผมขอขอบคุณทุกคนสำหรับความอบอุ่นที่...</td>\n      <td>สำหรับผู้ที่เป็นผู้มีสิทธิเลือกตั้งครั้งแรก  แ...</td>\n      <td>แวะดื่มกาแฟระหว่างเดินทางพร้อมหาอะไรอ่านไปเพลินๆ</td>\n      <td>เมื่อดูจบแล้วก็ช่วยกันคนละแรง</td>\n    </tr>\n    <tr>\n      <th>22</th>\n      <td>สุพิศาล</td>\n      <td>เจอกันที่ช่อง</td>\n      <td>เพราะรถไฟเป็นสิ่งจำเป็นในการคมนาคมที่มีประสิทธ...</td>\n      <td>เมื่อวานที่นราธิวาส</td>\n      <td>วันนี้ผมไปศรีสะเกษ  แล้วเจอกันครับทุกท่าน</td>\n      <td>ผมอยากให้เราดูคลิปนี้ให้จบ</td>\n    </tr>\n    <tr>\n      <th>23</th>\n      <td>สุพิศาล  ภักดีนฤนาถ</td>\n      <td>พรรคอนาคตใหม่ยังมีที่ว่างให้ทุกท่านเสมอ</td>\n      <td>เกาะติดเลือกตั้ง</td>\n      <td>วันนี้ผมและทีมงานได้เสนอความเป็นไปได้และโอกาสแ...</td>\n      <td>บัญชีรายชื่อ</td>\n      <td>อยากให้ธนาธรใส่เสื้อตัวไหนไปงานบอลจุฬาฯ</td>\n    </tr>\n    <tr>\n      <th>24</th>\n      <td>ภักดีนฤนาถ</td>\n      <td>พรรคอนาคตใหม่ขอบอกว่าให้มาเถอะค่ะ  พรรคอนาคตให...</td>\n      <td>เกาะติดเลือกตั้ง  ฉากสุดท้าย</td>\n      <td>แต่ในช่วงโค้งสุดท้ายก่อนการเลือกตั้ง  มักจะมีก...</td>\n      <td>ลุกขึ้นมาเรียกร้องลุกขึ้นมาทำพร้อมกันเท่านั้น</td>\n      <td>สร้างอุตสาหกรรมเกษตรก้าวหน้า  สร้างระบบกรแปรรู...</td>\n    </tr>\n    <tr>\n      <th>25</th>\n      <td>ท่านสามารถติดตาม</td>\n      <td>พรรคอนาคตใหม่ขอบอกว่าให้มาเถอะค่ะ</td>\n      <td>สร้างอุตสาหกรรมรถไฟในประเทศ</td>\n      <td>อนาคตใหม่ไม่โกงใคร  นี่คือคู่มือการไปเลือกตั้ง...</td>\n      <td>จะเกิดขึ้นได้ก็ต่อเมื่อประชาชนทุกคนที่ต้องการก...</td>\n      <td>อยากให้ธนาธรใส่เสื้อตัวไหนไปงานบอลจุฬาฯ  ธนาธร...</td>\n    </tr>\n    <tr>\n      <th>26</th>\n      <td>อัศวรุ่งเรือง  ผู้สมัคร</td>\n      <td>ติดตามชมและให้กำลังใจผมได้ที่เวทีดีเบตโชว์วิสั...</td>\n      <td>และอุตสาหกรรมนี้จะสร้าง  แสนงานคุณภาพ</td>\n      <td>เมื่อวานที่นราธิวาส  ปัตตานีคนมาเยอะมากครับ</td>\n      <td>วันนี้เวลา</td>\n      <td>เศรษฐศาสตร์การเมือง</td>\n    </tr>\n    <tr>\n      <th>27</th>\n      <td>ทุกคนอดหลับอดนอนมาหลายเดือนเพื่อเดินตามความฝัน...</td>\n      <td>กระแสโจมตีทั้งหลายก็ยังคงมีความพยายามอย่างมาก</td>\n      <td>แสนงานคุณภาพ  โดยทั้งอุตสาหกรรมรถเมล์ไฟฟ้าและร...</td>\n      <td>ปัตตานีคนมาเยอะมากครับ  โมงเย็น</td>\n      <td>แถลงข่าว  กรณีศาลรัฐธรรมนูญมีคำวินิจฉัย</td>\n      <td>สัญญาแรกที่ธนาธรและพรรคอนาคตใหม่จะทำคือ  การสร...</td>\n    </tr>\n    <tr>\n      <th>28</th>\n      <td>ทุกท่านก็รีบมาร่วมงานกันนะครับ</td>\n      <td>ยังไงก็ขอขอบคุณที่ให้โอกาสผมในการตอบชัดๆอีกครั้ง</td>\n      <td>ฉากสุดท้าย  จะเป็นอย่างไร</td>\n      <td>แต่ในช่วงโค้งสุดท้ายก่อนการเลือกตั้ง</td>\n      <td>แถลงข่าว</td>\n      <td>ธนาธรเป็นศิษย์ของทั้งสองสถาบัน  วิศวกรรมเครื่อ...</td>\n    </tr>\n    <tr>\n      <th>29</th>\n      <td>ขอบคุณครับ  ทุกท่านก็รีบมาร่วมงานกันนะครับ</td>\n      <td>กระแสโจมตีทั้งหลายก็ยังคงมีความพยายามอย่างมาก ...</td>\n      <td>แสนงานคุณภาพ</td>\n      <td>นี่คือคู่มือการไปเลือกตั้งฉบับย่อ</td>\n      <td>จะเกิดขึ้นได้ก็ต่อเมื่อประชาชนทุกคนที่ต้องการก...</td>\n      <td>ธนาธรเป็นศิษย์ของทั้งสองสถาบัน</td>\n    </tr>\n  </tbody>\n</table>\n</div>",
      "text/plain": "                                        Topic 0 words  \\\n0                                           ผู้สมัคร    \n1                                           standard    \n2                                           นราธิวาส    \n3                                           วรรณวิภา    \n4                                         มาแล้วครับ    \n5                                           วันนี้มา    \n6                                        รายการพิเศษ    \n7                                           facebook    \n8                                       บัญชีรายชื่อ    \n9                             ผู้สมัคร  บัญชีรายชื่อ    \n10                                        ธัญญ์วาริน    \n11                                standard  facebook    \n12                              ชมย้อนหลัง  ผู้สมัคร    \n13                                        ชมย้อนหลัง    \n14                    มาแล้วครับ  ชมสดพร้อมกันได้เลย    \n15                                ชมสดพร้อมกันได้เลย    \n16                                 facebook  twitter    \n17                                           twitter    \n18                                           carpool    \n19                                           ชมสดทาง    \n20                                           ทางช่อง    \n21                        ท่านสามารถติดตาม  standard    \n22                                           สุพิศาล    \n23                               สุพิศาล  ภักดีนฤนาถ    \n24                                        ภักดีนฤนาถ    \n25                                  ท่านสามารถติดตาม    \n26                           อัศวรุ่งเรือง  ผู้สมัคร    \n27  ทุกคนอดหลับอดนอนมาหลายเดือนเพื่อเดินตามความฝัน...   \n28                    ทุกท่านก็รีบมาร่วมงานกันนะครับ    \n29        ขอบคุณครับ  ทุกท่านก็รีบมาร่วมงานกันนะครับ    \n\n                                        Topic 1 words  \\\n0                                           facebook    \n1                                            ปิยบุตร    \n2                                            จอมขวัญ    \n3                       อ่านแถลงการณ์ฉบับเต็มของพรรค    \n4                                           ชมสดคลิก    \n5                                          คลิปสั้นๆ    \n6                        ติดตามชมถ่ายทอดสดกันได้เวลา    \n7                                 ปิยบุตร  แสงกนกกุล    \n8                                          มาแล้วจ้า    \n9                                   เปลี่ยนประเทศไทย    \n10                                         แสงกนกกุล    \n11                                           อย่าลืม    \n12                        หน้าจอไทยรัฐทีวีตอนนี้ครับ    \n13  ใครยังไม่ถึงให้รีบมาเลยจ้าา  รับรองสนุกมากแน่นอน    \n14                        ประตูเวทีปราศรัยเปิดแล้วนะ    \n15  ประตูเวทีปราศรัยเปิดแล้วนะ  ใครยังไม่ถึงให้รีบ...   \n16                               รับรองสนุกมากแน่นอน    \n17                       ใครยังไม่ถึงให้รีบมาเลยจ้าา    \n18                                        แสนล้านบาท    \n19  มาแล้วจ้า  เป็นต้นไปแนะนำเป็นอย่างยิ่งให้ใช้ขน...   \n20     เป็นต้นไปแนะนำเป็นอย่างยิ่งให้ใช้ขนส่งสาธารณะ    \n21  ติดตามชมและให้กำลังใจผมได้ที่เวทีดีเบตโชว์วิสั...   \n22                                     เจอกันที่ช่อง    \n23           พรรคอนาคตใหม่ยังมีที่ว่างให้ทุกท่านเสมอ    \n24  พรรคอนาคตใหม่ขอบอกว่าให้มาเถอะค่ะ  พรรคอนาคตให...   \n25                 พรรคอนาคตใหม่ขอบอกว่าให้มาเถอะค่ะ    \n26  ติดตามชมและให้กำลังใจผมได้ที่เวทีดีเบตโชว์วิสั...   \n27     กระแสโจมตีทั้งหลายก็ยังคงมีความพยายามอย่างมาก    \n28  ยังไงก็ขอขอบคุณที่ให้โอกาสผมในการตอบชัดๆอีกครั้ง    \n29  กระแสโจมตีทั้งหลายก็ยังคงมีความพยายามอย่างมาก ...   \n\n                                        Topic 2 words  \\\n0                                          เป็นต้นไป    \n1                                        ปีที่ผ่านมา    \n2                                          workpoint    \n3   มาเป็นอาสาสมัครรณรงค์และสังเกตการณ์การเลือกตั้...   \n4   รับสมัคร  มาเป็นอาสาสมัครรณรงค์และสังเกตการณ์ก...   \n5                                      ไม่จำกัดจำนวน    \n6   มาเป็นอาสาสมัครรณรงค์และสังเกตการณ์การเลือกตั้...   \n7                                           รับสมัคร    \n8                             วันนี้ยอมทีมจุฬาชนะบอล    \n9                                          มาแน่ครับ    \n10                 วันนี้ยอมทีมจุฬาชนะบอล  ของพวกเรา    \n11                              สนามกีฬาไทย  ญี่ปุ่น    \n12                                       สนามกีฬาไทย    \n13                                           ญี่ปุ่น    \n14                                        นครราชสีมา    \n15  และผมขอประกาศว่าสุราษฎร์พร้อมแล้วสำหรับความเปล...   \n16        ผมขอขอบคุณทุกคนสำหรับความอบอุ่นที่มีให้กัน    \n17                                        สุดยอดครับ    \n18        อย่าให้การเมืองเก่าทำให้ชีวิตเราเหมือนเดิม    \n19  และผมขอประกาศว่าสุราษฎร์พร้อมแล้วสำหรับความเปล...   \n20  ผมขอขอบคุณทุกคนสำหรับความอบอุ่นที่มีให้กัน  แล...   \n21  สุดยอดครับ  ผมขอขอบคุณทุกคนสำหรับความอบอุ่นที่...   \n22  เพราะรถไฟเป็นสิ่งจำเป็นในการคมนาคมที่มีประสิทธ...   \n23                                  เกาะติดเลือกตั้ง    \n24                      เกาะติดเลือกตั้ง  ฉากสุดท้าย    \n25                       สร้างอุตสาหกรรมรถไฟในประเทศ    \n26             และอุตสาหกรรมนี้จะสร้าง  แสนงานคุณภาพ    \n27  แสนงานคุณภาพ  โดยทั้งอุตสาหกรรมรถเมล์ไฟฟ้าและร...   \n28                         ฉากสุดท้าย  จะเป็นอย่างไร    \n29                                      แสนงานคุณภาพ    \n\n                                        Topic 3 words  \\\n0                                            หมอเก่ง    \n1                                       พรรคการเมือง    \n2                                            จุลเจิม    \n3                                        ชมสดกันครับ    \n4                                            เปิดตัว    \n5                                     ว่าที่ผู้สมัคร    \n6                                         รายละเอียด    \n7                                           ห้ามพลาด    \n8                     กรุงเทพณ  ได้ที่ลิงค์นี่เลยค่ะ    \n9                                           กรุงเทพณ    \n10                            หมอเก่ง  อัศวรุ่งเรือง    \n11                                     อัศวรุ่งเรือง    \n12                                          facebook    \n13                                ช่วยขนเก้าอี้เสริม    \n14               จึงรุ่งเรืองกิจ  ช่วยขนเก้าอี้เสริม    \n15                    ช่วยขนเก้าอี้เสริม  งานเปิดตัว    \n16                                มั่งคั่งและยั่งยืน    \n17                              รองโฆษก  และผู้สมัคร    \n18                                           รองโฆษก    \n19                                       และผู้สมัคร    \n20                       มักจะมีการสาดโคลนกันหนักมาก    \n21  สำหรับผู้ที่เป็นผู้มีสิทธิเลือกตั้งครั้งแรก  แ...   \n22                               เมื่อวานที่นราธิวาส    \n23  วันนี้ผมและทีมงานได้เสนอความเป็นไปได้และโอกาสแ...   \n24  แต่ในช่วงโค้งสุดท้ายก่อนการเลือกตั้ง  มักจะมีก...   \n25  อนาคตใหม่ไม่โกงใคร  นี่คือคู่มือการไปเลือกตั้ง...   \n26       เมื่อวานที่นราธิวาส  ปัตตานีคนมาเยอะมากครับ    \n27                   ปัตตานีคนมาเยอะมากครับ  โมงเย็น    \n28              แต่ในช่วงโค้งสุดท้ายก่อนการเลือกตั้ง    \n29                 นี่คือคู่มือการไปเลือกตั้งฉบับย่อ    \n\n                                        Topic 4 words  \\\n0                                 ตามวันเวลาที่ปรากฏ    \n1                                       พรรคเพื่อไทย    \n2                                           กรุงเทพฯ    \n3                       กรุงเทพฯ  ตามวันเวลาที่ปรากฏ    \n4                          พรรคเพื่อไทย  เขตห้วยขวาง    \n5                                        เขตห้วยขวาง    \n6                              เขตห้วยขวาง  กรุงเทพฯ    \n7                                            ผลิตโดย    \n8                              ผลิตโดย  พรรคเพื่อไทย    \n9                                            project    \n10                           ชมไลฟ์กันพร้อมกันได้เลย    \n11                                        จันทร์โอชา    \n12                                         อันดับแรก    \n13                                     เขตทั่วประเทศ    \n14                            ความพิการไม่ใช่อุปสรรค    \n15  เลือกอนาคตใหม่อย่าให้ประเทศไทยเหมือนเดิม  จึงร...   \n16                  ความพิการไม่ใช่อุปสรรค  ผู้สมัคร    \n17          เลือกอนาคตใหม่อย่าให้ประเทศไทยเหมือนเดิม    \n18                                          ผู้สมัคร    \n19                                วันนี้ผมไปศรีสะเกษ    \n20  แวะดื่มกาแฟระหว่างเดินทางพร้อมหาอะไรอ่านไปเพลิ...   \n21  แวะดื่มกาแฟระหว่างเดินทางพร้อมหาอะไรอ่านไปเพลินๆ    \n22         วันนี้ผมไปศรีสะเกษ  แล้วเจอกันครับทุกท่าน    \n23                                      บัญชีรายชื่อ    \n24     ลุกขึ้นมาเรียกร้องลุกขึ้นมาทำพร้อมกันเท่านั้น    \n25  จะเกิดขึ้นได้ก็ต่อเมื่อประชาชนทุกคนที่ต้องการก...   \n26                                        วันนี้เวลา    \n27           แถลงข่าว  กรณีศาลรัฐธรรมนูญมีคำวินิจฉัย    \n28                                          แถลงข่าว    \n29  จะเกิดขึ้นได้ก็ต่อเมื่อประชาชนทุกคนที่ต้องการก...   \n\n                                        Topic 5 words  \n0                                    จึงรุ่งเรืองกิจ   \n1                                            ตันสกุล   \n2                                          ศิริกัญญา   \n3                                 ศิริกัญญา  ตันสกุล   \n4                                    แถลงกรณียุบพรรค   \n5                       จึงรุ่งเรืองกิจ  หัวหน้าพรรค   \n6                                        หัวหน้าพรรค   \n7                                      เกษตรก้าวหน้า   \n8                                           facebook   \n9                                   กลับไปเหมือนเดิม   \n10                                          พิษณุโลก   \n11                                  อย่าให้ประเทศไทย   \n12                อย่าให้ประเทศไทย  กลับไปเหมือนเดิม   \n13                                  ถ่ายทอดสดทางช่อง   \n14                                          ติดตามชม   \n15                         ผู้อำนวยการฝ่ายนโยบายพรรค   \n16                ตันสกุล  ผู้อำนวยการฝ่ายนโยบายพรรค   \n17                                           ระบุว่า   \n18  เมื่อดูจบแล้วก็ช่วยกันคนละแรง  เพื่ออนาคตของพว...  \n19  ผมอยากให้เราดูคลิปนี้ให้จบ  เมื่อดูจบแล้วก็ช่ว...  \n20                          เพื่ออนาคตของพวกเราทุกคน   \n21                     เมื่อดูจบแล้วก็ช่วยกันคนละแรง   \n22                        ผมอยากให้เราดูคลิปนี้ให้จบ   \n23           อยากให้ธนาธรใส่เสื้อตัวไหนไปงานบอลจุฬาฯ   \n24  สร้างอุตสาหกรรมเกษตรก้าวหน้า  สร้างระบบกรแปรรู...  \n25  อยากให้ธนาธรใส่เสื้อตัวไหนไปงานบอลจุฬาฯ  ธนาธร...  \n26                               เศรษฐศาสตร์การเมือง   \n27  สัญญาแรกที่ธนาธรและพรรคอนาคตใหม่จะทำคือ  การสร...  \n28  ธนาธรเป็นศิษย์ของทั้งสองสถาบัน  วิศวกรรมเครื่อ...  \n29                    ธนาธรเป็นศิษย์ของทั้งสองสถาบัน   "
     },
     "metadata": {
      "transient": {}
     },
     "output_type": "display_data"
    },
    {
     "data": {
      "text/plain": "'party:neweco'"
     },
     "metadata": {
      "transient": {}
     },
     "output_type": "display_data"
    },
    {
     "data": {
      "text/html": "<div>\n<style scoped>\n    .dataframe tbody tr th:only-of-type {\n        vertical-align: middle;\n    }\n\n    .dataframe tbody tr th {\n        vertical-align: top;\n    }\n\n    .dataframe thead th {\n        text-align: right;\n    }\n</style>\n<table border=\"1\" class=\"dataframe\">\n  <thead>\n    <tr style=\"text-align: right;\">\n      <th></th>\n      <th>Topic 0 words</th>\n      <th>Topic 1 words</th>\n      <th>Topic 2 words</th>\n      <th>Topic 3 words</th>\n      <th>Topic 4 words</th>\n      <th>Topic 5 words</th>\n    </tr>\n  </thead>\n  <tbody>\n    <tr>\n      <th>0</th>\n      <td>มิ่งขวัญ</td>\n      <td>อย่าได้ลังเลครับ</td>\n      <td>สวัสดีครับ</td>\n      <td>เมื่อทุกธุรกิจแยกจากกันจะมีการแข่งขันเพื่อสร้า...</td>\n      <td>คุณมิ่งขวัญ</td>\n      <td>คลิปเต็ม</td>\n    </tr>\n    <tr>\n      <th>1</th>\n      <td>นายมิ่งขวัญ</td>\n      <td>ถ้าเชื่อใจและเห็นด้วยกับเรา</td>\n      <td>ลุงมิ่ง</td>\n      <td>คลิปเต็ม</td>\n      <td>วาระประชาชน  กำหนดอนาคตประเทศไทย</td>\n      <td>standard</td>\n    </tr>\n    <tr>\n      <th>2</th>\n      <td>ขอบคุณนะครับ</td>\n      <td>อย่าได้ลังเลครับ  เศรษฐกิจประเทศไทยต้องทั้งระบบ</td>\n      <td>หัวหน้า</td>\n      <td>ทางช่อง</td>\n      <td>กำหนดอนาคตประเทศไทย</td>\n      <td>ด้วยระบบเศรษฐกิจใหม่จะทำให้ประเทศไทยเป็นศูนย์ก...</td>\n    </tr>\n    <tr>\n      <th>3</th>\n      <td>ขอบคุณมากครับ</td>\n      <td>เศรษฐกิจประเทศไทยต้องทั้งระบบ</td>\n      <td>ควันหลง</td>\n      <td>หมายเลข</td>\n      <td>วาระประชาชน</td>\n      <td>ด้วยระบบเศรษฐกิจใหม่จะทำให้ประเทศไทยเป็นศูนย์ก...</td>\n    </tr>\n    <tr>\n      <th>4</th>\n      <td>standard</td>\n      <td>ถ้าเชื่อใจและเห็นด้วยกับเรา  อย่าได้ลังเลครับ</td>\n      <td>ลุยถิ่นวัยรุ่น</td>\n      <td>ล้านล้าน</td>\n      <td>ชมย้อนหลัง</td>\n      <td>จะทำได้อย่างไร</td>\n    </tr>\n    <tr>\n      <th>5</th>\n      <td>ล้านล้านบาท</td>\n      <td>ขอบคุณครับ</td>\n      <td>สวยพี่สวย</td>\n      <td>อ่านต่อ</td>\n      <td>ชมย้อนหลัง  วาระประชาชน</td>\n      <td>เราจะหาเงินได้จากไหน</td>\n    </tr>\n    <tr>\n      <th>6</th>\n      <td>แสงสุวรรณ</td>\n      <td>ชมสดทาง</td>\n      <td>หวังเงินเข้าไทย</td>\n      <td>ตลาดดอกไม้โลก  ที่หายไป</td>\n      <td>รายการพิเศษ</td>\n      <td>เราจะหาเงินได้จากไหน  จะทำได้อย่างไร</td>\n    </tr>\n    <tr>\n      <th>7</th>\n      <td>ข่าวช่องวัน</td>\n      <td>โค้งสุดท้าย</td>\n      <td>ลุงมิ่งบินไกลถึงลอนดอนแล้วจ้าา</td>\n      <td>ที่หายไป  คลิปเต็ม</td>\n      <td>เป็นต้นไป</td>\n      <td>แล้วเจอกันนะครับ</td>\n    </tr>\n    <tr>\n      <th>8</th>\n      <td>facebook</td>\n      <td>คลิปเต็ม</td>\n      <td>โจทย์สำคัญต้องตอบ</td>\n      <td>ปากคลองตลาด  ตลาดดอกไม้โลก</td>\n      <td>คุณมิ่งขวัญ  แล้วพบกันนะครับ</td>\n      <td>เจอลุงมิ่งยังครับ</td>\n    </tr>\n    <tr>\n      <th>9</th>\n      <td>มิ่งขวัญ  แสงสุวรรณ</td>\n      <td>ยาฆ่าหญ้า</td>\n      <td>ระบบเศรษฐกิจใหม่คือการตัดระบบผูกขาดและการครอบง...</td>\n      <td>ตลาดดอกไม้โลก</td>\n      <td>แล้วพบกันนะครับ</td>\n      <td>ลุงมิ่งขวัญ</td>\n    </tr>\n    <tr>\n      <th>10</th>\n      <td>บรรยากาศสดๆ</td>\n      <td>เวทีดีเบต</td>\n      <td>ลุงมิ่ง  ม้าตีนปลายผู้ไม่โจมตีใคร</td>\n      <td>ที่หายไป</td>\n      <td>มิ่งขวัญ</td>\n      <td>standard  มิติใหม่ของการดีเบต</td>\n    </tr>\n    <tr>\n      <th>11</th>\n      <td>หัวหน้าพรรค</td>\n      <td>ชมสดคลิก</td>\n      <td>ลุงมิ่ง  ผลัดกันช่วยถือ</td>\n      <td>ฟังนโยบาย</td>\n      <td>อนาคตหนังไทยหลังการเลือกตั้ง</td>\n      <td>มิติใหม่ของการดีเบต</td>\n    </tr>\n    <tr>\n      <th>12</th>\n      <td>ที่นี่ที่เดียว</td>\n      <td>พรรคการเมือง</td>\n      <td>ขอบคุณภาพจากเพจ</td>\n      <td>ปากคลองตลาด</td>\n      <td>หวังเงินเข้าประเทศ</td>\n      <td>มิติใหม่ของการดีเบต  โค้งสุดท้ายที่รวมตัวนักกา...</td>\n    </tr>\n    <tr>\n      <th>13</th>\n      <td>ถ้าผมเป็นรัฐบาล</td>\n      <td>คนไทยกำลังโดนเอาเปรียบ  คลิปเต็ม</td>\n      <td>แสงสุวรรณ์จากพรรค  มาดีเบตด้วย</td>\n      <td>ลุงมิ่งและอุปกรณ์ของเขา</td>\n      <td>ขอบคุณภาพจากเพจ</td>\n      <td>โค้งสุดท้ายที่รวมตัวนักการเมืองดังไว้มากที่สุด</td>\n    </tr>\n    <tr>\n      <th>14</th>\n      <td>มิ่งขวัญ  หัวหน้าพรรค</td>\n      <td>อีกเรื่องที่ต้องเร่งแก้ไข</td>\n      <td>หรือคุณไม่มีโอกาสได้โกง</td>\n      <td>อย่าทำเลยครับ</td>\n      <td>พบกันรายการ</td>\n      <td>ลุงตัวจริง  แกน่ารักมากๆ</td>\n    </tr>\n    <tr>\n      <th>15</th>\n      <td>ระบบเศรษฐกิจใหม่คือการหาเงินเข้าประเทศ</td>\n      <td>คนไทยกำลังโดนเอาเปรียบ</td>\n      <td>อย่าลืมไปใช้สิทธิ์กันนะครับ  เช็คข้อมูลที่ลิงก...</td>\n      <td>ลุงมิ่งนั่งบีทีเอสไปอัดอีกรายการ</td>\n      <td>ลุงมิ่งนั่ง</td>\n      <td>ระหว่าง  ผลัดกันถือป้ายวนไปค่ะคุณ</td>\n    </tr>\n    <tr>\n      <th>16</th>\n      <td>ลิงก์นี้เลยนะครับ</td>\n      <td>อีกเรื่องที่ต้องเร่งแก้ไข  คนไทยกำลังโดนเอาเปร...</td>\n      <td>หรือคุณไม่มีโอกาสได้โกง  ถ้าวันหนึ่งคุณอยู่บนอ...</td>\n      <td>ทางช่อง  หมายเลข</td>\n      <td>ระบบบัญชีรายชื่อ</td>\n      <td>ลุงตัวจริง</td>\n    </tr>\n    <tr>\n      <th>17</th>\n      <td>ที่ไม่เคยพูดที่ไหนมาก่อน</td>\n      <td>ด้วยนะครับ</td>\n      <td>แสงสุวรรณ์จากพรรค</td>\n      <td>กดติดตามเพื่อรับชมคลิปใหม่ๆ</td>\n      <td>ลุงคนนี้แหละ</td>\n      <td>หาเงินเข้าประเทศทุกทิศทาง</td>\n    </tr>\n    <tr>\n      <th>18</th>\n      <td>ที่ไม่เคยพูดที่ไหนมาก่อน  มิ่งขวัญ</td>\n      <td>มิ่งขวัญ  ชมสดทาง</td>\n      <td>อย่าลืมไปใช้สิทธิ์กันนะครับ</td>\n      <td>ช่องทางการติดตาม  อย่าลืม</td>\n      <td>ลิงก์นี้เลยครับ</td>\n      <td>ระหว่าง</td>\n    </tr>\n    <tr>\n      <th>19</th>\n      <td>การประชันวิสัยทัศน์ผู้สมัคร</td>\n      <td>มัจจุราชคร่าชีวิตคนไทย</td>\n      <td>เคลียร์ให้จบ</td>\n      <td>อย่าลืม</td>\n      <td>มิ่งขวัญ  ชมย้อนหลัง</td>\n      <td>หยุดเถอะครับ  เลิกทะเลาะกัน</td>\n    </tr>\n    <tr>\n      <th>20</th>\n      <td>ต้องเป็นของคนไทย</td>\n      <td>ยาฆ่าหญ้า  มัจจุราชคร่าชีวิตคนไทย</td>\n      <td>แหย่นโยบาย  คาใจทั้งประเทศ</td>\n      <td>อย่าลืม  กดติดตามเพื่อรับชมคลิปใหม่ๆ</td>\n      <td>กับโจทย์ที่นักการเมืองต้องตอบ</td>\n      <td>หาเงินเข้าประเทศทุกทิศทาง  เพื่อมอบความสุขให้ค...</td>\n    </tr>\n    <tr>\n      <th>21</th>\n      <td>สู้ศึกเลือกตั้ง</td>\n      <td>ห้ามพลาด</td>\n      <td>เคลียร์ให้จบ  เวลาไม่หมด</td>\n      <td>ช่องทางการติดตาม</td>\n      <td>ประเด็นสำคัญ</td>\n      <td>หยุดเถอะครับ</td>\n    </tr>\n    <tr>\n      <th>22</th>\n      <td>การประชันวิสัยทัศน์ผู้สมัคร  สู้ศึกเลือกตั้ง</td>\n      <td>สวัสดีครับ</td>\n      <td>แหย่นโยบาย</td>\n      <td>เทศกาลโลก  คลิปเต็ม</td>\n      <td>ประเด็นสำคัญ  กับโจทย์ที่นักการเมืองต้องตอบ</td>\n      <td>รัฐบาลหน้าต้องจัดที่ทำกินให้ท่าน  ชมสดทาง</td>\n    </tr>\n    <tr>\n      <th>23</th>\n      <td>นโยบายเศรษฐกิจเลือกตั้ง</td>\n      <td>มิ่งขวัญ</td>\n      <td>เวลาไม่หมด  ควันหลง</td>\n      <td>ปลุกกระแส</td>\n      <td>ถ่ายทอดสด</td>\n      <td>รัฐบาลหน้าต้องจัดที่ทำกินให้ท่าน</td>\n    </tr>\n    <tr>\n      <th>24</th>\n      <td>facebook  thestandardth</td>\n      <td>ลดราคาน้ำมัน</td>\n      <td>คาใจทั้งประเทศ</td>\n      <td>เทศกาลไทย  เทศกาลโลก</td>\n      <td>ออกกำลังกายสม่ำเสมอ</td>\n      <td>ร่วมเชียร์และเป็นกำลังใจให้ผู้สมัคร  ด้วยนะครับ</td>\n    </tr>\n    <tr>\n      <th>25</th>\n      <td>มิ่งขวัญ  standard</td>\n      <td>มัจจุราชคร่าชีวิตคนไทย  คลิปเต็ม</td>\n      <td>เวลาไม่หมด</td>\n      <td>เทศกาลโลก</td>\n      <td>ออกกำลังกายสม่ำเสมอ  และพักผ่อนเพียงพอ</td>\n      <td>ร่วมเชียร์และเป็นกำลังใจให้ผู้สมัคร</td>\n    </tr>\n    <tr>\n      <th>26</th>\n      <td>หวั่นเหมือน</td>\n      <td>เป็นต้นไป  ชมสดทาง</td>\n      <td>สวัสดีครับ  ระยองเขต</td>\n      <td>เทศกาลไทย</td>\n      <td>เปิดเวทีดีเบต</td>\n      <td>หลังจบดีเบต  เมื่อวานนี้ครับ</td>\n    </tr>\n    <tr>\n      <th>27</th>\n      <td>เตมียเวส</td>\n      <td>พรรคการเมือง  เป็นต้นไป</td>\n      <td>ระยองเขต</td>\n      <td>ปลุกกระแส  เทศกาลไทย</td>\n      <td>รับฟังปัญหา</td>\n      <td>มิ่งขวัญ  ตอบรับคำเชิญสดๆ</td>\n    </tr>\n    <tr>\n      <th>28</th>\n      <td>ชมสดคลิก</td>\n      <td>สวัสดีครับ  กรณีผู้สมัคร</td>\n      <td>แอดอยากให้ลองดูคลิปนี้ครับ</td>\n      <td>จะดีแค่ไหน  ถ้าเราอยากฝากเงินในธนาคารแล้วได้รั...</td>\n      <td>รับฟังปัญหา  พร้อมนำไปแก้ไข</td>\n      <td>ตอบรับคำเชิญสดๆ  ว่าจะมาร่วมงาน</td>\n    </tr>\n    <tr>\n      <th>29</th>\n      <td>thestandardth</td>\n      <td>เป็นต้นไป</td>\n      <td>สวัสดีครับ  แอดอยากให้ลองดูคลิปนี้ครับ</td>\n      <td>หรือถ้ากู้เงินดอกเบี้ยก็ไม่สูงเกินไปนัก</td>\n      <td>รายการพิเศษ  โค้งสุดท้าย</td>\n      <td>คุณสามารถร่วมฟังและถามสดๆ</td>\n    </tr>\n  </tbody>\n</table>\n</div>",
      "text/plain": "                                    Topic 0 words  \\\n0                                       มิ่งขวัญ    \n1                                    นายมิ่งขวัญ    \n2                                   ขอบคุณนะครับ    \n3                                  ขอบคุณมากครับ    \n4                                       standard    \n5                                    ล้านล้านบาท    \n6                                      แสงสุวรรณ    \n7                                    ข่าวช่องวัน    \n8                                       facebook    \n9                            มิ่งขวัญ  แสงสุวรรณ    \n10                                   บรรยากาศสดๆ    \n11                                   หัวหน้าพรรค    \n12                                ที่นี่ที่เดียว    \n13                               ถ้าผมเป็นรัฐบาล    \n14                         มิ่งขวัญ  หัวหน้าพรรค    \n15        ระบบเศรษฐกิจใหม่คือการหาเงินเข้าประเทศ    \n16                             ลิงก์นี้เลยนะครับ    \n17                      ที่ไม่เคยพูดที่ไหนมาก่อน    \n18            ที่ไม่เคยพูดที่ไหนมาก่อน  มิ่งขวัญ    \n19                   การประชันวิสัยทัศน์ผู้สมัคร    \n20                              ต้องเป็นของคนไทย    \n21                               สู้ศึกเลือกตั้ง    \n22  การประชันวิสัยทัศน์ผู้สมัคร  สู้ศึกเลือกตั้ง    \n23                       นโยบายเศรษฐกิจเลือกตั้ง    \n24                       facebook  thestandardth    \n25                            มิ่งขวัญ  standard    \n26                                   หวั่นเหมือน    \n27                                      เตมียเวส    \n28                                      ชมสดคลิก    \n29                                 thestandardth    \n\n                                        Topic 1 words  \\\n0                                   อย่าได้ลังเลครับ    \n1                        ถ้าเชื่อใจและเห็นด้วยกับเรา    \n2    อย่าได้ลังเลครับ  เศรษฐกิจประเทศไทยต้องทั้งระบบ    \n3                      เศรษฐกิจประเทศไทยต้องทั้งระบบ    \n4      ถ้าเชื่อใจและเห็นด้วยกับเรา  อย่าได้ลังเลครับ    \n5                                         ขอบคุณครับ    \n6                                            ชมสดทาง    \n7                                        โค้งสุดท้าย    \n8                                           คลิปเต็ม    \n9                                          ยาฆ่าหญ้า    \n10                                         เวทีดีเบต    \n11                                          ชมสดคลิก    \n12                                      พรรคการเมือง    \n13                  คนไทยกำลังโดนเอาเปรียบ  คลิปเต็ม    \n14                         อีกเรื่องที่ต้องเร่งแก้ไข    \n15                            คนไทยกำลังโดนเอาเปรียบ    \n16  อีกเรื่องที่ต้องเร่งแก้ไข  คนไทยกำลังโดนเอาเปร...   \n17                                        ด้วยนะครับ    \n18                                 มิ่งขวัญ  ชมสดทาง    \n19                            มัจจุราชคร่าชีวิตคนไทย    \n20                 ยาฆ่าหญ้า  มัจจุราชคร่าชีวิตคนไทย    \n21                                          ห้ามพลาด    \n22                                        สวัสดีครับ    \n23                                          มิ่งขวัญ    \n24                                      ลดราคาน้ำมัน    \n25                  มัจจุราชคร่าชีวิตคนไทย  คลิปเต็ม    \n26                                เป็นต้นไป  ชมสดทาง    \n27                           พรรคการเมือง  เป็นต้นไป    \n28                          สวัสดีครับ  กรณีผู้สมัคร    \n29                                         เป็นต้นไป    \n\n                                        Topic 2 words  \\\n0                                         สวัสดีครับ    \n1                                            ลุงมิ่ง    \n2                                            หัวหน้า    \n3                                            ควันหลง    \n4                                     ลุยถิ่นวัยรุ่น    \n5                                          สวยพี่สวย    \n6                                    หวังเงินเข้าไทย    \n7                     ลุงมิ่งบินไกลถึงลอนดอนแล้วจ้าา    \n8                                  โจทย์สำคัญต้องตอบ    \n9   ระบบเศรษฐกิจใหม่คือการตัดระบบผูกขาดและการครอบง...   \n10                 ลุงมิ่ง  ม้าตีนปลายผู้ไม่โจมตีใคร    \n11                           ลุงมิ่ง  ผลัดกันช่วยถือ    \n12                                   ขอบคุณภาพจากเพจ    \n13                    แสงสุวรรณ์จากพรรค  มาดีเบตด้วย    \n14                           หรือคุณไม่มีโอกาสได้โกง    \n15  อย่าลืมไปใช้สิทธิ์กันนะครับ  เช็คข้อมูลที่ลิงก...   \n16  หรือคุณไม่มีโอกาสได้โกง  ถ้าวันหนึ่งคุณอยู่บนอ...   \n17                                 แสงสุวรรณ์จากพรรค    \n18                       อย่าลืมไปใช้สิทธิ์กันนะครับ    \n19                                      เคลียร์ให้จบ    \n20                        แหย่นโยบาย  คาใจทั้งประเทศ    \n21                          เคลียร์ให้จบ  เวลาไม่หมด    \n22                                        แหย่นโยบาย    \n23                               เวลาไม่หมด  ควันหลง    \n24                                    คาใจทั้งประเทศ    \n25                                        เวลาไม่หมด    \n26                              สวัสดีครับ  ระยองเขต    \n27                                          ระยองเขต    \n28                        แอดอยากให้ลองดูคลิปนี้ครับ    \n29            สวัสดีครับ  แอดอยากให้ลองดูคลิปนี้ครับ    \n\n                                        Topic 3 words  \\\n0   เมื่อทุกธุรกิจแยกจากกันจะมีการแข่งขันเพื่อสร้า...   \n1                                           คลิปเต็ม    \n2                                            ทางช่อง    \n3                                            หมายเลข    \n4                                           ล้านล้าน    \n5                                            อ่านต่อ    \n6                            ตลาดดอกไม้โลก  ที่หายไป    \n7                                 ที่หายไป  คลิปเต็ม    \n8                         ปากคลองตลาด  ตลาดดอกไม้โลก    \n9                                      ตลาดดอกไม้โลก    \n10                                          ที่หายไป    \n11                                         ฟังนโยบาย    \n12                                       ปากคลองตลาด    \n13                           ลุงมิ่งและอุปกรณ์ของเขา    \n14                                     อย่าทำเลยครับ    \n15                  ลุงมิ่งนั่งบีทีเอสไปอัดอีกรายการ    \n16                                  ทางช่อง  หมายเลข    \n17                       กดติดตามเพื่อรับชมคลิปใหม่ๆ    \n18                         ช่องทางการติดตาม  อย่าลืม    \n19                                           อย่าลืม    \n20              อย่าลืม  กดติดตามเพื่อรับชมคลิปใหม่ๆ    \n21                                  ช่องทางการติดตาม    \n22                               เทศกาลโลก  คลิปเต็ม    \n23                                         ปลุกกระแส    \n24                              เทศกาลไทย  เทศกาลโลก    \n25                                         เทศกาลโลก    \n26                                         เทศกาลไทย    \n27                              ปลุกกระแส  เทศกาลไทย    \n28  จะดีแค่ไหน  ถ้าเราอยากฝากเงินในธนาคารแล้วได้รั...   \n29           หรือถ้ากู้เงินดอกเบี้ยก็ไม่สูงเกินไปนัก    \n\n                                   Topic 4 words  \\\n0                                   คุณมิ่งขวัญ    \n1              วาระประชาชน  กำหนดอนาคตประเทศไทย    \n2                           กำหนดอนาคตประเทศไทย    \n3                                   วาระประชาชน    \n4                                    ชมย้อนหลัง    \n5                       ชมย้อนหลัง  วาระประชาชน    \n6                                   รายการพิเศษ    \n7                                     เป็นต้นไป    \n8                  คุณมิ่งขวัญ  แล้วพบกันนะครับ    \n9                               แล้วพบกันนะครับ    \n10                                     มิ่งขวัญ    \n11                 อนาคตหนังไทยหลังการเลือกตั้ง    \n12                           หวังเงินเข้าประเทศ    \n13                              ขอบคุณภาพจากเพจ    \n14                                  พบกันรายการ    \n15                                  ลุงมิ่งนั่ง    \n16                             ระบบบัญชีรายชื่อ    \n17                                 ลุงคนนี้แหละ    \n18                              ลิงก์นี้เลยครับ    \n19                         มิ่งขวัญ  ชมย้อนหลัง    \n20                กับโจทย์ที่นักการเมืองต้องตอบ    \n21                                 ประเด็นสำคัญ    \n22  ประเด็นสำคัญ  กับโจทย์ที่นักการเมืองต้องตอบ    \n23                                    ถ่ายทอดสด    \n24                          ออกกำลังกายสม่ำเสมอ    \n25       ออกกำลังกายสม่ำเสมอ  และพักผ่อนเพียงพอ    \n26                                เปิดเวทีดีเบต    \n27                                  รับฟังปัญหา    \n28                  รับฟังปัญหา  พร้อมนำไปแก้ไข    \n29                     รายการพิเศษ  โค้งสุดท้าย    \n\n                                        Topic 5 words  \n0                                           คลิปเต็ม   \n1                                           standard   \n2   ด้วยระบบเศรษฐกิจใหม่จะทำให้ประเทศไทยเป็นศูนย์ก...  \n3   ด้วยระบบเศรษฐกิจใหม่จะทำให้ประเทศไทยเป็นศูนย์ก...  \n4                                     จะทำได้อย่างไร   \n5                               เราจะหาเงินได้จากไหน   \n6               เราจะหาเงินได้จากไหน  จะทำได้อย่างไร   \n7                                   แล้วเจอกันนะครับ   \n8                                  เจอลุงมิ่งยังครับ   \n9                                        ลุงมิ่งขวัญ   \n10                     standard  มิติใหม่ของการดีเบต   \n11                               มิติใหม่ของการดีเบต   \n12  มิติใหม่ของการดีเบต  โค้งสุดท้ายที่รวมตัวนักกา...  \n13    โค้งสุดท้ายที่รวมตัวนักการเมืองดังไว้มากที่สุด   \n14                          ลุงตัวจริง  แกน่ารักมากๆ   \n15                 ระหว่าง  ผลัดกันถือป้ายวนไปค่ะคุณ   \n16                                        ลุงตัวจริง   \n17                         หาเงินเข้าประเทศทุกทิศทาง   \n18                                           ระหว่าง   \n19                       หยุดเถอะครับ  เลิกทะเลาะกัน   \n20  หาเงินเข้าประเทศทุกทิศทาง  เพื่อมอบความสุขให้ค...  \n21                                      หยุดเถอะครับ   \n22         รัฐบาลหน้าต้องจัดที่ทำกินให้ท่าน  ชมสดทาง   \n23                  รัฐบาลหน้าต้องจัดที่ทำกินให้ท่าน   \n24   ร่วมเชียร์และเป็นกำลังใจให้ผู้สมัคร  ด้วยนะครับ   \n25               ร่วมเชียร์และเป็นกำลังใจให้ผู้สมัคร   \n26                      หลังจบดีเบต  เมื่อวานนี้ครับ   \n27                         มิ่งขวัญ  ตอบรับคำเชิญสดๆ   \n28                   ตอบรับคำเชิญสดๆ  ว่าจะมาร่วมงาน   \n29                         คุณสามารถร่วมฟังและถามสดๆ   "
     },
     "metadata": {
      "transient": {}
     },
     "output_type": "display_data"
    },
    {
     "data": {
      "text/plain": "'party:pt'"
     },
     "metadata": {
      "transient": {}
     },
     "output_type": "display_data"
    },
    {
     "data": {
      "text/html": "<div>\n<style scoped>\n    .dataframe tbody tr th:only-of-type {\n        vertical-align: middle;\n    }\n\n    .dataframe tbody tr th {\n        vertical-align: top;\n    }\n\n    .dataframe thead th {\n        text-align: right;\n    }\n</style>\n<table border=\"1\" class=\"dataframe\">\n  <thead>\n    <tr style=\"text-align: right;\">\n      <th></th>\n      <th>Topic 0 words</th>\n      <th>Topic 1 words</th>\n      <th>Topic 2 words</th>\n      <th>Topic 3 words</th>\n      <th>Topic 4 words</th>\n      <th>Topic 5 words</th>\n    </tr>\n  </thead>\n  <tbody>\n    <tr>\n      <th>0</th>\n      <td>ลานคนเมือง</td>\n      <td>พรรคเพื่อไทย</td>\n      <td>support</td>\n      <td>หนึ่งในอีกหลายมาตรการแก้วิกฤติเศรษฐกิจของพรรคเ...</td>\n      <td>ขอบคุณที่แจ้งมา</td>\n      <td>ชินวัตร</td>\n    </tr>\n    <tr>\n      <th>1</th>\n      <td>chadchart</td>\n      <td>เขตห้วยขวาง  กรุงเทพฯ</td>\n      <td>atmospher</td>\n      <td>เลือกตั้ง</td>\n      <td>เพื่อได้เข้าไปแก้ปัญหาเศรษฐกิจให้พี่น้อง</td>\n      <td>รับมือการเปลี่ยนแปลงของโลกกับ</td>\n    </tr>\n    <tr>\n      <th>2</th>\n      <td>หน้าศาลาว่าการกรุงเทพมหานคร</td>\n      <td>เขตห้วยขวาง</td>\n      <td>speaker</td>\n      <td>หนึ่งในอีกหลายมาตรการแก้วิกฤติเศรษฐกิจของพรรคเ...</td>\n      <td>แจ้งผู้เกี่ยวข้องให้แล้วครับ</td>\n      <td>รับมือการเปลี่ยนแปลงของโลกกับ  ชินวัตร</td>\n    </tr>\n    <tr>\n      <th>3</th>\n      <td>ลานคนเมือง  หน้าศาลาว่าการกรุงเทพมหานคร</td>\n      <td>กรุงเทพฯ</td>\n      <td>ห้วยขวาง</td>\n      <td>เรียนเชิญทุกท่านร่วมรับฟังการปราศรัย</td>\n      <td>สามารถตรวจสอบชื่อทางช่องทางนี้ได้ครับ</td>\n      <td>ตั้งแต่เวลา</td>\n    </tr>\n    <tr>\n      <th>4</th>\n      <td>ลานคนเมืองเริ่มคึกคัก</td>\n      <td>พรรคเพื่อไทย  เขตห้วยขวาง</td>\n      <td>ด้วยนโยบาย</td>\n      <td>ในพื้นที่ต่างๆ</td>\n      <td>ชินวัตร</td>\n      <td>ตั้งแต่เวลา  เป็นต้นไป</td>\n    </tr>\n    <tr>\n      <th>5</th>\n      <td>เพื่อการเติบโตอย่างมีอนาคตและยั่งยืน</td>\n      <td>ตามวันเวลาที่ปรากฏ</td>\n      <td>ประชาชน</td>\n      <td>เรียนเชิญทุกท่านร่วมรับฟังการปราศรัย  ในพื้นที...</td>\n      <td>สร้างความเชื่อมั่นให้เศรษฐกิจ</td>\n      <td>เป็นต้นไป</td>\n    </tr>\n    <tr>\n      <th>6</th>\n      <td>ลานคนเมือง  ศาลาว่าการกรุงเทพมหานคร</td>\n      <td>กรุงเทพฯ  ตามวันเวลาที่ปรากฏ</td>\n      <td>address</td>\n      <td>ในกิจกรรม</td>\n      <td>หัวใจที่ทำให้การเลือกตั้งประสบความสำเร็จอยู่ที...</td>\n      <td>เพื่อไทย</td>\n    </tr>\n    <tr>\n      <th>7</th>\n      <td>ศาลาว่าการกรุงเทพมหานคร</td>\n      <td>ผลิตโดย</td>\n      <td>ได้เวลา  ตลาดต้นลำไย</td>\n      <td>ในกิจกรรม  งานนี้เลยต้องขอน้องจินนี่มาเป็นตัวช...</td>\n      <td>เดินหน้าสู้ศึก</td>\n      <td>ขอเรียนเชิญทุกท่านที่หัวใจตรงกันมาพบปะกันตามวั...</td>\n    </tr>\n    <tr>\n      <th>8</th>\n      <td>ในคูหาใกล้บ้านท่าน</td>\n      <td>ผลิตโดย  พรรคเพื่อไทย</td>\n      <td>ได้เวลา</td>\n      <td>เพื่อชัยชนะที่ถล่มทลายของพรรคฝ่ายประชาธิปไตย</td>\n      <td>เดินหน้าสู้ศึก  มีอนาคต</td>\n      <td>จะลงพื้นที่พบปะประชาชน</td>\n    </tr>\n    <tr>\n      <th>9</th>\n      <td>ลานคนเมือง  ก็ขอให้ทุกท่านเดินทางกลับบ้านโดยสว...</td>\n      <td>เพื่อไทยปราศรัยใหญ่กทม</td>\n      <td>และสังคม  ประชาชน</td>\n      <td>เติมกำลังใจในการหาเสียงเลือกตั้งครั้งนี้มาก</td>\n      <td>หัวใจที่ทำให้การเลือกตั้งประสบความสำเร็จอยู่ที...</td>\n      <td>เป็นต้นไป  ขอเรียนเชิญทุกท่านที่หัวใจตรงกันมาพ...</td>\n    </tr>\n    <tr>\n      <th>10</th>\n      <td>วันนี้ลูกๆ</td>\n      <td>เรียนเชิญทุกท่านร่วมรับฟังการปราศรัย</td>\n      <td>และสังคม</td>\n      <td>เติมกำลังใจในการหาเสียงเลือกตั้งครั้งนี้มาก  ข...</td>\n      <td>มีอนาคต</td>\n      <td>เพื่อไทยเห็นความสำคัญของการเติมพลังให้คนตัวเล็...</td>\n    </tr>\n    <tr>\n      <th>11</th>\n      <td>เพื่อปฏิบัติตามระเบียบคณะกรรมการการเลือกตั้งว่...</td>\n      <td>เรียนเชิญทุกท่านร่วมรับฟังการปราศรัย  ในพื้นที...</td>\n      <td>และสะท้อนถึงความสนใจของคนรุ่นใหม่ต่อบ้านเมือง</td>\n      <td>ในพื้นที่ต่างๆ  ลานข้างโลตัสรังสิต</td>\n      <td>มีอนาคต  หัวใจที่ทำให้การเลือกตั้งประสบความสำเ...</td>\n      <td>จะลงพื้นที่พบปะประชาชน  ตั้งแต่เวลา</td>\n    </tr>\n    <tr>\n      <th>12</th>\n      <td>เพราะหลังจากนี้หน่อยต้องเดินทางหาเสียงทั่วประเทศ</td>\n      <td>ในพื้นที่ต่างๆ</td>\n      <td>และสะท้อนถึงความสนใจของคนรุ่นใหม่ต่อบ้านเมือง ...</td>\n      <td>วันนี้หน่อยมาแจ้งความต่อผู้เผยแพร่ข้อความเท็จ ...</td>\n      <td>twitter</td>\n      <td>เพื่อไทย  ขอความชัดเจน</td>\n    </tr>\n    <tr>\n      <th>13</th>\n      <td>วันนี้ลูกๆ  พาหน่อยเที่ยวสยามในวันหยุดค่ะ</td>\n      <td>อย่าเล่นการเมืองแบบเก่าเพื่อปลุกผีความขัดแย้งโ...</td>\n      <td>รอฟังคำตอบกันในวันจันทร์ที่จะถึงนี้นะครับ</td>\n      <td>ลานข้างโลตัสรังสิต</td>\n      <td>facebook</td>\n      <td>ใครอยากได้ไลฟ์สด  บอกบุญให้ตามนี้ค่ะ</td>\n    </tr>\n    <tr>\n      <th>14</th>\n      <td>เพื่อปฏิบัติตามระเบียบคณะกรรมการการเลือกตั้งว่...</td>\n      <td>อย่าเล่นการเมืองแบบเก่าเพื่อปลุกผีความขัดแย้งโ...</td>\n      <td>ล้านบาทตั้งเป้าหมายในการผลิตผู้ประกอบการรุ่นให...</td>\n      <td>วันนี้หน่อยมาแจ้งความต่อผู้เผยแพร่ข้อความเท็จ</td>\n      <td>อ่านต่อ</td>\n      <td>ใครอยากได้ไลฟ์สด</td>\n    </tr>\n    <tr>\n      <th>15</th>\n      <td>และกฎหมายที่เกี่ยวข้อง</td>\n      <td>ให้เหมาะสมกับสถานการณ์ของประเทศ  ที่ประชาชนคนส...</td>\n      <td>แก้ปัญหาเศรษฐกิจใน</td>\n      <td>เพื่อหวังให้ประชาชนเข้าใจผิดและสร้างความเกลียด...</td>\n      <td>เป็นห่วงความรู้สึกของน้องๆและจะเร่งแก้ปัญหาที่...</td>\n      <td>ลิสต์บัญชีสมาชิกพรรคเพื่อไทย</td>\n    </tr>\n    <tr>\n      <th>16</th>\n      <td>เดือนที่ได้เป็นรัฐบาล  ขอพี่น้องเลือกตั้งอย่าง...</td>\n      <td>ดิฉันจะขอยืนยันความถูกต้อง  ที่ได้เสนอขอปรับลด...</td>\n      <td>และเงินทุน</td>\n      <td>เพื่อหวังให้ประชาชนเข้าใจผิดและสร้างความเกลียด...</td>\n      <td>เมืองสุข</td>\n      <td>ลิสต์บัญชีสมาชิกพรรคเพื่อไทย  twitter</td>\n    </tr>\n    <tr>\n      <th>17</th>\n      <td>แก้ไขปัญหาความทุกข์ของพี่น้องคนไทย  เราขอทุ่มเ...</td>\n      <td>ที่ประชาชนคนส่วนใหญ่กำลังเดือดร้อนกับปัญหาเศรษ...</td>\n      <td>หากเพื่อไทยเป็นรัฐบาล  แก้ปัญหาเศรษฐกิจใน</td>\n      <td>ไทยจะเป็นศูนย์กลางการผลิตอาหารปลอดภัยป้อนคนทั้...</td>\n      <td>เอี่ยมสะอาด  เมืองสุข</td>\n      <td>ในวันนี้ทั้งที่เดินทางมาด้วยตนเองหรือติดตามผ่า...</td>\n    </tr>\n    <tr>\n      <th>18</th>\n      <td>เราสองคนขอผนึกกำลัง</td>\n      <td>ที่ได้เสนอขอปรับลดงบกระทรวงกลาโหมในส่วนที่ซื้อ...</td>\n      <td>ล้านบาทตั้งเป้าหมายในการผลิตผู้ประกอบการรุ่นให...</td>\n      <td>ไทยจะเป็นศูนย์กลางการผลิตอาหารปลอดภัยป้อนคนทั้...</td>\n      <td>เสียใจและขอโทษกับเหตุการณ์ที่เกิดขึ้นครับ</td>\n      <td>เพิ่มความคิดสร้างสรรค์เพื่อยกระดับแรงงานและออก...</td>\n    </tr>\n    <tr>\n      <th>19</th>\n      <td>เราขอทุ่มเททำงานกันอย่างสุดความสามารถเพื่อพลิก...</td>\n      <td>คลิกอ่านต่อเต็มๆได้ที่นี่ค่ะ</td>\n      <td>หากเพื่อไทยเป็นรัฐบาล</td>\n      <td>วันนี้มาพบปะพี่น้องชาวอีสาน</td>\n      <td>เอี่ยมสะอาด</td>\n      <td>ในวันนี้ทั้งที่เดินทางมาด้วยตนเองหรือติดตามผ่า...</td>\n    </tr>\n    <tr>\n      <th>20</th>\n      <td>เดือนที่ได้เป็นรัฐบาล</td>\n      <td>ที่ได้เสนอขอปรับลดงบกระทรวงกลาโหมในส่วนที่ซื้อ...</td>\n      <td>ให้พี่น้องมีเงินใช้ยามเกษียณ  ด้วยนโยบาย</td>\n      <td>ให้ประชาชนคนตัวเล็ก  และเตรียมความพร้อมในการรั...</td>\n      <td>เป็นห่วงความรู้สึกของน้องๆและจะเร่งแก้ปัญหาที่...</td>\n      <td>เราจะทำให้ง่ายขึ้นและใช้เทคโนโลยีมาช่วย  ไม่ขู...</td>\n    </tr>\n    <tr>\n      <th>21</th>\n      <td>พร้อมทีมเพื่อไทย</td>\n      <td>ให้เหมาะสมกับสถานการณ์ของประเทศ</td>\n      <td>ให้พี่น้องมีเงินใช้ยามเกษียณ</td>\n      <td>ในพื้นที่ต่างๆ  ข้างโฮมโปร</td>\n      <td>เกษตรแม่นยำ</td>\n      <td>และได้ออกมาใช้สิทธิของท่านเป็นที่เรียบร้อย</td>\n    </tr>\n    <tr>\n      <th>22</th>\n      <td>พร้อมทีมเพื่อไทย  นักบริหารมืออาชีพทุกคน</td>\n      <td>ที่ประชาชนคนส่วนใหญ่กำลังเดือดร้อนกับปัญหาเศรษ...</td>\n      <td>ขอให้กำลังใจน้องๆที่จะสอบทุกคนนะคะ</td>\n      <td>แต่กับประชาชนขยันใช้กันจริง</td>\n      <td>โผล่ร่วมงานปราศรัยครั้งใหญ่ของพรรคเพื่อไทยที่ล...</td>\n      <td>สร้างโซนออฟฟิศ</td>\n    </tr>\n    <tr>\n      <th>23</th>\n      <td>เราขอทุ่มเททำงานกันอย่างสุดความสามารถเพื่อพลิก...</td>\n      <td>ดิฉันจะขอยืนยันความถูกต้อง</td>\n      <td>ได้รับทราบเรื่องแล้ว  ไม่สบายใจ</td>\n      <td>ให้ประชาชนคนตัวเล็ก</td>\n      <td>โผล่ร่วมงานปราศรัยครั้งใหญ่ของพรรคเพื่อไทยที่ล...</td>\n      <td>เจอกันที่คูหาใกล้บ้านท่าน</td>\n    </tr>\n    <tr>\n      <th>24</th>\n      <td>นักบริหารมืออาชีพทุกคน  แก้ไขปัญหาความทุกข์ของ...</td>\n      <td>หน่อยขอขอบพระคุณพี่น้องประชาชนทุกคนที่มาร่วมผน...</td>\n      <td>ไม่สบายใจ</td>\n      <td>เม็ดร้อยเท่านั้น</td>\n      <td>ศาลาว่าการ</td>\n      <td>แต่สิ่งที่ผู้นำต้องมีเป็นอันดับแรกคือ  คิดเป็น</td>\n    </tr>\n    <tr>\n      <th>25</th>\n      <td>แก้ไขปัญหาความทุกข์ของพี่น้องคนไทย</td>\n      <td>แล้วไม่ได้นิ่งนอนใจ</td>\n      <td>เราจะดำเนินการอย่างเด็ดขาดค่ะ</td>\n      <td>เหมือนกับบางพรรค  ที่ตอนเช้าไม่เอาลุง</td>\n      <td>ได้แจ้งกกต  ยกเลิกการเป็นผู้ช่วยหาเสียง</td>\n      <td>สร้างโซนออฟฟิศ  ดันรายได้ท่องเที่ยว</td>\n    </tr>\n    <tr>\n      <th>26</th>\n      <td>นักบริหารมืออาชีพทุกคน</td>\n      <td>หน่อยขอขอบพระคุณพี่น้องประชาชนทุกคนที่มาร่วมผน...</td>\n      <td>เราจะดำเนินการอย่างเด็ดขาดค่ะ  เพื่อให้กำลังใจ...</td>\n      <td>เม็ดร้อยเท่านั้น  ต้องถามว่าชาวบ้านเค้ารู้กันท...</td>\n      <td>และเพื่อไทยได้จัดการดังนี้ค่ะ  ผู้สมัครสส</td>\n      <td>เราจะทำให้ง่ายขึ้นและใช้เทคโนโลยีมาช่วย</td>\n    </tr>\n    <tr>\n      <th>27</th>\n      <td>เราสองคนขอผนึกกำลัง  พร้อมทีมเพื่อไทย</td>\n      <td>เวลาประมาณสองทุ่มครับ</td>\n      <td>ได้รับทราบเรื่องแล้ว</td>\n      <td>สมุทรปราการ</td>\n      <td>แม่หน่อย</td>\n      <td>ใช้การตลาดนำเทคโนโลยีแปรรูปสินค้าเกษตรเพิ่มมูล...</td>\n    </tr>\n    <tr>\n      <th>28</th>\n      <td>ขอพี่น้องเลือกตั้งอย่างมียุทธศาสตร์ให้เพื่อไทย...</td>\n      <td>แล้วไม่ได้นิ่งนอนใจ  ประตูเชียงราก</td>\n      <td>และเสียใจมาก  ถ้าบุคคลที่ทำพฤติกรรมอันน่ารังเก...</td>\n      <td>และเตรียมความพร้อมในการรับมือกับวิกฤติเศรษฐกิจ...</td>\n      <td>ของผู้ที่ก่อปัญหาแล้ว  ศุภชัยเสียใจมากกับเรื่อ...</td>\n      <td>ไม่ขูดรีดคนตัวเล็กที่กำลังยากลำบาก</td>\n    </tr>\n    <tr>\n      <th>29</th>\n      <td>เตรียมเสนอร่างฯพรบ</td>\n      <td>และเพิ่มพลังให้คนไทยด้วยชุดนโยบายที่เราคิดเพื่...</td>\n      <td>เพื่อให้กำลังใจแล้วค่ะ</td>\n      <td>เอาลุงคืนไป</td>\n      <td>ของผู้ที่ก่อปัญหาแล้ว</td>\n      <td>และได้ออกมาใช้สิทธิของท่านเป็นที่เรียบร้อย  เจ...</td>\n    </tr>\n  </tbody>\n</table>\n</div>",
      "text/plain": "                                        Topic 0 words  \\\n0                                         ลานคนเมือง    \n1                                          chadchart    \n2                        หน้าศาลาว่าการกรุงเทพมหานคร    \n3            ลานคนเมือง  หน้าศาลาว่าการกรุงเทพมหานคร    \n4                              ลานคนเมืองเริ่มคึกคัก    \n5               เพื่อการเติบโตอย่างมีอนาคตและยั่งยืน    \n6                ลานคนเมือง  ศาลาว่าการกรุงเทพมหานคร    \n7                            ศาลาว่าการกรุงเทพมหานคร    \n8                                 ในคูหาใกล้บ้านท่าน    \n9   ลานคนเมือง  ก็ขอให้ทุกท่านเดินทางกลับบ้านโดยสว...   \n10                                        วันนี้ลูกๆ    \n11  เพื่อปฏิบัติตามระเบียบคณะกรรมการการเลือกตั้งว่...   \n12  เพราะหลังจากนี้หน่อยต้องเดินทางหาเสียงทั่วประเทศ    \n13         วันนี้ลูกๆ  พาหน่อยเที่ยวสยามในวันหยุดค่ะ    \n14  เพื่อปฏิบัติตามระเบียบคณะกรรมการการเลือกตั้งว่...   \n15                            และกฎหมายที่เกี่ยวข้อง    \n16  เดือนที่ได้เป็นรัฐบาล  ขอพี่น้องเลือกตั้งอย่าง...   \n17  แก้ไขปัญหาความทุกข์ของพี่น้องคนไทย  เราขอทุ่มเ...   \n18                               เราสองคนขอผนึกกำลัง    \n19  เราขอทุ่มเททำงานกันอย่างสุดความสามารถเพื่อพลิก...   \n20                             เดือนที่ได้เป็นรัฐบาล    \n21                                  พร้อมทีมเพื่อไทย    \n22          พร้อมทีมเพื่อไทย  นักบริหารมืออาชีพทุกคน    \n23  เราขอทุ่มเททำงานกันอย่างสุดความสามารถเพื่อพลิก...   \n24  นักบริหารมืออาชีพทุกคน  แก้ไขปัญหาความทุกข์ของ...   \n25                แก้ไขปัญหาความทุกข์ของพี่น้องคนไทย    \n26                            นักบริหารมืออาชีพทุกคน    \n27             เราสองคนขอผนึกกำลัง  พร้อมทีมเพื่อไทย    \n28  ขอพี่น้องเลือกตั้งอย่างมียุทธศาสตร์ให้เพื่อไทย...   \n29                                เตรียมเสนอร่างฯพรบ    \n\n                                        Topic 1 words  \\\n0                                       พรรคเพื่อไทย    \n1                              เขตห้วยขวาง  กรุงเทพฯ    \n2                                        เขตห้วยขวาง    \n3                                           กรุงเทพฯ    \n4                          พรรคเพื่อไทย  เขตห้วยขวาง    \n5                                 ตามวันเวลาที่ปรากฏ    \n6                       กรุงเทพฯ  ตามวันเวลาที่ปรากฏ    \n7                                            ผลิตโดย    \n8                              ผลิตโดย  พรรคเพื่อไทย    \n9                             เพื่อไทยปราศรัยใหญ่กทม    \n10              เรียนเชิญทุกท่านร่วมรับฟังการปราศรัย    \n11  เรียนเชิญทุกท่านร่วมรับฟังการปราศรัย  ในพื้นที...   \n12                                    ในพื้นที่ต่างๆ    \n13  อย่าเล่นการเมืองแบบเก่าเพื่อปลุกผีความขัดแย้งโ...   \n14  อย่าเล่นการเมืองแบบเก่าเพื่อปลุกผีความขัดแย้งโ...   \n15  ให้เหมาะสมกับสถานการณ์ของประเทศ  ที่ประชาชนคนส...   \n16  ดิฉันจะขอยืนยันความถูกต้อง  ที่ได้เสนอขอปรับลด...   \n17  ที่ประชาชนคนส่วนใหญ่กำลังเดือดร้อนกับปัญหาเศรษ...   \n18  ที่ได้เสนอขอปรับลดงบกระทรวงกลาโหมในส่วนที่ซื้อ...   \n19                      คลิกอ่านต่อเต็มๆได้ที่นี่ค่ะ    \n20  ที่ได้เสนอขอปรับลดงบกระทรวงกลาโหมในส่วนที่ซื้อ...   \n21                   ให้เหมาะสมกับสถานการณ์ของประเทศ    \n22  ที่ประชาชนคนส่วนใหญ่กำลังเดือดร้อนกับปัญหาเศรษ...   \n23                        ดิฉันจะขอยืนยันความถูกต้อง    \n24  หน่อยขอขอบพระคุณพี่น้องประชาชนทุกคนที่มาร่วมผน...   \n25                               แล้วไม่ได้นิ่งนอนใจ    \n26  หน่อยขอขอบพระคุณพี่น้องประชาชนทุกคนที่มาร่วมผน...   \n27                             เวลาประมาณสองทุ่มครับ    \n28                แล้วไม่ได้นิ่งนอนใจ  ประตูเชียงราก    \n29  และเพิ่มพลังให้คนไทยด้วยชุดนโยบายที่เราคิดเพื่...   \n\n                                        Topic 2 words  \\\n0                                            support    \n1                                          atmospher    \n2                                            speaker    \n3                                           ห้วยขวาง    \n4                                         ด้วยนโยบาย    \n5                                            ประชาชน    \n6                                            address    \n7                               ได้เวลา  ตลาดต้นลำไย    \n8                                            ได้เวลา    \n9                                  และสังคม  ประชาชน    \n10                                          และสังคม    \n11     และสะท้อนถึงความสนใจของคนรุ่นใหม่ต่อบ้านเมือง    \n12  และสะท้อนถึงความสนใจของคนรุ่นใหม่ต่อบ้านเมือง ...   \n13         รอฟังคำตอบกันในวันจันทร์ที่จะถึงนี้นะครับ    \n14  ล้านบาทตั้งเป้าหมายในการผลิตผู้ประกอบการรุ่นให...   \n15                                แก้ปัญหาเศรษฐกิจใน    \n16                                        และเงินทุน    \n17         หากเพื่อไทยเป็นรัฐบาล  แก้ปัญหาเศรษฐกิจใน    \n18  ล้านบาทตั้งเป้าหมายในการผลิตผู้ประกอบการรุ่นให...   \n19                             หากเพื่อไทยเป็นรัฐบาล    \n20          ให้พี่น้องมีเงินใช้ยามเกษียณ  ด้วยนโยบาย    \n21                      ให้พี่น้องมีเงินใช้ยามเกษียณ    \n22                ขอให้กำลังใจน้องๆที่จะสอบทุกคนนะคะ    \n23                   ได้รับทราบเรื่องแล้ว  ไม่สบายใจ    \n24                                         ไม่สบายใจ    \n25                     เราจะดำเนินการอย่างเด็ดขาดค่ะ    \n26  เราจะดำเนินการอย่างเด็ดขาดค่ะ  เพื่อให้กำลังใจ...   \n27                              ได้รับทราบเรื่องแล้ว    \n28  และเสียใจมาก  ถ้าบุคคลที่ทำพฤติกรรมอันน่ารังเก...   \n29                            เพื่อให้กำลังใจแล้วค่ะ    \n\n                                        Topic 3 words  \\\n0   หนึ่งในอีกหลายมาตรการแก้วิกฤติเศรษฐกิจของพรรคเ...   \n1                                          เลือกตั้ง    \n2   หนึ่งในอีกหลายมาตรการแก้วิกฤติเศรษฐกิจของพรรคเ...   \n3               เรียนเชิญทุกท่านร่วมรับฟังการปราศรัย    \n4                                     ในพื้นที่ต่างๆ    \n5   เรียนเชิญทุกท่านร่วมรับฟังการปราศรัย  ในพื้นที...   \n6                                          ในกิจกรรม    \n7   ในกิจกรรม  งานนี้เลยต้องขอน้องจินนี่มาเป็นตัวช...   \n8       เพื่อชัยชนะที่ถล่มทลายของพรรคฝ่ายประชาธิปไตย    \n9        เติมกำลังใจในการหาเสียงเลือกตั้งครั้งนี้มาก    \n10  เติมกำลังใจในการหาเสียงเลือกตั้งครั้งนี้มาก  ข...   \n11                ในพื้นที่ต่างๆ  ลานข้างโลตัสรังสิต    \n12  วันนี้หน่อยมาแจ้งความต่อผู้เผยแพร่ข้อความเท็จ ...   \n13                                ลานข้างโลตัสรังสิต    \n14     วันนี้หน่อยมาแจ้งความต่อผู้เผยแพร่ข้อความเท็จ    \n15  เพื่อหวังให้ประชาชนเข้าใจผิดและสร้างความเกลียด...   \n16  เพื่อหวังให้ประชาชนเข้าใจผิดและสร้างความเกลียด...   \n17  ไทยจะเป็นศูนย์กลางการผลิตอาหารปลอดภัยป้อนคนทั้...   \n18  ไทยจะเป็นศูนย์กลางการผลิตอาหารปลอดภัยป้อนคนทั้...   \n19                       วันนี้มาพบปะพี่น้องชาวอีสาน    \n20  ให้ประชาชนคนตัวเล็ก  และเตรียมความพร้อมในการรั...   \n21                        ในพื้นที่ต่างๆ  ข้างโฮมโปร    \n22                       แต่กับประชาชนขยันใช้กันจริง    \n23                               ให้ประชาชนคนตัวเล็ก    \n24                                  เม็ดร้อยเท่านั้น    \n25             เหมือนกับบางพรรค  ที่ตอนเช้าไม่เอาลุง    \n26  เม็ดร้อยเท่านั้น  ต้องถามว่าชาวบ้านเค้ารู้กันท...   \n27                                       สมุทรปราการ    \n28  และเตรียมความพร้อมในการรับมือกับวิกฤติเศรษฐกิจ...   \n29                                       เอาลุงคืนไป    \n\n                                        Topic 4 words  \\\n0                                    ขอบคุณที่แจ้งมา    \n1           เพื่อได้เข้าไปแก้ปัญหาเศรษฐกิจให้พี่น้อง    \n2                       แจ้งผู้เกี่ยวข้องให้แล้วครับ    \n3              สามารถตรวจสอบชื่อทางช่องทางนี้ได้ครับ    \n4                                            ชินวัตร    \n5                      สร้างความเชื่อมั่นให้เศรษฐกิจ    \n6   หัวใจที่ทำให้การเลือกตั้งประสบความสำเร็จอยู่ที...   \n7                                     เดินหน้าสู้ศึก    \n8                            เดินหน้าสู้ศึก  มีอนาคต    \n9   หัวใจที่ทำให้การเลือกตั้งประสบความสำเร็จอยู่ที...   \n10                                           มีอนาคต    \n11  มีอนาคต  หัวใจที่ทำให้การเลือกตั้งประสบความสำเ...   \n12                                           twitter    \n13                                          facebook    \n14                                           อ่านต่อ    \n15  เป็นห่วงความรู้สึกของน้องๆและจะเร่งแก้ปัญหาที่...   \n16                                          เมืองสุข    \n17                             เอี่ยมสะอาด  เมืองสุข    \n18         เสียใจและขอโทษกับเหตุการณ์ที่เกิดขึ้นครับ    \n19                                       เอี่ยมสะอาด    \n20  เป็นห่วงความรู้สึกของน้องๆและจะเร่งแก้ปัญหาที่...   \n21                                       เกษตรแม่นยำ    \n22  โผล่ร่วมงานปราศรัยครั้งใหญ่ของพรรคเพื่อไทยที่ล...   \n23  โผล่ร่วมงานปราศรัยครั้งใหญ่ของพรรคเพื่อไทยที่ล...   \n24                                        ศาลาว่าการ    \n25           ได้แจ้งกกต  ยกเลิกการเป็นผู้ช่วยหาเสียง    \n26         และเพื่อไทยได้จัดการดังนี้ค่ะ  ผู้สมัครสส    \n27                                          แม่หน่อย    \n28  ของผู้ที่ก่อปัญหาแล้ว  ศุภชัยเสียใจมากกับเรื่อ...   \n29                             ของผู้ที่ก่อปัญหาแล้ว    \n\n                                        Topic 5 words  \n0                                            ชินวัตร   \n1                      รับมือการเปลี่ยนแปลงของโลกกับ   \n2             รับมือการเปลี่ยนแปลงของโลกกับ  ชินวัตร   \n3                                        ตั้งแต่เวลา   \n4                             ตั้งแต่เวลา  เป็นต้นไป   \n5                                          เป็นต้นไป   \n6                                           เพื่อไทย   \n7   ขอเรียนเชิญทุกท่านที่หัวใจตรงกันมาพบปะกันตามวั...  \n8                             จะลงพื้นที่พบปะประชาชน   \n9   เป็นต้นไป  ขอเรียนเชิญทุกท่านที่หัวใจตรงกันมาพ...  \n10  เพื่อไทยเห็นความสำคัญของการเติมพลังให้คนตัวเล็...  \n11               จะลงพื้นที่พบปะประชาชน  ตั้งแต่เวลา   \n12                            เพื่อไทย  ขอความชัดเจน   \n13              ใครอยากได้ไลฟ์สด  บอกบุญให้ตามนี้ค่ะ   \n14                                  ใครอยากได้ไลฟ์สด   \n15                      ลิสต์บัญชีสมาชิกพรรคเพื่อไทย   \n16             ลิสต์บัญชีสมาชิกพรรคเพื่อไทย  twitter   \n17  ในวันนี้ทั้งที่เดินทางมาด้วยตนเองหรือติดตามผ่า...  \n18  เพิ่มความคิดสร้างสรรค์เพื่อยกระดับแรงงานและออก...  \n19  ในวันนี้ทั้งที่เดินทางมาด้วยตนเองหรือติดตามผ่า...  \n20  เราจะทำให้ง่ายขึ้นและใช้เทคโนโลยีมาช่วย  ไม่ขู...  \n21        และได้ออกมาใช้สิทธิของท่านเป็นที่เรียบร้อย   \n22                                    สร้างโซนออฟฟิศ   \n23                         เจอกันที่คูหาใกล้บ้านท่าน   \n24    แต่สิ่งที่ผู้นำต้องมีเป็นอันดับแรกคือ  คิดเป็น   \n25               สร้างโซนออฟฟิศ  ดันรายได้ท่องเที่ยว   \n26           เราจะทำให้ง่ายขึ้นและใช้เทคโนโลยีมาช่วย   \n27  ใช้การตลาดนำเทคโนโลยีแปรรูปสินค้าเกษตรเพิ่มมูล...  \n28                ไม่ขูดรีดคนตัวเล็กที่กำลังยากลำบาก   \n29  และได้ออกมาใช้สิทธิของท่านเป็นที่เรียบร้อย  เจ...  "
     },
     "metadata": {
      "transient": {}
     },
     "output_type": "display_data"
    },
    {
     "data": {
      "text/plain": "'party:pprp'"
     },
     "metadata": {
      "transient": {}
     },
     "output_type": "display_data"
    },
    {
     "data": {
      "text/html": "<div>\n<style scoped>\n    .dataframe tbody tr th:only-of-type {\n        vertical-align: middle;\n    }\n\n    .dataframe tbody tr th {\n        vertical-align: top;\n    }\n\n    .dataframe thead th {\n        text-align: right;\n    }\n</style>\n<table border=\"1\" class=\"dataframe\">\n  <thead>\n    <tr style=\"text-align: right;\">\n      <th></th>\n      <th>Topic 0 words</th>\n      <th>Topic 1 words</th>\n      <th>Topic 2 words</th>\n      <th>Topic 3 words</th>\n      <th>Topic 4 words</th>\n      <th>Topic 5 words</th>\n    </tr>\n  </thead>\n  <tbody>\n    <tr>\n      <th>0</th>\n      <td>สาวนายน</td>\n      <td>จันทร์โอชา</td>\n      <td>พรรคพลังประชารัฐ</td>\n      <td>เข้าคูหากา</td>\n      <td>disrupt</td>\n      <td>ไกรเสริม</td>\n    </tr>\n    <tr>\n      <th>1</th>\n      <td>ผลิตโดย</td>\n      <td>ค่าแรงขั้นต่ำ</td>\n      <td>ภูตระกูล</td>\n      <td>พลังประชารัฐ</td>\n      <td>ที่ทำการพรรคพลังประชารัฐ  ติดตามข่าวสารของพรรค...</td>\n      <td>เครดิตภาพ</td>\n    </tr>\n    <tr>\n      <th>2</th>\n      <td>หัวหน้าพรรคพลังประชารัฐ</td>\n      <td>บัตรประชารัฐ</td>\n      <td>อ่านต่อ</td>\n      <td>ก้าวข้ามความขัดแย้ง</td>\n      <td>ที่ทำการพรรคพลังประชารัฐ</td>\n      <td>ไกรเสริม  โตทับเที่ยง</td>\n    </tr>\n    <tr>\n      <th>3</th>\n      <td>สาวนายน  หัวหน้าพรรคพลังประชารัฐ</td>\n      <td>ค่าแรงขั้นต่ำ  บาทคืออะไร</td>\n      <td>จากนี้ไป</td>\n      <td>เลือกความสงบ</td>\n      <td>ติดตามข่าวสารของพรรคพลังประชารัฐ</td>\n      <td>โตทับเที่ยง</td>\n    </tr>\n    <tr>\n      <th>4</th>\n      <td>คนพิการ</td>\n      <td>บาทคืออะไร</td>\n      <td>รวยยังไง</td>\n      <td>bangkok</td>\n      <td>thailand</td>\n      <td>เลือกตั้ง</td>\n    </tr>\n    <tr>\n      <th>5</th>\n      <td>ย้อนหลังค่ะ</td>\n      <td>ปีที่ผ่านมา</td>\n      <td>พี่น้องชาว</td>\n      <td>symphoni</td>\n      <td>มีสัดส่วนหนี้ลงครั้งแรกในรอบ</td>\n      <td>ผู้สมัคร</td>\n    </tr>\n    <tr>\n      <th>6</th>\n      <td>มีแนวนโยบายและที่มางบประมาณ</td>\n      <td>ที่ผ่านมา</td>\n      <td>อนาคตของชาติจากโครงการ</td>\n      <td>bangkok  เข้าคูหากา</td>\n      <td>รวยอะไรบ้าง</td>\n      <td>อย่าลังเลใจ</td>\n    </tr>\n    <tr>\n      <th>7</th>\n      <td>สู้ๆนะฮะ</td>\n      <td>ตั้งแต่เวลา</td>\n      <td>อาจไม่ไพเราะ</td>\n      <td>เพศสภาพ</td>\n      <td>instagram</td>\n      <td>ยิ่งสงบ</td>\n    </tr>\n    <tr>\n      <th>8</th>\n      <td>ทุกรุ่น</td>\n      <td>ตั้งแต่เวลา  เป็นต้นไป</td>\n      <td>ปราศรัย</td>\n      <td>เคารพการตัดสินใจของ</td>\n      <td>ติดตามข่าวสารของพรรคพลังประชารัฐ  instagram</td>\n      <td>ยิ่งมั่นคง</td>\n    </tr>\n    <tr>\n      <th>9</th>\n      <td>นายอุตตม</td>\n      <td>เป็นรัฐบาล</td>\n      <td>โปรไฟล์ผู้สมัครกทม  แต่ที่สำคัญคือพร้อมพัฒนาให...</td>\n      <td>หนังสือคือเพื่อนเราทุกคน</td>\n      <td>deepest</td>\n      <td>ยิ่งสงบ  ยิ่งมั่นคง</td>\n    </tr>\n    <tr>\n      <th>10</th>\n      <td>นายอุตตม  สาวนายน</td>\n      <td>จะสานต่อ</td>\n      <td>และประเทศไทยดียิ่งขึ้นกว่าเดิมค่ะ</td>\n      <td>ที่นั่ง</td>\n      <td>เครดิตภาพ</td>\n      <td>ร้อยเอ็ด</td>\n    </tr>\n    <tr>\n      <th>11</th>\n      <td>หัวหน้าพรรคพลังประชารัฐ  พร้อมแกนนำพรรค</td>\n      <td>เป็นต้นไป</td>\n      <td>แต่ที่สำคัญคือพร้อมพัฒนาให้กรุงเทพ  และประเทศไ...</td>\n      <td>เข้าใจง่ายๆ</td>\n      <td>รู้จักความเจ็บปวดของการกินไม่คล่อง  นอนไม่หลับ</td>\n      <td>ติดตามข่าวสารของพรรคพลังประชารัฐ  facebook</td>\n    </tr>\n    <tr>\n      <th>12</th>\n      <td>พร้อมแกนนำพรรค</td>\n      <td>ภูตระกูล</td>\n      <td>โปรไฟล์ผู้สมัครกทม</td>\n      <td>คืนความสงบสุขให้ประเทศไทย  เข้าคูหากา</td>\n      <td>รู้จักความเจ็บปวดของการกินไม่คล่อง</td>\n      <td>สุโขทัย</td>\n    </tr>\n    <tr>\n      <th>13</th>\n      <td>พี่น้องชาว  สาวนายน</td>\n      <td>อ่านต่อ</td>\n      <td>แต่ที่สำคัญคือพร้อมพัฒนาให้กรุงเทพ</td>\n      <td>คืนความสงบสุขให้ประเทศไทย</td>\n      <td>รองหัวหน้าพรรคพลังประชารัฐ</td>\n      <td>เจอกันค่ะชาว</td>\n    </tr>\n    <tr>\n      <th>14</th>\n      <td>พี่น้องชาว</td>\n      <td>เครดิตภาพจากเพจ</td>\n      <td>เพศสภาพ</td>\n      <td>รณรงค์การเลือกตั้ง</td>\n      <td>มีรัฐบาลนึงที่กล้าปิดเกาะ  ฟื้นฟูสิ่งแวดล้อม</td>\n      <td>อยากมาทุกวันเลยครับ</td>\n    </tr>\n    <tr>\n      <th>15</th>\n      <td>หาเสียง  แน่นขนัด</td>\n      <td>เก็บตกงานเปิดตัวเครือข่ายพลัง</td>\n      <td>sandbox</td>\n      <td>พรรคพลังประชารัฐ  พลังประชารัฐ</td>\n      <td>มีรัฐบาลนึงที่กล้าปิดเกาะ</td>\n      <td>คุณชอบนโยบายไหนที่สุดที่จะนำมาปรับใช้ในกรุงเทพฯ</td>\n    </tr>\n    <tr>\n      <th>16</th>\n      <td>เช้านี้ไปจตุจักร</td>\n      <td>อย่างไรก็ตาม</td>\n      <td>รวยยังไง  มาดูกันค่ะ</td>\n      <td>พร้อมผู้สมัคร</td>\n      <td>มุมมองดีๆของตัวแทนหน้าใหม่จาก</td>\n      <td>รับค่าแรงขั้นต่ำ</td>\n    </tr>\n    <tr>\n      <th>17</th>\n      <td>อาทิตย์นี้นำเสนอ  นโยบายที่หลายคนจับตามอง</td>\n      <td>เป็นรัฐบาล  ดูแลตั้งแต่ตั้งครรภ์ยัน</td>\n      <td>คนไทยต้อง</td>\n      <td>พร้อมผู้สมัคร  นายธวัชชัย</td>\n      <td>มุมมองดีๆของตัวแทนหน้าใหม่จาก  เพื่อไทย</td>\n      <td>ติดตามข่าวสารของพรรคพลังประชารัฐ</td>\n    </tr>\n    <tr>\n      <th>18</th>\n      <td>airthai</td>\n      <td>ดูแลตั้งแต่ตั้งครรภ์ยัน</td>\n      <td>อ่านต่อ  พลังประชารัฐ</td>\n      <td>เลือกความสงบ  พรรคพลังประชารัฐ</td>\n      <td>หาข้อมูลรอบด้าน</td>\n      <td>facebook</td>\n    </tr>\n    <tr>\n      <th>19</th>\n      <td>หากเจอปัญหาอีก  ติดป้ายอย่างนี้ไม่เกะกะขวางทาง</td>\n      <td>ดูแลตั้งแต่ตั้งครรภ์ยัน  อ่านต่อ</td>\n      <td>เชิญชวนพี่น้องติดตามชมการแสดงวิสัยทัศน์และความ...</td>\n      <td>นายธวัชชัย</td>\n      <td>เครดิตภาพจาก</td>\n      <td>เครดิตภาพ  suwannakorn</td>\n    </tr>\n    <tr>\n      <th>20</th>\n      <td>เช้านี้ไปจตุจักร  ไปติดตามการแก้ปัญหาและจัดระเ...</td>\n      <td>สนามกีฬาเทพหัสดิน</td>\n      <td>ยันทำทันทีหากเป็นรัฐบาล  ดูเพิ่มเติม</td>\n      <td>พร้อมดัน</td>\n      <td>เคยเห็นภาพแบบนี้ในยุคไหนบ้าง  เครดิตภาพจาก</td>\n      <td>ทุกรุ่น</td>\n    </tr>\n    <tr>\n      <th>21</th>\n      <td>รถสองแถว  มาฟังปราศัยแน่นศาลากลางหลังเก่า</td>\n      <td>สนามกีฬาเทพหัสดิน  กรุงเทพฯ</td>\n      <td>เชิญชวนพี่น้องติดตามชมการแสดงวิสัยทัศน์และความ...</td>\n      <td>นครราชสีมา</td>\n      <td>หาเสียงที่ตลาดสดห้วยขวาง</td>\n      <td>รอยยิ้ม  ความมีเมตตาและน้ำใจจริงของคนไทยให้กลั...</td>\n    </tr>\n    <tr>\n      <th>22</th>\n      <td>อุตสาหกรรม  สู่การก้าวสู่การเปลี่ยนแปลงบ้านเมื...</td>\n      <td>พลังประชารัฐ</td>\n      <td>ยันทำทันทีหากเป็นรัฐบาล</td>\n      <td>ปราศรัย</td>\n      <td>เคยเห็นภาพแบบนี้ในยุคไหนบ้าง</td>\n      <td>อัพเดทล่าสุด  มอเตอร์เวย์บางปะอิน</td>\n    </tr>\n    <tr>\n      <th>23</th>\n      <td>เขตบางซื่อ</td>\n      <td>กรุงเทพฯ</td>\n      <td>เพิ่มพื้นที่สีเขียว</td>\n      <td>อ่านต่อ</td>\n      <td>รณรงค์วัยรุ่นไปใช้สิทธิ์เลือกตั้งครั้งแรกอย่าง...</td>\n      <td>อดีตนายกฯหลายคนก็เคยปฏิเสธ  เผยพื้นที่อีสานคนตอบ</td>\n    </tr>\n    <tr>\n      <th>24</th>\n      <td>อุตสาหกรรม</td>\n      <td>สู่เส้นทางประชาธิปไตย</td>\n      <td>ออกมาบอกว่าไม่เอา  ว่าต้องให้ประชาชนเป็นผู้ตัด...</td>\n      <td>พรรคพลังประชารัฐ</td>\n      <td>หาข้อมูลรอบด้าน  เพื่อเลือกคนดีคนเก่งเข้ามาพัฒ...</td>\n      <td>หลานจัสติน่า  และชาวขอนแก่นทุกคนที่มาให้การต้อ...</td>\n    </tr>\n    <tr>\n      <th>25</th>\n      <td>เขตบางซื่อ  ดุสิตกินหมูกระทะอย่างเป็นกันเอง</td>\n      <td>อนุมัติแล้ว  เป็นประโยชน์กับพี่น้องประชาชนแน่น...</td>\n      <td>ออกมาบอกว่าไม่เอา</td>\n      <td>เลือกความสงบ  เข้าคูหากา</td>\n      <td>หาเสียงที่ตลาดสดห้วยขวาง  พร้อมเสนอแนวทางสร้าง...</td>\n      <td>รวยต่อไม่รอแล้วค่ะ  แจงประเด็น</td>\n    </tr>\n    <tr>\n      <th>26</th>\n      <td>อาทิตย์นี้นำเสนอ</td>\n      <td>อุทยานจุฬาฯ</td>\n      <td>ยืนยันไม่ขอก้าวล่วงเพราะเป็นเรื่องภายในองค์กร</td>\n      <td>ฮิๆๆๆๆๆ</td>\n      <td>ห้วยขวาง</td>\n      <td>หนุนเศรษฐกิจประเทศ  ในงานประชันนโยบายด้านเศรษฐ...</td>\n    </tr>\n    <tr>\n      <th>27</th>\n      <td>หากเจอปัญหาอีก</td>\n      <td>ลดความเลื่อมล้ำ  เวทีดีเบตของมหาวิทยาลัยหอการค้า</td>\n      <td>หลักการสำคัญไม่กินเวลาราชการ</td>\n      <td>อ่านต่อ  เข้าคูหากา</td>\n      <td>เพื่อไทย</td>\n      <td>อดีตแกนนำเสื้อแดง  ล้มการประชุมอาเซียนซัมมิท</td>\n    </tr>\n    <tr>\n      <th>28</th>\n      <td>อนุมัติรถไฟสายสีแดงอ่อนพร้อมส่วนต่อขยายแล้วนะค...</td>\n      <td>อาคารบรรยายเรียนรวม</td>\n      <td>ยืนยันไม่ขอก้าวล่วงเพราะเป็นเรื่องภายในองค์กร ...</td>\n      <td>เคลียร์ทุกประเด็น  และการสืบทอดอำนาจ</td>\n      <td>ทีปสุวรรณ</td>\n      <td>หลานจัสติน่า</td>\n    </tr>\n    <tr>\n      <th>29</th>\n      <td>อนุมัติรถไฟสายสีแดงอ่อนพร้อมส่วนต่อขยายแล้วนะค...</td>\n      <td>อาคารบรรยายเรียนรวม  ศูนย์รังสิต</td>\n      <td>หมื่นพล  ตบเท้าเข้ามาสมัครสมาชิกพรรค</td>\n      <td>รวมที่ใช้สร้างทรัพยากรพัฒนาประเทศ</td>\n      <td>นายณัฏฐพล</td>\n      <td>อดีตแกนนำเสื้อแดง</td>\n    </tr>\n  </tbody>\n</table>\n</div>",
      "text/plain": "                                        Topic 0 words  \\\n0                                            สาวนายน    \n1                                            ผลิตโดย    \n2                            หัวหน้าพรรคพลังประชารัฐ    \n3                   สาวนายน  หัวหน้าพรรคพลังประชารัฐ    \n4                                            คนพิการ    \n5                                        ย้อนหลังค่ะ    \n6                        มีแนวนโยบายและที่มางบประมาณ    \n7                                           สู้ๆนะฮะ    \n8                                            ทุกรุ่น    \n9                                           นายอุตตม    \n10                                 นายอุตตม  สาวนายน    \n11           หัวหน้าพรรคพลังประชารัฐ  พร้อมแกนนำพรรค    \n12                                    พร้อมแกนนำพรรค    \n13                               พี่น้องชาว  สาวนายน    \n14                                        พี่น้องชาว    \n15                                 หาเสียง  แน่นขนัด    \n16                                  เช้านี้ไปจตุจักร    \n17         อาทิตย์นี้นำเสนอ  นโยบายที่หลายคนจับตามอง    \n18                                           airthai    \n19    หากเจอปัญหาอีก  ติดป้ายอย่างนี้ไม่เกะกะขวางทาง    \n20  เช้านี้ไปจตุจักร  ไปติดตามการแก้ปัญหาและจัดระเ...   \n21         รถสองแถว  มาฟังปราศัยแน่นศาลากลางหลังเก่า    \n22  อุตสาหกรรม  สู่การก้าวสู่การเปลี่ยนแปลงบ้านเมื...   \n23                                        เขตบางซื่อ    \n24                                        อุตสาหกรรม    \n25       เขตบางซื่อ  ดุสิตกินหมูกระทะอย่างเป็นกันเอง    \n26                                  อาทิตย์นี้นำเสนอ    \n27                                    หากเจอปัญหาอีก    \n28  อนุมัติรถไฟสายสีแดงอ่อนพร้อมส่วนต่อขยายแล้วนะค...   \n29  อนุมัติรถไฟสายสีแดงอ่อนพร้อมส่วนต่อขยายแล้วนะค...   \n\n                                        Topic 1 words  \\\n0                                         จันทร์โอชา    \n1                                      ค่าแรงขั้นต่ำ    \n2                                       บัตรประชารัฐ    \n3                          ค่าแรงขั้นต่ำ  บาทคืออะไร    \n4                                         บาทคืออะไร    \n5                                        ปีที่ผ่านมา    \n6                                          ที่ผ่านมา    \n7                                        ตั้งแต่เวลา    \n8                             ตั้งแต่เวลา  เป็นต้นไป    \n9                                         เป็นรัฐบาล    \n10                                          จะสานต่อ    \n11                                         เป็นต้นไป    \n12                                          ภูตระกูล    \n13                                           อ่านต่อ    \n14                                   เครดิตภาพจากเพจ    \n15                     เก็บตกงานเปิดตัวเครือข่ายพลัง    \n16                                      อย่างไรก็ตาม    \n17               เป็นรัฐบาล  ดูแลตั้งแต่ตั้งครรภ์ยัน    \n18                           ดูแลตั้งแต่ตั้งครรภ์ยัน    \n19                  ดูแลตั้งแต่ตั้งครรภ์ยัน  อ่านต่อ    \n20                                 สนามกีฬาเทพหัสดิน    \n21                       สนามกีฬาเทพหัสดิน  กรุงเทพฯ    \n22                                      พลังประชารัฐ    \n23                                          กรุงเทพฯ    \n24                             สู่เส้นทางประชาธิปไตย    \n25  อนุมัติแล้ว  เป็นประโยชน์กับพี่น้องประชาชนแน่น...   \n26                                       อุทยานจุฬาฯ    \n27  ลดความเลื่อมล้ำ  เวทีดีเบตของมหาวิทยาลัยหอการค้า    \n28                               อาคารบรรยายเรียนรวม    \n29                  อาคารบรรยายเรียนรวม  ศูนย์รังสิต    \n\n                                        Topic 2 words  \\\n0                                   พรรคพลังประชารัฐ    \n1                                           ภูตระกูล    \n2                                            อ่านต่อ    \n3                                           จากนี้ไป    \n4                                           รวยยังไง    \n5                                         พี่น้องชาว    \n6                             อนาคตของชาติจากโครงการ    \n7                                       อาจไม่ไพเราะ    \n8                                            ปราศรัย    \n9   โปรไฟล์ผู้สมัครกทม  แต่ที่สำคัญคือพร้อมพัฒนาให...   \n10                 และประเทศไทยดียิ่งขึ้นกว่าเดิมค่ะ    \n11  แต่ที่สำคัญคือพร้อมพัฒนาให้กรุงเทพ  และประเทศไ...   \n12                                โปรไฟล์ผู้สมัครกทม    \n13                แต่ที่สำคัญคือพร้อมพัฒนาให้กรุงเทพ    \n14                                           เพศสภาพ    \n15                                           sandbox    \n16                              รวยยังไง  มาดูกันค่ะ    \n17                                         คนไทยต้อง    \n18                             อ่านต่อ  พลังประชารัฐ    \n19  เชิญชวนพี่น้องติดตามชมการแสดงวิสัยทัศน์และความ...   \n20              ยันทำทันทีหากเป็นรัฐบาล  ดูเพิ่มเติม    \n21  เชิญชวนพี่น้องติดตามชมการแสดงวิสัยทัศน์และความ...   \n22                           ยันทำทันทีหากเป็นรัฐบาล    \n23                               เพิ่มพื้นที่สีเขียว    \n24  ออกมาบอกว่าไม่เอา  ว่าต้องให้ประชาชนเป็นผู้ตัด...   \n25                                 ออกมาบอกว่าไม่เอา    \n26     ยืนยันไม่ขอก้าวล่วงเพราะเป็นเรื่องภายในองค์กร    \n27                      หลักการสำคัญไม่กินเวลาราชการ    \n28  ยืนยันไม่ขอก้าวล่วงเพราะเป็นเรื่องภายในองค์กร ...   \n29              หมื่นพล  ตบเท้าเข้ามาสมัครสมาชิกพรรค    \n\n                             Topic 3 words  \\\n0                              เข้าคูหากา    \n1                            พลังประชารัฐ    \n2                     ก้าวข้ามความขัดแย้ง    \n3                            เลือกความสงบ    \n4                                 bangkok    \n5                                symphoni    \n6                     bangkok  เข้าคูหากา    \n7                                 เพศสภาพ    \n8                     เคารพการตัดสินใจของ    \n9                หนังสือคือเพื่อนเราทุกคน    \n10                                ที่นั่ง    \n11                            เข้าใจง่ายๆ    \n12  คืนความสงบสุขให้ประเทศไทย  เข้าคูหากา    \n13              คืนความสงบสุขให้ประเทศไทย    \n14                     รณรงค์การเลือกตั้ง    \n15         พรรคพลังประชารัฐ  พลังประชารัฐ    \n16                          พร้อมผู้สมัคร    \n17              พร้อมผู้สมัคร  นายธวัชชัย    \n18         เลือกความสงบ  พรรคพลังประชารัฐ    \n19                             นายธวัชชัย    \n20                               พร้อมดัน    \n21                             นครราชสีมา    \n22                                ปราศรัย    \n23                                อ่านต่อ    \n24                       พรรคพลังประชารัฐ    \n25               เลือกความสงบ  เข้าคูหากา    \n26                                ฮิๆๆๆๆๆ    \n27                    อ่านต่อ  เข้าคูหากา    \n28   เคลียร์ทุกประเด็น  และการสืบทอดอำนาจ    \n29      รวมที่ใช้สร้างทรัพยากรพัฒนาประเทศ    \n\n                                        Topic 4 words  \\\n0                                            disrupt    \n1   ที่ทำการพรรคพลังประชารัฐ  ติดตามข่าวสารของพรรค...   \n2                           ที่ทำการพรรคพลังประชารัฐ    \n3                   ติดตามข่าวสารของพรรคพลังประชารัฐ    \n4                                           thailand    \n5                       มีสัดส่วนหนี้ลงครั้งแรกในรอบ    \n6                                        รวยอะไรบ้าง    \n7                                          instagram    \n8        ติดตามข่าวสารของพรรคพลังประชารัฐ  instagram    \n9                                            deepest    \n10                                         เครดิตภาพ    \n11    รู้จักความเจ็บปวดของการกินไม่คล่อง  นอนไม่หลับ    \n12                รู้จักความเจ็บปวดของการกินไม่คล่อง    \n13                        รองหัวหน้าพรรคพลังประชารัฐ    \n14      มีรัฐบาลนึงที่กล้าปิดเกาะ  ฟื้นฟูสิ่งแวดล้อม    \n15                         มีรัฐบาลนึงที่กล้าปิดเกาะ    \n16                     มุมมองดีๆของตัวแทนหน้าใหม่จาก    \n17           มุมมองดีๆของตัวแทนหน้าใหม่จาก  เพื่อไทย    \n18                                   หาข้อมูลรอบด้าน    \n19                                      เครดิตภาพจาก    \n20        เคยเห็นภาพแบบนี้ในยุคไหนบ้าง  เครดิตภาพจาก    \n21                          หาเสียงที่ตลาดสดห้วยขวาง    \n22                      เคยเห็นภาพแบบนี้ในยุคไหนบ้าง    \n23  รณรงค์วัยรุ่นไปใช้สิทธิ์เลือกตั้งครั้งแรกอย่าง...   \n24  หาข้อมูลรอบด้าน  เพื่อเลือกคนดีคนเก่งเข้ามาพัฒ...   \n25  หาเสียงที่ตลาดสดห้วยขวาง  พร้อมเสนอแนวทางสร้าง...   \n26                                          ห้วยขวาง    \n27                                          เพื่อไทย    \n28                                         ทีปสุวรรณ    \n29                                         นายณัฏฐพล    \n\n                                        Topic 5 words  \n0                                           ไกรเสริม   \n1                                          เครดิตภาพ   \n2                              ไกรเสริม  โตทับเที่ยง   \n3                                        โตทับเที่ยง   \n4                                          เลือกตั้ง   \n5                                           ผู้สมัคร   \n6                                        อย่าลังเลใจ   \n7                                            ยิ่งสงบ   \n8                                         ยิ่งมั่นคง   \n9                                ยิ่งสงบ  ยิ่งมั่นคง   \n10                                          ร้อยเอ็ด   \n11        ติดตามข่าวสารของพรรคพลังประชารัฐ  facebook   \n12                                           สุโขทัย   \n13                                      เจอกันค่ะชาว   \n14                               อยากมาทุกวันเลยครับ   \n15   คุณชอบนโยบายไหนที่สุดที่จะนำมาปรับใช้ในกรุงเทพฯ   \n16                                  รับค่าแรงขั้นต่ำ   \n17                  ติดตามข่าวสารของพรรคพลังประชารัฐ   \n18                                          facebook   \n19                            เครดิตภาพ  suwannakorn   \n20                                           ทุกรุ่น   \n21  รอยยิ้ม  ความมีเมตตาและน้ำใจจริงของคนไทยให้กลั...  \n22                 อัพเดทล่าสุด  มอเตอร์เวย์บางปะอิน   \n23  อดีตนายกฯหลายคนก็เคยปฏิเสธ  เผยพื้นที่อีสานคนตอบ   \n24  หลานจัสติน่า  และชาวขอนแก่นทุกคนที่มาให้การต้อ...  \n25                    รวยต่อไม่รอแล้วค่ะ  แจงประเด็น   \n26  หนุนเศรษฐกิจประเทศ  ในงานประชันนโยบายด้านเศรษฐ...  \n27      อดีตแกนนำเสื้อแดง  ล้มการประชุมอาเซียนซัมมิท   \n28                                      หลานจัสติน่า   \n29                                 อดีตแกนนำเสื้อแดง   "
     },
     "metadata": {
      "transient": {}
     },
     "output_type": "display_data"
    }
   ],
   "source": [
    "#without hastags\n",
    "for i in range(len(p)):\n",
    "    display('party:{}'.format(p[i]), display_topics(All[i],'tweet'))"
   ]
  },
  {
   "cell_type": "code",
   "execution_count": null,
   "metadata": {},
   "outputs": [],
   "source": []
  }
 ],
 "metadata": {
  "kernelspec": {
   "name": "python3",
   "display_name": "Python 3.8.5 64-bit (conda)"
  },
  "language_info": {
   "codemirror_mode": {
    "name": "ipython",
    "version": 3
   },
   "file_extension": ".py",
   "mimetype": "text/x-python",
   "name": "python",
   "nbconvert_exporter": "python",
   "pygments_lexer": "ipython3",
   "version": "3.8.5"
  },
  "orig_nbformat": 2,
  "interpreter": {
   "hash": "e5e8936b35ae2ff82fa3c50ddf2998722acd13e83eaad9f62c0e4c9661cfcdaf"
  }
 },
 "nbformat": 4,
 "nbformat_minor": 2
}